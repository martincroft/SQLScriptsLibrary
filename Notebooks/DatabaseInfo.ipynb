{
    "metadata": {
        "kernelspec": {
            "name": "SQL",
            "display_name": "SQL",
            "language": "sql"
        },
        "language_info": {
            "name": "sql",
            "version": ""
        },
        "extensions": {
            "azuredatastudio": {
                "version": 1,
                "views": []
            }
        }
    },
    "nbformat_minor": 2,
    "nbformat": 4,
    "cells": [
        {
            "cell_type": "markdown",
            "source": [
                "## [Home](file:///C:/SQLScriptsLibrary/Home.ipynb)"
            ],
            "metadata": {
                "azdata_cell_guid": "333b441a-8874-40cd-947a-c35aad0d4639",
                "extensions": {
                    "azuredatastudio": {
                        "views": []
                    }
                }
            }
        },
        {
            "cell_type": "markdown",
            "source": [
                "## Database Infomation\n",
                "\n",
                "> - List all databases as a single line, comma seperated (Query 1)\n",
                ""
            ],
            "metadata": {
                "azdata_cell_guid": "99b98758-2dda-47db-9afa-e2507357cbb3"
            },
            "attachments": {}
        },
        {
            "cell_type": "markdown",
            "source": [
                "## [Home](file:///C:/SQLScriptsLibrary/Home.ipynb)"
            ],
            "metadata": {
                "azdata_cell_guid": "7fba0087-8d3b-495a-badb-af2da450522f"
            }
        },
        {
            "cell_type": "code",
            "source": [
                "/* List of databases single line.sql  #SQL */\r\n",
                "\r\n",
                ";WITH Cte (Servername,DatabaseName)\r\n",
                "AS\r\n",
                "( \r\n",
                "SELECT @@ServerName AS ServerName, COALESCE(Name,'') FROM\r\n",
                "sys.Databases\r\n",
                "where name not in('master','tempdb','model','msdb','dbatools')\r\n",
                ")\r\n",
                ",cte_databases\r\n",
                "AS\r\n",
                "(\r\n",
                "SELECT  ServerName , STUFF(( SELECT ',' +  DatabaseName\r\n",
                "FROM Cte  t1\r\n",
                "\r\n",
                "ORDER BY 1  \r\n",
                "FOR XML PATH('')\r\n",
                "),1,1,'') AS Databases\r\n",
                "FROM Cte t2\r\n",
                ")\r\n",
                "\r\n",
                "SELECT distinct * FROM cte_databases\r\n",
                "go\r\n",
                "\r\n",
                "\r\n",
                ""
            ],
            "metadata": {
                "azdata_cell_guid": "381e2980-95df-4ad3-8e7c-a714e1a97c50"
            },
            "outputs": [
                {
                    "output_type": "display_data",
                    "data": {
                        "text/html": "(1 row affected)"
                    },
                    "metadata": {}
                },
                {
                    "output_type": "display_data",
                    "data": {
                        "text/html": "Total execution time: 00:00:00.051"
                    },
                    "metadata": {}
                },
                {
                    "output_type": "execute_result",
                    "metadata": {},
                    "execution_count": 3,
                    "data": {
                        "application/vnd.dataresource+json": {
                            "schema": {
                                "fields": [
                                    {
                                        "name": "ServerName"
                                    },
                                    {
                                        "name": "Databases"
                                    }
                                ]
                            },
                            "data": [
                                {
                                    "0": "JURGEN",
                                    "1": "AdventureWorks2019,MIH"
                                }
                            ]
                        },
                        "text/html": [
                            "<table>",
                            "<tr><th>ServerName</th><th>Databases</th></tr>",
                            "<tr><td>JURGEN</td><td>AdventureWorks2019,MIH</td></tr>",
                            "</table>"
                        ]
                    }
                }
            ],
            "execution_count": 3
        }
    ]
}