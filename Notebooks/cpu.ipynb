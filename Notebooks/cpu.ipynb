{
    "metadata": {
        "kernelspec": {
            "name": "SQL",
            "display_name": "SQL",
            "language": "sql"
        },
        "language_info": {
            "name": "sql",
            "version": ""
        }
    },
    "nbformat_minor": 2,
    "nbformat": 4,
    "cells": [
        {
            "cell_type": "markdown",
            "source": [
                "## [Home](file:///C:/SQLScriptsLibrary/Home.ipynb)"
            ],
            "metadata": {
                "azdata_cell_guid": "333b441a-8874-40cd-947a-c35aad0d4639"
            }
        },
        {
            "cell_type": "markdown",
            "source": [
                "> **CPU Queries**\n",
                "> - Create a 100% CPU spike - useful for testing, less so for production (1.0)"
            ],
            "metadata": {
                "azdata_cell_guid": "8c9199f4-84e7-4556-9df5-9c275cba88ff"
            }
        },
        {
            "cell_type": "code",
            "source": [
                "/* Create 100 % CPU spike % */\n",
                "--Not for Production!\n",
                "\n",
                "SELECT MyInt = CONVERT(BIGINT, o1.object_id) + CONVERT(BIGINT, o2.object_id) + CONVERT(BIGINT, o3.object_id)\n",
                "INTO #temp\n",
                "FROM sys.objects o1\n",
                "JOIN sys.objects o2 ON o1.object_id < o2.object_id\n",
                "JOIN sys.objects o3 ON o1.object_id < o3.object_id\n",
                "SELECT SUM(CONVERT(BIGINT, o1.MyInt) + CONVERT(BIGINT, o2.MyInt))\n",
                "FROM #temp o1\n",
                "JOIN #temp o2 ON o1.MyInt < o2.MyInt\n",
                ""
            ],
            "metadata": {
                "azdata_cell_guid": "48b90087-ccbb-43b3-809b-11f3d28db82e"
            },
            "outputs": [],
            "execution_count": null
        },
        {
            "cell_type": "markdown",
            "source": [
                "## [Home](file:///C:/SQLScriptsLibrary/Home.ipynb)"
            ],
            "metadata": {
                "azdata_cell_guid": "a0cf4599-5a47-487a-9dc7-ecbe44a9bc5c"
            }
        }
    ]
}