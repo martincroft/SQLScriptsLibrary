{
    "metadata": {
        "kernelspec": {
            "name": "SQL",
            "display_name": "SQL",
            "language": "sql"
        },
        "language_info": {
            "name": "sql",
            "version": ""
        },
        "extensions": {
            "azuredatastudio": {
                "version": 1,
                "views": []
            }
        }
    },
    "nbformat_minor": 2,
    "nbformat": 4,
    "cells": [
        {
            "cell_type": "markdown",
            "source": [
                "## [Home](file:///C:/SQLScriptsLibrary/Home.ipynb)"
            ],
            "metadata": {
                "azdata_cell_guid": "333b441a-8874-40cd-947a-c35aad0d4639",
                "extensions": {
                    "azuredatastudio": {
                        "views": []
                    }
                }
            }
        },
        {
            "cell_type": "markdown",
            "source": [
                "# Emails\n",
                "\n",
                "> - Email Addresses in SQL Comments (Q1)\n",
                "> - List of all email addresses emailed on server (Q2)"
            ],
            "metadata": {
                "azdata_cell_guid": "665be742-c206-406e-9482-48aa1ab69f6c"
            },
            "attachments": {}
        },
        {
            "cell_type": "markdown",
            "source": [
                "> - Email Addresses in SQL Comments  (Q1)"
            ],
            "metadata": {
                "azdata_cell_guid": "5a89624d-4989-4246-825c-a7583726b16c"
            }
        },
        {
            "cell_type": "code",
            "source": [
                "-- Email addresses in syscomments.sql  #SQL (Q1)\r\n",
                "SELECT object_name(id)\r\n",
                "\t,*\r\n",
                "FROM syscomments\r\n",
                "WHERE TEXT LIKE '%[a-z]@%'\r\n",
                ""
            ],
            "metadata": {
                "azdata_cell_guid": "85ba123b-d384-4e0a-bc21-459236765298"
            },
            "outputs": [
                {
                    "output_type": "display_data",
                    "data": {
                        "text/html": "(0 rows affected)"
                    },
                    "metadata": {}
                },
                {
                    "output_type": "display_data",
                    "data": {
                        "text/html": "Total execution time: 00:00:00.102"
                    },
                    "metadata": {}
                },
                {
                    "output_type": "execute_result",
                    "metadata": {},
                    "execution_count": 9,
                    "data": {
                        "application/vnd.dataresource+json": {
                            "schema": {
                                "fields": [
                                    {
                                        "name": "(No column name)"
                                    },
                                    {
                                        "name": "id"
                                    },
                                    {
                                        "name": "number"
                                    },
                                    {
                                        "name": "colid"
                                    },
                                    {
                                        "name": "status"
                                    },
                                    {
                                        "name": "ctext"
                                    },
                                    {
                                        "name": "texttype"
                                    },
                                    {
                                        "name": "language"
                                    },
                                    {
                                        "name": "encrypted"
                                    },
                                    {
                                        "name": "compressed"
                                    },
                                    {
                                        "name": "text"
                                    }
                                ]
                            },
                            "data": []
                        },
                        "text/html": [
                            "<table>",
                            "<tr><th>(No column name)</th><th>id</th><th>number</th><th>colid</th><th>status</th><th>ctext</th><th>texttype</th><th>language</th><th>encrypted</th><th>compressed</th><th>text</th></tr>",
                            "</table>"
                        ]
                    }
                }
            ],
            "execution_count": 9
        },
        {
            "cell_type": "markdown",
            "source": [
                "> - List all emails addresses send from the server  (Q2)"
            ],
            "metadata": {
                "azdata_cell_guid": "c7555850-fdf0-4be8-9546-2d5ed3719c19"
            }
        },
        {
            "cell_type": "code",
            "source": [
                "/* -- List All email addresses emailed from server */\r\n",
                "WITH CTE_Email\r\n",
                "AS\r\n",
                "(\r\n",
                "\t--SELECT  recipients FROM MSDB.[dbo].[sysmail_allitems]\r\n",
                "\tSELECT Email AS Recipients FROM \r\n",
                "\t(values \r\n",
                "\t\t('Martin.Croft@SQLServerSolutions.com'), \r\n",
                "\t\t('Someone@MyWorksDomain.co.uk;SomeoneElse@MyWorksDomain.co.uk'), \r\n",
                "\t\t('PersonalEmail@Yahoo.co.uk'), \r\n",
                "\t\t('Evil@NastyHackers.co.uk'), \r\n",
                "\t\t('Bill@Acceptable3rdParty.com;Helpdesk@Acceptable3rdParty.com')\r\n",
                "\t) EmailAddress(Email)\r\n",
                "\r\n",
                ")\r\n",
                "\r\n",
                "\r\n",
                "SELECT DISTINCT\r\n",
                "\tSUBSTRING(recipients,CHARINDEX('@', recipients)+1,LEN(recipients)) AS EmailDomains\r\n",
                "FROM\r\n",
                "\t(\r\n",
                "\tSELECT \r\n",
                "\t\tLTRIM(RTRIM(m.n.value('.[1]','varchar(8000)'))) AS recipients\r\n",
                "\tFROM\r\n",
                "\t\t(\r\n",
                "\t\tSELECT CAST('<XMLRoot><RowData>' + REPLACE(recipients,';','</RowData><RowData>') + '</RowData></XMLRoot>' AS XML) AS Email\r\n",
                "\t\tFROM   CTE_EMAIL\r\n",
                "\t\t)t\r\n",
                "\t\tCROSS APPLY Email.nodes('/XMLRoot/RowData')m(n)\r\n",
                "\t)EmailAddress\r\n",
                ""
            ],
            "metadata": {
                "azdata_cell_guid": "1fca9c14-aebd-4f99-b90d-0633cb676d71"
            },
            "outputs": [
{
    "output_type": "display_data",
    "data": {
        "text/html": "(5 rows affected)"
    },
    "metadata": {}
}, {
    "output_type": "display_data",
    "data": {
        "text/html": "Total execution time: 00:00:00.009"
    },
    "metadata": {}
}, {
    "output_type": "execute_result",
    "metadata": {},
    "execution_count": 10,
    "data": {
        "application/vnd.dataresource+json": {
            "schema": {
                "fields": [
                    {
                        "name": "EmailDomains"
                    }
                ]
            },
            "data": [
                {
                    "0": "Acceptable3rdParty.com"
                },
                {
                    "0": "MyWorksDomain.co.uk"
                },
                {
                    "0": "NastyHackers.co.uk"
                },
                {
                    "0": "SQLServerSolutions.com"
                },
                {
                    "0": "Yahoo.co.uk"
                }
            ]
        },
        "text/html": [
            "<table>",
            "<tr><th>EmailDomains</th></tr>",
            "<tr><td>Acceptable3rdParty.com</td></tr>",
            "<tr><td>MyWorksDomain.co.uk</td></tr>",
            "<tr><td>NastyHackers.co.uk</td></tr>",
            "<tr><td>SQLServerSolutions.com</td></tr>",
            "<tr><td>Yahoo.co.uk</td></tr>",
            "</table>"
        ]
    }
}
],
            "execution_count": 10
        },
        {
            "cell_type": "markdown",
            "source": [
                "## [Home](file:///C:/SQLScriptsLibrary/Home.ipynb)"
            ],
            "metadata": {
                "azdata_cell_guid": "9bfedbb8-e963-4756-bf9c-ef9794e8b31e"
            }
        }
    ]
}