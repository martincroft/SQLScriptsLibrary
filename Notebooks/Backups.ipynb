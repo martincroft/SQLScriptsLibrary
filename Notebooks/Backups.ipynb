{
    "metadata": {
        "kernelspec": {
            "name": "SQL",
            "display_name": "SQL",
            "language": "sql"
        },
        "language_info": {
            "name": "sql",
            "version": ""
        }
    },
    "nbformat_minor": 2,
    "nbformat": 4,
    "cells": [
        {
            "cell_type": "markdown",
            "source": [
                "## [Home](file:///C:/SQLScriptsLibrary/Home.ipynb)"
            ],
            "metadata": {
                "azdata_cell_guid": "01a634ad-e482-4788-b1d7-9791a0624204"
            }
        },
        {
            "cell_type": "markdown",
            "source": [
                "# \\[Backup Queries\\]\n",
                "\n",
                "> **Useful Queries**\n",
                "> \n",
                "> - Last backup times (Q1)\n",
                "> - Backup Size(Q2)\n",
                "> - Backup Duration(Q3)\n",
                "> - Backup stats - copy only, time started/completed (Q4)\n",
                "> - Last 30 days backup locations (Q5)\n",
                "> - Are backups encypted (Q6)\n",
                "> - Are backups in full access shares (Q7)\n",
                "> - How many days backup history are kept (Q8)\n",
                "> - Date database last restored (Q9)\n",
                "> - Detailed Database backup/restore info (Q10)"
            ],
            "metadata": {
                "azdata_cell_guid": "10262bfb-4f12-4d31-a1ec-51e07a1b423e"
            }
        },
        {
            "cell_type": "markdown",
            "source": [
                "## Last backup - log and database for each database (Q1)"
            ],
            "metadata": {
                "azdata_cell_guid": "69b0c618-6243-4070-9bf3-490ed3953370"
            }
        },
        {
            "cell_type": "code",
            "source": [
                "--Last backup times\r\n",
                "SELECT database_name\r\n",
                "\t,CASE \r\n",
                "\t\tWHEN [TYPE] = 'D'\r\n",
                "\t\t\tTHEN 'Database'\r\n",
                "\t\tWHEN [TYPE] = 'I'\r\n",
                "\t\t\tTHEN 'Differential database'\r\n",
                "\t\tWHEN [TYPE] = 'L'\r\n",
                "\t\t\tTHEN 'LOG'\r\n",
                "\t\tWHEN [TYPE] = 'F'\r\n",
                "\t\t\tTHEN 'FILE'\r\n",
                "\t\tELSE 'OTHER'\r\n",
                "\t\tEND AS [TYPE]\r\n",
                "\t,MAX(backup_finish_date) AS [lastbackup_finish_date]\r\n",
                "FROM msdb..backupset\r\n",
                "WHERE [TYPE] = 'D'\r\n",
                "\tOR [TYPE] = 'L'\r\n",
                "\tOR [TYPE] = 'I'\r\n",
                "GROUP BY database_name\r\n",
                "\t,[TYPE]\r\n",
                "ORDER BY database_name\r\n",
                "\t,MAX(backup_finish_date)"
            ],
            "metadata": {
                "azdata_cell_guid": "973048be-835d-4a24-bc09-50515ed75571",
                "tags": [
                    "hide_input"
                ]
            },
            "outputs": [],
            "execution_count": null
        },
        {
            "cell_type": "markdown",
            "source": [
                "## Backup Sizes(Q2)"
            ],
            "metadata": {
                "azdata_cell_guid": "bd7e590d-9c74-46a9-8806-23a78a176601"
            }
        },
        {
            "cell_type": "code",
            "source": [
                "--Backup Sizes\r\n",
                "SELECT b.database_name 'Database Name'\r\n",
                "\t,CONVERT(BIGINT, b.backup_size / 1048576) 'UnCompressed Backup Size (MB)'\r\n",
                "\t,CONVERT(BIGINT, b.compressed_backup_size / 1048576) 'Compressed Backup Size (MB)'\r\n",
                "\t,CONVERT(NUMERIC(20, 2), (CONVERT(FLOAT, b.backup_size) / CONVERT(FLOAT, b.compressed_backup_size))) 'Compression Ratio'\r\n",
                "\t,DATEDIFF(SECOND, b.backup_start_date, b.backup_finish_date) 'Backup Elapsed Time (sec)'\r\n",
                "FROM msdb.dbo.backupset b\r\n",
                "WHERE DATEDIFF(SECOND, b.backup_start_date, b.backup_finish_date) > 0\r\n",
                "\tAND b.backup_size > 0\r\n",
                "ORDER BY b.backup_finish_date DESC\r\n",
                "\r\n",
                "IF (\r\n",
                "\t\tSELECT OBJECT_ID('TempDB.dbo.#tempbackup')\r\n",
                "\t\t) IS NOT NULL\r\n",
                "\tDROP TABLE #tempbackup\r\n",
                "\r\n",
                "CREATE TABLE #tempbackup (\r\n",
                "\tdatabase_name NVARCHAR(128)\r\n",
                "\t,[TYPE] CHAR(1)\r\n",
                "\t,backup_finish_date DATETIME\r\n",
                "\t)\r\n",
                ""
            ],
            "metadata": {
                "azdata_cell_guid": "33aee501-a644-40f1-b584-74406aee51fe",
                "tags": [
                    "hide_input"
                ]
            },
            "outputs": [],
            "execution_count": null
        },
        {
            "cell_type": "markdown",
            "source": [
                "## Backup Duration (Q3)"
            ],
            "metadata": {
                "azdata_cell_guid": "f97a85ef-889e-4004-a022-a0c71aeedf12"
            }
        },
        {
            "cell_type": "code",
            "source": [
                "--Backup Duration\r\n",
                "SET NOCOUNT ON\r\n",
                "GO\r\n",
                "\r\n",
                "IF EXISTS (\r\n",
                "\t\tSELECT NAME\r\n",
                "\t\tFROM tempdb..sysobjects\r\n",
                "\t\tWHERE NAME LIKE '#DatabasesBackupsDuration%'\r\n",
                "\t\t)\r\n",
                "\tDROP TABLE #DatabasesBackupsDuration\r\n",
                "GO\r\n",
                "\r\n",
                "CREATE TABLE #DatabasesBackupsDuration (\r\n",
                "\tServerName VARCHAR(100) NULL\r\n",
                "\t,DBName VARCHAR(100) NULL\r\n",
                "\t,RecoveryModel VARCHAR(100) NULL\r\n",
                "\t,LastFullbackup DATETIME NULL\r\n",
                "\t,FullbackupDurationSec BIGINT NULL\r\n",
                "\t,DBStatus VARCHAR(100) NULL\r\n",
                "\t,\r\n",
                "\t)\r\n",
                "GO\r\n",
                "\r\n",
                "INSERT INTO #DatabasesBackupsDuration (\r\n",
                "\tServerName\r\n",
                "\t,DBName\r\n",
                "\t)\r\n",
                "SELECT convert(VARCHAR, serverproperty('ServerName'))\r\n",
                "\t,a.NAME\r\n",
                "FROM master.dbo.sysdatabases a\r\n",
                "WHERE a.NAME <> 'tempdb'\r\n",
                "\r\n",
                "UPDATE #DatabasesBackupsDuration\r\n",
                "SET LastFullbackup = b.backup_start_date\r\n",
                "FROM #DatabasesBackupsDuration a\r\n",
                "\t,(\r\n",
                "\t\tSELECT database_name\r\n",
                "\t\t\t,max(backup_start_date) backup_start_date\r\n",
                "\t\tFROM msdb..backupset\r\n",
                "\t\tWHERE type = 'D'\r\n",
                "\t\tGROUP BY database_name\r\n",
                "\t\t) b\r\n",
                "WHERE a.DBName = b.database_name\r\n",
                "\r\n",
                "UPDATE #DatabasesBackupsDuration\r\n",
                "SET RecoveryModel = convert(SYSNAME, DatabasePropertyEx(DBName, 'Recovery'))\r\n",
                "\r\n",
                "UPDATE #DatabasesBackupsDuration\r\n",
                "SET DBStatus = convert(SYSNAME, DatabasePropertyEx(DBName, 'Status'))\r\n",
                "\r\n",
                "UPDATE d\r\n",
                "SET d.FullbackupDurationSec = datediff(s, backup_start_date, backup_finish_date)\r\n",
                "FROM #DatabasesBackupsDuration d\r\n",
                "\t,(\r\n",
                "\t\tSELECT database_name\r\n",
                "\t\t\t,max(backup_start_date) AS backup_start_date\r\n",
                "\t\t\t,max(backup_finish_date) AS backup_finish_date\r\n",
                "\t\tFROM msdb..backupset\r\n",
                "\t\tWHERE type = 'D'\r\n",
                "\t\tGROUP BY database_name\r\n",
                "\t\t) b\r\n",
                "WHERE d.DBName = b.database_name\r\n",
                "GO\r\n",
                "\r\n",
                "SELECT *\r\n",
                "FROM #DatabasesBackupsDuration\r\n",
                "ORDER BY LastFullbackup\r\n",
                "GO\r\n",
                "\r\n",
                "SELECT CAST(SUM(FullbackupDurationSec) / 60 AS VARCHAR(100)) + ' Minutes' AS FullBackupTimeTotal\r\n",
                "FROM #DatabasesBackupsDuration\r\n",
                "GO\r\n",
                "\r\n",
                "DROP TABLE #DatabasesBackupsDuration\r\n",
                ""
            ],
            "metadata": {
                "azdata_cell_guid": "8c2ab298-bf9b-4740-92ec-725eeaee33f3",
                "tags": [
                    "hide_input"
                ]
            },
            "outputs": [],
            "execution_count": null
        },
        {
            "cell_type": "markdown",
            "source": [
                "## Backup stats - copy only, time started/completed (Q4)"
            ],
            "metadata": {
                "azdata_cell_guid": "96fcc5f1-3392-44a8-9d9c-3b7b2dc6ed08"
            }
        },
        {
            "cell_type": "code",
            "source": [
                "SELECT d.NAME\r\n",
                "\t,b.NAME\r\n",
                "\t,b.user_name\r\n",
                "\t,backup_start_date\r\n",
                "\t,backup_finish_date\r\n",
                "\t,DATEDIFF(mi, backup_start_date, backup_finish_date) Timttaken_MINS\r\n",
                "\t,backup_size\r\n",
                "\t,compressed_backup_size\r\n",
                "\t,server_name\r\n",
                "\t,is_copy_only\r\n",
                "FROM master.sys.databases d\r\n",
                "LEFT OUTER JOIN msdb.dbo.backupset b ON d.NAME = b.database_name\r\n",
                "\tAND b.type = 'D'\r\n",
                "WHERE d.database_id NOT IN (\r\n",
                "\t\t2\r\n",
                "\t\t,3\r\n",
                "\t\t)\r\n",
                "\tAND backup_start_date > GETDATE() - 1\r\n",
                "ORDER BY d.NAME\r\n",
                "\t,backup_start_date DESC\r\n",
                ""
            ],
            "metadata": {
                "azdata_cell_guid": "9eb06a94-b42a-4adf-b00c-2bd04b97f793",
                "tags": [
                    "hide_input"
                ]
            },
            "outputs": [],
            "execution_count": null
        },
        {
            "cell_type": "markdown",
            "source": [
                "## Last 30 days backup locations (Q5)"
            ],
            "metadata": {
                "azdata_cell_guid": "11d973e5-8278-4758-a607-df7be2ddb663"
            }
        },
        {
            "cell_type": "code",
            "source": [
                "--Last month backups file locations \r\n",
                "SELECT DISTINCT database_name\r\n",
                "\t,REVERSE(SUBSTRING(REVERSE(physical_device_name), CHARINDEX('\\', REVERSE(physical_device_name)) + 1, LEN(physical_device_name)))\r\n",
                "FROM [msdb].[dbo].[backupset] a\r\n",
                "JOIN [msdb].[dbo].[backupmediafamily] b ON a.media_set_id = b.media_set_id\r\n",
                "WHERE backup_start_date > DATEADD(d, - 30, getdate())"
            ],
            "metadata": {
                "azdata_cell_guid": "9c628186-0fed-482e-bfbf-450eb2c197ab",
                "tags": [
                    "hide_input"
                ]
            },
            "outputs": [],
            "execution_count": null
        },
        {
            "cell_type": "markdown",
            "source": [
                "## Are backups encrypted (Q6)"
            ],
            "metadata": {
                "azdata_cell_guid": "8484782b-b8c4-4f25-a2c3-78ee470cf39d"
            }
        },
        {
            "cell_type": "code",
            "source": [
                "--Are backups encrypted\r\n",
                "SELECT DISTINCT d.NAME\r\n",
                "\t,is_encrypted\r\n",
                "FROM master.sys.databases d\r\n",
                "LEFT OUTER JOIN msdb.dbo.backupset b ON d.NAME = b.database_name\r\n",
                "\tAND b.type = 'D'\r\n",
                "WHERE d.database_id NOT IN (\r\n",
                "\t\t2\r\n",
                "\t\t,3\r\n",
                "\t\t)\r\n",
                "\tAND backup_start_date > GETDATE() - 31"
            ],
            "metadata": {
                "azdata_cell_guid": "4beb7c8b-c21a-4a96-b715-1ab7052167bd",
                "tags": [
                    "hide_input"
                ]
            },
            "outputs": [],
            "execution_count": null
        },
        {
            "cell_type": "markdown",
            "source": [
                "## Are backups in full access shares (Q7)"
            ],
            "metadata": {
                "azdata_cell_guid": "a41f204b-67f6-416b-ad1e-3e87d7f315a9"
            }
        },
        {
            "cell_type": "code",
            "source": [
                "-- Are backups in full access shares \r\n",
                "SELECT DISTINCT REVERSE(SUBSTRING(REVERSE(physical_device_name), CHARINDEX('\\', REVERSE(physical_device_name)), LEN(physical_device_name)))\r\n",
                "FROM msdb.dbo.backupmediafamily\r\n",
                "ORDER BY 1 DESC"
            ],
            "metadata": {
                "azdata_cell_guid": "78cc802b-7832-4a7d-a90e-a044f8644ad5",
                "tags": [
                    "hide_input"
                ]
            },
            "outputs": [],
            "execution_count": null
        },
        {
            "cell_type": "markdown",
            "source": [
                "## How many days backup history (Q8)"
            ],
            "metadata": {
                "azdata_cell_guid": "0be89e36-a2e0-412c-a081-1510a5b1a324"
            }
        },
        {
            "cell_type": "code",
            "source": [
                "--How many daya backup History\r\n",
                "SELECT TOP 1 backup_start_date\r\n",
                "\t,DATEDIFF(d, backup_start_date, GETDATE()) AS NoofDaysHistory\r\n",
                "FROM msdb.dbo.backupset WITH (NOLOCK)\r\n",
                "ORDER BY backup_start_date"
            ],
            "metadata": {
                "azdata_cell_guid": "0dd8e284-cdc3-4325-8fa0-253d0e263cb1",
                "tags": [
                    "hide_input"
                ]
            },
            "outputs": [],
            "execution_count": null
        },
        {
            "cell_type": "markdown",
            "source": [
                "## Last restore date (Q9)"
            ],
            "metadata": {
                "azdata_cell_guid": "4c192687-6415-4a20-addf-a9562500bf5f"
            }
        },
        {
            "cell_type": "code",
            "source": [
                "--Last restore date\r\n",
                "SELECT [rs].[destination_database_name]\r\n",
                "\t,MAX([rs].[restore_date]) RestoreDate\r\n",
                "FROM msdb.dbo.restorehistory rs\r\n",
                "INNER JOIN msdb.dbo.backupset bs ON [rs].[backup_set_id] = [bs].[backup_set_id]\r\n",
                "INNER JOIN msdb.dbo.backupmediafamily bmf ON [bs].[media_set_id] = [bmf].[media_set_id]\r\n",
                "GROUP BY [rs].[destination_database_name]"
            ],
            "metadata": {
                "azdata_cell_guid": "4dc42935-d868-4156-827d-b52806d886a8",
                "tags": [
                    "hide_input"
                ]
            },
            "outputs": [],
            "execution_count": null
        },
        {
            "cell_type": "markdown",
            "source": [
                "## Detailed Database backup/restore info (Q10)\r\n",
                "### Backuplocation,size,backup dates,types, page verify, owner"
            ],
            "metadata": {
                "azdata_cell_guid": "4d5cfc4c-c401-4471-9b7b-9ada2015b876"
            }
        },
        {
            "cell_type": "code",
            "source": [
                "--Database backup detailed (Q10)\r\n",
                "GO\r\n",
                "\r\n",
                "SET TRANSACTION ISOLATION LEVEL READ UNCOMMITTED\r\n",
                "GO\r\n",
                "\r\n",
                "IF (\r\n",
                "\t\tSELECT OBJECT_ID('TempDB.dbo.#tempbackup')\r\n",
                "\t\t) IS NOT NULL\r\n",
                "\tDROP TABLE #tempbackup\r\n",
                "\r\n",
                "CREATE TABLE #tempbackup (\r\n",
                "\tdatabase_name NVARCHAR(128)\r\n",
                "\t,[TYPE] CHAR(1)\r\n",
                "\t,backup_finish_date DATETIME\r\n",
                "\t)\r\n",
                "\r\n",
                "INSERT INTO #tempbackup\r\n",
                "SELECT database_name\r\n",
                "\t,[TYPE]\r\n",
                "\t,MAX(backup_finish_date)\r\n",
                "FROM msdb..backupset\r\n",
                "GROUP BY database_name\r\n",
                "\t,[TYPE]\r\n",
                "\r\n",
                "CREATE CLUSTERED INDEX IXc_#tempbackup ON #tempbackup (database_name)\r\n",
                "\r\n",
                "IF (\r\n",
                "\t\tSELECT OBJECT_ID('TempDB.dbo.#tmp_sp_db_vardecimal_storage_format')\r\n",
                "\t\t) IS NOT NULL\r\n",
                "\tDROP TABLE #tmp_sp_db_vardecimal_storage_format\r\n",
                "\r\n",
                "CREATE TABLE #tmp_sp_db_vardecimal_storage_format (\r\n",
                "\tdbname SYSNAME NULL\r\n",
                "\t,vardecimal_enabled VARCHAR(3) NULL\r\n",
                "\t)\r\n",
                "\r\n",
                "CREATE CLUSTERED INDEX ixc_tmp_sp_db_vardecimal_storage_format ON #tmp_sp_db_vardecimal_storage_format (dbname)\r\n",
                "\r\n",
                "IF EXISTS (\r\n",
                "\t\tSELECT o.object_id\r\n",
                "\t\tFROM sys.system_objects o\r\n",
                "\t\tWHERE o.NAME = N'sp_db_vardecimal_storage_format'\r\n",
                "\t\t)\r\n",
                "BEGIN\r\n",
                "\tINSERT INTO #tmp_sp_db_vardecimal_storage_format\r\n",
                "\tEXEC sys.sp_db_vardecimal_storage_format\r\n",
                "END\r\n",
                "\r\n",
                "IF (\r\n",
                "\t\tSELECT OBJECT_ID('Tempdb.dbo.#DatabaseSizes')\r\n",
                "\t\t) IS NOT NULL\r\n",
                "\tDROP TABLE #DatabaseSizes\r\n",
                "GO\r\n",
                "\r\n",
                "CREATE TABLE #DatabaseSizes (\r\n",
                "\tSrvName SYSNAME\r\n",
                "\t,DatabaseName SYSNAME\r\n",
                "\t,FileName SYSNAME\r\n",
                "\t,PhysicalName SYSNAME\r\n",
                "\t,TotalSizeinMB DECIMAL(18, 6)\r\n",
                "\t,AvailableSpaceInMB DECIMAL(18, 6)\r\n",
                "\t,file_id INT\r\n",
                "\t,FilegroupName SYSNAME NULL\r\n",
                "\t,Type_desc VARCHAR(10)\r\n",
                "\t)\r\n",
                "\r\n",
                "EXEC sp_MSForEachDB 'USE [?]  INSERT INTO #DatabaseSizes\r\n",
                "SELECT @@Servername AS SrvName,\r\n",
                "db_name() AS DatabaseName,\r\n",
                "f.name AS [File Name] , f.physical_name AS [Physical Name], \r\n",
                "CAST((f.size/128.0) AS DECIMAL(18,6)) AS [Total Size in MB],\r\n",
                "CAST(f.size/128.0 - CAST(FILEPROPERTY(f.name, ''SpaceUsed'') AS int)/128.0 AS DECIMAL(18,6)) AS [Available Space In MB], \r\n",
                "[file_id], \r\n",
                "fg.name AS [Filegroup Name],f.Type_desc\r\n",
                "FROM sys.database_files AS f WITH (NOLOCK) \r\n",
                "LEFT OUTER JOIN sys.data_spaces AS fg WITH (NOLOCK) \r\n",
                "ON f.data_space_id = fg.data_space_id OPTION (RECOMPILE);\r\n",
                "'\r\n",
                "\r\n",
                "SELECT DISTINCT @@ServerName AS ServerName\r\n",
                "\t,dtb.NAME AS [Name]\r\n",
                "\t,CASE \r\n",
                "\t\tWHEN bk.type = 'D'\r\n",
                "\t\t\tTHEN 'FULL'\r\n",
                "\t\tWHEN bk.type = 'L'\r\n",
                "\t\t\tTHEN 'LOG'\r\n",
                "\t\tWHEN bk.type = 'I'\r\n",
                "\t\t\tTHEN 'DIFF'\r\n",
                "\t\tWHEN bk.type = 'F'\r\n",
                "\t\t\tTHEN 'FILEGROUP'\r\n",
                "\t\tWHEN bk.type = 'P'\r\n",
                "\t\t\tTHEN 'Partial'\r\n",
                "\t\tWHEN bk.type = 'Q'\r\n",
                "\t\t\tTHEN 'Differential partial'\r\n",
                "\t\tELSE ' -'\r\n",
                "\t\tEND AS 'Type'\r\n",
                "\t,REVERSE(SUBSTRING(REVERSE(bkm.physical_device_name), CHARINDEX('\\', REVERSE(bkm.physical_device_name)) + 1, LEN(bkm.physical_device_name))) AS 'BackupLocation'\r\n",
                "\t,dtb.state_desc\r\n",
                "\t,db.PhysicalName\r\n",
                "\t,db.TotalDataSizeinMB\r\n",
                "\t,db.AvailableDataSpaceInMB\r\n",
                "\t,db.TotalLogSizeinMB\r\n",
                "\t,db.AvailableLogSpaceInMB\r\n",
                "\t,CASE \r\n",
                "\t\tWHEN dtb.recovery_model = 1\r\n",
                "\t\t\tTHEN 'FULL'\r\n",
                "\t\tWHEN dtb.recovery_model = 2\r\n",
                "\t\t\tTHEN 'BULK_LOGGED'\r\n",
                "\t\tWHEN dtb.recovery_model = 3\r\n",
                "\t\t\tTHEN 'SIMPLE'\r\n",
                "\t\tEND AS [RecoveryModel]\r\n",
                "\t,(\r\n",
                "\t\tSELECT backup_finish_date\r\n",
                "\t\tFROM #tempbackup\r\n",
                "\t\tWHERE TYPE = 'D'\r\n",
                "\t\t\tAND database_name = dtb.NAME\r\n",
                "\t\t) AS [LastBackupDate]\r\n",
                "\t,(\r\n",
                "\t\tSELECT backup_finish_date\r\n",
                "\t\tFROM #tempbackup\r\n",
                "\t\tWHERE TYPE = 'I'\r\n",
                "\t\t\tAND database_name = dtb.NAME\r\n",
                "\t\t) AS [LastDifferentialBackupDate]\r\n",
                "\t,(\r\n",
                "\t\tSELECT backup_finish_date\r\n",
                "\t\tFROM #tempbackup\r\n",
                "\t\tWHERE TYPE = 'L'\r\n",
                "\t\t\tAND database_name = dtb.NAME\r\n",
                "\t\t) AS [LastLogBackupDate]\r\n",
                "\t,dtb.compatibility_level AS 'CompatibilityLevel [100]'\r\n",
                "\t,dtb.create_date AS [CreateDate]\r\n",
                "\t,dtb.is_fulltext_enabled AS [IsFullTextEnabled]\r\n",
                "\t,CAST(CASE \r\n",
                "\t\t\tWHEN dtb.NAME IN (\r\n",
                "\t\t\t\t\t'master'\r\n",
                "\t\t\t\t\t,'model'\r\n",
                "\t\t\t\t\t,'msdb'\r\n",
                "\t\t\t\t\t,'tempdb'\r\n",
                "\t\t\t\t\t)\r\n",
                "\t\t\t\tTHEN 1\r\n",
                "\t\t\tELSE dtb.is_distributor\r\n",
                "\t\t\tEND AS BIT) AS [IsSystemObject]\r\n",
                "\t,SUSER_SNAME(dtb.owner_sid) AS [Owner]\r\n",
                "\t,df.physical_name AS [PrimaryFilePath]\r\n",
                "\t,dtb.collation_name AS [COLLATION]\r\n",
                "\t,dtb.page_verify_option_desc AS [PageVerify]\r\n",
                "\t,dtb.is_read_only AS [ReadOnly]\r\n",
                "\t,CAST(ISNULL(dtb.source_database_id, 0) AS BIT) AS [IsDatabaseSnapshot]\r\n",
                "\t,dtb.NAME AS [DatabaseName]\r\n",
                "\t,CAST(@@version AS VARCHAR(128)) AS 'Version'\r\n",
                "\t,is_copy_only\r\n",
                "FROM master.sys.databases AS dtb\r\n",
                "LEFT JOIN sys.master_files AS df ON df.database_id = dtb.database_id\r\n",
                "\tAND 1 = df.data_space_id\r\n",
                "\tAND 1 = df.file_id\r\n",
                "LEFT JOIN sys.database_recovery_status AS drs ON drs.database_id = dtb.database_id\r\n",
                "LEFT JOIN sys.database_mirroring AS dmi ON dmi.database_id = dtb.database_id\r\n",
                "LEFT JOIN #tmp_sp_db_vardecimal_storage_format AS vardec ON dtb.NAME = vardec.dbname\r\n",
                "LEFT JOIN (\r\n",
                "\tSELECT SrvName\r\n",
                "\t\t,DatabaseName\r\n",
                "\t\t,PhysicalName\r\n",
                "\t\t,SUM(CASE \r\n",
                "\t\t\t\tWHEN Type_desc != 'LOG'\r\n",
                "\t\t\t\t\tTHEN TotalSizeinMB\r\n",
                "\t\t\t\tELSE 0\r\n",
                "\t\t\t\tEND) AS TotalDataSizeinMB\r\n",
                "\t\t,SUM(CASE \r\n",
                "\t\t\t\tWHEN Type_desc != 'LOG'\r\n",
                "\t\t\t\t\tTHEN AvailableSpaceInMB\r\n",
                "\t\t\t\tELSE 0\r\n",
                "\t\t\t\tEND) AS AvailableDataSpaceInMB\r\n",
                "\t\t,SUM(CASE \r\n",
                "\t\t\t\tWHEN Type_desc = 'LOG'\r\n",
                "\t\t\t\t\tTHEN TotalSizeinMB\r\n",
                "\t\t\t\tELSE 0\r\n",
                "\t\t\t\tEND) AS TotalLogSizeinMB\r\n",
                "\t\t,SUM(CASE \r\n",
                "\t\t\t\tWHEN Type_desc = 'LOG'\r\n",
                "\t\t\t\t\tTHEN AvailableSpaceInMB\r\n",
                "\t\t\t\tELSE 0\r\n",
                "\t\t\t\tEND) AS AvailableLogSpaceInMB\r\n",
                "\tFROM #DatabaseSizes\r\n",
                "\tGROUP BY SrvName\r\n",
                "\t\t,DatabaseName\r\n",
                "\t\t,PhysicalName\r\n",
                "\t) db ON dtb.NAME = db.DatabaseName\r\n",
                "LEFT OUTER JOIN [msdb].[dbo].[backupset] bk ON bk.database_name = dtb.NAME\r\n",
                "LEFT OUTER JOIN [msdb].[dbo].[backupmediafamily] bkm ON bk.media_set_id = bkm.media_set_id\r\n",
                "WHERE bkm.device_type <> 7 --Not virtual\r\n",
                ""
            ],
            "metadata": {
                "azdata_cell_guid": "a431ed94-817c-463f-9757-ae4ab251bdd6",
                "tags": [
                    "hide_input"
                ]
            },
            "outputs": [],
            "execution_count": null
        },
        {
            "cell_type": "markdown",
            "source": [
                "## [Home](file:///C:/SQLScriptsLibrary/Home.ipynb)"
            ],
            "metadata": {
                "azdata_cell_guid": "bfcd9708-413b-4ed8-919c-84c4906d06a7"
            }
        }
    ]
}