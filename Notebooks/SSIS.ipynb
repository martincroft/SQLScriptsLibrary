{
    "metadata": {
        "kernelspec": {
            "name": "SQL",
            "display_name": "SQL",
            "language": "sql"
        },
        "language_info": {
            "name": "sql",
            "version": ""
        },
        "extensions": {
            "azuredatastudio": {
                "version": 1,
                "views": []
            }
        }
    },
    "nbformat_minor": 2,
    "nbformat": 4,
    "cells": [
        {
            "cell_type": "markdown",
            "source": [
                "## [Home](file:///C:/SQLScriptsLibrary/Home.ipynb)"
            ],
            "metadata": {
                "azdata_cell_guid": "333b441a-8874-40cd-947a-c35aad0d4639",
                "extensions": {
                    "azuredatastudio": {
                        "views": []
                    }
                }
            }
        },
        {
            "cell_type": "markdown",
            "source": [
                "## SQL Server Integration Services\n",
                "\n",
                "> - List Folders, Projects and Package Names (Query 1)\n",
                ""
            ],
            "metadata": {
                "azdata_cell_guid": "99b98758-2dda-47db-9afa-e2507357cbb3"
            },
            "attachments": {}
        },
        {
            "cell_type": "code",
            "source": [
                "/* List Folders, Projects and Package Names*/\r\n",
                "-- Need to have ssis_admin/sysadmin or explicate access to view catalog views (they use internal tables but filtered on permissions)\r\n",
                "SELECT \r\n",
                "\t'Catalog' AS Catalogue,\r\n",
                "    F.name AS FolderName\r\n",
                ",   P.name AS ProjectName\r\n",
                ",   PKG.name AS PackageName\r\n",
                "FROM\r\n",
                "    catalog.folders AS F\r\n",
                "    INNER JOIN \r\n",
                "        catalog.projects AS P\r\n",
                "        ON P.folder_id = F.folder_id\r\n",
                "    INNER JOIN\r\n",
                "        catalog.packages AS PKG\r\n",
                "        ON PKG.project_id = P.project_id\r\n",
                "ORDER BY\r\n",
                "    F.name\r\n",
                ",   P.name\r\n",
                ",   PKG.name;"
            ],
            "metadata": {
                "azdata_cell_guid": "9485bd60-98ab-431a-8951-3d997a5866eb"
            },
            "outputs": [],
            "execution_count": null
        },
        {
            "cell_type": "markdown",
            "source": [
                "## [Home](file:///C:/SQLScriptsLibrary/Home.ipynb)"
            ],
            "metadata": {
                "azdata_cell_guid": "7fba0087-8d3b-495a-badb-af2da450522f"
            }
        },
        {
            "cell_type": "code",
            "source": [
                "DECLARE @Path VARCHAR(200),\n",
                "@SQLServer VARCHAR(50),\n",
                "@DB VARCHAR(100), \n",
                "@FilePath VARCHAR(100),\n",
                "@EmailAddress VARCHAR(500),\n",
                "@Cmd VARCHAR(4000),\n",
                "@ReturnCode INT,\n",
                "@Msg VARCHAR(1000)\n",
                "SELECT @FilePath = 'C:\\SSIS_Packages\\OfficeMoves\\OfficeMoves\\' \n",
                "SELECT @EmailAddress = 'martin.croft@slatergordon.co.uk'\n",\n",
                "SELECT @PackageName='Bulk Transfer MailMerge.dtsx'
                "SELECT @SQLServer='SGCON
                "SELECT @DB='DBA'\n",
                "SELECT @Cmd = 'DTexec /FILE \"' + @FilePath + 'Bulk Transfer MailMerge.dtsx\" /MAXCONCURRENT 1 /CHECKPOINTING OFF /REPORTING EW'\n",
                "+ ' /SET \\Package.Variables[User::varFilePath].Properties[Value];' + @FilePath \n",
                "--+ ' /SET \\Package.Variables[User::varErrorN@PackageName+';' + @EmailAddress\n",
                "select @cmd\n",
                "EXEC @ReturnCode = xp_cmdshell @Cmd\n",
                "SELECT @ReturnCode\n",
                "IF @ReturnCode <> 0\n",
                "BEGIN\n",
                "SELECT @Msg = 'SSIS package execution failed for ' + @path + 'Bulk Transfer MailMerge.dtsx on SQL Server\\Instance: ' + @SQLServer + '.' + @DB\n",
                "EXEC msdb.dbo.sp_send_dbmail @recipients = @EmailAddress , @body = @Msg, @subject = 'SSIS Execution Failure'\n",
                "END;\n",
                ""
            ],
            "metadata": {
                "azdata_cell_guid": "11138b30-2391-4528-9698-0f2189692b36"
            },
            "outputs": [],
            "execution_count": null
        }
    ]
}