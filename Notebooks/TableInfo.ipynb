{
    "metadata": {
        "kernelspec": {
            "name": "SQL",
            "display_name": "SQL",
            "language": "sql"
        },
        "language_info": {
            "name": "sql",
            "version": ""
        },
        "extensions": {
            "azuredatastudio": {
                "version": 1,
                "views": []
            }
        }
    },
    "nbformat_minor": 2,
    "nbformat": 4,
    "cells": [
        {
            "cell_type": "markdown",
            "source": [
                "## [Home](file:///C:/SQLScriptsLibrary/Home.ipynb)"
            ],
            "metadata": {
                "azdata_cell_guid": "333b441a-8874-40cd-947a-c35aad0d4639",
                "extensions": {
                    "azuredatastudio": {
                        "views": []
                    }
                }
            }
        },
        {
            "cell_type": "markdown",
            "source": [
                "## What Queries\n",
                "> -   Some Stuff (Query 1)\n",
                ">   - More Stuff (Query 2)\n",
                ">   - Some Info\n",
                ">       - More Info- (Query 3.1)\n",
                ">       - Even More Info IP - (Query 3.2)\n",
                "\n",
                ""
            ],
            "metadata": {
                "azdata_cell_guid": "99b98758-2dda-47db-9afa-e2507357cbb3"
            },
            "attachments": {}
        },
        {
            "cell_type": "markdown",
            "source": [
                "## [Home](file:///C:/SQLScriptsLibrary/Home.ipynb)"
            ],
            "metadata": {
                "azdata_cell_guid": "7fba0087-8d3b-495a-badb-af2da450522f"
            }
        },
        {
            "cell_type": "code",
            "source": [
                "-- List of databases single line.sql  #SQL\r\n",
                "USE MAX\r\n",
                "\r\n",
                ";WITH Cte (Server,DatabaseName,Edition, Version)\r\n",
                "AS\r\n",
                "( SELECT DISTINCT ServerInstanceName, DatabaseName, Edition, Version\r\n",
                "  FROM ServersandDatabases\r\n",
                "  WHERE 1=1 \r\n",
                " AND DatabaseName NOT IN ('master','tempdb','msdb','model')\r\n",
                " \r\n",
                "  UNION \r\n",
                "  SELECT DISTINCT ServerInstanceName, '', Edition, Version\r\n",
                "  FROM ServersandDatabases\r\n",
                ")\r\n",
                ",cte_databases\r\n",
                "AS\r\n",
                "(\r\n",
                "SELECT  Server, Edition, Version , STUFF(( SELECT ',' +  DatabaseName\r\n",
                "FROM Cte  t1\r\n",
                "WHERE t1.server = t2.Server\r\n",
                "ORDER BY 1  \r\n",
                "FOR XML PATH('')\r\n",
                "),1,1,'') AS Databases\r\n",
                "FROM Cte t2\r\n",
                ")\r\n",
                "\r\n",
                "SELECT SERVER\r\n",
                "\t,Edition\r\n",
                "\t,Version\r\n",
                "\t,COUNT(*) - 1 AS Total\r\n",
                "\t,CASE \r\n",
                "\t\tWHEN LEN(Databases) = 0\r\n",
                "\t\t\tTHEN ''\r\n",
                "\t\tELSE RIGHT(Databases, (LEN(Databases) - 1))\r\n",
                "\t\tEND\r\n",
                "\r\n",
                "FROM CTe_databases\r\n",
                "WHERE Server in\r\n",
                " (\r\n",
                "\t'server names'\r\n",
                ")\r\n",
                "\r\n",
                "\r\n",
                "GROUP BY SERVER\r\n",
                "\t,Edition\r\n",
                "\t,Version\r\n",
                "\t,CASE \r\n",
                "\t\tWHEN LEN(Databases) = 0\r\n",
                "\t\t\tTHEN ''\r\n",
                "\t\tELSE RIGHT(Databases, (LEN(Databases) - 1))\r\n",
                "\t\tEND\r\n",
                ""
            ],
            "metadata": {
                "azdata_cell_guid": "381e2980-95df-4ad3-8e7c-a714e1a97c50"
            },
            "outputs": [],
            "execution_count": null
        }
    ]
}