{
    "metadata": {
        "kernelspec": {
            "name": "SQL",
            "display_name": "SQL",
            "language": "sql"
        },
        "language_info": {
            "name": "sql",
            "version": ""
        },
        "extensions": {
            "azuredatastudio": {
                "version": 1,
                "views": []
            }
        }
    },
    "nbformat_minor": 2,
    "nbformat": 4,
    "cells": [
        {
            "cell_type": "markdown",
            "source": [
                "## [Home](file:///C:/SQLScriptsLibrary/Home.ipynb)"
            ],
            "metadata": {
                "azdata_cell_guid": "333b441a-8874-40cd-947a-c35aad0d4639",
                "extensions": {
                    "azuredatastudio": {
                        "views": []
                    }
                }
            }
        },
        {
            "cell_type": "markdown",
            "source": [
                "# Error Logs\n",
                "\n",
                "> - Set up weekly cycle error log job (Q1)\n",
                "> - Read all the event logs (Q2)\n",
                "> - (Q3)\n",
                "> - (Q4)\n",
                "> - (Q5)"
            ],
            "metadata": {
                "azdata_cell_guid": "665be742-c206-406e-9482-48aa1ab69f6c"
            },
            "attachments": {}
        },
        {
            "cell_type": "markdown",
            "source": [
                "> - Set up weekly cycle error log job (Q1)"
            ],
            "metadata": {
                "azdata_cell_guid": "1cdb9a3d-6e24-44e0-ab6c-2cf6d50422e0"
            },
            "attachments": {}
        },
        {
            "cell_type": "code",
            "source": [
                "/* Set up weekly cycle error log job 8AM Sunday */\r\n",
                "USE [msdb]\r\n",
                "GO\r\n",
                "\r\n",
                "/****** Object:  Job [DBA - Weekly Error Log Recycle]    Script Date: 23/12/2021 12:26:19 ******/\r\n",
                "BEGIN TRANSACTION\r\n",
                "DECLARE @ReturnCode INT\r\n",
                "SELECT @ReturnCode = 0\r\n",
                "/****** Object:  JobCategory [[Uncategorized (Local)]]    Script Date: 23/12/2021 12:26:19 ******/\r\n",
                "IF NOT EXISTS (SELECT name FROM msdb.dbo.syscategories WHERE name=N'[Uncategorized (Local)]' AND category_class=1)\r\n",
                "BEGIN\r\n",
                "EXEC @ReturnCode = msdb.dbo.sp_add_category @class=N'JOB', @type=N'LOCAL', @name=N'[Uncategorized (Local)]'\r\n",
                "IF (@@ERROR <> 0 OR @ReturnCode <> 0) GOTO QuitWithRollback\r\n",
                "\r\n",
                "END\r\n",
                "\r\n",
                "DECLARE @jobId BINARY(16)\r\n",
                "EXEC @ReturnCode =  msdb.dbo.sp_add_job @job_name=N'DBA - Weekly Error Log Recycle', \r\n",
                "\t\t@enabled=1, \r\n",
                "\t\t@notify_level_eventlog=0, \r\n",
                "\t\t@notify_level_email=0, \r\n",
                "\t\t@notify_level_netsend=0, \r\n",
                "\t\t@notify_level_page=0, \r\n",
                "\t\t@delete_level=0, \r\n",
                "\t\t@description=N'No description available.', \r\n",
                "\t\t@category_name=N'[Uncategorized (Local)]', \r\n",
                "\t\t@owner_login_name=N'sa', @job_id = @jobId OUTPUT\r\n",
                "IF (@@ERROR <> 0 OR @ReturnCode <> 0) GOTO QuitWithRollback\r\n",
                "/****** Object:  Step [Recycle errorlog]    Script Date: 23/12/2021 12:26:19 ******/\r\n",
                "EXEC @ReturnCode = msdb.dbo.sp_add_jobstep @job_id=@jobId, @step_name=N'Recycle errorlog', \r\n",
                "\t\t@step_id=1, \r\n",
                "\t\t@cmdexec_success_code=0, \r\n",
                "\t\t@on_success_action=1, \r\n",
                "\t\t@on_success_step_id=0, \r\n",
                "\t\t@on_fail_action=2, \r\n",
                "\t\t@on_fail_step_id=0, \r\n",
                "\t\t@retry_attempts=0, \r\n",
                "\t\t@retry_interval=0, \r\n",
                "\t\t@os_run_priority=0, @subsystem=N'TSQL', \r\n",
                "\t\t@command=N'EXEC sp_cycle_errorlog', \r\n",
                "\t\t@database_name=N'master', \r\n",
                "\t\t@flags=0\r\n",
                "IF (@@ERROR <> 0 OR @ReturnCode <> 0) GOTO QuitWithRollback\r\n",
                "EXEC @ReturnCode = msdb.dbo.sp_update_job @job_id = @jobId, @start_step_id = 1\r\n",
                "IF (@@ERROR <> 0 OR @ReturnCode <> 0) GOTO QuitWithRollback\r\n",
                "EXEC @ReturnCode = msdb.dbo.sp_add_jobschedule @job_id=@jobId, @name=N'Weekly 8AM Sunday', \r\n",
                "\t\t@enabled=1, \r\n",
                "\t\t@freq_type=8, \r\n",
                "\t\t@freq_interval=1, \r\n",
                "\t\t@freq_subday_type=1, \r\n",
                "\t\t@freq_subday_interval=0, \r\n",
                "\t\t@freq_relative_interval=0, \r\n",
                "\t\t@freq_recurrence_factor=1, \r\n",
                "\t\t@active_start_date=20210920, \r\n",
                "\t\t@active_end_date=99991231, \r\n",
                "\t\t@active_start_time=80000, \r\n",
                "\t\t@active_end_time=235959, \r\n",
                "\t\t@schedule_uid=N'7319c221-e0d9-454c-9e41-07ce47650768'\r\n",
                "IF (@@ERROR <> 0 OR @ReturnCode <> 0) GOTO QuitWithRollback\r\n",
                "EXEC @ReturnCode = msdb.dbo.sp_add_jobserver @job_id = @jobId, @server_name = N'(local)'\r\n",
                "IF (@@ERROR <> 0 OR @ReturnCode <> 0) GOTO QuitWithRollback\r\n",
                "COMMIT TRANSACTION\r\n",
                "GOTO EndSave\r\n",
                "QuitWithRollback:\r\n",
                "    IF (@@TRANCOUNT > 0) ROLLBACK TRANSACTION\r\n",
                "EndSave:\r\n",
                "GO\r\n",
                "\r\n",
                "\r\n",
                ""
            ],
            "metadata": {
                "azdata_cell_guid": "e393d7cf-7698-4f48-826f-2f4cddd4faa3",
                "tags": [
                    "hide_input"
                ]
            },
            "outputs": [],
            "execution_count": null
        },
        {
            "cell_type": "markdown",
            "source": [
                "> - Read all the event logs (Q2)"
            ],
            "metadata": {
                "azdata_cell_guid": "5aea0751-bf75-4a67-8868-c64be19bf93b"
            }
        },
        {
            "cell_type": "code",
            "source": [
                "/* Read Error logs.sql  #SQL */\r\n",
                "--https://thelonedba.wordpress.com/2019/08/16/reading-sql-server-error-logs/\r\n",
                "\r\n",
                "SET NOCOUNT ON\r\n",
                "DECLARE @daysback INT = 0; -- number of days to go back in the logs.  0 = today only\r\n",
                " \r\n",
                "-- table variable for holding the details of the error logs.\r\n",
                "-- Yes, I know, table variables are evil.  This one is unlikely to hold more than a few dozen rather narrow lines\r\n",
                "DECLARE @ErrorLogs TABLE\r\n",
                "(\r\n",
                "    Archive INT NOT NULL,\r\n",
                "    LogDate DATETIME NOT NULL,\r\n",
                "    LogFileSizeBytes BIGINT NOT NULL,\r\n",
                "    ReadThis TINYINT NULL\r\n",
                ");\r\n",
                " \r\n",
                "-- useful trick if you don't know it: INSERT INTO a table the results of EXECing a SP.\r\n",
                "INSERT INTO @ErrorLogs (Archive, LogDate, LogFileSizeBytes)\r\n",
                "EXEC sys.sp_enumerrorlogs;\r\n",
                " \r\n",
                "DECLARE @lognum INT = 0;\r\n",
                "DECLARE @logdate DATETIME;\r\n",
                " \r\n",
                "--figure out which logfiles we need.\r\n",
                "WITH\r\n",
                "    NextLog\r\n",
                "  AS\r\n",
                "  (\r\n",
                "      SELECT    Archive,\r\n",
                "                LogDate,\r\n",
                "                LogFileSizeBytes,\r\n",
                "                ReadThis,\r\n",
                "                ISNULL(LAG(LogDate) OVER (ORDER BY Archive), LogDate) AS nextlogdate\r\n",
                "      FROM      @ErrorLogs\r\n",
                "  )\r\n",
                "UPDATE          @ErrorLogs\r\n",
                "SET             ReadThis = CASE\r\n",
                "                               WHEN e.Archive = 1 THEN 1 -- always read the first file; doesn't always get identified by the next line\r\n",
                "                               WHEN n.nextlogdate >= DATEADD(DAY, DATEDIFF(DAY, '20100101', GETDATE()) - ABS(@daysback), '20100101') THEN\r\n",
                "                                   1\r\n",
                "                               ELSE\r\n",
                "                                   0\r\n",
                "                           END\r\n",
                "FROM            NextLog    AS n\r\n",
                "    INNER JOIN  @ErrorLogs AS e ON e.Archive = n.Archive;\r\n",
                " \r\n",
                "--just checking which files we're looking at...  Probably comment this line out for production use\r\n",
                "SELECT      *\r\n",
                "FROM        @ErrorLogs\r\n",
                "ORDER BY    Archive;\r\n",
                " \r\n",
                "IF OBJECT_ID('tempdb.dbo.#spErrorLog', 'U') IS NOT NULL BEGIN\r\n",
                "    DROP TABLE #spErrorLog;\r\n",
                "END;\r\n",
                " \r\n",
                "CREATE TABLE #spErrorLog (logdate DATETIME NOT NULL, ProcessInfo VARCHAR(20) NULL, Text VARCHAR(MAX) NOT NULL);\r\n",
                " \r\n",
                "WHILE @lognum <= (SELECT    MAX(Archive)FROM   @ErrorLogs WHERE ReadThis = 1)\r\n",
                "BEGIN\r\n",
                "    INSERT INTO #spErrorLog\r\n",
                "    EXEC sys.sp_readerrorlog @p1 = @lognum;\r\n",
                " \r\n",
                "    SELECT  @lognum = @lognum + 1;\r\n",
                " \r\n",
                "    SELECT  @logdate = LogDate\r\n",
                "    FROM    @ErrorLogs\r\n",
                "    WHERE   Archive = @lognum;\r\n",
                "END;\r\n",
                " \r\n",
                "SELECT      *\r\n",
                "FROM        #spErrorLog\r\n",
                "WHERE\r\n",
                "            1 = 1\r\n",
                "  AND\r\n",
                "            (\r\n",
                "                ProcessInfo = 'Server' -- we like server-related boot messages.\r\n",
                "           OR\r\n",
                "                ( -- filter out noisy messages that we don't really need to see here\r\n",
                "                    Text NOT LIKE '%Backup Log%'\r\n",
                "              AND   Text NOT LIKE 'Log was backed up%'\r\n",
                "              AND   Text NOT LIKE 'CHECKDB for database % finished without errors on %This is an informational message only; no user action is required.'\r\n",
                "              AND   Text NOT LIKE 'DBCC CHECKDB % WITH all_errormsgs, no_infomsgs, data_purity executed by % found 0 errors and repaired 0 errors.%'\r\n",
                "              AND   Text NOT LIKE 'BACKUP DATABASE WITH DIFFERENTIAL successfully processed % pages%'\r\n",
                "              AND   Text NOT LIKE 'Database differential changes were backed up. Database: % This is an informational message. No user action is required.'\r\n",
                "              AND   Text NOT LIKE 'BACKUP DATABASE successfully processed % pages %'\r\n",
                "              AND   Text NOT LIKE 'Database backed up. Database: % This is an informational message only. No user action is required.'\r\n",
                "              AND   logdate >= DATEADD(DAY, DATEDIFF(DAY, '20100101', GETDATE()) - ABS(@daysback), '20100101')\r\n",
                "                )\r\n",
                "            )\r\n",
                "ORDER BY    logdate;\r\n",
                ""
            ],
            "metadata": {
                "azdata_cell_guid": "c64e06d4-9fe7-45f5-9467-c3d7f3021108"
            },
            "outputs": [
{
    "output_type": "display_data",
    "data": {
        "text/html": "Commands completed successfully."
    },
    "metadata": {}
}, {
    "output_type": "display_data",
    "data": {
        "text/html": "Total execution time: 00:00:00.108"
    },
    "metadata": {}
}, {
    "output_type": "execute_result",
    "metadata": {},
    "execution_count": 3,
    "data": {
        "application/vnd.dataresource+json": {
            "schema": {
                "fields": [
                    {
                        "name": "Archive"
                    },
                    {
                        "name": "LogDate"
                    },
                    {
                        "name": "LogFileSizeBytes"
                    },
                    {
                        "name": "ReadThis"
                    }
                ]
            },
            "data": [
                {
                    "0": "0",
                    "1": "2022-02-21 17:20:00.000",
                    "2": "30910",
                    "3": "1"
                },
                {
                    "0": "1",
                    "1": "2022-02-19 10:55:00.000",
                    "2": "22546",
                    "3": "1"
                },
                {
                    "0": "2",
                    "1": "2022-02-18 17:18:00.000",
                    "2": "28502",
                    "3": "0"
                },
                {
                    "0": "3",
                    "1": "2022-02-17 17:14:00.000",
                    "2": "27140",
                    "3": "0"
                },
                {
                    "0": "4",
                    "1": "2022-02-16 19:54:00.000",
                    "2": "24886",
                    "3": "0"
                },
                {
                    "0": "5",
                    "1": "2022-02-16 17:20:00.000",
                    "2": "33220",
                    "3": "0"
                },
                {
                    "0": "6",
                    "1": "2022-02-15 15:26:00.000",
                    "2": "39112",
                    "3": "0"
                }
            ]
        },
        "text/html": [
            "<table>",
            "<tr><th>Archive</th><th>LogDate</th><th>LogFileSizeBytes</th><th>ReadThis</th></tr>",
            "<tr><td>0</td><td>2022-02-21 17:20:00.000</td><td>30910</td><td>1</td></tr>",
            "<tr><td>1</td><td>2022-02-19 10:55:00.000</td><td>22546</td><td>1</td></tr>",
            "<tr><td>2</td><td>2022-02-18 17:18:00.000</td><td>28502</td><td>0</td></tr>",
            "<tr><td>3</td><td>2022-02-17 17:14:00.000</td><td>27140</td><td>0</td></tr>",
            "<tr><td>4</td><td>2022-02-16 19:54:00.000</td><td>24886</td><td>0</td></tr>",
            "<tr><td>5</td><td>2022-02-16 17:20:00.000</td><td>33220</td><td>0</td></tr>",
            "<tr><td>6</td><td>2022-02-15 15:26:00.000</td><td>39112</td><td>0</td></tr>",
            "</table>"
        ]
    }
}, {
    "output_type": "execute_result",
    "metadata": {},
    "execution_count": 3,
    "data": {
        "application/vnd.dataresource+json": {
            "schema": {
                "fields": [
                    {
                        "name": "logdate"
                    },
                    {
                        "name": "ProcessInfo"
                    },
                    {
                        "name": "Text"
                    }
                ]
            },
            "data": [
                {
                    "0": "2022-02-19 10:49:51.050",
                    "1": "Server",
                    "2": "Microsoft SQL Server 2019 (RTM-GDR) (KB4583458) - 15.0.2080.9 (X64) \r\n\tNov  6 2020 16:50:01 \r\n\tCopyright (C) 2019 Microsoft Corporation\r\n\tDeveloper Edition (64-bit) on Windows 10 Home 10.0 <X64> (Build 22000: )\r\n"
                },
                {
                    "0": "2022-02-19 10:49:51.080",
                    "1": "Server",
                    "2": "UTC adjustment: 0:00"
                },
                {
                    "0": "2022-02-19 10:49:51.080",
                    "1": "Server",
                    "2": "(c) Microsoft Corporation."
                },
                {
                    "0": "2022-02-19 10:49:51.080",
                    "1": "Server",
                    "2": "All rights reserved."
                },
                {
                    "0": "2022-02-19 10:49:51.080",
                    "1": "Server",
                    "2": "Server process ID is 6432."
                },
                {
                    "0": "2022-02-19 10:49:51.080",
                    "1": "Server",
                    "2": "System Manufacturer: 'ASUSTeK COMPUTER INC.', System Model: 'ZenBook Pro 15 UX550GDX_UX580GD'."
                },
                {
                    "0": "2022-02-19 10:49:51.080",
                    "1": "Server",
                    "2": "Authentication mode is WINDOWS-ONLY."
                },
                {
                    "0": "2022-02-19 10:49:51.080",
                    "1": "Server",
                    "2": "Logging SQL Server messages in file 'C:\\Program Files\\Microsoft SQL Server\\MSSQL15.MSSQLSERVER\\MSSQL\\Log\\ERRORLOG'."
                },
                {
                    "0": "2022-02-19 10:49:51.080",
                    "1": "Server",
                    "2": "The service account is 'NT Service\\MSSQLSERVER'. This is an informational message; no user action is required."
                },
                {
                    "0": "2022-02-19 10:49:51.080",
                    "1": "Server",
                    "2": "Registry startup parameters: \r\n\t -d C:\\Program Files\\Microsoft SQL Server\\MSSQL15.MSSQLSERVER\\MSSQL\\DATA\\master.mdf\r\n\t -e C:\\Program Files\\Microsoft SQL Server\\MSSQL15.MSSQLSERVER\\MSSQL\\Log\\ERRORLOG\r\n\t -l C:\\Program Files\\Microsoft SQL Server\\MSSQL15.MSSQLSERVER\\MSSQL\\DATA\\mastlog.ldf"
                },
                {
                    "0": "2022-02-19 10:49:51.080",
                    "1": "Server",
                    "2": "Command Line Startup Parameters:\r\n\t -s \"MSSQLSERVER\""
                },
                {
                    "0": "2022-02-19 10:49:51.090",
                    "1": "Server",
                    "2": "SQL Server detected 1 sockets with 6 cores per socket and 12 logical processors per socket, 12 total logical processors; using 12 logical processors based on SQL Server licensing. This is an informational message; no user action is required."
                },
                {
                    "0": "2022-02-19 10:49:51.090",
                    "1": "Server",
                    "2": "SQL Server is starting at normal priority base (=7). This is an informational message only. No user action is required."
                },
                {
                    "0": "2022-02-19 10:49:51.090",
                    "1": "Server",
                    "2": "Detected 16232 MB of RAM. This is an informational message; no user action is required."
                },
                {
                    "0": "2022-02-19 10:49:51.090",
                    "1": "Server",
                    "2": "Using conventional memory in the memory manager."
                },
                {
                    "0": "2022-02-19 10:49:51.090",
                    "1": "Server",
                    "2": "Page exclusion bitmap is enabled."
                },
                {
                    "0": "2022-02-19 10:49:51.200",
                    "1": "Server",
                    "2": "Buffer Pool: Allocating 4194304 bytes for 2597276 hashPages."
                },
                {
                    "0": "2022-02-19 10:49:51.240",
                    "1": "Server",
                    "2": "Default collation: Latin1_General_CI_AS (us_english 1033)"
                },
                {
                    "0": "2022-02-19 10:49:51.280",
                    "1": "Server",
                    "2": "Buffer pool extension is already disabled. No action is necessary."
                },
                {
                    "0": "2022-02-19 10:49:51.500",
                    "1": "Server",
                    "2": "Query Store settings initialized with enabled = 1, "
                },
                {
                    "0": "2022-02-19 10:49:51.500",
                    "1": "Server",
                    "2": "The maximum number of dedicated administrator connections for this instance is '1'"
                },
                {
                    "0": "2022-02-19 10:49:51.510",
                    "1": "Server",
                    "2": "This instance of SQL Server last reported using a process ID of 6944 at 18/02/2022 17:54:18 (local) 18/02/2022 17:54:18 (UTC). This is an informational message only; no user action is required."
                },
                {
                    "0": "2022-02-19 10:49:51.510",
                    "1": "Server",
                    "2": "Node configuration: node 0: CPU mask: 0x0000000000000fff:0 Active CPU mask: 0x0000000000000fff:0. This message provides a description of the NUMA configuration for this computer. This is an informational message only. No user action is required."
                },
                {
                    "0": "2022-02-19 10:49:51.520",
                    "1": "Server",
                    "2": "Using dynamic lock allocation.  Initial allocation of 2500 Lock blocks and 5000 Lock Owner blocks per node.  This is an informational message only.  No user action is required."
                },
                {
                    "0": "2022-02-19 10:49:51.530",
                    "1": "Server",
                    "2": "In-Memory OLTP initialized on standard machine."
                },
                {
                    "0": "2022-02-19 10:49:51.550",
                    "1": "Server",
                    "2": "[INFO] Created Extended Events session 'hkenginexesession'\r\n"
                },
                {
                    "0": "2022-02-19 10:49:51.550",
                    "1": "Server",
                    "2": "Database Instant File Initialization: enabled. For security and performance considerations see the topic 'Database Instant File Initialization' in SQL Server Books Online. This is an informational message only. No user action is required."
                },
                {
                    "0": "2022-02-19 10:49:51.560",
                    "1": "Server",
                    "2": "Total Log Writer threads: 2. This is an informational message; no user action is required."
                },
                {
                    "0": "2022-02-19 10:49:51.570",
                    "1": "Server",
                    "2": "clflushopt is selected for pmem flush operation."
                },
                {
                    "0": "2022-02-19 10:49:51.570",
                    "1": "Server",
                    "2": "Software Usage Metrics is disabled."
                },
                {
                    "0": "2022-02-19 10:49:51.630",
                    "1": "Server",
                    "2": "CLR version v4.0.30319 loaded."
                },
                {
                    "0": "2022-02-19 10:49:51.930",
                    "1": "Server",
                    "2": "Common language runtime (CLR) functionality initialized using CLR version v4.0.30319 from C:\\Windows\\Microsoft.NET\\Framework64\\v4.0.30319\\."
                },
                {
                    "0": "2022-02-19 10:49:52.240",
                    "1": "Server",
                    "2": "Server is listening on [ ::1 <ipv6> 1434]."
                },
                {
                    "0": "2022-02-19 10:49:52.240",
                    "1": "Server",
                    "2": "Server is listening on [ 127.0.0.1 <ipv4> 1434]."
                },
                {
                    "0": "2022-02-19 10:49:52.240",
                    "1": "Server",
                    "2": "Dedicated admin connection support was established for listening locally on port 1434."
                },
                {
                    "0": "2022-02-19 10:49:52.270",
                    "1": "Server",
                    "2": "SQL Server is attempting to register a Service Principal Name (SPN) for the SQL Server service. Kerberos authentication will not be possible until a SPN is registered for the SQL Server service. This is an informational message. No user action is required."
                },
                {
                    "0": "2022-02-19 10:49:52.320",
                    "1": "Server",
                    "2": "The SQL Server Network Interface library could not register the Service Principal Name (SPN) [ MSSQLSvc/JURGEN ] for the SQL Server service. Windows return code: 0xffffffff, state: 63. Failure to register a SPN might cause integrated authentication to use NTLM instead of Kerberos. This is an informational message. Further action is only required if Kerberos authentication is required by authentication policies and if the SPN has not been manually registered."
                },
                {
                    "0": "2022-02-21 09:07:34.050",
                    "1": "Server",
                    "2": "Microsoft SQL Server 2019 (RTM-GDR) (KB4583458) - 15.0.2080.9 (X64) \r\n\tNov  6 2020 16:50:01 \r\n\tCopyright (C) 2019 Microsoft Corporation\r\n\tDeveloper Edition (64-bit) on Windows 10 Home 10.0 <X64> (Build 22000: )\r\n"
                },
                {
                    "0": "2022-02-21 09:07:34.090",
                    "1": "Server",
                    "2": "UTC adjustment: 0:00"
                },
                {
                    "0": "2022-02-21 09:07:34.090",
                    "1": "Server",
                    "2": "(c) Microsoft Corporation."
                },
                {
                    "0": "2022-02-21 09:07:34.090",
                    "1": "Server",
                    "2": "All rights reserved."
                },
                {
                    "0": "2022-02-21 09:07:34.090",
                    "1": "Server",
                    "2": "Server process ID is 6848."
                },
                {
                    "0": "2022-02-21 09:07:34.090",
                    "1": "Server",
                    "2": "System Manufacturer: 'ASUSTeK COMPUTER INC.', System Model: 'ZenBook Pro 15 UX550GDX_UX580GD'."
                },
                {
                    "0": "2022-02-21 09:07:34.090",
                    "1": "Server",
                    "2": "Authentication mode is WINDOWS-ONLY."
                },
                {
                    "0": "2022-02-21 09:07:34.090",
                    "1": "Server",
                    "2": "Logging SQL Server messages in file 'C:\\Program Files\\Microsoft SQL Server\\MSSQL15.MSSQLSERVER\\MSSQL\\Log\\ERRORLOG'."
                },
                {
                    "0": "2022-02-21 09:07:34.090",
                    "1": "Server",
                    "2": "The service account is 'NT Service\\MSSQLSERVER'. This is an informational message; no user action is required."
                },
                {
                    "0": "2022-02-21 09:07:34.090",
                    "1": "Server",
                    "2": "Registry startup parameters: \r\n\t -d C:\\Program Files\\Microsoft SQL Server\\MSSQL15.MSSQLSERVER\\MSSQL\\DATA\\master.mdf\r\n\t -e C:\\Program Files\\Microsoft SQL Server\\MSSQL15.MSSQLSERVER\\MSSQL\\Log\\ERRORLOG\r\n\t -l C:\\Program Files\\Microsoft SQL Server\\MSSQL15.MSSQLSERVER\\MSSQL\\DATA\\mastlog.ldf"
                },
                {
                    "0": "2022-02-21 09:07:34.090",
                    "1": "Server",
                    "2": "Command Line Startup Parameters:\r\n\t -s \"MSSQLSERVER\""
                },
                {
                    "0": "2022-02-21 09:07:34.090",
                    "1": "Server",
                    "2": "SQL Server detected 1 sockets with 6 cores per socket and 12 logical processors per socket, 12 total logical processors; using 12 logical processors based on SQL Server licensing. This is an informational message; no user action is required."
                },
                {
                    "0": "2022-02-21 09:07:34.090",
                    "1": "Server",
                    "2": "SQL Server is starting at normal priority base (=7). This is an informational message only. No user action is required."
                },
                {
                    "0": "2022-02-21 09:07:34.090",
                    "1": "Server",
                    "2": "Detected 16232 MB of RAM. This is an informational message; no user action is required."
                },
                {
                    "0": "2022-02-21 09:07:34.090",
                    "1": "Server",
                    "2": "Using conventional memory in the memory manager."
                },
                {
                    "0": "2022-02-21 09:07:34.090",
                    "1": "Server",
                    "2": "Page exclusion bitmap is enabled."
                },
                {
                    "0": "2022-02-21 09:07:34.250",
                    "1": "Server",
                    "2": "Buffer Pool: Allocating 4194304 bytes for 2597276 hashPages."
                },
                {
                    "0": "2022-02-21 09:07:34.270",
                    "1": "Server",
                    "2": "Default collation: Latin1_General_CI_AS (us_english 1033)"
                },
                {
                    "0": "2022-02-21 09:07:34.370",
                    "1": "Server",
                    "2": "Buffer pool extension is already disabled. No action is necessary."
                },
                {
                    "0": "2022-02-21 09:07:34.660",
                    "1": "Server",
                    "2": "Query Store settings initialized with enabled = 1, "
                },
                {
                    "0": "2022-02-21 09:07:34.670",
                    "1": "Server",
                    "2": "The maximum number of dedicated administrator connections for this instance is '1'"
                },
                {
                    "0": "2022-02-21 09:07:34.670",
                    "1": "Server",
                    "2": "This instance of SQL Server last reported using a process ID of 6432 at 19/02/2022 11:11:54 (local) 19/02/2022 11:11:54 (UTC). This is an informational message only; no user action is required."
                },
                {
                    "0": "2022-02-21 09:07:34.680",
                    "1": "Server",
                    "2": "Node configuration: node 0: CPU mask: 0x0000000000000fff:0 Active CPU mask: 0x0000000000000fff:0. This message provides a description of the NUMA configuration for this computer. This is an informational message only. No user action is required."
                },
                {
                    "0": "2022-02-21 09:07:34.690",
                    "1": "Server",
                    "2": "Using dynamic lock allocation.  Initial allocation of 2500 Lock blocks and 5000 Lock Owner blocks per node.  This is an informational message only.  No user action is required."
                },
                {
                    "0": "2022-02-21 09:07:34.710",
                    "1": "Server",
                    "2": "In-Memory OLTP initialized on standard machine."
                },
                {
                    "0": "2022-02-21 09:07:34.750",
                    "1": "Server",
                    "2": "[INFO] Created Extended Events session 'hkenginexesession'\r\n"
                },
                {
                    "0": "2022-02-21 09:07:34.750",
                    "1": "Server",
                    "2": "Database Instant File Initialization: enabled. For security and performance considerations see the topic 'Database Instant File Initialization' in SQL Server Books Online. This is an informational message only. No user action is required."
                },
                {
                    "0": "2022-02-21 09:07:34.790",
                    "1": "Server",
                    "2": "Total Log Writer threads: 2. This is an informational message; no user action is required."
                },
                {
                    "0": "2022-02-21 09:07:34.800",
                    "1": "Server",
                    "2": "clflushopt is selected for pmem flush operation."
                },
                {
                    "0": "2022-02-21 09:07:34.800",
                    "1": "Server",
                    "2": "Software Usage Metrics is disabled."
                },
                {
                    "0": "2022-02-21 09:07:34.820",
                    "1": "Server",
                    "2": "CLR version v4.0.30319 loaded."
                },
                {
                    "0": "2022-02-21 09:07:34.880",
                    "1": "spid11s",
                    "2": "Starting up database 'master'."
                },
                {
                    "0": "2022-02-21 09:07:34.960",
                    "1": "spid11s",
                    "2": "18 transactions rolled forward in database 'master' (1:0). This is an informational message only. No user action is required."
                },
                {
                    "0": "2022-02-21 09:07:34.980",
                    "1": "spid11s",
                    "2": "0 transactions rolled back in database 'master' (1:0). This is an informational message only. No user action is required."
                },
                {
                    "0": "2022-02-21 09:07:34.980",
                    "1": "spid11s",
                    "2": "Recovery is writing a checkpoint in database 'master' (1). This is an informational message only. No user action is required."
                },
                {
                    "0": "2022-02-21 09:07:34.990",
                    "1": "Server",
                    "2": "Common language runtime (CLR) functionality initialized using CLR version v4.0.30319 from C:\\Windows\\Microsoft.NET\\Framework64\\v4.0.30319\\."
                },
                {
                    "0": "2022-02-21 09:07:35.130",
                    "1": "spid11s",
                    "2": "Resource governor reconfiguration succeeded."
                },
                {
                    "0": "2022-02-21 09:07:35.130",
                    "1": "spid11s",
                    "2": "SQL Server Audit is starting the audits. This is an informational message. No user action is required."
                },
                {
                    "0": "2022-02-21 09:07:35.130",
                    "1": "spid11s",
                    "2": "Audit: Server Audit: 65545, Initialized and Assigned State: START_FAILED"
                },
                {
                    "0": "2022-02-21 09:07:35.130",
                    "1": "spid11s",
                    "2": "Audit: Server Audit: 65545, Initialized and Assigned State: STARTED"
                },
                {
                    "0": "2022-02-21 09:07:35.140",
                    "1": "spid11s",
                    "2": "SQL Server Audit has started the audits. This is an informational message. No user action is required."
                },
                {
                    "0": "2022-02-21 09:07:35.150",
                    "1": "spid11s",
                    "2": "SQL Trace ID 1 was started by login \"sa\"."
                },
                {
                    "0": "2022-02-21 09:07:35.160",
                    "1": "spid11s",
                    "2": "Server name is 'JURGEN'. This is an informational message only. No user action is required."
                },
                {
                    "0": "2022-02-21 09:07:35.170",
                    "1": "spid23s",
                    "2": "Always On: The availability replica manager is starting. This is an informational message only. No user action is required."
                },
                {
                    "0": "2022-02-21 09:07:35.170",
                    "1": "spid25s",
                    "2": "Starting up database 'msdb'."
                },
                {
                    "0": "2022-02-21 09:07:35.170",
                    "1": "spid26s",
                    "2": "Starting up database 'MIH'."
                },
                {
                    "0": "2022-02-21 09:07:35.170",
                    "1": "spid27s",
                    "2": "Starting up database 'AdventureWorks2019'."
                },
                {
                    "0": "2022-02-21 09:07:35.170",
                    "1": "spid28s",
                    "2": "Starting up database 'StackOverflow2010'."
                },
                {
                    "0": "2022-02-21 09:07:35.170",
                    "1": "spid23s",
                    "2": "Always On: The availability replica manager is waiting for the instance of SQL Server to allow client connections. This is an informational message only. No user action is required."
                },
                {
                    "0": "2022-02-21 09:07:35.170",
                    "1": "spid14s",
                    "2": "Starting up database 'mssqlsystemresource'."
                },
                {
                    "0": "2022-02-21 09:07:35.180",
                    "1": "spid14s",
                    "2": "The resource database build version is 15.00.2080. This is an informational message only. No user action is required."
                },
                {
                    "0": "2022-02-21 09:07:35.200",
                    "1": "spid26s",
                    "2": "Parallel redo is started for database 'MIH' with worker pool size [6]."
                },
                {
                    "0": "2022-02-21 09:07:35.200",
                    "1": "spid28s",
                    "2": "Parallel redo is started for database 'StackOverflow2010' with worker pool size [6]."
                },
                {
                    "0": "2022-02-21 09:07:35.200",
                    "1": "spid26s",
                    "2": "24 transactions rolled forward in database 'MIH' (5:0). This is an informational message only. No user action is required."
                },
                {
                    "0": "2022-02-21 09:07:35.200",
                    "1": "spid14s",
                    "2": "Starting up database 'model'."
                },
                {
                    "0": "2022-02-21 09:07:35.200",
                    "1": "spid27s",
                    "2": "Parallel redo is started for database 'AdventureWorks2019' with worker pool size [6]."
                },
                {
                    "0": "2022-02-21 09:07:35.210",
                    "1": "spid28s",
                    "2": "25 transactions rolled forward in database 'StackOverflow2010' (7:0). This is an informational message only. No user action is required."
                },
                {
                    "0": "2022-02-21 09:07:35.240",
                    "1": "spid27s",
                    "2": "355 transactions rolled forward in database 'AdventureWorks2019' (6:0). This is an informational message only. No user action is required."
                },
                {
                    "0": "2022-02-21 09:07:35.270",
                    "1": "spid11s",
                    "2": "Recovery is writing a checkpoint in database 'msdb' (4). This is an informational message only. No user action is required."
                },
                {
                    "0": "2022-02-21 09:07:35.270",
                    "1": "spid22s",
                    "2": "A self-generated certificate was successfully loaded for encryption."
                },
                {
                    "0": "2022-02-21 09:07:35.270",
                    "1": "spid22s",
                    "2": "Server local connection provider is ready to accept connection on [ \\\\.\\pipe\\SQLLocal\\MSSQLSERVER ]."
                },
                {
                    "0": "2022-02-21 09:07:35.270",
                    "1": "spid22s",
                    "2": "Server local connection provider is ready to accept connection on [ \\\\.\\pipe\\sql\\query ]."
                },
                {
                    "0": "2022-02-21 09:07:35.290",
                    "1": "spid14s",
                    "2": "Clearing tempdb database."
                },
                {
                    "0": "2022-02-21 09:07:35.300",
                    "1": "spid26s",
                    "2": "0 transactions rolled back in database 'MIH' (5:0). This is an informational message only. No user action is required."
                },
                {
                    "0": "2022-02-21 09:07:35.300",
                    "1": "spid28s",
                    "2": "0 transactions rolled back in database 'StackOverflow2010' (7:0). This is an informational message only. No user action is required."
                },
                {
                    "0": "2022-02-21 09:07:35.300",
                    "1": "Server",
                    "2": "Server is listening on [ ::1 <ipv6> 1434]."
                },
                {
                    "0": "2022-02-21 09:07:35.300",
                    "1": "Server",
                    "2": "Server is listening on [ 127.0.0.1 <ipv4> 1434]."
                },
                {
                    "0": "2022-02-21 09:07:35.300",
                    "1": "Server",
                    "2": "Dedicated admin connection support was established for listening locally on port 1434."
                },
                {
                    "0": "2022-02-21 09:07:35.310",
                    "1": "spid22s",
                    "2": "SQL Server is now ready for client connections. This is an informational message; no user action is required."
                },
                {
                    "0": "2022-02-21 09:07:35.310",
                    "1": "spid26s",
                    "2": "Parallel redo is shutdown for database 'MIH' with worker pool size [6]."
                },
                {
                    "0": "2022-02-21 09:07:35.310",
                    "1": "Server",
                    "2": "SQL Server is attempting to register a Service Principal Name (SPN) for the SQL Server service. Kerberos authentication will not be possible until a SPN is registered for the SQL Server service. This is an informational message. No user action is required."
                },
                {
                    "0": "2022-02-21 09:07:35.310",
                    "1": "spid26s",
                    "2": "0 transactions rolled back in database 'AdventureWorks2019' (6:0). This is an informational message only. No user action is required."
                },
                {
                    "0": "2022-02-21 09:07:35.310",
                    "1": "spid28s",
                    "2": "Parallel redo is shutdown for database 'StackOverflow2010' with worker pool size [6]."
                },
                {
                    "0": "2022-02-21 09:07:35.320",
                    "1": "Server",
                    "2": "The SQL Server Network Interface library could not register the Service Principal Name (SPN) [ MSSQLSvc/JURGEN ] for the SQL Server service. Windows return code: 0xffffffff, state: 63. Failure to register a SPN might cause integrated authentication to use NTLM instead of Kerberos. This is an informational message. Further action is only required if Kerberos authentication is required by authentication policies and if the SPN has not been manually registered."
                },
                {
                    "0": "2022-02-21 09:07:35.330",
                    "1": "spid26s",
                    "2": "Parallel redo is shutdown for database 'AdventureWorks2019' with worker pool size [6]."
                },
                {
                    "0": "2022-02-21 09:07:35.380",
                    "1": "spid14s",
                    "2": "Starting up database 'tempdb'."
                },
                {
                    "0": "2022-02-21 09:07:36.170",
                    "1": "spid14s",
                    "2": "The tempdb database has 8 data file(s)."
                },
                {
                    "0": "2022-02-21 09:07:36.170",
                    "1": "spid25s",
                    "2": "The Service Broker endpoint is in disabled or stopped state."
                },
                {
                    "0": "2022-02-21 09:07:36.180",
                    "1": "spid25s",
                    "2": "The Database Mirroring endpoint is in disabled or stopped state."
                },
                {
                    "0": "2022-02-21 09:07:36.200",
                    "1": "spid25s",
                    "2": "Service Broker manager has started."
                },
                {
                    "0": "2022-02-21 09:07:36.210",
                    "1": "spid11s",
                    "2": "Recovery is complete. This is an informational message only. No user action is required."
                },
                {
                    "0": "2022-02-21 09:08:50.620",
                    "1": "spid10s",
                    "2": "A significant part of sql server process memory has been paged out. This may result in a performance degradation. Duration: 0 seconds. Working set (KB): 181424, committed (KB): 360772, memory utilization: 50%."
                },
                {
                    "0": "2022-02-21 09:12:56.230",
                    "1": "spid51",
                    "2": "Attempting to load library 'xplog70.dll' into memory. This is an informational message only. No user action is required."
                },
                {
                    "0": "2022-02-21 09:12:56.250",
                    "1": "spid51",
                    "2": "Using 'xplog70.dll' version '2019.150.2000' to execute extended stored procedure 'xp_msver'. This is an informational message only; no user action is required."
                },
                {
                    "0": "2022-02-21 09:44:20.850",
                    "1": "spid10s",
                    "2": "A significant part of sql server process memory has been paged out. This may result in a performance degradation. Duration: 0 seconds. Working set (KB): 127900, committed (KB): 326896, memory utilization: 39%."
                },
                {
                    "0": "2022-02-21 09:49:50.940",
                    "1": "spid10s",
                    "2": "A significant part of sql server process memory has been paged out. This may result in a performance degradation. Duration: 330 seconds. Working set (KB): 109136, committed (KB): 326824, memory utilization: 33%."
                },
                {
                    "0": "2022-02-21 09:55:20.320",
                    "1": "spid10s",
                    "2": "A significant part of sql server process memory has been paged out. This may result in a performance degradation. Duration: 659 seconds. Working set (KB): 109068, committed (KB): 326736, memory utilization: 33%."
                },
                {
                    "0": "2022-02-21 09:59:44.510",
                    "1": "spid10s",
                    "2": "A significant part of sql server process memory has been paged out. This may result in a performance degradation. Duration: 923 seconds. Working set (KB): 103980, committed (KB): 326936, memory utilization: 31%."
                },
                {
                    "0": "2022-02-21 10:05:14.590",
                    "1": "spid10s",
                    "2": "A significant part of sql server process memory has been paged out. This may result in a performance degradation. Duration: 1253 seconds. Working set (KB): 99428, committed (KB): 326480, memory utilization: 30%."
                },
                {
                    "0": "2022-02-21 10:09:38.620",
                    "1": "spid10s",
                    "2": "A significant part of sql server process memory has been paged out. This may result in a performance degradation. Duration: 1517 seconds. Working set (KB): 114508, committed (KB): 327264, memory utilization: 34%."
                },
                {
                    "0": "2022-02-21 10:15:09.850",
                    "1": "spid10s",
                    "2": "A significant part of sql server process memory has been paged out. This may result in a performance degradation. Duration: 1848 seconds. Working set (KB): 115388, committed (KB): 327344, memory utilization: 35%."
                },
                {
                    "0": "2022-02-21 10:44:52.820",
                    "1": "spid10s",
                    "2": "A significant part of sql server process memory has been paged out. This may result in a performance degradation. Duration: 3631 seconds. Working set (KB): 123244, committed (KB): 327832, memory utilization: 37%."
                },
                {
                    "0": "2022-02-21 11:44:24.350",
                    "1": "spid10s",
                    "2": "A significant part of sql server process memory has been paged out. This may result in a performance degradation. Duration: 7203 seconds. Working set (KB): 122924, committed (KB): 328296, memory utilization: 37%."
                },
                {
                    "0": "2022-02-21 13:44:23.040",
                    "1": "spid10s",
                    "2": "A significant part of sql server process memory has been paged out. This may result in a performance degradation. Duration: 14402 seconds. Working set (KB): 118732, committed (KB): 328304, memory utilization: 36%."
                },
                {
                    "0": "2022-02-21 16:46:55.050",
                    "1": "spid52",
                    "2": "Attempting to load library 'xpstar.dll' into memory. This is an informational message only. No user action is required."
                },
                {
                    "0": "2022-02-21 16:46:55.090",
                    "1": "spid52",
                    "2": "Using 'xpstar.dll' version '2019.150.2000' to execute extended stored procedure 'xp_instance_regread'. This is an informational message only; no user action is required."
                },
                {
                    "0": "2022-02-21 16:49:40.370",
                    "1": "spid10s",
                    "2": "A significant part of sql server process memory has been paged out. This may result in a performance degradation. Duration: 0 seconds. Working set (KB): 168484, committed (KB): 330952, memory utilization: 50%."
                },
                {
                    "0": "2022-02-21 16:51:52.640",
                    "1": "spid10s",
                    "2": "A significant part of sql server process memory has been paged out. This may result in a performance degradation. Duration: 0 seconds. Working set (KB): 167888, committed (KB): 330648, memory utilization: 50%."
                },
                {
                    "0": "2022-02-21 17:17:07.480",
                    "1": "spid10s",
                    "2": "A significant part of sql server process memory has been paged out. This may result in a performance degradation. Duration: 0 seconds. Working set (KB): 188416, committed (KB): 383736, memory utilization: 49%."
                },
                {
                    "0": "2022-02-21 17:19:37.510",
                    "1": "spid58",
                    "2": "Attempting to load library 'xpsqlbot.dll' into memory. This is an informational message only. No user action is required."
                },
                {
                    "0": "2022-02-21 17:19:37.510",
                    "1": "spid58",
                    "2": "Using 'xpsqlbot.dll' version '2019.150.2000' to execute extended stored procedure 'xp_qv'. This is an informational message only; no user action is required."
                },
                {
                    "0": "2022-02-21 17:20:25.600",
                    "1": "spid10s",
                    "2": "A significant part of sql server process memory has been paged out. This may result in a performance degradation. Duration: 0 seconds. Working set (KB): 182252, committed (KB): 357360, memory utilization: 50%.\r\n"
                }
            ]
        },
        "text/html": [
            "<table>",
            "<tr><th>logdate</th><th>ProcessInfo</th><th>Text</th></tr>",
            "<tr><td>2022-02-19 10:49:51.050</td><td>Server</td><td>Microsoft SQL Server 2019 (RTM-GDR) (KB4583458) - 15.0.2080.9 (X64) \r\n\tNov  6 2020 16:50:01 \r\n\tCopyright (C) 2019 Microsoft Corporation\r\n\tDeveloper Edition (64-bit) on Windows 10 Home 10.0 &lt;X64&gt; (Build 22000: )\r\n</td></tr>",
            "<tr><td>2022-02-19 10:49:51.080</td><td>Server</td><td>UTC adjustment: 0:00</td></tr>",
            "<tr><td>2022-02-19 10:49:51.080</td><td>Server</td><td>(c) Microsoft Corporation.</td></tr>",
            "<tr><td>2022-02-19 10:49:51.080</td><td>Server</td><td>All rights reserved.</td></tr>",
            "<tr><td>2022-02-19 10:49:51.080</td><td>Server</td><td>Server process ID is 6432.</td></tr>",
            "<tr><td>2022-02-19 10:49:51.080</td><td>Server</td><td>System Manufacturer: 'ASUSTeK COMPUTER INC.', System Model: 'ZenBook Pro 15 UX550GDX_UX580GD'.</td></tr>",
            "<tr><td>2022-02-19 10:49:51.080</td><td>Server</td><td>Authentication mode is WINDOWS-ONLY.</td></tr>",
            "<tr><td>2022-02-19 10:49:51.080</td><td>Server</td><td>Logging SQL Server messages in file 'C:\\Program Files\\Microsoft SQL Server\\MSSQL15.MSSQLSERVER\\MSSQL\\Log\\ERRORLOG'.</td></tr>",
            "<tr><td>2022-02-19 10:49:51.080</td><td>Server</td><td>The service account is 'NT Service\\MSSQLSERVER'. This is an informational message; no user action is required.</td></tr>",
            "<tr><td>2022-02-19 10:49:51.080</td><td>Server</td><td>Registry startup parameters: \r\n\t -d C:\\Program Files\\Microsoft SQL Server\\MSSQL15.MSSQLSERVER\\MSSQL\\DATA\\master.mdf\r\n\t -e C:\\Program Files\\Microsoft SQL Server\\MSSQL15.MSSQLSERVER\\MSSQL\\Log\\ERRORLOG\r\n\t -l C:\\Program Files\\Microsoft SQL Server\\MSSQL15.MSSQLSERVER\\MSSQL\\DATA\\mastlog.ldf</td></tr>",
            "<tr><td>2022-02-19 10:49:51.080</td><td>Server</td><td>Command Line Startup Parameters:\r\n\t -s &quot;MSSQLSERVER&quot;</td></tr>",
            "<tr><td>2022-02-19 10:49:51.090</td><td>Server</td><td>SQL Server detected 1 sockets with 6 cores per socket and 12 logical processors per socket, 12 total logical processors; using 12 logical processors based on SQL Server licensing. This is an informational message; no user action is required.</td></tr>",
            "<tr><td>2022-02-19 10:49:51.090</td><td>Server</td><td>SQL Server is starting at normal priority base (=7). This is an informational message only. No user action is required.</td></tr>",
            "<tr><td>2022-02-19 10:49:51.090</td><td>Server</td><td>Detected 16232 MB of RAM. This is an informational message; no user action is required.</td></tr>",
            "<tr><td>2022-02-19 10:49:51.090</td><td>Server</td><td>Using conventional memory in the memory manager.</td></tr>",
            "<tr><td>2022-02-19 10:49:51.090</td><td>Server</td><td>Page exclusion bitmap is enabled.</td></tr>",
            "<tr><td>2022-02-19 10:49:51.200</td><td>Server</td><td>Buffer Pool: Allocating 4194304 bytes for 2597276 hashPages.</td></tr>",
            "<tr><td>2022-02-19 10:49:51.240</td><td>Server</td><td>Default collation: Latin1_General_CI_AS (us_english 1033)</td></tr>",
            "<tr><td>2022-02-19 10:49:51.280</td><td>Server</td><td>Buffer pool extension is already disabled. No action is necessary.</td></tr>",
            "<tr><td>2022-02-19 10:49:51.500</td><td>Server</td><td>Query Store settings initialized with enabled = 1, </td></tr>",
            "<tr><td>2022-02-19 10:49:51.500</td><td>Server</td><td>The maximum number of dedicated administrator connections for this instance is '1'</td></tr>",
            "<tr><td>2022-02-19 10:49:51.510</td><td>Server</td><td>This instance of SQL Server last reported using a process ID of 6944 at 18/02/2022 17:54:18 (local) 18/02/2022 17:54:18 (UTC). This is an informational message only; no user action is required.</td></tr>",
            "<tr><td>2022-02-19 10:49:51.510</td><td>Server</td><td>Node configuration: node 0: CPU mask: 0x0000000000000fff:0 Active CPU mask: 0x0000000000000fff:0. This message provides a description of the NUMA configuration for this computer. This is an informational message only. No user action is required.</td></tr>",
            "<tr><td>2022-02-19 10:49:51.520</td><td>Server</td><td>Using dynamic lock allocation.  Initial allocation of 2500 Lock blocks and 5000 Lock Owner blocks per node.  This is an informational message only.  No user action is required.</td></tr>",
            "<tr><td>2022-02-19 10:49:51.530</td><td>Server</td><td>In-Memory OLTP initialized on standard machine.</td></tr>",
            "<tr><td>2022-02-19 10:49:51.550</td><td>Server</td><td>[INFO] Created Extended Events session 'hkenginexesession'\r\n</td></tr>",
            "<tr><td>2022-02-19 10:49:51.550</td><td>Server</td><td>Database Instant File Initialization: enabled. For security and performance considerations see the topic 'Database Instant File Initialization' in SQL Server Books Online. This is an informational message only. No user action is required.</td></tr>",
            "<tr><td>2022-02-19 10:49:51.560</td><td>Server</td><td>Total Log Writer threads: 2. This is an informational message; no user action is required.</td></tr>",
            "<tr><td>2022-02-19 10:49:51.570</td><td>Server</td><td>clflushopt is selected for pmem flush operation.</td></tr>",
            "<tr><td>2022-02-19 10:49:51.570</td><td>Server</td><td>Software Usage Metrics is disabled.</td></tr>",
            "<tr><td>2022-02-19 10:49:51.630</td><td>Server</td><td>CLR version v4.0.30319 loaded.</td></tr>",
            "<tr><td>2022-02-19 10:49:51.930</td><td>Server</td><td>Common language runtime (CLR) functionality initialized using CLR version v4.0.30319 from C:\\Windows\\Microsoft.NET\\Framework64\\v4.0.30319\\.</td></tr>",
            "<tr><td>2022-02-19 10:49:52.240</td><td>Server</td><td>Server is listening on [ ::1 &lt;ipv6&gt; 1434].</td></tr>",
            "<tr><td>2022-02-19 10:49:52.240</td><td>Server</td><td>Server is listening on [ 127.0.0.1 &lt;ipv4&gt; 1434].</td></tr>",
            "<tr><td>2022-02-19 10:49:52.240</td><td>Server</td><td>Dedicated admin connection support was established for listening locally on port 1434.</td></tr>",
            "<tr><td>2022-02-19 10:49:52.270</td><td>Server</td><td>SQL Server is attempting to register a Service Principal Name (SPN) for the SQL Server service. Kerberos authentication will not be possible until a SPN is registered for the SQL Server service. This is an informational message. No user action is required.</td></tr>",
            "<tr><td>2022-02-19 10:49:52.320</td><td>Server</td><td>The SQL Server Network Interface library could not register the Service Principal Name (SPN) [ MSSQLSvc/JURGEN ] for the SQL Server service. Windows return code: 0xffffffff, state: 63. Failure to register a SPN might cause integrated authentication to use NTLM instead of Kerberos. This is an informational message. Further action is only required if Kerberos authentication is required by authentication policies and if the SPN has not been manually registered.</td></tr>",
            "<tr><td>2022-02-21 09:07:34.050</td><td>Server</td><td>Microsoft SQL Server 2019 (RTM-GDR) (KB4583458) - 15.0.2080.9 (X64) \r\n\tNov  6 2020 16:50:01 \r\n\tCopyright (C) 2019 Microsoft Corporation\r\n\tDeveloper Edition (64-bit) on Windows 10 Home 10.0 &lt;X64&gt; (Build 22000: )\r\n</td></tr>",
            "<tr><td>2022-02-21 09:07:34.090</td><td>Server</td><td>UTC adjustment: 0:00</td></tr>",
            "<tr><td>2022-02-21 09:07:34.090</td><td>Server</td><td>(c) Microsoft Corporation.</td></tr>",
            "<tr><td>2022-02-21 09:07:34.090</td><td>Server</td><td>All rights reserved.</td></tr>",
            "<tr><td>2022-02-21 09:07:34.090</td><td>Server</td><td>Server process ID is 6848.</td></tr>",
            "<tr><td>2022-02-21 09:07:34.090</td><td>Server</td><td>System Manufacturer: 'ASUSTeK COMPUTER INC.', System Model: 'ZenBook Pro 15 UX550GDX_UX580GD'.</td></tr>",
            "<tr><td>2022-02-21 09:07:34.090</td><td>Server</td><td>Authentication mode is WINDOWS-ONLY.</td></tr>",
            "<tr><td>2022-02-21 09:07:34.090</td><td>Server</td><td>Logging SQL Server messages in file 'C:\\Program Files\\Microsoft SQL Server\\MSSQL15.MSSQLSERVER\\MSSQL\\Log\\ERRORLOG'.</td></tr>",
            "<tr><td>2022-02-21 09:07:34.090</td><td>Server</td><td>The service account is 'NT Service\\MSSQLSERVER'. This is an informational message; no user action is required.</td></tr>",
            "<tr><td>2022-02-21 09:07:34.090</td><td>Server</td><td>Registry startup parameters: \r\n\t -d C:\\Program Files\\Microsoft SQL Server\\MSSQL15.MSSQLSERVER\\MSSQL\\DATA\\master.mdf\r\n\t -e C:\\Program Files\\Microsoft SQL Server\\MSSQL15.MSSQLSERVER\\MSSQL\\Log\\ERRORLOG\r\n\t -l C:\\Program Files\\Microsoft SQL Server\\MSSQL15.MSSQLSERVER\\MSSQL\\DATA\\mastlog.ldf</td></tr>",
            "<tr><td>2022-02-21 09:07:34.090</td><td>Server</td><td>Command Line Startup Parameters:\r\n\t -s &quot;MSSQLSERVER&quot;</td></tr>",
            "<tr><td>2022-02-21 09:07:34.090</td><td>Server</td><td>SQL Server detected 1 sockets with 6 cores per socket and 12 logical processors per socket, 12 total logical processors; using 12 logical processors based on SQL Server licensing. This is an informational message; no user action is required.</td></tr>",
            "<tr><td>2022-02-21 09:07:34.090</td><td>Server</td><td>SQL Server is starting at normal priority base (=7). This is an informational message only. No user action is required.</td></tr>",
            "<tr><td>2022-02-21 09:07:34.090</td><td>Server</td><td>Detected 16232 MB of RAM. This is an informational message; no user action is required.</td></tr>",
            "<tr><td>2022-02-21 09:07:34.090</td><td>Server</td><td>Using conventional memory in the memory manager.</td></tr>",
            "<tr><td>2022-02-21 09:07:34.090</td><td>Server</td><td>Page exclusion bitmap is enabled.</td></tr>",
            "<tr><td>2022-02-21 09:07:34.250</td><td>Server</td><td>Buffer Pool: Allocating 4194304 bytes for 2597276 hashPages.</td></tr>",
            "<tr><td>2022-02-21 09:07:34.270</td><td>Server</td><td>Default collation: Latin1_General_CI_AS (us_english 1033)</td></tr>",
            "<tr><td>2022-02-21 09:07:34.370</td><td>Server</td><td>Buffer pool extension is already disabled. No action is necessary.</td></tr>",
            "<tr><td>2022-02-21 09:07:34.660</td><td>Server</td><td>Query Store settings initialized with enabled = 1, </td></tr>",
            "<tr><td>2022-02-21 09:07:34.670</td><td>Server</td><td>The maximum number of dedicated administrator connections for this instance is '1'</td></tr>",
            "<tr><td>2022-02-21 09:07:34.670</td><td>Server</td><td>This instance of SQL Server last reported using a process ID of 6432 at 19/02/2022 11:11:54 (local) 19/02/2022 11:11:54 (UTC). This is an informational message only; no user action is required.</td></tr>",
            "<tr><td>2022-02-21 09:07:34.680</td><td>Server</td><td>Node configuration: node 0: CPU mask: 0x0000000000000fff:0 Active CPU mask: 0x0000000000000fff:0. This message provides a description of the NUMA configuration for this computer. This is an informational message only. No user action is required.</td></tr>",
            "<tr><td>2022-02-21 09:07:34.690</td><td>Server</td><td>Using dynamic lock allocation.  Initial allocation of 2500 Lock blocks and 5000 Lock Owner blocks per node.  This is an informational message only.  No user action is required.</td></tr>",
            "<tr><td>2022-02-21 09:07:34.710</td><td>Server</td><td>In-Memory OLTP initialized on standard machine.</td></tr>",
            "<tr><td>2022-02-21 09:07:34.750</td><td>Server</td><td>[INFO] Created Extended Events session 'hkenginexesession'\r\n</td></tr>",
            "<tr><td>2022-02-21 09:07:34.750</td><td>Server</td><td>Database Instant File Initialization: enabled. For security and performance considerations see the topic 'Database Instant File Initialization' in SQL Server Books Online. This is an informational message only. No user action is required.</td></tr>",
            "<tr><td>2022-02-21 09:07:34.790</td><td>Server</td><td>Total Log Writer threads: 2. This is an informational message; no user action is required.</td></tr>",
            "<tr><td>2022-02-21 09:07:34.800</td><td>Server</td><td>clflushopt is selected for pmem flush operation.</td></tr>",
            "<tr><td>2022-02-21 09:07:34.800</td><td>Server</td><td>Software Usage Metrics is disabled.</td></tr>",
            "<tr><td>2022-02-21 09:07:34.820</td><td>Server</td><td>CLR version v4.0.30319 loaded.</td></tr>",
            "<tr><td>2022-02-21 09:07:34.880</td><td>spid11s</td><td>Starting up database 'master'.</td></tr>",
            "<tr><td>2022-02-21 09:07:34.960</td><td>spid11s</td><td>18 transactions rolled forward in database 'master' (1:0). This is an informational message only. No user action is required.</td></tr>",
            "<tr><td>2022-02-21 09:07:34.980</td><td>spid11s</td><td>0 transactions rolled back in database 'master' (1:0). This is an informational message only. No user action is required.</td></tr>",
            "<tr><td>2022-02-21 09:07:34.980</td><td>spid11s</td><td>Recovery is writing a checkpoint in database 'master' (1). This is an informational message only. No user action is required.</td></tr>",
            "<tr><td>2022-02-21 09:07:34.990</td><td>Server</td><td>Common language runtime (CLR) functionality initialized using CLR version v4.0.30319 from C:\\Windows\\Microsoft.NET\\Framework64\\v4.0.30319\\.</td></tr>",
            "<tr><td>2022-02-21 09:07:35.130</td><td>spid11s</td><td>Resource governor reconfiguration succeeded.</td></tr>",
            "<tr><td>2022-02-21 09:07:35.130</td><td>spid11s</td><td>SQL Server Audit is starting the audits. This is an informational message. No user action is required.</td></tr>",
            "<tr><td>2022-02-21 09:07:35.130</td><td>spid11s</td><td>Audit: Server Audit: 65545, Initialized and Assigned State: START_FAILED</td></tr>",
            "<tr><td>2022-02-21 09:07:35.130</td><td>spid11s</td><td>Audit: Server Audit: 65545, Initialized and Assigned State: STARTED</td></tr>",
            "<tr><td>2022-02-21 09:07:35.140</td><td>spid11s</td><td>SQL Server Audit has started the audits. This is an informational message. No user action is required.</td></tr>",
            "<tr><td>2022-02-21 09:07:35.150</td><td>spid11s</td><td>SQL Trace ID 1 was started by login &quot;sa&quot;.</td></tr>",
            "<tr><td>2022-02-21 09:07:35.160</td><td>spid11s</td><td>Server name is 'JURGEN'. This is an informational message only. No user action is required.</td></tr>",
            "<tr><td>2022-02-21 09:07:35.170</td><td>spid23s</td><td>Always On: The availability replica manager is starting. This is an informational message only. No user action is required.</td></tr>",
            "<tr><td>2022-02-21 09:07:35.170</td><td>spid25s</td><td>Starting up database 'msdb'.</td></tr>",
            "<tr><td>2022-02-21 09:07:35.170</td><td>spid26s</td><td>Starting up database 'MIH'.</td></tr>",
            "<tr><td>2022-02-21 09:07:35.170</td><td>spid27s</td><td>Starting up database 'AdventureWorks2019'.</td></tr>",
            "<tr><td>2022-02-21 09:07:35.170</td><td>spid28s</td><td>Starting up database 'StackOverflow2010'.</td></tr>",
            "<tr><td>2022-02-21 09:07:35.170</td><td>spid23s</td><td>Always On: The availability replica manager is waiting for the instance of SQL Server to allow client connections. This is an informational message only. No user action is required.</td></tr>",
            "<tr><td>2022-02-21 09:07:35.170</td><td>spid14s</td><td>Starting up database 'mssqlsystemresource'.</td></tr>",
            "<tr><td>2022-02-21 09:07:35.180</td><td>spid14s</td><td>The resource database build version is 15.00.2080. This is an informational message only. No user action is required.</td></tr>",
            "<tr><td>2022-02-21 09:07:35.200</td><td>spid26s</td><td>Parallel redo is started for database 'MIH' with worker pool size [6].</td></tr>",
            "<tr><td>2022-02-21 09:07:35.200</td><td>spid28s</td><td>Parallel redo is started for database 'StackOverflow2010' with worker pool size [6].</td></tr>",
            "<tr><td>2022-02-21 09:07:35.200</td><td>spid26s</td><td>24 transactions rolled forward in database 'MIH' (5:0). This is an informational message only. No user action is required.</td></tr>",
            "<tr><td>2022-02-21 09:07:35.200</td><td>spid14s</td><td>Starting up database 'model'.</td></tr>",
            "<tr><td>2022-02-21 09:07:35.200</td><td>spid27s</td><td>Parallel redo is started for database 'AdventureWorks2019' with worker pool size [6].</td></tr>",
            "<tr><td>2022-02-21 09:07:35.210</td><td>spid28s</td><td>25 transactions rolled forward in database 'StackOverflow2010' (7:0). This is an informational message only. No user action is required.</td></tr>",
            "<tr><td>2022-02-21 09:07:35.240</td><td>spid27s</td><td>355 transactions rolled forward in database 'AdventureWorks2019' (6:0). This is an informational message only. No user action is required.</td></tr>",
            "<tr><td>2022-02-21 09:07:35.270</td><td>spid11s</td><td>Recovery is writing a checkpoint in database 'msdb' (4). This is an informational message only. No user action is required.</td></tr>",
            "<tr><td>2022-02-21 09:07:35.270</td><td>spid22s</td><td>A self-generated certificate was successfully loaded for encryption.</td></tr>",
            "<tr><td>2022-02-21 09:07:35.270</td><td>spid22s</td><td>Server local connection provider is ready to accept connection on [ \\\\.\\pipe\\SQLLocal\\MSSQLSERVER ].</td></tr>",
            "<tr><td>2022-02-21 09:07:35.270</td><td>spid22s</td><td>Server local connection provider is ready to accept connection on [ \\\\.\\pipe\\sql\\query ].</td></tr>",
            "<tr><td>2022-02-21 09:07:35.290</td><td>spid14s</td><td>Clearing tempdb database.</td></tr>",
            "<tr><td>2022-02-21 09:07:35.300</td><td>spid26s</td><td>0 transactions rolled back in database 'MIH' (5:0). This is an informational message only. No user action is required.</td></tr>",
            "<tr><td>2022-02-21 09:07:35.300</td><td>spid28s</td><td>0 transactions rolled back in database 'StackOverflow2010' (7:0). This is an informational message only. No user action is required.</td></tr>",
            "<tr><td>2022-02-21 09:07:35.300</td><td>Server</td><td>Server is listening on [ ::1 &lt;ipv6&gt; 1434].</td></tr>",
            "<tr><td>2022-02-21 09:07:35.300</td><td>Server</td><td>Server is listening on [ 127.0.0.1 &lt;ipv4&gt; 1434].</td></tr>",
            "<tr><td>2022-02-21 09:07:35.300</td><td>Server</td><td>Dedicated admin connection support was established for listening locally on port 1434.</td></tr>",
            "<tr><td>2022-02-21 09:07:35.310</td><td>spid22s</td><td>SQL Server is now ready for client connections. This is an informational message; no user action is required.</td></tr>",
            "<tr><td>2022-02-21 09:07:35.310</td><td>spid26s</td><td>Parallel redo is shutdown for database 'MIH' with worker pool size [6].</td></tr>",
            "<tr><td>2022-02-21 09:07:35.310</td><td>Server</td><td>SQL Server is attempting to register a Service Principal Name (SPN) for the SQL Server service. Kerberos authentication will not be possible until a SPN is registered for the SQL Server service. This is an informational message. No user action is required.</td></tr>",
            "<tr><td>2022-02-21 09:07:35.310</td><td>spid26s</td><td>0 transactions rolled back in database 'AdventureWorks2019' (6:0). This is an informational message only. No user action is required.</td></tr>",
            "<tr><td>2022-02-21 09:07:35.310</td><td>spid28s</td><td>Parallel redo is shutdown for database 'StackOverflow2010' with worker pool size [6].</td></tr>",
            "<tr><td>2022-02-21 09:07:35.320</td><td>Server</td><td>The SQL Server Network Interface library could not register the Service Principal Name (SPN) [ MSSQLSvc/JURGEN ] for the SQL Server service. Windows return code: 0xffffffff, state: 63. Failure to register a SPN might cause integrated authentication to use NTLM instead of Kerberos. This is an informational message. Further action is only required if Kerberos authentication is required by authentication policies and if the SPN has not been manually registered.</td></tr>",
            "<tr><td>2022-02-21 09:07:35.330</td><td>spid26s</td><td>Parallel redo is shutdown for database 'AdventureWorks2019' with worker pool size [6].</td></tr>",
            "<tr><td>2022-02-21 09:07:35.380</td><td>spid14s</td><td>Starting up database 'tempdb'.</td></tr>",
            "<tr><td>2022-02-21 09:07:36.170</td><td>spid14s</td><td>The tempdb database has 8 data file(s).</td></tr>",
            "<tr><td>2022-02-21 09:07:36.170</td><td>spid25s</td><td>The Service Broker endpoint is in disabled or stopped state.</td></tr>",
            "<tr><td>2022-02-21 09:07:36.180</td><td>spid25s</td><td>The Database Mirroring endpoint is in disabled or stopped state.</td></tr>",
            "<tr><td>2022-02-21 09:07:36.200</td><td>spid25s</td><td>Service Broker manager has started.</td></tr>",
            "<tr><td>2022-02-21 09:07:36.210</td><td>spid11s</td><td>Recovery is complete. This is an informational message only. No user action is required.</td></tr>",
            "<tr><td>2022-02-21 09:08:50.620</td><td>spid10s</td><td>A significant part of sql server process memory has been paged out. This may result in a performance degradation. Duration: 0 seconds. Working set (KB): 181424, committed (KB): 360772, memory utilization: 50%.</td></tr>",
            "<tr><td>2022-02-21 09:12:56.230</td><td>spid51</td><td>Attempting to load library 'xplog70.dll' into memory. This is an informational message only. No user action is required.</td></tr>",
            "<tr><td>2022-02-21 09:12:56.250</td><td>spid51</td><td>Using 'xplog70.dll' version '2019.150.2000' to execute extended stored procedure 'xp_msver'. This is an informational message only; no user action is required.</td></tr>",
            "<tr><td>2022-02-21 09:44:20.850</td><td>spid10s</td><td>A significant part of sql server process memory has been paged out. This may result in a performance degradation. Duration: 0 seconds. Working set (KB): 127900, committed (KB): 326896, memory utilization: 39%.</td></tr>",
            "<tr><td>2022-02-21 09:49:50.940</td><td>spid10s</td><td>A significant part of sql server process memory has been paged out. This may result in a performance degradation. Duration: 330 seconds. Working set (KB): 109136, committed (KB): 326824, memory utilization: 33%.</td></tr>",
            "<tr><td>2022-02-21 09:55:20.320</td><td>spid10s</td><td>A significant part of sql server process memory has been paged out. This may result in a performance degradation. Duration: 659 seconds. Working set (KB): 109068, committed (KB): 326736, memory utilization: 33%.</td></tr>",
            "<tr><td>2022-02-21 09:59:44.510</td><td>spid10s</td><td>A significant part of sql server process memory has been paged out. This may result in a performance degradation. Duration: 923 seconds. Working set (KB): 103980, committed (KB): 326936, memory utilization: 31%.</td></tr>",
            "<tr><td>2022-02-21 10:05:14.590</td><td>spid10s</td><td>A significant part of sql server process memory has been paged out. This may result in a performance degradation. Duration: 1253 seconds. Working set (KB): 99428, committed (KB): 326480, memory utilization: 30%.</td></tr>",
            "<tr><td>2022-02-21 10:09:38.620</td><td>spid10s</td><td>A significant part of sql server process memory has been paged out. This may result in a performance degradation. Duration: 1517 seconds. Working set (KB): 114508, committed (KB): 327264, memory utilization: 34%.</td></tr>",
            "<tr><td>2022-02-21 10:15:09.850</td><td>spid10s</td><td>A significant part of sql server process memory has been paged out. This may result in a performance degradation. Duration: 1848 seconds. Working set (KB): 115388, committed (KB): 327344, memory utilization: 35%.</td></tr>",
            "<tr><td>2022-02-21 10:44:52.820</td><td>spid10s</td><td>A significant part of sql server process memory has been paged out. This may result in a performance degradation. Duration: 3631 seconds. Working set (KB): 123244, committed (KB): 327832, memory utilization: 37%.</td></tr>",
            "<tr><td>2022-02-21 11:44:24.350</td><td>spid10s</td><td>A significant part of sql server process memory has been paged out. This may result in a performance degradation. Duration: 7203 seconds. Working set (KB): 122924, committed (KB): 328296, memory utilization: 37%.</td></tr>",
            "<tr><td>2022-02-21 13:44:23.040</td><td>spid10s</td><td>A significant part of sql server process memory has been paged out. This may result in a performance degradation. Duration: 14402 seconds. Working set (KB): 118732, committed (KB): 328304, memory utilization: 36%.</td></tr>",
            "<tr><td>2022-02-21 16:46:55.050</td><td>spid52</td><td>Attempting to load library 'xpstar.dll' into memory. This is an informational message only. No user action is required.</td></tr>",
            "<tr><td>2022-02-21 16:46:55.090</td><td>spid52</td><td>Using 'xpstar.dll' version '2019.150.2000' to execute extended stored procedure 'xp_instance_regread'. This is an informational message only; no user action is required.</td></tr>",
            "<tr><td>2022-02-21 16:49:40.370</td><td>spid10s</td><td>A significant part of sql server process memory has been paged out. This may result in a performance degradation. Duration: 0 seconds. Working set (KB): 168484, committed (KB): 330952, memory utilization: 50%.</td></tr>",
            "<tr><td>2022-02-21 16:51:52.640</td><td>spid10s</td><td>A significant part of sql server process memory has been paged out. This may result in a performance degradation. Duration: 0 seconds. Working set (KB): 167888, committed (KB): 330648, memory utilization: 50%.</td></tr>",
            "<tr><td>2022-02-21 17:17:07.480</td><td>spid10s</td><td>A significant part of sql server process memory has been paged out. This may result in a performance degradation. Duration: 0 seconds. Working set (KB): 188416, committed (KB): 383736, memory utilization: 49%.</td></tr>",
            "<tr><td>2022-02-21 17:19:37.510</td><td>spid58</td><td>Attempting to load library 'xpsqlbot.dll' into memory. This is an informational message only. No user action is required.</td></tr>",
            "<tr><td>2022-02-21 17:19:37.510</td><td>spid58</td><td>Using 'xpsqlbot.dll' version '2019.150.2000' to execute extended stored procedure 'xp_qv'. This is an informational message only; no user action is required.</td></tr>",
            "<tr><td>2022-02-21 17:20:25.600</td><td>spid10s</td><td>A significant part of sql server process memory has been paged out. This may result in a performance degradation. Duration: 0 seconds. Working set (KB): 182252, committed (KB): 357360, memory utilization: 50%.\r\n</td></tr>",
            "</table>"
        ]
    }
}
],
            "execution_count": 3
        },
        {
            "cell_type": "markdown",
            "source": [
                "## [Home](file:///C:/SQLScriptsLibrary/Home.ipynb)"
            ],
            "metadata": {
                "azdata_cell_guid": "9bfedbb8-e963-4756-bf9c-ef9794e8b31e"
            }
        }
    ]
}