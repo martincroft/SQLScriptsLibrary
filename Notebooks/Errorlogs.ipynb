{
    "metadata": {
        "kernelspec": {
            "name": "SQL",
            "display_name": "SQL",
            "language": "sql"
        },
        "language_info": {
            "name": "sql",
            "version": ""
        },
        "extensions": {
            "azuredatastudio": {
                "version": 1,
                "views": []
            }
        }
    },
    "nbformat_minor": 2,
    "nbformat": 4,
    "cells": [
        {
            "cell_type": "markdown",
            "source": [
                "## [Home](file:///C:/SQLScriptsLibrary/Home.ipynb)"
            ],
            "metadata": {
                "azdata_cell_guid": "333b441a-8874-40cd-947a-c35aad0d4639",
                "extensions": {
                    "azuredatastudio": {
                        "views": []
                    }
                }
            }
        },
        {
            "cell_type": "markdown",
            "source": [
                "# Error Logs\n",
                "\n",
                "> - Set up weekly cycle error log job (Q1)\n",
                "> - Read all the event logs (Q2)"
            ],
            "metadata": {
                "azdata_cell_guid": "665be742-c206-406e-9482-48aa1ab69f6c"
            },
            "attachments": {}
        },
        {
            "cell_type": "markdown",
            "source": [
                "> - Set up weekly cycle error log job (Q1)"
            ],
            "metadata": {
                "azdata_cell_guid": "1cdb9a3d-6e24-44e0-ab6c-2cf6d50422e0"
            },
            "attachments": {}
        },
        {
            "cell_type": "code",
            "source": [
                "/* Set up weekly cycle error log job 8AM Sunday */\r\n",
                "USE [msdb]\r\n",
                "GO\r\n",
                "\r\n",
                "/****** Object:  Job [DBA - Weekly Error Log Recycle]    Script Date: 23/12/2021 12:26:19 ******/\r\n",
                "BEGIN TRANSACTION\r\n",
                "DECLARE @ReturnCode INT\r\n",
                "SELECT @ReturnCode = 0\r\n",
                "/****** Object:  JobCategory [[Uncategorized (Local)]]    Script Date: 23/12/2021 12:26:19 ******/\r\n",
                "IF NOT EXISTS (SELECT name FROM msdb.dbo.syscategories WHERE name=N'[Uncategorized (Local)]' AND category_class=1)\r\n",
                "BEGIN\r\n",
                "EXEC @ReturnCode = msdb.dbo.sp_add_category @class=N'JOB', @type=N'LOCAL', @name=N'[Uncategorized (Local)]'\r\n",
                "IF (@@ERROR <> 0 OR @ReturnCode <> 0) GOTO QuitWithRollback\r\n",
                "\r\n",
                "END\r\n",
                "\r\n",
                "DECLARE @jobId BINARY(16)\r\n",
                "EXEC @ReturnCode =  msdb.dbo.sp_add_job @job_name=N'DBA - Weekly Error Log Recycle', \r\n",
                "\t\t@enabled=1, \r\n",
                "\t\t@notify_level_eventlog=0, \r\n",
                "\t\t@notify_level_email=0, \r\n",
                "\t\t@notify_level_netsend=0, \r\n",
                "\t\t@notify_level_page=0, \r\n",
                "\t\t@delete_level=0, \r\n",
                "\t\t@description=N'No description available.', \r\n",
                "\t\t@category_name=N'[Uncategorized (Local)]', \r\n",
                "\t\t@owner_login_name=N'sa', @job_id = @jobId OUTPUT\r\n",
                "IF (@@ERROR <> 0 OR @ReturnCode <> 0) GOTO QuitWithRollback\r\n",
                "/****** Object:  Step [Recycle errorlog]    Script Date: 23/12/2021 12:26:19 ******/\r\n",
                "EXEC @ReturnCode = msdb.dbo.sp_add_jobstep @job_id=@jobId, @step_name=N'Recycle errorlog', \r\n",
                "\t\t@step_id=1, \r\n",
                "\t\t@cmdexec_success_code=0, \r\n",
                "\t\t@on_success_action=1, \r\n",
                "\t\t@on_success_step_id=0, \r\n",
                "\t\t@on_fail_action=2, \r\n",
                "\t\t@on_fail_step_id=0, \r\n",
                "\t\t@retry_attempts=0, \r\n",
                "\t\t@retry_interval=0, \r\n",
                "\t\t@os_run_priority=0, @subsystem=N'TSQL', \r\n",
                "\t\t@command=N'EXEC sp_cycle_errorlog', \r\n",
                "\t\t@database_name=N'master', \r\n",
                "\t\t@flags=0\r\n",
                "IF (@@ERROR <> 0 OR @ReturnCode <> 0) GOTO QuitWithRollback\r\n",
                "EXEC @ReturnCode = msdb.dbo.sp_update_job @job_id = @jobId, @start_step_id = 1\r\n",
                "IF (@@ERROR <> 0 OR @ReturnCode <> 0) GOTO QuitWithRollback\r\n",
                "EXEC @ReturnCode = msdb.dbo.sp_add_jobschedule @job_id=@jobId, @name=N'Weekly 8AM Sunday', \r\n",
                "\t\t@enabled=1, \r\n",
                "\t\t@freq_type=8, \r\n",
                "\t\t@freq_interval=1, \r\n",
                "\t\t@freq_subday_type=1, \r\n",
                "\t\t@freq_subday_interval=0, \r\n",
                "\t\t@freq_relative_interval=0, \r\n",
                "\t\t@freq_recurrence_factor=1, \r\n",
                "\t\t@active_start_date=20210920, \r\n",
                "\t\t@active_end_date=99991231, \r\n",
                "\t\t@active_start_time=80000, \r\n",
                "\t\t@active_end_time=235959, \r\n",
                "\t\t@schedule_uid=N'7319c221-e0d9-454c-9e41-07ce47650768'\r\n",
                "IF (@@ERROR <> 0 OR @ReturnCode <> 0) GOTO QuitWithRollback\r\n",
                "EXEC @ReturnCode = msdb.dbo.sp_add_jobserver @job_id = @jobId, @server_name = N'(local)'\r\n",
                "IF (@@ERROR <> 0 OR @ReturnCode <> 0) GOTO QuitWithRollback\r\n",
                "COMMIT TRANSACTION\r\n",
                "GOTO EndSave\r\n",
                "QuitWithRollback:\r\n",
                "    IF (@@TRANCOUNT > 0) ROLLBACK TRANSACTION\r\n",
                "EndSave:\r\n",
                "GO\r\n",
                "\r\n",
                "\r\n",
                ""
            ],
            "metadata": {
                "azdata_cell_guid": "e393d7cf-7698-4f48-826f-2f4cddd4faa3",
                "tags": [
                    "hide_input"
                ]
            },
            "outputs": [],
            "execution_count": null
        },
        {
            "cell_type": "markdown",
            "source": [
                "> - Read all the event logs (Q2)"
            ],
            "metadata": {
                "azdata_cell_guid": "5aea0751-bf75-4a67-8868-c64be19bf93b"
            }
        },
        {
            "cell_type": "code",
            "source": [
                "/* Read Error logs.sql  #SQL */\r\n",
                "--https://thelonedba.wordpress.com/2019/08/16/reading-sql-server-error-logs/\r\n",
                "\r\n",
                "SET NOCOUNT ON\r\n",
                "DECLARE @daysback INT = 0; -- number of days to go back in the logs.  0 = today only\r\n",
                " \r\n",
                "-- table variable for holding the details of the error logs.\r\n",
                "-- Yes, I know, table variables are evil.  This one is unlikely to hold more than a few dozen rather narrow lines\r\n",
                "DECLARE @ErrorLogs TABLE\r\n",
                "(\r\n",
                "    Archive INT NOT NULL,\r\n",
                "    LogDate DATETIME NOT NULL,\r\n",
                "    LogFileSizeBytes BIGINT NOT NULL,\r\n",
                "    ReadThis TINYINT NULL\r\n",
                ");\r\n",
                " \r\n",
                "-- useful trick if you don't know it: INSERT INTO a table the results of EXECing a SP.\r\n",
                "INSERT INTO @ErrorLogs (Archive, LogDate, LogFileSizeBytes)\r\n",
                "EXEC sys.sp_enumerrorlogs;\r\n",
                " \r\n",
                "DECLARE @lognum INT = 0;\r\n",
                "DECLARE @logdate DATETIME;\r\n",
                " \r\n",
                "--figure out which logfiles we need.\r\n",
                "WITH\r\n",
                "    NextLog\r\n",
                "  AS\r\n",
                "  (\r\n",
                "      SELECT    Archive,\r\n",
                "                LogDate,\r\n",
                "                LogFileSizeBytes,\r\n",
                "                ReadThis,\r\n",
                "                ISNULL(LAG(LogDate) OVER (ORDER BY Archive), LogDate) AS nextlogdate\r\n",
                "      FROM      @ErrorLogs\r\n",
                "  )\r\n",
                "UPDATE          @ErrorLogs\r\n",
                "SET             ReadThis = CASE\r\n",
                "                               WHEN e.Archive = 1 THEN 1 -- always read the first file; doesn't always get identified by the next line\r\n",
                "                               WHEN n.nextlogdate >= DATEADD(DAY, DATEDIFF(DAY, '20100101', GETDATE()) - ABS(@daysback), '20100101') THEN\r\n",
                "                                   1\r\n",
                "                               ELSE\r\n",
                "                                   0\r\n",
                "                           END\r\n",
                "FROM            NextLog    AS n\r\n",
                "    INNER JOIN  @ErrorLogs AS e ON e.Archive = n.Archive;\r\n",
                " \r\n",
                "--just checking which files we're looking at...  Probably comment this line out for production use\r\n",
                "SELECT      *\r\n",
                "FROM        @ErrorLogs\r\n",
                "ORDER BY    Archive;\r\n",
                " \r\n",
                "IF OBJECT_ID('tempdb.dbo.#spErrorLog', 'U') IS NOT NULL BEGIN\r\n",
                "    DROP TABLE #spErrorLog;\r\n",
                "END;\r\n",
                " \r\n",
                "CREATE TABLE #spErrorLog (logdate DATETIME NOT NULL, ProcessInfo VARCHAR(20) NULL, Text VARCHAR(MAX) NOT NULL);\r\n",
                " \r\n",
                "WHILE @lognum <= (SELECT    MAX(Archive)FROM   @ErrorLogs WHERE ReadThis = 1)\r\n",
                "BEGIN\r\n",
                "    INSERT INTO #spErrorLog\r\n",
                "    EXEC sys.sp_readerrorlog @p1 = @lognum;\r\n",
                " \r\n",
                "    SELECT  @lognum = @lognum + 1;\r\n",
                " \r\n",
                "    SELECT  @logdate = LogDate\r\n",
                "    FROM    @ErrorLogs\r\n",
                "    WHERE   Archive = @lognum;\r\n",
                "END;\r\n",
                " \r\n",
                "SELECT      *\r\n",
                "FROM        #spErrorLog\r\n",
                "WHERE\r\n",
                "            1 = 1\r\n",
                "  AND\r\n",
                "            (\r\n",
                "                ProcessInfo = 'Server' -- we like server-related boot messages.\r\n",
                "           OR\r\n",
                "                ( -- filter out noisy messages that we don't really need to see here\r\n",
                "                    Text NOT LIKE '%Backup Log%'\r\n",
                "              AND   Text NOT LIKE 'Log was backed up%'\r\n",
                "              AND   Text NOT LIKE 'CHECKDB for database % finished without errors on %This is an informational message only; no user action is required.'\r\n",
                "              AND   Text NOT LIKE 'DBCC CHECKDB % WITH all_errormsgs, no_infomsgs, data_purity executed by % found 0 errors and repaired 0 errors.%'\r\n",
                "              AND   Text NOT LIKE 'BACKUP DATABASE WITH DIFFERENTIAL successfully processed % pages%'\r\n",
                "              AND   Text NOT LIKE 'Database differential changes were backed up. Database: % This is an informational message. No user action is required.'\r\n",
                "              AND   Text NOT LIKE 'BACKUP DATABASE successfully processed % pages %'\r\n",
                "              AND   Text NOT LIKE 'Database backed up. Database: % This is an informational message only. No user action is required.'\r\n",
                "              AND   logdate >= DATEADD(DAY, DATEDIFF(DAY, '20100101', GETDATE()) - ABS(@daysback), '20100101')\r\n",
                "                )\r\n",
                "            )\r\n",
                "ORDER BY    logdate;\r\n",
                ""
            ],
            "metadata": {
                "azdata_cell_guid": "c64e06d4-9fe7-45f5-9467-c3d7f3021108"
            },
            "outputs": [],
            "execution_count": null
        },
        {
            "cell_type": "markdown",
            "source": [
                "## [Home](file:///C:/SQLScriptsLibrary/Home.ipynb)"
            ],
            "metadata": {
                "azdata_cell_guid": "9bfedbb8-e963-4756-bf9c-ef9794e8b31e"
            }
        }
    ]
}