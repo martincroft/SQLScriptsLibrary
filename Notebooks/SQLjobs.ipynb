{
    "metadata": {
        "kernelspec": {
            "name": "SQL",
            "display_name": "SQL",
            "language": "sql"
        },
        "language_info": {
            "name": "sql",
            "version": ""
        }
    },
    "nbformat_minor": 2,
    "nbformat": 4,
    "cells": [
        {
            "cell_type": "markdown",
            "source": [
                "## [Home](file:///C:/SQLScriptsLibrary/Home.ipynb)"
            ],
            "metadata": {
                "azdata_cell_guid": "a4b4894a-1628-471a-a06f-9c34468e6092"
            }
        },
        {
            "cell_type": "markdown",
            "source": [
                "# SQL Agent Scripts\r\n",
                "\r\n",
                "- #1 List current eneabled / disabled jobs - "
            ],
            "metadata": {
                "azdata_cell_guid": "c0a1951e-f2ce-4dde-a9c3-16398997bb9e"
            }
        },
        {
            "cell_type": "markdown",
            "source": [
                "> **Job information**\n",
                "> \n",
                "> - List Jobs enabled, disabled by Name (Q1)\n",
                "> - Job history specific job steps (Q3.1)\n",
                ">  **Passwords**\n",
                "> - Update user passwords (Quer4)\n",
                "> - Add user to sysadmin - AD Connection (Query 5)\n",
                "> - Add use to server and sysadmin SQL user (Query 6)\n",
                "> - Add User to database role - data reader (query 7)"
            ],
            "metadata": {
                "azdata_cell_guid": "41ceb500-8e08-4512-84e6-57a7af5eaaac"
            }
        },
        {
            "cell_type": "markdown",
            "source": [
                "### **<u>Enabled jobs (Query 1) </u>**\r\n",
                "> List Jobs enabled, disabled by Name "
            ],
            "metadata": {
                "azdata_cell_guid": "601f8c4b-9a61-4568-8273-0a2973306f92"
            }
        },
        {
            "cell_type": "code",
            "source": [
                "SELECT Name\r\n",
                "    , enabled\r\n",
                "FROM MSDB.dbo.sysjobs\r\n",
                "ORDER BY Enabled DESC\r\n",
                "    , Name\r\n",
                ""
            ],
            "metadata": {
                "azdata_cell_guid": "e64e9b40-bb43-42a2-a35d-476dcaf4134a"
            },
            "outputs": [],
            "execution_count": null
        },
        {
            "cell_type": "markdown",
            "source": [
                "# Job History"
            ],
            "metadata": {
                "azdata_cell_guid": "2a48e933-d73d-4808-b6ba-909f07464d8c"
            }
        },
        {
            "cell_type": "markdown",
            "source": [
                "### **<u>Job History (Q</u>uery <u>2)</u>**\n",
                "\n",
                "> Details of SQL job history"
            ],
            "metadata": {
                "azdata_cell_guid": "8647377a-8b23-40b0-9e6e-5810ab14beba"
            },
            "attachments": {}
        },
        {
            "cell_type": "code",
            "source": [
                "SELECT      \r\n",
                "      j.Name AS 'Job Name', \r\n",
                "    '\"' + NULLIF(j.Description, 'No description available.') + '\"' AS 'Description',\r\n",
                "    SUSER_SNAME(j.owner_sid) AS 'Job Owner',  \r\n",
                "     (SELECT COUNT(step_id) FROM msdb.dbo.sysjobsteps WHERE job_id = j.job_id) AS 'Number of Steps',\r\n",
                "     (SELECT COUNT(step_id) FROM msdb.dbo.sysjobsteps WHERE job_id = j.job_id AND command LIKE '%xp_cmdshell%') AS 'has_xpcmdshell',\r\n",
                "    'Frequency' = CASE s.freq_type\r\n",
                "        WHEN 1 THEN 'Once'\r\n",
                "        WHEN 4 THEN 'Daily'\r\n",
                "        WHEN 0 THEN 'Once'\r\n",
                "        ELSE cast('Every ' \r\n",
                "                + right(s.freq_subday_interval,2) \r\n",
                "                + ' '\r\n",
                "                +     CASE(s.freq_subday_type)\r\n",
                "                            WHEN 1 THEN 'Once'\r\n",
                "                            WHEN 4 THEN 'Minutes'\r\n",
                "                            WHEN 8 THEN 'Hours'\r\n",
                "                        END as char(16))\r\n",
                "    END,\r\n",
                "    'Start Time'= CONVERT(DATETIME, RTRIM(NULLIF(js.next_run_date, 0)) + ' '\r\n",
                "        + STUFF(STUFF(REPLACE(STR(RTRIM(js.next_run_time),6,0),\r\n",
                "        ' ','0'),3,0,':'),6,0,':')),      \r\n",
                "    'Max Duration' = STUFF(STUFF(REPLACE(STR(maxdur.run_duration,7,0),\r\n",
                "        ' ','0'),4,0,':'),7,0,':'),\r\n",
                "    'Last Run Duration' = STUFF(STUFF(REPLACE(STR(lastrun.run_duration,7,0),\r\n",
                "        ' ','0'),4,0,':'),7,0,':'), --,\r\n",
                "    'Last Start Date' = CONVERT(DATETIME, RTRIM(lastrun.run_date) + ' '\r\n",
                "        + STUFF(STUFF(REPLACE(STR(RTRIM(lastrun.run_time),6,0),\r\n",
                "        ' ','0'),3,0,':'),6,0,':')), \r\n",
                "    'Last Run Message' = lastrun.message,\r\n",
                "    'Job Type' = CASE SUBSTRING(j.name,1,3)\r\n",
                "        WHEN 'DMS' THEN 'DMS'\r\n",
                "        WHEN 'GLO' THEN 'DMS'\r\n",
                "        ELSE 'Maintenance'\r\n",
                "      END,\r\n",
                "     'Category' = CASE j.category_id\r\n",
                "        WHEN 0 THEN 'Unclassified'\r\n",
                "        WHEN 3 THEN 'Database Maintenance'\r\n",
                "        WHEN 100 THEN 'DBA Tasks'\r\n",
                "        ELSE 'unknown'\r\n",
                "      END,\r\n",
                "      j.date_modified, j.version_number, --mj \r\n",
                " \r\n",
                "     'Job Enabled' = CASE j.Enabled\r\n",
                "        WHEN 1 THEN 'Yes'\r\n",
                "        WHEN 0 THEN 'No'\r\n",
                "      END\r\n",
                "    \r\n",
                "FROM msdb.dbo.sysjobs j\r\n",
                "LEFT OUTER JOIN msdb.dbo.sysjobschedules js\r\n",
                "    ON j.job_id = js.job_id\r\n",
                "LEFT OUTER JOIN msdb.dbo.sysschedules s\r\n",
                "    ON js.schedule_id = s.schedule_id \r\n",
                "LEFT OUTER JOIN (SELECT job_id, max(run_duration) AS run_duration\r\n",
                "        FROM msdb.dbo.sysjobhistory\r\n",
                "        GROUP BY job_id) maxdur\r\n",
                "ON j.job_id = maxdur.job_id\r\n",
                "\r\n",
                "LEFT OUTER JOIN\r\n",
                "    (SELECT j1.job_id, j1.run_duration, j1.run_date, j1.run_time, j1.message\r\n",
                "    FROM msdb.dbo.sysjobhistory j1\r\n",
                "    WHERE instance_id = (SELECT MAX(instance_id) \r\n",
                "                         FROM msdb.dbo.sysjobhistory j2 \r\n",
                "                         WHERE j2.job_id = j1.job_id)) lastrun\r\n",
                "    ON j.job_id = lastrun.job_id\r\n",
                "      --WHere (j.name like 'DBA - Main%'        or j.name like 'DMS -%'       or j.name like 'Global %' ) --   and j.[enabled] = 1   -- muz\r\n",
                "ORDER BY [Job Name]\r\n",
                ""
            ],
            "metadata": {
                "azdata_cell_guid": "5824d75c-e6c9-43de-860a-c9c5bd30e665",
                "tags": []
            },
            "outputs": [],
            "execution_count": 9
        },
        {
            "cell_type": "markdown",
            "source": [
                "### **<u>Job history specific job (Q3)</u>**\n",
                "> Details of SQL job history for specified job  \n",
                "> Source [https://stevestedman.com/2016/03/tsql-script-display-agent-job-history/](https://stevestedman.com/2016/03/tsql-script-display-agent-job-history/)"
            ],
            "metadata": {
                "azdata_cell_guid": "533d5c6d-f1e5-4d06-9b68-057110616218"
            }
        },
        {
            "cell_type": "markdown",
            "source": [
                "### **<u>Job history specific job steps (Q3.1)</u>**\n",
                "> Details of SQL job history steps for specified job"
            ],
            "metadata": {
                "azdata_cell_guid": "08ec90b2-50e2-47ad-9631-008f2d869666"
            }
        },
        {
            "cell_type": "code",
            "source": [
                "--Get Times for each job steps for specified Job\r\n",
                "DECLARE @JobName VARCHAR(50) ='VST__PreAllocateTransfers_Vector'\r\n",
                "\r\n",
                "SELECT \r\n",
                "  sj.name JobName\r\n",
                ", sjh.step_id\r\n",
                ", ISNULL(sjs.step_name, 'Job Status') StepName\r\n",
                ", msdb.dbo.agent_datetime(run_date, run_time) AS run_datetime\r\n",
                ", STUFF(STUFF(RIGHT('00000' + CAST(run_duration AS VARCHAR(6)),6),3,0,':'),6,0,':') AS TimeTaken\r\n",
                ", sjh.message\r\n",
                "FROM msdb.dbo.sysjobs sj\r\n",
                "  INNER JOIN msdb.dbo.sysjobhistory sjh ON sj.job_id = sjh.job_id\r\n",
                "  LEFT OUTER JOIN msdb.dbo.sysjobsteps sjs ON sjh.job_id = sjs.job_id AND sjh.step_id = sjs.step_id \r\n",
                "  WHERE sj.name = @JobName\r\n",
                "  AND sjh.step_id=6\r\n",
                "ORDER BY  msdb.dbo.agent_datetime(run_date, run_time) DESC\r\n",
                ""
            ],
            "metadata": {
                "azdata_cell_guid": "c66417d6-41c7-4989-b5d0-615bfa2cfc9b"
            },
            "outputs": [],
            "execution_count": null
        },
        {
            "cell_type": "code",
            "source": [
                "--https://stevestedman.com/2016/03/tsql-script-display-agent-job-history/ - added in jobsteps\r\n",
                "DECLARE @JobName VARCHAR(50) ='Automated Decommissioning'\r\n",
                "\r\n",
                ";WITH jobListCTE as\r\n",
                "(\r\n",
                "SELECT j.name as job_name,js.step_id,js.step_name,\r\n",
                "msdb.dbo.agent_datetime(run_date, run_time) AS run_datetime,\r\n",
                "RIGHT('000000' + CONVERT(varchar(6), run_duration), 6) AS run_duration,\r\n",
                "message\r\n",
                "FROM msdb.dbo.sysjobhistory h\r\n",
                "INNER JOIN msdb.dbo.sysjobs j ON h.job_id = j.job_id\r\n",
                "INNER JOIN msdb.dbo.sysjobsteps js ON h.job_id = js.job_id\r\n",
                "WHERE h.step_name = '(Job outcome)'\r\n",
                ")\r\n",
                "SELECT job_name as [JobStep],step_id,step_name,\r\n",
                "run_datetime as [StartDateTime],\r\n",
                "SUBSTRING(run_duration, 1, 2) + ':' +\r\n",
                "SUBSTRING(run_duration, 3, 2) + ':' +\r\n",
                "SUBSTRING(run_duration, 5, 2) as [Duration],\r\n",
                "message\r\n",
                "FROM jobListCTE\r\n",
                "Where job_name =@JobName\r\n",
                "ORDER BY run_datetime DESC, job_name;"
            ],
            "metadata": {
                "azdata_cell_guid": "59df29c4-6cbb-42df-a4f6-e452fb8a8324",
                "tags": []
            },
            "outputs": [],
            "execution_count": 3
        },
        {
            "cell_type": "markdown",
            "source": [
                "## Job timings all Jobs (Q)"
            ],
            "metadata": {
                "azdata_cell_guid": "0fd57d88-f56f-4eec-a775-6e94c16e71a3"
            }
        },
        {
            "cell_type": "code",
            "source": [
                ";WITH jobListCTE as\r\n",
                "(\r\n",
                "SELECT j.name as job_name,js.step_id,js.step_name,\r\n",
                "msdb.dbo.agent_datetime(run_date, run_time) AS run_datetime,\r\n",
                "RIGHT('000000' + CONVERT(varchar(6), run_duration), 6) AS run_duration,\r\n",
                "message\r\n",
                "FROM msdb.dbo.sysjobhistory h\r\n",
                "INNER JOIN msdb.dbo.sysjobs j ON h.job_id = j.job_id\r\n",
                "INNER JOIN msdb.dbo.sysjobsteps js ON h.job_id = js.job_id\r\n",
                ")\r\n",
                "SELECT job_name as [JobStep],step_id,step_name,\r\n",
                "run_datetime as [StartDateTime],\r\n",
                "SUBSTRING(run_duration, 1, 2) + ':' +\r\n",
                "SUBSTRING(run_duration, 3, 2) + ':' +\r\n",
                "SUBSTRING(run_duration, 5, 2) as [Duration],\r\n",
                "message\r\n",
                "FROM jobListCTE\r\n",
                "\r\n",
                "ORDER BY run_datetime DESC, job_name;"
            ],
            "metadata": {
                "azdata_cell_guid": "d5edfbb6-2829-47f2-a9f4-e11b7c750420",
                "tags": []
            },
            "outputs": [],
            "execution_count": 1
        },
        {
            "cell_type": "markdown",
            "source": [
                "## SQL Job Steps"
            ],
            "metadata": {
                "azdata_cell_guid": "311ae8d9-2c8e-4772-a49b-d971806051c0"
            }
        },
        {
            "cell_type": "code",
            "source": [
                "SELECT\r\n",
                "    sj.name,\r\n",
                "    sjs.step_id,\r\n",
                "    sjs.step_name,\r\n",
                "    sjs.command,\r\n",
                "    sjs.subsystem,\r\n",
                "    sjs.database_name\r\n",
                "    ,sjs.on_success_action\r\n",
                "FROM MSDB.dbo.sysjobsteps sjs\r\n",
                "JOIN MSDB.dbo.sysjobs sj on sj.job_id=sjs.job_id\r\n",
                "ORDER BY sj.name"
            ],
            "metadata": {
                "azdata_cell_guid": "9a5433cc-7397-4895-88bb-276c83478b1e",
                "tags": []
            },
            "outputs": [],
            "execution_count": null
        },
        {
            "cell_type": "markdown",
            "source": [
                "## SQL Jobsteps formatted"
            ],
            "metadata": {
                "azdata_cell_guid": "e9999071-5d66-46e1-a3b5-276eabf750ad"
            }
        },
        {
            "cell_type": "code",
            "source": [
                "\r\n",
                "WITH CTE_JobSteps\r\n",
                "AS\r\n",
                "(\r\n",
                "SELECT sj.Name,sj.[description],sjs.step_name,sjs.step_id,sjs.command,sjs.subsystem,sjs.database_name, ROW_NUMBER() OVER (Partition by sj.Name  Order By sj.Name,sjs.step_id ) AS RowID, 1 AS Show\r\n",
                "FROM msdb.dbo.sysjobs sj\r\n",
                "INNER JOIN msdb.dbo.sysjobsteps sjs ON sjs.job_id =sj.job_id\r\n",
                "WHERE sj.enabled =1\r\n",
                "UNION ALL\r\n",
                "SELECT sj.Name ,'' AS description,'' AS step_name,'' AS step_id,'' AS command,'' AS subsystem,'' AS database_name,MAX(step_id)+1 AS RowID,0 AS Show\r\n",
                "FROM msdb.dbo.sysjobs sj\r\n",
                "INNER JOIN msdb.dbo.sysjobsteps sjs ON sjs.job_id =sj.job_id\r\n",
                "WHERE sj.enabled =1\r\n",
                "GROUP BY sj.name\r\n",
                ")\r\n",
                "SELECT \r\n",
                "    CASE WHEN show =1 THEN  Name ELSE '' END AS Name\r\n",
                "    ,CASE WHEN show =1 THEN  CAST(Step_id AS CHAR(4)) ELSE '' END AS Step_id\r\n",
                "    ,step_name\r\n",
                "    ,command\r\n",
                "    ,subsystem\r\n",
                "    ,database_name\r\n",
                "FROM CTE_JobSteps c\r\n",
                "ORDER BY c.Name,c.RowID"
            ],
            "metadata": {
                "azdata_cell_guid": "28dd079c-a6f5-41c9-9fe3-cc6e063019aa",
                "tags": [
                    "hide_input"
                ]
            },
            "outputs": [],
            "execution_count": 5
        },
        {
            "cell_type": "markdown",
            "source": [
                "## Job Failures"
            ],
            "metadata": {
                "azdata_cell_guid": "fe3bca9c-1723-4906-9d21-678cfaa6a5b8"
            }
        },
        {
            "cell_type": "code",
            "source": [
                ";WITH jobListCTE as\r\n",
                "(\r\n",
                "SELECT j.name as job_name,js.step_id,js.step_name,\r\n",
                "msdb.dbo.agent_datetime(run_date, run_time) AS run_datetime,\r\n",
                "RIGHT('000000' + CONVERT(varchar(6), run_duration), 6) AS run_duration,\r\n",
                "message\r\n",
                "FROM msdb.dbo.sysjobhistory h\r\n",
                "INNER JOIN msdb.dbo.sysjobs j ON h.job_id = j.job_id\r\n",
                "INNER JOIN msdb.dbo.sysjobsteps js ON h.job_id = js.job_id\r\n",
                "WHERE run_status <> 1\r\n",
                ")\r\n",
                "\r\n",
                "SELECT job_name as [JobStep],step_id,step_name,\r\n",
                "run_datetime as [StartDateTime],\r\n",
                "SUBSTRING(run_duration, 1, 2) + ':' +\r\n",
                "SUBSTRING(run_duration, 3, 2) + ':' +\r\n",
                "SUBSTRING(run_duration, 5, 2) as [Duration],\r\n",
                "message\r\n",
                "FROM jobListCTE\r\n",
                "\r\n",
                "ORDER BY run_datetime DESC, job_name;\r\n",
                ""
            ],
            "metadata": {
                "azdata_cell_guid": "4aba5b27-f3ba-421a-baac-7514af58261b",
                "tags": []
            },
            "outputs": [],
            "execution_count": null
        },
        {
            "cell_type": "markdown",
            "source": [
                ""
            ],
            "metadata": {
                "azdata_cell_guid": "d0713342-8e3f-44f4-af0e-1cd02c069504"
            }
        },
        {
            "cell_type": "markdown",
            "source": [
                "## Job Schedules running at the sametime\n",
                "source https://www.brentozar.com/blitz/agent-jobs-starting-simultaneously/"
            ],
            "metadata": {
                "azdata_cell_guid": "7959b0a4-33c2-4b1b-8928-d89b24396eb0"
            }
        },
        {
            "cell_type": "code",
            "source": [
                "SELECT j.name, j.description, a.start_execution_date\r\n",
                "FROM msdb.dbo.sysjobs j\r\n",
                "INNER JOIN msdb.dbo.sysjobactivity a ON j.job_id = a.job_id\r\n",
                "WHERE a.start_execution_date > DATEADD(dd, -14, GETDATE())\r\n",
                "AND j.enabled = 1\r\n",
                "AND a.start_execution_date IN\r\n",
                "(SELECT start_execution_date\r\n",
                "FROM msdb.dbo.sysjobactivity\r\n",
                "WHERE start_execution_date > DATEADD(dd, -14, GETDATE())\r\n",
                "GROUP BY start_execution_date HAVING COUNT(*) > 1)\r\n",
                "ORDER BY 3"
            ],
            "metadata": {
                "azdata_cell_guid": "ee2baef5-86f4-4b74-8153-0e7735b94ac4"
            },
            "outputs": [],
            "execution_count": null
        },
        {
            "cell_type": "markdown",
            "source": [
                "# Running SQL Jobs\r\n",
                "# ================================"
            ],
            "metadata": {
                "azdata_cell_guid": "c2e26ed6-c9be-4e83-b489-9167fe9657a9"
            }
        },
        {
            "cell_type": "markdown",
            "source": [
                "## Start Job"
            ],
            "metadata": {
                "azdata_cell_guid": "8c2cac1b-97b5-4100-b0de-0e56132693a3"
            }
        },
        {
            "cell_type": "markdown",
            "source": [
                "## Start Job at Job Step"
            ],
            "metadata": {
                "azdata_cell_guid": "4be014c2-f1e3-4a10-ac38-83417edd00f2"
            }
        },
        {
            "cell_type": "code",
            "source": [
                "USE msdb\r\n",
                "GO\r\n",
                "EXEC msdb.dbo.sp_start_job @job_name='Update_Search_Data', @step_name='Check Procedure Still Exists'\r\n",
                "\r\n",
                ""
            ],
            "metadata": {
                "azdata_cell_guid": "f851257a-85b9-4df7-b718-7e027b65a6b1",
                "tags": [
                    "hide_input"
                ]
            },
            "outputs": [],
            "execution_count": null
        },
        {
            "cell_type": "markdown",
            "source": [
                "## Check Job history"
            ],
            "metadata": {
                "azdata_cell_guid": "2e68e4bc-fbb3-47bb-95e6-0396ba7d8e01"
            }
        },
        {
            "cell_type": "code",
            "source": [
                "\r\n",
                " select top 10 * from Search_Data"
            ],
            "metadata": {
                "azdata_cell_guid": "cc881600-2301-43f6-8078-585828d94ca2",
                "tags": [
                    "hide_input"
                ]
            },
            "outputs": [],
            "execution_count": null
        },
        {
            "cell_type": "markdown",
            "source": [
                "## [Home](file:///C:/SQLScriptsLibrary/Home.ipynb)"
            ],
            "metadata": {
                "azdata_cell_guid": "bf4721b4-81c3-4a1a-acc4-0cdf04d72bee"
            }
        }
    ]
}