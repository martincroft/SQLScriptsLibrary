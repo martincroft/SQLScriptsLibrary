{
    "metadata": {
        "kernelspec": {
            "name": "SQL",
            "display_name": "SQL",
            "language": "sql"
        },
        "language_info": {
            "name": "sql",
            "version": ""
        },
        "extensions": {
            "azuredatastudio": {
                "version": 1,
                "views": []
            }
        }
    },
    "nbformat_minor": 2,
    "nbformat": 4,
    "cells": [
        {
            "cell_type": "markdown",
            "source": [
                "## [Home](file:///C:/SQLScriptsLibrary/Home.ipynb)"
            ],
            "metadata": {
                "azdata_cell_guid": "333b441a-8874-40cd-947a-c35aad0d4639",
                "extensions": {
                    "azuredatastudio": {
                        "views": []
                    }
                }
            }
        },
        {
            "cell_type": "markdown",
            "source": [
                "## Glenn Berry's Diagnostic Scrips\n",
                "\n",
                "> - [SQL Server 2019 Diagnostic Script](.\\SQL_Server_2019_Diagnostic_Information_Queries.ipynb)\n",
                "> - [SQL Server 2017 Diagnostic Script](.\\SQL_Server_2017_Diagnostic_Information_Queries.ipynb)\n",
                "> - [SQL Server 2016 SP2 Diagnostic Script](.\\SQL_Server_2016_SP2_Diagnostic_Information_Queries.ipynb)\n",
                "> - [SQL Server 2016 SP1 Diagnostic Script](.\\SQL_Server_2016_SP1_Diagnostic_Information_Queries.ipynb)\n",
                "> - [SQL Server 2014 Diagnostic Script](.\\SQL_Server_2014_Diagnostic_Information_Queries.ipynb)\n",
                "> - [SQL Server 2012 Diagnostic Script](.\\SQL_Server_2012_Diagnostic_Information_Queries.ipynb)"
            ],
            "metadata": {
                "azdata_cell_guid": "99b98758-2dda-47db-9afa-e2507357cbb3"
            },
            "attachments": {}
        },
        {
            "cell_type": "markdown",
            "source": [
                "## [Home](file:///C:/SQLScriptsLibrary/Home.ipynb)"
            ],
            "metadata": {
                "azdata_cell_guid": "7fba0087-8d3b-495a-badb-af2da450522f"
            }
        }
    ]
}