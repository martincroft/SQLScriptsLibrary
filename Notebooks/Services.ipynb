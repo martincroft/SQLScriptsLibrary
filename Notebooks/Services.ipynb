{
    "metadata": {
        "kernelspec": {
            "name": "SQL",
            "display_name": "SQL",
            "language": "sql"
        },
        "language_info": {
            "name": "sql",
            "version": ""
        },
        "extensions": {
            "azuredatastudio": {
                "version": 1,
                "views": []
            }
        }
    },
    "nbformat_minor": 2,
    "nbformat": 4,
    "cells": [
        {
            "cell_type": "markdown",
            "source": [
                "## [Home](file:///C:/SQLScriptsLibrary/Home.ipynb)"
            ],
            "metadata": {
                "azdata_cell_guid": "333b441a-8874-40cd-947a-c35aad0d4639",
                "extensions": {
                    "azuredatastudio": {
                        "views": []
                    }
                }
            }
        },
        {
            "cell_type": "markdown",
            "source": [
                "## Services\n",
                "\n",
                "> List Services- Service and account running service - (Q1)    \n",
                "> List Services- All info (Q2)"
            ],
            "metadata": {
                "azdata_cell_guid": "99b98758-2dda-47db-9afa-e2507357cbb3"
            },
            "attachments": {}
        },
        {
            "cell_type": "markdown",
            "source": [
                "> List Services- Service and account running service (Q1)"
            ],
            "metadata": {
                "azdata_cell_guid": "9059058c-1cd3-45e9-84f1-7314f16472ed"
            },
            "attachments": {}
        },
        {
            "cell_type": "code",
            "source": [
                "SELECT ServiceName,Service_account FROM sys.dm_server_services"
            ],
            "metadata": {
                "azdata_cell_guid": "dc918696-0d2a-458e-b6ca-ced59e1d3d02",
                "language": "sql"
            },
            "outputs": [],
            "execution_count": null
        },
        {
            "cell_type": "markdown",
            "source": [
                ">  List Services- All info (Q2)"
            ],
            "metadata": {
                "azdata_cell_guid": "b748945f-547b-4b85-bca8-aae72fbc3b14"
            },
            "attachments": {}
        },
        {
            "cell_type": "code",
            "source": [
                "SELECT * FROM sys.dm_server_services"
            ],
            "metadata": {
                "language": "",
                "azdata_cell_guid": "13efa072-7e85-4bd1-b14c-c086046b0e06"
            },
            "outputs": [],
            "execution_count": null
        },
        {
            "cell_type": "markdown",
            "source": [
                "## [Home](file:///C:/SQLScriptsLibrary/Home.ipynb)"
            ],
            "metadata": {
                "azdata_cell_guid": "7fba0087-8d3b-495a-badb-af2da450522f"
            }
        }
    ]
}