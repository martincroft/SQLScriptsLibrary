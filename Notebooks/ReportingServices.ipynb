{
    "metadata": {
        "kernelspec": {
            "name": "SQL",
            "display_name": "SQL",
            "language": "sql"
        },
        "language_info": {
            "name": "sql",
            "version": ""
        }
    },
    "nbformat_minor": 2,
    "nbformat": 4,
    "cells": [
        {
            "cell_type": "markdown",
            "source": [
                "## [Home](file:///C:/SQLScriptsLibrary/Home.ipynb)"
            ],
            "metadata": {
                "azdata_cell_guid": "333b441a-8874-40cd-947a-c35aad0d4639"
            }
        },
        {
            "cell_type": "markdown",
            "source": [
                "**Reporting Services Queries**\n",
                "\n",
                "> -   List subscription information (Query 1)\n",
                "> -   Report Execution Stats (Query 2)\n",
                "> -   Datasource Reports - Datasource details, report path, report name (Query 3) \n",
                "> -   Report run details(Query 4)  \n",
                "> -   Report definitions (Query 5)\n",
                "> -   Report data source locations (Query 6)  "
            ],
            "metadata": {
                "azdata_cell_guid": "3314b877-0430-4754-9335-b09986b713c6"
            }
        },
        {
            "cell_type": "markdown",
            "source": [
                "> List subscription information (Query 1)   \n",
                "> Subscription owner, Last runtime"
            ],
            "metadata": {
                "azdata_cell_guid": "59270fd9-01ec-4f87-8ac2-84c7214c3fe5"
            }
        },
        {
            "cell_type": "code",
            "source": [
                "-- Reporting Service useful script.sql  #SQL\r\n",
                "USE [ReportServer];  -- You may change the database name. \r\n",
                "GO \r\n",
                "SELECT  USR.UserName AS SubscriptionOwner \r\n",
                "      ,CAT.Name\r\n",
                "      ,SUB.ModifiedDate \r\n",
                "      ,SUB.[Description] \r\n",
                "      ,SUB.EventType \r\n",
                "      ,SUB.DeliveryExtension \r\n",
                "      ,SUB.LastStatus \r\n",
                "      ,SUB.LastRunTime \r\n",
                "      ,SCH.NextRunTime \r\n",
                "      ,SCH.Name AS ScheduleName       \r\n",
                "      ,CAT.[Path] AS ReportPath \r\n",
                "      ,CAT.[Description] AS ReportDescription \r\n",
                "FROM dbo.Subscriptions AS SUB \r\n",
                "     INNER JOIN dbo.Users AS USR \r\n",
                "         ON SUB.OwnerID = USR.UserID \r\n",
                "     INNER JOIN dbo.[Catalog] AS CAT \r\n",
                "         ON SUB.Report_OID = CAT.ItemID \r\n",
                "     INNER JOIN dbo.ReportSchedule AS RS \r\n",
                "         ON SUB.Report_OID = RS.ReportID \r\n",
                "            AND SUB.SubscriptionID = RS.SubscriptionID \r\n",
                "     INNER JOIN dbo.Schedule AS SCH \r\n",
                "         ON RS.ScheduleID = SCH.ScheduleID \r\n",
                "ORDER BY CAT.Name,SUB.LastRunTime DESC\r\n",
                "        ,CAT.[Path];\r\n",
                "\r\n",
                ""
            ],
            "metadata": {
                "azdata_cell_guid": "76b1db33-8f1f-4f42-a6d6-8f0ab87c28fa"
            },
            "outputs": [],
            "execution_count": null
        },
        {
            "cell_type": "markdown",
            "source": [
                "> Report Execution Stats (Query 2)     \n",
                "> execution stats, reports executed the most, time taken"
            ],
            "metadata": {
                "azdata_cell_guid": "486076a3-f134-43d4-965b-52a121f890a9"
            }
        },
        {
            "cell_type": "code",
            "source": [
                "USE ReportServer\r\n",
                "\r\n",
                "\t\tSELECT COUNT(Name) AS ExecutionCount,\r\n",
                "       Name,\r\n",
                "       SUM(TimeDataRetrieval) AS TimeDataRetrievalSum,\r\n",
                "       SUM(TimeProcessing) AS TimeProcessingSum,\r\n",
                "       SUM(TimeRendering) AS TimeRenderingSum,\r\n",
                "       SUM(ByteCount) AS ByteCountSum,\r\n",
                "       SUM([RowCount]) AS RowCountSum\r\n",
                "  FROM (SELECT TimeStart,\r\n",
                "               Catalog.Type,\r\n",
                "               Catalog.Name,\r\n",
                "               TimeDataRetrieval,\r\n",
                "               TimeProcessing,\r\n",
                "               TimeRendering,\r\n",
                "               ByteCount,\r\n",
                "               [RowCount]\r\n",
                "          FROM Catalog\r\n",
                "               INNER JOIN \r\n",
                "               ExecutionLog\r\n",
                "                 ON Catalog.ItemID = ExecutionLog.ReportID\r\n",
                "         WHERE Type = 2\r\n",
                "       ) AS RE\r\n",
                "GROUP BY Name\r\n",
                "ORDER BY COUNT(Name) DESC,\r\n",
                "         Name;\r\n",
                ""
            ],
            "metadata": {
                "azdata_cell_guid": "84db80e4-4aec-42e7-a3b8-687c0a4fc435"
            },
            "outputs": [],
            "execution_count": null
        },
        {
            "cell_type": "markdown",
            "source": [
                "> Datasource Reports (Query 3)        \n",
                "> Reports from data source, path of reports and report name"
            ],
            "metadata": {
                "azdata_cell_guid": "d2497654-7d9a-43e0-ae4e-f8fd18f7bf1d"
            }
        },
        {
            "cell_type": "code",
            "source": [
                "SELECT\r\n",
                "\tC2.Name AS Data_Source_Name,\r\n",
                "\tC.Name AS Dependent_Item_Name,\r\n",
                "\tC.Path AS Dependent_Item_Path\r\n",
                "FROM\r\n",
                "\tReportServer.dbo.DataSource AS DS\r\n",
                "INNER JOIN\r\n",
                "\t\tReportServer.dbo.Catalog AS C ON DS.ItemID = C.ItemID\r\n",
                "\tAND\r\n",
                "\tDS.Link IN (SELECT ItemID FROM ReportServer.dbo.Catalog WHERE Type = 5) --Type 5 identifies data sources\r\n",
                "FULL OUTER JOIN\r\n",
                "\tReportServer.dbo.Catalog C2 ON DS.Link = C2.ItemID\r\n",
                "WHERE\r\n",
                "\tC2.Type = 5\r\n",
                "ORDER BY\r\n",
                "\tC2.Name ASC,\r\n",
                "\tC.Name ASC;"
            ],
            "metadata": {
                "azdata_cell_guid": "6775abac-764e-4e56-a58f-1a655db578c0"
            },
            "outputs": [],
            "execution_count": null
        },
        {
            "cell_type": "markdown",
            "source": [
                "> -  Report run details(Query 4)  \n",
                "> -  Report details, time taken, to render/process, who ran by, row counts  "
            ],
            "metadata": {
                "azdata_cell_guid": "a523689e-3414-49f1-b0f7-b5d4b53f9569"
            }
        },
        {
            "cell_type": "code",
            "source": [
                "USE ReportServer\r\n",
                "GO\t\r\n",
                "SELECT TimeStart,\r\n",
                "               Catalog.Type,\r\n",
                "               Catalog.Name,\r\n",
                "               TimeDataRetrieval,\r\n",
                "               TimeProcessing,\r\n",
                "               TimeRendering,\r\n",
                "               ByteCount,\r\n",
                "               [RowCount],\r\n",
                "\t\t\t   UserName\r\n",
                "          FROM Catalog\r\n",
                "               INNER JOIN \r\n",
                "               ExecutionLog\r\n",
                "                 ON Catalog.ItemID = ExecutionLog.ReportID\r\n",
                "\t\t ORDER By TimeStart DESC\r\n",
                "\r\n",
                "\r\n",
                ""
            ],
            "metadata": {
                "azdata_cell_guid": "b2988800-47ed-4963-956b-02c2818bbffc"
            },
            "outputs": [],
            "execution_count": null
        },
        {
            "cell_type": "markdown",
            "source": [
                "> -  Report definitions (Query 5)    \n",
                "> -  Report definition, show the report details easy way to see statement executed"
            ],
            "metadata": {
                "azdata_cell_guid": "f0f0df71-735c-4b07-9322-92f818be05ae"
            }
        },
        {
            "cell_type": "code",
            "source": [
                "--https://www.biinsight.com/querying-ssrs-report-definition-using-t-sql/\r\n",
                "SELECT C.NAME\r\n",
                "       , CONVERT(NVARCHAR(MAX),CONVERT(XML,CONVERT(VARBINARY(MAX),C.CONTENT))) AS REPORTXML\r\n",
                "\r\n",
                "FROM  REPORTSERVER.DBO.CATALOG C\r\n",
                "\r\n",
                "WHERE  C.CONTENT IS NOT NULL\r\n",
                "\r\n",
                "            AND  C.TYPE = 2\r\n",
                "\r\n",
                "       AND  C.NAME LIKE '%Litigation Base Data%'\r\n",
                "\r\n",
                "     --AND CONVERT(NVARCHAR(MAX),CONVERT(XML,CONVERT(VARBINARY(MAX),C.CONTENT))) LIKE '%DESIRED_STRING%'"
            ],
            "metadata": {
                "azdata_cell_guid": "ee8ab84e-94e2-4f85-86fd-0c83882f8f53"
            },
            "outputs": [],
            "execution_count": null
        },
        {
            "cell_type": "markdown",
            "source": [
                "> -  Report data source locations (Query 6)    \n",
                "> -  Report data source details  \n",
                ">  - https://dba.stackexchange.com/questions/138236/get-ssrs-datasources-from-reportserver\n",
                ""
            ],
            "metadata": {
                "azdata_cell_guid": "04519ca0-a2e3-4ab1-9d93-84216ed226ef"
            }
        },
        {
            "cell_type": "code",
            "source": [
                "USE ReportServer\r\n",
                "-- Connection strings of all SSRS Shared Datasources\r\n",
                ";WITH XMLNAMESPACES  -- XML namespace def must be the first in with clause.\r\n",
                "    (DEFAULT 'http://schemas.microsoft.com/sqlserver/reporting/2006/03/reportdatasource'\r\n",
                "            ,'http://schemas.microsoft.com/SQLServer/reporting/reportdesigner'\r\n",
                "     AS rd)\r\n",
                ",SDS AS\r\n",
                "    (SELECT SDS.name AS SharedDsName\r\n",
                "           ,SDS.[Path]\r\n",
                "           ,CONVERT(xml, CONVERT(varbinary(max), content)) AS DEF\r\n",
                "     FROM dbo.[Catalog] AS SDS\r\n",
                "     WHERE SDS.Type = 5)     -- 5 = Shared Datasource\r\n",
                "\r\n",
                "SELECT CON.[Path]\r\n",
                "      ,CON.SharedDsName\r\n",
                "      ,CON.ConnString\r\n",
                "FROM\r\n",
                "    (SELECT SDS.[Path]\r\n",
                "           ,SDS.SharedDsName\r\n",
                "           ,DSN.value('ConnectString[1]', 'varchar(150)') AS ConnString\r\n",
                "     FROM SDS\r\n",
                "          CROSS APPLY \r\n",
                "          SDS.DEF.nodes('/DataSourceDefinition') AS R(DSN)\r\n",
                "     ) AS CON\r\n",
                "-- Optional filter:\r\n",
                "-- WHERE CON.ConnString LIKE '%Initial Catalog%=%TFS%'\r\n",
                "ORDER BY CON.[Path]\r\n",
                "        ,CON.SharedDsName;"
            ],
            "metadata": {
                "azdata_cell_guid": "4f36ffd2-b16c-40ea-b76c-9a4ae9aa2205",
                "tags": []
            },
            "outputs": [],
            "execution_count": null
        },
        {
            "cell_type": "markdown",
            "source": [
                "## [Home](file:///C:/SQLScriptsLibrary/Home.ipynb)"
            ],
            "metadata": {
                "azdata_cell_guid": "3696a0d8-ff46-4ff1-b853-1052ccad93e0"
            },
            "attachments": {}
        }
    ]
}