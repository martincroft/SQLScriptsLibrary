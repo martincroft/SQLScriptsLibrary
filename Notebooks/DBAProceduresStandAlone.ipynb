{
    "metadata": {
        "kernelspec": {
            "name": "SQL",
            "display_name": "SQL",
            "language": "sql"
        },
        "language_info": {
            "name": "sql",
            "version": ""
        },
        "extensions": {
            "azuredatastudio": {
                "version": 1,
                "views": []
            }
        }
    },
    "nbformat_minor": 2,
    "nbformat": 4,
    "cells": [
        {
            "cell_type": "markdown",
            "source": [
                "## [Home](file:///C:/SQLScriptsLibrary/Home.ipynb)"
            ],
            "metadata": {
                "azdata_cell_guid": "333b441a-8874-40cd-947a-c35aad0d4639",
                "extensions": {
                    "azuredatastudio": {
                        "views": []
                    }
                }
            }
        },
        {
            "cell_type": "markdown",
            "source": [
                "# DBA Standalone Procedures\n",
                "\n",
                "Sometimes you can't alway create the DBA procedures so you can run them as a one off script\n",
                "\n",
                "> - Details of index statistics, seeks, scans etc (Query 1)\n",
                "> - Details of missing index statistics, seeks, scans etc (Query 2)\n",
                "> - Find blocking information (Query 3)\n",
                "> - Find details of procedure stats (Query 4)\n",
                "> - Find details of Server space (Query 5)\n",
                "> - Find details of Index Columns (Query 6)\n",
                "> - DBA Permissions  - Roles and permissions (Query 7)"
            ],
            "metadata": {
                "azdata_cell_guid": "665be742-c206-406e-9482-48aa1ab69f6c"
            },
            "attachments": {}
        },
        {
            "cell_type": "markdown",
            "source": [
                "> - Details of index statistics, seeks, scans etc (Query 1)"
            ],
            "metadata": {
                "azdata_cell_guid": "f0148f76-4329-4f52-8976-81f3f445106f"
            }
        },
        {
            "cell_type": "code",
            "source": [
                "/* DBA_IndexStats.sql  #SQL */\r\n",
                "-- Updated to deal with read only secondary \r\n",
                "      \r\n",
                "SELECT      \r\n",
                "\t@@Servername AS ServerName,\r\n",
                "\tDATABASEPROPERTYEX(DB_NAME(), 'Updateability') AS Updateability,\r\n",
                "\tdb_name() AS DatabaseName, \r\n",
                "\tc.name,\r\n",
                "\to.name,      \r\n",
                "\tindexname=i.name,    \r\n",
                "\ti.type_desc, \r\n",
                "\ti.index_id,      \r\n",
                "\tCOALESCE(user_seeks,0) AS user_seeks ,  \r\n",
                "\tCOALESCE(user_scans,0) AS user_scans,\r\n",
                "\tCOALESCE(user_lookups,0) AS user_lookups,\r\n",
                "\treads=COALESCE(user_seeks + user_scans + user_lookups,0),         \r\n",
                "\twrites =  COALESCE(user_updates,0),          \r\n",
                "\trows = (SELECT SUM(p.rows) FROM sys.partitions p WHERE p.index_id = s.index_id AND s.object_id = p.object_id),      \r\n",
                "\t8 * (a.used_pages) AS 'Indexsize(KB)',  \r\n",
                "\tCASE      \r\n",
                "\t\tWHEN s.user_updates < 1 THEN 100      \r\n",
                "\t\tELSE 1.00 * (s.user_seeks + s.user_scans + s.user_lookups) / s.user_updates      \r\n",
                "\tEND AS reads_per_write,      \r\n",
                "\t'DROP INDEX ' + QUOTENAME(i.name)+' ON ' + QUOTENAME(c.name) + '.' + QUOTENAME(OBJECT_NAME(i.object_id)) as 'drop statement'      \r\n",
                "FROM \r\n",
                "\tsys.indexes i        \r\n",
                "LEFT JOIN       \r\n",
                "\tsys.dm_db_index_usage_stats s ON i.index_id = s.index_id AND s.object_id = i.object_id         \r\n",
                "LEFT JOIN       \r\n",
                "\tsys.objects o on i.object_id = o.object_id      \r\n",
                "LEFT JOIN       \r\n",
                "\tsys.schemas c on o.schema_id = c.schema_id  \r\n",
                "LEFT JOIN    \r\n",
                "\t sys.partitions AS p ON p.OBJECT_ID = i.OBJECT_ID AND p.index_id = i.index_id  \r\n",
                "LEFT JOIN   \r\n",
                "\t sys.allocation_units AS a ON a.container_id = p.partition_id  \r\n",
                "  \r\n",
                "WHERE       \r\n",
                "\t\t(OBJECTPROPERTY(i.object_id,'IsUserTable') = 1  or OBJECTPROPERTY(i.object_id,'IsView') = 1)\r\n",
                "\t --AND       \r\n",
                "\t\t--s.database_id = DB_ID() \r\n",
                "\t AND       \r\n",
                "\t\ti.name IS NOT NULL\r\n",
                "\tAND      \r\n",
                "\t\ti.is_unique_constraint = 0 \r\n",
                "\r\n",
                "\tAND user_seeks + user_scans + user_lookups = 0 AND i.type_desc  <> 'CLUSTERED'\r\n",
                "\tAND \t\t\to.name IN  ('ms_transfers')\r\n",
                "\t\t\r\n",
                "\t--\tOR  i.name IN ('Ixn_ms_returns_record_rr_initial_location_id_I','Ixn_ms_transfers_tr_group_tr_wave_id')\r\n",
                "\t\t\r\n",
                "\t\t--AND i.name IN (\r\n",
                "\t\t--'IX_ms_pallets_pal_despatch_pallet_id'\r\n",
                "\t\t--,'ix_ms_pallets_pal_warehouse_pal_open_user_pal_close_user_includes'\r\n",
                "\t\t----,'IDX_pal_po_primary_FILTERED'\r\n",
                "\r\n",
                "\t--\t)\r\n",
                "\r\n",
                "ORDER BY [Indexsize(KB)] desc\r\n",
                "\r\n",
                "\r\n",
                "\r\n",
                "\r\n",
                "\r\n",
                "\r\n",
                ""
            ],
            "metadata": {
                "azdata_cell_guid": "f94f7a64-6f2d-4c5e-bf6a-93c45e2be7a4",
                "tags": [
                    "hide_input"
                ]
            },
            "outputs": [],
            "execution_count": null
        },
        {
            "cell_type": "markdown",
            "source": [
                "> - Details of missing index statistics, seeks, scans etc (Query 2)"
            ],
            "metadata": {
                "azdata_cell_guid": "5f2b2e9e-bfcf-446e-8960-bb66dde60950"
            }
        },
        {
            "cell_type": "code",
            "source": [
                "/* DBA_MissingIndexes.sql  #SQL */\r\n",
                "\r\n",
                "SET ANSI_NULLS ON\r\n",
                "GO\r\n",
                "SET QUOTED_IDENTIFIER ON\r\n",
                "GO\r\n",
                "\r\n",
                "\r\n",
                "DECLARE\r\n",
                " @TableName sysname = null,\r\n",
                " @SchemeName sysname =null,\r\n",
                " @Sort Tinyint =1,\r\n",
                " @IncludeExcluded BIT = NULL,\r\n",
                " @CountOnly BIT = NULL\r\n",
                "  \r\n",
                "-----------------------------------------------------------------  \r\n",
                "-- Object:   sp_DBA_MissingIndexes  \r\n",
                "-- Written By:  \r\n",
                "-- Date Written:   \r\n",
                "-- Purpose:   Return missing index information\r\n",
                "-- Usage:     \r\n",
                "--    sp_DBA_MissingIndexes  @TableName='dbCodelookup'\r\n",
                "-- Calls:   N/A  \r\n",
                "-----------------------------------------------------------------  \r\n",
                "\r\n",
                "SELECT\r\n",
                "  migs.avg_total_user_cost * (migs.avg_user_impact / 100.0) * (migs.user_seeks + migs.user_scans) AS improvement_measure,\r\n",
                "  mid.statement AS TableName, \r\n",
                "  so.name,\r\n",
                "  mid.object_id,\r\n",
                "  \t replace(replace('CREATE NONCLUSTERED INDEX Ixn_' + object_name(mid.object_id) +'_' \r\n",
                "\t\t\t  +  case \r\n",
                "\t\t\t\t\twhen mid.equality_columns is not null \r\n",
                "\t\t\t\t\tand mid.inequality_columns is not null \r\n",
                "\t\t\t\t\tthen replace(mid.equality_columns,', ','_') + '_' + replace(mid.inequality_columns,', ','_')\r\n",
                "\t\t\t\t\twhen mid.equality_columns is not null \r\n",
                "\t\t\t\t\tand mid.inequality_columns is null \r\n",
                "\t\t\t\t\tthen replace(mid.equality_columns,', ','_')\r\n",
                "\t\t\t\t\twhen mid.inequality_columns is not null \r\n",
                "\t\t\t\t\tthen replace(mid.inequality_columns,', ','_')\r\n",
                "\t\t\t\t  end\r\n",
                "\t\t\t +         case \r\n",
                "\t\t\twhen mid.included_columns is not null \r\n",
                "\t\t\tthen '_I'\r\n",
                "\t\t\telse ''\r\n",
                "\t\t\tend\r\n",
                "\t\t   + ' on ' \r\n",
                "\t\t   + ss.name COLLATE DATABASE_DEFAULT + '.'\r\n",
                "\t\t\t+ object_name(mid.object_id) + ' (' + \r\n",
                "\t\t\tcase \r\n",
                "\t\t\t\t\twhen mid.equality_columns is not null \r\n",
                "\t\t\t\t\tand mid.inequality_columns is not null \r\n",
                "\t\t\t\t\tthen mid.equality_columns + ',' + mid.inequality_columns\r\n",
                "\t\t\t\t\twhen mid.equality_columns is not null \r\n",
                "\t\t\t\t\tand mid.inequality_columns is null \r\n",
                "\t\t\t\t\tthen mid.equality_columns\r\n",
                "\t\t\t\t\twhen mid.inequality_columns is not null \r\n",
                "\t\t\t\t\tthen mid.inequality_columns\r\n",
                "\t\t\tend\r\n",
                "\t\t\t+ ')' + char(10)\r\n",
                "\t\t\t+ \r\n",
                "\t\t\tcase \r\n",
                "\t\t\twhen mid.included_columns is not null \r\n",
                "\t\t\tthen 'Include (' + mid.included_columns + ')'\r\n",
                "\t\t\telse ''\r\n",
                "\t\t\tend,'[',''),']','') as CreateIndexStmt,\r\n",
                "\t\t\t equality_columns AS equality_columns,\r\n",
                "\t\t\t inequality_columns AS inequality_columns,\r\n",
                "\t\t\t included_columns AS included_columns,\r\n",
                "\t\t\tmigs.unique_compiles,\r\n",
                "\t\t\tmigs.user_seeks, \r\n",
                "\t\t\tmigs.user_scans,\r\n",
                "\t\t\tmigs.avg_total_user_cost, \r\n",
                "\t\t\tmigs.avg_user_impact,\r\n",
                "\t\t\tmigs.last_user_seek, \r\n",
                "\t\t\tmigs.last_user_scan,\r\n",
                "\t\t\tmigs.system_seeks, \r\n",
                "\t\t\tmigs.system_scans,\r\n",
                "\t\t\tmigs.avg_total_system_cost, \r\n",
                "\t\t\tmigs.avg_system_impact,\r\n",
                "\t\t\tmigs.last_system_seek, \r\n",
                "\t\t\tmigs.last_system_scan,\r\n",
                "\t\t\t(CONVERT(Numeric(19,6), migs.user_seeks)+CONVERT(Numeric(19,6), migs.unique_compiles))*CONVERT(Numeric(19,6), migs.avg_total_user_cost)*CONVERT(Numeric(19,6), migs.avg_user_impact/100.0) AS Score\r\n",
                "FROM sys.dm_db_missing_index_groups mig\r\n",
                "INNER JOIN sys.dm_db_missing_index_group_stats migs ON migs.group_handle = mig.index_group_handle\r\n",
                "INNER JOIN sys.dm_db_missing_index_details mid ON mig.index_handle = mid.index_handle\r\n",
                "LEFT JOIN sys.objects so on so.object_id=mid.object_id\r\n",
                "LEFT JOIN sys.schemas ss ON ss.schema_id=so.schema_id\r\n",
                "WHERE migs.avg_total_user_cost * (migs.avg_user_impact / 100.0) * (migs.user_seeks + migs.user_scans) > 10\r\n",
                "AND so.name = COALESCE(@TableName,so.name) AND mid.database_id = db_id()\r\n",
                "ORDER BY migs.avg_total_user_cost * migs.avg_user_impact * (migs.user_seeks + migs.user_scans) DESC\r\n",
                "\r\n",
                "\r\n",
                "\r\n",
                "\r\n",
                "\r\n",
                "\r\n",
                "\r\n",
                ""
            ],
            "metadata": {
                "azdata_cell_guid": "514fb6e3-5329-420b-a9fb-d697c857ca30",
                "tags": [
                    "hide_input"
                ]
            },
            "outputs": [],
            "execution_count": null
        },
        {
            "cell_type": "markdown",
            "source": [
                "> - List blocking processes - Shows lead blocker and subsequent blocking chain (Query 3)"
            ],
            "metadata": {
                "azdata_cell_guid": "babd2378-4e98-4cca-bdf8-d60626bf2905"
            },
            "attachments": {}
        },
        {
            "cell_type": "code",
            "source": [
                "/* DBA_BlockingChain.sql */\r\n",
                "USE [master]\r\n",
                "GO\r\n",
                "\r\n",
                "SET ANSI_NULLS ON\r\n",
                "GO\r\n",
                "\r\n",
                "-----------------------------------------------------------------  \r\n",
                "-- Object:   DBA_BlockingChain.sql  \r\n",
                "-- Written By:  Martin Croft\r\n",
                "-- Date Written:   \r\n",
                "-- Purpose:   Shows lead blocking\r\n",
                "-- Usage:     DBA_BlockingChain\r\n",
                "-----------------------------------------------------------------  \r\n",
                "-- Modified By  Modified Date  Description\t\t\t\t\tVersion \r\n",
                "-----------------------------------------------------------------  \r\n",
                "-- {developer}  {date}    {description} {Version}  \r\n",
                "-----------------------------------------------------------------  \r\n",
                "\r\n",
                "\r\n",
                "IF (SELECT OBJECT_ID('TempDB.dbo.#T')) IS NOT NULL DROP TABLE #T\r\n",
                "CREATE TABLE #T (spid INT, Blocked INT, BATCH VARCHAR(MAX))\r\n",
                "\r\n",
                "INSERT INTO #T (Spid,blocked,Batch)\r\n",
                "SELECT  spid ,\r\n",
                "        blocked ,\r\n",
                "        REPLACE(REPLACE(T.text, CHAR(10), ' '), CHAR(13), ' ') AS BATCH\r\n",
                "\r\n",
                "FROM    sys.sysprocesses R\r\n",
                "        CROSS APPLY sys.dm_exec_sql_text(R.sql_handle) T;\r\n",
                "\r\n",
                "WITH    BLOCKERS ( SPID, BLOCKED, LEVEL, BATCH )\r\n",
                "          AS ( SELECT   spid ,\r\n",
                "                        blocked ,\r\n",
                "                        CAST (REPLICATE('0', 4 - LEN(CAST (spid AS VARCHAR)))\r\n",
                "                        + CAST (spid AS VARCHAR) AS VARCHAR(1000)) AS LEVEL ,\r\n",
                "                        BATCH\r\n",
                "               FROM     #T R\r\n",
                "               WHERE    ( blocked = 0\r\n",
                "                          OR blocked = spid\r\n",
                "                        )\r\n",
                "                        AND EXISTS ( SELECT *\r\n",
                "                                     FROM   #T R2\r\n",
                "                                     WHERE  R2.blocked = R.spid\r\n",
                "                                            AND R2.blocked <> R2.spid )\r\n",
                "               UNION ALL\r\n",
                "               SELECT   R.spid ,\r\n",
                "                        R.blocked ,\r\n",
                "                        CAST (BLOCKERS.LEVEL\r\n",
                "                        + RIGHT(CAST (( 1000 + R.spid ) AS VARCHAR(100)), 4) AS VARCHAR(1000)) AS LEVEL ,\r\n",
                "                        R.BATCH\r\n",
                "               FROM     #T AS R\r\n",
                "                        INNER JOIN BLOCKERS ON R.blocked = BLOCKERS.SPID\r\n",
                "               WHERE    R.blocked > 0\r\n",
                "                        AND R.blocked <> R.spid\r\n",
                "             )\r\n",
                "    SELECT  N'    ' + REPLICATE(N'|         ', LEN(LEVEL) / 4 - 1)\r\n",
                "            + CASE WHEN ( LEN(LEVEL) / 4 - 1 ) = 0 THEN 'HEAD -  '\r\n",
                "                   ELSE '|------  '\r\n",
                "              END + CAST (SPID AS NVARCHAR(10)) + N' ' + BATCH AS BLOCKING_TREE\r\n",
                "    FROM    BLOCKERS\r\n",
                "    ORDER BY LEVEL ASC;\r\n",
                "\r\n",
                "GO\r\n",
                "\r\n",
                "\r\n",
                ""
            ],
            "metadata": {
                "azdata_cell_guid": "12c4773e-6105-48f8-a565-9cb29f88761e",
                "tags": [
                    "hide_input"
                ]
            },
            "outputs": [],
            "execution_count": null
        },
        {
            "cell_type": "markdown",
            "source": [
                "> - Find details of procedure stats (Query 4)"
            ],
            "metadata": {
                "azdata_cell_guid": "5064a131-dbd2-43ea-99d5-99d94652eefc"
            }
        },
        {
            "cell_type": "code",
            "source": [
                "/* DBA_ProcedureStats.sql  #SQL */\r\n",
                "  \r\n",
                "SELECT \r\n",
                "\t p.name AS [SP Name] ,  \r\n",
                "\t SS.NAME,\r\n",
                "\t qs.total_logical_reads AS [TotalLogicalReads] ,   \r\n",
                "\t CASE WHEN qs.total_logical_reads  > 0 THEN\t qs.total_logical_reads / qs.execution_count ELSE 0\r\n",
                "\t\t  END\t AS [AvgLogicalReads] ,  \r\n",
                "\t qs.execution_count ,   \r\n",
                "\t CASE WHEN qs.total_elapsed_time > 0  THEN total_elapsed_time /1000 ELSE 0 END AS total_elapsed_timeMS,\r\n",
                "\t \r\n",
                "\t CASE WHEN qs.execution_count > 0  THEN (total_elapsed_time /1000)/qs.execution_count ELSE 0 END AS [avg_elapsed_timeMS] , \r\n",
                "\t \t CASE WHEN qs.execution_count > 0  THEN (total_elapsed_time /1000/1000)/qs.execution_count ELSE 0 END AS [avg_elapsed_timeSec] ,  \r\n",
                "\t qs.cached_time,  \r\n",
                "\t db_name() AS DbName, \r\n",
                "\t @@ServerName AS ServerName  \r\n",
                "\t ,qs.plan_handle\r\n",
                "FROM   \r\n",
                "\tsys.procedures AS p   \r\n",
                "INNER JOIN   \r\n",
                "\tsys.dm_exec_procedure_stats AS qs ON p.[object_id] = qs.[object_id]  AND db_id() = database_id\r\n",
                "LEFT JOIN \r\n",
                "\tSYS.schemas SS ON SS.schema_id = p.schema_id\r\n",
                "\r\n",
                "WHERE 1=1 \r\n",
                "--AND p.name  LIKE '%%'\r\n",
                "ORDER BY  8 desc\r\n",
                "\r\n",
                ""
            ],
            "metadata": {
                "azdata_cell_guid": "d626af8a-930b-4f09-9971-55393dfcc066",
                "tags": [
                    "hide_input"
                ]
            },
            "outputs": [],
            "execution_count": null
        },
        {
            "cell_type": "markdown",
            "source": [
                "> - Server Space - Log/Data sizes with free space, summarised sever space, useful on dev/staging server to see where tou can get get space back (Query 5)"
            ],
            "metadata": {
                "azdata_cell_guid": "a5481c29-5f6b-4b51-93d4-5618ced77e6c"
            }
        },
        {
            "cell_type": "code",
            "source": [
                "/* DBA_DBSpace.sql  */\r\n",
                "\r\n",
                "\r\n",
                "USE [master]\r\n",
                "GO\r\n",
                "-----------------------------------------------------------------  \r\n",
                "-- Object:   sp_DBA_DBSpaceCalc  \r\n",
                "-- Written By:  Martin Croft  \r\n",
                "-- Date Written:   \r\n",
                "-- Purpose:   Returns space information   \r\n",
                "-- Template:  1.0   \r\n",
                "-- Usage:     \r\n",
                "--      \r\n",
                "-- Calls:   N/A  \r\n",
                "-----------------------------------------------------------------  \r\n",
                "-- Modified By  Modified Date  Description  Version  \r\n",
                "-----------------------------------------------------------------  \r\n",
                "-- {developer}  {date}    {description} {Version}  \r\n",
                "-- Added 2 decimal placing rounding \r\n",
                "-----------------------------------------------------------------  \r\n",
                "SET NOCOUNT ON\r\n",
                "\r\n",
                "IF (SELECT object_id('Tempdb..#LogFiles')) IS NOT NULL DROP TABLE #LogFiles\r\n",
                "CREATE TABLE #LogFiles\r\n",
                "(\r\n",
                " DBName VARCHAR(100)\r\n",
                ",LogSize DECIMAL(12,6)\r\n",
                ",LogSpaceuse DECIMAL(12,6)\r\n",
                ",LogSpaceFree DECIMAL(12,6) DEFAULT (0)\r\n",
                ")\r\n",
                "\r\n",
                "INSERT INTO #LogFiles\r\n",
                "EXEC ('DBCC sqlperf(logspace)')\r\n",
                "\r\n",
                "UPDATE #logfiles\r\n",
                "SET LogSpaceFree =(LogSize /100) * LogSpaceuse\r\n",
                "\r\n",
                "IF (SELECT object_id('Tempdb..#FileStats')) IS NOT NULL DROP TABLE #FileStats\r\n",
                "CREATE TABLE #FileStats \r\n",
                "\r\n",
                "(\r\n",
                "\tID INT IDENTITY(1,1)\r\n",
                "\t,FileID INT\r\n",
                "\t,FileGroup INT\r\n",
                "\t,TotalExtents INT\r\n",
                "\t,UsedExtents INT\r\n",
                "\t,Name sysname\r\n",
                "\t,FileName VARCHAR(200)\r\n",
                "\t,DBNAME sysname NULL\r\n",
                "\t,Updated INT DEFAULT (0)\r\n",
                "\t,srvName VARCHAR(30)\r\n",
                ")\r\n",
                "\r\n",
                "\r\n",
                "IF (SELECT object_id('Tempdb..#Databases')) IS NOT NULL DROP TABLE #Databases\r\n",
                "CREATE TABLE #Databases\r\n",
                "(\r\n",
                "\t ID INT IDENTITY(1,1)\r\n",
                "\t,DBID INT\r\n",
                "\t,Name VARCHAR(200)\r\n",
                ")\r\n",
                "\r\n",
                " --Get all database that are online and not snapshots\r\n",
                "INSERT INTO #Databases (DBID,Name)\r\n",
                "SELECT \r\n",
                "\tdatabase_id,\r\n",
                "\tName \r\n",
                "FROM \r\n",
                "\tmaster.sys.databases\r\n",
                "WHERE \r\n",
                "\t\tstate_desc='ONLINE' \r\n",
                "\tAND \r\n",
                "\t\tsource_database_id IS NULL\r\n",
                "\r\n",
                "\r\n",
                "DECLARE @MaxID INT, @Loop INT\r\n",
                "\r\n",
                "DECLARE @ExecStr VARCHAR(200), @Name VARCHAR(100),@Rowcount INT\r\n",
                "\r\n",
                "SELECT @MaxID =MAX(ID) FROM #Databases\r\n",
                "SET @Loop=1\r\n",
                "\r\n",
                "WHILE @Loop <= @MaxID \r\n",
                "BEGIN\r\n",
                "\tSELECT @Name = Name from #databases where ID =@loop\r\n",
                "\tSELECT @ExecStr='USE ['+@Name+']; DBCC showfilestats' \r\n",
                "\r\n",
                "--Insert file stats into temp table for each DB\r\n",
                "\r\n",
                "\tINSERT INTO #FileStats \r\n",
                "\t(\tFileID\r\n",
                "\t\t,FileGroup\r\n",
                "\t\t,TotalExtents\r\n",
                "\t\t,UsedExtents\r\n",
                "\t\t,Name\r\n",
                "\t\t,FileName\r\n",
                "\t)\r\n",
                "\t\r\n",
                "\tEXEC (@ExecStr)\r\n",
                "\tSET @rowcount =@@rowcount \r\n",
                "\t\r\n",
                "\r\n",
                "\t--SELECT @Loop , (@loop+@rowcount)\r\n",
                "\r\n",
                "\tUPDATE #FileStats\r\n",
                "\tSET DBNAME = @Name\r\n",
                "\t\t,Updated =1\r\n",
                "\t\t,srvName =@@servername\r\n",
                "\tWHERE \r\n",
                "\t\tupdated =0\r\n",
                "\r\n",
                "\tSET @loop=@loop+1\r\n",
                "END\r\n",
                "\r\n",
                "--Database Sizes \r\n",
                "\r\n",
                "SELECT \r\n",
                "\t @@servername AS SrvName\r\n",
                "\t,DBName\r\n",
                "\t,fileid\r\n",
                "\t,DATABASEPROPERTYEX( DBName, 'RECOVERY' ) AS Model\r\n",
                "\t,ROUND(cast(((TotalExtents * 64 *1.0 )/1024) as decimal(10,2)),-2) TotalSizeMg\r\n",
                "\t,cast((UsedExtents * 64 *1.0) /1024 as decimal (10,2)) UsedSizeMg\r\n",
                "\t,cast(ROUND(((TotalExtents * 64 *1.0 )/1024 )-((UsedExtents * 64 *1.0) /1024 ),2,-2)as decimal(10,2)) FreeMg\r\n",
                "FROM \r\n",
                "\t#filestats\r\n",
                "ORDER BY \r\n",
                "\tDBNAME,fileid\r\n",
                "\t---ROUND(((TotalExtents * 64 *1.0 )/1024 )-((UsedExtents * 64 *1.0) /1024 ),2,-2)  DESC\r\n",
                "\r\n",
                " --Data than can be reclaimed back\r\n",
                "SELECT \r\n",
                "\tSrvName\r\n",
                "\t,ROUND(CAST(SUM(ROUND(((TotalExtents * 64 *1.0 )/1024 )-((UsedExtents * 64 *1.0) /1024 ),2,-2))AS VARCHAR(50)),-2) [FreeMg - Data Size that can be claimed back]\r\n",
                "FROM \r\n",
                "\t#filestats\r\n",
                "GROUP BY\r\n",
                "\tSrvName\r\n",
                "\r\n",
                " --Data than can be reclaimed back\r\n",
                "SELECT \r\n",
                "\tSrvName\r\n",
                "\t,SUM(cast((UsedExtents * 64 *1.0) /1024 as decimal (10,2))) [TotalUsedSizeMg]\r\n",
                "FROM \r\n",
                "\t#filestats\r\n",
                "GROUP BY\r\n",
                "\tSrvName\r\n",
                " \r\n",
                "--Dabtabase log sizes\r\n",
                "SELECT\r\n",
                "\t DBName\r\n",
                "\t,ROUND(CAST(LogSize AS VARCHAR(50)),-2) [LogSize Mg]\r\n",
                "\t,ROUND(CAST(LogSpaceuse AS VARCHAR(50)),-2)[LogSpaceused %]\r\n",
                "\t,ROUND(CAST((LogSize-LogSpaceFree) AS VARCHAR(50)),-2)[LogSpaceFree Mg]\r\n",
                "FROM \r\n",
                "\t#logfiles\r\n",
                "ORDER BY \r\n",
                "\tLogSpaceFree DESC\r\n",
                "\r\n",
                "--Log space that can be reclaimed  \r\n",
                "\r\n",
                "SELECT \r\n",
                "\tROUND(CAST(SUM(LogSize-LogSpaceFree)AS VARCHAR(MAX)),2) [Log Space that can be reclaimed] \r\n",
                "FROM \r\n",
                "\t#logfiles"
            ],
            "metadata": {
                "azdata_cell_guid": "da6f17af-32ab-41c2-a838-06550815aa59",
                "tags": [
                    "hide_input"
                ]
            },
            "outputs": [],
            "execution_count": null
        },
        {
            "cell_type": "markdown",
            "source": [
                "> - Index Columns - Show the index columns in the index and any included columns (Query 6)"
            ],
            "metadata": {
                "azdata_cell_guid": "4422a68a-8c8d-4a9e-b5bc-f9e608301550"
            }
        },
        {
            "cell_type": "code",
            "source": [
                "/* Get index columns , also show included columns */\r\n",
                "\r\n",
                "DECLARE \r\n",
                "\t@tableName sysname = NULL\r\n",
                "\r\n",
                "  SET NOCOUNT ON    \r\n",
                "-----------------------------------------------------------------        \r\n",
                "-- Object:     sp_DBA_GetIndexColumns      \r\n",
                "-- Written By:         \r\n",
                "-- Date Written:  19/10/2010       \r\n",
                "-- Usage:           \r\n",
                "-- sp_DBA_GetIndexColumns \r\n",
                "-- sp_DBA_GetIndexColumns @tableName ='tbl_Scheme'\r\n",
                "-----------------------------------------------------------------        \r\n",
                "-- {developer}  {date}    {description} {Version}        \r\n",
                "-----------------------------------------------------------------        \r\n",
                "--https://www.ptr.co.uk/blog/sql-server-display-indexes-their-columns-included-columns\r\n",
                "DECLARE @TempTable AS TABLE (SchemaName VARCHAR(100), \r\n",
                "\t\t\t\t\t\t\t ObjectID INT, \r\n",
                "\t\t\t\t\t\t\t TableName VARCHAR(100), \r\n",
                "\t\t\t\t\t\t\t IndexID INT, \r\n",
                "\t\t\t\t\t\t\t IndexName VARCHAR(MAX), \r\n",
                "\t\t\t\t\t\t\t ColumnID INT, \r\n",
                "\t\t\t\t\t\t\t column_index_id INT, \r\n",
                "\t\t\t\t\t\t\t ColumnNames  VARCHAR(500), \r\n",
                "\t\t\t\t\t\t\t IncludeColumns  VARCHAR(MAX), \r\n",
                "\t\t\t\t\t\t\t NumberOfColumns INT, \r\n",
                "\t\t\t\t\t\t\t IndexType  VARCHAR(20),\r\n",
                "\t\t\t\t\t\t\t LastColRecord INT);\r\n",
                "\r\n",
                "WITH CTE_Indexes (SchemaName, ObjectID, TableName, IndexID, IndexName, ColumnID, column_index_id, ColumnNames, IncludeColumns, NumberOfColumns, IndexType)\r\n",
                "AS\r\n",
                "(\r\n",
                "SELECT s.name, t.object_id, t.name, i.index_id, i.name, c.column_id, ic.index_column_id,\r\n",
                "\t\tCASE ic.is_included_column WHEN 0 THEN CAST(c.name AS VARCHAR(5000)) ELSE '' END, \r\n",
                "\t\tCASE ic.is_included_column WHEN 1 THEN CAST(c.name AS VARCHAR(5000)) ELSE '' END, 1, i.type_desc\r\n",
                "\tFROM  sys.schemas AS s\r\n",
                "\t\tJOIN sys.tables AS t ON s.schema_id = t.schema_id\r\n",
                "\t\t\tJOIN sys.indexes AS i ON i.object_id = t.object_id\r\n",
                "\t\t\t\tJOIN sys.index_columns AS ic ON ic.index_id = i.index_id AND ic.object_id = i.object_id\r\n",
                "\t\t\t\t\tJOIN sys.columns AS c ON c.column_id = ic.column_id AND c.object_id = ic.object_id\r\n",
                "\t\t\t\t\t\tAND ic.index_column_id = 1\r\n",
                "UNION ALL\r\n",
                "SELECT s.name, t.object_id, t.name, i.index_id, i.name, c.column_id, ic.index_column_id,\r\n",
                "\t\tCASE ic.is_included_column WHEN 0 THEN CAST(cte.ColumnNames + ', ' + c.name AS VARCHAR(5000))  ELSE cte.ColumnNames END, \r\n",
                "\t\tCASE  \r\n",
                "\t\t\tWHEN ic.is_included_column = 1 AND cte.IncludeColumns != '' THEN CAST(cte.IncludeColumns + ', ' + c.name AS VARCHAR(5000))\r\n",
                "\t\t\tWHEN ic.is_included_column =1 AND cte.IncludeColumns = '' THEN CAST(c.name AS VARCHAR(5000)) \r\n",
                "\t\t\tELSE '' \r\n",
                "\t\tEND,\r\n",
                "\t\tcte.NumberOfColumns + 1, i.type_desc\r\n",
                "\tFROM  sys.schemas AS s\r\n",
                "\t\tJOIN sys.tables AS t ON s.schema_id = t.schema_id\r\n",
                "\t\t\tJOIN sys.indexes AS i ON i.object_id = t.object_id\r\n",
                "\t\t\t\tJOIN sys.index_columns AS ic ON ic.index_id = i.index_id AND ic.object_id = i.object_id\r\n",
                "\t\t\t\t\tJOIN sys.columns AS c ON c.column_id = ic.column_id AND c.object_id = ic.object_id \r\n",
                "\t\t\t\t\tJOIN CTE_Indexes cte ON cte.Column_index_ID + 1 = ic.index_column_id  \r\n",
                "\t\t\t\t\t--JOIN CTE_Indexes cte ON cte.ColumnID + 1 = ic.index_column_id  \r\n",
                "\t\t\t\t\t\t\tAND cte.IndexID = i.index_id AND cte.ObjectID = ic.object_id\r\n",
                "\r\n",
                ")\r\n",
                "INSERT INTO  @TempTable \r\n",
                "SELECT *, RANK() OVER (PARTITION BY ObjectID, IndexID ORDER BY NumberOfColumns DESC) AS LastRecord FROM CTE_Indexes AS cte;\r\n",
                "\r\n",
                "SELECT SchemaName, TableName, IndexName, ColumnNames, IncludeColumns, IndexType FROM @TempTable\r\n",
                "WHERE LastColRecord = 1\r\n",
                "AND TableName = COALESCE(@TableName,TableName)\r\n",
                "ORDER BY objectid, TableName, ColumnNames, IndexName\r\n",
                "\r\n",
                "\r\n",
                "\r\n",
                ""
            ],
            "metadata": {
                "azdata_cell_guid": "76fe48ab-fe59-4d59-9a6b-53ac2d7cf2e0",
                "tags": [
                    "hide_input"
                ]
            },
            "outputs": [],
            "execution_count": null
        },
        {
            "cell_type": "markdown",
            "source": [
                "> - DBA Permissions  - Roles and permissions (Query 7)"
            ],
            "metadata": {
                "azdata_cell_guid": "c3e152b0-cebd-4a1b-9fca-d1ac38792c6f"
            },
            "attachments": {}
        },
        {
            "cell_type": "code",
            "source": [
                "/* DBA_Permissions.sql  #SQL */\r\n",
                "  \r\n",
                "-----------------------------------------------------------------  \r\n",
                "-- Object:   sp_DBA_DBPermissions  \r\n",
                "-- Written By:  \r\n",
                "-- Date Written:   \r\n",
                "-- Purpose:   Returns permissions for all databases   \r\n",
                "-- Template:  1.0   \r\n",
                "-- Usage:     \r\n",
                "--    sp_DBA_DBPermissions  \r\n",
                "-- Calls:   N/A  \r\n",
                "-----------------------------------------------------------------  \r\n",
                "-- Modified By  Modified Date  Description\t\t\t\t\tVersion \r\n",
                "-- MAC\t\t\t16/11/2010\t   Modified to use table var\t2.0\r\n",
                "-----------------------------------------------------------------  \r\n",
                "-- {developer}  {date}    {description} {Version}  \r\n",
                "-----------------------------------------------------------------  \r\n",
                "\r\n",
                "DECLARE  @SecurityDetails TABLE\r\n",
                "(ServerName sysname,DatabaseName sysname,member_principal_name sysname,principal_type_desc sysname,role_name sysname)\r\n",
                "\r\n",
                " INSERT INTO @SecurityDetails\r\n",
                "\t   \r\n",
                "EXEC sp_MSForEachDB  N'USE [?]; \r\n",
                "\t\t\t\r\n",
                "\t   \r\n",
                "\t   SELECT @@ServerName,\r\n",
                "\t   DB_name(),\r\n",
                "\t   rm.member_principal_name, \r\n",
                "\t   rm.principal_type_desc, \r\n",
                "\t   rm.role_name\r\n",
                "FROM    sys.database_principals p\r\n",
                "right outer JOIN (\r\n",
                "\t\t\t\t  select role_principal_id, \r\n",
                "\t\t\t\t  dp.type_desc as principal_type_desc, \r\n",
                "\t\t\t\t  member_principal_id,user_name(member_principal_id) as member_principal_name,\r\n",
                "\t\t\t\t  user_name(role_principal_id) as role_name\r\n",
                "\r\n",
                "\t\t\t\t  from sys.database_role_members rm\r\n",
                "\t\t\t\t  INNER JOIN sys.database_principals dp\r\n",
                "\t\t\t\t\tON    rm.member_principal_id = dp.principal_id\r\n",
                "\t\t\t\t \r\n",
                "\t\t\t\t   ) rm\r\n",
                "ON   rm.role_principal_id = p.principal_id\r\n",
                "\r\n",
                "Where principal_type_desc in (''Sql_User'',''WINDOWS_USER'',''WINDOWS_GROUP'')'\r\n",
                "\r\n",
                "SELECT * FROM @SecurityDetails\r\n",
                "\r\n",
                "GO\r\n",
                "\r\n",
                "\r\n",
                ""
            ],
            "metadata": {
                "azdata_cell_guid": "777cd948-c114-4d8b-816b-11439558827f"
            },
            "outputs": [
                {
                    "output_type": "display_data",
                    "data": {
                        "text/html": "Commands completed successfully."
                    },
                    "metadata": {}
                },
                {
                    "output_type": "display_data",
                    "data": {
                        "text/html": "Total execution time: 00:00:00.261"
                    },
                    "metadata": {}
                },
                {
                    "output_type": "execute_result",
                    "metadata": {},
                    "execution_count": 8,
                    "data": {
                        "application/vnd.dataresource+json": {
                            "schema": {
                                "fields": [
                                    {
                                        "name": "ServerName"
                                    },
                                    {
                                        "name": "DatabaseName"
                                    },
                                    {
                                        "name": "member_principal_name"
                                    },
                                    {
                                        "name": "principal_type_desc"
                                    },
                                    {
                                        "name": "role_name"
                                    }
                                ]
                            },
                            "data": [
                                {
                                    "0": "JURGEN",
                                    "1": "master",
                                    "2": "dbo",
                                    "3": "SQL_USER",
                                    "4": "db_owner"
                                },
                                {
                                    "0": "JURGEN",
                                    "1": "tempdb",
                                    "2": "dbo",
                                    "3": "SQL_USER",
                                    "4": "db_owner"
                                },
                                {
                                    "0": "JURGEN",
                                    "1": "model",
                                    "2": "dbo",
                                    "3": "SQL_USER",
                                    "4": "db_owner"
                                },
                                {
                                    "0": "JURGEN",
                                    "1": "msdb",
                                    "2": "dbo",
                                    "3": "SQL_USER",
                                    "4": "db_owner"
                                },
                                {
                                    "0": "JURGEN",
                                    "1": "msdb",
                                    "2": "MS_DataCollectorInternalUser",
                                    "3": "SQL_USER",
                                    "4": "SQLAgentUserRole"
                                },
                                {
                                    "0": "JURGEN",
                                    "1": "msdb",
                                    "2": "MS_DataCollectorInternalUser",
                                    "3": "SQL_USER",
                                    "4": "db_ssisoperator"
                                },
                                {
                                    "0": "JURGEN",
                                    "1": "msdb",
                                    "2": "MS_DataCollectorInternalUser",
                                    "3": "SQL_USER",
                                    "4": "dc_admin"
                                },
                                {
                                    "0": "JURGEN",
                                    "1": "msdb",
                                    "2": "##MS_PolicyEventProcessingLogin##",
                                    "3": "SQL_USER",
                                    "4": "PolicyAdministratorRole"
                                },
                                {
                                    "0": "JURGEN",
                                    "1": "msdb",
                                    "2": "##MS_PolicyTsqlExecutionLogin##",
                                    "3": "SQL_USER",
                                    "4": "PolicyAdministratorRole"
                                },
                                {
                                    "0": "JURGEN",
                                    "1": "MIH",
                                    "2": "dbo",
                                    "3": "SQL_USER",
                                    "4": "db_owner"
                                },
                                {
                                    "0": "JURGEN",
                                    "1": "AdventureWorks2019",
                                    "2": "dbo",
                                    "3": "WINDOWS_USER",
                                    "4": "db_owner"
                                },
                                {
                                    "0": "JURGEN",
                                    "1": "StackOverflow2010",
                                    "2": "dbo",
                                    "3": "WINDOWS_USER",
                                    "4": "db_owner"
                                }
                            ]
                        },
                        "text/html": [
                            "<table>",
                            "<tr><th>ServerName</th><th>DatabaseName</th><th>member_principal_name</th><th>principal_type_desc</th><th>role_name</th></tr>",
                            "<tr><td>JURGEN</td><td>master</td><td>dbo</td><td>SQL_USER</td><td>db_owner</td></tr>",
                            "<tr><td>JURGEN</td><td>tempdb</td><td>dbo</td><td>SQL_USER</td><td>db_owner</td></tr>",
                            "<tr><td>JURGEN</td><td>model</td><td>dbo</td><td>SQL_USER</td><td>db_owner</td></tr>",
                            "<tr><td>JURGEN</td><td>msdb</td><td>dbo</td><td>SQL_USER</td><td>db_owner</td></tr>",
                            "<tr><td>JURGEN</td><td>msdb</td><td>MS_DataCollectorInternalUser</td><td>SQL_USER</td><td>SQLAgentUserRole</td></tr>",
                            "<tr><td>JURGEN</td><td>msdb</td><td>MS_DataCollectorInternalUser</td><td>SQL_USER</td><td>db_ssisoperator</td></tr>",
                            "<tr><td>JURGEN</td><td>msdb</td><td>MS_DataCollectorInternalUser</td><td>SQL_USER</td><td>dc_admin</td></tr>",
                            "<tr><td>JURGEN</td><td>msdb</td><td>##MS_PolicyEventProcessingLogin##</td><td>SQL_USER</td><td>PolicyAdministratorRole</td></tr>",
                            "<tr><td>JURGEN</td><td>msdb</td><td>##MS_PolicyTsqlExecutionLogin##</td><td>SQL_USER</td><td>PolicyAdministratorRole</td></tr>",
                            "<tr><td>JURGEN</td><td>MIH</td><td>dbo</td><td>SQL_USER</td><td>db_owner</td></tr>",
                            "<tr><td>JURGEN</td><td>AdventureWorks2019</td><td>dbo</td><td>WINDOWS_USER</td><td>db_owner</td></tr>",
                            "<tr><td>JURGEN</td><td>StackOverflow2010</td><td>dbo</td><td>WINDOWS_USER</td><td>db_owner</td></tr>",
                            "</table>"
                        ]
                    }
                }
            ],
            "execution_count": 8
        },
        {
            "cell_type": "markdown",
            "source": [
                "## [Home](file:///C:/SQLScriptsLibrary/Home.ipynb)"
            ],
            "metadata": {
                "azdata_cell_guid": "9bfedbb8-e963-4756-bf9c-ef9794e8b31e"
            }
        }
    ]
}