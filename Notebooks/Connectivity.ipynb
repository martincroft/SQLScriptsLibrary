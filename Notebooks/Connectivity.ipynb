{
    "metadata": {
        "kernelspec": {
            "name": "SQL",
            "display_name": "SQL",
            "language": "sql"
        },
        "language_info": {
            "name": "sql",
            "version": ""
        },
        "extensions": {
            "azuredatastudio": {
                "version": 1,
                "views": []
            }
        }
    },
    "nbformat_minor": 2,
    "nbformat": 4,
    "cells": [
        {
            "cell_type": "markdown",
            "source": [
                "## [Home](file:///C:/SQLScriptsLibrary/Home.ipynb)"
            ],
            "metadata": {
                "azdata_cell_guid": "333b441a-8874-40cd-947a-c35aad0d4639",
                "extensions": {
                    "azuredatastudio": {
                        "views": []
                    }
                }
            }
        },
        {
            "cell_type": "markdown",
            "source": [
                "# Connectivity\n",
                "\n",
                "> - Kill connections (TO BE USED WITH CAUTION OBVIOUSLY) (Q1)\n",
                "> - Check server and machine name are same (Q2)"
            ],
            "metadata": {
                "azdata_cell_guid": "665be742-c206-406e-9482-48aa1ab69f6c"
            },
            "attachments": {}
        },
        {
            "cell_type": "code",
            "source": [
                "/* Kill Database connections (Query 1*/\r\n",
                "\r\n",
                "--===================================================================================\r\n",
                "--=== WARNING THIS SHOULD BE ONLY USED IF YOU REALLY WANT TO REMOVE USER CONNECTIONS \r\n",
                "--====================================================================================\r\n",
                "\r\n",
                "DECLARE @kill varchar(8000) = '';  \r\n",
                "SELECT @kill = @kill + 'kill ' + CONVERT(varchar(5), session_id) + ';'  \r\n",
                "FROM sys.dm_exec_sessions\r\n",
                "WHERE database_id  = db_id('Enter DatabaseName')\r\n",
                "--AND host_name = '[Enter Hostname]'\r\n",
                "\r\n",
                "EXEC (@kill)\r\n",
                ""
            ],
            "metadata": {
                "azdata_cell_guid": "37203ca0-f538-497f-a66c-688749e46965"
            },
            "outputs": [],
            "execution_count": null
        },
        {
            "cell_type": "markdown",
            "source": [
                "> - Check server and machine name are same (Q2)"
            ],
            "metadata": {
                "azdata_cell_guid": "e2fa0451-9b69-42ae-b629-48473b02d3cf"
            },
            "attachments": {}
        },
        {
            "cell_type": "code",
            "source": [
                "/* Check Server names are correct.sql  */\r\n",
                "SELECT CASE WHEN @@SERVERNAME <> SERVERPROPERTY('MachineName') THEN 'Server/Machine Name different!!' ELSE 'Server/Machine Name same' END as Status,\r\n",
                "\t\t@@SERVERNAME AS ServerName\r\n",
                "\t, SERVERPROPERTY('MachineName') AS MachineName"
            ],
            "metadata": {
                "azdata_cell_guid": "c24f3c8f-e388-4ebc-b5e9-60994806ffac"
            },
            "outputs": [],
            "execution_count": null
        },
        {
            "cell_type": "markdown",
            "source": [
                "## [Home](file:///C:/SQLScriptsLibrary/Home.ipynb)"
            ],
            "metadata": {
                "azdata_cell_guid": "9bfedbb8-e963-4756-bf9c-ef9794e8b31e"
            }
        }
    ]
}