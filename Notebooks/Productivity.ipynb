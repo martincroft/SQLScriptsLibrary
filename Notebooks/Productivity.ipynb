{
    "metadata": {
        "kernelspec": {
            "name": "SQL",
            "display_name": "SQL",
            "language": "sql"
        },
        "language_info": {
            "name": "sql",
            "version": ""
        }
    },
    "nbformat_minor": 2,
    "nbformat": 4,
    "cells": [
        {
            "cell_type": "markdown",
            "source": [
                "## Adding images to Notebooks\n",
                "You can add images that reference a location on your local drive, but this becomes a pain to maintain ( and obviously takes up space)\n",
                "There is a clever work around that [Rob Sewell](https://sqldbawithabeard.com/) showed in one of his brilliant sessions You just create a new issue in Git Hub (and you dont even need to save the issue!)\n",
                "Connect to Git hub, go to any old project and in the main window just paste in the image you want to use This then changes to following format\n",
                "![image](https://user-images.githubusercontent.com/30621653/153917909-0eb5a38c-bd0d-4884-a496-15469797846e.png)\n",
                "You just need to copy the line created and add that into your Notebook\n",
                "![image](https://user-images.githubusercontent.com/30621653/153918803-5cc29148-88ea-4c97-8189-1f8ca3c6b4f2.png)\n",
                "I've used this for year since I saw Rob's presentation and so far they have always worked\n",
                "## Adding Right click Context Menu to Windows\n",
                "This has been really usedful since I came across it, and a really good productivity saver, no open to notepad, cut and paste for might right click and select copy to the keyboard\n",
                "![image](https://user-images.githubusercontent.com/30621653/153920213-b7e08ccc-e19e-4c64-a273-76da35c895d5.png)\n",
                "It involves a registry hack\n",
                "![image](https://user-images.githubusercontent.com/30621653/153917593-2a0cde74-dcb4-40b0-8369-a5a2ea406ed9.png)\n",
                "Details are below (I've added screen shot, as I tweaked it slightly from the \\[Source\\] ([https://superuser.com/questions/342545/copy-content-of-txt-file-without-opening-it](https://superuser.com/questions/342545/copy-content-of-txt-file-without-opening-it)) )\n",
                "Steps:  \n",
                "1\\. Open regedit.exe  \n",
                "2\\. Go to HKEY\\_CLASSES\\_ROOT/txtfile/shell (This didn't work for me so I had to put it under HKEY\\_CLASSES\\_ROOT/\\*/shell, which makes it show up in EVERY context menu)  \n",
                "3\\. Add a new key titled copytoclip  \n",
                "4\\. Set the default value of copytoclip to something like Copy to Clipboard  \n",
                "5\\. Under copytoclip, add a key called command  \n",
                "Set the default value of command to cmd /c clip \\< \"%1\""
            ],
            "metadata": {
                "azdata_cell_guid": "43fecbdc-312f-4b50-844a-d2bc0a02375e"
            },
            "attachments": {}
        }
    ]
}