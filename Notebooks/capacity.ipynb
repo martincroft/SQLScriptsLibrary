{
    "metadata": {
        "kernelspec": {
            "name": "SQL",
            "display_name": "SQL",
            "language": "sql"
        },
        "language_info": {
            "name": "sql",
            "version": ""
        }
    },
    "nbformat_minor": 2,
    "nbformat": 4,
    "cells": [
        {
            "cell_type": "markdown",
            "source": [
                "## [Home](file:///C:/SQLScriptsLibrary/Home.ipynb)"
            ],
            "metadata": {
                "azdata_cell_guid": "333b441a-8874-40cd-947a-c35aad0d4639"
            }
        },
        {
            "cell_type": "markdown",
            "source": [
                "# \\[Capacity Queries\\]\n",
                "\n",
                "> - Database Sizes Q1)\n",
                "> - Capture Database Sizes to a table (Q2)\n",
                "> - Filesize growth rates (Q3)"
            ],
            "metadata": {
                "azdata_cell_guid": "9d0bc32f-018f-41f0-b091-4752ad448ad7"
            },
            "attachments": {}
        },
        {
            "cell_type": "markdown",
            "source": [
                "> - Database Sizes Q1)"
            ],
            "metadata": {
                "azdata_cell_guid": "ce6bbaae-586a-41ff-bedb-3f345a0d4726"
            }
        },
        {
            "cell_type": "code",
            "source": [
                "/* 01 Data sizes.sql  #SQL */\r\n",
                "--============================================================================================\r\n",
                "--01 Database and log sizes per database and freespace \r\n",
                "--============================================================================================\r\n",
                "IF (\r\n",
                "\t\tSELECT OBJECT_ID('Tempdb.dbo.#DatabaseSizes')\r\n",
                "\t\t) IS NOT NULL\r\n",
                "\tDROP TABLE #DatabaseSizes\r\n",
                "GO\r\n",
                "\r\n",
                "CREATE TABLE #DatabaseSizes (\r\n",
                "\tSrvName SYSNAME\r\n",
                "\t,DatabaseName SYSNAME\r\n",
                "\t,FileName SYSNAME\r\n",
                "\t,PhysicalName SYSNAME\r\n",
                "\t,TotalSizeinMB DECIMAL(12, 2)\r\n",
                "\t,AvailableSpaceInMB DECIMAL(12, 2)\r\n",
                "\t,file_id INT\r\n",
                "\t,FilegroupName SYSNAME NULL\r\n",
                "\t,Type_desc VARCHAR(10)\r\n",
                "\t)\r\n",
                "\r\n",
                "EXEC sp_MSForEachDB 'USE [?] INSERT INTO #DatabaseSizes\r\n",
                "SELECT @@Servername AS SrvName,\r\n",
                "db_name() AS DatabaseName,\r\n",
                "f.name AS [File Name] , f.physical_name AS [Physical Name], \r\n",
                "CAST((f.size/128.0) AS DECIMAL(15,2)) AS [Total Size in MB],\r\n",
                "CAST(f.size/128.0 - CAST(FILEPROPERTY(f.name, ''SpaceUsed'') AS int)/128.0 AS DECIMAL(15,2)) \r\n",
                "AS [Available Space In MB], [file_id], fg.name AS [Filegroup Name],f.Type_desc\r\n",
                "FROM sys.database_files AS f WITH (NOLOCK) \r\n",
                "LEFT OUTER JOIN sys.data_spaces AS fg WITH (NOLOCK) \r\n",
                "ON f.data_space_id = fg.data_space_id OPTION (RECOMPILE);\r\n",
                "'\r\n",
                "\r\n",
                "SELECT @@servername AS SrvName\r\n",
                "\t,DatabaseName\r\n",
                "\t,SUM(TotalSizeinMB) AS [Total Size in MB]\r\n",
                "\t,SUM(AvailableSpaceInMB) AS [Available Space In MB]\r\n",
                "\t,Type_desc\r\n",
                "FROM #DatabaseSizes\r\n",
                "GROUP BY SrvName\r\n",
                "\t,DatabaseName\r\n",
                "\t,Type_desc\r\n",
                "\r\n",
                "SELECT @@SERVERNAME AS SrvName\r\n",
                "\t,DatabaseName\r\n",
                "\t,GETDATE() AS ReportDate\r\n",
                "\t,SUM(CASE \r\n",
                "\t\t\tWHEN Type_desc = 'ROWS'\r\n",
                "\t\t\t\tTHEN TotalSizeinMB\r\n",
                "\t\t\tELSE 0\r\n",
                "\t\t\tEND) AS DataSizeTotal\r\n",
                "\t,SUM(CASE \r\n",
                "\t\t\tWHEN Type_desc = 'ROWS'\r\n",
                "\t\t\t\tTHEN AvailableSpaceInMB\r\n",
                "\t\t\tELSE 0\r\n",
                "\t\t\tEND) AS DataSizefree\r\n",
                "\t,SUM(CASE \r\n",
                "\t\t\tWHEN Type_desc = 'LOG'\r\n",
                "\t\t\t\tTHEN TotalSizeinMB\r\n",
                "\t\t\tELSE 0\r\n",
                "\t\t\tEND) AS LogSizeTotal\r\n",
                "\t,SUM(CASE \r\n",
                "\t\t\tWHEN Type_desc = 'LOG'\r\n",
                "\t\t\t\tTHEN AvailableSpaceInMB\r\n",
                "\t\t\tELSE 0\r\n",
                "\t\t\tEND) AS LogSizefree\r\n",
                "\t,SUM(TotalSizeinMB) AS TotalSizeinMB\r\n",
                "FROM #DatabaseSizes\r\n",
                "GROUP BY SrvName\r\n",
                "\t,DatabaseName\r\n",
                "\r\n",
                ""
            ],
            "metadata": {
                "azdata_cell_guid": "ac6926da-735d-4934-a773-f3470cfeac40"
            },
            "outputs": [],
            "execution_count": null
        },
        {
            "cell_type": "markdown",
            "source": [
                "> - Capture Database Sizes to a table (Q2)"
            ],
            "metadata": {
                "azdata_cell_guid": "c61c685c-b622-4d93-b979-f690dd72d6c7"
            },
            "attachments": {}
        },
        {
            "cell_type": "code",
            "source": [
                "--===================================================================================\r\n",
                "--02 Capture size information\r\n",
                "--===================================================================================\r\n",
                "\r\n",
                "/*\r\n",
                "--uncomment if requirement to store capacity infomation\r\n",
                "IF (\r\n",
                "\t\tSELECT OBJECT_ID('DatabaseSizes')\r\n",
                "\t\t) IS NOT NULL\r\n",
                "\tDROP TABLE DatabaseSizes\r\n",
                "GO\r\n",
                "\r\n",
                "CREATE TABLE DatabaseSizes (\r\n",
                "\tSrvName SYSNAME\r\n",
                "\t,DatabaseName SYSNAME\r\n",
                "\t,ReportDate DATETIME\r\n",
                "\t,DataSizeTotal DECIMAL(12, 2)\r\n",
                "\t,DataSizefree DECIMAL(12, 2)\r\n",
                "\t,LogSizeTotal DECIMAL(12, 2)\r\n",
                "\t,LogSizefree DECIMAL(12, 2)\r\n",
                "\t,TotalSizeinMB DECIMAL(12, 2)\r\n",
                "\t,\r\n",
                "\t)\r\n",
                "*/\r\n",
                "IF (\r\n",
                "\t\tSELECT OBJECT_ID('Tempdb.dbo.#DatabaseSizes')\r\n",
                "\t\t) IS NOT NULL\r\n",
                "\tDROP TABLE #DatabaseSizes\r\n",
                "GO\r\n",
                "\r\n",
                "CREATE TABLE #DatabaseSizes (\r\n",
                "\tSrvName SYSNAME\r\n",
                "\t,DatabaseName SYSNAME\r\n",
                "\t,FileName SYSNAME\r\n",
                "\t,PhysicalName SYSNAME\r\n",
                "\t,TotalSizeinMB DECIMAL(12, 2)\r\n",
                "\t,AvailableSpaceInMB DECIMAL(12, 2)\r\n",
                "\t,file_id INT\r\n",
                "\t,FilegroupName SYSNAME NULL\r\n",
                "\t,Type_desc VARCHAR(10)\r\n",
                "\t)\r\n",
                "\r\n",
                "EXEC sp_MSForEachDB 'USE [?] INSERT INTO #DatabaseSizes\r\n",
                "SELECT @@Servername AS SrvName,\r\n",
                "db_name() AS DatabaseName,\r\n",
                "f.name AS [File Name] , f.physical_name AS [Physical Name], \r\n",
                "CAST((f.size/128.0) AS DECIMAL(15,2)) AS [Total Size in MB],\r\n",
                "CAST(f.size/128.0 - CAST(FILEPROPERTY(f.name, ''SpaceUsed'') AS int)/128.0 AS DECIMAL(15,2)) \r\n",
                "AS [Available Space In MB], [file_id], fg.name AS [Filegroup Name],f.Type_desc\r\n",
                "FROM sys.database_files AS f WITH (NOLOCK) \r\n",
                "LEFT OUTER JOIN sys.data_spaces AS fg WITH (NOLOCK) \r\n",
                "ON f.data_space_id = fg.data_space_id OPTION (RECOMPILE);\r\n",
                "'\r\n",
                "\r\n",
                "SELECT *\r\n",
                "FROM #DatabaseSizes\r\n",
                "\r\n",
                "SELECT SrvName\r\n",
                "\t,DatabaseName\r\n",
                "\t,SUM(TotalSizeinMB) AS [Total Size in MB]\r\n",
                "\t,SUM(AvailableSpaceInMB) AS [Available Space In MB]\r\n",
                "\t,Type_desc\r\n",
                "FROM #DatabaseSizes\r\n",
                "GROUP BY SrvName\r\n",
                "\t,DatabaseName\r\n",
                "\t,Type_desc\r\n",
                "\r\n",
                "\r\n",
                "\r\n",
                "SELECT SrvName\r\n",
                "\t,DatabaseName\r\n",
                "\t,GETDATE() AS ReportDate\r\n",
                "\t,SUM(CASE \r\n",
                "\t\t\tWHEN Type_desc = 'ROWS'\r\n",
                "\t\t\t\tTHEN TotalSizeinMB\r\n",
                "\t\t\tELSE 0\r\n",
                "\t\t\tEND) AS DataSizeTotal\r\n",
                "\t,SUM(CASE \r\n",
                "\t\t\tWHEN Type_desc = 'ROWS'\r\n",
                "\t\t\t\tTHEN AvailableSpaceInMB\r\n",
                "\t\t\tELSE 0\r\n",
                "\t\t\tEND) AS DataSizefree\r\n",
                "\t,SUM(CASE \r\n",
                "\t\t\tWHEN Type_desc = 'LOG'\r\n",
                "\t\t\t\tTHEN TotalSizeinMB\r\n",
                "\t\t\tELSE 0\r\n",
                "\t\t\tEND) AS LogSizeTotal\r\n",
                "\t,SUM(CASE \r\n",
                "\t\t\tWHEN Type_desc = 'LOG'\r\n",
                "\t\t\t\tTHEN AvailableSpaceInMB\r\n",
                "\t\t\tELSE 0\r\n",
                "\t\t\tEND) AS LogSizefree\r\n",
                "\t,SUM(TotalSizeinMB) AS TotalSizeinMB\r\n",
                "FROM #DatabaseSizes\r\n",
                "GROUP BY SrvName\r\n",
                "\t,DatabaseName\r\n",
                ""
            ],
            "metadata": {
                "azdata_cell_guid": "fe2af7e2-f25a-4a0f-9d6e-4d54d7f69a84"
            },
            "outputs": [],
            "execution_count": null
        },
        {
            "cell_type": "markdown",
            "source": [
                "> - Filesize growth rates (Q3)"
            ],
            "metadata": {
                "azdata_cell_guid": "a6a18e59-b901-4e4a-8be1-ebfd8f7bd928"
            }
        },
        {
            "cell_type": "code",
            "source": [
                "--===================================================================================\r\n",
                "--03 File sizes growth information\r\n",
                "--===================================================================================\r\n",
                "SELECT @@SERVERNAME AS Servername\r\n",
                "\t,'Database Name' = DB_NAME(database_id)\r\n",
                "\t,'FileName' = NAME\r\n",
                "\t,FILE_ID\r\n",
                "\t,'size' = CONVERT(NVARCHAR(15), CONVERT(BIGINT, size) * 8) + N' KB'\r\n",
                "\t,'maxsize' = (\r\n",
                "\t\tCASE max_size\r\n",
                "\t\t\tWHEN - 1\r\n",
                "\t\t\t\tTHEN N'Unlimited'\r\n",
                "\t\t\tELSE CONVERT(NVARCHAR(15), CONVERT(BIGINT, max_size) * 8) + N' KB'\r\n",
                "\t\t\tEND\r\n",
                "\t\t)\r\n",
                "\t,'growth' = (\r\n",
                "\t\tCASE is_percent_growth\r\n",
                "\t\t\tWHEN 1\r\n",
                "\t\t\t\tTHEN CONVERT(NVARCHAR(15), growth) + N'%'\r\n",
                "\t\t\tELSE CONVERT(NVARCHAR(15), CONVERT(BIGINT, growth) * 8) + N' KB'\r\n",
                "\t\t\tEND\r\n",
                "\t\t)\r\n",
                "\t,'type_desc' = type_desc\r\n",
                "\t,physical_name\r\n",
                "FROM sys.master_files\r\n",
                "ORDER BY database_id\r\n",
                ""
            ],
            "metadata": {
                "azdata_cell_guid": "9e491115-d039-485f-838a-92bd1be760d2"
            },
            "outputs": [],
            "execution_count": null
        },
        {
            "cell_type": "markdown",
            "source": [
                "## [Home](file:///C:/SQLScriptsLibrary/Home.ipynb)"
            ],
            "metadata": {
                "azdata_cell_guid": "0bcb2504-f499-4573-874e-97eef0c13fb7"
            },
            "attachments": {}
        }
    ]
}