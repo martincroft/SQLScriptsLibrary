{
    "metadata": {
        "kernelspec": {
            "name": "SQL",
            "display_name": "SQL",
            "language": "sql"
        },
        "language_info": {
            "name": "sql",
            "version": ""
        },
        "extensions": {
            "azuredatastudio": {
                "version": 1,
                "views": []
            }
        }
    },
    "nbformat_minor": 2,
    "nbformat": 4,
    "cells": [
        {
            "cell_type": "markdown",
            "source": [
                "## [Home](file:///C:/SQLScriptsLibrary/Home.ipynb)"
            ],
            "metadata": {
                "azdata_cell_guid": "333b441a-8874-40cd-947a-c35aad0d4639",
                "extensions": {
                    "azuredatastudio": {
                        "views": []
                    }
                }
            }
        },
        {
            "cell_type": "markdown",
            "source": [
                "## Auditing\n",
                "\n",
                "> - Some Stuff (Query 1)\n",
                ">     - More Stuff (Query 2)\n",
                ">     - Some Info\n",
                ">         - More Info- (Query 3.1)\n",
                ">         - Even More Info IP - (Query 3.2)"
            ],
            "metadata": {
                "azdata_cell_guid": "99b98758-2dda-47db-9afa-e2507357cbb3"
            },
            "attachments": {}
        },
        {
            "cell_type": "code",
            "source": [
                "/* Database audit specifications in a SQL Server audit on a server instance for all databases */\r\n",
                "SELECT TOP 1000 \r\n",
                "\t'[database_audit_specification_details]' AS TableName\r\n",
                "\t,[database_specification_id]\r\n",
                "\t,[audit_action_id]\r\n",
                "\t,[audit_action_name]\r\n",
                "\t,[class]\r\n",
                "\t,[class_desc]\r\n",
                "\t,[major_id]\r\n",
                "\t,[minor_id]\r\n",
                "\t,[audited_principal_id]\r\n",
                "\t,[audited_result]\r\n",
                "\t,[is_group]\r\n",
                "FROM [master].[sys].[database_audit_specification_details]\r\n",
                ""
            ],
            "metadata": {
                "azdata_cell_guid": "b68ab862-0cd9-4625-8303-5ac9ec3d1161"
            },
            "outputs": [
                {
                    "output_type": "display_data",
                    "data": {
                        "text/html": "(0 rows affected)"
                    },
                    "metadata": {}
                },
                {
                    "output_type": "display_data",
                    "data": {
                        "text/html": "Total execution time: 00:00:00.010"
                    },
                    "metadata": {}
                },
                {
                    "output_type": "execute_result",
                    "metadata": {},
                    "execution_count": 27,
                    "data": {
                        "application/vnd.dataresource+json": {
                            "schema": {
                                "fields": [
                                    {
                                        "name": "TableName"
                                    },
                                    {
                                        "name": "database_specification_id"
                                    },
                                    {
                                        "name": "audit_action_id"
                                    },
                                    {
                                        "name": "audit_action_name"
                                    },
                                    {
                                        "name": "class"
                                    },
                                    {
                                        "name": "class_desc"
                                    },
                                    {
                                        "name": "major_id"
                                    },
                                    {
                                        "name": "minor_id"
                                    },
                                    {
                                        "name": "audited_principal_id"
                                    },
                                    {
                                        "name": "audited_result"
                                    },
                                    {
                                        "name": "is_group"
                                    }
                                ]
                            },
                            "data": []
                        },
                        "text/html": [
                            "<table>",
                            "<tr><th>TableName</th><th>database_specification_id</th><th>audit_action_id</th><th>audit_action_name</th><th>class</th><th>class_desc</th><th>major_id</th><th>minor_id</th><th>audited_principal_id</th><th>audited_result</th><th>is_group</th></tr>",
                            "</table>"
                        ]
                    }
                }
            ],
            "execution_count": 27
        },
        {
            "cell_type": "code",
            "source": [
                "/* Contains information about the database audit specifications in a SQL Server audit on a server instance. */\r\n",
                "SELECT TOP 1000 \r\n",
                "\t'[database_audit_specifications]' AS TableName\r\n",
                "\t,[database_specification_id]\r\n",
                "\t,[name]\r\n",
                "\t,[create_date]\r\n",
                "\t,[modify_date]\r\n",
                "\t,[audit_guid]\r\n",
                "\t,[is_state_enabled]\r\n",
                "FROM [master].[sys].[database_audit_specifications]\r\n",
                ""
            ],
            "metadata": {
                "azdata_cell_guid": "fc8571ad-3cf2-427e-93b6-a1960f214a60"
            },
            "outputs": [
                {
                    "output_type": "display_data",
                    "data": {
                        "text/html": "(0 rows affected)"
                    },
                    "metadata": {}
                },
                {
                    "output_type": "display_data",
                    "data": {
                        "text/html": "Total execution time: 00:00:00.005"
                    },
                    "metadata": {}
                },
                {
                    "output_type": "execute_result",
                    "metadata": {},
                    "execution_count": 26,
                    "data": {
                        "application/vnd.dataresource+json": {
                            "schema": {
                                "fields": [
                                    {
                                        "name": "TableName"
                                    },
                                    {
                                        "name": "database_specification_id"
                                    },
                                    {
                                        "name": "name"
                                    },
                                    {
                                        "name": "create_date"
                                    },
                                    {
                                        "name": "modify_date"
                                    },
                                    {
                                        "name": "audit_guid"
                                    },
                                    {
                                        "name": "is_state_enabled"
                                    }
                                ]
                            },
                            "data": []
                        },
                        "text/html": [
                            "<table>",
                            "<tr><th>TableName</th><th>database_specification_id</th><th>name</th><th>create_date</th><th>modify_date</th><th>audit_guid</th><th>is_state_enabled</th></tr>",
                            "</table>"
                        ]
                    }
                }
            ],
            "execution_count": 26
        },
        {
            "cell_type": "code",
            "source": [
                "/* Returns a row for every audit action that can be reported in the audit log and every audit action group  */\r\n",
                "--that can be configured as part of SQL Server Audit.  \r\n",
                "SELECT TOP 1000 \r\n",
                "\t'[dm_audit_actions]' AS TableName\r\n",
                "\t,[action_id]\r\n",
                "\t,[name]\r\n",
                "\t,[class_desc]\r\n",
                "\t,[covering_action_name]\r\n",
                "\t,[parent_class_desc]\r\n",
                "\t,[covering_parent_action_name]\r\n",
                "\t,[configuration_level]\r\n",
                "\t,[containing_group_name]\r\n",
                "\t,[action_in_log]\r\n",
                "FROM [master].[sys].[dm_audit_actions]\r\n",
                ""
            ],
            "metadata": {
                "azdata_cell_guid": "9f4f2da3-4ac2-4540-8346-3280f7bd677f"
            },
            "outputs": [
                {
                    "output_type": "display_data",
                    "data": {
                        "text/html": "(616 rows affected)"
                    },
                    "metadata": {}
                },
                {
                    "output_type": "display_data",
                    "data": {
                        "text/html": "Total execution time: 00:00:00.018"
                    },
                    "metadata": {}
                },
                {
                    "output_type": "execute_result",
                    "metadata": {},
                    "execution_count": 25,
                    "data": {
                        "application/vnd.dataresource+json": {
                            "schema": {
                                "fields": [
                                    {
                                        "name": "TableName"
                                    },
                                    {
                                        "name": "action_id"
                                    },
                                    {
                                        "name": "name"
                                    },
                                    {
                                        "name": "class_desc"
                                    },
                                    {
                                        "name": "covering_action_name"
                                    },
                                    {
                                        "name": "parent_class_desc"
                                    },
                                    {
                                        "name": "covering_parent_action_name"
                                    },
                                    {
                                        "name": "configuration_level"
                                    },
                                    {
                                        "name": "containing_group_name"
                                    },
                                    {
                                        "name": "action_in_log"
                                    }
                                ]
                            },
                            "data": [
                                {
                                    "0": "[dm_audit_actions]",
                                    "1": "R   ",
                                    "2": "REVOKE",
                                    "3": "DATABASE",
                                    "4": "DATABASE_PERMISSION_CHANGE_GROUP",
                                    "5": "SERVER",
                                    "6": "DATABASE_PERMISSION_CHANGE_GROUP",
                                    "7": "NULL",
                                    "8": "DATABASE_PERMISSION_CHANGE_GROUP",
                                    "9": "1"
                                },
                                {
                                    "0": "[dm_audit_actions]",
                                    "1": "D   ",
                                    "2": "DENY",
                                    "3": "DATABASE",
                                    "4": "DATABASE_PERMISSION_CHANGE_GROUP",
                                    "5": "SERVER",
                                    "6": "DATABASE_PERMISSION_CHANGE_GROUP",
                                    "7": "NULL",
                                    "8": "DATABASE_PERMISSION_CHANGE_GROUP",
                                    "9": "1"
                                },
                                {
                                    "0": "[dm_audit_actions]",
                                    "1": "G   ",
                                    "2": "GRANT",
                                    "3": "DATABASE",
                                    "4": "DATABASE_PERMISSION_CHANGE_GROUP",
                                    "5": "SERVER",
                                    "6": "DATABASE_PERMISSION_CHANGE_GROUP",
                                    "7": "NULL",
                                    "8": "DATABASE_PERMISSION_CHANGE_GROUP",
                                    "9": "1"
                                },
                                {
                                    "0": "[dm_audit_actions]",
                                    "1": "GWG ",
                                    "2": "GRANT WITH GRANT",
                                    "3": "DATABASE",
                                    "4": "DATABASE_PERMISSION_CHANGE_GROUP",
                                    "5": "SERVER",
                                    "6": "DATABASE_PERMISSION_CHANGE_GROUP",
                                    "7": "NULL",
                                    "8": "DATABASE_PERMISSION_CHANGE_GROUP",
                                    "9": "1"
                                },
                                {
                                    "0": "[dm_audit_actions]",
                                    "1": "RWG ",
                                    "2": "REVOKE WITH GRANT",
                                    "3": "DATABASE",
                                    "4": "DATABASE_PERMISSION_CHANGE_GROUP",
                                    "5": "SERVER",
                                    "6": "DATABASE_PERMISSION_CHANGE_GROUP",
                                    "7": "NULL",
                                    "8": "DATABASE_PERMISSION_CHANGE_GROUP",
                                    "9": "1"
                                },
                                {
                                    "0": "[dm_audit_actions]",
                                    "1": "RWC ",
                                    "2": "REVOKE WITH CASCADE",
                                    "3": "DATABASE",
                                    "4": "DATABASE_PERMISSION_CHANGE_GROUP",
                                    "5": "SERVER",
                                    "6": "DATABASE_PERMISSION_CHANGE_GROUP",
                                    "7": "NULL",
                                    "8": "DATABASE_PERMISSION_CHANGE_GROUP",
                                    "9": "1"
                                },
                                {
                                    "0": "[dm_audit_actions]",
                                    "1": "DWC ",
                                    "2": "DENY WITH CASCADE",
                                    "3": "DATABASE",
                                    "4": "DATABASE_PERMISSION_CHANGE_GROUP",
                                    "5": "SERVER",
                                    "6": "DATABASE_PERMISSION_CHANGE_GROUP",
                                    "7": "NULL",
                                    "8": "DATABASE_PERMISSION_CHANGE_GROUP",
                                    "9": "1"
                                },
                                {
                                    "0": "[dm_audit_actions]",
                                    "1": "R   ",
                                    "2": "REVOKE",
                                    "3": "OBJECT",
                                    "4": "NULL",
                                    "5": "DATABASE",
                                    "6": "SCHEMA_OBJECT_PERMISSION_CHANGE_GROUP",
                                    "7": "NULL",
                                    "8": "SCHEMA_OBJECT_PERMISSION_CHANGE_GROUP",
                                    "9": "1"
                                },
                                {
                                    "0": "[dm_audit_actions]",
                                    "1": "D   ",
                                    "2": "DENY",
                                    "3": "OBJECT",
                                    "4": "NULL",
                                    "5": "DATABASE",
                                    "6": "SCHEMA_OBJECT_PERMISSION_CHANGE_GROUP",
                                    "7": "NULL",
                                    "8": "SCHEMA_OBJECT_PERMISSION_CHANGE_GROUP",
                                    "9": "1"
                                },
                                {
                                    "0": "[dm_audit_actions]",
                                    "1": "G   ",
                                    "2": "GRANT",
                                    "3": "OBJECT",
                                    "4": "NULL",
                                    "5": "DATABASE",
                                    "6": "SCHEMA_OBJECT_PERMISSION_CHANGE_GROUP",
                                    "7": "NULL",
                                    "8": "SCHEMA_OBJECT_PERMISSION_CHANGE_GROUP",
                                    "9": "1"
                                },
                                {
                                    "0": "[dm_audit_actions]",
                                    "1": "GWG ",
                                    "2": "GRANT WITH GRANT",
                                    "3": "OBJECT",
                                    "4": "NULL",
                                    "5": "DATABASE",
                                    "6": "SCHEMA_OBJECT_PERMISSION_CHANGE_GROUP",
                                    "7": "NULL",
                                    "8": "SCHEMA_OBJECT_PERMISSION_CHANGE_GROUP",
                                    "9": "1"
                                },
                                {
                                    "0": "[dm_audit_actions]",
                                    "1": "RWG ",
                                    "2": "REVOKE WITH GRANT",
                                    "3": "OBJECT",
                                    "4": "NULL",
                                    "5": "DATABASE",
                                    "6": "SCHEMA_OBJECT_PERMISSION_CHANGE_GROUP",
                                    "7": "NULL",
                                    "8": "SCHEMA_OBJECT_PERMISSION_CHANGE_GROUP",
                                    "9": "1"
                                },
                                {
                                    "0": "[dm_audit_actions]",
                                    "1": "RWC ",
                                    "2": "REVOKE WITH CASCADE",
                                    "3": "OBJECT",
                                    "4": "NULL",
                                    "5": "DATABASE",
                                    "6": "SCHEMA_OBJECT_PERMISSION_CHANGE_GROUP",
                                    "7": "NULL",
                                    "8": "SCHEMA_OBJECT_PERMISSION_CHANGE_GROUP",
                                    "9": "1"
                                },
                                {
                                    "0": "[dm_audit_actions]",
                                    "1": "DWC ",
                                    "2": "DENY WITH CASCADE",
                                    "3": "OBJECT",
                                    "4": "NULL",
                                    "5": "DATABASE",
                                    "6": "SCHEMA_OBJECT_PERMISSION_CHANGE_GROUP",
                                    "7": "NULL",
                                    "8": "SCHEMA_OBJECT_PERMISSION_CHANGE_GROUP",
                                    "9": "1"
                                },
                                {
                                    "0": "[dm_audit_actions]",
                                    "1": "R   ",
                                    "2": "REVOKE",
                                    "3": "TYPE",
                                    "4": "NULL",
                                    "5": "DATABASE",
                                    "6": "SCHEMA_OBJECT_PERMISSION_CHANGE_GROUP",
                                    "7": "NULL",
                                    "8": "SCHEMA_OBJECT_PERMISSION_CHANGE_GROUP",
                                    "9": "1"
                                },
                                {
                                    "0": "[dm_audit_actions]",
                                    "1": "D   ",
                                    "2": "DENY",
                                    "3": "TYPE",
                                    "4": "NULL",
                                    "5": "DATABASE",
                                    "6": "SCHEMA_OBJECT_PERMISSION_CHANGE_GROUP",
                                    "7": "NULL",
                                    "8": "SCHEMA_OBJECT_PERMISSION_CHANGE_GROUP",
                                    "9": "1"
                                },
                                {
                                    "0": "[dm_audit_actions]",
                                    "1": "G   ",
                                    "2": "GRANT",
                                    "3": "TYPE",
                                    "4": "NULL",
                                    "5": "DATABASE",
                                    "6": "SCHEMA_OBJECT_PERMISSION_CHANGE_GROUP",
                                    "7": "NULL",
                                    "8": "SCHEMA_OBJECT_PERMISSION_CHANGE_GROUP",
                                    "9": "1"
                                },
                                {
                                    "0": "[dm_audit_actions]",
                                    "1": "GWG ",
                                    "2": "GRANT WITH GRANT",
                                    "3": "TYPE",
                                    "4": "NULL",
                                    "5": "DATABASE",
                                    "6": "SCHEMA_OBJECT_PERMISSION_CHANGE_GROUP",
                                    "7": "NULL",
                                    "8": "SCHEMA_OBJECT_PERMISSION_CHANGE_GROUP",
                                    "9": "1"
                                },
                                {
                                    "0": "[dm_audit_actions]",
                                    "1": "RWG ",
                                    "2": "REVOKE WITH GRANT",
                                    "3": "TYPE",
                                    "4": "NULL",
                                    "5": "DATABASE",
                                    "6": "SCHEMA_OBJECT_PERMISSION_CHANGE_GROUP",
                                    "7": "NULL",
                                    "8": "SCHEMA_OBJECT_PERMISSION_CHANGE_GROUP",
                                    "9": "1"
                                },
                                {
                                    "0": "[dm_audit_actions]",
                                    "1": "RWC ",
                                    "2": "REVOKE WITH CASCADE",
                                    "3": "TYPE",
                                    "4": "NULL",
                                    "5": "DATABASE",
                                    "6": "SCHEMA_OBJECT_PERMISSION_CHANGE_GROUP",
                                    "7": "NULL",
                                    "8": "SCHEMA_OBJECT_PERMISSION_CHANGE_GROUP",
                                    "9": "1"
                                },
                                {
                                    "0": "[dm_audit_actions]",
                                    "1": "DWC ",
                                    "2": "DENY WITH CASCADE",
                                    "3": "TYPE",
                                    "4": "NULL",
                                    "5": "DATABASE",
                                    "6": "SCHEMA_OBJECT_PERMISSION_CHANGE_GROUP",
                                    "7": "NULL",
                                    "8": "SCHEMA_OBJECT_PERMISSION_CHANGE_GROUP",
                                    "9": "1"
                                },
                                {
                                    "0": "[dm_audit_actions]",
                                    "1": "R   ",
                                    "2": "REVOKE",
                                    "3": "SCHEMA",
                                    "4": "NULL",
                                    "5": "DATABASE",
                                    "6": "DATABASE_OBJECT_PERMISSION_CHANGE_GROUP",
                                    "7": "NULL",
                                    "8": "DATABASE_OBJECT_PERMISSION_CHANGE_GROUP",
                                    "9": "1"
                                },
                                {
                                    "0": "[dm_audit_actions]",
                                    "1": "D   ",
                                    "2": "DENY",
                                    "3": "SCHEMA",
                                    "4": "NULL",
                                    "5": "DATABASE",
                                    "6": "DATABASE_OBJECT_PERMISSION_CHANGE_GROUP",
                                    "7": "NULL",
                                    "8": "DATABASE_OBJECT_PERMISSION_CHANGE_GROUP",
                                    "9": "1"
                                },
                                {
                                    "0": "[dm_audit_actions]",
                                    "1": "G   ",
                                    "2": "GRANT",
                                    "3": "SCHEMA",
                                    "4": "NULL",
                                    "5": "DATABASE",
                                    "6": "DATABASE_OBJECT_PERMISSION_CHANGE_GROUP",
                                    "7": "NULL",
                                    "8": "DATABASE_OBJECT_PERMISSION_CHANGE_GROUP",
                                    "9": "1"
                                },
                                {
                                    "0": "[dm_audit_actions]",
                                    "1": "GWG ",
                                    "2": "GRANT WITH GRANT",
                                    "3": "SCHEMA",
                                    "4": "NULL",
                                    "5": "DATABASE",
                                    "6": "DATABASE_OBJECT_PERMISSION_CHANGE_GROUP",
                                    "7": "NULL",
                                    "8": "DATABASE_OBJECT_PERMISSION_CHANGE_GROUP",
                                    "9": "1"
                                },
                                {
                                    "0": "[dm_audit_actions]",
                                    "1": "RWG ",
                                    "2": "REVOKE WITH GRANT",
                                    "3": "SCHEMA",
                                    "4": "NULL",
                                    "5": "DATABASE",
                                    "6": "DATABASE_OBJECT_PERMISSION_CHANGE_GROUP",
                                    "7": "NULL",
                                    "8": "DATABASE_OBJECT_PERMISSION_CHANGE_GROUP",
                                    "9": "1"
                                },
                                {
                                    "0": "[dm_audit_actions]",
                                    "1": "RWC ",
                                    "2": "REVOKE WITH CASCADE",
                                    "3": "SCHEMA",
                                    "4": "NULL",
                                    "5": "DATABASE",
                                    "6": "DATABASE_OBJECT_PERMISSION_CHANGE_GROUP",
                                    "7": "NULL",
                                    "8": "DATABASE_OBJECT_PERMISSION_CHANGE_GROUP",
                                    "9": "1"
                                },
                                {
                                    "0": "[dm_audit_actions]",
                                    "1": "DWC ",
                                    "2": "DENY WITH CASCADE",
                                    "3": "SCHEMA",
                                    "4": "NULL",
                                    "5": "DATABASE",
                                    "6": "DATABASE_OBJECT_PERMISSION_CHANGE_GROUP",
                                    "7": "NULL",
                                    "8": "DATABASE_OBJECT_PERMISSION_CHANGE_GROUP",
                                    "9": "1"
                                },
                                {
                                    "0": "[dm_audit_actions]",
                                    "1": "R   ",
                                    "2": "REVOKE",
                                    "3": "XML SCHEMA COLLECTION",
                                    "4": "NULL",
                                    "5": "DATABASE",
                                    "6": "SCHEMA_OBJECT_PERMISSION_CHANGE_GROUP",
                                    "7": "NULL",
                                    "8": "SCHEMA_OBJECT_PERMISSION_CHANGE_GROUP",
                                    "9": "1"
                                },
                                {
                                    "0": "[dm_audit_actions]",
                                    "1": "D   ",
                                    "2": "DENY",
                                    "3": "XML SCHEMA COLLECTION",
                                    "4": "NULL",
                                    "5": "DATABASE",
                                    "6": "SCHEMA_OBJECT_PERMISSION_CHANGE_GROUP",
                                    "7": "NULL",
                                    "8": "SCHEMA_OBJECT_PERMISSION_CHANGE_GROUP",
                                    "9": "1"
                                },
                                {
                                    "0": "[dm_audit_actions]",
                                    "1": "G   ",
                                    "2": "GRANT",
                                    "3": "XML SCHEMA COLLECTION",
                                    "4": "NULL",
                                    "5": "DATABASE",
                                    "6": "SCHEMA_OBJECT_PERMISSION_CHANGE_GROUP",
                                    "7": "NULL",
                                    "8": "SCHEMA_OBJECT_PERMISSION_CHANGE_GROUP",
                                    "9": "1"
                                },
                                {
                                    "0": "[dm_audit_actions]",
                                    "1": "GWG ",
                                    "2": "GRANT WITH GRANT",
                                    "3": "XML SCHEMA COLLECTION",
                                    "4": "NULL",
                                    "5": "DATABASE",
                                    "6": "SCHEMA_OBJECT_PERMISSION_CHANGE_GROUP",
                                    "7": "NULL",
                                    "8": "SCHEMA_OBJECT_PERMISSION_CHANGE_GROUP",
                                    "9": "1"
                                },
                                {
                                    "0": "[dm_audit_actions]",
                                    "1": "RWG ",
                                    "2": "REVOKE WITH GRANT",
                                    "3": "XML SCHEMA COLLECTION",
                                    "4": "NULL",
                                    "5": "DATABASE",
                                    "6": "SCHEMA_OBJECT_PERMISSION_CHANGE_GROUP",
                                    "7": "NULL",
                                    "8": "SCHEMA_OBJECT_PERMISSION_CHANGE_GROUP",
                                    "9": "1"
                                },
                                {
                                    "0": "[dm_audit_actions]",
                                    "1": "RWC ",
                                    "2": "REVOKE WITH CASCADE",
                                    "3": "XML SCHEMA COLLECTION",
                                    "4": "NULL",
                                    "5": "DATABASE",
                                    "6": "SCHEMA_OBJECT_PERMISSION_CHANGE_GROUP",
                                    "7": "NULL",
                                    "8": "SCHEMA_OBJECT_PERMISSION_CHANGE_GROUP",
                                    "9": "1"
                                },
                                {
                                    "0": "[dm_audit_actions]",
                                    "1": "DWC ",
                                    "2": "DENY WITH CASCADE",
                                    "3": "XML SCHEMA COLLECTION",
                                    "4": "NULL",
                                    "5": "DATABASE",
                                    "6": "SCHEMA_OBJECT_PERMISSION_CHANGE_GROUP",
                                    "7": "NULL",
                                    "8": "SCHEMA_OBJECT_PERMISSION_CHANGE_GROUP",
                                    "9": "1"
                                },
                                {
                                    "0": "[dm_audit_actions]",
                                    "1": "R   ",
                                    "2": "REVOKE",
                                    "3": "ASSEMBLY",
                                    "4": "NULL",
                                    "5": "DATABASE",
                                    "6": "DATABASE_OBJECT_PERMISSION_CHANGE_GROUP",
                                    "7": "NULL",
                                    "8": "DATABASE_OBJECT_PERMISSION_CHANGE_GROUP",
                                    "9": "1"
                                },
                                {
                                    "0": "[dm_audit_actions]",
                                    "1": "D   ",
                                    "2": "DENY",
                                    "3": "ASSEMBLY",
                                    "4": "NULL",
                                    "5": "DATABASE",
                                    "6": "DATABASE_OBJECT_PERMISSION_CHANGE_GROUP",
                                    "7": "NULL",
                                    "8": "DATABASE_OBJECT_PERMISSION_CHANGE_GROUP",
                                    "9": "1"
                                },
                                {
                                    "0": "[dm_audit_actions]",
                                    "1": "G   ",
                                    "2": "GRANT",
                                    "3": "ASSEMBLY",
                                    "4": "NULL",
                                    "5": "DATABASE",
                                    "6": "DATABASE_OBJECT_PERMISSION_CHANGE_GROUP",
                                    "7": "NULL",
                                    "8": "DATABASE_OBJECT_PERMISSION_CHANGE_GROUP",
                                    "9": "1"
                                },
                                {
                                    "0": "[dm_audit_actions]",
                                    "1": "GWG ",
                                    "2": "GRANT WITH GRANT",
                                    "3": "ASSEMBLY",
                                    "4": "NULL",
                                    "5": "DATABASE",
                                    "6": "DATABASE_OBJECT_PERMISSION_CHANGE_GROUP",
                                    "7": "NULL",
                                    "8": "DATABASE_OBJECT_PERMISSION_CHANGE_GROUP",
                                    "9": "1"
                                },
                                {
                                    "0": "[dm_audit_actions]",
                                    "1": "RWG ",
                                    "2": "REVOKE WITH GRANT",
                                    "3": "ASSEMBLY",
                                    "4": "NULL",
                                    "5": "DATABASE",
                                    "6": "DATABASE_OBJECT_PERMISSION_CHANGE_GROUP",
                                    "7": "NULL",
                                    "8": "DATABASE_OBJECT_PERMISSION_CHANGE_GROUP",
                                    "9": "1"
                                },
                                {
                                    "0": "[dm_audit_actions]",
                                    "1": "RWC ",
                                    "2": "REVOKE WITH CASCADE",
                                    "3": "ASSEMBLY",
                                    "4": "NULL",
                                    "5": "DATABASE",
                                    "6": "DATABASE_OBJECT_PERMISSION_CHANGE_GROUP",
                                    "7": "NULL",
                                    "8": "DATABASE_OBJECT_PERMISSION_CHANGE_GROUP",
                                    "9": "1"
                                },
                                {
                                    "0": "[dm_audit_actions]",
                                    "1": "DWC ",
                                    "2": "DENY WITH CASCADE",
                                    "3": "ASSEMBLY",
                                    "4": "NULL",
                                    "5": "DATABASE",
                                    "6": "DATABASE_OBJECT_PERMISSION_CHANGE_GROUP",
                                    "7": "NULL",
                                    "8": "DATABASE_OBJECT_PERMISSION_CHANGE_GROUP",
                                    "9": "1"
                                },
                                {
                                    "0": "[dm_audit_actions]",
                                    "1": "R   ",
                                    "2": "REVOKE",
                                    "3": "USER",
                                    "4": "NULL",
                                    "5": "DATABASE",
                                    "6": "DATABASE_OBJECT_PERMISSION_CHANGE_GROUP",
                                    "7": "NULL",
                                    "8": "DATABASE_OBJECT_PERMISSION_CHANGE_GROUP",
                                    "9": "1"
                                },
                                {
                                    "0": "[dm_audit_actions]",
                                    "1": "D   ",
                                    "2": "DENY",
                                    "3": "USER",
                                    "4": "NULL",
                                    "5": "DATABASE",
                                    "6": "DATABASE_OBJECT_PERMISSION_CHANGE_GROUP",
                                    "7": "NULL",
                                    "8": "DATABASE_OBJECT_PERMISSION_CHANGE_GROUP",
                                    "9": "1"
                                },
                                {
                                    "0": "[dm_audit_actions]",
                                    "1": "G   ",
                                    "2": "GRANT",
                                    "3": "USER",
                                    "4": "NULL",
                                    "5": "DATABASE",
                                    "6": "DATABASE_OBJECT_PERMISSION_CHANGE_GROUP",
                                    "7": "NULL",
                                    "8": "DATABASE_OBJECT_PERMISSION_CHANGE_GROUP",
                                    "9": "1"
                                },
                                {
                                    "0": "[dm_audit_actions]",
                                    "1": "GWG ",
                                    "2": "GRANT WITH GRANT",
                                    "3": "USER",
                                    "4": "NULL",
                                    "5": "DATABASE",
                                    "6": "DATABASE_OBJECT_PERMISSION_CHANGE_GROUP",
                                    "7": "NULL",
                                    "8": "DATABASE_OBJECT_PERMISSION_CHANGE_GROUP",
                                    "9": "1"
                                },
                                {
                                    "0": "[dm_audit_actions]",
                                    "1": "RWG ",
                                    "2": "REVOKE WITH GRANT",
                                    "3": "USER",
                                    "4": "NULL",
                                    "5": "DATABASE",
                                    "6": "DATABASE_OBJECT_PERMISSION_CHANGE_GROUP",
                                    "7": "NULL",
                                    "8": "DATABASE_OBJECT_PERMISSION_CHANGE_GROUP",
                                    "9": "1"
                                },
                                {
                                    "0": "[dm_audit_actions]",
                                    "1": "RWC ",
                                    "2": "REVOKE WITH CASCADE",
                                    "3": "USER",
                                    "4": "NULL",
                                    "5": "DATABASE",
                                    "6": "DATABASE_OBJECT_PERMISSION_CHANGE_GROUP",
                                    "7": "NULL",
                                    "8": "DATABASE_OBJECT_PERMISSION_CHANGE_GROUP",
                                    "9": "1"
                                },
                                {
                                    "0": "[dm_audit_actions]",
                                    "1": "DWC ",
                                    "2": "DENY WITH CASCADE",
                                    "3": "USER",
                                    "4": "NULL",
                                    "5": "DATABASE",
                                    "6": "DATABASE_OBJECT_PERMISSION_CHANGE_GROUP",
                                    "7": "NULL",
                                    "8": "DATABASE_OBJECT_PERMISSION_CHANGE_GROUP",
                                    "9": "1"
                                },
                                {
                                    "0": "[dm_audit_actions]",
                                    "1": "R   ",
                                    "2": "REVOKE",
                                    "3": "ROLE",
                                    "4": "NULL",
                                    "5": "DATABASE",
                                    "6": "DATABASE_OBJECT_PERMISSION_CHANGE_GROUP",
                                    "7": "NULL",
                                    "8": "DATABASE_OBJECT_PERMISSION_CHANGE_GROUP",
                                    "9": "1"
                                },
                                {
                                    "0": "[dm_audit_actions]",
                                    "1": "D   ",
                                    "2": "DENY",
                                    "3": "ROLE",
                                    "4": "NULL",
                                    "5": "DATABASE",
                                    "6": "DATABASE_OBJECT_PERMISSION_CHANGE_GROUP",
                                    "7": "NULL",
                                    "8": "DATABASE_OBJECT_PERMISSION_CHANGE_GROUP",
                                    "9": "1"
                                },
                                {
                                    "0": "[dm_audit_actions]",
                                    "1": "G   ",
                                    "2": "GRANT",
                                    "3": "ROLE",
                                    "4": "NULL",
                                    "5": "DATABASE",
                                    "6": "DATABASE_OBJECT_PERMISSION_CHANGE_GROUP",
                                    "7": "NULL",
                                    "8": "DATABASE_OBJECT_PERMISSION_CHANGE_GROUP",
                                    "9": "1"
                                },
                                {
                                    "0": "[dm_audit_actions]",
                                    "1": "GWG ",
                                    "2": "GRANT WITH GRANT",
                                    "3": "ROLE",
                                    "4": "NULL",
                                    "5": "DATABASE",
                                    "6": "DATABASE_OBJECT_PERMISSION_CHANGE_GROUP",
                                    "7": "NULL",
                                    "8": "DATABASE_OBJECT_PERMISSION_CHANGE_GROUP",
                                    "9": "1"
                                },
                                {
                                    "0": "[dm_audit_actions]",
                                    "1": "RWG ",
                                    "2": "REVOKE WITH GRANT",
                                    "3": "ROLE",
                                    "4": "NULL",
                                    "5": "DATABASE",
                                    "6": "DATABASE_OBJECT_PERMISSION_CHANGE_GROUP",
                                    "7": "NULL",
                                    "8": "DATABASE_OBJECT_PERMISSION_CHANGE_GROUP",
                                    "9": "1"
                                },
                                {
                                    "0": "[dm_audit_actions]",
                                    "1": "RWC ",
                                    "2": "REVOKE WITH CASCADE",
                                    "3": "ROLE",
                                    "4": "NULL",
                                    "5": "DATABASE",
                                    "6": "DATABASE_OBJECT_PERMISSION_CHANGE_GROUP",
                                    "7": "NULL",
                                    "8": "DATABASE_OBJECT_PERMISSION_CHANGE_GROUP",
                                    "9": "1"
                                },
                                {
                                    "0": "[dm_audit_actions]",
                                    "1": "DWC ",
                                    "2": "DENY WITH CASCADE",
                                    "3": "ROLE",
                                    "4": "NULL",
                                    "5": "DATABASE",
                                    "6": "DATABASE_OBJECT_PERMISSION_CHANGE_GROUP",
                                    "7": "NULL",
                                    "8": "DATABASE_OBJECT_PERMISSION_CHANGE_GROUP",
                                    "9": "1"
                                },
                                {
                                    "0": "[dm_audit_actions]",
                                    "1": "R   ",
                                    "2": "REVOKE",
                                    "3": "APPLICATION ROLE",
                                    "4": "NULL",
                                    "5": "DATABASE",
                                    "6": "DATABASE_OBJECT_PERMISSION_CHANGE_GROUP",
                                    "7": "NULL",
                                    "8": "DATABASE_OBJECT_PERMISSION_CHANGE_GROUP",
                                    "9": "1"
                                },
                                {
                                    "0": "[dm_audit_actions]",
                                    "1": "D   ",
                                    "2": "DENY",
                                    "3": "APPLICATION ROLE",
                                    "4": "NULL",
                                    "5": "DATABASE",
                                    "6": "DATABASE_OBJECT_PERMISSION_CHANGE_GROUP",
                                    "7": "NULL",
                                    "8": "DATABASE_OBJECT_PERMISSION_CHANGE_GROUP",
                                    "9": "1"
                                },
                                {
                                    "0": "[dm_audit_actions]",
                                    "1": "G   ",
                                    "2": "GRANT",
                                    "3": "APPLICATION ROLE",
                                    "4": "NULL",
                                    "5": "DATABASE",
                                    "6": "DATABASE_OBJECT_PERMISSION_CHANGE_GROUP",
                                    "7": "NULL",
                                    "8": "DATABASE_OBJECT_PERMISSION_CHANGE_GROUP",
                                    "9": "1"
                                },
                                {
                                    "0": "[dm_audit_actions]",
                                    "1": "GWG ",
                                    "2": "GRANT WITH GRANT",
                                    "3": "APPLICATION ROLE",
                                    "4": "NULL",
                                    "5": "DATABASE",
                                    "6": "DATABASE_OBJECT_PERMISSION_CHANGE_GROUP",
                                    "7": "NULL",
                                    "8": "DATABASE_OBJECT_PERMISSION_CHANGE_GROUP",
                                    "9": "1"
                                },
                                {
                                    "0": "[dm_audit_actions]",
                                    "1": "RWG ",
                                    "2": "REVOKE WITH GRANT",
                                    "3": "APPLICATION ROLE",
                                    "4": "NULL",
                                    "5": "DATABASE",
                                    "6": "DATABASE_OBJECT_PERMISSION_CHANGE_GROUP",
                                    "7": "NULL",
                                    "8": "DATABASE_OBJECT_PERMISSION_CHANGE_GROUP",
                                    "9": "1"
                                },
                                {
                                    "0": "[dm_audit_actions]",
                                    "1": "RWC ",
                                    "2": "REVOKE WITH CASCADE",
                                    "3": "APPLICATION ROLE",
                                    "4": "NULL",
                                    "5": "DATABASE",
                                    "6": "DATABASE_OBJECT_PERMISSION_CHANGE_GROUP",
                                    "7": "NULL",
                                    "8": "DATABASE_OBJECT_PERMISSION_CHANGE_GROUP",
                                    "9": "1"
                                },
                                {
                                    "0": "[dm_audit_actions]",
                                    "1": "DWC ",
                                    "2": "DENY WITH CASCADE",
                                    "3": "APPLICATION ROLE",
                                    "4": "NULL",
                                    "5": "DATABASE",
                                    "6": "DATABASE_OBJECT_PERMISSION_CHANGE_GROUP",
                                    "7": "NULL",
                                    "8": "DATABASE_OBJECT_PERMISSION_CHANGE_GROUP",
                                    "9": "1"
                                },
                                {
                                    "0": "[dm_audit_actions]",
                                    "1": "R   ",
                                    "2": "REVOKE",
                                    "3": "MESSAGE TYPE",
                                    "4": "NULL",
                                    "5": "DATABASE",
                                    "6": "DATABASE_OBJECT_PERMISSION_CHANGE_GROUP",
                                    "7": "NULL",
                                    "8": "DATABASE_OBJECT_PERMISSION_CHANGE_GROUP",
                                    "9": "1"
                                },
                                {
                                    "0": "[dm_audit_actions]",
                                    "1": "D   ",
                                    "2": "DENY",
                                    "3": "MESSAGE TYPE",
                                    "4": "NULL",
                                    "5": "DATABASE",
                                    "6": "DATABASE_OBJECT_PERMISSION_CHANGE_GROUP",
                                    "7": "NULL",
                                    "8": "DATABASE_OBJECT_PERMISSION_CHANGE_GROUP",
                                    "9": "1"
                                },
                                {
                                    "0": "[dm_audit_actions]",
                                    "1": "G   ",
                                    "2": "GRANT",
                                    "3": "MESSAGE TYPE",
                                    "4": "NULL",
                                    "5": "DATABASE",
                                    "6": "DATABASE_OBJECT_PERMISSION_CHANGE_GROUP",
                                    "7": "NULL",
                                    "8": "DATABASE_OBJECT_PERMISSION_CHANGE_GROUP",
                                    "9": "1"
                                },
                                {
                                    "0": "[dm_audit_actions]",
                                    "1": "GWG ",
                                    "2": "GRANT WITH GRANT",
                                    "3": "MESSAGE TYPE",
                                    "4": "NULL",
                                    "5": "DATABASE",
                                    "6": "DATABASE_OBJECT_PERMISSION_CHANGE_GROUP",
                                    "7": "NULL",
                                    "8": "DATABASE_OBJECT_PERMISSION_CHANGE_GROUP",
                                    "9": "1"
                                },
                                {
                                    "0": "[dm_audit_actions]",
                                    "1": "RWG ",
                                    "2": "REVOKE WITH GRANT",
                                    "3": "MESSAGE TYPE",
                                    "4": "NULL",
                                    "5": "DATABASE",
                                    "6": "DATABASE_OBJECT_PERMISSION_CHANGE_GROUP",
                                    "7": "NULL",
                                    "8": "DATABASE_OBJECT_PERMISSION_CHANGE_GROUP",
                                    "9": "1"
                                },
                                {
                                    "0": "[dm_audit_actions]",
                                    "1": "RWC ",
                                    "2": "REVOKE WITH CASCADE",
                                    "3": "MESSAGE TYPE",
                                    "4": "NULL",
                                    "5": "DATABASE",
                                    "6": "DATABASE_OBJECT_PERMISSION_CHANGE_GROUP",
                                    "7": "NULL",
                                    "8": "DATABASE_OBJECT_PERMISSION_CHANGE_GROUP",
                                    "9": "1"
                                },
                                {
                                    "0": "[dm_audit_actions]",
                                    "1": "DWC ",
                                    "2": "DENY WITH CASCADE",
                                    "3": "MESSAGE TYPE",
                                    "4": "NULL",
                                    "5": "DATABASE",
                                    "6": "DATABASE_OBJECT_PERMISSION_CHANGE_GROUP",
                                    "7": "NULL",
                                    "8": "DATABASE_OBJECT_PERMISSION_CHANGE_GROUP",
                                    "9": "1"
                                },
                                {
                                    "0": "[dm_audit_actions]",
                                    "1": "R   ",
                                    "2": "REVOKE",
                                    "3": "CONTRACT",
                                    "4": "NULL",
                                    "5": "DATABASE",
                                    "6": "DATABASE_OBJECT_PERMISSION_CHANGE_GROUP",
                                    "7": "NULL",
                                    "8": "DATABASE_OBJECT_PERMISSION_CHANGE_GROUP",
                                    "9": "1"
                                },
                                {
                                    "0": "[dm_audit_actions]",
                                    "1": "D   ",
                                    "2": "DENY",
                                    "3": "CONTRACT",
                                    "4": "NULL",
                                    "5": "DATABASE",
                                    "6": "DATABASE_OBJECT_PERMISSION_CHANGE_GROUP",
                                    "7": "NULL",
                                    "8": "DATABASE_OBJECT_PERMISSION_CHANGE_GROUP",
                                    "9": "1"
                                },
                                {
                                    "0": "[dm_audit_actions]",
                                    "1": "G   ",
                                    "2": "GRANT",
                                    "3": "CONTRACT",
                                    "4": "NULL",
                                    "5": "DATABASE",
                                    "6": "DATABASE_OBJECT_PERMISSION_CHANGE_GROUP",
                                    "7": "NULL",
                                    "8": "DATABASE_OBJECT_PERMISSION_CHANGE_GROUP",
                                    "9": "1"
                                },
                                {
                                    "0": "[dm_audit_actions]",
                                    "1": "GWG ",
                                    "2": "GRANT WITH GRANT",
                                    "3": "CONTRACT",
                                    "4": "NULL",
                                    "5": "DATABASE",
                                    "6": "DATABASE_OBJECT_PERMISSION_CHANGE_GROUP",
                                    "7": "NULL",
                                    "8": "DATABASE_OBJECT_PERMISSION_CHANGE_GROUP",
                                    "9": "1"
                                },
                                {
                                    "0": "[dm_audit_actions]",
                                    "1": "RWG ",
                                    "2": "REVOKE WITH GRANT",
                                    "3": "CONTRACT",
                                    "4": "NULL",
                                    "5": "DATABASE",
                                    "6": "DATABASE_OBJECT_PERMISSION_CHANGE_GROUP",
                                    "7": "NULL",
                                    "8": "DATABASE_OBJECT_PERMISSION_CHANGE_GROUP",
                                    "9": "1"
                                },
                                {
                                    "0": "[dm_audit_actions]",
                                    "1": "RWC ",
                                    "2": "REVOKE WITH CASCADE",
                                    "3": "CONTRACT",
                                    "4": "NULL",
                                    "5": "DATABASE",
                                    "6": "DATABASE_OBJECT_PERMISSION_CHANGE_GROUP",
                                    "7": "NULL",
                                    "8": "DATABASE_OBJECT_PERMISSION_CHANGE_GROUP",
                                    "9": "1"
                                },
                                {
                                    "0": "[dm_audit_actions]",
                                    "1": "DWC ",
                                    "2": "DENY WITH CASCADE",
                                    "3": "CONTRACT",
                                    "4": "NULL",
                                    "5": "DATABASE",
                                    "6": "DATABASE_OBJECT_PERMISSION_CHANGE_GROUP",
                                    "7": "NULL",
                                    "8": "DATABASE_OBJECT_PERMISSION_CHANGE_GROUP",
                                    "9": "1"
                                },
                                {
                                    "0": "[dm_audit_actions]",
                                    "1": "R   ",
                                    "2": "REVOKE",
                                    "3": "SERVICE",
                                    "4": "NULL",
                                    "5": "DATABASE",
                                    "6": "DATABASE_OBJECT_PERMISSION_CHANGE_GROUP",
                                    "7": "NULL",
                                    "8": "DATABASE_OBJECT_PERMISSION_CHANGE_GROUP",
                                    "9": "1"
                                },
                                {
                                    "0": "[dm_audit_actions]",
                                    "1": "D   ",
                                    "2": "DENY",
                                    "3": "SERVICE",
                                    "4": "NULL",
                                    "5": "DATABASE",
                                    "6": "DATABASE_OBJECT_PERMISSION_CHANGE_GROUP",
                                    "7": "NULL",
                                    "8": "DATABASE_OBJECT_PERMISSION_CHANGE_GROUP",
                                    "9": "1"
                                },
                                {
                                    "0": "[dm_audit_actions]",
                                    "1": "G   ",
                                    "2": "GRANT",
                                    "3": "SERVICE",
                                    "4": "NULL",
                                    "5": "DATABASE",
                                    "6": "DATABASE_OBJECT_PERMISSION_CHANGE_GROUP",
                                    "7": "NULL",
                                    "8": "DATABASE_OBJECT_PERMISSION_CHANGE_GROUP",
                                    "9": "1"
                                },
                                {
                                    "0": "[dm_audit_actions]",
                                    "1": "GWG ",
                                    "2": "GRANT WITH GRANT",
                                    "3": "SERVICE",
                                    "4": "NULL",
                                    "5": "DATABASE",
                                    "6": "DATABASE_OBJECT_PERMISSION_CHANGE_GROUP",
                                    "7": "NULL",
                                    "8": "DATABASE_OBJECT_PERMISSION_CHANGE_GROUP",
                                    "9": "1"
                                },
                                {
                                    "0": "[dm_audit_actions]",
                                    "1": "RWG ",
                                    "2": "REVOKE WITH GRANT",
                                    "3": "SERVICE",
                                    "4": "NULL",
                                    "5": "DATABASE",
                                    "6": "DATABASE_OBJECT_PERMISSION_CHANGE_GROUP",
                                    "7": "NULL",
                                    "8": "DATABASE_OBJECT_PERMISSION_CHANGE_GROUP",
                                    "9": "1"
                                },
                                {
                                    "0": "[dm_audit_actions]",
                                    "1": "RWC ",
                                    "2": "REVOKE WITH CASCADE",
                                    "3": "SERVICE",
                                    "4": "NULL",
                                    "5": "DATABASE",
                                    "6": "DATABASE_OBJECT_PERMISSION_CHANGE_GROUP",
                                    "7": "NULL",
                                    "8": "DATABASE_OBJECT_PERMISSION_CHANGE_GROUP",
                                    "9": "1"
                                },
                                {
                                    "0": "[dm_audit_actions]",
                                    "1": "DWC ",
                                    "2": "DENY WITH CASCADE",
                                    "3": "SERVICE",
                                    "4": "NULL",
                                    "5": "DATABASE",
                                    "6": "DATABASE_OBJECT_PERMISSION_CHANGE_GROUP",
                                    "7": "NULL",
                                    "8": "DATABASE_OBJECT_PERMISSION_CHANGE_GROUP",
                                    "9": "1"
                                },
                                {
                                    "0": "[dm_audit_actions]",
                                    "1": "R   ",
                                    "2": "REVOKE",
                                    "3": "REMOTE SERVICE BINDING",
                                    "4": "NULL",
                                    "5": "DATABASE",
                                    "6": "DATABASE_OBJECT_PERMISSION_CHANGE_GROUP",
                                    "7": "NULL",
                                    "8": "DATABASE_OBJECT_PERMISSION_CHANGE_GROUP",
                                    "9": "1"
                                },
                                {
                                    "0": "[dm_audit_actions]",
                                    "1": "D   ",
                                    "2": "DENY",
                                    "3": "REMOTE SERVICE BINDING",
                                    "4": "NULL",
                                    "5": "DATABASE",
                                    "6": "DATABASE_OBJECT_PERMISSION_CHANGE_GROUP",
                                    "7": "NULL",
                                    "8": "DATABASE_OBJECT_PERMISSION_CHANGE_GROUP",
                                    "9": "1"
                                },
                                {
                                    "0": "[dm_audit_actions]",
                                    "1": "G   ",
                                    "2": "GRANT",
                                    "3": "REMOTE SERVICE BINDING",
                                    "4": "NULL",
                                    "5": "DATABASE",
                                    "6": "DATABASE_OBJECT_PERMISSION_CHANGE_GROUP",
                                    "7": "NULL",
                                    "8": "DATABASE_OBJECT_PERMISSION_CHANGE_GROUP",
                                    "9": "1"
                                },
                                {
                                    "0": "[dm_audit_actions]",
                                    "1": "GWG ",
                                    "2": "GRANT WITH GRANT",
                                    "3": "REMOTE SERVICE BINDING",
                                    "4": "NULL",
                                    "5": "DATABASE",
                                    "6": "DATABASE_OBJECT_PERMISSION_CHANGE_GROUP",
                                    "7": "NULL",
                                    "8": "DATABASE_OBJECT_PERMISSION_CHANGE_GROUP",
                                    "9": "1"
                                },
                                {
                                    "0": "[dm_audit_actions]",
                                    "1": "RWG ",
                                    "2": "REVOKE WITH GRANT",
                                    "3": "REMOTE SERVICE BINDING",
                                    "4": "NULL",
                                    "5": "DATABASE",
                                    "6": "DATABASE_OBJECT_PERMISSION_CHANGE_GROUP",
                                    "7": "NULL",
                                    "8": "DATABASE_OBJECT_PERMISSION_CHANGE_GROUP",
                                    "9": "1"
                                },
                                {
                                    "0": "[dm_audit_actions]",
                                    "1": "RWC ",
                                    "2": "REVOKE WITH CASCADE",
                                    "3": "REMOTE SERVICE BINDING",
                                    "4": "NULL",
                                    "5": "DATABASE",
                                    "6": "DATABASE_OBJECT_PERMISSION_CHANGE_GROUP",
                                    "7": "NULL",
                                    "8": "DATABASE_OBJECT_PERMISSION_CHANGE_GROUP",
                                    "9": "1"
                                },
                                {
                                    "0": "[dm_audit_actions]",
                                    "1": "DWC ",
                                    "2": "DENY WITH CASCADE",
                                    "3": "REMOTE SERVICE BINDING",
                                    "4": "NULL",
                                    "5": "DATABASE",
                                    "6": "DATABASE_OBJECT_PERMISSION_CHANGE_GROUP",
                                    "7": "NULL",
                                    "8": "DATABASE_OBJECT_PERMISSION_CHANGE_GROUP",
                                    "9": "1"
                                },
                                {
                                    "0": "[dm_audit_actions]",
                                    "1": "R   ",
                                    "2": "REVOKE",
                                    "3": "ROUTE",
                                    "4": "NULL",
                                    "5": "DATABASE",
                                    "6": "DATABASE_OBJECT_PERMISSION_CHANGE_GROUP",
                                    "7": "NULL",
                                    "8": "DATABASE_OBJECT_PERMISSION_CHANGE_GROUP",
                                    "9": "1"
                                },
                                {
                                    "0": "[dm_audit_actions]",
                                    "1": "D   ",
                                    "2": "DENY",
                                    "3": "ROUTE",
                                    "4": "NULL",
                                    "5": "DATABASE",
                                    "6": "DATABASE_OBJECT_PERMISSION_CHANGE_GROUP",
                                    "7": "NULL",
                                    "8": "DATABASE_OBJECT_PERMISSION_CHANGE_GROUP",
                                    "9": "1"
                                },
                                {
                                    "0": "[dm_audit_actions]",
                                    "1": "G   ",
                                    "2": "GRANT",
                                    "3": "ROUTE",
                                    "4": "NULL",
                                    "5": "DATABASE",
                                    "6": "DATABASE_OBJECT_PERMISSION_CHANGE_GROUP",
                                    "7": "NULL",
                                    "8": "DATABASE_OBJECT_PERMISSION_CHANGE_GROUP",
                                    "9": "1"
                                },
                                {
                                    "0": "[dm_audit_actions]",
                                    "1": "GWG ",
                                    "2": "GRANT WITH GRANT",
                                    "3": "ROUTE",
                                    "4": "NULL",
                                    "5": "DATABASE",
                                    "6": "DATABASE_OBJECT_PERMISSION_CHANGE_GROUP",
                                    "7": "NULL",
                                    "8": "DATABASE_OBJECT_PERMISSION_CHANGE_GROUP",
                                    "9": "1"
                                },
                                {
                                    "0": "[dm_audit_actions]",
                                    "1": "RWG ",
                                    "2": "REVOKE WITH GRANT",
                                    "3": "ROUTE",
                                    "4": "NULL",
                                    "5": "DATABASE",
                                    "6": "DATABASE_OBJECT_PERMISSION_CHANGE_GROUP",
                                    "7": "NULL",
                                    "8": "DATABASE_OBJECT_PERMISSION_CHANGE_GROUP",
                                    "9": "1"
                                },
                                {
                                    "0": "[dm_audit_actions]",
                                    "1": "RWC ",
                                    "2": "REVOKE WITH CASCADE",
                                    "3": "ROUTE",
                                    "4": "NULL",
                                    "5": "DATABASE",
                                    "6": "DATABASE_OBJECT_PERMISSION_CHANGE_GROUP",
                                    "7": "NULL",
                                    "8": "DATABASE_OBJECT_PERMISSION_CHANGE_GROUP",
                                    "9": "1"
                                },
                                {
                                    "0": "[dm_audit_actions]",
                                    "1": "DWC ",
                                    "2": "DENY WITH CASCADE",
                                    "3": "ROUTE",
                                    "4": "NULL",
                                    "5": "DATABASE",
                                    "6": "DATABASE_OBJECT_PERMISSION_CHANGE_GROUP",
                                    "7": "NULL",
                                    "8": "DATABASE_OBJECT_PERMISSION_CHANGE_GROUP",
                                    "9": "1"
                                },
                                {
                                    "0": "[dm_audit_actions]",
                                    "1": "R   ",
                                    "2": "REVOKE",
                                    "3": "FULLTEXT CATALOG",
                                    "4": "NULL",
                                    "5": "DATABASE",
                                    "6": "DATABASE_OBJECT_PERMISSION_CHANGE_GROUP",
                                    "7": "NULL",
                                    "8": "DATABASE_OBJECT_PERMISSION_CHANGE_GROUP",
                                    "9": "1"
                                },
                                {
                                    "0": "[dm_audit_actions]",
                                    "1": "D   ",
                                    "2": "DENY",
                                    "3": "FULLTEXT CATALOG",
                                    "4": "NULL",
                                    "5": "DATABASE",
                                    "6": "DATABASE_OBJECT_PERMISSION_CHANGE_GROUP",
                                    "7": "NULL",
                                    "8": "DATABASE_OBJECT_PERMISSION_CHANGE_GROUP",
                                    "9": "1"
                                },
                                {
                                    "0": "[dm_audit_actions]",
                                    "1": "G   ",
                                    "2": "GRANT",
                                    "3": "FULLTEXT CATALOG",
                                    "4": "NULL",
                                    "5": "DATABASE",
                                    "6": "DATABASE_OBJECT_PERMISSION_CHANGE_GROUP",
                                    "7": "NULL",
                                    "8": "DATABASE_OBJECT_PERMISSION_CHANGE_GROUP",
                                    "9": "1"
                                },
                                {
                                    "0": "[dm_audit_actions]",
                                    "1": "GWG ",
                                    "2": "GRANT WITH GRANT",
                                    "3": "FULLTEXT CATALOG",
                                    "4": "NULL",
                                    "5": "DATABASE",
                                    "6": "DATABASE_OBJECT_PERMISSION_CHANGE_GROUP",
                                    "7": "NULL",
                                    "8": "DATABASE_OBJECT_PERMISSION_CHANGE_GROUP",
                                    "9": "1"
                                },
                                {
                                    "0": "[dm_audit_actions]",
                                    "1": "RWG ",
                                    "2": "REVOKE WITH GRANT",
                                    "3": "FULLTEXT CATALOG",
                                    "4": "NULL",
                                    "5": "DATABASE",
                                    "6": "DATABASE_OBJECT_PERMISSION_CHANGE_GROUP",
                                    "7": "NULL",
                                    "8": "DATABASE_OBJECT_PERMISSION_CHANGE_GROUP",
                                    "9": "1"
                                },
                                {
                                    "0": "[dm_audit_actions]",
                                    "1": "RWC ",
                                    "2": "REVOKE WITH CASCADE",
                                    "3": "FULLTEXT CATALOG",
                                    "4": "NULL",
                                    "5": "DATABASE",
                                    "6": "DATABASE_OBJECT_PERMISSION_CHANGE_GROUP",
                                    "7": "NULL",
                                    "8": "DATABASE_OBJECT_PERMISSION_CHANGE_GROUP",
                                    "9": "1"
                                },
                                {
                                    "0": "[dm_audit_actions]",
                                    "1": "DWC ",
                                    "2": "DENY WITH CASCADE",
                                    "3": "FULLTEXT CATALOG",
                                    "4": "NULL",
                                    "5": "DATABASE",
                                    "6": "DATABASE_OBJECT_PERMISSION_CHANGE_GROUP",
                                    "7": "NULL",
                                    "8": "DATABASE_OBJECT_PERMISSION_CHANGE_GROUP",
                                    "9": "1"
                                },
                                {
                                    "0": "[dm_audit_actions]",
                                    "1": "R   ",
                                    "2": "REVOKE",
                                    "3": "FULLTEXT STOPLIST",
                                    "4": "NULL",
                                    "5": "DATABASE",
                                    "6": "DATABASE_OBJECT_PERMISSION_CHANGE_GROUP",
                                    "7": "NULL",
                                    "8": "DATABASE_OBJECT_PERMISSION_CHANGE_GROUP",
                                    "9": "1"
                                },
                                {
                                    "0": "[dm_audit_actions]",
                                    "1": "D   ",
                                    "2": "DENY",
                                    "3": "FULLTEXT STOPLIST",
                                    "4": "NULL",
                                    "5": "DATABASE",
                                    "6": "DATABASE_OBJECT_PERMISSION_CHANGE_GROUP",
                                    "7": "NULL",
                                    "8": "DATABASE_OBJECT_PERMISSION_CHANGE_GROUP",
                                    "9": "1"
                                },
                                {
                                    "0": "[dm_audit_actions]",
                                    "1": "G   ",
                                    "2": "GRANT",
                                    "3": "FULLTEXT STOPLIST",
                                    "4": "NULL",
                                    "5": "DATABASE",
                                    "6": "DATABASE_OBJECT_PERMISSION_CHANGE_GROUP",
                                    "7": "NULL",
                                    "8": "DATABASE_OBJECT_PERMISSION_CHANGE_GROUP",
                                    "9": "1"
                                },
                                {
                                    "0": "[dm_audit_actions]",
                                    "1": "GWG ",
                                    "2": "GRANT WITH GRANT",
                                    "3": "FULLTEXT STOPLIST",
                                    "4": "NULL",
                                    "5": "DATABASE",
                                    "6": "DATABASE_OBJECT_PERMISSION_CHANGE_GROUP",
                                    "7": "NULL",
                                    "8": "DATABASE_OBJECT_PERMISSION_CHANGE_GROUP",
                                    "9": "1"
                                },
                                {
                                    "0": "[dm_audit_actions]",
                                    "1": "RWG ",
                                    "2": "REVOKE WITH GRANT",
                                    "3": "FULLTEXT STOPLIST",
                                    "4": "NULL",
                                    "5": "DATABASE",
                                    "6": "DATABASE_OBJECT_PERMISSION_CHANGE_GROUP",
                                    "7": "NULL",
                                    "8": "DATABASE_OBJECT_PERMISSION_CHANGE_GROUP",
                                    "9": "1"
                                },
                                {
                                    "0": "[dm_audit_actions]",
                                    "1": "RWC ",
                                    "2": "REVOKE WITH CASCADE",
                                    "3": "FULLTEXT STOPLIST",
                                    "4": "NULL",
                                    "5": "DATABASE",
                                    "6": "DATABASE_OBJECT_PERMISSION_CHANGE_GROUP",
                                    "7": "NULL",
                                    "8": "DATABASE_OBJECT_PERMISSION_CHANGE_GROUP",
                                    "9": "1"
                                },
                                {
                                    "0": "[dm_audit_actions]",
                                    "1": "DWC ",
                                    "2": "DENY WITH CASCADE",
                                    "3": "FULLTEXT STOPLIST",
                                    "4": "NULL",
                                    "5": "DATABASE",
                                    "6": "DATABASE_OBJECT_PERMISSION_CHANGE_GROUP",
                                    "7": "NULL",
                                    "8": "DATABASE_OBJECT_PERMISSION_CHANGE_GROUP",
                                    "9": "1"
                                },
                                {
                                    "0": "[dm_audit_actions]",
                                    "1": "R   ",
                                    "2": "REVOKE",
                                    "3": "SEARCH PROPERTY LIST",
                                    "4": "NULL",
                                    "5": "DATABASE",
                                    "6": "DATABASE_OBJECT_PERMISSION_CHANGE_GROUP",
                                    "7": "NULL",
                                    "8": "DATABASE_OBJECT_PERMISSION_CHANGE_GROUP",
                                    "9": "1"
                                },
                                {
                                    "0": "[dm_audit_actions]",
                                    "1": "D   ",
                                    "2": "DENY",
                                    "3": "SEARCH PROPERTY LIST",
                                    "4": "NULL",
                                    "5": "DATABASE",
                                    "6": "DATABASE_OBJECT_PERMISSION_CHANGE_GROUP",
                                    "7": "NULL",
                                    "8": "DATABASE_OBJECT_PERMISSION_CHANGE_GROUP",
                                    "9": "1"
                                },
                                {
                                    "0": "[dm_audit_actions]",
                                    "1": "G   ",
                                    "2": "GRANT",
                                    "3": "SEARCH PROPERTY LIST",
                                    "4": "NULL",
                                    "5": "DATABASE",
                                    "6": "DATABASE_OBJECT_PERMISSION_CHANGE_GROUP",
                                    "7": "NULL",
                                    "8": "DATABASE_OBJECT_PERMISSION_CHANGE_GROUP",
                                    "9": "1"
                                },
                                {
                                    "0": "[dm_audit_actions]",
                                    "1": "GWG ",
                                    "2": "GRANT WITH GRANT",
                                    "3": "SEARCH PROPERTY LIST",
                                    "4": "NULL",
                                    "5": "DATABASE",
                                    "6": "DATABASE_OBJECT_PERMISSION_CHANGE_GROUP",
                                    "7": "NULL",
                                    "8": "DATABASE_OBJECT_PERMISSION_CHANGE_GROUP",
                                    "9": "1"
                                },
                                {
                                    "0": "[dm_audit_actions]",
                                    "1": "RWG ",
                                    "2": "REVOKE WITH GRANT",
                                    "3": "SEARCH PROPERTY LIST",
                                    "4": "NULL",
                                    "5": "DATABASE",
                                    "6": "DATABASE_OBJECT_PERMISSION_CHANGE_GROUP",
                                    "7": "NULL",
                                    "8": "DATABASE_OBJECT_PERMISSION_CHANGE_GROUP",
                                    "9": "1"
                                },
                                {
                                    "0": "[dm_audit_actions]",
                                    "1": "RWC ",
                                    "2": "REVOKE WITH CASCADE",
                                    "3": "SEARCH PROPERTY LIST",
                                    "4": "NULL",
                                    "5": "DATABASE",
                                    "6": "DATABASE_OBJECT_PERMISSION_CHANGE_GROUP",
                                    "7": "NULL",
                                    "8": "DATABASE_OBJECT_PERMISSION_CHANGE_GROUP",
                                    "9": "1"
                                },
                                {
                                    "0": "[dm_audit_actions]",
                                    "1": "DWC ",
                                    "2": "DENY WITH CASCADE",
                                    "3": "SEARCH PROPERTY LIST",
                                    "4": "NULL",
                                    "5": "DATABASE",
                                    "6": "DATABASE_OBJECT_PERMISSION_CHANGE_GROUP",
                                    "7": "NULL",
                                    "8": "DATABASE_OBJECT_PERMISSION_CHANGE_GROUP",
                                    "9": "1"
                                },
                                {
                                    "0": "[dm_audit_actions]",
                                    "1": "R   ",
                                    "2": "REVOKE",
                                    "3": "SYMMETRIC KEY",
                                    "4": "NULL",
                                    "5": "DATABASE",
                                    "6": "DATABASE_OBJECT_PERMISSION_CHANGE_GROUP",
                                    "7": "NULL",
                                    "8": "DATABASE_OBJECT_PERMISSION_CHANGE_GROUP",
                                    "9": "1"
                                },
                                {
                                    "0": "[dm_audit_actions]",
                                    "1": "D   ",
                                    "2": "DENY",
                                    "3": "SYMMETRIC KEY",
                                    "4": "NULL",
                                    "5": "DATABASE",
                                    "6": "DATABASE_OBJECT_PERMISSION_CHANGE_GROUP",
                                    "7": "NULL",
                                    "8": "DATABASE_OBJECT_PERMISSION_CHANGE_GROUP",
                                    "9": "1"
                                },
                                {
                                    "0": "[dm_audit_actions]",
                                    "1": "G   ",
                                    "2": "GRANT",
                                    "3": "SYMMETRIC KEY",
                                    "4": "NULL",
                                    "5": "DATABASE",
                                    "6": "DATABASE_OBJECT_PERMISSION_CHANGE_GROUP",
                                    "7": "NULL",
                                    "8": "DATABASE_OBJECT_PERMISSION_CHANGE_GROUP",
                                    "9": "1"
                                },
                                {
                                    "0": "[dm_audit_actions]",
                                    "1": "GWG ",
                                    "2": "GRANT WITH GRANT",
                                    "3": "SYMMETRIC KEY",
                                    "4": "NULL",
                                    "5": "DATABASE",
                                    "6": "DATABASE_OBJECT_PERMISSION_CHANGE_GROUP",
                                    "7": "NULL",
                                    "8": "DATABASE_OBJECT_PERMISSION_CHANGE_GROUP",
                                    "9": "1"
                                },
                                {
                                    "0": "[dm_audit_actions]",
                                    "1": "RWG ",
                                    "2": "REVOKE WITH GRANT",
                                    "3": "SYMMETRIC KEY",
                                    "4": "NULL",
                                    "5": "DATABASE",
                                    "6": "DATABASE_OBJECT_PERMISSION_CHANGE_GROUP",
                                    "7": "NULL",
                                    "8": "DATABASE_OBJECT_PERMISSION_CHANGE_GROUP",
                                    "9": "1"
                                },
                                {
                                    "0": "[dm_audit_actions]",
                                    "1": "RWC ",
                                    "2": "REVOKE WITH CASCADE",
                                    "3": "SYMMETRIC KEY",
                                    "4": "NULL",
                                    "5": "DATABASE",
                                    "6": "DATABASE_OBJECT_PERMISSION_CHANGE_GROUP",
                                    "7": "NULL",
                                    "8": "DATABASE_OBJECT_PERMISSION_CHANGE_GROUP",
                                    "9": "1"
                                },
                                {
                                    "0": "[dm_audit_actions]",
                                    "1": "DWC ",
                                    "2": "DENY WITH CASCADE",
                                    "3": "SYMMETRIC KEY",
                                    "4": "NULL",
                                    "5": "DATABASE",
                                    "6": "DATABASE_OBJECT_PERMISSION_CHANGE_GROUP",
                                    "7": "NULL",
                                    "8": "DATABASE_OBJECT_PERMISSION_CHANGE_GROUP",
                                    "9": "1"
                                },
                                {
                                    "0": "[dm_audit_actions]",
                                    "1": "R   ",
                                    "2": "REVOKE",
                                    "3": "CERTIFICATE",
                                    "4": "NULL",
                                    "5": "DATABASE",
                                    "6": "DATABASE_OBJECT_PERMISSION_CHANGE_GROUP",
                                    "7": "NULL",
                                    "8": "DATABASE_OBJECT_PERMISSION_CHANGE_GROUP",
                                    "9": "1"
                                },
                                {
                                    "0": "[dm_audit_actions]",
                                    "1": "D   ",
                                    "2": "DENY",
                                    "3": "CERTIFICATE",
                                    "4": "NULL",
                                    "5": "DATABASE",
                                    "6": "DATABASE_OBJECT_PERMISSION_CHANGE_GROUP",
                                    "7": "NULL",
                                    "8": "DATABASE_OBJECT_PERMISSION_CHANGE_GROUP",
                                    "9": "1"
                                },
                                {
                                    "0": "[dm_audit_actions]",
                                    "1": "G   ",
                                    "2": "GRANT",
                                    "3": "CERTIFICATE",
                                    "4": "NULL",
                                    "5": "DATABASE",
                                    "6": "DATABASE_OBJECT_PERMISSION_CHANGE_GROUP",
                                    "7": "NULL",
                                    "8": "DATABASE_OBJECT_PERMISSION_CHANGE_GROUP",
                                    "9": "1"
                                },
                                {
                                    "0": "[dm_audit_actions]",
                                    "1": "GWG ",
                                    "2": "GRANT WITH GRANT",
                                    "3": "CERTIFICATE",
                                    "4": "NULL",
                                    "5": "DATABASE",
                                    "6": "DATABASE_OBJECT_PERMISSION_CHANGE_GROUP",
                                    "7": "NULL",
                                    "8": "DATABASE_OBJECT_PERMISSION_CHANGE_GROUP",
                                    "9": "1"
                                },
                                {
                                    "0": "[dm_audit_actions]",
                                    "1": "RWG ",
                                    "2": "REVOKE WITH GRANT",
                                    "3": "CERTIFICATE",
                                    "4": "NULL",
                                    "5": "DATABASE",
                                    "6": "DATABASE_OBJECT_PERMISSION_CHANGE_GROUP",
                                    "7": "NULL",
                                    "8": "DATABASE_OBJECT_PERMISSION_CHANGE_GROUP",
                                    "9": "1"
                                },
                                {
                                    "0": "[dm_audit_actions]",
                                    "1": "RWC ",
                                    "2": "REVOKE WITH CASCADE",
                                    "3": "CERTIFICATE",
                                    "4": "NULL",
                                    "5": "DATABASE",
                                    "6": "DATABASE_OBJECT_PERMISSION_CHANGE_GROUP",
                                    "7": "NULL",
                                    "8": "DATABASE_OBJECT_PERMISSION_CHANGE_GROUP",
                                    "9": "1"
                                },
                                {
                                    "0": "[dm_audit_actions]",
                                    "1": "DWC ",
                                    "2": "DENY WITH CASCADE",
                                    "3": "CERTIFICATE",
                                    "4": "NULL",
                                    "5": "DATABASE",
                                    "6": "DATABASE_OBJECT_PERMISSION_CHANGE_GROUP",
                                    "7": "NULL",
                                    "8": "DATABASE_OBJECT_PERMISSION_CHANGE_GROUP",
                                    "9": "1"
                                },
                                {
                                    "0": "[dm_audit_actions]",
                                    "1": "R   ",
                                    "2": "REVOKE",
                                    "3": "ASYMMETRIC KEY",
                                    "4": "NULL",
                                    "5": "DATABASE",
                                    "6": "DATABASE_OBJECT_PERMISSION_CHANGE_GROUP",
                                    "7": "NULL",
                                    "8": "DATABASE_OBJECT_PERMISSION_CHANGE_GROUP",
                                    "9": "1"
                                },
                                {
                                    "0": "[dm_audit_actions]",
                                    "1": "D   ",
                                    "2": "DENY",
                                    "3": "ASYMMETRIC KEY",
                                    "4": "NULL",
                                    "5": "DATABASE",
                                    "6": "DATABASE_OBJECT_PERMISSION_CHANGE_GROUP",
                                    "7": "NULL",
                                    "8": "DATABASE_OBJECT_PERMISSION_CHANGE_GROUP",
                                    "9": "1"
                                },
                                {
                                    "0": "[dm_audit_actions]",
                                    "1": "G   ",
                                    "2": "GRANT",
                                    "3": "ASYMMETRIC KEY",
                                    "4": "NULL",
                                    "5": "DATABASE",
                                    "6": "DATABASE_OBJECT_PERMISSION_CHANGE_GROUP",
                                    "7": "NULL",
                                    "8": "DATABASE_OBJECT_PERMISSION_CHANGE_GROUP",
                                    "9": "1"
                                },
                                {
                                    "0": "[dm_audit_actions]",
                                    "1": "GWG ",
                                    "2": "GRANT WITH GRANT",
                                    "3": "ASYMMETRIC KEY",
                                    "4": "NULL",
                                    "5": "DATABASE",
                                    "6": "DATABASE_OBJECT_PERMISSION_CHANGE_GROUP",
                                    "7": "NULL",
                                    "8": "DATABASE_OBJECT_PERMISSION_CHANGE_GROUP",
                                    "9": "1"
                                },
                                {
                                    "0": "[dm_audit_actions]",
                                    "1": "RWG ",
                                    "2": "REVOKE WITH GRANT",
                                    "3": "ASYMMETRIC KEY",
                                    "4": "NULL",
                                    "5": "DATABASE",
                                    "6": "DATABASE_OBJECT_PERMISSION_CHANGE_GROUP",
                                    "7": "NULL",
                                    "8": "DATABASE_OBJECT_PERMISSION_CHANGE_GROUP",
                                    "9": "1"
                                },
                                {
                                    "0": "[dm_audit_actions]",
                                    "1": "RWC ",
                                    "2": "REVOKE WITH CASCADE",
                                    "3": "ASYMMETRIC KEY",
                                    "4": "NULL",
                                    "5": "DATABASE",
                                    "6": "DATABASE_OBJECT_PERMISSION_CHANGE_GROUP",
                                    "7": "NULL",
                                    "8": "DATABASE_OBJECT_PERMISSION_CHANGE_GROUP",
                                    "9": "1"
                                },
                                {
                                    "0": "[dm_audit_actions]",
                                    "1": "DWC ",
                                    "2": "DENY WITH CASCADE",
                                    "3": "ASYMMETRIC KEY",
                                    "4": "NULL",
                                    "5": "DATABASE",
                                    "6": "DATABASE_OBJECT_PERMISSION_CHANGE_GROUP",
                                    "7": "NULL",
                                    "8": "DATABASE_OBJECT_PERMISSION_CHANGE_GROUP",
                                    "9": "1"
                                },
                                {
                                    "0": "[dm_audit_actions]",
                                    "1": "R   ",
                                    "2": "REVOKE",
                                    "3": "DATABASE SCOPED CREDENTIAL",
                                    "4": "NULL",
                                    "5": "DATABASE",
                                    "6": "DATABASE_OBJECT_PERMISSION_CHANGE_GROUP",
                                    "7": "NULL",
                                    "8": "DATABASE_OBJECT_PERMISSION_CHANGE_GROUP",
                                    "9": "1"
                                },
                                {
                                    "0": "[dm_audit_actions]",
                                    "1": "D   ",
                                    "2": "DENY",
                                    "3": "DATABASE SCOPED CREDENTIAL",
                                    "4": "NULL",
                                    "5": "DATABASE",
                                    "6": "DATABASE_OBJECT_PERMISSION_CHANGE_GROUP",
                                    "7": "NULL",
                                    "8": "DATABASE_OBJECT_PERMISSION_CHANGE_GROUP",
                                    "9": "1"
                                },
                                {
                                    "0": "[dm_audit_actions]",
                                    "1": "G   ",
                                    "2": "GRANT",
                                    "3": "DATABASE SCOPED CREDENTIAL",
                                    "4": "NULL",
                                    "5": "DATABASE",
                                    "6": "DATABASE_OBJECT_PERMISSION_CHANGE_GROUP",
                                    "7": "NULL",
                                    "8": "DATABASE_OBJECT_PERMISSION_CHANGE_GROUP",
                                    "9": "1"
                                },
                                {
                                    "0": "[dm_audit_actions]",
                                    "1": "GWG ",
                                    "2": "GRANT WITH GRANT",
                                    "3": "DATABASE SCOPED CREDENTIAL",
                                    "4": "NULL",
                                    "5": "DATABASE",
                                    "6": "DATABASE_OBJECT_PERMISSION_CHANGE_GROUP",
                                    "7": "NULL",
                                    "8": "DATABASE_OBJECT_PERMISSION_CHANGE_GROUP",
                                    "9": "1"
                                },
                                {
                                    "0": "[dm_audit_actions]",
                                    "1": "RWG ",
                                    "2": "REVOKE WITH GRANT",
                                    "3": "DATABASE SCOPED CREDENTIAL",
                                    "4": "NULL",
                                    "5": "DATABASE",
                                    "6": "DATABASE_OBJECT_PERMISSION_CHANGE_GROUP",
                                    "7": "NULL",
                                    "8": "DATABASE_OBJECT_PERMISSION_CHANGE_GROUP",
                                    "9": "1"
                                },
                                {
                                    "0": "[dm_audit_actions]",
                                    "1": "RWC ",
                                    "2": "REVOKE WITH CASCADE",
                                    "3": "DATABASE SCOPED CREDENTIAL",
                                    "4": "NULL",
                                    "5": "DATABASE",
                                    "6": "DATABASE_OBJECT_PERMISSION_CHANGE_GROUP",
                                    "7": "NULL",
                                    "8": "DATABASE_OBJECT_PERMISSION_CHANGE_GROUP",
                                    "9": "1"
                                },
                                {
                                    "0": "[dm_audit_actions]",
                                    "1": "DWC ",
                                    "2": "DENY WITH CASCADE",
                                    "3": "DATABASE SCOPED CREDENTIAL",
                                    "4": "NULL",
                                    "5": "DATABASE",
                                    "6": "DATABASE_OBJECT_PERMISSION_CHANGE_GROUP",
                                    "7": "NULL",
                                    "8": "DATABASE_OBJECT_PERMISSION_CHANGE_GROUP",
                                    "9": "1"
                                },
                                {
                                    "0": "[dm_audit_actions]",
                                    "1": "R   ",
                                    "2": "REVOKE",
                                    "3": "EXTERNAL LIBRARY",
                                    "4": "NULL",
                                    "5": "DATABASE",
                                    "6": "DATABASE_OBJECT_PERMISSION_CHANGE_GROUP",
                                    "7": "NULL",
                                    "8": "DATABASE_OBJECT_PERMISSION_CHANGE_GROUP",
                                    "9": "1"
                                },
                                {
                                    "0": "[dm_audit_actions]",
                                    "1": "D   ",
                                    "2": "DENY",
                                    "3": "EXTERNAL LIBRARY",
                                    "4": "NULL",
                                    "5": "DATABASE",
                                    "6": "DATABASE_OBJECT_PERMISSION_CHANGE_GROUP",
                                    "7": "NULL",
                                    "8": "DATABASE_OBJECT_PERMISSION_CHANGE_GROUP",
                                    "9": "1"
                                },
                                {
                                    "0": "[dm_audit_actions]",
                                    "1": "G   ",
                                    "2": "GRANT",
                                    "3": "EXTERNAL LIBRARY",
                                    "4": "NULL",
                                    "5": "DATABASE",
                                    "6": "DATABASE_OBJECT_PERMISSION_CHANGE_GROUP",
                                    "7": "NULL",
                                    "8": "DATABASE_OBJECT_PERMISSION_CHANGE_GROUP",
                                    "9": "1"
                                },
                                {
                                    "0": "[dm_audit_actions]",
                                    "1": "GWG ",
                                    "2": "GRANT WITH GRANT",
                                    "3": "EXTERNAL LIBRARY",
                                    "4": "NULL",
                                    "5": "DATABASE",
                                    "6": "DATABASE_OBJECT_PERMISSION_CHANGE_GROUP",
                                    "7": "NULL",
                                    "8": "DATABASE_OBJECT_PERMISSION_CHANGE_GROUP",
                                    "9": "1"
                                },
                                {
                                    "0": "[dm_audit_actions]",
                                    "1": "RWG ",
                                    "2": "REVOKE WITH GRANT",
                                    "3": "EXTERNAL LIBRARY",
                                    "4": "NULL",
                                    "5": "DATABASE",
                                    "6": "DATABASE_OBJECT_PERMISSION_CHANGE_GROUP",
                                    "7": "NULL",
                                    "8": "DATABASE_OBJECT_PERMISSION_CHANGE_GROUP",
                                    "9": "1"
                                },
                                {
                                    "0": "[dm_audit_actions]",
                                    "1": "RWC ",
                                    "2": "REVOKE WITH CASCADE",
                                    "3": "EXTERNAL LIBRARY",
                                    "4": "NULL",
                                    "5": "DATABASE",
                                    "6": "DATABASE_OBJECT_PERMISSION_CHANGE_GROUP",
                                    "7": "NULL",
                                    "8": "DATABASE_OBJECT_PERMISSION_CHANGE_GROUP",
                                    "9": "1"
                                },
                                {
                                    "0": "[dm_audit_actions]",
                                    "1": "DWC ",
                                    "2": "DENY WITH CASCADE",
                                    "3": "EXTERNAL LIBRARY",
                                    "4": "NULL",
                                    "5": "DATABASE",
                                    "6": "DATABASE_OBJECT_PERMISSION_CHANGE_GROUP",
                                    "7": "NULL",
                                    "8": "DATABASE_OBJECT_PERMISSION_CHANGE_GROUP",
                                    "9": "1"
                                },
                                {
                                    "0": "[dm_audit_actions]",
                                    "1": "R   ",
                                    "2": "REVOKE",
                                    "3": "EXTERNAL LANGUAGE",
                                    "4": "NULL",
                                    "5": "DATABASE",
                                    "6": "DATABASE_OBJECT_PERMISSION_CHANGE_GROUP",
                                    "7": "NULL",
                                    "8": "DATABASE_OBJECT_PERMISSION_CHANGE_GROUP",
                                    "9": "1"
                                },
                                {
                                    "0": "[dm_audit_actions]",
                                    "1": "D   ",
                                    "2": "DENY",
                                    "3": "EXTERNAL LANGUAGE",
                                    "4": "NULL",
                                    "5": "DATABASE",
                                    "6": "DATABASE_OBJECT_PERMISSION_CHANGE_GROUP",
                                    "7": "NULL",
                                    "8": "DATABASE_OBJECT_PERMISSION_CHANGE_GROUP",
                                    "9": "1"
                                },
                                {
                                    "0": "[dm_audit_actions]",
                                    "1": "G   ",
                                    "2": "GRANT",
                                    "3": "EXTERNAL LANGUAGE",
                                    "4": "NULL",
                                    "5": "DATABASE",
                                    "6": "DATABASE_OBJECT_PERMISSION_CHANGE_GROUP",
                                    "7": "NULL",
                                    "8": "DATABASE_OBJECT_PERMISSION_CHANGE_GROUP",
                                    "9": "1"
                                },
                                {
                                    "0": "[dm_audit_actions]",
                                    "1": "GWG ",
                                    "2": "GRANT WITH GRANT",
                                    "3": "EXTERNAL LANGUAGE",
                                    "4": "NULL",
                                    "5": "DATABASE",
                                    "6": "DATABASE_OBJECT_PERMISSION_CHANGE_GROUP",
                                    "7": "NULL",
                                    "8": "DATABASE_OBJECT_PERMISSION_CHANGE_GROUP",
                                    "9": "1"
                                },
                                {
                                    "0": "[dm_audit_actions]",
                                    "1": "RWG ",
                                    "2": "REVOKE WITH GRANT",
                                    "3": "EXTERNAL LANGUAGE",
                                    "4": "NULL",
                                    "5": "DATABASE",
                                    "6": "DATABASE_OBJECT_PERMISSION_CHANGE_GROUP",
                                    "7": "NULL",
                                    "8": "DATABASE_OBJECT_PERMISSION_CHANGE_GROUP",
                                    "9": "1"
                                },
                                {
                                    "0": "[dm_audit_actions]",
                                    "1": "RWC ",
                                    "2": "REVOKE WITH CASCADE",
                                    "3": "EXTERNAL LANGUAGE",
                                    "4": "NULL",
                                    "5": "DATABASE",
                                    "6": "DATABASE_OBJECT_PERMISSION_CHANGE_GROUP",
                                    "7": "NULL",
                                    "8": "DATABASE_OBJECT_PERMISSION_CHANGE_GROUP",
                                    "9": "1"
                                },
                                {
                                    "0": "[dm_audit_actions]",
                                    "1": "DWC ",
                                    "2": "DENY WITH CASCADE",
                                    "3": "EXTERNAL LANGUAGE",
                                    "4": "NULL",
                                    "5": "DATABASE",
                                    "6": "DATABASE_OBJECT_PERMISSION_CHANGE_GROUP",
                                    "7": "NULL",
                                    "8": "DATABASE_OBJECT_PERMISSION_CHANGE_GROUP",
                                    "9": "1"
                                },
                                {
                                    "0": "[dm_audit_actions]",
                                    "1": "R   ",
                                    "2": "REVOKE",
                                    "3": "SERVER",
                                    "4": "SERVER_PERMISSION_CHANGE_GROUP",
                                    "5": "NULL",
                                    "6": "NULL",
                                    "7": "NULL",
                                    "8": "SERVER_PERMISSION_CHANGE_GROUP",
                                    "9": "1"
                                },
                                {
                                    "0": "[dm_audit_actions]",
                                    "1": "D   ",
                                    "2": "DENY",
                                    "3": "SERVER",
                                    "4": "SERVER_PERMISSION_CHANGE_GROUP",
                                    "5": "NULL",
                                    "6": "NULL",
                                    "7": "NULL",
                                    "8": "SERVER_PERMISSION_CHANGE_GROUP",
                                    "9": "1"
                                },
                                {
                                    "0": "[dm_audit_actions]",
                                    "1": "G   ",
                                    "2": "GRANT",
                                    "3": "SERVER",
                                    "4": "SERVER_PERMISSION_CHANGE_GROUP",
                                    "5": "NULL",
                                    "6": "NULL",
                                    "7": "NULL",
                                    "8": "SERVER_PERMISSION_CHANGE_GROUP",
                                    "9": "1"
                                },
                                {
                                    "0": "[dm_audit_actions]",
                                    "1": "GWG ",
                                    "2": "GRANT WITH GRANT",
                                    "3": "SERVER",
                                    "4": "SERVER_PERMISSION_CHANGE_GROUP",
                                    "5": "NULL",
                                    "6": "NULL",
                                    "7": "NULL",
                                    "8": "SERVER_PERMISSION_CHANGE_GROUP",
                                    "9": "1"
                                },
                                {
                                    "0": "[dm_audit_actions]",
                                    "1": "RWG ",
                                    "2": "REVOKE WITH GRANT",
                                    "3": "SERVER",
                                    "4": "SERVER_PERMISSION_CHANGE_GROUP",
                                    "5": "NULL",
                                    "6": "NULL",
                                    "7": "NULL",
                                    "8": "SERVER_PERMISSION_CHANGE_GROUP",
                                    "9": "1"
                                },
                                {
                                    "0": "[dm_audit_actions]",
                                    "1": "RWC ",
                                    "2": "REVOKE WITH CASCADE",
                                    "3": "SERVER",
                                    "4": "SERVER_PERMISSION_CHANGE_GROUP",
                                    "5": "NULL",
                                    "6": "NULL",
                                    "7": "NULL",
                                    "8": "SERVER_PERMISSION_CHANGE_GROUP",
                                    "9": "1"
                                },
                                {
                                    "0": "[dm_audit_actions]",
                                    "1": "DWC ",
                                    "2": "DENY WITH CASCADE",
                                    "3": "SERVER",
                                    "4": "SERVER_PERMISSION_CHANGE_GROUP",
                                    "5": "NULL",
                                    "6": "NULL",
                                    "7": "NULL",
                                    "8": "SERVER_PERMISSION_CHANGE_GROUP",
                                    "9": "1"
                                },
                                {
                                    "0": "[dm_audit_actions]",
                                    "1": "R   ",
                                    "2": "REVOKE",
                                    "3": "ENDPOINT",
                                    "4": "NULL",
                                    "5": "SERVER",
                                    "6": "SERVER_OBJECT_PERMISSION_CHANGE_GROUP",
                                    "7": "NULL",
                                    "8": "SERVER_OBJECT_PERMISSION_CHANGE_GROUP",
                                    "9": "1"
                                },
                                {
                                    "0": "[dm_audit_actions]",
                                    "1": "D   ",
                                    "2": "DENY",
                                    "3": "ENDPOINT",
                                    "4": "NULL",
                                    "5": "SERVER",
                                    "6": "SERVER_OBJECT_PERMISSION_CHANGE_GROUP",
                                    "7": "NULL",
                                    "8": "SERVER_OBJECT_PERMISSION_CHANGE_GROUP",
                                    "9": "1"
                                },
                                {
                                    "0": "[dm_audit_actions]",
                                    "1": "G   ",
                                    "2": "GRANT",
                                    "3": "ENDPOINT",
                                    "4": "NULL",
                                    "5": "SERVER",
                                    "6": "SERVER_OBJECT_PERMISSION_CHANGE_GROUP",
                                    "7": "NULL",
                                    "8": "SERVER_OBJECT_PERMISSION_CHANGE_GROUP",
                                    "9": "1"
                                },
                                {
                                    "0": "[dm_audit_actions]",
                                    "1": "GWG ",
                                    "2": "GRANT WITH GRANT",
                                    "3": "ENDPOINT",
                                    "4": "NULL",
                                    "5": "SERVER",
                                    "6": "SERVER_OBJECT_PERMISSION_CHANGE_GROUP",
                                    "7": "NULL",
                                    "8": "SERVER_OBJECT_PERMISSION_CHANGE_GROUP",
                                    "9": "1"
                                },
                                {
                                    "0": "[dm_audit_actions]",
                                    "1": "RWG ",
                                    "2": "REVOKE WITH GRANT",
                                    "3": "ENDPOINT",
                                    "4": "NULL",
                                    "5": "SERVER",
                                    "6": "SERVER_OBJECT_PERMISSION_CHANGE_GROUP",
                                    "7": "NULL",
                                    "8": "SERVER_OBJECT_PERMISSION_CHANGE_GROUP",
                                    "9": "1"
                                },
                                {
                                    "0": "[dm_audit_actions]",
                                    "1": "RWC ",
                                    "2": "REVOKE WITH CASCADE",
                                    "3": "ENDPOINT",
                                    "4": "NULL",
                                    "5": "SERVER",
                                    "6": "SERVER_OBJECT_PERMISSION_CHANGE_GROUP",
                                    "7": "NULL",
                                    "8": "SERVER_OBJECT_PERMISSION_CHANGE_GROUP",
                                    "9": "1"
                                },
                                {
                                    "0": "[dm_audit_actions]",
                                    "1": "DWC ",
                                    "2": "DENY WITH CASCADE",
                                    "3": "ENDPOINT",
                                    "4": "NULL",
                                    "5": "SERVER",
                                    "6": "SERVER_OBJECT_PERMISSION_CHANGE_GROUP",
                                    "7": "NULL",
                                    "8": "SERVER_OBJECT_PERMISSION_CHANGE_GROUP",
                                    "9": "1"
                                },
                                {
                                    "0": "[dm_audit_actions]",
                                    "1": "R   ",
                                    "2": "REVOKE",
                                    "3": "SERVER ROLE",
                                    "4": "NULL",
                                    "5": "SERVER",
                                    "6": "SERVER_OBJECT_PERMISSION_CHANGE_GROUP",
                                    "7": "NULL",
                                    "8": "SERVER_OBJECT_PERMISSION_CHANGE_GROUP",
                                    "9": "1"
                                },
                                {
                                    "0": "[dm_audit_actions]",
                                    "1": "D   ",
                                    "2": "DENY",
                                    "3": "SERVER ROLE",
                                    "4": "NULL",
                                    "5": "SERVER",
                                    "6": "SERVER_OBJECT_PERMISSION_CHANGE_GROUP",
                                    "7": "NULL",
                                    "8": "SERVER_OBJECT_PERMISSION_CHANGE_GROUP",
                                    "9": "1"
                                },
                                {
                                    "0": "[dm_audit_actions]",
                                    "1": "G   ",
                                    "2": "GRANT",
                                    "3": "SERVER ROLE",
                                    "4": "NULL",
                                    "5": "SERVER",
                                    "6": "SERVER_OBJECT_PERMISSION_CHANGE_GROUP",
                                    "7": "NULL",
                                    "8": "SERVER_OBJECT_PERMISSION_CHANGE_GROUP",
                                    "9": "1"
                                },
                                {
                                    "0": "[dm_audit_actions]",
                                    "1": "GWG ",
                                    "2": "GRANT WITH GRANT",
                                    "3": "SERVER ROLE",
                                    "4": "NULL",
                                    "5": "SERVER",
                                    "6": "SERVER_OBJECT_PERMISSION_CHANGE_GROUP",
                                    "7": "NULL",
                                    "8": "SERVER_OBJECT_PERMISSION_CHANGE_GROUP",
                                    "9": "1"
                                },
                                {
                                    "0": "[dm_audit_actions]",
                                    "1": "RWG ",
                                    "2": "REVOKE WITH GRANT",
                                    "3": "SERVER ROLE",
                                    "4": "NULL",
                                    "5": "SERVER",
                                    "6": "SERVER_OBJECT_PERMISSION_CHANGE_GROUP",
                                    "7": "NULL",
                                    "8": "SERVER_OBJECT_PERMISSION_CHANGE_GROUP",
                                    "9": "1"
                                },
                                {
                                    "0": "[dm_audit_actions]",
                                    "1": "RWC ",
                                    "2": "REVOKE WITH CASCADE",
                                    "3": "SERVER ROLE",
                                    "4": "NULL",
                                    "5": "SERVER",
                                    "6": "SERVER_OBJECT_PERMISSION_CHANGE_GROUP",
                                    "7": "NULL",
                                    "8": "SERVER_OBJECT_PERMISSION_CHANGE_GROUP",
                                    "9": "1"
                                },
                                {
                                    "0": "[dm_audit_actions]",
                                    "1": "DWC ",
                                    "2": "DENY WITH CASCADE",
                                    "3": "SERVER ROLE",
                                    "4": "NULL",
                                    "5": "SERVER",
                                    "6": "SERVER_OBJECT_PERMISSION_CHANGE_GROUP",
                                    "7": "NULL",
                                    "8": "SERVER_OBJECT_PERMISSION_CHANGE_GROUP",
                                    "9": "1"
                                },
                                {
                                    "0": "[dm_audit_actions]",
                                    "1": "R   ",
                                    "2": "REVOKE",
                                    "3": "AVAILABILITY GROUP",
                                    "4": "NULL",
                                    "5": "SERVER",
                                    "6": "SERVER_OBJECT_PERMISSION_CHANGE_GROUP",
                                    "7": "NULL",
                                    "8": "SERVER_OBJECT_PERMISSION_CHANGE_GROUP",
                                    "9": "1"
                                },
                                {
                                    "0": "[dm_audit_actions]",
                                    "1": "D   ",
                                    "2": "DENY",
                                    "3": "AVAILABILITY GROUP",
                                    "4": "NULL",
                                    "5": "SERVER",
                                    "6": "SERVER_OBJECT_PERMISSION_CHANGE_GROUP",
                                    "7": "NULL",
                                    "8": "SERVER_OBJECT_PERMISSION_CHANGE_GROUP",
                                    "9": "1"
                                },
                                {
                                    "0": "[dm_audit_actions]",
                                    "1": "G   ",
                                    "2": "GRANT",
                                    "3": "AVAILABILITY GROUP",
                                    "4": "NULL",
                                    "5": "SERVER",
                                    "6": "SERVER_OBJECT_PERMISSION_CHANGE_GROUP",
                                    "7": "NULL",
                                    "8": "SERVER_OBJECT_PERMISSION_CHANGE_GROUP",
                                    "9": "1"
                                },
                                {
                                    "0": "[dm_audit_actions]",
                                    "1": "GWG ",
                                    "2": "GRANT WITH GRANT",
                                    "3": "AVAILABILITY GROUP",
                                    "4": "NULL",
                                    "5": "SERVER",
                                    "6": "SERVER_OBJECT_PERMISSION_CHANGE_GROUP",
                                    "7": "NULL",
                                    "8": "SERVER_OBJECT_PERMISSION_CHANGE_GROUP",
                                    "9": "1"
                                },
                                {
                                    "0": "[dm_audit_actions]",
                                    "1": "RWG ",
                                    "2": "REVOKE WITH GRANT",
                                    "3": "AVAILABILITY GROUP",
                                    "4": "NULL",
                                    "5": "SERVER",
                                    "6": "SERVER_OBJECT_PERMISSION_CHANGE_GROUP",
                                    "7": "NULL",
                                    "8": "SERVER_OBJECT_PERMISSION_CHANGE_GROUP",
                                    "9": "1"
                                },
                                {
                                    "0": "[dm_audit_actions]",
                                    "1": "RWC ",
                                    "2": "REVOKE WITH CASCADE",
                                    "3": "AVAILABILITY GROUP",
                                    "4": "NULL",
                                    "5": "SERVER",
                                    "6": "SERVER_OBJECT_PERMISSION_CHANGE_GROUP",
                                    "7": "NULL",
                                    "8": "SERVER_OBJECT_PERMISSION_CHANGE_GROUP",
                                    "9": "1"
                                },
                                {
                                    "0": "[dm_audit_actions]",
                                    "1": "DWC ",
                                    "2": "DENY WITH CASCADE",
                                    "3": "AVAILABILITY GROUP",
                                    "4": "NULL",
                                    "5": "SERVER",
                                    "6": "SERVER_OBJECT_PERMISSION_CHANGE_GROUP",
                                    "7": "NULL",
                                    "8": "SERVER_OBJECT_PERMISSION_CHANGE_GROUP",
                                    "9": "1"
                                },
                                {
                                    "0": "[dm_audit_actions]",
                                    "1": "R   ",
                                    "2": "REVOKE",
                                    "3": "LOGIN",
                                    "4": "NULL",
                                    "5": "SERVER",
                                    "6": "SERVER_OBJECT_PERMISSION_CHANGE_GROUP",
                                    "7": "NULL",
                                    "8": "SERVER_OBJECT_PERMISSION_CHANGE_GROUP",
                                    "9": "1"
                                },
                                {
                                    "0": "[dm_audit_actions]",
                                    "1": "D   ",
                                    "2": "DENY",
                                    "3": "LOGIN",
                                    "4": "NULL",
                                    "5": "SERVER",
                                    "6": "SERVER_OBJECT_PERMISSION_CHANGE_GROUP",
                                    "7": "NULL",
                                    "8": "SERVER_OBJECT_PERMISSION_CHANGE_GROUP",
                                    "9": "1"
                                },
                                {
                                    "0": "[dm_audit_actions]",
                                    "1": "G   ",
                                    "2": "GRANT",
                                    "3": "LOGIN",
                                    "4": "NULL",
                                    "5": "SERVER",
                                    "6": "SERVER_OBJECT_PERMISSION_CHANGE_GROUP",
                                    "7": "NULL",
                                    "8": "SERVER_OBJECT_PERMISSION_CHANGE_GROUP",
                                    "9": "1"
                                },
                                {
                                    "0": "[dm_audit_actions]",
                                    "1": "GWG ",
                                    "2": "GRANT WITH GRANT",
                                    "3": "LOGIN",
                                    "4": "NULL",
                                    "5": "SERVER",
                                    "6": "SERVER_OBJECT_PERMISSION_CHANGE_GROUP",
                                    "7": "NULL",
                                    "8": "SERVER_OBJECT_PERMISSION_CHANGE_GROUP",
                                    "9": "1"
                                },
                                {
                                    "0": "[dm_audit_actions]",
                                    "1": "RWG ",
                                    "2": "REVOKE WITH GRANT",
                                    "3": "LOGIN",
                                    "4": "NULL",
                                    "5": "SERVER",
                                    "6": "SERVER_OBJECT_PERMISSION_CHANGE_GROUP",
                                    "7": "NULL",
                                    "8": "SERVER_OBJECT_PERMISSION_CHANGE_GROUP",
                                    "9": "1"
                                },
                                {
                                    "0": "[dm_audit_actions]",
                                    "1": "RWC ",
                                    "2": "REVOKE WITH CASCADE",
                                    "3": "LOGIN",
                                    "4": "NULL",
                                    "5": "SERVER",
                                    "6": "SERVER_OBJECT_PERMISSION_CHANGE_GROUP",
                                    "7": "NULL",
                                    "8": "SERVER_OBJECT_PERMISSION_CHANGE_GROUP",
                                    "9": "1"
                                },
                                {
                                    "0": "[dm_audit_actions]",
                                    "1": "DWC ",
                                    "2": "DENY WITH CASCADE",
                                    "3": "LOGIN",
                                    "4": "NULL",
                                    "5": "SERVER",
                                    "6": "SERVER_OBJECT_PERMISSION_CHANGE_GROUP",
                                    "7": "NULL",
                                    "8": "SERVER_OBJECT_PERMISSION_CHANGE_GROUP",
                                    "9": "1"
                                },
                                {
                                    "0": "[dm_audit_actions]",
                                    "1": "TO  ",
                                    "2": "TAKE OWNERSHIP",
                                    "3": "DATABASE",
                                    "4": "DATABASE_OWNERSHIP_CHANGE_GROUP",
                                    "5": "SERVER",
                                    "6": "DATABASE_OWNERSHIP_CHANGE_GROUP",
                                    "7": "NULL",
                                    "8": "DATABASE_OWNERSHIP_CHANGE_GROUP",
                                    "9": "1"
                                },
                                {
                                    "0": "[dm_audit_actions]",
                                    "1": "TO  ",
                                    "2": "TAKE OWNERSHIP",
                                    "3": "OBJECT",
                                    "4": "NULL",
                                    "5": "DATABASE",
                                    "6": "SCHEMA_OBJECT_OWNERSHIP_CHANGE_GROUP",
                                    "7": "NULL",
                                    "8": "SCHEMA_OBJECT_OWNERSHIP_CHANGE_GROUP",
                                    "9": "1"
                                },
                                {
                                    "0": "[dm_audit_actions]",
                                    "1": "TO  ",
                                    "2": "TAKE OWNERSHIP",
                                    "3": "TYPE",
                                    "4": "NULL",
                                    "5": "DATABASE",
                                    "6": "SCHEMA_OBJECT_OWNERSHIP_CHANGE_GROUP",
                                    "7": "NULL",
                                    "8": "SCHEMA_OBJECT_OWNERSHIP_CHANGE_GROUP",
                                    "9": "1"
                                },
                                {
                                    "0": "[dm_audit_actions]",
                                    "1": "TO  ",
                                    "2": "TAKE OWNERSHIP",
                                    "3": "SCHEMA",
                                    "4": "NULL",
                                    "5": "DATABASE",
                                    "6": "DATABASE_OBJECT_OWNERSHIP_CHANGE_GROUP",
                                    "7": "NULL",
                                    "8": "DATABASE_OBJECT_OWNERSHIP_CHANGE_GROUP",
                                    "9": "1"
                                },
                                {
                                    "0": "[dm_audit_actions]",
                                    "1": "TO  ",
                                    "2": "TAKE OWNERSHIP",
                                    "3": "XML SCHEMA COLLECTION",
                                    "4": "NULL",
                                    "5": "DATABASE",
                                    "6": "SCHEMA_OBJECT_OWNERSHIP_CHANGE_GROUP",
                                    "7": "NULL",
                                    "8": "SCHEMA_OBJECT_OWNERSHIP_CHANGE_GROUP",
                                    "9": "1"
                                },
                                {
                                    "0": "[dm_audit_actions]",
                                    "1": "TO  ",
                                    "2": "TAKE OWNERSHIP",
                                    "3": "ASSEMBLY",
                                    "4": "NULL",
                                    "5": "DATABASE",
                                    "6": "DATABASE_OBJECT_OWNERSHIP_CHANGE_GROUP",
                                    "7": "NULL",
                                    "8": "DATABASE_OBJECT_OWNERSHIP_CHANGE_GROUP",
                                    "9": "1"
                                },
                                {
                                    "0": "[dm_audit_actions]",
                                    "1": "TO  ",
                                    "2": "TAKE OWNERSHIP",
                                    "3": "ROLE",
                                    "4": "NULL",
                                    "5": "DATABASE",
                                    "6": "DATABASE_OBJECT_OWNERSHIP_CHANGE_GROUP",
                                    "7": "NULL",
                                    "8": "DATABASE_OBJECT_OWNERSHIP_CHANGE_GROUP",
                                    "9": "1"
                                },
                                {
                                    "0": "[dm_audit_actions]",
                                    "1": "TO  ",
                                    "2": "TAKE OWNERSHIP",
                                    "3": "MESSAGE TYPE",
                                    "4": "NULL",
                                    "5": "DATABASE",
                                    "6": "DATABASE_OBJECT_OWNERSHIP_CHANGE_GROUP",
                                    "7": "NULL",
                                    "8": "DATABASE_OBJECT_OWNERSHIP_CHANGE_GROUP",
                                    "9": "1"
                                },
                                {
                                    "0": "[dm_audit_actions]",
                                    "1": "TO  ",
                                    "2": "TAKE OWNERSHIP",
                                    "3": "CONTRACT",
                                    "4": "NULL",
                                    "5": "DATABASE",
                                    "6": "DATABASE_OBJECT_OWNERSHIP_CHANGE_GROUP",
                                    "7": "NULL",
                                    "8": "DATABASE_OBJECT_OWNERSHIP_CHANGE_GROUP",
                                    "9": "1"
                                },
                                {
                                    "0": "[dm_audit_actions]",
                                    "1": "TO  ",
                                    "2": "TAKE OWNERSHIP",
                                    "3": "SERVICE",
                                    "4": "NULL",
                                    "5": "DATABASE",
                                    "6": "DATABASE_OBJECT_OWNERSHIP_CHANGE_GROUP",
                                    "7": "NULL",
                                    "8": "DATABASE_OBJECT_OWNERSHIP_CHANGE_GROUP",
                                    "9": "1"
                                },
                                {
                                    "0": "[dm_audit_actions]",
                                    "1": "TO  ",
                                    "2": "TAKE OWNERSHIP",
                                    "3": "REMOTE SERVICE BINDING",
                                    "4": "NULL",
                                    "5": "DATABASE",
                                    "6": "DATABASE_OBJECT_OWNERSHIP_CHANGE_GROUP",
                                    "7": "NULL",
                                    "8": "DATABASE_OBJECT_OWNERSHIP_CHANGE_GROUP",
                                    "9": "1"
                                },
                                {
                                    "0": "[dm_audit_actions]",
                                    "1": "TO  ",
                                    "2": "TAKE OWNERSHIP",
                                    "3": "ROUTE",
                                    "4": "NULL",
                                    "5": "DATABASE",
                                    "6": "DATABASE_OBJECT_OWNERSHIP_CHANGE_GROUP",
                                    "7": "NULL",
                                    "8": "DATABASE_OBJECT_OWNERSHIP_CHANGE_GROUP",
                                    "9": "1"
                                },
                                {
                                    "0": "[dm_audit_actions]",
                                    "1": "TO  ",
                                    "2": "TAKE OWNERSHIP",
                                    "3": "FULLTEXT CATALOG",
                                    "4": "NULL",
                                    "5": "DATABASE",
                                    "6": "DATABASE_OBJECT_OWNERSHIP_CHANGE_GROUP",
                                    "7": "NULL",
                                    "8": "DATABASE_OBJECT_OWNERSHIP_CHANGE_GROUP",
                                    "9": "1"
                                },
                                {
                                    "0": "[dm_audit_actions]",
                                    "1": "TO  ",
                                    "2": "TAKE OWNERSHIP",
                                    "3": "FULLTEXT STOPLIST",
                                    "4": "NULL",
                                    "5": "DATABASE",
                                    "6": "DATABASE_OBJECT_OWNERSHIP_CHANGE_GROUP",
                                    "7": "NULL",
                                    "8": "DATABASE_OBJECT_OWNERSHIP_CHANGE_GROUP",
                                    "9": "1"
                                },
                                {
                                    "0": "[dm_audit_actions]",
                                    "1": "TO  ",
                                    "2": "TAKE OWNERSHIP",
                                    "3": "SEARCH PROPERTY LIST",
                                    "4": "NULL",
                                    "5": "DATABASE",
                                    "6": "DATABASE_OBJECT_OWNERSHIP_CHANGE_GROUP",
                                    "7": "NULL",
                                    "8": "DATABASE_OBJECT_OWNERSHIP_CHANGE_GROUP",
                                    "9": "1"
                                },
                                {
                                    "0": "[dm_audit_actions]",
                                    "1": "TO  ",
                                    "2": "TAKE OWNERSHIP",
                                    "3": "SYMMETRIC KEY",
                                    "4": "NULL",
                                    "5": "DATABASE",
                                    "6": "DATABASE_OBJECT_OWNERSHIP_CHANGE_GROUP",
                                    "7": "NULL",
                                    "8": "DATABASE_OBJECT_OWNERSHIP_CHANGE_GROUP",
                                    "9": "1"
                                },
                                {
                                    "0": "[dm_audit_actions]",
                                    "1": "TO  ",
                                    "2": "TAKE OWNERSHIP",
                                    "3": "CERTIFICATE",
                                    "4": "NULL",
                                    "5": "DATABASE",
                                    "6": "DATABASE_OBJECT_OWNERSHIP_CHANGE_GROUP",
                                    "7": "NULL",
                                    "8": "DATABASE_OBJECT_OWNERSHIP_CHANGE_GROUP",
                                    "9": "1"
                                },
                                {
                                    "0": "[dm_audit_actions]",
                                    "1": "TO  ",
                                    "2": "TAKE OWNERSHIP",
                                    "3": "ASYMMETRIC KEY",
                                    "4": "NULL",
                                    "5": "DATABASE",
                                    "6": "DATABASE_OBJECT_OWNERSHIP_CHANGE_GROUP",
                                    "7": "NULL",
                                    "8": "DATABASE_OBJECT_OWNERSHIP_CHANGE_GROUP",
                                    "9": "1"
                                },
                                {
                                    "0": "[dm_audit_actions]",
                                    "1": "TO  ",
                                    "2": "TAKE OWNERSHIP",
                                    "3": "DATABASE SCOPED CREDENTIAL",
                                    "4": "NULL",
                                    "5": "DATABASE",
                                    "6": "DATABASE_OBJECT_OWNERSHIP_CHANGE_GROUP",
                                    "7": "NULL",
                                    "8": "DATABASE_OBJECT_OWNERSHIP_CHANGE_GROUP",
                                    "9": "1"
                                },
                                {
                                    "0": "[dm_audit_actions]",
                                    "1": "TO  ",
                                    "2": "TAKE OWNERSHIP",
                                    "3": "ENDPOINT",
                                    "4": "NULL",
                                    "5": "SERVER",
                                    "6": "SERVER_OBJECT_OWNERSHIP_CHANGE_GROUP",
                                    "7": "NULL",
                                    "8": "SERVER_OBJECT_OWNERSHIP_CHANGE_GROUP",
                                    "9": "1"
                                },
                                {
                                    "0": "[dm_audit_actions]",
                                    "1": "TO  ",
                                    "2": "TAKE OWNERSHIP",
                                    "3": "AVAILABILITY GROUP",
                                    "4": "NULL",
                                    "5": "SERVER",
                                    "6": "SERVER_OBJECT_OWNERSHIP_CHANGE_GROUP",
                                    "7": "NULL",
                                    "8": "SERVER_OBJECT_OWNERSHIP_CHANGE_GROUP",
                                    "9": "1"
                                },
                                {
                                    "0": "[dm_audit_actions]",
                                    "1": "TO  ",
                                    "2": "TAKE OWNERSHIP",
                                    "3": "SERVER ROLE",
                                    "4": "NULL",
                                    "5": "SERVER",
                                    "6": "SERVER_OBJECT_OWNERSHIP_CHANGE_GROUP",
                                    "7": "NULL",
                                    "8": "SERVER_OBJECT_OWNERSHIP_CHANGE_GROUP",
                                    "9": "1"
                                },
                                {
                                    "0": "[dm_audit_actions]",
                                    "1": "CR  ",
                                    "2": "CREATE",
                                    "3": "DATABASE",
                                    "4": "DATABASE_CHANGE_GROUP",
                                    "5": "SERVER",
                                    "6": "DATABASE_CHANGE_GROUP",
                                    "7": "NULL",
                                    "8": "DATABASE_CHANGE_GROUP",
                                    "9": "1"
                                },
                                {
                                    "0": "[dm_audit_actions]",
                                    "1": "AL  ",
                                    "2": "ALTER",
                                    "3": "DATABASE",
                                    "4": "DATABASE_CHANGE_GROUP",
                                    "5": "SERVER",
                                    "6": "DATABASE_CHANGE_GROUP",
                                    "7": "NULL",
                                    "8": "DATABASE_CHANGE_GROUP",
                                    "9": "1"
                                },
                                {
                                    "0": "[dm_audit_actions]",
                                    "1": "DR  ",
                                    "2": "DROP",
                                    "3": "DATABASE",
                                    "4": "DATABASE_CHANGE_GROUP",
                                    "5": "SERVER",
                                    "6": "DATABASE_CHANGE_GROUP",
                                    "7": "NULL",
                                    "8": "DATABASE_CHANGE_GROUP",
                                    "9": "1"
                                },
                                {
                                    "0": "[dm_audit_actions]",
                                    "1": "BA  ",
                                    "2": "BACKUP",
                                    "3": "DATABASE",
                                    "4": "BACKUP_RESTORE_GROUP",
                                    "5": "SERVER",
                                    "6": "BACKUP_RESTORE_GROUP",
                                    "7": "NULL",
                                    "8": "BACKUP_RESTORE_GROUP",
                                    "9": "1"
                                },
                                {
                                    "0": "[dm_audit_actions]",
                                    "1": "BAL ",
                                    "2": "BACKUP LOG",
                                    "3": "DATABASE",
                                    "4": "BACKUP_RESTORE_GROUP",
                                    "5": "SERVER",
                                    "6": "BACKUP_RESTORE_GROUP",
                                    "7": "NULL",
                                    "8": "BACKUP_RESTORE_GROUP",
                                    "9": "1"
                                },
                                {
                                    "0": "[dm_audit_actions]",
                                    "1": "CP  ",
                                    "2": "CHECKPOINT",
                                    "3": "DATABASE",
                                    "4": "DATABASE_OPERATION_GROUP",
                                    "5": "SERVER",
                                    "6": "DATABASE_OPERATION_GROUP",
                                    "7": "NULL",
                                    "8": "DATABASE_OPERATION_GROUP",
                                    "9": "1"
                                },
                                {
                                    "0": "[dm_audit_actions]",
                                    "1": "SUQN",
                                    "2": "SUBSCRIBE QUERY NOTIFICATION",
                                    "3": "DATABASE",
                                    "4": "DATABASE_OPERATION_GROUP",
                                    "5": "SERVER",
                                    "6": "DATABASE_OPERATION_GROUP",
                                    "7": "NULL",
                                    "8": "DATABASE_OPERATION_GROUP",
                                    "9": "1"
                                },
                                {
                                    "0": "[dm_audit_actions]",
                                    "1": "AUTH",
                                    "2": "AUTHENTICATE",
                                    "3": "DATABASE",
                                    "4": "DATABASE_OPERATION_GROUP",
                                    "5": "SERVER",
                                    "6": "DATABASE_OPERATION_GROUP",
                                    "7": "NULL",
                                    "8": "DATABASE_OPERATION_GROUP",
                                    "9": "1"
                                },
                                {
                                    "0": "[dm_audit_actions]",
                                    "1": "SPLN",
                                    "2": "SHOW PLAN",
                                    "3": "DATABASE",
                                    "4": "DATABASE_OPERATION_GROUP",
                                    "5": "SERVER",
                                    "6": "DATABASE_OPERATION_GROUP",
                                    "7": "NULL",
                                    "8": "DATABASE_OPERATION_GROUP",
                                    "9": "1"
                                },
                                {
                                    "0": "[dm_audit_actions]",
                                    "1": "CR  ",
                                    "2": "CREATE",
                                    "3": "EVENT NOTIFICATION DATABASE",
                                    "4": "NULL",
                                    "5": "DATABASE",
                                    "6": "DATABASE_OBJECT_CHANGE_GROUP",
                                    "7": "NULL",
                                    "8": "DATABASE_OBJECT_CHANGE_GROUP",
                                    "9": "1"
                                },
                                {
                                    "0": "[dm_audit_actions]",
                                    "1": "CR  ",
                                    "2": "CREATE",
                                    "3": "EVENT NOTIFICATION OBJECT",
                                    "4": "NULL",
                                    "5": "DATABASE",
                                    "6": "DATABASE_OBJECT_CHANGE_GROUP",
                                    "7": "NULL",
                                    "8": "DATABASE_OBJECT_CHANGE_GROUP",
                                    "9": "1"
                                },
                                {
                                    "0": "[dm_audit_actions]",
                                    "1": "AL  ",
                                    "2": "ALTER",
                                    "3": "EVENT NOTIFICATION DATABASE",
                                    "4": "NULL",
                                    "5": "DATABASE",
                                    "6": "DATABASE_OBJECT_CHANGE_GROUP",
                                    "7": "NULL",
                                    "8": "DATABASE_OBJECT_CHANGE_GROUP",
                                    "9": "1"
                                },
                                {
                                    "0": "[dm_audit_actions]",
                                    "1": "DR  ",
                                    "2": "DROP",
                                    "3": "EVENT NOTIFICATION DATABASE",
                                    "4": "NULL",
                                    "5": "DATABASE",
                                    "6": "DATABASE_OBJECT_CHANGE_GROUP",
                                    "7": "NULL",
                                    "8": "DATABASE_OBJECT_CHANGE_GROUP",
                                    "9": "1"
                                },
                                {
                                    "0": "[dm_audit_actions]",
                                    "1": "AL  ",
                                    "2": "ALTER",
                                    "3": "EVENT NOTIFICATION OBJECT",
                                    "4": "NULL",
                                    "5": "DATABASE",
                                    "6": "DATABASE_OBJECT_CHANGE_GROUP",
                                    "7": "NULL",
                                    "8": "DATABASE_OBJECT_CHANGE_GROUP",
                                    "9": "1"
                                },
                                {
                                    "0": "[dm_audit_actions]",
                                    "1": "DR  ",
                                    "2": "DROP",
                                    "3": "EVENT NOTIFICATION OBJECT",
                                    "4": "NULL",
                                    "5": "DATABASE",
                                    "6": "DATABASE_OBJECT_CHANGE_GROUP",
                                    "7": "NULL",
                                    "8": "DATABASE_OBJECT_CHANGE_GROUP",
                                    "9": "1"
                                },
                                {
                                    "0": "[dm_audit_actions]",
                                    "1": "CR  ",
                                    "2": "CREATE",
                                    "3": "TRIGGER DATABASE",
                                    "4": "NULL",
                                    "5": "DATABASE",
                                    "6": "DATABASE_OBJECT_CHANGE_GROUP",
                                    "7": "NULL",
                                    "8": "DATABASE_OBJECT_CHANGE_GROUP",
                                    "9": "1"
                                },
                                {
                                    "0": "[dm_audit_actions]",
                                    "1": "AL  ",
                                    "2": "ALTER",
                                    "3": "TRIGGER DATABASE",
                                    "4": "NULL",
                                    "5": "DATABASE",
                                    "6": "DATABASE_OBJECT_CHANGE_GROUP",
                                    "7": "NULL",
                                    "8": "DATABASE_OBJECT_CHANGE_GROUP",
                                    "9": "1"
                                },
                                {
                                    "0": "[dm_audit_actions]",
                                    "1": "DR  ",
                                    "2": "DROP",
                                    "3": "TRIGGER DATABASE",
                                    "4": "NULL",
                                    "5": "DATABASE",
                                    "6": "DATABASE_OBJECT_CHANGE_GROUP",
                                    "7": "NULL",
                                    "8": "DATABASE_OBJECT_CHANGE_GROUP",
                                    "9": "1"
                                },
                                {
                                    "0": "[dm_audit_actions]",
                                    "1": "CR  ",
                                    "2": "CREATE",
                                    "3": "OBJECT",
                                    "4": "NULL",
                                    "5": "DATABASE",
                                    "6": "SCHEMA_OBJECT_CHANGE_GROUP",
                                    "7": "NULL",
                                    "8": "SCHEMA_OBJECT_CHANGE_GROUP",
                                    "9": "1"
                                },
                                {
                                    "0": "[dm_audit_actions]",
                                    "1": "AL  ",
                                    "2": "ALTER",
                                    "3": "OBJECT",
                                    "4": "NULL",
                                    "5": "DATABASE",
                                    "6": "SCHEMA_OBJECT_CHANGE_GROUP",
                                    "7": "NULL",
                                    "8": "SCHEMA_OBJECT_CHANGE_GROUP",
                                    "9": "1"
                                },
                                {
                                    "0": "[dm_audit_actions]",
                                    "1": "DR  ",
                                    "2": "DROP",
                                    "3": "OBJECT",
                                    "4": "NULL",
                                    "5": "DATABASE",
                                    "6": "SCHEMA_OBJECT_CHANGE_GROUP",
                                    "7": "NULL",
                                    "8": "SCHEMA_OBJECT_CHANGE_GROUP",
                                    "9": "1"
                                },
                                {
                                    "0": "[dm_audit_actions]",
                                    "1": "TRO ",
                                    "2": "TRANSFER",
                                    "3": "OBJECT",
                                    "4": "NULL",
                                    "5": "DATABASE",
                                    "6": "SCHEMA_OBJECT_CHANGE_GROUP",
                                    "7": "NULL",
                                    "8": "SCHEMA_OBJECT_CHANGE_GROUP",
                                    "9": "1"
                                },
                                {
                                    "0": "[dm_audit_actions]",
                                    "1": "CR  ",
                                    "2": "CREATE",
                                    "3": "PARTITION FUNCTION",
                                    "4": "NULL",
                                    "5": "DATABASE",
                                    "6": "DATABASE_OBJECT_CHANGE_GROUP",
                                    "7": "NULL",
                                    "8": "DATABASE_OBJECT_CHANGE_GROUP",
                                    "9": "1"
                                },
                                {
                                    "0": "[dm_audit_actions]",
                                    "1": "AL  ",
                                    "2": "ALTER",
                                    "3": "PARTITION FUNCTION",
                                    "4": "NULL",
                                    "5": "DATABASE",
                                    "6": "DATABASE_OBJECT_CHANGE_GROUP",
                                    "7": "NULL",
                                    "8": "DATABASE_OBJECT_CHANGE_GROUP",
                                    "9": "1"
                                },
                                {
                                    "0": "[dm_audit_actions]",
                                    "1": "DR  ",
                                    "2": "DROP",
                                    "3": "PARTITION FUNCTION",
                                    "4": "NULL",
                                    "5": "DATABASE",
                                    "6": "DATABASE_OBJECT_CHANGE_GROUP",
                                    "7": "NULL",
                                    "8": "DATABASE_OBJECT_CHANGE_GROUP",
                                    "9": "1"
                                },
                                {
                                    "0": "[dm_audit_actions]",
                                    "1": "CR  ",
                                    "2": "CREATE",
                                    "3": "PARTITION SCHEME",
                                    "4": "NULL",
                                    "5": "DATABASE",
                                    "6": "DATABASE_OBJECT_CHANGE_GROUP",
                                    "7": "NULL",
                                    "8": "DATABASE_OBJECT_CHANGE_GROUP",
                                    "9": "1"
                                },
                                {
                                    "0": "[dm_audit_actions]",
                                    "1": "AL  ",
                                    "2": "ALTER",
                                    "3": "PARTITION SCHEME",
                                    "4": "NULL",
                                    "5": "DATABASE",
                                    "6": "DATABASE_OBJECT_CHANGE_GROUP",
                                    "7": "NULL",
                                    "8": "DATABASE_OBJECT_CHANGE_GROUP",
                                    "9": "1"
                                },
                                {
                                    "0": "[dm_audit_actions]",
                                    "1": "DR  ",
                                    "2": "DROP",
                                    "3": "PARTITION SCHEME",
                                    "4": "NULL",
                                    "5": "DATABASE",
                                    "6": "DATABASE_OBJECT_CHANGE_GROUP",
                                    "7": "NULL",
                                    "8": "DATABASE_OBJECT_CHANGE_GROUP",
                                    "9": "1"
                                },
                                {
                                    "0": "[dm_audit_actions]",
                                    "1": "CR  ",
                                    "2": "CREATE",
                                    "3": "TYPE",
                                    "4": "NULL",
                                    "5": "DATABASE",
                                    "6": "SCHEMA_OBJECT_CHANGE_GROUP",
                                    "7": "NULL",
                                    "8": "SCHEMA_OBJECT_CHANGE_GROUP",
                                    "9": "1"
                                },
                                {
                                    "0": "[dm_audit_actions]",
                                    "1": "DR  ",
                                    "2": "DROP",
                                    "3": "TYPE",
                                    "4": "NULL",
                                    "5": "DATABASE",
                                    "6": "SCHEMA_OBJECT_CHANGE_GROUP",
                                    "7": "NULL",
                                    "8": "SCHEMA_OBJECT_CHANGE_GROUP",
                                    "9": "1"
                                },
                                {
                                    "0": "[dm_audit_actions]",
                                    "1": "TRO ",
                                    "2": "TRANSFER",
                                    "3": "TYPE",
                                    "4": "NULL",
                                    "5": "DATABASE",
                                    "6": "SCHEMA_OBJECT_CHANGE_GROUP",
                                    "7": "NULL",
                                    "8": "SCHEMA_OBJECT_CHANGE_GROUP",
                                    "9": "1"
                                },
                                {
                                    "0": "[dm_audit_actions]",
                                    "1": "CR  ",
                                    "2": "CREATE",
                                    "3": "SCHEMA",
                                    "4": "NULL",
                                    "5": "DATABASE",
                                    "6": "DATABASE_OBJECT_CHANGE_GROUP",
                                    "7": "NULL",
                                    "8": "DATABASE_OBJECT_CHANGE_GROUP",
                                    "9": "1"
                                },
                                {
                                    "0": "[dm_audit_actions]",
                                    "1": "AL  ",
                                    "2": "ALTER",
                                    "3": "SCHEMA",
                                    "4": "NULL",
                                    "5": "DATABASE",
                                    "6": "DATABASE_OBJECT_CHANGE_GROUP",
                                    "7": "NULL",
                                    "8": "DATABASE_OBJECT_CHANGE_GROUP",
                                    "9": "1"
                                },
                                {
                                    "0": "[dm_audit_actions]",
                                    "1": "DR  ",
                                    "2": "DROP",
                                    "3": "SCHEMA",
                                    "4": "NULL",
                                    "5": "DATABASE",
                                    "6": "DATABASE_OBJECT_CHANGE_GROUP",
                                    "7": "NULL",
                                    "8": "DATABASE_OBJECT_CHANGE_GROUP",
                                    "9": "1"
                                },
                                {
                                    "0": "[dm_audit_actions]",
                                    "1": "CR  ",
                                    "2": "CREATE",
                                    "3": "XML SCHEMA COLLECTION",
                                    "4": "NULL",
                                    "5": "DATABASE",
                                    "6": "SCHEMA_OBJECT_CHANGE_GROUP",
                                    "7": "NULL",
                                    "8": "SCHEMA_OBJECT_CHANGE_GROUP",
                                    "9": "1"
                                },
                                {
                                    "0": "[dm_audit_actions]",
                                    "1": "AL  ",
                                    "2": "ALTER",
                                    "3": "XML SCHEMA COLLECTION",
                                    "4": "NULL",
                                    "5": "DATABASE",
                                    "6": "SCHEMA_OBJECT_CHANGE_GROUP",
                                    "7": "NULL",
                                    "8": "SCHEMA_OBJECT_CHANGE_GROUP",
                                    "9": "1"
                                },
                                {
                                    "0": "[dm_audit_actions]",
                                    "1": "DR  ",
                                    "2": "DROP",
                                    "3": "XML SCHEMA COLLECTION",
                                    "4": "NULL",
                                    "5": "DATABASE",
                                    "6": "SCHEMA_OBJECT_CHANGE_GROUP",
                                    "7": "NULL",
                                    "8": "SCHEMA_OBJECT_CHANGE_GROUP",
                                    "9": "1"
                                },
                                {
                                    "0": "[dm_audit_actions]",
                                    "1": "TRO ",
                                    "2": "TRANSFER",
                                    "3": "XML SCHEMA COLLECTION",
                                    "4": "NULL",
                                    "5": "DATABASE",
                                    "6": "SCHEMA_OBJECT_CHANGE_GROUP",
                                    "7": "NULL",
                                    "8": "SCHEMA_OBJECT_CHANGE_GROUP",
                                    "9": "1"
                                },
                                {
                                    "0": "[dm_audit_actions]",
                                    "1": "CR  ",
                                    "2": "CREATE",
                                    "3": "ASSEMBLY",
                                    "4": "NULL",
                                    "5": "DATABASE",
                                    "6": "DATABASE_OBJECT_CHANGE_GROUP",
                                    "7": "NULL",
                                    "8": "DATABASE_OBJECT_CHANGE_GROUP",
                                    "9": "1"
                                },
                                {
                                    "0": "[dm_audit_actions]",
                                    "1": "AL  ",
                                    "2": "ALTER",
                                    "3": "ASSEMBLY",
                                    "4": "NULL",
                                    "5": "DATABASE",
                                    "6": "DATABASE_OBJECT_CHANGE_GROUP",
                                    "7": "NULL",
                                    "8": "DATABASE_OBJECT_CHANGE_GROUP",
                                    "9": "1"
                                },
                                {
                                    "0": "[dm_audit_actions]",
                                    "1": "DR  ",
                                    "2": "DROP",
                                    "3": "ASSEMBLY",
                                    "4": "NULL",
                                    "5": "DATABASE",
                                    "6": "DATABASE_OBJECT_CHANGE_GROUP",
                                    "7": "NULL",
                                    "8": "DATABASE_OBJECT_CHANGE_GROUP",
                                    "9": "1"
                                },
                                {
                                    "0": "[dm_audit_actions]",
                                    "1": "CR  ",
                                    "2": "CREATE",
                                    "3": "USER",
                                    "4": "NULL",
                                    "5": "DATABASE",
                                    "6": "DATABASE_PRINCIPAL_CHANGE_GROUP",
                                    "7": "NULL",
                                    "8": "DATABASE_PRINCIPAL_CHANGE_GROUP",
                                    "9": "1"
                                },
                                {
                                    "0": "[dm_audit_actions]",
                                    "1": "AL  ",
                                    "2": "ALTER",
                                    "3": "USER",
                                    "4": "NULL",
                                    "5": "DATABASE",
                                    "6": "DATABASE_PRINCIPAL_CHANGE_GROUP",
                                    "7": "NULL",
                                    "8": "DATABASE_PRINCIPAL_CHANGE_GROUP",
                                    "9": "1"
                                },
                                {
                                    "0": "[dm_audit_actions]",
                                    "1": "PWR ",
                                    "2": "RESET PASSWORD",
                                    "3": "USER",
                                    "4": "NULL",
                                    "5": "DATABASE",
                                    "6": "USER_CHANGE_PASSWORD_GROUP",
                                    "7": "NULL",
                                    "8": "USER_CHANGE_PASSWORD_GROUP",
                                    "9": "1"
                                },
                                {
                                    "0": "[dm_audit_actions]",
                                    "1": "PWRS",
                                    "2": "RESET OWN PASSWORD",
                                    "3": "USER",
                                    "4": "NULL",
                                    "5": "DATABASE",
                                    "6": "USER_CHANGE_PASSWORD_GROUP",
                                    "7": "NULL",
                                    "8": "USER_CHANGE_PASSWORD_GROUP",
                                    "9": "1"
                                },
                                {
                                    "0": "[dm_audit_actions]",
                                    "1": "PWCS",
                                    "2": "CHANGE OWN PASSWORD",
                                    "3": "USER",
                                    "4": "NULL",
                                    "5": "DATABASE",
                                    "6": "USER_CHANGE_PASSWORD_GROUP",
                                    "7": "NULL",
                                    "8": "USER_CHANGE_PASSWORD_GROUP",
                                    "9": "1"
                                },
                                {
                                    "0": "[dm_audit_actions]",
                                    "1": "PWC ",
                                    "2": "CHANGE PASSWORD",
                                    "3": "USER",
                                    "4": "NULL",
                                    "5": "DATABASE",
                                    "6": "USER_CHANGE_PASSWORD_GROUP",
                                    "7": "NULL",
                                    "8": "USER_CHANGE_PASSWORD_GROUP",
                                    "9": "1"
                                },
                                {
                                    "0": "[dm_audit_actions]",
                                    "1": "DR  ",
                                    "2": "DROP",
                                    "3": "USER",
                                    "4": "NULL",
                                    "5": "DATABASE",
                                    "6": "DATABASE_PRINCIPAL_CHANGE_GROUP",
                                    "7": "NULL",
                                    "8": "DATABASE_PRINCIPAL_CHANGE_GROUP",
                                    "9": "1"
                                },
                                {
                                    "0": "[dm_audit_actions]",
                                    "1": "DBAS",
                                    "2": "DATABASE AUTHENTICATION SUCCEEDED",
                                    "3": "DATABASE",
                                    "4": "SUCCESSFUL_DATABASE_AUTHENTICATION_GROUP",
                                    "5": "SERVER",
                                    "6": "SUCCESSFUL_DATABASE_AUTHENTICATION_GROUP",
                                    "7": "NULL",
                                    "8": "SUCCESSFUL_DATABASE_AUTHENTICATION_GROUP",
                                    "9": "1"
                                },
                                {
                                    "0": "[dm_audit_actions]",
                                    "1": "DBAF",
                                    "2": "DATABASE AUTHENTICATION FAILED",
                                    "3": "DATABASE",
                                    "4": "FAILED_DATABASE_AUTHENTICATION_GROUP",
                                    "5": "SERVER",
                                    "6": "FAILED_DATABASE_AUTHENTICATION_GROUP",
                                    "7": "NULL",
                                    "8": "FAILED_DATABASE_AUTHENTICATION_GROUP",
                                    "9": "1"
                                },
                                {
                                    "0": "[dm_audit_actions]",
                                    "1": "DBL ",
                                    "2": "DATABASE LOGOUT",
                                    "3": "DATABASE",
                                    "4": "DATABASE_LOGOUT_GROUP",
                                    "5": "SERVER",
                                    "6": "DATABASE_LOGOUT_GROUP",
                                    "7": "NULL",
                                    "8": "DATABASE_LOGOUT_GROUP",
                                    "9": "1"
                                },
                                {
                                    "0": "[dm_audit_actions]",
                                    "1": "BST ",
                                    "2": "BATCH STARTED",
                                    "3": "DATABASE",
                                    "4": "BATCH_STARTED_GROUP",
                                    "5": "SERVER",
                                    "6": "BATCH_STARTED_GROUP",
                                    "7": "NULL",
                                    "8": "BATCH_STARTED_GROUP",
                                    "9": "1"
                                },
                                {
                                    "0": "[dm_audit_actions]",
                                    "1": "BCM ",
                                    "2": "BATCH COMPLETED",
                                    "3": "DATABASE",
                                    "4": "BATCH_COMPLETED_GROUP",
                                    "5": "SERVER",
                                    "6": "BATCH_COMPLETED_GROUP",
                                    "7": "NULL",
                                    "8": "BATCH_COMPLETED_GROUP",
                                    "9": "1"
                                },
                                {
                                    "0": "[dm_audit_actions]",
                                    "1": "RST ",
                                    "2": "RPC STARTED",
                                    "3": "DATABASE",
                                    "4": "BATCH_STARTED_GROUP",
                                    "5": "SERVER",
                                    "6": "BATCH_STARTED_GROUP",
                                    "7": "NULL",
                                    "8": "BATCH_STARTED_GROUP",
                                    "9": "1"
                                },
                                {
                                    "0": "[dm_audit_actions]",
                                    "1": "RCM ",
                                    "2": "RPC COMPLETED",
                                    "3": "DATABASE",
                                    "4": "BATCH_COMPLETED_GROUP",
                                    "5": "SERVER",
                                    "6": "BATCH_COMPLETED_GROUP",
                                    "7": "NULL",
                                    "8": "BATCH_COMPLETED_GROUP",
                                    "9": "1"
                                },
                                {
                                    "0": "[dm_audit_actions]",
                                    "1": "TXBG",
                                    "2": "TRANSACTION BEGIN",
                                    "3": "DATABASE",
                                    "4": "TRANSACTION_BEGIN_GROUP",
                                    "5": "SERVER",
                                    "6": "TRANSACTION_BEGIN_GROUP",
                                    "7": "NULL",
                                    "8": "TRANSACTION_BEGIN_GROUP",
                                    "9": "1"
                                },
                                {
                                    "0": "[dm_audit_actions]",
                                    "1": "TXCM",
                                    "2": "TRANSACTION COMMIT",
                                    "3": "DATABASE",
                                    "4": "TRANSACTION_COMMIT_GROUP",
                                    "5": "SERVER",
                                    "6": "TRANSACTION_COMMIT_GROUP",
                                    "7": "NULL",
                                    "8": "TRANSACTION_COMMIT_GROUP",
                                    "9": "1"
                                },
                                {
                                    "0": "[dm_audit_actions]",
                                    "1": "TXRB",
                                    "2": "TRANSACTION ROLLBACK",
                                    "3": "DATABASE",
                                    "4": "TRANSACTION_ROLLBACK_GROUP",
                                    "5": "SERVER",
                                    "6": "TRANSACTION_ROLLBACK_GROUP",
                                    "7": "NULL",
                                    "8": "TRANSACTION_ROLLBACK_GROUP",
                                    "9": "1"
                                },
                                {
                                    "0": "[dm_audit_actions]",
                                    "1": "UNDO",
                                    "2": "STATEMENT ROLLBACK",
                                    "3": "DATABASE",
                                    "4": "STATEMENT_ROLLBACK_GROUP",
                                    "5": "SERVER",
                                    "6": "STATEMENT_ROLLBACK_GROUP",
                                    "7": "NULL",
                                    "8": "STATEMENT_ROLLBACK_GROUP",
                                    "9": "1"
                                },
                                {
                                    "0": "[dm_audit_actions]",
                                    "1": "TRBS",
                                    "2": "TRANSACTION BEGIN STARTING",
                                    "3": "DATABASE",
                                    "4": "BATCH_STARTED_GROUP",
                                    "5": "SERVER",
                                    "6": "BATCH_STARTED_GROUP",
                                    "7": "NULL",
                                    "8": "BATCH_STARTED_GROUP",
                                    "9": "1"
                                },
                                {
                                    "0": "[dm_audit_actions]",
                                    "1": "TRCS",
                                    "2": "TRANSACTION COMMIT STARTING",
                                    "3": "DATABASE",
                                    "4": "BATCH_STARTED_GROUP",
                                    "5": "SERVER",
                                    "6": "BATCH_STARTED_GROUP",
                                    "7": "NULL",
                                    "8": "BATCH_STARTED_GROUP",
                                    "9": "1"
                                },
                                {
                                    "0": "[dm_audit_actions]",
                                    "1": "TRRS",
                                    "2": "TRANSACTION ROLLBACK STARTING",
                                    "3": "DATABASE",
                                    "4": "BATCH_STARTED_GROUP",
                                    "5": "SERVER",
                                    "6": "BATCH_STARTED_GROUP",
                                    "7": "NULL",
                                    "8": "BATCH_STARTED_GROUP",
                                    "9": "1"
                                },
                                {
                                    "0": "[dm_audit_actions]",
                                    "1": "TRSS",
                                    "2": "TRANSACTION SAVEPOINT STARTING",
                                    "3": "DATABASE",
                                    "4": "BATCH_STARTED_GROUP",
                                    "5": "SERVER",
                                    "6": "BATCH_STARTED_GROUP",
                                    "7": "NULL",
                                    "8": "BATCH_STARTED_GROUP",
                                    "9": "1"
                                },
                                {
                                    "0": "[dm_audit_actions]",
                                    "1": "TRPS",
                                    "2": "TRANSACTION PROMOTE STARTING",
                                    "3": "DATABASE",
                                    "4": "BATCH_STARTED_GROUP",
                                    "5": "SERVER",
                                    "6": "BATCH_STARTED_GROUP",
                                    "7": "NULL",
                                    "8": "BATCH_STARTED_GROUP",
                                    "9": "1"
                                },
                                {
                                    "0": "[dm_audit_actions]",
                                    "1": "TRGS",
                                    "2": "TRANSACTION PROPAGATE STARTING",
                                    "3": "DATABASE",
                                    "4": "BATCH_STARTED_GROUP",
                                    "5": "SERVER",
                                    "6": "BATCH_STARTED_GROUP",
                                    "7": "NULL",
                                    "8": "BATCH_STARTED_GROUP",
                                    "9": "1"
                                },
                                {
                                    "0": "[dm_audit_actions]",
                                    "1": "TRBC",
                                    "2": "TRANSACTION BEGIN COMPLETED",
                                    "3": "DATABASE",
                                    "4": "BATCH_COMPLETED_GROUP",
                                    "5": "SERVER",
                                    "6": "BATCH_COMPLETED_GROUP",
                                    "7": "NULL",
                                    "8": "BATCH_COMPLETED_GROUP",
                                    "9": "1"
                                },
                                {
                                    "0": "[dm_audit_actions]",
                                    "1": "TRCC",
                                    "2": "TRANSACTION COMMIT COMPLETED",
                                    "3": "DATABASE",
                                    "4": "BATCH_COMPLETED_GROUP",
                                    "5": "SERVER",
                                    "6": "BATCH_COMPLETED_GROUP",
                                    "7": "NULL",
                                    "8": "BATCH_COMPLETED_GROUP",
                                    "9": "1"
                                },
                                {
                                    "0": "[dm_audit_actions]",
                                    "1": "TRRC",
                                    "2": "TRANSACTION ROLLBACK COMPLETED",
                                    "3": "DATABASE",
                                    "4": "BATCH_COMPLETED_GROUP",
                                    "5": "SERVER",
                                    "6": "BATCH_COMPLETED_GROUP",
                                    "7": "NULL",
                                    "8": "BATCH_COMPLETED_GROUP",
                                    "9": "1"
                                },
                                {
                                    "0": "[dm_audit_actions]",
                                    "1": "TRSC",
                                    "2": "TRANSACTION SAVEPOINT COMPLETED",
                                    "3": "DATABASE",
                                    "4": "BATCH_COMPLETED_GROUP",
                                    "5": "SERVER",
                                    "6": "BATCH_COMPLETED_GROUP",
                                    "7": "NULL",
                                    "8": "BATCH_COMPLETED_GROUP",
                                    "9": "1"
                                },
                                {
                                    "0": "[dm_audit_actions]",
                                    "1": "TRPC",
                                    "2": "TRANSACTION PROMOTE COMPLETED",
                                    "3": "DATABASE",
                                    "4": "BATCH_COMPLETED_GROUP",
                                    "5": "SERVER",
                                    "6": "BATCH_COMPLETED_GROUP",
                                    "7": "NULL",
                                    "8": "BATCH_COMPLETED_GROUP",
                                    "9": "1"
                                },
                                {
                                    "0": "[dm_audit_actions]",
                                    "1": "TRGC",
                                    "2": "TRANSACTION PROPAGATE COMPLETED",
                                    "3": "DATABASE",
                                    "4": "BATCH_COMPLETED_GROUP",
                                    "5": "SERVER",
                                    "6": "BATCH_COMPLETED_GROUP",
                                    "7": "NULL",
                                    "8": "BATCH_COMPLETED_GROUP",
                                    "9": "1"
                                },
                                {
                                    "0": "[dm_audit_actions]",
                                    "1": "CR  ",
                                    "2": "CREATE",
                                    "3": "ROLE",
                                    "4": "NULL",
                                    "5": "DATABASE",
                                    "6": "DATABASE_PRINCIPAL_CHANGE_GROUP",
                                    "7": "NULL",
                                    "8": "DATABASE_PRINCIPAL_CHANGE_GROUP",
                                    "9": "1"
                                },
                                {
                                    "0": "[dm_audit_actions]",
                                    "1": "AL  ",
                                    "2": "ALTER",
                                    "3": "ROLE",
                                    "4": "NULL",
                                    "5": "DATABASE",
                                    "6": "DATABASE_PRINCIPAL_CHANGE_GROUP",
                                    "7": "NULL",
                                    "8": "DATABASE_PRINCIPAL_CHANGE_GROUP",
                                    "9": "1"
                                },
                                {
                                    "0": "[dm_audit_actions]",
                                    "1": "DR  ",
                                    "2": "DROP",
                                    "3": "ROLE",
                                    "4": "NULL",
                                    "5": "DATABASE",
                                    "6": "DATABASE_PRINCIPAL_CHANGE_GROUP",
                                    "7": "NULL",
                                    "8": "DATABASE_PRINCIPAL_CHANGE_GROUP",
                                    "9": "1"
                                },
                                {
                                    "0": "[dm_audit_actions]",
                                    "1": "CR  ",
                                    "2": "CREATE",
                                    "3": "APPLICATION ROLE",
                                    "4": "NULL",
                                    "5": "DATABASE",
                                    "6": "DATABASE_PRINCIPAL_CHANGE_GROUP",
                                    "7": "NULL",
                                    "8": "DATABASE_PRINCIPAL_CHANGE_GROUP",
                                    "9": "1"
                                },
                                {
                                    "0": "[dm_audit_actions]",
                                    "1": "AL  ",
                                    "2": "ALTER",
                                    "3": "APPLICATION ROLE",
                                    "4": "NULL",
                                    "5": "DATABASE",
                                    "6": "DATABASE_PRINCIPAL_CHANGE_GROUP",
                                    "7": "NULL",
                                    "8": "DATABASE_PRINCIPAL_CHANGE_GROUP",
                                    "9": "1"
                                },
                                {
                                    "0": "[dm_audit_actions]",
                                    "1": "PWC ",
                                    "2": "CHANGE PASSWORD",
                                    "3": "APPLICATION ROLE",
                                    "4": "NULL",
                                    "5": "DATABASE",
                                    "6": "APPLICATION_ROLE_CHANGE_PASSWORD_GROUP",
                                    "7": "NULL",
                                    "8": "APPLICATION_ROLE_CHANGE_PASSWORD_GROUP",
                                    "9": "1"
                                },
                                {
                                    "0": "[dm_audit_actions]",
                                    "1": "DR  ",
                                    "2": "DROP",
                                    "3": "APPLICATION ROLE",
                                    "4": "NULL",
                                    "5": "DATABASE",
                                    "6": "DATABASE_PRINCIPAL_CHANGE_GROUP",
                                    "7": "NULL",
                                    "8": "DATABASE_PRINCIPAL_CHANGE_GROUP",
                                    "9": "1"
                                },
                                {
                                    "0": "[dm_audit_actions]",
                                    "1": "CR  ",
                                    "2": "CREATE",
                                    "3": "MESSAGE TYPE",
                                    "4": "NULL",
                                    "5": "DATABASE",
                                    "6": "DATABASE_OBJECT_CHANGE_GROUP",
                                    "7": "NULL",
                                    "8": "DATABASE_OBJECT_CHANGE_GROUP",
                                    "9": "1"
                                },
                                {
                                    "0": "[dm_audit_actions]",
                                    "1": "AL  ",
                                    "2": "ALTER",
                                    "3": "MESSAGE TYPE",
                                    "4": "NULL",
                                    "5": "DATABASE",
                                    "6": "DATABASE_OBJECT_CHANGE_GROUP",
                                    "7": "NULL",
                                    "8": "DATABASE_OBJECT_CHANGE_GROUP",
                                    "9": "1"
                                },
                                {
                                    "0": "[dm_audit_actions]",
                                    "1": "DR  ",
                                    "2": "DROP",
                                    "3": "MESSAGE TYPE",
                                    "4": "NULL",
                                    "5": "DATABASE",
                                    "6": "DATABASE_OBJECT_CHANGE_GROUP",
                                    "7": "NULL",
                                    "8": "DATABASE_OBJECT_CHANGE_GROUP",
                                    "9": "1"
                                },
                                {
                                    "0": "[dm_audit_actions]",
                                    "1": "CR  ",
                                    "2": "CREATE",
                                    "3": "CONTRACT",
                                    "4": "NULL",
                                    "5": "DATABASE",
                                    "6": "DATABASE_OBJECT_CHANGE_GROUP",
                                    "7": "NULL",
                                    "8": "DATABASE_OBJECT_CHANGE_GROUP",
                                    "9": "1"
                                },
                                {
                                    "0": "[dm_audit_actions]",
                                    "1": "DR  ",
                                    "2": "DROP",
                                    "3": "CONTRACT",
                                    "4": "NULL",
                                    "5": "DATABASE",
                                    "6": "DATABASE_OBJECT_CHANGE_GROUP",
                                    "7": "NULL",
                                    "8": "DATABASE_OBJECT_CHANGE_GROUP",
                                    "9": "1"
                                },
                                {
                                    "0": "[dm_audit_actions]",
                                    "1": "CR  ",
                                    "2": "CREATE",
                                    "3": "SERVICE",
                                    "4": "NULL",
                                    "5": "DATABASE",
                                    "6": "DATABASE_OBJECT_CHANGE_GROUP",
                                    "7": "NULL",
                                    "8": "DATABASE_OBJECT_CHANGE_GROUP",
                                    "9": "1"
                                },
                                {
                                    "0": "[dm_audit_actions]",
                                    "1": "AL  ",
                                    "2": "ALTER",
                                    "3": "SERVICE",
                                    "4": "NULL",
                                    "5": "DATABASE",
                                    "6": "DATABASE_OBJECT_CHANGE_GROUP",
                                    "7": "NULL",
                                    "8": "DATABASE_OBJECT_CHANGE_GROUP",
                                    "9": "1"
                                },
                                {
                                    "0": "[dm_audit_actions]",
                                    "1": "DR  ",
                                    "2": "DROP",
                                    "3": "SERVICE",
                                    "4": "NULL",
                                    "5": "DATABASE",
                                    "6": "DATABASE_OBJECT_CHANGE_GROUP",
                                    "7": "NULL",
                                    "8": "DATABASE_OBJECT_CHANGE_GROUP",
                                    "9": "1"
                                },
                                {
                                    "0": "[dm_audit_actions]",
                                    "1": "CR  ",
                                    "2": "CREATE",
                                    "3": "REMOTE SERVICE BINDING",
                                    "4": "NULL",
                                    "5": "DATABASE",
                                    "6": "DATABASE_OBJECT_CHANGE_GROUP",
                                    "7": "NULL",
                                    "8": "DATABASE_OBJECT_CHANGE_GROUP",
                                    "9": "1"
                                },
                                {
                                    "0": "[dm_audit_actions]",
                                    "1": "AL  ",
                                    "2": "ALTER",
                                    "3": "REMOTE SERVICE BINDING",
                                    "4": "NULL",
                                    "5": "DATABASE",
                                    "6": "DATABASE_OBJECT_CHANGE_GROUP",
                                    "7": "NULL",
                                    "8": "DATABASE_OBJECT_CHANGE_GROUP",
                                    "9": "1"
                                },
                                {
                                    "0": "[dm_audit_actions]",
                                    "1": "DR  ",
                                    "2": "DROP",
                                    "3": "REMOTE SERVICE BINDING",
                                    "4": "NULL",
                                    "5": "DATABASE",
                                    "6": "DATABASE_OBJECT_CHANGE_GROUP",
                                    "7": "NULL",
                                    "8": "DATABASE_OBJECT_CHANGE_GROUP",
                                    "9": "1"
                                },
                                {
                                    "0": "[dm_audit_actions]",
                                    "1": "CR  ",
                                    "2": "CREATE",
                                    "3": "ROUTE",
                                    "4": "NULL",
                                    "5": "DATABASE",
                                    "6": "DATABASE_OBJECT_CHANGE_GROUP",
                                    "7": "NULL",
                                    "8": "DATABASE_OBJECT_CHANGE_GROUP",
                                    "9": "1"
                                },
                                {
                                    "0": "[dm_audit_actions]",
                                    "1": "AL  ",
                                    "2": "ALTER",
                                    "3": "ROUTE",
                                    "4": "NULL",
                                    "5": "DATABASE",
                                    "6": "DATABASE_OBJECT_CHANGE_GROUP",
                                    "7": "NULL",
                                    "8": "DATABASE_OBJECT_CHANGE_GROUP",
                                    "9": "1"
                                },
                                {
                                    "0": "[dm_audit_actions]",
                                    "1": "DR  ",
                                    "2": "DROP",
                                    "3": "ROUTE",
                                    "4": "NULL",
                                    "5": "DATABASE",
                                    "6": "DATABASE_OBJECT_CHANGE_GROUP",
                                    "7": "NULL",
                                    "8": "DATABASE_OBJECT_CHANGE_GROUP",
                                    "9": "1"
                                },
                                {
                                    "0": "[dm_audit_actions]",
                                    "1": "CR  ",
                                    "2": "CREATE",
                                    "3": "BROKER PRIORITY",
                                    "4": "NULL",
                                    "5": "DATABASE",
                                    "6": "DATABASE_OBJECT_CHANGE_GROUP",
                                    "7": "NULL",
                                    "8": "DATABASE_OBJECT_CHANGE_GROUP",
                                    "9": "1"
                                },
                                {
                                    "0": "[dm_audit_actions]",
                                    "1": "AL  ",
                                    "2": "ALTER",
                                    "3": "BROKER PRIORITY",
                                    "4": "NULL",
                                    "5": "DATABASE",
                                    "6": "DATABASE_OBJECT_CHANGE_GROUP",
                                    "7": "NULL",
                                    "8": "DATABASE_OBJECT_CHANGE_GROUP",
                                    "9": "1"
                                },
                                {
                                    "0": "[dm_audit_actions]",
                                    "1": "DR  ",
                                    "2": "DROP",
                                    "3": "BROKER PRIORITY",
                                    "4": "NULL",
                                    "5": "DATABASE",
                                    "6": "DATABASE_OBJECT_CHANGE_GROUP",
                                    "7": "NULL",
                                    "8": "DATABASE_OBJECT_CHANGE_GROUP",
                                    "9": "1"
                                },
                                {
                                    "0": "[dm_audit_actions]",
                                    "1": "CR  ",
                                    "2": "CREATE",
                                    "3": "FULLTEXT CATALOG",
                                    "4": "NULL",
                                    "5": "DATABASE",
                                    "6": "DATABASE_OBJECT_CHANGE_GROUP",
                                    "7": "NULL",
                                    "8": "DATABASE_OBJECT_CHANGE_GROUP",
                                    "9": "1"
                                },
                                {
                                    "0": "[dm_audit_actions]",
                                    "1": "AL  ",
                                    "2": "ALTER",
                                    "3": "FULLTEXT CATALOG",
                                    "4": "NULL",
                                    "5": "DATABASE",
                                    "6": "DATABASE_OBJECT_CHANGE_GROUP",
                                    "7": "NULL",
                                    "8": "DATABASE_OBJECT_CHANGE_GROUP",
                                    "9": "1"
                                },
                                {
                                    "0": "[dm_audit_actions]",
                                    "1": "DR  ",
                                    "2": "DROP",
                                    "3": "FULLTEXT CATALOG",
                                    "4": "NULL",
                                    "5": "DATABASE",
                                    "6": "DATABASE_OBJECT_CHANGE_GROUP",
                                    "7": "NULL",
                                    "8": "DATABASE_OBJECT_CHANGE_GROUP",
                                    "9": "1"
                                },
                                {
                                    "0": "[dm_audit_actions]",
                                    "1": "CR  ",
                                    "2": "CREATE",
                                    "3": "FULLTEXT STOPLIST",
                                    "4": "NULL",
                                    "5": "DATABASE",
                                    "6": "DATABASE_OBJECT_CHANGE_GROUP",
                                    "7": "NULL",
                                    "8": "DATABASE_OBJECT_CHANGE_GROUP",
                                    "9": "1"
                                },
                                {
                                    "0": "[dm_audit_actions]",
                                    "1": "AL  ",
                                    "2": "ALTER",
                                    "3": "FULLTEXT STOPLIST",
                                    "4": "NULL",
                                    "5": "DATABASE",
                                    "6": "DATABASE_OBJECT_CHANGE_GROUP",
                                    "7": "NULL",
                                    "8": "DATABASE_OBJECT_CHANGE_GROUP",
                                    "9": "1"
                                },
                                {
                                    "0": "[dm_audit_actions]",
                                    "1": "DR  ",
                                    "2": "DROP",
                                    "3": "FULLTEXT STOPLIST",
                                    "4": "NULL",
                                    "5": "DATABASE",
                                    "6": "DATABASE_OBJECT_CHANGE_GROUP",
                                    "7": "NULL",
                                    "8": "DATABASE_OBJECT_CHANGE_GROUP",
                                    "9": "1"
                                },
                                {
                                    "0": "[dm_audit_actions]",
                                    "1": "CR  ",
                                    "2": "CREATE",
                                    "3": "SEARCH PROPERTY LIST",
                                    "4": "NULL",
                                    "5": "DATABASE",
                                    "6": "DATABASE_OBJECT_CHANGE_GROUP",
                                    "7": "NULL",
                                    "8": "DATABASE_OBJECT_CHANGE_GROUP",
                                    "9": "1"
                                },
                                {
                                    "0": "[dm_audit_actions]",
                                    "1": "AL  ",
                                    "2": "ALTER",
                                    "3": "SEARCH PROPERTY LIST",
                                    "4": "NULL",
                                    "5": "DATABASE",
                                    "6": "DATABASE_OBJECT_CHANGE_GROUP",
                                    "7": "NULL",
                                    "8": "DATABASE_OBJECT_CHANGE_GROUP",
                                    "9": "1"
                                },
                                {
                                    "0": "[dm_audit_actions]",
                                    "1": "DR  ",
                                    "2": "DROP",
                                    "3": "SEARCH PROPERTY LIST",
                                    "4": "NULL",
                                    "5": "DATABASE",
                                    "6": "DATABASE_OBJECT_CHANGE_GROUP",
                                    "7": "NULL",
                                    "8": "DATABASE_OBJECT_CHANGE_GROUP",
                                    "9": "1"
                                },
                                {
                                    "0": "[dm_audit_actions]",
                                    "1": "AS  ",
                                    "2": "ACCESS",
                                    "3": "FULLTEXT CATALOG",
                                    "4": "NULL",
                                    "5": "DATABASE",
                                    "6": "DATABASE_OBJECT_CHANGE_GROUP",
                                    "7": "NULL",
                                    "8": "DATABASE_OBJECT_CHANGE_GROUP",
                                    "9": "1"
                                },
                                {
                                    "0": "[dm_audit_actions]",
                                    "1": "CR  ",
                                    "2": "CREATE",
                                    "3": "SYMMETRIC KEY",
                                    "4": "NULL",
                                    "5": "DATABASE",
                                    "6": "DATABASE_OBJECT_CHANGE_GROUP",
                                    "7": "NULL",
                                    "8": "DATABASE_OBJECT_CHANGE_GROUP",
                                    "9": "1"
                                },
                                {
                                    "0": "[dm_audit_actions]",
                                    "1": "AL  ",
                                    "2": "ALTER",
                                    "3": "SYMMETRIC KEY",
                                    "4": "NULL",
                                    "5": "DATABASE",
                                    "6": "DATABASE_OBJECT_CHANGE_GROUP",
                                    "7": "NULL",
                                    "8": "DATABASE_OBJECT_CHANGE_GROUP",
                                    "9": "1"
                                },
                                {
                                    "0": "[dm_audit_actions]",
                                    "1": "DR  ",
                                    "2": "DROP",
                                    "3": "SYMMETRIC KEY",
                                    "4": "NULL",
                                    "5": "DATABASE",
                                    "6": "DATABASE_OBJECT_CHANGE_GROUP",
                                    "7": "NULL",
                                    "8": "DATABASE_OBJECT_CHANGE_GROUP",
                                    "9": "1"
                                },
                                {
                                    "0": "[dm_audit_actions]",
                                    "1": "BA  ",
                                    "2": "BACKUP",
                                    "3": "SYMMETRIC KEY",
                                    "4": "NULL",
                                    "5": "DATABASE",
                                    "6": "DATABASE_OBJECT_CHANGE_GROUP",
                                    "7": "NULL",
                                    "8": "DATABASE_OBJECT_CHANGE_GROUP",
                                    "9": "1"
                                },
                                {
                                    "0": "[dm_audit_actions]",
                                    "1": "OP  ",
                                    "2": "OPEN",
                                    "3": "SYMMETRIC KEY",
                                    "4": "NULL",
                                    "5": "DATABASE",
                                    "6": "DATABASE_OBJECT_CHANGE_GROUP",
                                    "7": "NULL",
                                    "8": "DATABASE_OBJECT_CHANGE_GROUP",
                                    "9": "1"
                                },
                                {
                                    "0": "[dm_audit_actions]",
                                    "1": "CR  ",
                                    "2": "CREATE",
                                    "3": "CERTIFICATE",
                                    "4": "NULL",
                                    "5": "DATABASE",
                                    "6": "DATABASE_OBJECT_CHANGE_GROUP",
                                    "7": "NULL",
                                    "8": "DATABASE_OBJECT_CHANGE_GROUP",
                                    "9": "1"
                                },
                                {
                                    "0": "[dm_audit_actions]",
                                    "1": "AL  ",
                                    "2": "ALTER",
                                    "3": "CERTIFICATE",
                                    "4": "NULL",
                                    "5": "DATABASE",
                                    "6": "DATABASE_OBJECT_CHANGE_GROUP",
                                    "7": "NULL",
                                    "8": "DATABASE_OBJECT_CHANGE_GROUP",
                                    "9": "1"
                                },
                                {
                                    "0": "[dm_audit_actions]",
                                    "1": "DR  ",
                                    "2": "DROP",
                                    "3": "CERTIFICATE",
                                    "4": "NULL",
                                    "5": "DATABASE",
                                    "6": "DATABASE_OBJECT_CHANGE_GROUP",
                                    "7": "NULL",
                                    "8": "DATABASE_OBJECT_CHANGE_GROUP",
                                    "9": "1"
                                },
                                {
                                    "0": "[dm_audit_actions]",
                                    "1": "BA  ",
                                    "2": "BACKUP",
                                    "3": "CERTIFICATE",
                                    "4": "NULL",
                                    "5": "DATABASE",
                                    "6": "DATABASE_OBJECT_CHANGE_GROUP",
                                    "7": "NULL",
                                    "8": "DATABASE_OBJECT_CHANGE_GROUP",
                                    "9": "1"
                                },
                                {
                                    "0": "[dm_audit_actions]",
                                    "1": "AS  ",
                                    "2": "ACCESS",
                                    "3": "CERTIFICATE",
                                    "4": "NULL",
                                    "5": "DATABASE",
                                    "6": "DATABASE_OBJECT_CHANGE_GROUP",
                                    "7": "NULL",
                                    "8": "DATABASE_OBJECT_CHANGE_GROUP",
                                    "9": "1"
                                },
                                {
                                    "0": "[dm_audit_actions]",
                                    "1": "CR  ",
                                    "2": "CREATE",
                                    "3": "ASYMMETRIC KEY",
                                    "4": "NULL",
                                    "5": "DATABASE",
                                    "6": "DATABASE_OBJECT_CHANGE_GROUP",
                                    "7": "NULL",
                                    "8": "DATABASE_OBJECT_CHANGE_GROUP",
                                    "9": "1"
                                },
                                {
                                    "0": "[dm_audit_actions]",
                                    "1": "AL  ",
                                    "2": "ALTER",
                                    "3": "ASYMMETRIC KEY",
                                    "4": "NULL",
                                    "5": "DATABASE",
                                    "6": "DATABASE_OBJECT_CHANGE_GROUP",
                                    "7": "NULL",
                                    "8": "DATABASE_OBJECT_CHANGE_GROUP",
                                    "9": "1"
                                },
                                {
                                    "0": "[dm_audit_actions]",
                                    "1": "DR  ",
                                    "2": "DROP",
                                    "3": "ASYMMETRIC KEY",
                                    "4": "NULL",
                                    "5": "DATABASE",
                                    "6": "DATABASE_OBJECT_CHANGE_GROUP",
                                    "7": "NULL",
                                    "8": "DATABASE_OBJECT_CHANGE_GROUP",
                                    "9": "1"
                                },
                                {
                                    "0": "[dm_audit_actions]",
                                    "1": "AS  ",
                                    "2": "ACCESS",
                                    "3": "ASYMMETRIC KEY",
                                    "4": "NULL",
                                    "5": "DATABASE",
                                    "6": "DATABASE_OBJECT_CHANGE_GROUP",
                                    "7": "NULL",
                                    "8": "DATABASE_OBJECT_CHANGE_GROUP",
                                    "9": "1"
                                },
                                {
                                    "0": "[dm_audit_actions]",
                                    "1": "CR  ",
                                    "2": "CREATE",
                                    "3": "MASTER KEY",
                                    "4": "NULL",
                                    "5": "DATABASE",
                                    "6": "DATABASE_OBJECT_CHANGE_GROUP",
                                    "7": "NULL",
                                    "8": "DATABASE_OBJECT_CHANGE_GROUP",
                                    "9": "1"
                                },
                                {
                                    "0": "[dm_audit_actions]",
                                    "1": "OP  ",
                                    "2": "OPEN",
                                    "3": "MASTER KEY",
                                    "4": "NULL",
                                    "5": "DATABASE",
                                    "6": "DATABASE_OBJECT_CHANGE_GROUP",
                                    "7": "NULL",
                                    "8": "DATABASE_OBJECT_CHANGE_GROUP",
                                    "9": "1"
                                },
                                {
                                    "0": "[dm_audit_actions]",
                                    "1": "AL  ",
                                    "2": "ALTER",
                                    "3": "MASTER KEY",
                                    "4": "NULL",
                                    "5": "DATABASE",
                                    "6": "DATABASE_OBJECT_CHANGE_GROUP",
                                    "7": "NULL",
                                    "8": "DATABASE_OBJECT_CHANGE_GROUP",
                                    "9": "1"
                                },
                                {
                                    "0": "[dm_audit_actions]",
                                    "1": "BA  ",
                                    "2": "BACKUP",
                                    "3": "MASTER KEY",
                                    "4": "NULL",
                                    "5": "DATABASE",
                                    "6": "DATABASE_OBJECT_CHANGE_GROUP",
                                    "7": "NULL",
                                    "8": "DATABASE_OBJECT_CHANGE_GROUP",
                                    "9": "1"
                                },
                                {
                                    "0": "[dm_audit_actions]",
                                    "1": "RS  ",
                                    "2": "RESTORE",
                                    "3": "MASTER KEY",
                                    "4": "NULL",
                                    "5": "DATABASE",
                                    "6": "DATABASE_OBJECT_CHANGE_GROUP",
                                    "7": "NULL",
                                    "8": "DATABASE_OBJECT_CHANGE_GROUP",
                                    "9": "1"
                                },
                                {
                                    "0": "[dm_audit_actions]",
                                    "1": "AL  ",
                                    "2": "ALTER",
                                    "3": "MASTER KEY",
                                    "4": "NULL",
                                    "5": "SERVER",
                                    "6": "SERVER_OBJECT_CHANGE_GROUP",
                                    "7": "NULL",
                                    "8": "SERVER_OBJECT_CHANGE_GROUP",
                                    "9": "1"
                                },
                                {
                                    "0": "[dm_audit_actions]",
                                    "1": "BA  ",
                                    "2": "BACKUP",
                                    "3": "MASTER KEY",
                                    "4": "NULL",
                                    "5": "SERVER",
                                    "6": "SERVER_OBJECT_CHANGE_GROUP",
                                    "7": "NULL",
                                    "8": "SERVER_OBJECT_CHANGE_GROUP",
                                    "9": "1"
                                },
                                {
                                    "0": "[dm_audit_actions]",
                                    "1": "RS  ",
                                    "2": "RESTORE",
                                    "3": "MASTER KEY",
                                    "4": "NULL",
                                    "5": "SERVER",
                                    "6": "SERVER_OBJECT_CHANGE_GROUP",
                                    "7": "NULL",
                                    "8": "SERVER_OBJECT_CHANGE_GROUP",
                                    "9": "1"
                                },
                                {
                                    "0": "[dm_audit_actions]",
                                    "1": "DR  ",
                                    "2": "DROP",
                                    "3": "MASTER KEY",
                                    "4": "NULL",
                                    "5": "DATABASE",
                                    "6": "DATABASE_OBJECT_CHANGE_GROUP",
                                    "7": "NULL",
                                    "8": "DATABASE_OBJECT_CHANGE_GROUP",
                                    "9": "1"
                                },
                                {
                                    "0": "[dm_audit_actions]",
                                    "1": "CR  ",
                                    "2": "CREATE",
                                    "3": "DATABASE ENCRYPTION KEY",
                                    "4": "NULL",
                                    "5": "DATABASE",
                                    "6": "DATABASE_OBJECT_CHANGE_GROUP",
                                    "7": "NULL",
                                    "8": "DATABASE_OBJECT_CHANGE_GROUP",
                                    "9": "1"
                                },
                                {
                                    "0": "[dm_audit_actions]",
                                    "1": "AL  ",
                                    "2": "ALTER",
                                    "3": "DATABASE ENCRYPTION KEY",
                                    "4": "NULL",
                                    "5": "DATABASE",
                                    "6": "DATABASE_OBJECT_CHANGE_GROUP",
                                    "7": "NULL",
                                    "8": "DATABASE_OBJECT_CHANGE_GROUP",
                                    "9": "1"
                                },
                                {
                                    "0": "[dm_audit_actions]",
                                    "1": "DR  ",
                                    "2": "DROP",
                                    "3": "DATABASE ENCRYPTION KEY",
                                    "4": "NULL",
                                    "5": "DATABASE",
                                    "6": "DATABASE_OBJECT_CHANGE_GROUP",
                                    "7": "NULL",
                                    "8": "DATABASE_OBJECT_CHANGE_GROUP",
                                    "9": "1"
                                },
                                {
                                    "0": "[dm_audit_actions]",
                                    "1": "CR  ",
                                    "2": "CREATE",
                                    "3": "CRYPTOGRAPHIC PROVIDER",
                                    "4": "NULL",
                                    "5": "SERVER",
                                    "6": "SERVER_OBJECT_CHANGE_GROUP",
                                    "7": "NULL",
                                    "8": "SERVER_OBJECT_CHANGE_GROUP",
                                    "9": "1"
                                },
                                {
                                    "0": "[dm_audit_actions]",
                                    "1": "AL  ",
                                    "2": "ALTER",
                                    "3": "CRYPTOGRAPHIC PROVIDER",
                                    "4": "NULL",
                                    "5": "SERVER",
                                    "6": "SERVER_OBJECT_CHANGE_GROUP",
                                    "7": "NULL",
                                    "8": "SERVER_OBJECT_CHANGE_GROUP",
                                    "9": "1"
                                },
                                {
                                    "0": "[dm_audit_actions]",
                                    "1": "DR  ",
                                    "2": "DROP",
                                    "3": "CRYPTOGRAPHIC PROVIDER",
                                    "4": "NULL",
                                    "5": "SERVER",
                                    "6": "SERVER_OBJECT_CHANGE_GROUP",
                                    "7": "NULL",
                                    "8": "SERVER_OBJECT_CHANGE_GROUP",
                                    "9": "1"
                                },
                                {
                                    "0": "[dm_audit_actions]",
                                    "1": "CR  ",
                                    "2": "CREATE",
                                    "3": "CREDENTIAL",
                                    "4": "NULL",
                                    "5": "SERVER",
                                    "6": "SERVER_OBJECT_CHANGE_GROUP",
                                    "7": "NULL",
                                    "8": "SERVER_OBJECT_CHANGE_GROUP",
                                    "9": "1"
                                },
                                {
                                    "0": "[dm_audit_actions]",
                                    "1": "AL  ",
                                    "2": "ALTER",
                                    "3": "CREDENTIAL",
                                    "4": "NULL",
                                    "5": "SERVER",
                                    "6": "SERVER_OBJECT_CHANGE_GROUP",
                                    "7": "NULL",
                                    "8": "SERVER_OBJECT_CHANGE_GROUP",
                                    "9": "1"
                                },
                                {
                                    "0": "[dm_audit_actions]",
                                    "1": "DR  ",
                                    "2": "DROP",
                                    "3": "CREDENTIAL",
                                    "4": "NULL",
                                    "5": "SERVER",
                                    "6": "SERVER_OBJECT_CHANGE_GROUP",
                                    "7": "NULL",
                                    "8": "SERVER_OBJECT_CHANGE_GROUP",
                                    "9": "1"
                                },
                                {
                                    "0": "[dm_audit_actions]",
                                    "1": "CR  ",
                                    "2": "CREATE",
                                    "3": "EVENT SESSION",
                                    "4": "NULL",
                                    "5": "SERVER",
                                    "6": "SERVER_OBJECT_CHANGE_GROUP",
                                    "7": "NULL",
                                    "8": "SERVER_OBJECT_CHANGE_GROUP",
                                    "9": "1"
                                },
                                {
                                    "0": "[dm_audit_actions]",
                                    "1": "AL  ",
                                    "2": "ALTER",
                                    "3": "EVENT SESSION",
                                    "4": "NULL",
                                    "5": "SERVER",
                                    "6": "SERVER_OBJECT_CHANGE_GROUP",
                                    "7": "NULL",
                                    "8": "SERVER_OBJECT_CHANGE_GROUP",
                                    "9": "1"
                                },
                                {
                                    "0": "[dm_audit_actions]",
                                    "1": "DR  ",
                                    "2": "DROP",
                                    "3": "EVENT SESSION",
                                    "4": "NULL",
                                    "5": "SERVER",
                                    "6": "SERVER_OBJECT_CHANGE_GROUP",
                                    "7": "NULL",
                                    "8": "SERVER_OBJECT_CHANGE_GROUP",
                                    "9": "1"
                                },
                                {
                                    "0": "[dm_audit_actions]",
                                    "1": "CR  ",
                                    "2": "CREATE",
                                    "3": "ENDPOINT",
                                    "4": "NULL",
                                    "5": "SERVER",
                                    "6": "SERVER_OBJECT_CHANGE_GROUP",
                                    "7": "NULL",
                                    "8": "SERVER_OBJECT_CHANGE_GROUP",
                                    "9": "1"
                                },
                                {
                                    "0": "[dm_audit_actions]",
                                    "1": "AL  ",
                                    "2": "ALTER",
                                    "3": "ENDPOINT",
                                    "4": "NULL",
                                    "5": "SERVER",
                                    "6": "SERVER_OBJECT_CHANGE_GROUP",
                                    "7": "NULL",
                                    "8": "SERVER_OBJECT_CHANGE_GROUP",
                                    "9": "1"
                                },
                                {
                                    "0": "[dm_audit_actions]",
                                    "1": "DR  ",
                                    "2": "DROP",
                                    "3": "ENDPOINT",
                                    "4": "NULL",
                                    "5": "SERVER",
                                    "6": "SERVER_OBJECT_CHANGE_GROUP",
                                    "7": "NULL",
                                    "8": "SERVER_OBJECT_CHANGE_GROUP",
                                    "9": "1"
                                },
                                {
                                    "0": "[dm_audit_actions]",
                                    "1": "CR  ",
                                    "2": "CREATE",
                                    "3": "AVAILABILITY GROUP",
                                    "4": "NULL",
                                    "5": "SERVER",
                                    "6": "SERVER_OBJECT_CHANGE_GROUP",
                                    "7": "NULL",
                                    "8": "SERVER_OBJECT_CHANGE_GROUP",
                                    "9": "1"
                                },
                                {
                                    "0": "[dm_audit_actions]",
                                    "1": "AL  ",
                                    "2": "ALTER",
                                    "3": "AVAILABILITY GROUP",
                                    "4": "NULL",
                                    "5": "SERVER",
                                    "6": "SERVER_OBJECT_CHANGE_GROUP",
                                    "7": "NULL",
                                    "8": "SERVER_OBJECT_CHANGE_GROUP",
                                    "9": "1"
                                },
                                {
                                    "0": "[dm_audit_actions]",
                                    "1": "DR  ",
                                    "2": "DROP",
                                    "3": "AVAILABILITY GROUP",
                                    "4": "NULL",
                                    "5": "SERVER",
                                    "6": "SERVER_OBJECT_CHANGE_GROUP",
                                    "7": "NULL",
                                    "8": "SERVER_OBJECT_CHANGE_GROUP",
                                    "9": "1"
                                },
                                {
                                    "0": "[dm_audit_actions]",
                                    "1": "CR  ",
                                    "2": "CREATE",
                                    "3": "LOGIN",
                                    "4": "NULL",
                                    "5": "SERVER",
                                    "6": "SERVER_PRINCIPAL_CHANGE_GROUP",
                                    "7": "NULL",
                                    "8": "SERVER_PRINCIPAL_CHANGE_GROUP",
                                    "9": "1"
                                },
                                {
                                    "0": "[dm_audit_actions]",
                                    "1": "CMLG",
                                    "2": "CREDENTIAL MAP TO LOGIN",
                                    "3": "CREDENTIAL",
                                    "4": "NULL",
                                    "5": "SERVER",
                                    "6": "SERVER_OBJECT_CHANGE_GROUP",
                                    "7": "NULL",
                                    "8": "SERVER_OBJECT_CHANGE_GROUP",
                                    "9": "1"
                                },
                                {
                                    "0": "[dm_audit_actions]",
                                    "1": "NMLG",
                                    "2": "NO CREDENTIAL MAP TO LOGIN",
                                    "3": "CREDENTIAL",
                                    "4": "NULL",
                                    "5": "SERVER",
                                    "6": "SERVER_OBJECT_CHANGE_GROUP",
                                    "7": "NULL",
                                    "8": "SERVER_OBJECT_CHANGE_GROUP",
                                    "9": "1"
                                },
                                {
                                    "0": "[dm_audit_actions]",
                                    "1": "CCLG",
                                    "2": "CHANGE LOGIN CREDENTIAL",
                                    "3": "LOGIN",
                                    "4": "NULL",
                                    "5": "SERVER",
                                    "6": "SERVER_PRINCIPAL_CHANGE_GROUP",
                                    "7": "NULL",
                                    "8": "SERVER_PRINCIPAL_CHANGE_GROUP",
                                    "9": "1"
                                },
                                {
                                    "0": "[dm_audit_actions]",
                                    "1": "LGEA",
                                    "2": "ENABLE",
                                    "3": "LOGIN",
                                    "4": "NULL",
                                    "5": "SERVER",
                                    "6": "SERVER_PRINCIPAL_CHANGE_GROUP",
                                    "7": "NULL",
                                    "8": "SERVER_PRINCIPAL_CHANGE_GROUP",
                                    "9": "1"
                                },
                                {
                                    "0": "[dm_audit_actions]",
                                    "1": "LGDA",
                                    "2": "DISABLE",
                                    "3": "LOGIN",
                                    "4": "NULL",
                                    "5": "SERVER",
                                    "6": "SERVER_PRINCIPAL_CHANGE_GROUP",
                                    "7": "NULL",
                                    "8": "SERVER_PRINCIPAL_CHANGE_GROUP",
                                    "9": "1"
                                },
                                {
                                    "0": "[dm_audit_actions]",
                                    "1": "PWR ",
                                    "2": "RESET PASSWORD",
                                    "3": "LOGIN",
                                    "4": "NULL",
                                    "5": "SERVER",
                                    "6": "LOGIN_CHANGE_PASSWORD_GROUP",
                                    "7": "NULL",
                                    "8": "LOGIN_CHANGE_PASSWORD_GROUP",
                                    "9": "1"
                                },
                                {
                                    "0": "[dm_audit_actions]",
                                    "1": "PWRS",
                                    "2": "RESET OWN PASSWORD",
                                    "3": "LOGIN",
                                    "4": "NULL",
                                    "5": "SERVER",
                                    "6": "LOGIN_CHANGE_PASSWORD_GROUP",
                                    "7": "NULL",
                                    "8": "LOGIN_CHANGE_PASSWORD_GROUP",
                                    "9": "1"
                                },
                                {
                                    "0": "[dm_audit_actions]",
                                    "1": "PWCS",
                                    "2": "CHANGE OWN PASSWORD",
                                    "3": "LOGIN",
                                    "4": "NULL",
                                    "5": "SERVER",
                                    "6": "LOGIN_CHANGE_PASSWORD_GROUP",
                                    "7": "NULL",
                                    "8": "LOGIN_CHANGE_PASSWORD_GROUP",
                                    "9": "1"
                                },
                                {
                                    "0": "[dm_audit_actions]",
                                    "1": "PWC ",
                                    "2": "CHANGE PASSWORD",
                                    "3": "LOGIN",
                                    "4": "NULL",
                                    "5": "SERVER",
                                    "6": "LOGIN_CHANGE_PASSWORD_GROUP",
                                    "7": "NULL",
                                    "8": "LOGIN_CHANGE_PASSWORD_GROUP",
                                    "9": "1"
                                },
                                {
                                    "0": "[dm_audit_actions]",
                                    "1": "PWU ",
                                    "2": "UNLOCK ACCOUNT",
                                    "3": "LOGIN",
                                    "4": "NULL",
                                    "5": "SERVER",
                                    "6": "LOGIN_CHANGE_PASSWORD_GROUP",
                                    "7": "NULL",
                                    "8": "LOGIN_CHANGE_PASSWORD_GROUP",
                                    "9": "1"
                                },
                                {
                                    "0": "[dm_audit_actions]",
                                    "1": "PWMC",
                                    "2": "MUST CHANGE PASSWORD",
                                    "3": "LOGIN",
                                    "4": "NULL",
                                    "5": "SERVER",
                                    "6": "LOGIN_CHANGE_PASSWORD_GROUP",
                                    "7": "NULL",
                                    "8": "LOGIN_CHANGE_PASSWORD_GROUP",
                                    "9": "1"
                                },
                                {
                                    "0": "[dm_audit_actions]",
                                    "1": "LGDB",
                                    "2": "CHANGE DEFAULT DATABASE",
                                    "3": "LOGIN",
                                    "4": "NULL",
                                    "5": "SERVER",
                                    "6": "SERVER_PRINCIPAL_CHANGE_GROUP",
                                    "7": "NULL",
                                    "8": "SERVER_PRINCIPAL_CHANGE_GROUP",
                                    "9": "1"
                                },
                                {
                                    "0": "[dm_audit_actions]",
                                    "1": "LGLG",
                                    "2": "CHANGE DEFAULT LANGUAGE",
                                    "3": "LOGIN",
                                    "4": "NULL",
                                    "5": "SERVER",
                                    "6": "SERVER_PRINCIPAL_CHANGE_GROUP",
                                    "7": "NULL",
                                    "8": "SERVER_PRINCIPAL_CHANGE_GROUP",
                                    "9": "1"
                                },
                                {
                                    "0": "[dm_audit_actions]",
                                    "1": "LGNM",
                                    "2": "NAME CHANGE",
                                    "3": "LOGIN",
                                    "4": "NULL",
                                    "5": "SERVER",
                                    "6": "SERVER_PRINCIPAL_CHANGE_GROUP",
                                    "7": "NULL",
                                    "8": "SERVER_PRINCIPAL_CHANGE_GROUP",
                                    "9": "1"
                                },
                                {
                                    "0": "[dm_audit_actions]",
                                    "1": "PWPL",
                                    "2": "PASSWORD POLICY",
                                    "3": "LOGIN",
                                    "4": "NULL",
                                    "5": "SERVER",
                                    "6": "SERVER_PRINCIPAL_CHANGE_GROUP",
                                    "7": "NULL",
                                    "8": "SERVER_PRINCIPAL_CHANGE_GROUP",
                                    "9": "1"
                                },
                                {
                                    "0": "[dm_audit_actions]",
                                    "1": "PWEX",
                                    "2": "PASSWORD EXPIRATION",
                                    "3": "LOGIN",
                                    "4": "NULL",
                                    "5": "SERVER",
                                    "6": "SERVER_PRINCIPAL_CHANGE_GROUP",
                                    "7": "NULL",
                                    "8": "SERVER_PRINCIPAL_CHANGE_GROUP",
                                    "9": "1"
                                },
                                {
                                    "0": "[dm_audit_actions]",
                                    "1": "DR  ",
                                    "2": "DROP",
                                    "3": "LOGIN",
                                    "4": "NULL",
                                    "5": "SERVER",
                                    "6": "SERVER_PRINCIPAL_CHANGE_GROUP",
                                    "7": "NULL",
                                    "8": "SERVER_PRINCIPAL_CHANGE_GROUP",
                                    "9": "1"
                                },
                                {
                                    "0": "[dm_audit_actions]",
                                    "1": "USTC",
                                    "2": "COPY PASSWORD",
                                    "3": "USER",
                                    "4": "NULL",
                                    "5": "DATABASE",
                                    "6": "USER_CHANGE_PASSWORD_GROUP",
                                    "7": "NULL",
                                    "8": "USER_CHANGE_PASSWORD_GROUP",
                                    "9": "1"
                                },
                                {
                                    "0": "[dm_audit_actions]",
                                    "1": "CR  ",
                                    "2": "CREATE",
                                    "3": "SERVER ROLE",
                                    "4": "NULL",
                                    "5": "SERVER",
                                    "6": "SERVER_PRINCIPAL_CHANGE_GROUP",
                                    "7": "NULL",
                                    "8": "SERVER_PRINCIPAL_CHANGE_GROUP",
                                    "9": "1"
                                },
                                {
                                    "0": "[dm_audit_actions]",
                                    "1": "AL  ",
                                    "2": "ALTER",
                                    "3": "SERVER ROLE",
                                    "4": "NULL",
                                    "5": "SERVER",
                                    "6": "SERVER_PRINCIPAL_CHANGE_GROUP",
                                    "7": "NULL",
                                    "8": "SERVER_PRINCIPAL_CHANGE_GROUP",
                                    "9": "1"
                                },
                                {
                                    "0": "[dm_audit_actions]",
                                    "1": "DR  ",
                                    "2": "DROP",
                                    "3": "SERVER ROLE",
                                    "4": "NULL",
                                    "5": "SERVER",
                                    "6": "SERVER_PRINCIPAL_CHANGE_GROUP",
                                    "7": "NULL",
                                    "8": "SERVER_PRINCIPAL_CHANGE_GROUP",
                                    "9": "1"
                                },
                                {
                                    "0": "[dm_audit_actions]",
                                    "1": "AL  ",
                                    "2": "ALTER",
                                    "3": "EVENT NOTIFICATION SERVER",
                                    "4": "NULL",
                                    "5": "SERVER",
                                    "6": "SERVER_OBJECT_CHANGE_GROUP",
                                    "7": "NULL",
                                    "8": "SERVER_OBJECT_CHANGE_GROUP",
                                    "9": "1"
                                },
                                {
                                    "0": "[dm_audit_actions]",
                                    "1": "DR  ",
                                    "2": "DROP",
                                    "3": "EVENT NOTIFICATION SERVER",
                                    "4": "NULL",
                                    "5": "SERVER",
                                    "6": "SERVER_OBJECT_CHANGE_GROUP",
                                    "7": "NULL",
                                    "8": "SERVER_OBJECT_CHANGE_GROUP",
                                    "9": "1"
                                },
                                {
                                    "0": "[dm_audit_actions]",
                                    "1": "CR  ",
                                    "2": "CREATE",
                                    "3": "TRIGGER SERVER",
                                    "4": "NULL",
                                    "5": "SERVER",
                                    "6": "SERVER_OBJECT_CHANGE_GROUP",
                                    "7": "NULL",
                                    "8": "SERVER_OBJECT_CHANGE_GROUP",
                                    "9": "1"
                                },
                                {
                                    "0": "[dm_audit_actions]",
                                    "1": "AL  ",
                                    "2": "ALTER",
                                    "3": "TRIGGER SERVER",
                                    "4": "NULL",
                                    "5": "SERVER",
                                    "6": "SERVER_OBJECT_CHANGE_GROUP",
                                    "7": "NULL",
                                    "8": "SERVER_OBJECT_CHANGE_GROUP",
                                    "9": "1"
                                },
                                {
                                    "0": "[dm_audit_actions]",
                                    "1": "DR  ",
                                    "2": "DROP",
                                    "3": "TRIGGER SERVER",
                                    "4": "NULL",
                                    "5": "SERVER",
                                    "6": "SERVER_OBJECT_CHANGE_GROUP",
                                    "7": "NULL",
                                    "8": "SERVER_OBJECT_CHANGE_GROUP",
                                    "9": "1"
                                },
                                {
                                    "0": "[dm_audit_actions]",
                                    "1": "CR  ",
                                    "2": "CREATE",
                                    "3": "SERVER AUDIT",
                                    "4": "NULL",
                                    "5": "SERVER",
                                    "6": "AUDIT_CHANGE_GROUP",
                                    "7": "NULL",
                                    "8": "AUDIT_CHANGE_GROUP",
                                    "9": "1"
                                },
                                {
                                    "0": "[dm_audit_actions]",
                                    "1": "AL  ",
                                    "2": "ALTER",
                                    "3": "SERVER AUDIT",
                                    "4": "NULL",
                                    "5": "SERVER",
                                    "6": "AUDIT_CHANGE_GROUP",
                                    "7": "NULL",
                                    "8": "AUDIT_CHANGE_GROUP",
                                    "9": "1"
                                },
                                {
                                    "0": "[dm_audit_actions]",
                                    "1": "DR  ",
                                    "2": "DROP",
                                    "3": "SERVER AUDIT",
                                    "4": "NULL",
                                    "5": "SERVER",
                                    "6": "AUDIT_CHANGE_GROUP",
                                    "7": "NULL",
                                    "8": "AUDIT_CHANGE_GROUP",
                                    "9": "1"
                                },
                                {
                                    "0": "[dm_audit_actions]",
                                    "1": "AUSF",
                                    "2": "AUDIT SHUTDOWN ON FAILURE",
                                    "3": "SERVER AUDIT",
                                    "4": "NULL",
                                    "5": "SERVER",
                                    "6": "AUDIT_CHANGE_GROUP",
                                    "7": "NULL",
                                    "8": "AUDIT_CHANGE_GROUP",
                                    "9": "1"
                                },
                                {
                                    "0": "[dm_audit_actions]",
                                    "1": "CR  ",
                                    "2": "CREATE",
                                    "3": "SERVER AUDIT SPECIFICATION",
                                    "4": "NULL",
                                    "5": "SERVER",
                                    "6": "AUDIT_CHANGE_GROUP",
                                    "7": "NULL",
                                    "8": "AUDIT_CHANGE_GROUP",
                                    "9": "1"
                                },
                                {
                                    "0": "[dm_audit_actions]",
                                    "1": "AL  ",
                                    "2": "ALTER",
                                    "3": "SERVER AUDIT SPECIFICATION",
                                    "4": "NULL",
                                    "5": "SERVER",
                                    "6": "AUDIT_CHANGE_GROUP",
                                    "7": "NULL",
                                    "8": "AUDIT_CHANGE_GROUP",
                                    "9": "1"
                                },
                                {
                                    "0": "[dm_audit_actions]",
                                    "1": "DR  ",
                                    "2": "DROP",
                                    "3": "SERVER AUDIT SPECIFICATION",
                                    "4": "NULL",
                                    "5": "SERVER",
                                    "6": "AUDIT_CHANGE_GROUP",
                                    "7": "NULL",
                                    "8": "AUDIT_CHANGE_GROUP",
                                    "9": "1"
                                },
                                {
                                    "0": "[dm_audit_actions]",
                                    "1": "CR  ",
                                    "2": "CREATE",
                                    "3": "DATABASE AUDIT SPECIFICATION",
                                    "4": "NULL",
                                    "5": "DATABASE",
                                    "6": "AUDIT_CHANGE_GROUP",
                                    "7": "NULL",
                                    "8": "AUDIT_CHANGE_GROUP",
                                    "9": "1"
                                },
                                {
                                    "0": "[dm_audit_actions]",
                                    "1": "AL  ",
                                    "2": "ALTER",
                                    "3": "DATABASE AUDIT SPECIFICATION",
                                    "4": "NULL",
                                    "5": "DATABASE",
                                    "6": "AUDIT_CHANGE_GROUP",
                                    "7": "NULL",
                                    "8": "AUDIT_CHANGE_GROUP",
                                    "9": "1"
                                },
                                {
                                    "0": "[dm_audit_actions]",
                                    "1": "DR  ",
                                    "2": "DROP",
                                    "3": "DATABASE AUDIT SPECIFICATION",
                                    "4": "NULL",
                                    "5": "DATABASE",
                                    "6": "AUDIT_CHANGE_GROUP",
                                    "7": "NULL",
                                    "8": "AUDIT_CHANGE_GROUP",
                                    "9": "1"
                                },
                                {
                                    "0": "[dm_audit_actions]",
                                    "1": "CR  ",
                                    "2": "CREATE",
                                    "3": "AUDIT",
                                    "4": "NULL",
                                    "5": "DATABASE",
                                    "6": "AUDIT_CHANGE_GROUP",
                                    "7": "NULL",
                                    "8": "AUDIT_CHANGE_GROUP",
                                    "9": "1"
                                },
                                {
                                    "0": "[dm_audit_actions]",
                                    "1": "DR  ",
                                    "2": "DROP",
                                    "3": "AUDIT",
                                    "4": "NULL",
                                    "5": "DATABASE",
                                    "6": "AUDIT_CHANGE_GROUP",
                                    "7": "NULL",
                                    "8": "AUDIT_CHANGE_GROUP",
                                    "9": "1"
                                },
                                {
                                    "0": "[dm_audit_actions]",
                                    "1": "AL  ",
                                    "2": "ALTER",
                                    "3": "AUDIT",
                                    "4": "NULL",
                                    "5": "DATABASE",
                                    "6": "AUDIT_CHANGE_GROUP",
                                    "7": "NULL",
                                    "8": "AUDIT_CHANGE_GROUP",
                                    "9": "1"
                                },
                                {
                                    "0": "[dm_audit_actions]",
                                    "1": "CR  ",
                                    "2": "CREATE",
                                    "3": "EVENT NOTIFICATION SERVER",
                                    "4": "NULL",
                                    "5": "SERVER",
                                    "6": "SERVER_OBJECT_CHANGE_GROUP",
                                    "7": "NULL",
                                    "8": "SERVER_OBJECT_CHANGE_GROUP",
                                    "9": "1"
                                },
                                {
                                    "0": "[dm_audit_actions]",
                                    "1": "ADBO",
                                    "2": "BULK ADMIN",
                                    "3": "SERVER",
                                    "4": "SERVER_OPERATION_GROUP",
                                    "5": "NULL",
                                    "6": "NULL",
                                    "7": "NULL",
                                    "8": "SERVER_OPERATION_GROUP",
                                    "9": "1"
                                },
                                {
                                    "0": "[dm_audit_actions]",
                                    "1": "DABO",
                                    "2": "DATABASE BULK ADMIN",
                                    "3": "DATABASE",
                                    "4": "DATABASE_OPERATION_GROUP",
                                    "5": "SERVER",
                                    "6": "DATABASE_OPERATION_GROUP",
                                    "7": "NULL",
                                    "8": "DATABASE_OPERATION_GROUP",
                                    "9": "1"
                                },
                                {
                                    "0": "[dm_audit_actions]",
                                    "1": "ALRS",
                                    "2": "ALTER RESOURCES",
                                    "3": "SERVER",
                                    "4": "SERVER_OPERATION_GROUP",
                                    "5": "NULL",
                                    "6": "NULL",
                                    "7": "NULL",
                                    "8": "SERVER_OPERATION_GROUP",
                                    "9": "1"
                                },
                                {
                                    "0": "[dm_audit_actions]",
                                    "1": "ALST",
                                    "2": "ALTER SETTINGS",
                                    "3": "SERVER",
                                    "4": "SERVER_OPERATION_GROUP",
                                    "5": "NULL",
                                    "6": "NULL",
                                    "7": "NULL",
                                    "8": "SERVER_OPERATION_GROUP",
                                    "9": "1"
                                },
                                {
                                    "0": "[dm_audit_actions]",
                                    "1": "XA  ",
                                    "2": "EXTERNAL ACCESS ASSEMBLY",
                                    "3": "SERVER",
                                    "4": "SERVER_OPERATION_GROUP",
                                    "5": "NULL",
                                    "6": "NULL",
                                    "7": "NULL",
                                    "8": "SERVER_OPERATION_GROUP",
                                    "9": "1"
                                },
                                {
                                    "0": "[dm_audit_actions]",
                                    "1": "XU  ",
                                    "2": "UNSAFE ASSEMBLY",
                                    "3": "SERVER",
                                    "4": "SERVER_OPERATION_GROUP",
                                    "5": "NULL",
                                    "6": "NULL",
                                    "7": "NULL",
                                    "8": "SERVER_OPERATION_GROUP",
                                    "9": "1"
                                },
                                {
                                    "0": "[dm_audit_actions]",
                                    "1": "ALTR",
                                    "2": "ALTER TRACE",
                                    "3": "SERVER",
                                    "4": "TRACE_CHANGE_GROUP",
                                    "5": "NULL",
                                    "6": "NULL",
                                    "7": "NULL",
                                    "8": "TRACE_CHANGE_GROUP",
                                    "9": "1"
                                },
                                {
                                    "0": "[dm_audit_actions]",
                                    "1": "ALCN",
                                    "2": "ALTER CONNECTION",
                                    "3": "SERVER",
                                    "4": "SERVER_OPERATION_GROUP",
                                    "5": "NULL",
                                    "6": "NULL",
                                    "7": "NULL",
                                    "8": "SERVER_OPERATION_GROUP",
                                    "9": "1"
                                },
                                {
                                    "0": "[dm_audit_actions]",
                                    "1": "ALSS",
                                    "2": "ALTER SERVER STATE",
                                    "3": "SERVER",
                                    "4": "SERVER_OPERATION_GROUP",
                                    "5": "NULL",
                                    "6": "NULL",
                                    "7": "NULL",
                                    "8": "SERVER_OPERATION_GROUP",
                                    "9": "1"
                                },
                                {
                                    "0": "[dm_audit_actions]",
                                    "1": "ALRS",
                                    "2": "ALTER RESOURCES",
                                    "3": "RESOURCE GOVERNOR",
                                    "4": "NULL",
                                    "5": "SERVER",
                                    "6": "SERVER_OPERATION_GROUP",
                                    "7": "NULL",
                                    "8": "SERVER_OPERATION_GROUP",
                                    "9": "1"
                                },
                                {
                                    "0": "[dm_audit_actions]",
                                    "1": "CR  ",
                                    "2": "CREATE",
                                    "3": "COLUMN ENCRYPTION KEY",
                                    "4": "NULL",
                                    "5": "DATABASE",
                                    "6": "DATABASE_OBJECT_CHANGE_GROUP",
                                    "7": "NULL",
                                    "8": "DATABASE_OBJECT_CHANGE_GROUP",
                                    "9": "1"
                                },
                                {
                                    "0": "[dm_audit_actions]",
                                    "1": "AL  ",
                                    "2": "ALTER",
                                    "3": "COLUMN ENCRYPTION KEY",
                                    "4": "NULL",
                                    "5": "DATABASE",
                                    "6": "DATABASE_OBJECT_CHANGE_GROUP",
                                    "7": "NULL",
                                    "8": "DATABASE_OBJECT_CHANGE_GROUP",
                                    "9": "1"
                                },
                                {
                                    "0": "[dm_audit_actions]",
                                    "1": "DR  ",
                                    "2": "DROP",
                                    "3": "COLUMN ENCRYPTION KEY",
                                    "4": "NULL",
                                    "5": "DATABASE",
                                    "6": "DATABASE_OBJECT_CHANGE_GROUP",
                                    "7": "NULL",
                                    "8": "DATABASE_OBJECT_CHANGE_GROUP",
                                    "9": "1"
                                },
                                {
                                    "0": "[dm_audit_actions]",
                                    "1": "VW  ",
                                    "2": "VIEW",
                                    "3": "COLUMN ENCRYPTION KEY",
                                    "4": "NULL",
                                    "5": "DATABASE",
                                    "6": "DATABASE_OBJECT_CHANGE_GROUP",
                                    "7": "NULL",
                                    "8": "DATABASE_OBJECT_CHANGE_GROUP",
                                    "9": "1"
                                },
                                {
                                    "0": "[dm_audit_actions]",
                                    "1": "CR  ",
                                    "2": "CREATE",
                                    "3": "COLUMN MASTER KEY",
                                    "4": "NULL",
                                    "5": "DATABASE",
                                    "6": "DATABASE_OBJECT_CHANGE_GROUP",
                                    "7": "NULL",
                                    "8": "DATABASE_OBJECT_CHANGE_GROUP",
                                    "9": "1"
                                },
                                {
                                    "0": "[dm_audit_actions]",
                                    "1": "DR  ",
                                    "2": "DROP",
                                    "3": "COLUMN MASTER KEY",
                                    "4": "NULL",
                                    "5": "DATABASE",
                                    "6": "DATABASE_OBJECT_CHANGE_GROUP",
                                    "7": "NULL",
                                    "8": "DATABASE_OBJECT_CHANGE_GROUP",
                                    "9": "1"
                                },
                                {
                                    "0": "[dm_audit_actions]",
                                    "1": "VW  ",
                                    "2": "VIEW",
                                    "3": "COLUMN MASTER KEY",
                                    "4": "NULL",
                                    "5": "DATABASE",
                                    "6": "DATABASE_OBJECT_CHANGE_GROUP",
                                    "7": "NULL",
                                    "8": "DATABASE_OBJECT_CHANGE_GROUP",
                                    "9": "1"
                                },
                                {
                                    "0": "[dm_audit_actions]",
                                    "1": "AL  ",
                                    "2": "ALTER",
                                    "3": "DATABASE SCOPED CONFIGURATION",
                                    "4": "NULL",
                                    "5": "DATABASE",
                                    "6": "DATABASE_OBJECT_CHANGE_GROUP",
                                    "7": "NULL",
                                    "8": "DATABASE_OBJECT_CHANGE_GROUP",
                                    "9": "1"
                                },
                                {
                                    "0": "[dm_audit_actions]",
                                    "1": "CR  ",
                                    "2": "CREATE",
                                    "3": "DATABASE SCOPED RESOURCE GOVERNOR",
                                    "4": "NULL",
                                    "5": "DATABASE",
                                    "6": "DATABASE_OBJECT_CHANGE_GROUP",
                                    "7": "NULL",
                                    "8": "DATABASE_OBJECT_CHANGE_GROUP",
                                    "9": "1"
                                },
                                {
                                    "0": "[dm_audit_actions]",
                                    "1": "AL  ",
                                    "2": "ALTER",
                                    "3": "DATABASE SCOPED RESOURCE GOVERNOR",
                                    "4": "NULL",
                                    "5": "DATABASE",
                                    "6": "DATABASE_OBJECT_CHANGE_GROUP",
                                    "7": "NULL",
                                    "8": "DATABASE_OBJECT_CHANGE_GROUP",
                                    "9": "1"
                                },
                                {
                                    "0": "[dm_audit_actions]",
                                    "1": "DR  ",
                                    "2": "DROP",
                                    "3": "DATABASE SCOPED RESOURCE GOVERNOR",
                                    "4": "NULL",
                                    "5": "DATABASE",
                                    "6": "DATABASE_OBJECT_CHANGE_GROUP",
                                    "7": "NULL",
                                    "8": "DATABASE_OBJECT_CHANGE_GROUP",
                                    "9": "1"
                                },
                                {
                                    "0": "[dm_audit_actions]",
                                    "1": "CR  ",
                                    "2": "CREATE",
                                    "3": "EXTERNAL RESOURCE POOL",
                                    "4": "NULL",
                                    "5": "SERVER",
                                    "6": "SERVER_OPERATION_GROUP",
                                    "7": "NULL",
                                    "8": "SERVER_OPERATION_GROUP",
                                    "9": "1"
                                },
                                {
                                    "0": "[dm_audit_actions]",
                                    "1": "AL  ",
                                    "2": "ALTER",
                                    "3": "EXTERNAL RESOURCE POOL",
                                    "4": "NULL",
                                    "5": "SERVER",
                                    "6": "SERVER_OPERATION_GROUP",
                                    "7": "NULL",
                                    "8": "SERVER_OPERATION_GROUP",
                                    "9": "1"
                                },
                                {
                                    "0": "[dm_audit_actions]",
                                    "1": "DR  ",
                                    "2": "DROP",
                                    "3": "EXTERNAL RESOURCE POOL",
                                    "4": "NULL",
                                    "5": "SERVER",
                                    "6": "SERVER_OPERATION_GROUP",
                                    "7": "NULL",
                                    "8": "SERVER_OPERATION_GROUP",
                                    "9": "1"
                                },
                                {
                                    "0": "[dm_audit_actions]",
                                    "1": "SVSR",
                                    "2": "SERVER STARTED",
                                    "3": "SERVER",
                                    "4": "SERVER_STATE_CHANGE_GROUP",
                                    "5": "NULL",
                                    "6": "NULL",
                                    "7": "NULL",
                                    "8": "SERVER_STATE_CHANGE_GROUP",
                                    "9": "1"
                                },
                                {
                                    "0": "[dm_audit_actions]",
                                    "1": "SVSD",
                                    "2": "SERVER SHUTDOWN",
                                    "3": "SERVER",
                                    "4": "SERVER_STATE_CHANGE_GROUP",
                                    "5": "NULL",
                                    "6": "NULL",
                                    "7": "NULL",
                                    "8": "SERVER_STATE_CHANGE_GROUP",
                                    "9": "1"
                                },
                                {
                                    "0": "[dm_audit_actions]",
                                    "1": "SVPD",
                                    "2": "SERVER PAUSED",
                                    "3": "SERVER",
                                    "4": "SERVER_STATE_CHANGE_GROUP",
                                    "5": "NULL",
                                    "6": "NULL",
                                    "7": "NULL",
                                    "8": "SERVER_STATE_CHANGE_GROUP",
                                    "9": "1"
                                },
                                {
                                    "0": "[dm_audit_actions]",
                                    "1": "SVCN",
                                    "2": "SERVER CONTINUE",
                                    "3": "SERVER",
                                    "4": "SERVER_STATE_CHANGE_GROUP",
                                    "5": "NULL",
                                    "6": "NULL",
                                    "7": "NULL",
                                    "8": "SERVER_STATE_CHANGE_GROUP",
                                    "9": "1"
                                },
                                {
                                    "0": "[dm_audit_actions]",
                                    "1": "APRL",
                                    "2": "ADD MEMBER",
                                    "3": "SERVER ROLE",
                                    "4": "NULL",
                                    "5": "SERVER",
                                    "6": "SERVER_ROLE_MEMBER_CHANGE_GROUP",
                                    "7": "NULL",
                                    "8": "SERVER_ROLE_MEMBER_CHANGE_GROUP",
                                    "9": "1"
                                },
                                {
                                    "0": "[dm_audit_actions]",
                                    "1": "DPRL",
                                    "2": "DROP MEMBER",
                                    "3": "SERVER ROLE",
                                    "4": "NULL",
                                    "5": "SERVER",
                                    "6": "SERVER_ROLE_MEMBER_CHANGE_GROUP",
                                    "7": "NULL",
                                    "8": "SERVER_ROLE_MEMBER_CHANGE_GROUP",
                                    "9": "1"
                                },
                                {
                                    "0": "[dm_audit_actions]",
                                    "1": "AS  ",
                                    "2": "ACCESS",
                                    "3": "OBJECT",
                                    "4": "NULL",
                                    "5": "DATABASE",
                                    "6": "SCHEMA_OBJECT_ACCESS_GROUP",
                                    "7": "NULL",
                                    "8": "SCHEMA_OBJECT_ACCESS_GROUP",
                                    "9": "1"
                                },
                                {
                                    "0": "[dm_audit_actions]",
                                    "1": "CR  ",
                                    "2": "CREATE",
                                    "3": "SERVER",
                                    "4": "SERVER_OBJECT_CHANGE_GROUP",
                                    "5": "NULL",
                                    "6": "NULL",
                                    "7": "NULL",
                                    "8": "SERVER_OBJECT_CHANGE_GROUP",
                                    "9": "1"
                                },
                                {
                                    "0": "[dm_audit_actions]",
                                    "1": "AL  ",
                                    "2": "ALTER",
                                    "3": "SERVER",
                                    "4": "SERVER_OBJECT_CHANGE_GROUP",
                                    "5": "NULL",
                                    "6": "NULL",
                                    "7": "NULL",
                                    "8": "SERVER_OBJECT_CHANGE_GROUP",
                                    "9": "1"
                                },
                                {
                                    "0": "[dm_audit_actions]",
                                    "1": "DR  ",
                                    "2": "DROP",
                                    "3": "SERVER",
                                    "4": "SERVER_OBJECT_CHANGE_GROUP",
                                    "5": "NULL",
                                    "6": "NULL",
                                    "7": "NULL",
                                    "8": "SERVER_OBJECT_CHANGE_GROUP",
                                    "9": "1"
                                },
                                {
                                    "0": "[dm_audit_actions]",
                                    "1": "CR  ",
                                    "2": "CREATE",
                                    "3": "EXTERNAL DATA SOURCE",
                                    "4": "NULL",
                                    "5": "DATABASE",
                                    "6": "DATABASE_OBJECT_CHANGE_GROUP",
                                    "7": "NULL",
                                    "8": "DATABASE_OBJECT_CHANGE_GROUP",
                                    "9": "1"
                                },
                                {
                                    "0": "[dm_audit_actions]",
                                    "1": "AL  ",
                                    "2": "ALTER",
                                    "3": "EXTERNAL DATA SOURCE",
                                    "4": "NULL",
                                    "5": "DATABASE",
                                    "6": "DATABASE_OBJECT_CHANGE_GROUP",
                                    "7": "NULL",
                                    "8": "DATABASE_OBJECT_CHANGE_GROUP",
                                    "9": "1"
                                },
                                {
                                    "0": "[dm_audit_actions]",
                                    "1": "DR  ",
                                    "2": "DROP",
                                    "3": "EXTERNAL DATA SOURCE",
                                    "4": "NULL",
                                    "5": "DATABASE",
                                    "6": "DATABASE_OBJECT_CHANGE_GROUP",
                                    "7": "NULL",
                                    "8": "DATABASE_OBJECT_CHANGE_GROUP",
                                    "9": "1"
                                },
                                {
                                    "0": "[dm_audit_actions]",
                                    "1": "CR  ",
                                    "2": "CREATE",
                                    "3": "EXTERNAL TABLE",
                                    "4": "NULL",
                                    "5": "DATABASE",
                                    "6": "SCHEMA_OBJECT_CHANGE_GROUP",
                                    "7": "NULL",
                                    "8": "SCHEMA_OBJECT_CHANGE_GROUP",
                                    "9": "1"
                                },
                                {
                                    "0": "[dm_audit_actions]",
                                    "1": "DR  ",
                                    "2": "DROP",
                                    "3": "EXTERNAL TABLE",
                                    "4": "NULL",
                                    "5": "DATABASE",
                                    "6": "SCHEMA_OBJECT_CHANGE_GROUP",
                                    "7": "NULL",
                                    "8": "SCHEMA_OBJECT_CHANGE_GROUP",
                                    "9": "1"
                                },
                                {
                                    "0": "[dm_audit_actions]",
                                    "1": "CR  ",
                                    "2": "CREATE",
                                    "3": "EXTERNAL FILE FORMAT",
                                    "4": "NULL",
                                    "5": "DATABASE",
                                    "6": "DATABASE_OBJECT_CHANGE_GROUP",
                                    "7": "NULL",
                                    "8": "DATABASE_OBJECT_CHANGE_GROUP",
                                    "9": "1"
                                },
                                {
                                    "0": "[dm_audit_actions]",
                                    "1": "DR  ",
                                    "2": "DROP",
                                    "3": "EXTERNAL FILE FORMAT",
                                    "4": "NULL",
                                    "5": "DATABASE",
                                    "6": "DATABASE_OBJECT_CHANGE_GROUP",
                                    "7": "NULL",
                                    "8": "DATABASE_OBJECT_CHANGE_GROUP",
                                    "9": "1"
                                },
                                {
                                    "0": "[dm_audit_actions]",
                                    "1": "CR  ",
                                    "2": "CREATE",
                                    "3": "EXTERNAL LANGUAGE",
                                    "4": "NULL",
                                    "5": "DATABASE",
                                    "6": "DATABASE_OBJECT_CHANGE_GROUP",
                                    "7": "NULL",
                                    "8": "DATABASE_OBJECT_CHANGE_GROUP",
                                    "9": "1"
                                },
                                {
                                    "0": "[dm_audit_actions]",
                                    "1": "AL  ",
                                    "2": "ALTER",
                                    "3": "EXTERNAL LANGUAGE",
                                    "4": "NULL",
                                    "5": "DATABASE",
                                    "6": "DATABASE_OBJECT_CHANGE_GROUP",
                                    "7": "NULL",
                                    "8": "DATABASE_OBJECT_CHANGE_GROUP",
                                    "9": "1"
                                },
                                {
                                    "0": "[dm_audit_actions]",
                                    "1": "DR  ",
                                    "2": "DROP",
                                    "3": "EXTERNAL LANGUAGE",
                                    "4": "NULL",
                                    "5": "DATABASE",
                                    "6": "DATABASE_OBJECT_CHANGE_GROUP",
                                    "7": "NULL",
                                    "8": "DATABASE_OBJECT_CHANGE_GROUP",
                                    "9": "1"
                                },
                                {
                                    "0": "[dm_audit_actions]",
                                    "1": "CR  ",
                                    "2": "CREATE",
                                    "3": "EXTERNAL LIBRARY",
                                    "4": "NULL",
                                    "5": "DATABASE",
                                    "6": "DATABASE_OBJECT_CHANGE_GROUP",
                                    "7": "NULL",
                                    "8": "DATABASE_OBJECT_CHANGE_GROUP",
                                    "9": "1"
                                },
                                {
                                    "0": "[dm_audit_actions]",
                                    "1": "AL  ",
                                    "2": "ALTER",
                                    "3": "EXTERNAL LIBRARY",
                                    "4": "NULL",
                                    "5": "DATABASE",
                                    "6": "DATABASE_OBJECT_CHANGE_GROUP",
                                    "7": "NULL",
                                    "8": "DATABASE_OBJECT_CHANGE_GROUP",
                                    "9": "1"
                                },
                                {
                                    "0": "[dm_audit_actions]",
                                    "1": "DR  ",
                                    "2": "DROP",
                                    "3": "EXTERNAL LIBRARY",
                                    "4": "NULL",
                                    "5": "DATABASE",
                                    "6": "DATABASE_OBJECT_CHANGE_GROUP",
                                    "7": "NULL",
                                    "8": "DATABASE_OBJECT_CHANGE_GROUP",
                                    "9": "1"
                                },
                                {
                                    "0": "[dm_audit_actions]",
                                    "1": "CR  ",
                                    "2": "CREATE",
                                    "3": "SQL LOGIN",
                                    "4": "NULL",
                                    "5": "SERVER",
                                    "6": "SERVER_PRINCIPAL_CHANGE_GROUP",
                                    "7": "NULL",
                                    "8": "SERVER_PRINCIPAL_CHANGE_GROUP",
                                    "9": "1"
                                },
                                {
                                    "0": "[dm_audit_actions]",
                                    "1": "DR  ",
                                    "2": "DROP",
                                    "3": "SQL LOGIN",
                                    "4": "NULL",
                                    "5": "SERVER",
                                    "6": "SERVER_PRINCIPAL_CHANGE_GROUP",
                                    "7": "NULL",
                                    "8": "SERVER_PRINCIPAL_CHANGE_GROUP",
                                    "9": "1"
                                },
                                {
                                    "0": "[dm_audit_actions]",
                                    "1": "APRL",
                                    "2": "ADD MEMBER",
                                    "3": "ROLE",
                                    "4": "NULL",
                                    "5": "DATABASE",
                                    "6": "DATABASE_ROLE_MEMBER_CHANGE_GROUP",
                                    "7": "NULL",
                                    "8": "DATABASE_ROLE_MEMBER_CHANGE_GROUP",
                                    "9": "1"
                                },
                                {
                                    "0": "[dm_audit_actions]",
                                    "1": "DPRL",
                                    "2": "DROP MEMBER",
                                    "3": "ROLE",
                                    "4": "NULL",
                                    "5": "DATABASE",
                                    "6": "DATABASE_ROLE_MEMBER_CHANGE_GROUP",
                                    "7": "NULL",
                                    "8": "DATABASE_ROLE_MEMBER_CHANGE_GROUP",
                                    "9": "1"
                                },
                                {
                                    "0": "[dm_audit_actions]",
                                    "1": "USLG",
                                    "2": "CHANGE USERS LOGIN",
                                    "3": "USER",
                                    "4": "NULL",
                                    "5": "DATABASE",
                                    "6": "DATABASE_PRINCIPAL_CHANGE_GROUP",
                                    "7": "NULL",
                                    "8": "DATABASE_PRINCIPAL_CHANGE_GROUP",
                                    "9": "1"
                                },
                                {
                                    "0": "[dm_audit_actions]",
                                    "1": "USAF",
                                    "2": "CHANGE USERS LOGIN AUTO",
                                    "3": "USER",
                                    "4": "NULL",
                                    "5": "DATABASE",
                                    "6": "DATABASE_PRINCIPAL_CHANGE_GROUP",
                                    "7": "NULL",
                                    "8": "DATABASE_PRINCIPAL_CHANGE_GROUP",
                                    "9": "1"
                                },
                                {
                                    "0": "[dm_audit_actions]",
                                    "1": "DBCC",
                                    "2": "DBCC",
                                    "3": "DATABASE",
                                    "4": "DBCC_GROUP",
                                    "5": "SERVER",
                                    "6": "DBCC_GROUP",
                                    "7": "NULL",
                                    "8": "DBCC_GROUP",
                                    "9": "1"
                                },
                                {
                                    "0": "[dm_audit_actions]",
                                    "1": "RS  ",
                                    "2": "RESTORE",
                                    "3": "DATABASE",
                                    "4": "BACKUP_RESTORE_GROUP",
                                    "5": "SERVER",
                                    "6": "BACKUP_RESTORE_GROUP",
                                    "7": "NULL",
                                    "8": "BACKUP_RESTORE_GROUP",
                                    "9": "1"
                                },
                                {
                                    "0": "[dm_audit_actions]",
                                    "1": "TASA",
                                    "2": "TRACE AUDIT START",
                                    "3": "SERVER",
                                    "4": "TRACE_CHANGE_GROUP",
                                    "5": "NULL",
                                    "6": "NULL",
                                    "7": "NULL",
                                    "8": "TRACE_CHANGE_GROUP",
                                    "9": "1"
                                },
                                {
                                    "0": "[dm_audit_actions]",
                                    "1": "TASP",
                                    "2": "TRACE AUDIT STOP",
                                    "3": "SERVER",
                                    "4": "TRACE_CHANGE_GROUP",
                                    "5": "NULL",
                                    "6": "NULL",
                                    "7": "NULL",
                                    "8": "TRACE_CHANGE_GROUP",
                                    "9": "1"
                                },
                                {
                                    "0": "[dm_audit_actions]",
                                    "1": "C2ON",
                                    "2": "TRACE AUDIT C2ON",
                                    "3": "SERVER",
                                    "4": "TRACE_CHANGE_GROUP",
                                    "5": "NULL",
                                    "6": "NULL",
                                    "7": "NULL",
                                    "8": "TRACE_CHANGE_GROUP",
                                    "9": "1"
                                },
                                {
                                    "0": "[dm_audit_actions]",
                                    "1": "C2OF",
                                    "2": "TRACE AUDIT C2OFF",
                                    "3": "SERVER",
                                    "4": "TRACE_CHANGE_GROUP",
                                    "5": "NULL",
                                    "6": "NULL",
                                    "7": "NULL",
                                    "8": "TRACE_CHANGE_GROUP",
                                    "9": "1"
                                },
                                {
                                    "0": "[dm_audit_actions]",
                                    "1": "VSST",
                                    "2": "VIEW SERVER STATE",
                                    "3": "SERVER",
                                    "4": "SERVER_OPERATION_GROUP",
                                    "5": "NULL",
                                    "6": "NULL",
                                    "7": "NULL",
                                    "8": "SERVER_OPERATION_GROUP",
                                    "9": "1"
                                },
                                {
                                    "0": "[dm_audit_actions]",
                                    "1": "VDST",
                                    "2": "VIEW DATABASE STATE",
                                    "3": "DATABASE",
                                    "4": "DATABASE_OPERATION_GROUP",
                                    "5": "SERVER",
                                    "6": "DATABASE_OPERATION_GROUP",
                                    "7": "NULL",
                                    "8": "DATABASE_OPERATION_GROUP",
                                    "9": "1"
                                },
                                {
                                    "0": "[dm_audit_actions]",
                                    "1": "UDAU",
                                    "2": "USER DEFINED AUDIT",
                                    "3": "DATABASE",
                                    "4": "USER_DEFINED_AUDIT_GROUP",
                                    "5": "SERVER",
                                    "6": "USER_DEFINED_AUDIT_GROUP",
                                    "7": "NULL",
                                    "8": "USER_DEFINED_AUDIT_GROUP",
                                    "9": "1"
                                },
                                {
                                    "0": "[dm_audit_actions]",
                                    "1": "CR  ",
                                    "2": "CREATE",
                                    "3": "DATABASE EVENT SESSION",
                                    "4": "NULL",
                                    "5": "DATABASE",
                                    "6": "DATABASE_OBJECT_CHANGE_GROUP",
                                    "7": "NULL",
                                    "8": "DATABASE_OBJECT_CHANGE_GROUP",
                                    "9": "1"
                                },
                                {
                                    "0": "[dm_audit_actions]",
                                    "1": "AL  ",
                                    "2": "ALTER",
                                    "3": "DATABASE EVENT SESSION",
                                    "4": "NULL",
                                    "5": "DATABASE",
                                    "6": "DATABASE_OBJECT_CHANGE_GROUP",
                                    "7": "NULL",
                                    "8": "DATABASE_OBJECT_CHANGE_GROUP",
                                    "9": "1"
                                },
                                {
                                    "0": "[dm_audit_actions]",
                                    "1": "DR  ",
                                    "2": "DROP",
                                    "3": "DATABASE EVENT SESSION",
                                    "4": "NULL",
                                    "5": "DATABASE",
                                    "6": "DATABASE_OBJECT_CHANGE_GROUP",
                                    "7": "NULL",
                                    "8": "DATABASE_OBJECT_CHANGE_GROUP",
                                    "9": "1"
                                },
                                {
                                    "0": "[dm_audit_actions]",
                                    "1": "CR  ",
                                    "2": "CREATE",
                                    "3": "DATABASE SCOPED CREDENTIAL",
                                    "4": "NULL",
                                    "5": "DATABASE",
                                    "6": "DATABASE_OBJECT_CHANGE_GROUP",
                                    "7": "NULL",
                                    "8": "DATABASE_OBJECT_CHANGE_GROUP",
                                    "9": "1"
                                },
                                {
                                    "0": "[dm_audit_actions]",
                                    "1": "AL  ",
                                    "2": "ALTER",
                                    "3": "DATABASE SCOPED CREDENTIAL",
                                    "4": "NULL",
                                    "5": "DATABASE",
                                    "6": "DATABASE_OBJECT_CHANGE_GROUP",
                                    "7": "NULL",
                                    "8": "DATABASE_OBJECT_CHANGE_GROUP",
                                    "9": "1"
                                },
                                {
                                    "0": "[dm_audit_actions]",
                                    "1": "DR  ",
                                    "2": "DROP",
                                    "3": "DATABASE SCOPED CREDENTIAL",
                                    "4": "NULL",
                                    "5": "DATABASE",
                                    "6": "DATABASE_OBJECT_CHANGE_GROUP",
                                    "7": "NULL",
                                    "8": "DATABASE_OBJECT_CHANGE_GROUP",
                                    "9": "1"
                                },
                                {
                                    "0": "[dm_audit_actions]",
                                    "1": "ADSC",
                                    "2": "ADD SENSITIVITY CLASSIFICATION",
                                    "3": "DATABASE",
                                    "4": "SENSITIVITY_CLASSIFICATION_CHANGE_GROUP",
                                    "5": "SERVER",
                                    "6": "SENSITIVITY_CLASSIFICATION_CHANGE_GROUP",
                                    "7": "NULL",
                                    "8": "SENSITIVITY_CLASSIFICATION_CHANGE_GROUP",
                                    "9": "1"
                                },
                                {
                                    "0": "[dm_audit_actions]",
                                    "1": "DRSC",
                                    "2": "DROP SENSITIVITY CLASSIFICATION",
                                    "3": "DATABASE",
                                    "4": "SENSITIVITY_CLASSIFICATION_CHANGE_GROUP",
                                    "5": "SERVER",
                                    "6": "SENSITIVITY_CLASSIFICATION_CHANGE_GROUP",
                                    "7": "NULL",
                                    "8": "SENSITIVITY_CLASSIFICATION_CHANGE_GROUP",
                                    "9": "1"
                                },
                                {
                                    "0": "[dm_audit_actions]",
                                    "1": "ADFR",
                                    "2": "ADD FEATURE RESTRICTION",
                                    "3": "DATABASE",
                                    "4": "FEATURE_RESTRICTION_CHANGE_GROUP",
                                    "5": "SERVER",
                                    "6": "FEATURE_RESTRICTION_CHANGE_GROUP",
                                    "7": "NULL",
                                    "8": "FEATURE_RESTRICTION_CHANGE_GROUP",
                                    "9": "1"
                                },
                                {
                                    "0": "[dm_audit_actions]",
                                    "1": "DRFR",
                                    "2": "DROP FEATURE RESTRICTION",
                                    "3": "DATABASE",
                                    "4": "FEATURE_RESTRICTION_CHANGE_GROUP",
                                    "5": "SERVER",
                                    "6": "FEATURE_RESTRICTION_CHANGE_GROUP",
                                    "7": "NULL",
                                    "8": "FEATURE_RESTRICTION_CHANGE_GROUP",
                                    "9": "1"
                                },
                                {
                                    "0": "[dm_audit_actions]",
                                    "1": "TO  ",
                                    "2": "TAKE OWNERSHIP",
                                    "3": "EXTERNAL LANGUAGE",
                                    "4": "NULL",
                                    "5": "DATABASE",
                                    "6": "DATABASE_OBJECT_OWNERSHIP_CHANGE_GROUP",
                                    "7": "NULL",
                                    "8": "DATABASE_OBJECT_OWNERSHIP_CHANGE_GROUP",
                                    "9": "1"
                                },
                                {
                                    "0": "[dm_audit_actions]",
                                    "1": "SL  ",
                                    "2": "SELECT",
                                    "3": "DATABASE",
                                    "4": "SCHEMA_OBJECT_ACCESS_GROUP",
                                    "5": "SERVER",
                                    "6": "NULL",
                                    "7": "Action",
                                    "8": "SCHEMA_OBJECT_ACCESS_GROUP",
                                    "9": "0"
                                },
                                {
                                    "0": "[dm_audit_actions]",
                                    "1": "IN  ",
                                    "2": "INSERT",
                                    "3": "DATABASE",
                                    "4": "SCHEMA_OBJECT_ACCESS_GROUP",
                                    "5": "SERVER",
                                    "6": "NULL",
                                    "7": "Action",
                                    "8": "SCHEMA_OBJECT_ACCESS_GROUP",
                                    "9": "0"
                                },
                                {
                                    "0": "[dm_audit_actions]",
                                    "1": "UP  ",
                                    "2": "UPDATE",
                                    "3": "DATABASE",
                                    "4": "SCHEMA_OBJECT_ACCESS_GROUP",
                                    "5": "SERVER",
                                    "6": "NULL",
                                    "7": "Action",
                                    "8": "SCHEMA_OBJECT_ACCESS_GROUP",
                                    "9": "0"
                                },
                                {
                                    "0": "[dm_audit_actions]",
                                    "1": "DL  ",
                                    "2": "DELETE",
                                    "3": "DATABASE",
                                    "4": "SCHEMA_OBJECT_ACCESS_GROUP",
                                    "5": "SERVER",
                                    "6": "NULL",
                                    "7": "Action",
                                    "8": "SCHEMA_OBJECT_ACCESS_GROUP",
                                    "9": "0"
                                },
                                {
                                    "0": "[dm_audit_actions]",
                                    "1": "RF  ",
                                    "2": "REFERENCES",
                                    "3": "DATABASE",
                                    "4": "SCHEMA_OBJECT_ACCESS_GROUP",
                                    "5": "SERVER",
                                    "6": "NULL",
                                    "7": "Action",
                                    "8": "SCHEMA_OBJECT_ACCESS_GROUP",
                                    "9": "0"
                                },
                                {
                                    "0": "[dm_audit_actions]",
                                    "1": "EX  ",
                                    "2": "EXECUTE",
                                    "3": "DATABASE",
                                    "4": "SCHEMA_OBJECT_ACCESS_GROUP",
                                    "5": "SERVER",
                                    "6": "NULL",
                                    "7": "Action",
                                    "8": "SCHEMA_OBJECT_ACCESS_GROUP",
                                    "9": "0"
                                },
                                {
                                    "0": "[dm_audit_actions]",
                                    "1": "RC  ",
                                    "2": "RECEIVE",
                                    "3": "DATABASE",
                                    "4": "SCHEMA_OBJECT_ACCESS_GROUP",
                                    "5": "SERVER",
                                    "6": "NULL",
                                    "7": "Action",
                                    "8": "SCHEMA_OBJECT_ACCESS_GROUP",
                                    "9": "0"
                                },
                                {
                                    "0": "[dm_audit_actions]",
                                    "1": "VWCT",
                                    "2": "VIEW CHANGETRACKING",
                                    "3": "DATABASE",
                                    "4": "SCHEMA_OBJECT_ACCESS_GROUP",
                                    "5": "SERVER",
                                    "6": "NULL",
                                    "7": "NULL",
                                    "8": "SCHEMA_OBJECT_ACCESS_GROUP",
                                    "9": "0"
                                },
                                {
                                    "0": "[dm_audit_actions]",
                                    "1": "CO  ",
                                    "2": "CONNECT",
                                    "3": "DATABASE",
                                    "4": "DATABASE_OPERATION_GROUP",
                                    "5": "SERVER",
                                    "6": "NULL",
                                    "7": "NULL",
                                    "8": "DATABASE_OPERATION_GROUP",
                                    "9": "0"
                                },
                                {
                                    "0": "[dm_audit_actions]",
                                    "1": "OPDB",
                                    "2": "DATABASE_OPERATION_GROUP",
                                    "3": "DATABASE",
                                    "4": "NULL",
                                    "5": "SERVER",
                                    "6": "DATABASE_OPERATION_GROUP",
                                    "7": "Group",
                                    "8": "DATABASE_OPERATION_GROUP",
                                    "9": "0"
                                },
                                {
                                    "0": "[dm_audit_actions]",
                                    "1": "BRDB",
                                    "2": "BACKUP_RESTORE_GROUP",
                                    "3": "DATABASE",
                                    "4": "NULL",
                                    "5": "SERVER",
                                    "6": "BACKUP_RESTORE_GROUP",
                                    "7": "Group",
                                    "8": "BACKUP_RESTORE_GROUP",
                                    "9": "0"
                                },
                                {
                                    "0": "[dm_audit_actions]",
                                    "1": "MNDB",
                                    "2": "DATABASE_CHANGE_GROUP",
                                    "3": "DATABASE",
                                    "4": "NULL",
                                    "5": "SERVER",
                                    "6": "DATABASE_CHANGE_GROUP",
                                    "7": "Group",
                                    "8": "DATABASE_CHANGE_GROUP",
                                    "9": "0"
                                },
                                {
                                    "0": "[dm_audit_actions]",
                                    "1": "TODB",
                                    "2": "DATABASE_OWNERSHIP_CHANGE_GROUP",
                                    "3": "DATABASE",
                                    "4": "NULL",
                                    "5": "SERVER",
                                    "6": "DATABASE_OWNERSHIP_CHANGE_GROUP",
                                    "7": "Group",
                                    "8": "DATABASE_OWNERSHIP_CHANGE_GROUP",
                                    "9": "0"
                                },
                                {
                                    "0": "[dm_audit_actions]",
                                    "1": "GRDB",
                                    "2": "DATABASE_PERMISSION_CHANGE_GROUP",
                                    "3": "DATABASE",
                                    "4": "NULL",
                                    "5": "SERVER",
                                    "6": "DATABASE_PERMISSION_CHANGE_GROUP",
                                    "7": "Group",
                                    "8": "DATABASE_PERMISSION_CHANGE_GROUP",
                                    "9": "0"
                                },
                                {
                                    "0": "[dm_audit_actions]",
                                    "1": "DAGS",
                                    "2": "SUCCESSFUL_DATABASE_AUTHENTICATION_GROUP",
                                    "3": "DATABASE",
                                    "4": "NULL",
                                    "5": "SERVER",
                                    "6": "SUCCESSFUL_DATABASE_AUTHENTICATION_GROUP",
                                    "7": "Group",
                                    "8": "SUCCESSFUL_DATABASE_AUTHENTICATION_GROUP",
                                    "9": "0"
                                },
                                {
                                    "0": "[dm_audit_actions]",
                                    "1": "DAGF",
                                    "2": "FAILED_DATABASE_AUTHENTICATION_GROUP",
                                    "3": "DATABASE",
                                    "4": "NULL",
                                    "5": "SERVER",
                                    "6": "FAILED_DATABASE_AUTHENTICATION_GROUP",
                                    "7": "Group",
                                    "8": "FAILED_DATABASE_AUTHENTICATION_GROUP",
                                    "9": "0"
                                },
                                {
                                    "0": "[dm_audit_actions]",
                                    "1": "DAGL",
                                    "2": "DATABASE_LOGOUT_GROUP",
                                    "3": "DATABASE",
                                    "4": "NULL",
                                    "5": "SERVER",
                                    "6": "DATABASE_LOGOUT_GROUP",
                                    "7": "Group",
                                    "8": "DATABASE_LOGOUT_GROUP",
                                    "9": "0"
                                },
                                {
                                    "0": "[dm_audit_actions]",
                                    "1": "UCGP",
                                    "2": "USER_CHANGE_PASSWORD_GROUP",
                                    "3": "DATABASE",
                                    "4": "NULL",
                                    "5": "SERVER",
                                    "6": "USER_CHANGE_PASSWORD_GROUP",
                                    "7": "Group",
                                    "8": "USER_CHANGE_PASSWORD_GROUP",
                                    "9": "0"
                                },
                                {
                                    "0": "[dm_audit_actions]",
                                    "1": "BSTG",
                                    "2": "BATCH_STARTED_GROUP",
                                    "3": "DATABASE",
                                    "4": "NULL",
                                    "5": "SERVER",
                                    "6": "BATCH_STARTED_GROUP",
                                    "7": "Group",
                                    "8": "BATCH_STARTED_GROUP",
                                    "9": "0"
                                },
                                {
                                    "0": "[dm_audit_actions]",
                                    "1": "BCMG",
                                    "2": "BATCH_COMPLETED_GROUP",
                                    "3": "DATABASE",
                                    "4": "NULL",
                                    "5": "SERVER",
                                    "6": "BATCH_COMPLETED_GROUP",
                                    "7": "Group",
                                    "8": "BATCH_COMPLETED_GROUP",
                                    "9": "0"
                                },
                                {
                                    "0": "[dm_audit_actions]",
                                    "1": "TXGG",
                                    "2": "TRANSACTION_BEGIN_GROUP",
                                    "3": "DATABASE",
                                    "4": "TRANSACTION_GROUP",
                                    "5": "SERVER",
                                    "6": "TRANSACTION_BEGIN_GROUP",
                                    "7": "Group",
                                    "8": "TRANSACTION_GROUP",
                                    "9": "0"
                                },
                                {
                                    "0": "[dm_audit_actions]",
                                    "1": "TXCG",
                                    "2": "TRANSACTION_COMMIT_GROUP",
                                    "3": "DATABASE",
                                    "4": "TRANSACTION_GROUP",
                                    "5": "SERVER",
                                    "6": "TRANSACTION_COMMIT_GROUP",
                                    "7": "Group",
                                    "8": "TRANSACTION_GROUP",
                                    "9": "0"
                                },
                                {
                                    "0": "[dm_audit_actions]",
                                    "1": "TXRG",
                                    "2": "TRANSACTION_ROLLBACK_GROUP",
                                    "3": "DATABASE",
                                    "4": "TRANSACTION_GROUP",
                                    "5": "SERVER",
                                    "6": "TRANSACTION_ROLLBACK_GROUP",
                                    "7": "Group",
                                    "8": "TRANSACTION_GROUP",
                                    "9": "0"
                                },
                                {
                                    "0": "[dm_audit_actions]",
                                    "1": "UNDG",
                                    "2": "STATEMENT_ROLLBACK_GROUP",
                                    "3": "DATABASE",
                                    "4": "TRANSACTION_GROUP",
                                    "5": "SERVER",
                                    "6": "STATEMENT_ROLLBACK_GROUP",
                                    "7": "Group",
                                    "8": "TRANSACTION_GROUP",
                                    "9": "0"
                                },
                                {
                                    "0": "[dm_audit_actions]",
                                    "1": "MNDO",
                                    "2": "DATABASE_OBJECT_CHANGE_GROUP",
                                    "3": "DATABASE",
                                    "4": "NULL",
                                    "5": "SERVER",
                                    "6": "DATABASE_OBJECT_CHANGE_GROUP",
                                    "7": "Group",
                                    "8": "DATABASE_OBJECT_CHANGE_GROUP",
                                    "9": "0"
                                },
                                {
                                    "0": "[dm_audit_actions]",
                                    "1": "TODO",
                                    "2": "DATABASE_OBJECT_OWNERSHIP_CHANGE_GROUP",
                                    "3": "DATABASE",
                                    "4": "NULL",
                                    "5": "SERVER",
                                    "6": "DATABASE_OBJECT_OWNERSHIP_CHANGE_GROUP",
                                    "7": "Group",
                                    "8": "DATABASE_OBJECT_OWNERSHIP_CHANGE_GROUP",
                                    "9": "0"
                                },
                                {
                                    "0": "[dm_audit_actions]",
                                    "1": "MNDP",
                                    "2": "DATABASE_PRINCIPAL_CHANGE_GROUP",
                                    "3": "DATABASE",
                                    "4": "NULL",
                                    "5": "SERVER",
                                    "6": "DATABASE_PRINCIPAL_CHANGE_GROUP",
                                    "7": "Group",
                                    "8": "DATABASE_PRINCIPAL_CHANGE_GROUP",
                                    "9": "0"
                                },
                                {
                                    "0": "[dm_audit_actions]",
                                    "1": "IMDP",
                                    "2": "DATABASE_PRINCIPAL_IMPERSONATION_GROUP",
                                    "3": "DATABASE",
                                    "4": "NULL",
                                    "5": "SERVER",
                                    "6": "DATABASE_PRINCIPAL_IMPERSONATION_GROUP",
                                    "7": "Group",
                                    "8": "DATABASE_PRINCIPAL_IMPERSONATION_GROUP",
                                    "9": "0"
                                },
                                {
                                    "0": "[dm_audit_actions]",
                                    "1": "ADDP",
                                    "2": "DATABASE_ROLE_MEMBER_CHANGE_GROUP",
                                    "3": "DATABASE",
                                    "4": "NULL",
                                    "5": "SERVER",
                                    "6": "DATABASE_ROLE_MEMBER_CHANGE_GROUP",
                                    "7": "Group",
                                    "8": "DATABASE_ROLE_MEMBER_CHANGE_GROUP",
                                    "9": "0"
                                },
                                {
                                    "0": "[dm_audit_actions]",
                                    "1": "PWAR",
                                    "2": "APPLICATION_ROLE_CHANGE_PASSWORD_GROUP",
                                    "3": "DATABASE",
                                    "4": "NULL",
                                    "5": "SERVER",
                                    "6": "APPLICATION_ROLE_CHANGE_PASSWORD_GROUP",
                                    "7": "Group",
                                    "8": "APPLICATION_ROLE_CHANGE_PASSWORD_GROUP",
                                    "9": "0"
                                },
                                {
                                    "0": "[dm_audit_actions]",
                                    "1": "GRDO",
                                    "2": "DATABASE_OBJECT_PERMISSION_CHANGE_GROUP",
                                    "3": "DATABASE",
                                    "4": "NULL",
                                    "5": "SERVER",
                                    "6": "DATABASE_OBJECT_PERMISSION_CHANGE_GROUP",
                                    "7": "Group",
                                    "8": "DATABASE_OBJECT_PERMISSION_CHANGE_GROUP",
                                    "9": "0"
                                },
                                {
                                    "0": "[dm_audit_actions]",
                                    "1": "ACDO",
                                    "2": "DATABASE_OBJECT_ACCESS_GROUP",
                                    "3": "DATABASE",
                                    "4": "NULL",
                                    "5": "SERVER",
                                    "6": "DATABASE_OBJECT_ACCESS_GROUP",
                                    "7": "Group",
                                    "8": "DATABASE_OBJECT_ACCESS_GROUP",
                                    "9": "0"
                                },
                                {
                                    "0": "[dm_audit_actions]",
                                    "1": "MNO ",
                                    "2": "SCHEMA_OBJECT_CHANGE_GROUP",
                                    "3": "DATABASE",
                                    "4": "NULL",
                                    "5": "SERVER",
                                    "6": "SCHEMA_OBJECT_CHANGE_GROUP",
                                    "7": "Group",
                                    "8": "SCHEMA_OBJECT_CHANGE_GROUP",
                                    "9": "0"
                                },
                                {
                                    "0": "[dm_audit_actions]",
                                    "1": "TOO ",
                                    "2": "SCHEMA_OBJECT_OWNERSHIP_CHANGE_GROUP",
                                    "3": "DATABASE",
                                    "4": "NULL",
                                    "5": "SERVER",
                                    "6": "SCHEMA_OBJECT_OWNERSHIP_CHANGE_GROUP",
                                    "7": "Group",
                                    "8": "SCHEMA_OBJECT_OWNERSHIP_CHANGE_GROUP",
                                    "9": "0"
                                },
                                {
                                    "0": "[dm_audit_actions]",
                                    "1": "GRO ",
                                    "2": "SCHEMA_OBJECT_PERMISSION_CHANGE_GROUP",
                                    "3": "DATABASE",
                                    "4": "NULL",
                                    "5": "SERVER",
                                    "6": "SCHEMA_OBJECT_PERMISSION_CHANGE_GROUP",
                                    "7": "Group",
                                    "8": "SCHEMA_OBJECT_PERMISSION_CHANGE_GROUP",
                                    "9": "0"
                                },
                                {
                                    "0": "[dm_audit_actions]",
                                    "1": "ACO ",
                                    "2": "SCHEMA_OBJECT_ACCESS_GROUP",
                                    "3": "DATABASE",
                                    "4": "NULL",
                                    "5": "SERVER",
                                    "6": "SCHEMA_OBJECT_ACCESS_GROUP",
                                    "7": "Group",
                                    "8": "SCHEMA_OBJECT_ACCESS_GROUP",
                                    "9": "0"
                                },
                                {
                                    "0": "[dm_audit_actions]",
                                    "1": "DBCG",
                                    "2": "DBCC_GROUP",
                                    "3": "DATABASE",
                                    "4": "NULL",
                                    "5": "SERVER",
                                    "6": "DBCC_GROUP",
                                    "7": "Group",
                                    "8": "DBCC_GROUP",
                                    "9": "0"
                                },
                                {
                                    "0": "[dm_audit_actions]",
                                    "1": "CNAU",
                                    "2": "AUDIT_CHANGE_GROUP",
                                    "3": "DATABASE",
                                    "4": "NULL",
                                    "5": "SERVER",
                                    "6": "AUDIT_CHANGE_GROUP",
                                    "7": "Group",
                                    "8": "AUDIT_CHANGE_GROUP",
                                    "9": "0"
                                },
                                {
                                    "0": "[dm_audit_actions]",
                                    "1": "UDAG",
                                    "2": "USER_DEFINED_AUDIT_GROUP",
                                    "3": "DATABASE",
                                    "4": "NULL",
                                    "5": "SERVER",
                                    "6": "USER_DEFINED_AUDIT_GROUP",
                                    "7": "Group",
                                    "8": "USER_DEFINED_AUDIT_GROUP",
                                    "9": "0"
                                },
                                {
                                    "0": "[dm_audit_actions]",
                                    "1": "TX  ",
                                    "2": "TRANSACTION_GROUP",
                                    "3": "DATABASE",
                                    "4": "NULL",
                                    "5": "SERVER",
                                    "6": "TRANSACTION_GROUP",
                                    "7": "Group",
                                    "8": "TRANSACTION_GROUP",
                                    "9": "0"
                                },
                                {
                                    "0": "[dm_audit_actions]",
                                    "1": "SCCG",
                                    "2": "SENSITIVITY_CLASSIFICATION_CHANGE_GROUP",
                                    "3": "DATABASE",
                                    "4": "NULL",
                                    "5": "SERVER",
                                    "6": "SENSITIVITY_CLASSIFICATION_CHANGE_GROUP",
                                    "7": "Group",
                                    "8": "SENSITIVITY_CLASSIFICATION_CHANGE_GROUP",
                                    "9": "0"
                                },
                                {
                                    "0": "[dm_audit_actions]",
                                    "1": "FRCG",
                                    "2": "FEATURE_RESTRICTION_CHANGE_GROUP",
                                    "3": "DATABASE",
                                    "4": "NULL",
                                    "5": "SERVER",
                                    "6": "FEATURE_RESTRICTION_CHANGE_GROUP",
                                    "7": "Group",
                                    "8": "FEATURE_RESTRICTION_CHANGE_GROUP",
                                    "9": "0"
                                },
                                {
                                    "0": "[dm_audit_actions]",
                                    "1": "SL  ",
                                    "2": "SELECT",
                                    "3": "OBJECT",
                                    "4": "NULL",
                                    "5": "SCHEMA",
                                    "6": "SELECT",
                                    "7": "Action",
                                    "8": "SCHEMA_OBJECT_ACCESS_GROUP",
                                    "9": "1"
                                },
                                {
                                    "0": "[dm_audit_actions]",
                                    "1": "UP  ",
                                    "2": "UPDATE",
                                    "3": "OBJECT",
                                    "4": "NULL",
                                    "5": "SCHEMA",
                                    "6": "UPDATE",
                                    "7": "Action",
                                    "8": "SCHEMA_OBJECT_ACCESS_GROUP",
                                    "9": "1"
                                },
                                {
                                    "0": "[dm_audit_actions]",
                                    "1": "RF  ",
                                    "2": "REFERENCES",
                                    "3": "OBJECT",
                                    "4": "NULL",
                                    "5": "SCHEMA",
                                    "6": "REFERENCES",
                                    "7": "Action",
                                    "8": "SCHEMA_OBJECT_ACCESS_GROUP",
                                    "9": "1"
                                },
                                {
                                    "0": "[dm_audit_actions]",
                                    "1": "IN  ",
                                    "2": "INSERT",
                                    "3": "OBJECT",
                                    "4": "NULL",
                                    "5": "SCHEMA",
                                    "6": "INSERT",
                                    "7": "Action",
                                    "8": "SCHEMA_OBJECT_ACCESS_GROUP",
                                    "9": "1"
                                },
                                {
                                    "0": "[dm_audit_actions]",
                                    "1": "DL  ",
                                    "2": "DELETE",
                                    "3": "OBJECT",
                                    "4": "NULL",
                                    "5": "SCHEMA",
                                    "6": "DELETE",
                                    "7": "Action",
                                    "8": "SCHEMA_OBJECT_ACCESS_GROUP",
                                    "9": "1"
                                },
                                {
                                    "0": "[dm_audit_actions]",
                                    "1": "EX  ",
                                    "2": "EXECUTE",
                                    "3": "OBJECT",
                                    "4": "NULL",
                                    "5": "SCHEMA",
                                    "6": "EXECUTE",
                                    "7": "Action",
                                    "8": "SCHEMA_OBJECT_ACCESS_GROUP",
                                    "9": "1"
                                },
                                {
                                    "0": "[dm_audit_actions]",
                                    "1": "RC  ",
                                    "2": "RECEIVE",
                                    "3": "OBJECT",
                                    "4": "NULL",
                                    "5": "SCHEMA",
                                    "6": "RECEIVE",
                                    "7": "Action",
                                    "8": "SCHEMA_OBJECT_ACCESS_GROUP",
                                    "9": "1"
                                },
                                {
                                    "0": "[dm_audit_actions]",
                                    "1": "VWCT",
                                    "2": "VIEW CHANGETRACKING",
                                    "3": "OBJECT",
                                    "4": "NULL",
                                    "5": "SCHEMA",
                                    "6": "VIEW CHANGETRACKING",
                                    "7": "NULL",
                                    "8": "SCHEMA_OBJECT_ACCESS_GROUP",
                                    "9": "1"
                                },
                                {
                                    "0": "[dm_audit_actions]",
                                    "1": "RF  ",
                                    "2": "REFERENCES",
                                    "3": "TYPE",
                                    "4": "NULL",
                                    "5": "SCHEMA",
                                    "6": "REFERENCES",
                                    "7": "NULL",
                                    "8": "SCHEMA_OBJECT_ACCESS_GROUP",
                                    "9": "1"
                                },
                                {
                                    "0": "[dm_audit_actions]",
                                    "1": "EX  ",
                                    "2": "EXECUTE",
                                    "3": "TYPE",
                                    "4": "NULL",
                                    "5": "SCHEMA",
                                    "6": "EXECUTE",
                                    "7": "NULL",
                                    "8": "SCHEMA_OBJECT_ACCESS_GROUP",
                                    "9": "1"
                                },
                                {
                                    "0": "[dm_audit_actions]",
                                    "1": "SL  ",
                                    "2": "SELECT",
                                    "3": "SCHEMA",
                                    "4": "NULL",
                                    "5": "DATABASE",
                                    "6": "SELECT",
                                    "7": "Action",
                                    "8": "SCHEMA_OBJECT_ACCESS_GROUP",
                                    "9": "0"
                                },
                                {
                                    "0": "[dm_audit_actions]",
                                    "1": "IN  ",
                                    "2": "INSERT",
                                    "3": "SCHEMA",
                                    "4": "NULL",
                                    "5": "DATABASE",
                                    "6": "INSERT",
                                    "7": "Action",
                                    "8": "SCHEMA_OBJECT_ACCESS_GROUP",
                                    "9": "0"
                                },
                                {
                                    "0": "[dm_audit_actions]",
                                    "1": "UP  ",
                                    "2": "UPDATE",
                                    "3": "SCHEMA",
                                    "4": "NULL",
                                    "5": "DATABASE",
                                    "6": "UPDATE",
                                    "7": "Action",
                                    "8": "SCHEMA_OBJECT_ACCESS_GROUP",
                                    "9": "0"
                                },
                                {
                                    "0": "[dm_audit_actions]",
                                    "1": "DL  ",
                                    "2": "DELETE",
                                    "3": "SCHEMA",
                                    "4": "NULL",
                                    "5": "DATABASE",
                                    "6": "DELETE",
                                    "7": "Action",
                                    "8": "SCHEMA_OBJECT_ACCESS_GROUP",
                                    "9": "0"
                                },
                                {
                                    "0": "[dm_audit_actions]",
                                    "1": "RF  ",
                                    "2": "REFERENCES",
                                    "3": "SCHEMA",
                                    "4": "NULL",
                                    "5": "DATABASE",
                                    "6": "REFERENCES",
                                    "7": "Action",
                                    "8": "SCHEMA_OBJECT_ACCESS_GROUP",
                                    "9": "0"
                                },
                                {
                                    "0": "[dm_audit_actions]",
                                    "1": "EX  ",
                                    "2": "EXECUTE",
                                    "3": "SCHEMA",
                                    "4": "NULL",
                                    "5": "DATABASE",
                                    "6": "EXECUTE",
                                    "7": "Action",
                                    "8": "SCHEMA_OBJECT_ACCESS_GROUP",
                                    "9": "0"
                                },
                                {
                                    "0": "[dm_audit_actions]",
                                    "1": "RC  ",
                                    "2": "RECEIVE",
                                    "3": "SCHEMA",
                                    "4": "NULL",
                                    "5": "DATABASE",
                                    "6": "RECEIVE",
                                    "7": "Action",
                                    "8": "SCHEMA_OBJECT_ACCESS_GROUP",
                                    "9": "0"
                                },
                                {
                                    "0": "[dm_audit_actions]",
                                    "1": "VWCT",
                                    "2": "VIEW CHANGETRACKING",
                                    "3": "SCHEMA",
                                    "4": "NULL",
                                    "5": "DATABASE",
                                    "6": "VIEW CHANGETRACKING",
                                    "7": "NULL",
                                    "8": "SCHEMA_OBJECT_ACCESS_GROUP",
                                    "9": "0"
                                },
                                {
                                    "0": "[dm_audit_actions]",
                                    "1": "RF  ",
                                    "2": "REFERENCES",
                                    "3": "XML SCHEMA COLLECTION",
                                    "4": "NULL",
                                    "5": "SCHEMA",
                                    "6": "REFERENCES",
                                    "7": "NULL",
                                    "8": "SCHEMA_OBJECT_ACCESS_GROUP",
                                    "9": "1"
                                },
                                {
                                    "0": "[dm_audit_actions]",
                                    "1": "EX  ",
                                    "2": "EXECUTE",
                                    "3": "XML SCHEMA COLLECTION",
                                    "4": "NULL",
                                    "5": "SCHEMA",
                                    "6": "EXECUTE",
                                    "7": "NULL",
                                    "8": "SCHEMA_OBJECT_ACCESS_GROUP",
                                    "9": "1"
                                },
                                {
                                    "0": "[dm_audit_actions]",
                                    "1": "RF  ",
                                    "2": "REFERENCES",
                                    "3": "ASSEMBLY",
                                    "4": "NULL",
                                    "5": "DATABASE",
                                    "6": "DATABASE_OBJECT_ACCESS_GROUP",
                                    "7": "NULL",
                                    "8": "DATABASE_OBJECT_ACCESS_GROUP",
                                    "9": "1"
                                },
                                {
                                    "0": "[dm_audit_actions]",
                                    "1": "IMP ",
                                    "2": "IMPERSONATE",
                                    "3": "USER",
                                    "4": "NULL",
                                    "5": "DATABASE",
                                    "6": "DATABASE_PRINCIPAL_IMPERSONATION_GROUP",
                                    "7": "NULL",
                                    "8": "DATABASE_PRINCIPAL_IMPERSONATION_GROUP",
                                    "9": "1"
                                },
                                {
                                    "0": "[dm_audit_actions]",
                                    "1": "RF  ",
                                    "2": "REFERENCES",
                                    "3": "MESSAGE TYPE",
                                    "4": "NULL",
                                    "5": "DATABASE",
                                    "6": "DATABASE_OBJECT_ACCESS_GROUP",
                                    "7": "NULL",
                                    "8": "DATABASE_OBJECT_ACCESS_GROUP",
                                    "9": "1"
                                },
                                {
                                    "0": "[dm_audit_actions]",
                                    "1": "RF  ",
                                    "2": "REFERENCES",
                                    "3": "CONTRACT",
                                    "4": "NULL",
                                    "5": "DATABASE",
                                    "6": "DATABASE_OBJECT_ACCESS_GROUP",
                                    "7": "NULL",
                                    "8": "DATABASE_OBJECT_ACCESS_GROUP",
                                    "9": "1"
                                },
                                {
                                    "0": "[dm_audit_actions]",
                                    "1": "SN  ",
                                    "2": "SEND",
                                    "3": "SERVICE",
                                    "4": "NULL",
                                    "5": "DATABASE",
                                    "6": "DATABASE_OBJECT_ACCESS_GROUP",
                                    "7": "NULL",
                                    "8": "DATABASE_OBJECT_ACCESS_GROUP",
                                    "9": "1"
                                },
                                {
                                    "0": "[dm_audit_actions]",
                                    "1": "RF  ",
                                    "2": "REFERENCES",
                                    "3": "FULLTEXT CATALOG",
                                    "4": "NULL",
                                    "5": "DATABASE",
                                    "6": "REFERENCES",
                                    "7": "NULL",
                                    "8": "SCHEMA_OBJECT_ACCESS_GROUP",
                                    "9": "1"
                                },
                                {
                                    "0": "[dm_audit_actions]",
                                    "1": "RF  ",
                                    "2": "REFERENCES",
                                    "3": "FULLTEXT STOPLIST",
                                    "4": "NULL",
                                    "5": "DATABASE",
                                    "6": "REFERENCES",
                                    "7": "NULL",
                                    "8": "SCHEMA_OBJECT_ACCESS_GROUP",
                                    "9": "1"
                                },
                                {
                                    "0": "[dm_audit_actions]",
                                    "1": "RF  ",
                                    "2": "REFERENCES",
                                    "3": "SEARCH PROPERTY LIST",
                                    "4": "NULL",
                                    "5": "DATABASE",
                                    "6": "REFERENCES",
                                    "7": "NULL",
                                    "8": "SCHEMA_OBJECT_ACCESS_GROUP",
                                    "9": "1"
                                },
                                {
                                    "0": "[dm_audit_actions]",
                                    "1": "RF  ",
                                    "2": "REFERENCES",
                                    "3": "SYMMETRIC KEY",
                                    "4": "NULL",
                                    "5": "DATABASE",
                                    "6": "DATABASE_OBJECT_ACCESS_GROUP",
                                    "7": "NULL",
                                    "8": "DATABASE_OBJECT_ACCESS_GROUP",
                                    "9": "1"
                                },
                                {
                                    "0": "[dm_audit_actions]",
                                    "1": "RF  ",
                                    "2": "REFERENCES",
                                    "3": "CERTIFICATE",
                                    "4": "NULL",
                                    "5": "DATABASE",
                                    "6": "DATABASE_OBJECT_ACCESS_GROUP",
                                    "7": "NULL",
                                    "8": "DATABASE_OBJECT_ACCESS_GROUP",
                                    "9": "1"
                                },
                                {
                                    "0": "[dm_audit_actions]",
                                    "1": "RF  ",
                                    "2": "REFERENCES",
                                    "3": "ASYMMETRIC KEY",
                                    "4": "NULL",
                                    "5": "DATABASE",
                                    "6": "DATABASE_OBJECT_ACCESS_GROUP",
                                    "7": "NULL",
                                    "8": "DATABASE_OBJECT_ACCESS_GROUP",
                                    "9": "1"
                                },
                                {
                                    "0": "[dm_audit_actions]",
                                    "1": "RF  ",
                                    "2": "REFERENCES",
                                    "3": "DATABASE SCOPED CREDENTIAL",
                                    "4": "NULL",
                                    "5": "DATABASE",
                                    "6": "DATABASE_OBJECT_ACCESS_GROUP",
                                    "7": "NULL",
                                    "8": "DATABASE_OBJECT_ACCESS_GROUP",
                                    "9": "1"
                                },
                                {
                                    "0": "[dm_audit_actions]",
                                    "1": "RF  ",
                                    "2": "REFERENCES",
                                    "3": "EXTERNAL LIBRARY",
                                    "4": "NULL",
                                    "5": "DATABASE",
                                    "6": "DATABASE_OBJECT_ACCESS_GROUP",
                                    "7": "NULL",
                                    "8": "DATABASE_OBJECT_ACCESS_GROUP",
                                    "9": "1"
                                },
                                {
                                    "0": "[dm_audit_actions]",
                                    "1": "RF  ",
                                    "2": "REFERENCES",
                                    "3": "EXTERNAL LANGUAGE",
                                    "4": "NULL",
                                    "5": "DATABASE",
                                    "6": "DATABASE_OBJECT_ACCESS_GROUP",
                                    "7": "NULL",
                                    "8": "DATABASE_OBJECT_ACCESS_GROUP",
                                    "9": "1"
                                },
                                {
                                    "0": "[dm_audit_actions]",
                                    "1": "LGSD",
                                    "2": "SUCCESSFUL_LOGIN_GROUP",
                                    "3": "SERVER",
                                    "4": "NULL",
                                    "5": "NULL",
                                    "6": "NULL",
                                    "7": "Group",
                                    "8": "SUCCESSFUL_LOGIN_GROUP",
                                    "9": "0"
                                },
                                {
                                    "0": "[dm_audit_actions]",
                                    "1": "LGFL",
                                    "2": "FAILED_LOGIN_GROUP",
                                    "3": "SERVER",
                                    "4": "NULL",
                                    "5": "NULL",
                                    "6": "NULL",
                                    "7": "Group",
                                    "8": "FAILED_LOGIN_GROUP",
                                    "9": "0"
                                },
                                {
                                    "0": "[dm_audit_actions]",
                                    "1": "LO  ",
                                    "2": "LOGOUT_GROUP",
                                    "3": "SERVER",
                                    "4": "NULL",
                                    "5": "NULL",
                                    "6": "NULL",
                                    "7": "Group",
                                    "8": "LOGOUT_GROUP",
                                    "9": "0"
                                },
                                {
                                    "0": "[dm_audit_actions]",
                                    "1": "STSV",
                                    "2": "SERVER_STATE_CHANGE_GROUP",
                                    "3": "SERVER",
                                    "4": "NULL",
                                    "5": "NULL",
                                    "6": "NULL",
                                    "7": "Group",
                                    "8": "SERVER_STATE_CHANGE_GROUP",
                                    "9": "0"
                                },
                                {
                                    "0": "[dm_audit_actions]",
                                    "1": "DBCG",
                                    "2": "DBCC_GROUP",
                                    "3": "SERVER",
                                    "4": "NULL",
                                    "5": "NULL",
                                    "6": "NULL",
                                    "7": "Group",
                                    "8": "DBCC_GROUP",
                                    "9": "0"
                                },
                                {
                                    "0": "[dm_audit_actions]",
                                    "1": "CNAU",
                                    "2": "AUDIT_CHANGE_GROUP",
                                    "3": "SERVER",
                                    "4": "NULL",
                                    "5": "NULL",
                                    "6": "NULL",
                                    "7": "Group",
                                    "8": "AUDIT_CHANGE_GROUP",
                                    "9": "0"
                                },
                                {
                                    "0": "[dm_audit_actions]",
                                    "1": "GRSV",
                                    "2": "SERVER_PERMISSION_CHANGE_GROUP",
                                    "3": "SERVER",
                                    "4": "NULL",
                                    "5": "NULL",
                                    "6": "NULL",
                                    "7": "Group",
                                    "8": "SERVER_PERMISSION_CHANGE_GROUP",
                                    "9": "0"
                                },
                                {
                                    "0": "[dm_audit_actions]",
                                    "1": "OPSV",
                                    "2": "SERVER_OPERATION_GROUP",
                                    "3": "SERVER",
                                    "4": "NULL",
                                    "5": "NULL",
                                    "6": "NULL",
                                    "7": "Group",
                                    "8": "SERVER_OPERATION_GROUP",
                                    "9": "0"
                                },
                                {
                                    "0": "[dm_audit_actions]",
                                    "1": "TRCG",
                                    "2": "TRACE_CHANGE_GROUP",
                                    "3": "SERVER",
                                    "4": "NULL",
                                    "5": "NULL",
                                    "6": "NULL",
                                    "7": "Group",
                                    "8": "TRACE_CHANGE_GROUP",
                                    "9": "0"
                                },
                                {
                                    "0": "[dm_audit_actions]",
                                    "1": "PWCG",
                                    "2": "LOGIN_CHANGE_PASSWORD_GROUP",
                                    "3": "SERVER",
                                    "4": "NULL",
                                    "5": "NULL",
                                    "6": "NULL",
                                    "7": "Group",
                                    "8": "LOGIN_CHANGE_PASSWORD_GROUP",
                                    "9": "0"
                                },
                                {
                                    "0": "[dm_audit_actions]",
                                    "1": "ADSP",
                                    "2": "SERVER_ROLE_MEMBER_CHANGE_GROUP",
                                    "3": "SERVER",
                                    "4": "NULL",
                                    "5": "NULL",
                                    "6": "NULL",
                                    "7": "Group",
                                    "8": "SERVER_ROLE_MEMBER_CHANGE_GROUP",
                                    "9": "0"
                                },
                                {
                                    "0": "[dm_audit_actions]",
                                    "1": "TOSO",
                                    "2": "SERVER_OBJECT_OWNERSHIP_CHANGE_GROUP",
                                    "3": "SERVER",
                                    "4": "NULL",
                                    "5": "NULL",
                                    "6": "NULL",
                                    "7": "Group",
                                    "8": "SERVER_OBJECT_OWNERSHIP_CHANGE_GROUP",
                                    "9": "0"
                                },
                                {
                                    "0": "[dm_audit_actions]",
                                    "1": "LGBG",
                                    "2": "BROKER_LOGIN_GROUP",
                                    "3": "SERVER",
                                    "4": "NULL",
                                    "5": "NULL",
                                    "6": "NULL",
                                    "7": "Group",
                                    "8": "BROKER_LOGIN_GROUP",
                                    "9": "0"
                                },
                                {
                                    "0": "[dm_audit_actions]",
                                    "1": "LGMG",
                                    "2": "DATABASE_MIRRORING_LOGIN_GROUP",
                                    "3": "SERVER",
                                    "4": "NULL",
                                    "5": "NULL",
                                    "6": "NULL",
                                    "7": "Group",
                                    "8": "DATABASE_MIRRORING_LOGIN_GROUP",
                                    "9": "0"
                                },
                                {
                                    "0": "[dm_audit_actions]",
                                    "1": "LGGG",
                                    "2": "GLOBAL_TRANSACTIONS_LOGIN_GROUP",
                                    "3": "SERVER",
                                    "4": "NULL",
                                    "5": "NULL",
                                    "6": "NULL",
                                    "7": "Group",
                                    "8": "GLOBAL_TRANSACTIONS_LOGIN_GROUP",
                                    "9": "0"
                                },
                                {
                                    "0": "[dm_audit_actions]",
                                    "1": "LGSG",
                                    "2": "STORAGE_LOGIN_GROUP",
                                    "3": "SERVER",
                                    "4": "NULL",
                                    "5": "NULL",
                                    "6": "NULL",
                                    "7": "Group",
                                    "8": "STORAGE_LOGIN_GROUP",
                                    "9": "0"
                                },
                                {
                                    "0": "[dm_audit_actions]",
                                    "1": "FTG ",
                                    "2": "FULLTEXT_GROUP",
                                    "3": "SERVER",
                                    "4": "NULL",
                                    "5": "NULL",
                                    "6": "NULL",
                                    "7": "Group",
                                    "8": "FULLTEXT_GROUP",
                                    "9": "0"
                                },
                                {
                                    "0": "[dm_audit_actions]",
                                    "1": "MNSO",
                                    "2": "SERVER_OBJECT_CHANGE_GROUP",
                                    "3": "SERVER",
                                    "4": "NULL",
                                    "5": "NULL",
                                    "6": "NULL",
                                    "7": "Group",
                                    "8": "SERVER_OBJECT_CHANGE_GROUP",
                                    "9": "0"
                                },
                                {
                                    "0": "[dm_audit_actions]",
                                    "1": "MNSP",
                                    "2": "SERVER_PRINCIPAL_CHANGE_GROUP",
                                    "3": "SERVER",
                                    "4": "NULL",
                                    "5": "NULL",
                                    "6": "NULL",
                                    "7": "Group",
                                    "8": "SERVER_PRINCIPAL_CHANGE_GROUP",
                                    "9": "0"
                                },
                                {
                                    "0": "[dm_audit_actions]",
                                    "1": "IMSP",
                                    "2": "SERVER_PRINCIPAL_IMPERSONATION_GROUP",
                                    "3": "SERVER",
                                    "4": "NULL",
                                    "5": "NULL",
                                    "6": "NULL",
                                    "7": "Group",
                                    "8": "SERVER_PRINCIPAL_IMPERSONATION_GROUP",
                                    "9": "0"
                                },
                                {
                                    "0": "[dm_audit_actions]",
                                    "1": "GRSO",
                                    "2": "SERVER_OBJECT_PERMISSION_CHANGE_GROUP",
                                    "3": "SERVER",
                                    "4": "NULL",
                                    "5": "NULL",
                                    "6": "NULL",
                                    "7": "Group",
                                    "8": "SERVER_OBJECT_PERMISSION_CHANGE_GROUP",
                                    "9": "0"
                                },
                                {
                                    "0": "[dm_audit_actions]",
                                    "1": "GRDB",
                                    "2": "DATABASE_PERMISSION_CHANGE_GROUP",
                                    "3": "SERVER",
                                    "4": "NULL",
                                    "5": "NULL",
                                    "6": "NULL",
                                    "7": "Group",
                                    "8": "DATABASE_PERMISSION_CHANGE_GROUP",
                                    "9": "0"
                                },
                                {
                                    "0": "[dm_audit_actions]",
                                    "1": "GRO ",
                                    "2": "SCHEMA_OBJECT_PERMISSION_CHANGE_GROUP",
                                    "3": "SERVER",
                                    "4": "NULL",
                                    "5": "NULL",
                                    "6": "NULL",
                                    "7": "Group",
                                    "8": "SCHEMA_OBJECT_PERMISSION_CHANGE_GROUP",
                                    "9": "0"
                                },
                                {
                                    "0": "[dm_audit_actions]",
                                    "1": "ADDP",
                                    "2": "DATABASE_ROLE_MEMBER_CHANGE_GROUP",
                                    "3": "SERVER",
                                    "4": "NULL",
                                    "5": "NULL",
                                    "6": "NULL",
                                    "7": "Group",
                                    "8": "DATABASE_ROLE_MEMBER_CHANGE_GROUP",
                                    "9": "0"
                                },
                                {
                                    "0": "[dm_audit_actions]",
                                    "1": "PWAR",
                                    "2": "APPLICATION_ROLE_CHANGE_PASSWORD_GROUP",
                                    "3": "SERVER",
                                    "4": "NULL",
                                    "5": "NULL",
                                    "6": "NULL",
                                    "7": "Group",
                                    "8": "APPLICATION_ROLE_CHANGE_PASSWORD_GROUP",
                                    "9": "0"
                                },
                                {
                                    "0": "[dm_audit_actions]",
                                    "1": "ACO ",
                                    "2": "SCHEMA_OBJECT_ACCESS_GROUP",
                                    "3": "SERVER",
                                    "4": "NULL",
                                    "5": "NULL",
                                    "6": "NULL",
                                    "7": "Group",
                                    "8": "SCHEMA_OBJECT_ACCESS_GROUP",
                                    "9": "0"
                                },
                                {
                                    "0": "[dm_audit_actions]",
                                    "1": "BRDB",
                                    "2": "BACKUP_RESTORE_GROUP",
                                    "3": "SERVER",
                                    "4": "NULL",
                                    "5": "NULL",
                                    "6": "NULL",
                                    "7": "Group",
                                    "8": "BACKUP_RESTORE_GROUP",
                                    "9": "0"
                                },
                                {
                                    "0": "[dm_audit_actions]",
                                    "1": "MNDB",
                                    "2": "DATABASE_CHANGE_GROUP",
                                    "3": "SERVER",
                                    "4": "NULL",
                                    "5": "NULL",
                                    "6": "NULL",
                                    "7": "Group",
                                    "8": "DATABASE_CHANGE_GROUP",
                                    "9": "0"
                                },
                                {
                                    "0": "[dm_audit_actions]",
                                    "1": "MNDO",
                                    "2": "DATABASE_OBJECT_CHANGE_GROUP",
                                    "3": "SERVER",
                                    "4": "NULL",
                                    "5": "NULL",
                                    "6": "NULL",
                                    "7": "Group",
                                    "8": "DATABASE_OBJECT_CHANGE_GROUP",
                                    "9": "0"
                                },
                                {
                                    "0": "[dm_audit_actions]",
                                    "1": "MNDP",
                                    "2": "DATABASE_PRINCIPAL_CHANGE_GROUP",
                                    "3": "SERVER",
                                    "4": "NULL",
                                    "5": "NULL",
                                    "6": "NULL",
                                    "7": "Group",
                                    "8": "DATABASE_PRINCIPAL_CHANGE_GROUP",
                                    "9": "0"
                                },
                                {
                                    "0": "[dm_audit_actions]",
                                    "1": "MNO ",
                                    "2": "SCHEMA_OBJECT_CHANGE_GROUP",
                                    "3": "SERVER",
                                    "4": "NULL",
                                    "5": "NULL",
                                    "6": "NULL",
                                    "7": "Group",
                                    "8": "SCHEMA_OBJECT_CHANGE_GROUP",
                                    "9": "0"
                                },
                                {
                                    "0": "[dm_audit_actions]",
                                    "1": "IMDP",
                                    "2": "DATABASE_PRINCIPAL_IMPERSONATION_GROUP",
                                    "3": "SERVER",
                                    "4": "NULL",
                                    "5": "NULL",
                                    "6": "NULL",
                                    "7": "Group",
                                    "8": "DATABASE_PRINCIPAL_IMPERSONATION_GROUP",
                                    "9": "0"
                                },
                                {
                                    "0": "[dm_audit_actions]",
                                    "1": "TODO",
                                    "2": "DATABASE_OBJECT_OWNERSHIP_CHANGE_GROUP",
                                    "3": "SERVER",
                                    "4": "NULL",
                                    "5": "NULL",
                                    "6": "NULL",
                                    "7": "Group",
                                    "8": "DATABASE_OBJECT_OWNERSHIP_CHANGE_GROUP",
                                    "9": "0"
                                },
                                {
                                    "0": "[dm_audit_actions]",
                                    "1": "TODB",
                                    "2": "DATABASE_OWNERSHIP_CHANGE_GROUP",
                                    "3": "SERVER",
                                    "4": "NULL",
                                    "5": "NULL",
                                    "6": "NULL",
                                    "7": "Group",
                                    "8": "DATABASE_OWNERSHIP_CHANGE_GROUP",
                                    "9": "0"
                                },
                                {
                                    "0": "[dm_audit_actions]",
                                    "1": "TOO ",
                                    "2": "SCHEMA_OBJECT_OWNERSHIP_CHANGE_GROUP",
                                    "3": "SERVER",
                                    "4": "NULL",
                                    "5": "NULL",
                                    "6": "NULL",
                                    "7": "Group",
                                    "8": "SCHEMA_OBJECT_OWNERSHIP_CHANGE_GROUP",
                                    "9": "0"
                                },
                                {
                                    "0": "[dm_audit_actions]",
                                    "1": "GRDO",
                                    "2": "DATABASE_OBJECT_PERMISSION_CHANGE_GROUP",
                                    "3": "SERVER",
                                    "4": "NULL",
                                    "5": "NULL",
                                    "6": "NULL",
                                    "7": "Group",
                                    "8": "DATABASE_OBJECT_PERMISSION_CHANGE_GROUP",
                                    "9": "0"
                                },
                                {
                                    "0": "[dm_audit_actions]",
                                    "1": "OPDB",
                                    "2": "DATABASE_OPERATION_GROUP",
                                    "3": "SERVER",
                                    "4": "NULL",
                                    "5": "NULL",
                                    "6": "NULL",
                                    "7": "Group",
                                    "8": "DATABASE_OPERATION_GROUP",
                                    "9": "0"
                                },
                                {
                                    "0": "[dm_audit_actions]",
                                    "1": "ACDO",
                                    "2": "DATABASE_OBJECT_ACCESS_GROUP",
                                    "3": "SERVER",
                                    "4": "NULL",
                                    "5": "NULL",
                                    "6": "NULL",
                                    "7": "Group",
                                    "8": "DATABASE_OBJECT_ACCESS_GROUP",
                                    "9": "0"
                                },
                                {
                                    "0": "[dm_audit_actions]",
                                    "1": "DAGS",
                                    "2": "SUCCESSFUL_DATABASE_AUTHENTICATION_GROUP",
                                    "3": "SERVER",
                                    "4": "NULL",
                                    "5": "NULL",
                                    "6": "NULL",
                                    "7": "Group",
                                    "8": "SUCCESSFUL_DATABASE_AUTHENTICATION_GROUP",
                                    "9": "0"
                                },
                                {
                                    "0": "[dm_audit_actions]",
                                    "1": "DAGF",
                                    "2": "FAILED_DATABASE_AUTHENTICATION_GROUP",
                                    "3": "SERVER",
                                    "4": "NULL",
                                    "5": "NULL",
                                    "6": "NULL",
                                    "7": "Group",
                                    "8": "FAILED_DATABASE_AUTHENTICATION_GROUP",
                                    "9": "0"
                                },
                                {
                                    "0": "[dm_audit_actions]",
                                    "1": "DAGL",
                                    "2": "DATABASE_LOGOUT_GROUP",
                                    "3": "SERVER",
                                    "4": "NULL",
                                    "5": "NULL",
                                    "6": "NULL",
                                    "7": "Group",
                                    "8": "DATABASE_LOGOUT_GROUP",
                                    "9": "0"
                                },
                                {
                                    "0": "[dm_audit_actions]",
                                    "1": "UCGP",
                                    "2": "USER_CHANGE_PASSWORD_GROUP",
                                    "3": "SERVER",
                                    "4": "NULL",
                                    "5": "NULL",
                                    "6": "NULL",
                                    "7": "Group",
                                    "8": "USER_CHANGE_PASSWORD_GROUP",
                                    "9": "0"
                                },
                                {
                                    "0": "[dm_audit_actions]",
                                    "1": "UDAG",
                                    "2": "USER_DEFINED_AUDIT_GROUP",
                                    "3": "SERVER",
                                    "4": "NULL",
                                    "5": "NULL",
                                    "6": "NULL",
                                    "7": "Group",
                                    "8": "USER_DEFINED_AUDIT_GROUP",
                                    "9": "0"
                                },
                                {
                                    "0": "[dm_audit_actions]",
                                    "1": "BSTG",
                                    "2": "BATCH_STARTED_GROUP",
                                    "3": "SERVER",
                                    "4": "NULL",
                                    "5": "NULL",
                                    "6": "NULL",
                                    "7": "Group",
                                    "8": "BATCH_STARTED_GROUP",
                                    "9": "0"
                                },
                                {
                                    "0": "[dm_audit_actions]",
                                    "1": "BCMG",
                                    "2": "BATCH_COMPLETED_GROUP",
                                    "3": "SERVER",
                                    "4": "NULL",
                                    "5": "NULL",
                                    "6": "NULL",
                                    "7": "Group",
                                    "8": "BATCH_COMPLETED_GROUP",
                                    "9": "0"
                                },
                                {
                                    "0": "[dm_audit_actions]",
                                    "1": "TXGG",
                                    "2": "TRANSACTION_BEGIN_GROUP",
                                    "3": "SERVER",
                                    "4": "TRANSACTION_GROUP",
                                    "5": "NULL",
                                    "6": "NULL",
                                    "7": "Group",
                                    "8": "TRANSACTION_BEGIN_GROUP",
                                    "9": "0"
                                },
                                {
                                    "0": "[dm_audit_actions]",
                                    "1": "TXCG",
                                    "2": "TRANSACTION_COMMIT_GROUP",
                                    "3": "SERVER",
                                    "4": "TRANSACTION_GROUP",
                                    "5": "NULL",
                                    "6": "NULL",
                                    "7": "Group",
                                    "8": "TRANSACTION_COMMIT_GROUP",
                                    "9": "0"
                                },
                                {
                                    "0": "[dm_audit_actions]",
                                    "1": "TXRG",
                                    "2": "TRANSACTION_ROLLBACK_GROUP",
                                    "3": "SERVER",
                                    "4": "TRANSACTION_GROUP",
                                    "5": "NULL",
                                    "6": "NULL",
                                    "7": "Group",
                                    "8": "TRANSACTION_ROLLBACK_GROUP",
                                    "9": "0"
                                },
                                {
                                    "0": "[dm_audit_actions]",
                                    "1": "UNDG",
                                    "2": "STATEMENT_ROLLBACK_GROUP",
                                    "3": "SERVER",
                                    "4": "TRANSACTION_GROUP",
                                    "5": "NULL",
                                    "6": "NULL",
                                    "7": "Group",
                                    "8": "STATEMENT_ROLLBACK_GROUP",
                                    "9": "0"
                                },
                                {
                                    "0": "[dm_audit_actions]",
                                    "1": "TX  ",
                                    "2": "TRANSACTION_GROUP",
                                    "3": "SERVER",
                                    "4": "NULL",
                                    "5": "NULL",
                                    "6": "NULL",
                                    "7": "Group",
                                    "8": "TRANSACTION_GROUP",
                                    "9": "0"
                                },
                                {
                                    "0": "[dm_audit_actions]",
                                    "1": "SCCG",
                                    "2": "SENSITIVITY_CLASSIFICATION_CHANGE_GROUP",
                                    "3": "SERVER",
                                    "4": "NULL",
                                    "5": "NULL",
                                    "6": "NULL",
                                    "7": "Group",
                                    "8": "SENSITIVITY_CLASSIFICATION_CHANGE_GROUP",
                                    "9": "0"
                                },
                                {
                                    "0": "[dm_audit_actions]",
                                    "1": "FRCG",
                                    "2": "FEATURE_RESTRICTION_CHANGE_GROUP",
                                    "3": "SERVER",
                                    "4": "NULL",
                                    "5": "NULL",
                                    "6": "NULL",
                                    "7": "Group",
                                    "8": "FEATURE_RESTRICTION_CHANGE_GROUP",
                                    "9": "0"
                                },
                                {
                                    "0": "[dm_audit_actions]",
                                    "1": "IMP ",
                                    "2": "IMPERSONATE",
                                    "3": "LOGIN",
                                    "4": "NULL",
                                    "5": "SERVER",
                                    "6": "SERVER_PRINCIPAL_IMPERSONATION_GROUP",
                                    "7": "NULL",
                                    "8": "SERVER_PRINCIPAL_IMPERSONATION_GROUP",
                                    "9": "1"
                                },
                                {
                                    "0": "[dm_audit_actions]",
                                    "1": "LGIS",
                                    "2": "LOGIN SUCCEEDED",
                                    "3": "LOGIN",
                                    "4": "NULL",
                                    "5": "SERVER",
                                    "6": "SUCCESSFUL_LOGIN_GROUP",
                                    "7": "NULL",
                                    "8": "SUCCESSFUL_LOGIN_GROUP",
                                    "9": "1"
                                },
                                {
                                    "0": "[dm_audit_actions]",
                                    "1": "LGIF",
                                    "2": "LOGIN FAILED",
                                    "3": "LOGIN",
                                    "4": "NULL",
                                    "5": "SERVER",
                                    "6": "FAILED_LOGIN_GROUP",
                                    "7": "NULL",
                                    "8": "FAILED_LOGIN_GROUP",
                                    "9": "1"
                                },
                                {
                                    "0": "[dm_audit_actions]",
                                    "1": "LGO ",
                                    "2": "LOGOUT",
                                    "3": "LOGIN",
                                    "4": "NULL",
                                    "5": "SERVER",
                                    "6": "LOGOUT_GROUP",
                                    "7": "NULL",
                                    "8": "LOGOUT_GROUP",
                                    "9": "1"
                                },
                                {
                                    "0": "[dm_audit_actions]",
                                    "1": "LGB ",
                                    "2": "BROKER LOGIN",
                                    "3": "SERVER",
                                    "4": "BROKER_LOGIN_GROUP",
                                    "5": "NULL",
                                    "6": "NULL",
                                    "7": "NULL",
                                    "8": "BROKER_LOGIN_GROUP",
                                    "9": "1"
                                },
                                {
                                    "0": "[dm_audit_actions]",
                                    "1": "LGM ",
                                    "2": "DATABASE MIRRORING LOGIN",
                                    "3": "SERVER",
                                    "4": "DATABASE_MIRRORING_LOGIN_GROUP",
                                    "5": "NULL",
                                    "6": "NULL",
                                    "7": "NULL",
                                    "8": "DATABASE_MIRRORING_LOGIN_GROUP",
                                    "9": "1"
                                },
                                {
                                    "0": "[dm_audit_actions]",
                                    "1": "LGG ",
                                    "2": "GLOBAL TRANSACTIONS LOGIN",
                                    "3": "SERVER",
                                    "4": "GLOBAL_TRANSACTIONS_LOGIN_GROUP",
                                    "5": "NULL",
                                    "6": "NULL",
                                    "7": "NULL",
                                    "8": "GLOBAL_TRANSACTIONS_LOGIN_GROUP",
                                    "9": "1"
                                },
                                {
                                    "0": "[dm_audit_actions]",
                                    "1": "LGS ",
                                    "2": "STORAGE LOGIN",
                                    "3": "SERVER",
                                    "4": "STORAGE_LOGIN_GROUP",
                                    "5": "NULL",
                                    "6": "NULL",
                                    "7": "NULL",
                                    "8": "STORAGE_LOGIN_GROUP",
                                    "9": "1"
                                },
                                {
                                    "0": "[dm_audit_actions]",
                                    "1": "FT  ",
                                    "2": "FULLTEXT",
                                    "3": "SERVER",
                                    "4": "FULLTEXT_GROUP",
                                    "5": "NULL",
                                    "6": "NULL",
                                    "7": "NULL",
                                    "8": "FULLTEXT_GROUP",
                                    "9": "1"
                                },
                                {
                                    "0": "[dm_audit_actions]",
                                    "1": "AUSC",
                                    "2": "AUDIT SESSION CHANGED",
                                    "3": "SERVER AUDIT",
                                    "4": "NULL",
                                    "5": "SERVER",
                                    "6": "NULL",
                                    "7": "NULL",
                                    "8": "NULL",
                                    "9": "1"
                                }
                            ]
                        },
                        "text/html": [
                            "<table>",
                            "<tr><th>TableName</th><th>action_id</th><th>name</th><th>class_desc</th><th>covering_action_name</th><th>parent_class_desc</th><th>covering_parent_action_name</th><th>configuration_level</th><th>containing_group_name</th><th>action_in_log</th></tr>",
                            "<tr><td>[dm_audit_actions]</td><td>R   </td><td>REVOKE</td><td>DATABASE</td><td>DATABASE_PERMISSION_CHANGE_GROUP</td><td>SERVER</td><td>DATABASE_PERMISSION_CHANGE_GROUP</td><td>NULL</td><td>DATABASE_PERMISSION_CHANGE_GROUP</td><td>1</td></tr>",
                            "<tr><td>[dm_audit_actions]</td><td>D   </td><td>DENY</td><td>DATABASE</td><td>DATABASE_PERMISSION_CHANGE_GROUP</td><td>SERVER</td><td>DATABASE_PERMISSION_CHANGE_GROUP</td><td>NULL</td><td>DATABASE_PERMISSION_CHANGE_GROUP</td><td>1</td></tr>",
                            "<tr><td>[dm_audit_actions]</td><td>G   </td><td>GRANT</td><td>DATABASE</td><td>DATABASE_PERMISSION_CHANGE_GROUP</td><td>SERVER</td><td>DATABASE_PERMISSION_CHANGE_GROUP</td><td>NULL</td><td>DATABASE_PERMISSION_CHANGE_GROUP</td><td>1</td></tr>",
                            "<tr><td>[dm_audit_actions]</td><td>GWG </td><td>GRANT WITH GRANT</td><td>DATABASE</td><td>DATABASE_PERMISSION_CHANGE_GROUP</td><td>SERVER</td><td>DATABASE_PERMISSION_CHANGE_GROUP</td><td>NULL</td><td>DATABASE_PERMISSION_CHANGE_GROUP</td><td>1</td></tr>",
                            "<tr><td>[dm_audit_actions]</td><td>RWG </td><td>REVOKE WITH GRANT</td><td>DATABASE</td><td>DATABASE_PERMISSION_CHANGE_GROUP</td><td>SERVER</td><td>DATABASE_PERMISSION_CHANGE_GROUP</td><td>NULL</td><td>DATABASE_PERMISSION_CHANGE_GROUP</td><td>1</td></tr>",
                            "<tr><td>[dm_audit_actions]</td><td>RWC </td><td>REVOKE WITH CASCADE</td><td>DATABASE</td><td>DATABASE_PERMISSION_CHANGE_GROUP</td><td>SERVER</td><td>DATABASE_PERMISSION_CHANGE_GROUP</td><td>NULL</td><td>DATABASE_PERMISSION_CHANGE_GROUP</td><td>1</td></tr>",
                            "<tr><td>[dm_audit_actions]</td><td>DWC </td><td>DENY WITH CASCADE</td><td>DATABASE</td><td>DATABASE_PERMISSION_CHANGE_GROUP</td><td>SERVER</td><td>DATABASE_PERMISSION_CHANGE_GROUP</td><td>NULL</td><td>DATABASE_PERMISSION_CHANGE_GROUP</td><td>1</td></tr>",
                            "<tr><td>[dm_audit_actions]</td><td>R   </td><td>REVOKE</td><td>OBJECT</td><td>NULL</td><td>DATABASE</td><td>SCHEMA_OBJECT_PERMISSION_CHANGE_GROUP</td><td>NULL</td><td>SCHEMA_OBJECT_PERMISSION_CHANGE_GROUP</td><td>1</td></tr>",
                            "<tr><td>[dm_audit_actions]</td><td>D   </td><td>DENY</td><td>OBJECT</td><td>NULL</td><td>DATABASE</td><td>SCHEMA_OBJECT_PERMISSION_CHANGE_GROUP</td><td>NULL</td><td>SCHEMA_OBJECT_PERMISSION_CHANGE_GROUP</td><td>1</td></tr>",
                            "<tr><td>[dm_audit_actions]</td><td>G   </td><td>GRANT</td><td>OBJECT</td><td>NULL</td><td>DATABASE</td><td>SCHEMA_OBJECT_PERMISSION_CHANGE_GROUP</td><td>NULL</td><td>SCHEMA_OBJECT_PERMISSION_CHANGE_GROUP</td><td>1</td></tr>",
                            "<tr><td>[dm_audit_actions]</td><td>GWG </td><td>GRANT WITH GRANT</td><td>OBJECT</td><td>NULL</td><td>DATABASE</td><td>SCHEMA_OBJECT_PERMISSION_CHANGE_GROUP</td><td>NULL</td><td>SCHEMA_OBJECT_PERMISSION_CHANGE_GROUP</td><td>1</td></tr>",
                            "<tr><td>[dm_audit_actions]</td><td>RWG </td><td>REVOKE WITH GRANT</td><td>OBJECT</td><td>NULL</td><td>DATABASE</td><td>SCHEMA_OBJECT_PERMISSION_CHANGE_GROUP</td><td>NULL</td><td>SCHEMA_OBJECT_PERMISSION_CHANGE_GROUP</td><td>1</td></tr>",
                            "<tr><td>[dm_audit_actions]</td><td>RWC </td><td>REVOKE WITH CASCADE</td><td>OBJECT</td><td>NULL</td><td>DATABASE</td><td>SCHEMA_OBJECT_PERMISSION_CHANGE_GROUP</td><td>NULL</td><td>SCHEMA_OBJECT_PERMISSION_CHANGE_GROUP</td><td>1</td></tr>",
                            "<tr><td>[dm_audit_actions]</td><td>DWC </td><td>DENY WITH CASCADE</td><td>OBJECT</td><td>NULL</td><td>DATABASE</td><td>SCHEMA_OBJECT_PERMISSION_CHANGE_GROUP</td><td>NULL</td><td>SCHEMA_OBJECT_PERMISSION_CHANGE_GROUP</td><td>1</td></tr>",
                            "<tr><td>[dm_audit_actions]</td><td>R   </td><td>REVOKE</td><td>TYPE</td><td>NULL</td><td>DATABASE</td><td>SCHEMA_OBJECT_PERMISSION_CHANGE_GROUP</td><td>NULL</td><td>SCHEMA_OBJECT_PERMISSION_CHANGE_GROUP</td><td>1</td></tr>",
                            "<tr><td>[dm_audit_actions]</td><td>D   </td><td>DENY</td><td>TYPE</td><td>NULL</td><td>DATABASE</td><td>SCHEMA_OBJECT_PERMISSION_CHANGE_GROUP</td><td>NULL</td><td>SCHEMA_OBJECT_PERMISSION_CHANGE_GROUP</td><td>1</td></tr>",
                            "<tr><td>[dm_audit_actions]</td><td>G   </td><td>GRANT</td><td>TYPE</td><td>NULL</td><td>DATABASE</td><td>SCHEMA_OBJECT_PERMISSION_CHANGE_GROUP</td><td>NULL</td><td>SCHEMA_OBJECT_PERMISSION_CHANGE_GROUP</td><td>1</td></tr>",
                            "<tr><td>[dm_audit_actions]</td><td>GWG </td><td>GRANT WITH GRANT</td><td>TYPE</td><td>NULL</td><td>DATABASE</td><td>SCHEMA_OBJECT_PERMISSION_CHANGE_GROUP</td><td>NULL</td><td>SCHEMA_OBJECT_PERMISSION_CHANGE_GROUP</td><td>1</td></tr>",
                            "<tr><td>[dm_audit_actions]</td><td>RWG </td><td>REVOKE WITH GRANT</td><td>TYPE</td><td>NULL</td><td>DATABASE</td><td>SCHEMA_OBJECT_PERMISSION_CHANGE_GROUP</td><td>NULL</td><td>SCHEMA_OBJECT_PERMISSION_CHANGE_GROUP</td><td>1</td></tr>",
                            "<tr><td>[dm_audit_actions]</td><td>RWC </td><td>REVOKE WITH CASCADE</td><td>TYPE</td><td>NULL</td><td>DATABASE</td><td>SCHEMA_OBJECT_PERMISSION_CHANGE_GROUP</td><td>NULL</td><td>SCHEMA_OBJECT_PERMISSION_CHANGE_GROUP</td><td>1</td></tr>",
                            "<tr><td>[dm_audit_actions]</td><td>DWC </td><td>DENY WITH CASCADE</td><td>TYPE</td><td>NULL</td><td>DATABASE</td><td>SCHEMA_OBJECT_PERMISSION_CHANGE_GROUP</td><td>NULL</td><td>SCHEMA_OBJECT_PERMISSION_CHANGE_GROUP</td><td>1</td></tr>",
                            "<tr><td>[dm_audit_actions]</td><td>R   </td><td>REVOKE</td><td>SCHEMA</td><td>NULL</td><td>DATABASE</td><td>DATABASE_OBJECT_PERMISSION_CHANGE_GROUP</td><td>NULL</td><td>DATABASE_OBJECT_PERMISSION_CHANGE_GROUP</td><td>1</td></tr>",
                            "<tr><td>[dm_audit_actions]</td><td>D   </td><td>DENY</td><td>SCHEMA</td><td>NULL</td><td>DATABASE</td><td>DATABASE_OBJECT_PERMISSION_CHANGE_GROUP</td><td>NULL</td><td>DATABASE_OBJECT_PERMISSION_CHANGE_GROUP</td><td>1</td></tr>",
                            "<tr><td>[dm_audit_actions]</td><td>G   </td><td>GRANT</td><td>SCHEMA</td><td>NULL</td><td>DATABASE</td><td>DATABASE_OBJECT_PERMISSION_CHANGE_GROUP</td><td>NULL</td><td>DATABASE_OBJECT_PERMISSION_CHANGE_GROUP</td><td>1</td></tr>",
                            "<tr><td>[dm_audit_actions]</td><td>GWG </td><td>GRANT WITH GRANT</td><td>SCHEMA</td><td>NULL</td><td>DATABASE</td><td>DATABASE_OBJECT_PERMISSION_CHANGE_GROUP</td><td>NULL</td><td>DATABASE_OBJECT_PERMISSION_CHANGE_GROUP</td><td>1</td></tr>",
                            "<tr><td>[dm_audit_actions]</td><td>RWG </td><td>REVOKE WITH GRANT</td><td>SCHEMA</td><td>NULL</td><td>DATABASE</td><td>DATABASE_OBJECT_PERMISSION_CHANGE_GROUP</td><td>NULL</td><td>DATABASE_OBJECT_PERMISSION_CHANGE_GROUP</td><td>1</td></tr>",
                            "<tr><td>[dm_audit_actions]</td><td>RWC </td><td>REVOKE WITH CASCADE</td><td>SCHEMA</td><td>NULL</td><td>DATABASE</td><td>DATABASE_OBJECT_PERMISSION_CHANGE_GROUP</td><td>NULL</td><td>DATABASE_OBJECT_PERMISSION_CHANGE_GROUP</td><td>1</td></tr>",
                            "<tr><td>[dm_audit_actions]</td><td>DWC </td><td>DENY WITH CASCADE</td><td>SCHEMA</td><td>NULL</td><td>DATABASE</td><td>DATABASE_OBJECT_PERMISSION_CHANGE_GROUP</td><td>NULL</td><td>DATABASE_OBJECT_PERMISSION_CHANGE_GROUP</td><td>1</td></tr>",
                            "<tr><td>[dm_audit_actions]</td><td>R   </td><td>REVOKE</td><td>XML SCHEMA COLLECTION</td><td>NULL</td><td>DATABASE</td><td>SCHEMA_OBJECT_PERMISSION_CHANGE_GROUP</td><td>NULL</td><td>SCHEMA_OBJECT_PERMISSION_CHANGE_GROUP</td><td>1</td></tr>",
                            "<tr><td>[dm_audit_actions]</td><td>D   </td><td>DENY</td><td>XML SCHEMA COLLECTION</td><td>NULL</td><td>DATABASE</td><td>SCHEMA_OBJECT_PERMISSION_CHANGE_GROUP</td><td>NULL</td><td>SCHEMA_OBJECT_PERMISSION_CHANGE_GROUP</td><td>1</td></tr>",
                            "<tr><td>[dm_audit_actions]</td><td>G   </td><td>GRANT</td><td>XML SCHEMA COLLECTION</td><td>NULL</td><td>DATABASE</td><td>SCHEMA_OBJECT_PERMISSION_CHANGE_GROUP</td><td>NULL</td><td>SCHEMA_OBJECT_PERMISSION_CHANGE_GROUP</td><td>1</td></tr>",
                            "<tr><td>[dm_audit_actions]</td><td>GWG </td><td>GRANT WITH GRANT</td><td>XML SCHEMA COLLECTION</td><td>NULL</td><td>DATABASE</td><td>SCHEMA_OBJECT_PERMISSION_CHANGE_GROUP</td><td>NULL</td><td>SCHEMA_OBJECT_PERMISSION_CHANGE_GROUP</td><td>1</td></tr>",
                            "<tr><td>[dm_audit_actions]</td><td>RWG </td><td>REVOKE WITH GRANT</td><td>XML SCHEMA COLLECTION</td><td>NULL</td><td>DATABASE</td><td>SCHEMA_OBJECT_PERMISSION_CHANGE_GROUP</td><td>NULL</td><td>SCHEMA_OBJECT_PERMISSION_CHANGE_GROUP</td><td>1</td></tr>",
                            "<tr><td>[dm_audit_actions]</td><td>RWC </td><td>REVOKE WITH CASCADE</td><td>XML SCHEMA COLLECTION</td><td>NULL</td><td>DATABASE</td><td>SCHEMA_OBJECT_PERMISSION_CHANGE_GROUP</td><td>NULL</td><td>SCHEMA_OBJECT_PERMISSION_CHANGE_GROUP</td><td>1</td></tr>",
                            "<tr><td>[dm_audit_actions]</td><td>DWC </td><td>DENY WITH CASCADE</td><td>XML SCHEMA COLLECTION</td><td>NULL</td><td>DATABASE</td><td>SCHEMA_OBJECT_PERMISSION_CHANGE_GROUP</td><td>NULL</td><td>SCHEMA_OBJECT_PERMISSION_CHANGE_GROUP</td><td>1</td></tr>",
                            "<tr><td>[dm_audit_actions]</td><td>R   </td><td>REVOKE</td><td>ASSEMBLY</td><td>NULL</td><td>DATABASE</td><td>DATABASE_OBJECT_PERMISSION_CHANGE_GROUP</td><td>NULL</td><td>DATABASE_OBJECT_PERMISSION_CHANGE_GROUP</td><td>1</td></tr>",
                            "<tr><td>[dm_audit_actions]</td><td>D   </td><td>DENY</td><td>ASSEMBLY</td><td>NULL</td><td>DATABASE</td><td>DATABASE_OBJECT_PERMISSION_CHANGE_GROUP</td><td>NULL</td><td>DATABASE_OBJECT_PERMISSION_CHANGE_GROUP</td><td>1</td></tr>",
                            "<tr><td>[dm_audit_actions]</td><td>G   </td><td>GRANT</td><td>ASSEMBLY</td><td>NULL</td><td>DATABASE</td><td>DATABASE_OBJECT_PERMISSION_CHANGE_GROUP</td><td>NULL</td><td>DATABASE_OBJECT_PERMISSION_CHANGE_GROUP</td><td>1</td></tr>",
                            "<tr><td>[dm_audit_actions]</td><td>GWG </td><td>GRANT WITH GRANT</td><td>ASSEMBLY</td><td>NULL</td><td>DATABASE</td><td>DATABASE_OBJECT_PERMISSION_CHANGE_GROUP</td><td>NULL</td><td>DATABASE_OBJECT_PERMISSION_CHANGE_GROUP</td><td>1</td></tr>",
                            "<tr><td>[dm_audit_actions]</td><td>RWG </td><td>REVOKE WITH GRANT</td><td>ASSEMBLY</td><td>NULL</td><td>DATABASE</td><td>DATABASE_OBJECT_PERMISSION_CHANGE_GROUP</td><td>NULL</td><td>DATABASE_OBJECT_PERMISSION_CHANGE_GROUP</td><td>1</td></tr>",
                            "<tr><td>[dm_audit_actions]</td><td>RWC </td><td>REVOKE WITH CASCADE</td><td>ASSEMBLY</td><td>NULL</td><td>DATABASE</td><td>DATABASE_OBJECT_PERMISSION_CHANGE_GROUP</td><td>NULL</td><td>DATABASE_OBJECT_PERMISSION_CHANGE_GROUP</td><td>1</td></tr>",
                            "<tr><td>[dm_audit_actions]</td><td>DWC </td><td>DENY WITH CASCADE</td><td>ASSEMBLY</td><td>NULL</td><td>DATABASE</td><td>DATABASE_OBJECT_PERMISSION_CHANGE_GROUP</td><td>NULL</td><td>DATABASE_OBJECT_PERMISSION_CHANGE_GROUP</td><td>1</td></tr>",
                            "<tr><td>[dm_audit_actions]</td><td>R   </td><td>REVOKE</td><td>USER</td><td>NULL</td><td>DATABASE</td><td>DATABASE_OBJECT_PERMISSION_CHANGE_GROUP</td><td>NULL</td><td>DATABASE_OBJECT_PERMISSION_CHANGE_GROUP</td><td>1</td></tr>",
                            "<tr><td>[dm_audit_actions]</td><td>D   </td><td>DENY</td><td>USER</td><td>NULL</td><td>DATABASE</td><td>DATABASE_OBJECT_PERMISSION_CHANGE_GROUP</td><td>NULL</td><td>DATABASE_OBJECT_PERMISSION_CHANGE_GROUP</td><td>1</td></tr>",
                            "<tr><td>[dm_audit_actions]</td><td>G   </td><td>GRANT</td><td>USER</td><td>NULL</td><td>DATABASE</td><td>DATABASE_OBJECT_PERMISSION_CHANGE_GROUP</td><td>NULL</td><td>DATABASE_OBJECT_PERMISSION_CHANGE_GROUP</td><td>1</td></tr>",
                            "<tr><td>[dm_audit_actions]</td><td>GWG </td><td>GRANT WITH GRANT</td><td>USER</td><td>NULL</td><td>DATABASE</td><td>DATABASE_OBJECT_PERMISSION_CHANGE_GROUP</td><td>NULL</td><td>DATABASE_OBJECT_PERMISSION_CHANGE_GROUP</td><td>1</td></tr>",
                            "<tr><td>[dm_audit_actions]</td><td>RWG </td><td>REVOKE WITH GRANT</td><td>USER</td><td>NULL</td><td>DATABASE</td><td>DATABASE_OBJECT_PERMISSION_CHANGE_GROUP</td><td>NULL</td><td>DATABASE_OBJECT_PERMISSION_CHANGE_GROUP</td><td>1</td></tr>",
                            "<tr><td>[dm_audit_actions]</td><td>RWC </td><td>REVOKE WITH CASCADE</td><td>USER</td><td>NULL</td><td>DATABASE</td><td>DATABASE_OBJECT_PERMISSION_CHANGE_GROUP</td><td>NULL</td><td>DATABASE_OBJECT_PERMISSION_CHANGE_GROUP</td><td>1</td></tr>",
                            "<tr><td>[dm_audit_actions]</td><td>DWC </td><td>DENY WITH CASCADE</td><td>USER</td><td>NULL</td><td>DATABASE</td><td>DATABASE_OBJECT_PERMISSION_CHANGE_GROUP</td><td>NULL</td><td>DATABASE_OBJECT_PERMISSION_CHANGE_GROUP</td><td>1</td></tr>",
                            "<tr><td>[dm_audit_actions]</td><td>R   </td><td>REVOKE</td><td>ROLE</td><td>NULL</td><td>DATABASE</td><td>DATABASE_OBJECT_PERMISSION_CHANGE_GROUP</td><td>NULL</td><td>DATABASE_OBJECT_PERMISSION_CHANGE_GROUP</td><td>1</td></tr>",
                            "<tr><td>[dm_audit_actions]</td><td>D   </td><td>DENY</td><td>ROLE</td><td>NULL</td><td>DATABASE</td><td>DATABASE_OBJECT_PERMISSION_CHANGE_GROUP</td><td>NULL</td><td>DATABASE_OBJECT_PERMISSION_CHANGE_GROUP</td><td>1</td></tr>",
                            "<tr><td>[dm_audit_actions]</td><td>G   </td><td>GRANT</td><td>ROLE</td><td>NULL</td><td>DATABASE</td><td>DATABASE_OBJECT_PERMISSION_CHANGE_GROUP</td><td>NULL</td><td>DATABASE_OBJECT_PERMISSION_CHANGE_GROUP</td><td>1</td></tr>",
                            "<tr><td>[dm_audit_actions]</td><td>GWG </td><td>GRANT WITH GRANT</td><td>ROLE</td><td>NULL</td><td>DATABASE</td><td>DATABASE_OBJECT_PERMISSION_CHANGE_GROUP</td><td>NULL</td><td>DATABASE_OBJECT_PERMISSION_CHANGE_GROUP</td><td>1</td></tr>",
                            "<tr><td>[dm_audit_actions]</td><td>RWG </td><td>REVOKE WITH GRANT</td><td>ROLE</td><td>NULL</td><td>DATABASE</td><td>DATABASE_OBJECT_PERMISSION_CHANGE_GROUP</td><td>NULL</td><td>DATABASE_OBJECT_PERMISSION_CHANGE_GROUP</td><td>1</td></tr>",
                            "<tr><td>[dm_audit_actions]</td><td>RWC </td><td>REVOKE WITH CASCADE</td><td>ROLE</td><td>NULL</td><td>DATABASE</td><td>DATABASE_OBJECT_PERMISSION_CHANGE_GROUP</td><td>NULL</td><td>DATABASE_OBJECT_PERMISSION_CHANGE_GROUP</td><td>1</td></tr>",
                            "<tr><td>[dm_audit_actions]</td><td>DWC </td><td>DENY WITH CASCADE</td><td>ROLE</td><td>NULL</td><td>DATABASE</td><td>DATABASE_OBJECT_PERMISSION_CHANGE_GROUP</td><td>NULL</td><td>DATABASE_OBJECT_PERMISSION_CHANGE_GROUP</td><td>1</td></tr>",
                            "<tr><td>[dm_audit_actions]</td><td>R   </td><td>REVOKE</td><td>APPLICATION ROLE</td><td>NULL</td><td>DATABASE</td><td>DATABASE_OBJECT_PERMISSION_CHANGE_GROUP</td><td>NULL</td><td>DATABASE_OBJECT_PERMISSION_CHANGE_GROUP</td><td>1</td></tr>",
                            "<tr><td>[dm_audit_actions]</td><td>D   </td><td>DENY</td><td>APPLICATION ROLE</td><td>NULL</td><td>DATABASE</td><td>DATABASE_OBJECT_PERMISSION_CHANGE_GROUP</td><td>NULL</td><td>DATABASE_OBJECT_PERMISSION_CHANGE_GROUP</td><td>1</td></tr>",
                            "<tr><td>[dm_audit_actions]</td><td>G   </td><td>GRANT</td><td>APPLICATION ROLE</td><td>NULL</td><td>DATABASE</td><td>DATABASE_OBJECT_PERMISSION_CHANGE_GROUP</td><td>NULL</td><td>DATABASE_OBJECT_PERMISSION_CHANGE_GROUP</td><td>1</td></tr>",
                            "<tr><td>[dm_audit_actions]</td><td>GWG </td><td>GRANT WITH GRANT</td><td>APPLICATION ROLE</td><td>NULL</td><td>DATABASE</td><td>DATABASE_OBJECT_PERMISSION_CHANGE_GROUP</td><td>NULL</td><td>DATABASE_OBJECT_PERMISSION_CHANGE_GROUP</td><td>1</td></tr>",
                            "<tr><td>[dm_audit_actions]</td><td>RWG </td><td>REVOKE WITH GRANT</td><td>APPLICATION ROLE</td><td>NULL</td><td>DATABASE</td><td>DATABASE_OBJECT_PERMISSION_CHANGE_GROUP</td><td>NULL</td><td>DATABASE_OBJECT_PERMISSION_CHANGE_GROUP</td><td>1</td></tr>",
                            "<tr><td>[dm_audit_actions]</td><td>RWC </td><td>REVOKE WITH CASCADE</td><td>APPLICATION ROLE</td><td>NULL</td><td>DATABASE</td><td>DATABASE_OBJECT_PERMISSION_CHANGE_GROUP</td><td>NULL</td><td>DATABASE_OBJECT_PERMISSION_CHANGE_GROUP</td><td>1</td></tr>",
                            "<tr><td>[dm_audit_actions]</td><td>DWC </td><td>DENY WITH CASCADE</td><td>APPLICATION ROLE</td><td>NULL</td><td>DATABASE</td><td>DATABASE_OBJECT_PERMISSION_CHANGE_GROUP</td><td>NULL</td><td>DATABASE_OBJECT_PERMISSION_CHANGE_GROUP</td><td>1</td></tr>",
                            "<tr><td>[dm_audit_actions]</td><td>R   </td><td>REVOKE</td><td>MESSAGE TYPE</td><td>NULL</td><td>DATABASE</td><td>DATABASE_OBJECT_PERMISSION_CHANGE_GROUP</td><td>NULL</td><td>DATABASE_OBJECT_PERMISSION_CHANGE_GROUP</td><td>1</td></tr>",
                            "<tr><td>[dm_audit_actions]</td><td>D   </td><td>DENY</td><td>MESSAGE TYPE</td><td>NULL</td><td>DATABASE</td><td>DATABASE_OBJECT_PERMISSION_CHANGE_GROUP</td><td>NULL</td><td>DATABASE_OBJECT_PERMISSION_CHANGE_GROUP</td><td>1</td></tr>",
                            "<tr><td>[dm_audit_actions]</td><td>G   </td><td>GRANT</td><td>MESSAGE TYPE</td><td>NULL</td><td>DATABASE</td><td>DATABASE_OBJECT_PERMISSION_CHANGE_GROUP</td><td>NULL</td><td>DATABASE_OBJECT_PERMISSION_CHANGE_GROUP</td><td>1</td></tr>",
                            "<tr><td>[dm_audit_actions]</td><td>GWG </td><td>GRANT WITH GRANT</td><td>MESSAGE TYPE</td><td>NULL</td><td>DATABASE</td><td>DATABASE_OBJECT_PERMISSION_CHANGE_GROUP</td><td>NULL</td><td>DATABASE_OBJECT_PERMISSION_CHANGE_GROUP</td><td>1</td></tr>",
                            "<tr><td>[dm_audit_actions]</td><td>RWG </td><td>REVOKE WITH GRANT</td><td>MESSAGE TYPE</td><td>NULL</td><td>DATABASE</td><td>DATABASE_OBJECT_PERMISSION_CHANGE_GROUP</td><td>NULL</td><td>DATABASE_OBJECT_PERMISSION_CHANGE_GROUP</td><td>1</td></tr>",
                            "<tr><td>[dm_audit_actions]</td><td>RWC </td><td>REVOKE WITH CASCADE</td><td>MESSAGE TYPE</td><td>NULL</td><td>DATABASE</td><td>DATABASE_OBJECT_PERMISSION_CHANGE_GROUP</td><td>NULL</td><td>DATABASE_OBJECT_PERMISSION_CHANGE_GROUP</td><td>1</td></tr>",
                            "<tr><td>[dm_audit_actions]</td><td>DWC </td><td>DENY WITH CASCADE</td><td>MESSAGE TYPE</td><td>NULL</td><td>DATABASE</td><td>DATABASE_OBJECT_PERMISSION_CHANGE_GROUP</td><td>NULL</td><td>DATABASE_OBJECT_PERMISSION_CHANGE_GROUP</td><td>1</td></tr>",
                            "<tr><td>[dm_audit_actions]</td><td>R   </td><td>REVOKE</td><td>CONTRACT</td><td>NULL</td><td>DATABASE</td><td>DATABASE_OBJECT_PERMISSION_CHANGE_GROUP</td><td>NULL</td><td>DATABASE_OBJECT_PERMISSION_CHANGE_GROUP</td><td>1</td></tr>",
                            "<tr><td>[dm_audit_actions]</td><td>D   </td><td>DENY</td><td>CONTRACT</td><td>NULL</td><td>DATABASE</td><td>DATABASE_OBJECT_PERMISSION_CHANGE_GROUP</td><td>NULL</td><td>DATABASE_OBJECT_PERMISSION_CHANGE_GROUP</td><td>1</td></tr>",
                            "<tr><td>[dm_audit_actions]</td><td>G   </td><td>GRANT</td><td>CONTRACT</td><td>NULL</td><td>DATABASE</td><td>DATABASE_OBJECT_PERMISSION_CHANGE_GROUP</td><td>NULL</td><td>DATABASE_OBJECT_PERMISSION_CHANGE_GROUP</td><td>1</td></tr>",
                            "<tr><td>[dm_audit_actions]</td><td>GWG </td><td>GRANT WITH GRANT</td><td>CONTRACT</td><td>NULL</td><td>DATABASE</td><td>DATABASE_OBJECT_PERMISSION_CHANGE_GROUP</td><td>NULL</td><td>DATABASE_OBJECT_PERMISSION_CHANGE_GROUP</td><td>1</td></tr>",
                            "<tr><td>[dm_audit_actions]</td><td>RWG </td><td>REVOKE WITH GRANT</td><td>CONTRACT</td><td>NULL</td><td>DATABASE</td><td>DATABASE_OBJECT_PERMISSION_CHANGE_GROUP</td><td>NULL</td><td>DATABASE_OBJECT_PERMISSION_CHANGE_GROUP</td><td>1</td></tr>",
                            "<tr><td>[dm_audit_actions]</td><td>RWC </td><td>REVOKE WITH CASCADE</td><td>CONTRACT</td><td>NULL</td><td>DATABASE</td><td>DATABASE_OBJECT_PERMISSION_CHANGE_GROUP</td><td>NULL</td><td>DATABASE_OBJECT_PERMISSION_CHANGE_GROUP</td><td>1</td></tr>",
                            "<tr><td>[dm_audit_actions]</td><td>DWC </td><td>DENY WITH CASCADE</td><td>CONTRACT</td><td>NULL</td><td>DATABASE</td><td>DATABASE_OBJECT_PERMISSION_CHANGE_GROUP</td><td>NULL</td><td>DATABASE_OBJECT_PERMISSION_CHANGE_GROUP</td><td>1</td></tr>",
                            "<tr><td>[dm_audit_actions]</td><td>R   </td><td>REVOKE</td><td>SERVICE</td><td>NULL</td><td>DATABASE</td><td>DATABASE_OBJECT_PERMISSION_CHANGE_GROUP</td><td>NULL</td><td>DATABASE_OBJECT_PERMISSION_CHANGE_GROUP</td><td>1</td></tr>",
                            "<tr><td>[dm_audit_actions]</td><td>D   </td><td>DENY</td><td>SERVICE</td><td>NULL</td><td>DATABASE</td><td>DATABASE_OBJECT_PERMISSION_CHANGE_GROUP</td><td>NULL</td><td>DATABASE_OBJECT_PERMISSION_CHANGE_GROUP</td><td>1</td></tr>",
                            "<tr><td>[dm_audit_actions]</td><td>G   </td><td>GRANT</td><td>SERVICE</td><td>NULL</td><td>DATABASE</td><td>DATABASE_OBJECT_PERMISSION_CHANGE_GROUP</td><td>NULL</td><td>DATABASE_OBJECT_PERMISSION_CHANGE_GROUP</td><td>1</td></tr>",
                            "<tr><td>[dm_audit_actions]</td><td>GWG </td><td>GRANT WITH GRANT</td><td>SERVICE</td><td>NULL</td><td>DATABASE</td><td>DATABASE_OBJECT_PERMISSION_CHANGE_GROUP</td><td>NULL</td><td>DATABASE_OBJECT_PERMISSION_CHANGE_GROUP</td><td>1</td></tr>",
                            "<tr><td>[dm_audit_actions]</td><td>RWG </td><td>REVOKE WITH GRANT</td><td>SERVICE</td><td>NULL</td><td>DATABASE</td><td>DATABASE_OBJECT_PERMISSION_CHANGE_GROUP</td><td>NULL</td><td>DATABASE_OBJECT_PERMISSION_CHANGE_GROUP</td><td>1</td></tr>",
                            "<tr><td>[dm_audit_actions]</td><td>RWC </td><td>REVOKE WITH CASCADE</td><td>SERVICE</td><td>NULL</td><td>DATABASE</td><td>DATABASE_OBJECT_PERMISSION_CHANGE_GROUP</td><td>NULL</td><td>DATABASE_OBJECT_PERMISSION_CHANGE_GROUP</td><td>1</td></tr>",
                            "<tr><td>[dm_audit_actions]</td><td>DWC </td><td>DENY WITH CASCADE</td><td>SERVICE</td><td>NULL</td><td>DATABASE</td><td>DATABASE_OBJECT_PERMISSION_CHANGE_GROUP</td><td>NULL</td><td>DATABASE_OBJECT_PERMISSION_CHANGE_GROUP</td><td>1</td></tr>",
                            "<tr><td>[dm_audit_actions]</td><td>R   </td><td>REVOKE</td><td>REMOTE SERVICE BINDING</td><td>NULL</td><td>DATABASE</td><td>DATABASE_OBJECT_PERMISSION_CHANGE_GROUP</td><td>NULL</td><td>DATABASE_OBJECT_PERMISSION_CHANGE_GROUP</td><td>1</td></tr>",
                            "<tr><td>[dm_audit_actions]</td><td>D   </td><td>DENY</td><td>REMOTE SERVICE BINDING</td><td>NULL</td><td>DATABASE</td><td>DATABASE_OBJECT_PERMISSION_CHANGE_GROUP</td><td>NULL</td><td>DATABASE_OBJECT_PERMISSION_CHANGE_GROUP</td><td>1</td></tr>",
                            "<tr><td>[dm_audit_actions]</td><td>G   </td><td>GRANT</td><td>REMOTE SERVICE BINDING</td><td>NULL</td><td>DATABASE</td><td>DATABASE_OBJECT_PERMISSION_CHANGE_GROUP</td><td>NULL</td><td>DATABASE_OBJECT_PERMISSION_CHANGE_GROUP</td><td>1</td></tr>",
                            "<tr><td>[dm_audit_actions]</td><td>GWG </td><td>GRANT WITH GRANT</td><td>REMOTE SERVICE BINDING</td><td>NULL</td><td>DATABASE</td><td>DATABASE_OBJECT_PERMISSION_CHANGE_GROUP</td><td>NULL</td><td>DATABASE_OBJECT_PERMISSION_CHANGE_GROUP</td><td>1</td></tr>",
                            "<tr><td>[dm_audit_actions]</td><td>RWG </td><td>REVOKE WITH GRANT</td><td>REMOTE SERVICE BINDING</td><td>NULL</td><td>DATABASE</td><td>DATABASE_OBJECT_PERMISSION_CHANGE_GROUP</td><td>NULL</td><td>DATABASE_OBJECT_PERMISSION_CHANGE_GROUP</td><td>1</td></tr>",
                            "<tr><td>[dm_audit_actions]</td><td>RWC </td><td>REVOKE WITH CASCADE</td><td>REMOTE SERVICE BINDING</td><td>NULL</td><td>DATABASE</td><td>DATABASE_OBJECT_PERMISSION_CHANGE_GROUP</td><td>NULL</td><td>DATABASE_OBJECT_PERMISSION_CHANGE_GROUP</td><td>1</td></tr>",
                            "<tr><td>[dm_audit_actions]</td><td>DWC </td><td>DENY WITH CASCADE</td><td>REMOTE SERVICE BINDING</td><td>NULL</td><td>DATABASE</td><td>DATABASE_OBJECT_PERMISSION_CHANGE_GROUP</td><td>NULL</td><td>DATABASE_OBJECT_PERMISSION_CHANGE_GROUP</td><td>1</td></tr>",
                            "<tr><td>[dm_audit_actions]</td><td>R   </td><td>REVOKE</td><td>ROUTE</td><td>NULL</td><td>DATABASE</td><td>DATABASE_OBJECT_PERMISSION_CHANGE_GROUP</td><td>NULL</td><td>DATABASE_OBJECT_PERMISSION_CHANGE_GROUP</td><td>1</td></tr>",
                            "<tr><td>[dm_audit_actions]</td><td>D   </td><td>DENY</td><td>ROUTE</td><td>NULL</td><td>DATABASE</td><td>DATABASE_OBJECT_PERMISSION_CHANGE_GROUP</td><td>NULL</td><td>DATABASE_OBJECT_PERMISSION_CHANGE_GROUP</td><td>1</td></tr>",
                            "<tr><td>[dm_audit_actions]</td><td>G   </td><td>GRANT</td><td>ROUTE</td><td>NULL</td><td>DATABASE</td><td>DATABASE_OBJECT_PERMISSION_CHANGE_GROUP</td><td>NULL</td><td>DATABASE_OBJECT_PERMISSION_CHANGE_GROUP</td><td>1</td></tr>",
                            "<tr><td>[dm_audit_actions]</td><td>GWG </td><td>GRANT WITH GRANT</td><td>ROUTE</td><td>NULL</td><td>DATABASE</td><td>DATABASE_OBJECT_PERMISSION_CHANGE_GROUP</td><td>NULL</td><td>DATABASE_OBJECT_PERMISSION_CHANGE_GROUP</td><td>1</td></tr>",
                            "<tr><td>[dm_audit_actions]</td><td>RWG </td><td>REVOKE WITH GRANT</td><td>ROUTE</td><td>NULL</td><td>DATABASE</td><td>DATABASE_OBJECT_PERMISSION_CHANGE_GROUP</td><td>NULL</td><td>DATABASE_OBJECT_PERMISSION_CHANGE_GROUP</td><td>1</td></tr>",
                            "<tr><td>[dm_audit_actions]</td><td>RWC </td><td>REVOKE WITH CASCADE</td><td>ROUTE</td><td>NULL</td><td>DATABASE</td><td>DATABASE_OBJECT_PERMISSION_CHANGE_GROUP</td><td>NULL</td><td>DATABASE_OBJECT_PERMISSION_CHANGE_GROUP</td><td>1</td></tr>",
                            "<tr><td>[dm_audit_actions]</td><td>DWC </td><td>DENY WITH CASCADE</td><td>ROUTE</td><td>NULL</td><td>DATABASE</td><td>DATABASE_OBJECT_PERMISSION_CHANGE_GROUP</td><td>NULL</td><td>DATABASE_OBJECT_PERMISSION_CHANGE_GROUP</td><td>1</td></tr>",
                            "<tr><td>[dm_audit_actions]</td><td>R   </td><td>REVOKE</td><td>FULLTEXT CATALOG</td><td>NULL</td><td>DATABASE</td><td>DATABASE_OBJECT_PERMISSION_CHANGE_GROUP</td><td>NULL</td><td>DATABASE_OBJECT_PERMISSION_CHANGE_GROUP</td><td>1</td></tr>",
                            "<tr><td>[dm_audit_actions]</td><td>D   </td><td>DENY</td><td>FULLTEXT CATALOG</td><td>NULL</td><td>DATABASE</td><td>DATABASE_OBJECT_PERMISSION_CHANGE_GROUP</td><td>NULL</td><td>DATABASE_OBJECT_PERMISSION_CHANGE_GROUP</td><td>1</td></tr>",
                            "<tr><td>[dm_audit_actions]</td><td>G   </td><td>GRANT</td><td>FULLTEXT CATALOG</td><td>NULL</td><td>DATABASE</td><td>DATABASE_OBJECT_PERMISSION_CHANGE_GROUP</td><td>NULL</td><td>DATABASE_OBJECT_PERMISSION_CHANGE_GROUP</td><td>1</td></tr>",
                            "<tr><td>[dm_audit_actions]</td><td>GWG </td><td>GRANT WITH GRANT</td><td>FULLTEXT CATALOG</td><td>NULL</td><td>DATABASE</td><td>DATABASE_OBJECT_PERMISSION_CHANGE_GROUP</td><td>NULL</td><td>DATABASE_OBJECT_PERMISSION_CHANGE_GROUP</td><td>1</td></tr>",
                            "<tr><td>[dm_audit_actions]</td><td>RWG </td><td>REVOKE WITH GRANT</td><td>FULLTEXT CATALOG</td><td>NULL</td><td>DATABASE</td><td>DATABASE_OBJECT_PERMISSION_CHANGE_GROUP</td><td>NULL</td><td>DATABASE_OBJECT_PERMISSION_CHANGE_GROUP</td><td>1</td></tr>",
                            "<tr><td>[dm_audit_actions]</td><td>RWC </td><td>REVOKE WITH CASCADE</td><td>FULLTEXT CATALOG</td><td>NULL</td><td>DATABASE</td><td>DATABASE_OBJECT_PERMISSION_CHANGE_GROUP</td><td>NULL</td><td>DATABASE_OBJECT_PERMISSION_CHANGE_GROUP</td><td>1</td></tr>",
                            "<tr><td>[dm_audit_actions]</td><td>DWC </td><td>DENY WITH CASCADE</td><td>FULLTEXT CATALOG</td><td>NULL</td><td>DATABASE</td><td>DATABASE_OBJECT_PERMISSION_CHANGE_GROUP</td><td>NULL</td><td>DATABASE_OBJECT_PERMISSION_CHANGE_GROUP</td><td>1</td></tr>",
                            "<tr><td>[dm_audit_actions]</td><td>R   </td><td>REVOKE</td><td>FULLTEXT STOPLIST</td><td>NULL</td><td>DATABASE</td><td>DATABASE_OBJECT_PERMISSION_CHANGE_GROUP</td><td>NULL</td><td>DATABASE_OBJECT_PERMISSION_CHANGE_GROUP</td><td>1</td></tr>",
                            "<tr><td>[dm_audit_actions]</td><td>D   </td><td>DENY</td><td>FULLTEXT STOPLIST</td><td>NULL</td><td>DATABASE</td><td>DATABASE_OBJECT_PERMISSION_CHANGE_GROUP</td><td>NULL</td><td>DATABASE_OBJECT_PERMISSION_CHANGE_GROUP</td><td>1</td></tr>",
                            "<tr><td>[dm_audit_actions]</td><td>G   </td><td>GRANT</td><td>FULLTEXT STOPLIST</td><td>NULL</td><td>DATABASE</td><td>DATABASE_OBJECT_PERMISSION_CHANGE_GROUP</td><td>NULL</td><td>DATABASE_OBJECT_PERMISSION_CHANGE_GROUP</td><td>1</td></tr>",
                            "<tr><td>[dm_audit_actions]</td><td>GWG </td><td>GRANT WITH GRANT</td><td>FULLTEXT STOPLIST</td><td>NULL</td><td>DATABASE</td><td>DATABASE_OBJECT_PERMISSION_CHANGE_GROUP</td><td>NULL</td><td>DATABASE_OBJECT_PERMISSION_CHANGE_GROUP</td><td>1</td></tr>",
                            "<tr><td>[dm_audit_actions]</td><td>RWG </td><td>REVOKE WITH GRANT</td><td>FULLTEXT STOPLIST</td><td>NULL</td><td>DATABASE</td><td>DATABASE_OBJECT_PERMISSION_CHANGE_GROUP</td><td>NULL</td><td>DATABASE_OBJECT_PERMISSION_CHANGE_GROUP</td><td>1</td></tr>",
                            "<tr><td>[dm_audit_actions]</td><td>RWC </td><td>REVOKE WITH CASCADE</td><td>FULLTEXT STOPLIST</td><td>NULL</td><td>DATABASE</td><td>DATABASE_OBJECT_PERMISSION_CHANGE_GROUP</td><td>NULL</td><td>DATABASE_OBJECT_PERMISSION_CHANGE_GROUP</td><td>1</td></tr>",
                            "<tr><td>[dm_audit_actions]</td><td>DWC </td><td>DENY WITH CASCADE</td><td>FULLTEXT STOPLIST</td><td>NULL</td><td>DATABASE</td><td>DATABASE_OBJECT_PERMISSION_CHANGE_GROUP</td><td>NULL</td><td>DATABASE_OBJECT_PERMISSION_CHANGE_GROUP</td><td>1</td></tr>",
                            "<tr><td>[dm_audit_actions]</td><td>R   </td><td>REVOKE</td><td>SEARCH PROPERTY LIST</td><td>NULL</td><td>DATABASE</td><td>DATABASE_OBJECT_PERMISSION_CHANGE_GROUP</td><td>NULL</td><td>DATABASE_OBJECT_PERMISSION_CHANGE_GROUP</td><td>1</td></tr>",
                            "<tr><td>[dm_audit_actions]</td><td>D   </td><td>DENY</td><td>SEARCH PROPERTY LIST</td><td>NULL</td><td>DATABASE</td><td>DATABASE_OBJECT_PERMISSION_CHANGE_GROUP</td><td>NULL</td><td>DATABASE_OBJECT_PERMISSION_CHANGE_GROUP</td><td>1</td></tr>",
                            "<tr><td>[dm_audit_actions]</td><td>G   </td><td>GRANT</td><td>SEARCH PROPERTY LIST</td><td>NULL</td><td>DATABASE</td><td>DATABASE_OBJECT_PERMISSION_CHANGE_GROUP</td><td>NULL</td><td>DATABASE_OBJECT_PERMISSION_CHANGE_GROUP</td><td>1</td></tr>",
                            "<tr><td>[dm_audit_actions]</td><td>GWG </td><td>GRANT WITH GRANT</td><td>SEARCH PROPERTY LIST</td><td>NULL</td><td>DATABASE</td><td>DATABASE_OBJECT_PERMISSION_CHANGE_GROUP</td><td>NULL</td><td>DATABASE_OBJECT_PERMISSION_CHANGE_GROUP</td><td>1</td></tr>",
                            "<tr><td>[dm_audit_actions]</td><td>RWG </td><td>REVOKE WITH GRANT</td><td>SEARCH PROPERTY LIST</td><td>NULL</td><td>DATABASE</td><td>DATABASE_OBJECT_PERMISSION_CHANGE_GROUP</td><td>NULL</td><td>DATABASE_OBJECT_PERMISSION_CHANGE_GROUP</td><td>1</td></tr>",
                            "<tr><td>[dm_audit_actions]</td><td>RWC </td><td>REVOKE WITH CASCADE</td><td>SEARCH PROPERTY LIST</td><td>NULL</td><td>DATABASE</td><td>DATABASE_OBJECT_PERMISSION_CHANGE_GROUP</td><td>NULL</td><td>DATABASE_OBJECT_PERMISSION_CHANGE_GROUP</td><td>1</td></tr>",
                            "<tr><td>[dm_audit_actions]</td><td>DWC </td><td>DENY WITH CASCADE</td><td>SEARCH PROPERTY LIST</td><td>NULL</td><td>DATABASE</td><td>DATABASE_OBJECT_PERMISSION_CHANGE_GROUP</td><td>NULL</td><td>DATABASE_OBJECT_PERMISSION_CHANGE_GROUP</td><td>1</td></tr>",
                            "<tr><td>[dm_audit_actions]</td><td>R   </td><td>REVOKE</td><td>SYMMETRIC KEY</td><td>NULL</td><td>DATABASE</td><td>DATABASE_OBJECT_PERMISSION_CHANGE_GROUP</td><td>NULL</td><td>DATABASE_OBJECT_PERMISSION_CHANGE_GROUP</td><td>1</td></tr>",
                            "<tr><td>[dm_audit_actions]</td><td>D   </td><td>DENY</td><td>SYMMETRIC KEY</td><td>NULL</td><td>DATABASE</td><td>DATABASE_OBJECT_PERMISSION_CHANGE_GROUP</td><td>NULL</td><td>DATABASE_OBJECT_PERMISSION_CHANGE_GROUP</td><td>1</td></tr>",
                            "<tr><td>[dm_audit_actions]</td><td>G   </td><td>GRANT</td><td>SYMMETRIC KEY</td><td>NULL</td><td>DATABASE</td><td>DATABASE_OBJECT_PERMISSION_CHANGE_GROUP</td><td>NULL</td><td>DATABASE_OBJECT_PERMISSION_CHANGE_GROUP</td><td>1</td></tr>",
                            "<tr><td>[dm_audit_actions]</td><td>GWG </td><td>GRANT WITH GRANT</td><td>SYMMETRIC KEY</td><td>NULL</td><td>DATABASE</td><td>DATABASE_OBJECT_PERMISSION_CHANGE_GROUP</td><td>NULL</td><td>DATABASE_OBJECT_PERMISSION_CHANGE_GROUP</td><td>1</td></tr>",
                            "<tr><td>[dm_audit_actions]</td><td>RWG </td><td>REVOKE WITH GRANT</td><td>SYMMETRIC KEY</td><td>NULL</td><td>DATABASE</td><td>DATABASE_OBJECT_PERMISSION_CHANGE_GROUP</td><td>NULL</td><td>DATABASE_OBJECT_PERMISSION_CHANGE_GROUP</td><td>1</td></tr>",
                            "<tr><td>[dm_audit_actions]</td><td>RWC </td><td>REVOKE WITH CASCADE</td><td>SYMMETRIC KEY</td><td>NULL</td><td>DATABASE</td><td>DATABASE_OBJECT_PERMISSION_CHANGE_GROUP</td><td>NULL</td><td>DATABASE_OBJECT_PERMISSION_CHANGE_GROUP</td><td>1</td></tr>",
                            "<tr><td>[dm_audit_actions]</td><td>DWC </td><td>DENY WITH CASCADE</td><td>SYMMETRIC KEY</td><td>NULL</td><td>DATABASE</td><td>DATABASE_OBJECT_PERMISSION_CHANGE_GROUP</td><td>NULL</td><td>DATABASE_OBJECT_PERMISSION_CHANGE_GROUP</td><td>1</td></tr>",
                            "<tr><td>[dm_audit_actions]</td><td>R   </td><td>REVOKE</td><td>CERTIFICATE</td><td>NULL</td><td>DATABASE</td><td>DATABASE_OBJECT_PERMISSION_CHANGE_GROUP</td><td>NULL</td><td>DATABASE_OBJECT_PERMISSION_CHANGE_GROUP</td><td>1</td></tr>",
                            "<tr><td>[dm_audit_actions]</td><td>D   </td><td>DENY</td><td>CERTIFICATE</td><td>NULL</td><td>DATABASE</td><td>DATABASE_OBJECT_PERMISSION_CHANGE_GROUP</td><td>NULL</td><td>DATABASE_OBJECT_PERMISSION_CHANGE_GROUP</td><td>1</td></tr>",
                            "<tr><td>[dm_audit_actions]</td><td>G   </td><td>GRANT</td><td>CERTIFICATE</td><td>NULL</td><td>DATABASE</td><td>DATABASE_OBJECT_PERMISSION_CHANGE_GROUP</td><td>NULL</td><td>DATABASE_OBJECT_PERMISSION_CHANGE_GROUP</td><td>1</td></tr>",
                            "<tr><td>[dm_audit_actions]</td><td>GWG </td><td>GRANT WITH GRANT</td><td>CERTIFICATE</td><td>NULL</td><td>DATABASE</td><td>DATABASE_OBJECT_PERMISSION_CHANGE_GROUP</td><td>NULL</td><td>DATABASE_OBJECT_PERMISSION_CHANGE_GROUP</td><td>1</td></tr>",
                            "<tr><td>[dm_audit_actions]</td><td>RWG </td><td>REVOKE WITH GRANT</td><td>CERTIFICATE</td><td>NULL</td><td>DATABASE</td><td>DATABASE_OBJECT_PERMISSION_CHANGE_GROUP</td><td>NULL</td><td>DATABASE_OBJECT_PERMISSION_CHANGE_GROUP</td><td>1</td></tr>",
                            "<tr><td>[dm_audit_actions]</td><td>RWC </td><td>REVOKE WITH CASCADE</td><td>CERTIFICATE</td><td>NULL</td><td>DATABASE</td><td>DATABASE_OBJECT_PERMISSION_CHANGE_GROUP</td><td>NULL</td><td>DATABASE_OBJECT_PERMISSION_CHANGE_GROUP</td><td>1</td></tr>",
                            "<tr><td>[dm_audit_actions]</td><td>DWC </td><td>DENY WITH CASCADE</td><td>CERTIFICATE</td><td>NULL</td><td>DATABASE</td><td>DATABASE_OBJECT_PERMISSION_CHANGE_GROUP</td><td>NULL</td><td>DATABASE_OBJECT_PERMISSION_CHANGE_GROUP</td><td>1</td></tr>",
                            "<tr><td>[dm_audit_actions]</td><td>R   </td><td>REVOKE</td><td>ASYMMETRIC KEY</td><td>NULL</td><td>DATABASE</td><td>DATABASE_OBJECT_PERMISSION_CHANGE_GROUP</td><td>NULL</td><td>DATABASE_OBJECT_PERMISSION_CHANGE_GROUP</td><td>1</td></tr>",
                            "<tr><td>[dm_audit_actions]</td><td>D   </td><td>DENY</td><td>ASYMMETRIC KEY</td><td>NULL</td><td>DATABASE</td><td>DATABASE_OBJECT_PERMISSION_CHANGE_GROUP</td><td>NULL</td><td>DATABASE_OBJECT_PERMISSION_CHANGE_GROUP</td><td>1</td></tr>",
                            "<tr><td>[dm_audit_actions]</td><td>G   </td><td>GRANT</td><td>ASYMMETRIC KEY</td><td>NULL</td><td>DATABASE</td><td>DATABASE_OBJECT_PERMISSION_CHANGE_GROUP</td><td>NULL</td><td>DATABASE_OBJECT_PERMISSION_CHANGE_GROUP</td><td>1</td></tr>",
                            "<tr><td>[dm_audit_actions]</td><td>GWG </td><td>GRANT WITH GRANT</td><td>ASYMMETRIC KEY</td><td>NULL</td><td>DATABASE</td><td>DATABASE_OBJECT_PERMISSION_CHANGE_GROUP</td><td>NULL</td><td>DATABASE_OBJECT_PERMISSION_CHANGE_GROUP</td><td>1</td></tr>",
                            "<tr><td>[dm_audit_actions]</td><td>RWG </td><td>REVOKE WITH GRANT</td><td>ASYMMETRIC KEY</td><td>NULL</td><td>DATABASE</td><td>DATABASE_OBJECT_PERMISSION_CHANGE_GROUP</td><td>NULL</td><td>DATABASE_OBJECT_PERMISSION_CHANGE_GROUP</td><td>1</td></tr>",
                            "<tr><td>[dm_audit_actions]</td><td>RWC </td><td>REVOKE WITH CASCADE</td><td>ASYMMETRIC KEY</td><td>NULL</td><td>DATABASE</td><td>DATABASE_OBJECT_PERMISSION_CHANGE_GROUP</td><td>NULL</td><td>DATABASE_OBJECT_PERMISSION_CHANGE_GROUP</td><td>1</td></tr>",
                            "<tr><td>[dm_audit_actions]</td><td>DWC </td><td>DENY WITH CASCADE</td><td>ASYMMETRIC KEY</td><td>NULL</td><td>DATABASE</td><td>DATABASE_OBJECT_PERMISSION_CHANGE_GROUP</td><td>NULL</td><td>DATABASE_OBJECT_PERMISSION_CHANGE_GROUP</td><td>1</td></tr>",
                            "<tr><td>[dm_audit_actions]</td><td>R   </td><td>REVOKE</td><td>DATABASE SCOPED CREDENTIAL</td><td>NULL</td><td>DATABASE</td><td>DATABASE_OBJECT_PERMISSION_CHANGE_GROUP</td><td>NULL</td><td>DATABASE_OBJECT_PERMISSION_CHANGE_GROUP</td><td>1</td></tr>",
                            "<tr><td>[dm_audit_actions]</td><td>D   </td><td>DENY</td><td>DATABASE SCOPED CREDENTIAL</td><td>NULL</td><td>DATABASE</td><td>DATABASE_OBJECT_PERMISSION_CHANGE_GROUP</td><td>NULL</td><td>DATABASE_OBJECT_PERMISSION_CHANGE_GROUP</td><td>1</td></tr>",
                            "<tr><td>[dm_audit_actions]</td><td>G   </td><td>GRANT</td><td>DATABASE SCOPED CREDENTIAL</td><td>NULL</td><td>DATABASE</td><td>DATABASE_OBJECT_PERMISSION_CHANGE_GROUP</td><td>NULL</td><td>DATABASE_OBJECT_PERMISSION_CHANGE_GROUP</td><td>1</td></tr>",
                            "<tr><td>[dm_audit_actions]</td><td>GWG </td><td>GRANT WITH GRANT</td><td>DATABASE SCOPED CREDENTIAL</td><td>NULL</td><td>DATABASE</td><td>DATABASE_OBJECT_PERMISSION_CHANGE_GROUP</td><td>NULL</td><td>DATABASE_OBJECT_PERMISSION_CHANGE_GROUP</td><td>1</td></tr>",
                            "<tr><td>[dm_audit_actions]</td><td>RWG </td><td>REVOKE WITH GRANT</td><td>DATABASE SCOPED CREDENTIAL</td><td>NULL</td><td>DATABASE</td><td>DATABASE_OBJECT_PERMISSION_CHANGE_GROUP</td><td>NULL</td><td>DATABASE_OBJECT_PERMISSION_CHANGE_GROUP</td><td>1</td></tr>",
                            "<tr><td>[dm_audit_actions]</td><td>RWC </td><td>REVOKE WITH CASCADE</td><td>DATABASE SCOPED CREDENTIAL</td><td>NULL</td><td>DATABASE</td><td>DATABASE_OBJECT_PERMISSION_CHANGE_GROUP</td><td>NULL</td><td>DATABASE_OBJECT_PERMISSION_CHANGE_GROUP</td><td>1</td></tr>",
                            "<tr><td>[dm_audit_actions]</td><td>DWC </td><td>DENY WITH CASCADE</td><td>DATABASE SCOPED CREDENTIAL</td><td>NULL</td><td>DATABASE</td><td>DATABASE_OBJECT_PERMISSION_CHANGE_GROUP</td><td>NULL</td><td>DATABASE_OBJECT_PERMISSION_CHANGE_GROUP</td><td>1</td></tr>",
                            "<tr><td>[dm_audit_actions]</td><td>R   </td><td>REVOKE</td><td>EXTERNAL LIBRARY</td><td>NULL</td><td>DATABASE</td><td>DATABASE_OBJECT_PERMISSION_CHANGE_GROUP</td><td>NULL</td><td>DATABASE_OBJECT_PERMISSION_CHANGE_GROUP</td><td>1</td></tr>",
                            "<tr><td>[dm_audit_actions]</td><td>D   </td><td>DENY</td><td>EXTERNAL LIBRARY</td><td>NULL</td><td>DATABASE</td><td>DATABASE_OBJECT_PERMISSION_CHANGE_GROUP</td><td>NULL</td><td>DATABASE_OBJECT_PERMISSION_CHANGE_GROUP</td><td>1</td></tr>",
                            "<tr><td>[dm_audit_actions]</td><td>G   </td><td>GRANT</td><td>EXTERNAL LIBRARY</td><td>NULL</td><td>DATABASE</td><td>DATABASE_OBJECT_PERMISSION_CHANGE_GROUP</td><td>NULL</td><td>DATABASE_OBJECT_PERMISSION_CHANGE_GROUP</td><td>1</td></tr>",
                            "<tr><td>[dm_audit_actions]</td><td>GWG </td><td>GRANT WITH GRANT</td><td>EXTERNAL LIBRARY</td><td>NULL</td><td>DATABASE</td><td>DATABASE_OBJECT_PERMISSION_CHANGE_GROUP</td><td>NULL</td><td>DATABASE_OBJECT_PERMISSION_CHANGE_GROUP</td><td>1</td></tr>",
                            "<tr><td>[dm_audit_actions]</td><td>RWG </td><td>REVOKE WITH GRANT</td><td>EXTERNAL LIBRARY</td><td>NULL</td><td>DATABASE</td><td>DATABASE_OBJECT_PERMISSION_CHANGE_GROUP</td><td>NULL</td><td>DATABASE_OBJECT_PERMISSION_CHANGE_GROUP</td><td>1</td></tr>",
                            "<tr><td>[dm_audit_actions]</td><td>RWC </td><td>REVOKE WITH CASCADE</td><td>EXTERNAL LIBRARY</td><td>NULL</td><td>DATABASE</td><td>DATABASE_OBJECT_PERMISSION_CHANGE_GROUP</td><td>NULL</td><td>DATABASE_OBJECT_PERMISSION_CHANGE_GROUP</td><td>1</td></tr>",
                            "<tr><td>[dm_audit_actions]</td><td>DWC </td><td>DENY WITH CASCADE</td><td>EXTERNAL LIBRARY</td><td>NULL</td><td>DATABASE</td><td>DATABASE_OBJECT_PERMISSION_CHANGE_GROUP</td><td>NULL</td><td>DATABASE_OBJECT_PERMISSION_CHANGE_GROUP</td><td>1</td></tr>",
                            "<tr><td>[dm_audit_actions]</td><td>R   </td><td>REVOKE</td><td>EXTERNAL LANGUAGE</td><td>NULL</td><td>DATABASE</td><td>DATABASE_OBJECT_PERMISSION_CHANGE_GROUP</td><td>NULL</td><td>DATABASE_OBJECT_PERMISSION_CHANGE_GROUP</td><td>1</td></tr>",
                            "<tr><td>[dm_audit_actions]</td><td>D   </td><td>DENY</td><td>EXTERNAL LANGUAGE</td><td>NULL</td><td>DATABASE</td><td>DATABASE_OBJECT_PERMISSION_CHANGE_GROUP</td><td>NULL</td><td>DATABASE_OBJECT_PERMISSION_CHANGE_GROUP</td><td>1</td></tr>",
                            "<tr><td>[dm_audit_actions]</td><td>G   </td><td>GRANT</td><td>EXTERNAL LANGUAGE</td><td>NULL</td><td>DATABASE</td><td>DATABASE_OBJECT_PERMISSION_CHANGE_GROUP</td><td>NULL</td><td>DATABASE_OBJECT_PERMISSION_CHANGE_GROUP</td><td>1</td></tr>",
                            "<tr><td>[dm_audit_actions]</td><td>GWG </td><td>GRANT WITH GRANT</td><td>EXTERNAL LANGUAGE</td><td>NULL</td><td>DATABASE</td><td>DATABASE_OBJECT_PERMISSION_CHANGE_GROUP</td><td>NULL</td><td>DATABASE_OBJECT_PERMISSION_CHANGE_GROUP</td><td>1</td></tr>",
                            "<tr><td>[dm_audit_actions]</td><td>RWG </td><td>REVOKE WITH GRANT</td><td>EXTERNAL LANGUAGE</td><td>NULL</td><td>DATABASE</td><td>DATABASE_OBJECT_PERMISSION_CHANGE_GROUP</td><td>NULL</td><td>DATABASE_OBJECT_PERMISSION_CHANGE_GROUP</td><td>1</td></tr>",
                            "<tr><td>[dm_audit_actions]</td><td>RWC </td><td>REVOKE WITH CASCADE</td><td>EXTERNAL LANGUAGE</td><td>NULL</td><td>DATABASE</td><td>DATABASE_OBJECT_PERMISSION_CHANGE_GROUP</td><td>NULL</td><td>DATABASE_OBJECT_PERMISSION_CHANGE_GROUP</td><td>1</td></tr>",
                            "<tr><td>[dm_audit_actions]</td><td>DWC </td><td>DENY WITH CASCADE</td><td>EXTERNAL LANGUAGE</td><td>NULL</td><td>DATABASE</td><td>DATABASE_OBJECT_PERMISSION_CHANGE_GROUP</td><td>NULL</td><td>DATABASE_OBJECT_PERMISSION_CHANGE_GROUP</td><td>1</td></tr>",
                            "<tr><td>[dm_audit_actions]</td><td>R   </td><td>REVOKE</td><td>SERVER</td><td>SERVER_PERMISSION_CHANGE_GROUP</td><td>NULL</td><td>NULL</td><td>NULL</td><td>SERVER_PERMISSION_CHANGE_GROUP</td><td>1</td></tr>",
                            "<tr><td>[dm_audit_actions]</td><td>D   </td><td>DENY</td><td>SERVER</td><td>SERVER_PERMISSION_CHANGE_GROUP</td><td>NULL</td><td>NULL</td><td>NULL</td><td>SERVER_PERMISSION_CHANGE_GROUP</td><td>1</td></tr>",
                            "<tr><td>[dm_audit_actions]</td><td>G   </td><td>GRANT</td><td>SERVER</td><td>SERVER_PERMISSION_CHANGE_GROUP</td><td>NULL</td><td>NULL</td><td>NULL</td><td>SERVER_PERMISSION_CHANGE_GROUP</td><td>1</td></tr>",
                            "<tr><td>[dm_audit_actions]</td><td>GWG </td><td>GRANT WITH GRANT</td><td>SERVER</td><td>SERVER_PERMISSION_CHANGE_GROUP</td><td>NULL</td><td>NULL</td><td>NULL</td><td>SERVER_PERMISSION_CHANGE_GROUP</td><td>1</td></tr>",
                            "<tr><td>[dm_audit_actions]</td><td>RWG </td><td>REVOKE WITH GRANT</td><td>SERVER</td><td>SERVER_PERMISSION_CHANGE_GROUP</td><td>NULL</td><td>NULL</td><td>NULL</td><td>SERVER_PERMISSION_CHANGE_GROUP</td><td>1</td></tr>",
                            "<tr><td>[dm_audit_actions]</td><td>RWC </td><td>REVOKE WITH CASCADE</td><td>SERVER</td><td>SERVER_PERMISSION_CHANGE_GROUP</td><td>NULL</td><td>NULL</td><td>NULL</td><td>SERVER_PERMISSION_CHANGE_GROUP</td><td>1</td></tr>",
                            "<tr><td>[dm_audit_actions]</td><td>DWC </td><td>DENY WITH CASCADE</td><td>SERVER</td><td>SERVER_PERMISSION_CHANGE_GROUP</td><td>NULL</td><td>NULL</td><td>NULL</td><td>SERVER_PERMISSION_CHANGE_GROUP</td><td>1</td></tr>",
                            "<tr><td>[dm_audit_actions]</td><td>R   </td><td>REVOKE</td><td>ENDPOINT</td><td>NULL</td><td>SERVER</td><td>SERVER_OBJECT_PERMISSION_CHANGE_GROUP</td><td>NULL</td><td>SERVER_OBJECT_PERMISSION_CHANGE_GROUP</td><td>1</td></tr>",
                            "<tr><td>[dm_audit_actions]</td><td>D   </td><td>DENY</td><td>ENDPOINT</td><td>NULL</td><td>SERVER</td><td>SERVER_OBJECT_PERMISSION_CHANGE_GROUP</td><td>NULL</td><td>SERVER_OBJECT_PERMISSION_CHANGE_GROUP</td><td>1</td></tr>",
                            "<tr><td>[dm_audit_actions]</td><td>G   </td><td>GRANT</td><td>ENDPOINT</td><td>NULL</td><td>SERVER</td><td>SERVER_OBJECT_PERMISSION_CHANGE_GROUP</td><td>NULL</td><td>SERVER_OBJECT_PERMISSION_CHANGE_GROUP</td><td>1</td></tr>",
                            "<tr><td>[dm_audit_actions]</td><td>GWG </td><td>GRANT WITH GRANT</td><td>ENDPOINT</td><td>NULL</td><td>SERVER</td><td>SERVER_OBJECT_PERMISSION_CHANGE_GROUP</td><td>NULL</td><td>SERVER_OBJECT_PERMISSION_CHANGE_GROUP</td><td>1</td></tr>",
                            "<tr><td>[dm_audit_actions]</td><td>RWG </td><td>REVOKE WITH GRANT</td><td>ENDPOINT</td><td>NULL</td><td>SERVER</td><td>SERVER_OBJECT_PERMISSION_CHANGE_GROUP</td><td>NULL</td><td>SERVER_OBJECT_PERMISSION_CHANGE_GROUP</td><td>1</td></tr>",
                            "<tr><td>[dm_audit_actions]</td><td>RWC </td><td>REVOKE WITH CASCADE</td><td>ENDPOINT</td><td>NULL</td><td>SERVER</td><td>SERVER_OBJECT_PERMISSION_CHANGE_GROUP</td><td>NULL</td><td>SERVER_OBJECT_PERMISSION_CHANGE_GROUP</td><td>1</td></tr>",
                            "<tr><td>[dm_audit_actions]</td><td>DWC </td><td>DENY WITH CASCADE</td><td>ENDPOINT</td><td>NULL</td><td>SERVER</td><td>SERVER_OBJECT_PERMISSION_CHANGE_GROUP</td><td>NULL</td><td>SERVER_OBJECT_PERMISSION_CHANGE_GROUP</td><td>1</td></tr>",
                            "<tr><td>[dm_audit_actions]</td><td>R   </td><td>REVOKE</td><td>SERVER ROLE</td><td>NULL</td><td>SERVER</td><td>SERVER_OBJECT_PERMISSION_CHANGE_GROUP</td><td>NULL</td><td>SERVER_OBJECT_PERMISSION_CHANGE_GROUP</td><td>1</td></tr>",
                            "<tr><td>[dm_audit_actions]</td><td>D   </td><td>DENY</td><td>SERVER ROLE</td><td>NULL</td><td>SERVER</td><td>SERVER_OBJECT_PERMISSION_CHANGE_GROUP</td><td>NULL</td><td>SERVER_OBJECT_PERMISSION_CHANGE_GROUP</td><td>1</td></tr>",
                            "<tr><td>[dm_audit_actions]</td><td>G   </td><td>GRANT</td><td>SERVER ROLE</td><td>NULL</td><td>SERVER</td><td>SERVER_OBJECT_PERMISSION_CHANGE_GROUP</td><td>NULL</td><td>SERVER_OBJECT_PERMISSION_CHANGE_GROUP</td><td>1</td></tr>",
                            "<tr><td>[dm_audit_actions]</td><td>GWG </td><td>GRANT WITH GRANT</td><td>SERVER ROLE</td><td>NULL</td><td>SERVER</td><td>SERVER_OBJECT_PERMISSION_CHANGE_GROUP</td><td>NULL</td><td>SERVER_OBJECT_PERMISSION_CHANGE_GROUP</td><td>1</td></tr>",
                            "<tr><td>[dm_audit_actions]</td><td>RWG </td><td>REVOKE WITH GRANT</td><td>SERVER ROLE</td><td>NULL</td><td>SERVER</td><td>SERVER_OBJECT_PERMISSION_CHANGE_GROUP</td><td>NULL</td><td>SERVER_OBJECT_PERMISSION_CHANGE_GROUP</td><td>1</td></tr>",
                            "<tr><td>[dm_audit_actions]</td><td>RWC </td><td>REVOKE WITH CASCADE</td><td>SERVER ROLE</td><td>NULL</td><td>SERVER</td><td>SERVER_OBJECT_PERMISSION_CHANGE_GROUP</td><td>NULL</td><td>SERVER_OBJECT_PERMISSION_CHANGE_GROUP</td><td>1</td></tr>",
                            "<tr><td>[dm_audit_actions]</td><td>DWC </td><td>DENY WITH CASCADE</td><td>SERVER ROLE</td><td>NULL</td><td>SERVER</td><td>SERVER_OBJECT_PERMISSION_CHANGE_GROUP</td><td>NULL</td><td>SERVER_OBJECT_PERMISSION_CHANGE_GROUP</td><td>1</td></tr>",
                            "<tr><td>[dm_audit_actions]</td><td>R   </td><td>REVOKE</td><td>AVAILABILITY GROUP</td><td>NULL</td><td>SERVER</td><td>SERVER_OBJECT_PERMISSION_CHANGE_GROUP</td><td>NULL</td><td>SERVER_OBJECT_PERMISSION_CHANGE_GROUP</td><td>1</td></tr>",
                            "<tr><td>[dm_audit_actions]</td><td>D   </td><td>DENY</td><td>AVAILABILITY GROUP</td><td>NULL</td><td>SERVER</td><td>SERVER_OBJECT_PERMISSION_CHANGE_GROUP</td><td>NULL</td><td>SERVER_OBJECT_PERMISSION_CHANGE_GROUP</td><td>1</td></tr>",
                            "<tr><td>[dm_audit_actions]</td><td>G   </td><td>GRANT</td><td>AVAILABILITY GROUP</td><td>NULL</td><td>SERVER</td><td>SERVER_OBJECT_PERMISSION_CHANGE_GROUP</td><td>NULL</td><td>SERVER_OBJECT_PERMISSION_CHANGE_GROUP</td><td>1</td></tr>",
                            "<tr><td>[dm_audit_actions]</td><td>GWG </td><td>GRANT WITH GRANT</td><td>AVAILABILITY GROUP</td><td>NULL</td><td>SERVER</td><td>SERVER_OBJECT_PERMISSION_CHANGE_GROUP</td><td>NULL</td><td>SERVER_OBJECT_PERMISSION_CHANGE_GROUP</td><td>1</td></tr>",
                            "<tr><td>[dm_audit_actions]</td><td>RWG </td><td>REVOKE WITH GRANT</td><td>AVAILABILITY GROUP</td><td>NULL</td><td>SERVER</td><td>SERVER_OBJECT_PERMISSION_CHANGE_GROUP</td><td>NULL</td><td>SERVER_OBJECT_PERMISSION_CHANGE_GROUP</td><td>1</td></tr>",
                            "<tr><td>[dm_audit_actions]</td><td>RWC </td><td>REVOKE WITH CASCADE</td><td>AVAILABILITY GROUP</td><td>NULL</td><td>SERVER</td><td>SERVER_OBJECT_PERMISSION_CHANGE_GROUP</td><td>NULL</td><td>SERVER_OBJECT_PERMISSION_CHANGE_GROUP</td><td>1</td></tr>",
                            "<tr><td>[dm_audit_actions]</td><td>DWC </td><td>DENY WITH CASCADE</td><td>AVAILABILITY GROUP</td><td>NULL</td><td>SERVER</td><td>SERVER_OBJECT_PERMISSION_CHANGE_GROUP</td><td>NULL</td><td>SERVER_OBJECT_PERMISSION_CHANGE_GROUP</td><td>1</td></tr>",
                            "<tr><td>[dm_audit_actions]</td><td>R   </td><td>REVOKE</td><td>LOGIN</td><td>NULL</td><td>SERVER</td><td>SERVER_OBJECT_PERMISSION_CHANGE_GROUP</td><td>NULL</td><td>SERVER_OBJECT_PERMISSION_CHANGE_GROUP</td><td>1</td></tr>",
                            "<tr><td>[dm_audit_actions]</td><td>D   </td><td>DENY</td><td>LOGIN</td><td>NULL</td><td>SERVER</td><td>SERVER_OBJECT_PERMISSION_CHANGE_GROUP</td><td>NULL</td><td>SERVER_OBJECT_PERMISSION_CHANGE_GROUP</td><td>1</td></tr>",
                            "<tr><td>[dm_audit_actions]</td><td>G   </td><td>GRANT</td><td>LOGIN</td><td>NULL</td><td>SERVER</td><td>SERVER_OBJECT_PERMISSION_CHANGE_GROUP</td><td>NULL</td><td>SERVER_OBJECT_PERMISSION_CHANGE_GROUP</td><td>1</td></tr>",
                            "<tr><td>[dm_audit_actions]</td><td>GWG </td><td>GRANT WITH GRANT</td><td>LOGIN</td><td>NULL</td><td>SERVER</td><td>SERVER_OBJECT_PERMISSION_CHANGE_GROUP</td><td>NULL</td><td>SERVER_OBJECT_PERMISSION_CHANGE_GROUP</td><td>1</td></tr>",
                            "<tr><td>[dm_audit_actions]</td><td>RWG </td><td>REVOKE WITH GRANT</td><td>LOGIN</td><td>NULL</td><td>SERVER</td><td>SERVER_OBJECT_PERMISSION_CHANGE_GROUP</td><td>NULL</td><td>SERVER_OBJECT_PERMISSION_CHANGE_GROUP</td><td>1</td></tr>",
                            "<tr><td>[dm_audit_actions]</td><td>RWC </td><td>REVOKE WITH CASCADE</td><td>LOGIN</td><td>NULL</td><td>SERVER</td><td>SERVER_OBJECT_PERMISSION_CHANGE_GROUP</td><td>NULL</td><td>SERVER_OBJECT_PERMISSION_CHANGE_GROUP</td><td>1</td></tr>",
                            "<tr><td>[dm_audit_actions]</td><td>DWC </td><td>DENY WITH CASCADE</td><td>LOGIN</td><td>NULL</td><td>SERVER</td><td>SERVER_OBJECT_PERMISSION_CHANGE_GROUP</td><td>NULL</td><td>SERVER_OBJECT_PERMISSION_CHANGE_GROUP</td><td>1</td></tr>",
                            "<tr><td>[dm_audit_actions]</td><td>TO  </td><td>TAKE OWNERSHIP</td><td>DATABASE</td><td>DATABASE_OWNERSHIP_CHANGE_GROUP</td><td>SERVER</td><td>DATABASE_OWNERSHIP_CHANGE_GROUP</td><td>NULL</td><td>DATABASE_OWNERSHIP_CHANGE_GROUP</td><td>1</td></tr>",
                            "<tr><td>[dm_audit_actions]</td><td>TO  </td><td>TAKE OWNERSHIP</td><td>OBJECT</td><td>NULL</td><td>DATABASE</td><td>SCHEMA_OBJECT_OWNERSHIP_CHANGE_GROUP</td><td>NULL</td><td>SCHEMA_OBJECT_OWNERSHIP_CHANGE_GROUP</td><td>1</td></tr>",
                            "<tr><td>[dm_audit_actions]</td><td>TO  </td><td>TAKE OWNERSHIP</td><td>TYPE</td><td>NULL</td><td>DATABASE</td><td>SCHEMA_OBJECT_OWNERSHIP_CHANGE_GROUP</td><td>NULL</td><td>SCHEMA_OBJECT_OWNERSHIP_CHANGE_GROUP</td><td>1</td></tr>",
                            "<tr><td>[dm_audit_actions]</td><td>TO  </td><td>TAKE OWNERSHIP</td><td>SCHEMA</td><td>NULL</td><td>DATABASE</td><td>DATABASE_OBJECT_OWNERSHIP_CHANGE_GROUP</td><td>NULL</td><td>DATABASE_OBJECT_OWNERSHIP_CHANGE_GROUP</td><td>1</td></tr>",
                            "<tr><td>[dm_audit_actions]</td><td>TO  </td><td>TAKE OWNERSHIP</td><td>XML SCHEMA COLLECTION</td><td>NULL</td><td>DATABASE</td><td>SCHEMA_OBJECT_OWNERSHIP_CHANGE_GROUP</td><td>NULL</td><td>SCHEMA_OBJECT_OWNERSHIP_CHANGE_GROUP</td><td>1</td></tr>",
                            "<tr><td>[dm_audit_actions]</td><td>TO  </td><td>TAKE OWNERSHIP</td><td>ASSEMBLY</td><td>NULL</td><td>DATABASE</td><td>DATABASE_OBJECT_OWNERSHIP_CHANGE_GROUP</td><td>NULL</td><td>DATABASE_OBJECT_OWNERSHIP_CHANGE_GROUP</td><td>1</td></tr>",
                            "<tr><td>[dm_audit_actions]</td><td>TO  </td><td>TAKE OWNERSHIP</td><td>ROLE</td><td>NULL</td><td>DATABASE</td><td>DATABASE_OBJECT_OWNERSHIP_CHANGE_GROUP</td><td>NULL</td><td>DATABASE_OBJECT_OWNERSHIP_CHANGE_GROUP</td><td>1</td></tr>",
                            "<tr><td>[dm_audit_actions]</td><td>TO  </td><td>TAKE OWNERSHIP</td><td>MESSAGE TYPE</td><td>NULL</td><td>DATABASE</td><td>DATABASE_OBJECT_OWNERSHIP_CHANGE_GROUP</td><td>NULL</td><td>DATABASE_OBJECT_OWNERSHIP_CHANGE_GROUP</td><td>1</td></tr>",
                            "<tr><td>[dm_audit_actions]</td><td>TO  </td><td>TAKE OWNERSHIP</td><td>CONTRACT</td><td>NULL</td><td>DATABASE</td><td>DATABASE_OBJECT_OWNERSHIP_CHANGE_GROUP</td><td>NULL</td><td>DATABASE_OBJECT_OWNERSHIP_CHANGE_GROUP</td><td>1</td></tr>",
                            "<tr><td>[dm_audit_actions]</td><td>TO  </td><td>TAKE OWNERSHIP</td><td>SERVICE</td><td>NULL</td><td>DATABASE</td><td>DATABASE_OBJECT_OWNERSHIP_CHANGE_GROUP</td><td>NULL</td><td>DATABASE_OBJECT_OWNERSHIP_CHANGE_GROUP</td><td>1</td></tr>",
                            "<tr><td>[dm_audit_actions]</td><td>TO  </td><td>TAKE OWNERSHIP</td><td>REMOTE SERVICE BINDING</td><td>NULL</td><td>DATABASE</td><td>DATABASE_OBJECT_OWNERSHIP_CHANGE_GROUP</td><td>NULL</td><td>DATABASE_OBJECT_OWNERSHIP_CHANGE_GROUP</td><td>1</td></tr>",
                            "<tr><td>[dm_audit_actions]</td><td>TO  </td><td>TAKE OWNERSHIP</td><td>ROUTE</td><td>NULL</td><td>DATABASE</td><td>DATABASE_OBJECT_OWNERSHIP_CHANGE_GROUP</td><td>NULL</td><td>DATABASE_OBJECT_OWNERSHIP_CHANGE_GROUP</td><td>1</td></tr>",
                            "<tr><td>[dm_audit_actions]</td><td>TO  </td><td>TAKE OWNERSHIP</td><td>FULLTEXT CATALOG</td><td>NULL</td><td>DATABASE</td><td>DATABASE_OBJECT_OWNERSHIP_CHANGE_GROUP</td><td>NULL</td><td>DATABASE_OBJECT_OWNERSHIP_CHANGE_GROUP</td><td>1</td></tr>",
                            "<tr><td>[dm_audit_actions]</td><td>TO  </td><td>TAKE OWNERSHIP</td><td>FULLTEXT STOPLIST</td><td>NULL</td><td>DATABASE</td><td>DATABASE_OBJECT_OWNERSHIP_CHANGE_GROUP</td><td>NULL</td><td>DATABASE_OBJECT_OWNERSHIP_CHANGE_GROUP</td><td>1</td></tr>",
                            "<tr><td>[dm_audit_actions]</td><td>TO  </td><td>TAKE OWNERSHIP</td><td>SEARCH PROPERTY LIST</td><td>NULL</td><td>DATABASE</td><td>DATABASE_OBJECT_OWNERSHIP_CHANGE_GROUP</td><td>NULL</td><td>DATABASE_OBJECT_OWNERSHIP_CHANGE_GROUP</td><td>1</td></tr>",
                            "<tr><td>[dm_audit_actions]</td><td>TO  </td><td>TAKE OWNERSHIP</td><td>SYMMETRIC KEY</td><td>NULL</td><td>DATABASE</td><td>DATABASE_OBJECT_OWNERSHIP_CHANGE_GROUP</td><td>NULL</td><td>DATABASE_OBJECT_OWNERSHIP_CHANGE_GROUP</td><td>1</td></tr>",
                            "<tr><td>[dm_audit_actions]</td><td>TO  </td><td>TAKE OWNERSHIP</td><td>CERTIFICATE</td><td>NULL</td><td>DATABASE</td><td>DATABASE_OBJECT_OWNERSHIP_CHANGE_GROUP</td><td>NULL</td><td>DATABASE_OBJECT_OWNERSHIP_CHANGE_GROUP</td><td>1</td></tr>",
                            "<tr><td>[dm_audit_actions]</td><td>TO  </td><td>TAKE OWNERSHIP</td><td>ASYMMETRIC KEY</td><td>NULL</td><td>DATABASE</td><td>DATABASE_OBJECT_OWNERSHIP_CHANGE_GROUP</td><td>NULL</td><td>DATABASE_OBJECT_OWNERSHIP_CHANGE_GROUP</td><td>1</td></tr>",
                            "<tr><td>[dm_audit_actions]</td><td>TO  </td><td>TAKE OWNERSHIP</td><td>DATABASE SCOPED CREDENTIAL</td><td>NULL</td><td>DATABASE</td><td>DATABASE_OBJECT_OWNERSHIP_CHANGE_GROUP</td><td>NULL</td><td>DATABASE_OBJECT_OWNERSHIP_CHANGE_GROUP</td><td>1</td></tr>",
                            "<tr><td>[dm_audit_actions]</td><td>TO  </td><td>TAKE OWNERSHIP</td><td>ENDPOINT</td><td>NULL</td><td>SERVER</td><td>SERVER_OBJECT_OWNERSHIP_CHANGE_GROUP</td><td>NULL</td><td>SERVER_OBJECT_OWNERSHIP_CHANGE_GROUP</td><td>1</td></tr>",
                            "<tr><td>[dm_audit_actions]</td><td>TO  </td><td>TAKE OWNERSHIP</td><td>AVAILABILITY GROUP</td><td>NULL</td><td>SERVER</td><td>SERVER_OBJECT_OWNERSHIP_CHANGE_GROUP</td><td>NULL</td><td>SERVER_OBJECT_OWNERSHIP_CHANGE_GROUP</td><td>1</td></tr>",
                            "<tr><td>[dm_audit_actions]</td><td>TO  </td><td>TAKE OWNERSHIP</td><td>SERVER ROLE</td><td>NULL</td><td>SERVER</td><td>SERVER_OBJECT_OWNERSHIP_CHANGE_GROUP</td><td>NULL</td><td>SERVER_OBJECT_OWNERSHIP_CHANGE_GROUP</td><td>1</td></tr>",
                            "<tr><td>[dm_audit_actions]</td><td>CR  </td><td>CREATE</td><td>DATABASE</td><td>DATABASE_CHANGE_GROUP</td><td>SERVER</td><td>DATABASE_CHANGE_GROUP</td><td>NULL</td><td>DATABASE_CHANGE_GROUP</td><td>1</td></tr>",
                            "<tr><td>[dm_audit_actions]</td><td>AL  </td><td>ALTER</td><td>DATABASE</td><td>DATABASE_CHANGE_GROUP</td><td>SERVER</td><td>DATABASE_CHANGE_GROUP</td><td>NULL</td><td>DATABASE_CHANGE_GROUP</td><td>1</td></tr>",
                            "<tr><td>[dm_audit_actions]</td><td>DR  </td><td>DROP</td><td>DATABASE</td><td>DATABASE_CHANGE_GROUP</td><td>SERVER</td><td>DATABASE_CHANGE_GROUP</td><td>NULL</td><td>DATABASE_CHANGE_GROUP</td><td>1</td></tr>",
                            "<tr><td>[dm_audit_actions]</td><td>BA  </td><td>BACKUP</td><td>DATABASE</td><td>BACKUP_RESTORE_GROUP</td><td>SERVER</td><td>BACKUP_RESTORE_GROUP</td><td>NULL</td><td>BACKUP_RESTORE_GROUP</td><td>1</td></tr>",
                            "<tr><td>[dm_audit_actions]</td><td>BAL </td><td>BACKUP LOG</td><td>DATABASE</td><td>BACKUP_RESTORE_GROUP</td><td>SERVER</td><td>BACKUP_RESTORE_GROUP</td><td>NULL</td><td>BACKUP_RESTORE_GROUP</td><td>1</td></tr>",
                            "<tr><td>[dm_audit_actions]</td><td>CP  </td><td>CHECKPOINT</td><td>DATABASE</td><td>DATABASE_OPERATION_GROUP</td><td>SERVER</td><td>DATABASE_OPERATION_GROUP</td><td>NULL</td><td>DATABASE_OPERATION_GROUP</td><td>1</td></tr>",
                            "<tr><td>[dm_audit_actions]</td><td>SUQN</td><td>SUBSCRIBE QUERY NOTIFICATION</td><td>DATABASE</td><td>DATABASE_OPERATION_GROUP</td><td>SERVER</td><td>DATABASE_OPERATION_GROUP</td><td>NULL</td><td>DATABASE_OPERATION_GROUP</td><td>1</td></tr>",
                            "<tr><td>[dm_audit_actions]</td><td>AUTH</td><td>AUTHENTICATE</td><td>DATABASE</td><td>DATABASE_OPERATION_GROUP</td><td>SERVER</td><td>DATABASE_OPERATION_GROUP</td><td>NULL</td><td>DATABASE_OPERATION_GROUP</td><td>1</td></tr>",
                            "<tr><td>[dm_audit_actions]</td><td>SPLN</td><td>SHOW PLAN</td><td>DATABASE</td><td>DATABASE_OPERATION_GROUP</td><td>SERVER</td><td>DATABASE_OPERATION_GROUP</td><td>NULL</td><td>DATABASE_OPERATION_GROUP</td><td>1</td></tr>",
                            "<tr><td>[dm_audit_actions]</td><td>CR  </td><td>CREATE</td><td>EVENT NOTIFICATION DATABASE</td><td>NULL</td><td>DATABASE</td><td>DATABASE_OBJECT_CHANGE_GROUP</td><td>NULL</td><td>DATABASE_OBJECT_CHANGE_GROUP</td><td>1</td></tr>",
                            "<tr><td>[dm_audit_actions]</td><td>CR  </td><td>CREATE</td><td>EVENT NOTIFICATION OBJECT</td><td>NULL</td><td>DATABASE</td><td>DATABASE_OBJECT_CHANGE_GROUP</td><td>NULL</td><td>DATABASE_OBJECT_CHANGE_GROUP</td><td>1</td></tr>",
                            "<tr><td>[dm_audit_actions]</td><td>AL  </td><td>ALTER</td><td>EVENT NOTIFICATION DATABASE</td><td>NULL</td><td>DATABASE</td><td>DATABASE_OBJECT_CHANGE_GROUP</td><td>NULL</td><td>DATABASE_OBJECT_CHANGE_GROUP</td><td>1</td></tr>",
                            "<tr><td>[dm_audit_actions]</td><td>DR  </td><td>DROP</td><td>EVENT NOTIFICATION DATABASE</td><td>NULL</td><td>DATABASE</td><td>DATABASE_OBJECT_CHANGE_GROUP</td><td>NULL</td><td>DATABASE_OBJECT_CHANGE_GROUP</td><td>1</td></tr>",
                            "<tr><td>[dm_audit_actions]</td><td>AL  </td><td>ALTER</td><td>EVENT NOTIFICATION OBJECT</td><td>NULL</td><td>DATABASE</td><td>DATABASE_OBJECT_CHANGE_GROUP</td><td>NULL</td><td>DATABASE_OBJECT_CHANGE_GROUP</td><td>1</td></tr>",
                            "<tr><td>[dm_audit_actions]</td><td>DR  </td><td>DROP</td><td>EVENT NOTIFICATION OBJECT</td><td>NULL</td><td>DATABASE</td><td>DATABASE_OBJECT_CHANGE_GROUP</td><td>NULL</td><td>DATABASE_OBJECT_CHANGE_GROUP</td><td>1</td></tr>",
                            "<tr><td>[dm_audit_actions]</td><td>CR  </td><td>CREATE</td><td>TRIGGER DATABASE</td><td>NULL</td><td>DATABASE</td><td>DATABASE_OBJECT_CHANGE_GROUP</td><td>NULL</td><td>DATABASE_OBJECT_CHANGE_GROUP</td><td>1</td></tr>",
                            "<tr><td>[dm_audit_actions]</td><td>AL  </td><td>ALTER</td><td>TRIGGER DATABASE</td><td>NULL</td><td>DATABASE</td><td>DATABASE_OBJECT_CHANGE_GROUP</td><td>NULL</td><td>DATABASE_OBJECT_CHANGE_GROUP</td><td>1</td></tr>",
                            "<tr><td>[dm_audit_actions]</td><td>DR  </td><td>DROP</td><td>TRIGGER DATABASE</td><td>NULL</td><td>DATABASE</td><td>DATABASE_OBJECT_CHANGE_GROUP</td><td>NULL</td><td>DATABASE_OBJECT_CHANGE_GROUP</td><td>1</td></tr>",
                            "<tr><td>[dm_audit_actions]</td><td>CR  </td><td>CREATE</td><td>OBJECT</td><td>NULL</td><td>DATABASE</td><td>SCHEMA_OBJECT_CHANGE_GROUP</td><td>NULL</td><td>SCHEMA_OBJECT_CHANGE_GROUP</td><td>1</td></tr>",
                            "<tr><td>[dm_audit_actions]</td><td>AL  </td><td>ALTER</td><td>OBJECT</td><td>NULL</td><td>DATABASE</td><td>SCHEMA_OBJECT_CHANGE_GROUP</td><td>NULL</td><td>SCHEMA_OBJECT_CHANGE_GROUP</td><td>1</td></tr>",
                            "<tr><td>[dm_audit_actions]</td><td>DR  </td><td>DROP</td><td>OBJECT</td><td>NULL</td><td>DATABASE</td><td>SCHEMA_OBJECT_CHANGE_GROUP</td><td>NULL</td><td>SCHEMA_OBJECT_CHANGE_GROUP</td><td>1</td></tr>",
                            "<tr><td>[dm_audit_actions]</td><td>TRO </td><td>TRANSFER</td><td>OBJECT</td><td>NULL</td><td>DATABASE</td><td>SCHEMA_OBJECT_CHANGE_GROUP</td><td>NULL</td><td>SCHEMA_OBJECT_CHANGE_GROUP</td><td>1</td></tr>",
                            "<tr><td>[dm_audit_actions]</td><td>CR  </td><td>CREATE</td><td>PARTITION FUNCTION</td><td>NULL</td><td>DATABASE</td><td>DATABASE_OBJECT_CHANGE_GROUP</td><td>NULL</td><td>DATABASE_OBJECT_CHANGE_GROUP</td><td>1</td></tr>",
                            "<tr><td>[dm_audit_actions]</td><td>AL  </td><td>ALTER</td><td>PARTITION FUNCTION</td><td>NULL</td><td>DATABASE</td><td>DATABASE_OBJECT_CHANGE_GROUP</td><td>NULL</td><td>DATABASE_OBJECT_CHANGE_GROUP</td><td>1</td></tr>",
                            "<tr><td>[dm_audit_actions]</td><td>DR  </td><td>DROP</td><td>PARTITION FUNCTION</td><td>NULL</td><td>DATABASE</td><td>DATABASE_OBJECT_CHANGE_GROUP</td><td>NULL</td><td>DATABASE_OBJECT_CHANGE_GROUP</td><td>1</td></tr>",
                            "<tr><td>[dm_audit_actions]</td><td>CR  </td><td>CREATE</td><td>PARTITION SCHEME</td><td>NULL</td><td>DATABASE</td><td>DATABASE_OBJECT_CHANGE_GROUP</td><td>NULL</td><td>DATABASE_OBJECT_CHANGE_GROUP</td><td>1</td></tr>",
                            "<tr><td>[dm_audit_actions]</td><td>AL  </td><td>ALTER</td><td>PARTITION SCHEME</td><td>NULL</td><td>DATABASE</td><td>DATABASE_OBJECT_CHANGE_GROUP</td><td>NULL</td><td>DATABASE_OBJECT_CHANGE_GROUP</td><td>1</td></tr>",
                            "<tr><td>[dm_audit_actions]</td><td>DR  </td><td>DROP</td><td>PARTITION SCHEME</td><td>NULL</td><td>DATABASE</td><td>DATABASE_OBJECT_CHANGE_GROUP</td><td>NULL</td><td>DATABASE_OBJECT_CHANGE_GROUP</td><td>1</td></tr>",
                            "<tr><td>[dm_audit_actions]</td><td>CR  </td><td>CREATE</td><td>TYPE</td><td>NULL</td><td>DATABASE</td><td>SCHEMA_OBJECT_CHANGE_GROUP</td><td>NULL</td><td>SCHEMA_OBJECT_CHANGE_GROUP</td><td>1</td></tr>",
                            "<tr><td>[dm_audit_actions]</td><td>DR  </td><td>DROP</td><td>TYPE</td><td>NULL</td><td>DATABASE</td><td>SCHEMA_OBJECT_CHANGE_GROUP</td><td>NULL</td><td>SCHEMA_OBJECT_CHANGE_GROUP</td><td>1</td></tr>",
                            "<tr><td>[dm_audit_actions]</td><td>TRO </td><td>TRANSFER</td><td>TYPE</td><td>NULL</td><td>DATABASE</td><td>SCHEMA_OBJECT_CHANGE_GROUP</td><td>NULL</td><td>SCHEMA_OBJECT_CHANGE_GROUP</td><td>1</td></tr>",
                            "<tr><td>[dm_audit_actions]</td><td>CR  </td><td>CREATE</td><td>SCHEMA</td><td>NULL</td><td>DATABASE</td><td>DATABASE_OBJECT_CHANGE_GROUP</td><td>NULL</td><td>DATABASE_OBJECT_CHANGE_GROUP</td><td>1</td></tr>",
                            "<tr><td>[dm_audit_actions]</td><td>AL  </td><td>ALTER</td><td>SCHEMA</td><td>NULL</td><td>DATABASE</td><td>DATABASE_OBJECT_CHANGE_GROUP</td><td>NULL</td><td>DATABASE_OBJECT_CHANGE_GROUP</td><td>1</td></tr>",
                            "<tr><td>[dm_audit_actions]</td><td>DR  </td><td>DROP</td><td>SCHEMA</td><td>NULL</td><td>DATABASE</td><td>DATABASE_OBJECT_CHANGE_GROUP</td><td>NULL</td><td>DATABASE_OBJECT_CHANGE_GROUP</td><td>1</td></tr>",
                            "<tr><td>[dm_audit_actions]</td><td>CR  </td><td>CREATE</td><td>XML SCHEMA COLLECTION</td><td>NULL</td><td>DATABASE</td><td>SCHEMA_OBJECT_CHANGE_GROUP</td><td>NULL</td><td>SCHEMA_OBJECT_CHANGE_GROUP</td><td>1</td></tr>",
                            "<tr><td>[dm_audit_actions]</td><td>AL  </td><td>ALTER</td><td>XML SCHEMA COLLECTION</td><td>NULL</td><td>DATABASE</td><td>SCHEMA_OBJECT_CHANGE_GROUP</td><td>NULL</td><td>SCHEMA_OBJECT_CHANGE_GROUP</td><td>1</td></tr>",
                            "<tr><td>[dm_audit_actions]</td><td>DR  </td><td>DROP</td><td>XML SCHEMA COLLECTION</td><td>NULL</td><td>DATABASE</td><td>SCHEMA_OBJECT_CHANGE_GROUP</td><td>NULL</td><td>SCHEMA_OBJECT_CHANGE_GROUP</td><td>1</td></tr>",
                            "<tr><td>[dm_audit_actions]</td><td>TRO </td><td>TRANSFER</td><td>XML SCHEMA COLLECTION</td><td>NULL</td><td>DATABASE</td><td>SCHEMA_OBJECT_CHANGE_GROUP</td><td>NULL</td><td>SCHEMA_OBJECT_CHANGE_GROUP</td><td>1</td></tr>",
                            "<tr><td>[dm_audit_actions]</td><td>CR  </td><td>CREATE</td><td>ASSEMBLY</td><td>NULL</td><td>DATABASE</td><td>DATABASE_OBJECT_CHANGE_GROUP</td><td>NULL</td><td>DATABASE_OBJECT_CHANGE_GROUP</td><td>1</td></tr>",
                            "<tr><td>[dm_audit_actions]</td><td>AL  </td><td>ALTER</td><td>ASSEMBLY</td><td>NULL</td><td>DATABASE</td><td>DATABASE_OBJECT_CHANGE_GROUP</td><td>NULL</td><td>DATABASE_OBJECT_CHANGE_GROUP</td><td>1</td></tr>",
                            "<tr><td>[dm_audit_actions]</td><td>DR  </td><td>DROP</td><td>ASSEMBLY</td><td>NULL</td><td>DATABASE</td><td>DATABASE_OBJECT_CHANGE_GROUP</td><td>NULL</td><td>DATABASE_OBJECT_CHANGE_GROUP</td><td>1</td></tr>",
                            "<tr><td>[dm_audit_actions]</td><td>CR  </td><td>CREATE</td><td>USER</td><td>NULL</td><td>DATABASE</td><td>DATABASE_PRINCIPAL_CHANGE_GROUP</td><td>NULL</td><td>DATABASE_PRINCIPAL_CHANGE_GROUP</td><td>1</td></tr>",
                            "<tr><td>[dm_audit_actions]</td><td>AL  </td><td>ALTER</td><td>USER</td><td>NULL</td><td>DATABASE</td><td>DATABASE_PRINCIPAL_CHANGE_GROUP</td><td>NULL</td><td>DATABASE_PRINCIPAL_CHANGE_GROUP</td><td>1</td></tr>",
                            "<tr><td>[dm_audit_actions]</td><td>PWR </td><td>RESET PASSWORD</td><td>USER</td><td>NULL</td><td>DATABASE</td><td>USER_CHANGE_PASSWORD_GROUP</td><td>NULL</td><td>USER_CHANGE_PASSWORD_GROUP</td><td>1</td></tr>",
                            "<tr><td>[dm_audit_actions]</td><td>PWRS</td><td>RESET OWN PASSWORD</td><td>USER</td><td>NULL</td><td>DATABASE</td><td>USER_CHANGE_PASSWORD_GROUP</td><td>NULL</td><td>USER_CHANGE_PASSWORD_GROUP</td><td>1</td></tr>",
                            "<tr><td>[dm_audit_actions]</td><td>PWCS</td><td>CHANGE OWN PASSWORD</td><td>USER</td><td>NULL</td><td>DATABASE</td><td>USER_CHANGE_PASSWORD_GROUP</td><td>NULL</td><td>USER_CHANGE_PASSWORD_GROUP</td><td>1</td></tr>",
                            "<tr><td>[dm_audit_actions]</td><td>PWC </td><td>CHANGE PASSWORD</td><td>USER</td><td>NULL</td><td>DATABASE</td><td>USER_CHANGE_PASSWORD_GROUP</td><td>NULL</td><td>USER_CHANGE_PASSWORD_GROUP</td><td>1</td></tr>",
                            "<tr><td>[dm_audit_actions]</td><td>DR  </td><td>DROP</td><td>USER</td><td>NULL</td><td>DATABASE</td><td>DATABASE_PRINCIPAL_CHANGE_GROUP</td><td>NULL</td><td>DATABASE_PRINCIPAL_CHANGE_GROUP</td><td>1</td></tr>",
                            "<tr><td>[dm_audit_actions]</td><td>DBAS</td><td>DATABASE AUTHENTICATION SUCCEEDED</td><td>DATABASE</td><td>SUCCESSFUL_DATABASE_AUTHENTICATION_GROUP</td><td>SERVER</td><td>SUCCESSFUL_DATABASE_AUTHENTICATION_GROUP</td><td>NULL</td><td>SUCCESSFUL_DATABASE_AUTHENTICATION_GROUP</td><td>1</td></tr>",
                            "<tr><td>[dm_audit_actions]</td><td>DBAF</td><td>DATABASE AUTHENTICATION FAILED</td><td>DATABASE</td><td>FAILED_DATABASE_AUTHENTICATION_GROUP</td><td>SERVER</td><td>FAILED_DATABASE_AUTHENTICATION_GROUP</td><td>NULL</td><td>FAILED_DATABASE_AUTHENTICATION_GROUP</td><td>1</td></tr>",
                            "<tr><td>[dm_audit_actions]</td><td>DBL </td><td>DATABASE LOGOUT</td><td>DATABASE</td><td>DATABASE_LOGOUT_GROUP</td><td>SERVER</td><td>DATABASE_LOGOUT_GROUP</td><td>NULL</td><td>DATABASE_LOGOUT_GROUP</td><td>1</td></tr>",
                            "<tr><td>[dm_audit_actions]</td><td>BST </td><td>BATCH STARTED</td><td>DATABASE</td><td>BATCH_STARTED_GROUP</td><td>SERVER</td><td>BATCH_STARTED_GROUP</td><td>NULL</td><td>BATCH_STARTED_GROUP</td><td>1</td></tr>",
                            "<tr><td>[dm_audit_actions]</td><td>BCM </td><td>BATCH COMPLETED</td><td>DATABASE</td><td>BATCH_COMPLETED_GROUP</td><td>SERVER</td><td>BATCH_COMPLETED_GROUP</td><td>NULL</td><td>BATCH_COMPLETED_GROUP</td><td>1</td></tr>",
                            "<tr><td>[dm_audit_actions]</td><td>RST </td><td>RPC STARTED</td><td>DATABASE</td><td>BATCH_STARTED_GROUP</td><td>SERVER</td><td>BATCH_STARTED_GROUP</td><td>NULL</td><td>BATCH_STARTED_GROUP</td><td>1</td></tr>",
                            "<tr><td>[dm_audit_actions]</td><td>RCM </td><td>RPC COMPLETED</td><td>DATABASE</td><td>BATCH_COMPLETED_GROUP</td><td>SERVER</td><td>BATCH_COMPLETED_GROUP</td><td>NULL</td><td>BATCH_COMPLETED_GROUP</td><td>1</td></tr>",
                            "<tr><td>[dm_audit_actions]</td><td>TXBG</td><td>TRANSACTION BEGIN</td><td>DATABASE</td><td>TRANSACTION_BEGIN_GROUP</td><td>SERVER</td><td>TRANSACTION_BEGIN_GROUP</td><td>NULL</td><td>TRANSACTION_BEGIN_GROUP</td><td>1</td></tr>",
                            "<tr><td>[dm_audit_actions]</td><td>TXCM</td><td>TRANSACTION COMMIT</td><td>DATABASE</td><td>TRANSACTION_COMMIT_GROUP</td><td>SERVER</td><td>TRANSACTION_COMMIT_GROUP</td><td>NULL</td><td>TRANSACTION_COMMIT_GROUP</td><td>1</td></tr>",
                            "<tr><td>[dm_audit_actions]</td><td>TXRB</td><td>TRANSACTION ROLLBACK</td><td>DATABASE</td><td>TRANSACTION_ROLLBACK_GROUP</td><td>SERVER</td><td>TRANSACTION_ROLLBACK_GROUP</td><td>NULL</td><td>TRANSACTION_ROLLBACK_GROUP</td><td>1</td></tr>",
                            "<tr><td>[dm_audit_actions]</td><td>UNDO</td><td>STATEMENT ROLLBACK</td><td>DATABASE</td><td>STATEMENT_ROLLBACK_GROUP</td><td>SERVER</td><td>STATEMENT_ROLLBACK_GROUP</td><td>NULL</td><td>STATEMENT_ROLLBACK_GROUP</td><td>1</td></tr>",
                            "<tr><td>[dm_audit_actions]</td><td>TRBS</td><td>TRANSACTION BEGIN STARTING</td><td>DATABASE</td><td>BATCH_STARTED_GROUP</td><td>SERVER</td><td>BATCH_STARTED_GROUP</td><td>NULL</td><td>BATCH_STARTED_GROUP</td><td>1</td></tr>",
                            "<tr><td>[dm_audit_actions]</td><td>TRCS</td><td>TRANSACTION COMMIT STARTING</td><td>DATABASE</td><td>BATCH_STARTED_GROUP</td><td>SERVER</td><td>BATCH_STARTED_GROUP</td><td>NULL</td><td>BATCH_STARTED_GROUP</td><td>1</td></tr>",
                            "<tr><td>[dm_audit_actions]</td><td>TRRS</td><td>TRANSACTION ROLLBACK STARTING</td><td>DATABASE</td><td>BATCH_STARTED_GROUP</td><td>SERVER</td><td>BATCH_STARTED_GROUP</td><td>NULL</td><td>BATCH_STARTED_GROUP</td><td>1</td></tr>",
                            "<tr><td>[dm_audit_actions]</td><td>TRSS</td><td>TRANSACTION SAVEPOINT STARTING</td><td>DATABASE</td><td>BATCH_STARTED_GROUP</td><td>SERVER</td><td>BATCH_STARTED_GROUP</td><td>NULL</td><td>BATCH_STARTED_GROUP</td><td>1</td></tr>",
                            "<tr><td>[dm_audit_actions]</td><td>TRPS</td><td>TRANSACTION PROMOTE STARTING</td><td>DATABASE</td><td>BATCH_STARTED_GROUP</td><td>SERVER</td><td>BATCH_STARTED_GROUP</td><td>NULL</td><td>BATCH_STARTED_GROUP</td><td>1</td></tr>",
                            "<tr><td>[dm_audit_actions]</td><td>TRGS</td><td>TRANSACTION PROPAGATE STARTING</td><td>DATABASE</td><td>BATCH_STARTED_GROUP</td><td>SERVER</td><td>BATCH_STARTED_GROUP</td><td>NULL</td><td>BATCH_STARTED_GROUP</td><td>1</td></tr>",
                            "<tr><td>[dm_audit_actions]</td><td>TRBC</td><td>TRANSACTION BEGIN COMPLETED</td><td>DATABASE</td><td>BATCH_COMPLETED_GROUP</td><td>SERVER</td><td>BATCH_COMPLETED_GROUP</td><td>NULL</td><td>BATCH_COMPLETED_GROUP</td><td>1</td></tr>",
                            "<tr><td>[dm_audit_actions]</td><td>TRCC</td><td>TRANSACTION COMMIT COMPLETED</td><td>DATABASE</td><td>BATCH_COMPLETED_GROUP</td><td>SERVER</td><td>BATCH_COMPLETED_GROUP</td><td>NULL</td><td>BATCH_COMPLETED_GROUP</td><td>1</td></tr>",
                            "<tr><td>[dm_audit_actions]</td><td>TRRC</td><td>TRANSACTION ROLLBACK COMPLETED</td><td>DATABASE</td><td>BATCH_COMPLETED_GROUP</td><td>SERVER</td><td>BATCH_COMPLETED_GROUP</td><td>NULL</td><td>BATCH_COMPLETED_GROUP</td><td>1</td></tr>",
                            "<tr><td>[dm_audit_actions]</td><td>TRSC</td><td>TRANSACTION SAVEPOINT COMPLETED</td><td>DATABASE</td><td>BATCH_COMPLETED_GROUP</td><td>SERVER</td><td>BATCH_COMPLETED_GROUP</td><td>NULL</td><td>BATCH_COMPLETED_GROUP</td><td>1</td></tr>",
                            "<tr><td>[dm_audit_actions]</td><td>TRPC</td><td>TRANSACTION PROMOTE COMPLETED</td><td>DATABASE</td><td>BATCH_COMPLETED_GROUP</td><td>SERVER</td><td>BATCH_COMPLETED_GROUP</td><td>NULL</td><td>BATCH_COMPLETED_GROUP</td><td>1</td></tr>",
                            "<tr><td>[dm_audit_actions]</td><td>TRGC</td><td>TRANSACTION PROPAGATE COMPLETED</td><td>DATABASE</td><td>BATCH_COMPLETED_GROUP</td><td>SERVER</td><td>BATCH_COMPLETED_GROUP</td><td>NULL</td><td>BATCH_COMPLETED_GROUP</td><td>1</td></tr>",
                            "<tr><td>[dm_audit_actions]</td><td>CR  </td><td>CREATE</td><td>ROLE</td><td>NULL</td><td>DATABASE</td><td>DATABASE_PRINCIPAL_CHANGE_GROUP</td><td>NULL</td><td>DATABASE_PRINCIPAL_CHANGE_GROUP</td><td>1</td></tr>",
                            "<tr><td>[dm_audit_actions]</td><td>AL  </td><td>ALTER</td><td>ROLE</td><td>NULL</td><td>DATABASE</td><td>DATABASE_PRINCIPAL_CHANGE_GROUP</td><td>NULL</td><td>DATABASE_PRINCIPAL_CHANGE_GROUP</td><td>1</td></tr>",
                            "<tr><td>[dm_audit_actions]</td><td>DR  </td><td>DROP</td><td>ROLE</td><td>NULL</td><td>DATABASE</td><td>DATABASE_PRINCIPAL_CHANGE_GROUP</td><td>NULL</td><td>DATABASE_PRINCIPAL_CHANGE_GROUP</td><td>1</td></tr>",
                            "<tr><td>[dm_audit_actions]</td><td>CR  </td><td>CREATE</td><td>APPLICATION ROLE</td><td>NULL</td><td>DATABASE</td><td>DATABASE_PRINCIPAL_CHANGE_GROUP</td><td>NULL</td><td>DATABASE_PRINCIPAL_CHANGE_GROUP</td><td>1</td></tr>",
                            "<tr><td>[dm_audit_actions]</td><td>AL  </td><td>ALTER</td><td>APPLICATION ROLE</td><td>NULL</td><td>DATABASE</td><td>DATABASE_PRINCIPAL_CHANGE_GROUP</td><td>NULL</td><td>DATABASE_PRINCIPAL_CHANGE_GROUP</td><td>1</td></tr>",
                            "<tr><td>[dm_audit_actions]</td><td>PWC </td><td>CHANGE PASSWORD</td><td>APPLICATION ROLE</td><td>NULL</td><td>DATABASE</td><td>APPLICATION_ROLE_CHANGE_PASSWORD_GROUP</td><td>NULL</td><td>APPLICATION_ROLE_CHANGE_PASSWORD_GROUP</td><td>1</td></tr>",
                            "<tr><td>[dm_audit_actions]</td><td>DR  </td><td>DROP</td><td>APPLICATION ROLE</td><td>NULL</td><td>DATABASE</td><td>DATABASE_PRINCIPAL_CHANGE_GROUP</td><td>NULL</td><td>DATABASE_PRINCIPAL_CHANGE_GROUP</td><td>1</td></tr>",
                            "<tr><td>[dm_audit_actions]</td><td>CR  </td><td>CREATE</td><td>MESSAGE TYPE</td><td>NULL</td><td>DATABASE</td><td>DATABASE_OBJECT_CHANGE_GROUP</td><td>NULL</td><td>DATABASE_OBJECT_CHANGE_GROUP</td><td>1</td></tr>",
                            "<tr><td>[dm_audit_actions]</td><td>AL  </td><td>ALTER</td><td>MESSAGE TYPE</td><td>NULL</td><td>DATABASE</td><td>DATABASE_OBJECT_CHANGE_GROUP</td><td>NULL</td><td>DATABASE_OBJECT_CHANGE_GROUP</td><td>1</td></tr>",
                            "<tr><td>[dm_audit_actions]</td><td>DR  </td><td>DROP</td><td>MESSAGE TYPE</td><td>NULL</td><td>DATABASE</td><td>DATABASE_OBJECT_CHANGE_GROUP</td><td>NULL</td><td>DATABASE_OBJECT_CHANGE_GROUP</td><td>1</td></tr>",
                            "<tr><td>[dm_audit_actions]</td><td>CR  </td><td>CREATE</td><td>CONTRACT</td><td>NULL</td><td>DATABASE</td><td>DATABASE_OBJECT_CHANGE_GROUP</td><td>NULL</td><td>DATABASE_OBJECT_CHANGE_GROUP</td><td>1</td></tr>",
                            "<tr><td>[dm_audit_actions]</td><td>DR  </td><td>DROP</td><td>CONTRACT</td><td>NULL</td><td>DATABASE</td><td>DATABASE_OBJECT_CHANGE_GROUP</td><td>NULL</td><td>DATABASE_OBJECT_CHANGE_GROUP</td><td>1</td></tr>",
                            "<tr><td>[dm_audit_actions]</td><td>CR  </td><td>CREATE</td><td>SERVICE</td><td>NULL</td><td>DATABASE</td><td>DATABASE_OBJECT_CHANGE_GROUP</td><td>NULL</td><td>DATABASE_OBJECT_CHANGE_GROUP</td><td>1</td></tr>",
                            "<tr><td>[dm_audit_actions]</td><td>AL  </td><td>ALTER</td><td>SERVICE</td><td>NULL</td><td>DATABASE</td><td>DATABASE_OBJECT_CHANGE_GROUP</td><td>NULL</td><td>DATABASE_OBJECT_CHANGE_GROUP</td><td>1</td></tr>",
                            "<tr><td>[dm_audit_actions]</td><td>DR  </td><td>DROP</td><td>SERVICE</td><td>NULL</td><td>DATABASE</td><td>DATABASE_OBJECT_CHANGE_GROUP</td><td>NULL</td><td>DATABASE_OBJECT_CHANGE_GROUP</td><td>1</td></tr>",
                            "<tr><td>[dm_audit_actions]</td><td>CR  </td><td>CREATE</td><td>REMOTE SERVICE BINDING</td><td>NULL</td><td>DATABASE</td><td>DATABASE_OBJECT_CHANGE_GROUP</td><td>NULL</td><td>DATABASE_OBJECT_CHANGE_GROUP</td><td>1</td></tr>",
                            "<tr><td>[dm_audit_actions]</td><td>AL  </td><td>ALTER</td><td>REMOTE SERVICE BINDING</td><td>NULL</td><td>DATABASE</td><td>DATABASE_OBJECT_CHANGE_GROUP</td><td>NULL</td><td>DATABASE_OBJECT_CHANGE_GROUP</td><td>1</td></tr>",
                            "<tr><td>[dm_audit_actions]</td><td>DR  </td><td>DROP</td><td>REMOTE SERVICE BINDING</td><td>NULL</td><td>DATABASE</td><td>DATABASE_OBJECT_CHANGE_GROUP</td><td>NULL</td><td>DATABASE_OBJECT_CHANGE_GROUP</td><td>1</td></tr>",
                            "<tr><td>[dm_audit_actions]</td><td>CR  </td><td>CREATE</td><td>ROUTE</td><td>NULL</td><td>DATABASE</td><td>DATABASE_OBJECT_CHANGE_GROUP</td><td>NULL</td><td>DATABASE_OBJECT_CHANGE_GROUP</td><td>1</td></tr>",
                            "<tr><td>[dm_audit_actions]</td><td>AL  </td><td>ALTER</td><td>ROUTE</td><td>NULL</td><td>DATABASE</td><td>DATABASE_OBJECT_CHANGE_GROUP</td><td>NULL</td><td>DATABASE_OBJECT_CHANGE_GROUP</td><td>1</td></tr>",
                            "<tr><td>[dm_audit_actions]</td><td>DR  </td><td>DROP</td><td>ROUTE</td><td>NULL</td><td>DATABASE</td><td>DATABASE_OBJECT_CHANGE_GROUP</td><td>NULL</td><td>DATABASE_OBJECT_CHANGE_GROUP</td><td>1</td></tr>",
                            "<tr><td>[dm_audit_actions]</td><td>CR  </td><td>CREATE</td><td>BROKER PRIORITY</td><td>NULL</td><td>DATABASE</td><td>DATABASE_OBJECT_CHANGE_GROUP</td><td>NULL</td><td>DATABASE_OBJECT_CHANGE_GROUP</td><td>1</td></tr>",
                            "<tr><td>[dm_audit_actions]</td><td>AL  </td><td>ALTER</td><td>BROKER PRIORITY</td><td>NULL</td><td>DATABASE</td><td>DATABASE_OBJECT_CHANGE_GROUP</td><td>NULL</td><td>DATABASE_OBJECT_CHANGE_GROUP</td><td>1</td></tr>",
                            "<tr><td>[dm_audit_actions]</td><td>DR  </td><td>DROP</td><td>BROKER PRIORITY</td><td>NULL</td><td>DATABASE</td><td>DATABASE_OBJECT_CHANGE_GROUP</td><td>NULL</td><td>DATABASE_OBJECT_CHANGE_GROUP</td><td>1</td></tr>",
                            "<tr><td>[dm_audit_actions]</td><td>CR  </td><td>CREATE</td><td>FULLTEXT CATALOG</td><td>NULL</td><td>DATABASE</td><td>DATABASE_OBJECT_CHANGE_GROUP</td><td>NULL</td><td>DATABASE_OBJECT_CHANGE_GROUP</td><td>1</td></tr>",
                            "<tr><td>[dm_audit_actions]</td><td>AL  </td><td>ALTER</td><td>FULLTEXT CATALOG</td><td>NULL</td><td>DATABASE</td><td>DATABASE_OBJECT_CHANGE_GROUP</td><td>NULL</td><td>DATABASE_OBJECT_CHANGE_GROUP</td><td>1</td></tr>",
                            "<tr><td>[dm_audit_actions]</td><td>DR  </td><td>DROP</td><td>FULLTEXT CATALOG</td><td>NULL</td><td>DATABASE</td><td>DATABASE_OBJECT_CHANGE_GROUP</td><td>NULL</td><td>DATABASE_OBJECT_CHANGE_GROUP</td><td>1</td></tr>",
                            "<tr><td>[dm_audit_actions]</td><td>CR  </td><td>CREATE</td><td>FULLTEXT STOPLIST</td><td>NULL</td><td>DATABASE</td><td>DATABASE_OBJECT_CHANGE_GROUP</td><td>NULL</td><td>DATABASE_OBJECT_CHANGE_GROUP</td><td>1</td></tr>",
                            "<tr><td>[dm_audit_actions]</td><td>AL  </td><td>ALTER</td><td>FULLTEXT STOPLIST</td><td>NULL</td><td>DATABASE</td><td>DATABASE_OBJECT_CHANGE_GROUP</td><td>NULL</td><td>DATABASE_OBJECT_CHANGE_GROUP</td><td>1</td></tr>",
                            "<tr><td>[dm_audit_actions]</td><td>DR  </td><td>DROP</td><td>FULLTEXT STOPLIST</td><td>NULL</td><td>DATABASE</td><td>DATABASE_OBJECT_CHANGE_GROUP</td><td>NULL</td><td>DATABASE_OBJECT_CHANGE_GROUP</td><td>1</td></tr>",
                            "<tr><td>[dm_audit_actions]</td><td>CR  </td><td>CREATE</td><td>SEARCH PROPERTY LIST</td><td>NULL</td><td>DATABASE</td><td>DATABASE_OBJECT_CHANGE_GROUP</td><td>NULL</td><td>DATABASE_OBJECT_CHANGE_GROUP</td><td>1</td></tr>",
                            "<tr><td>[dm_audit_actions]</td><td>AL  </td><td>ALTER</td><td>SEARCH PROPERTY LIST</td><td>NULL</td><td>DATABASE</td><td>DATABASE_OBJECT_CHANGE_GROUP</td><td>NULL</td><td>DATABASE_OBJECT_CHANGE_GROUP</td><td>1</td></tr>",
                            "<tr><td>[dm_audit_actions]</td><td>DR  </td><td>DROP</td><td>SEARCH PROPERTY LIST</td><td>NULL</td><td>DATABASE</td><td>DATABASE_OBJECT_CHANGE_GROUP</td><td>NULL</td><td>DATABASE_OBJECT_CHANGE_GROUP</td><td>1</td></tr>",
                            "<tr><td>[dm_audit_actions]</td><td>AS  </td><td>ACCESS</td><td>FULLTEXT CATALOG</td><td>NULL</td><td>DATABASE</td><td>DATABASE_OBJECT_CHANGE_GROUP</td><td>NULL</td><td>DATABASE_OBJECT_CHANGE_GROUP</td><td>1</td></tr>",
                            "<tr><td>[dm_audit_actions]</td><td>CR  </td><td>CREATE</td><td>SYMMETRIC KEY</td><td>NULL</td><td>DATABASE</td><td>DATABASE_OBJECT_CHANGE_GROUP</td><td>NULL</td><td>DATABASE_OBJECT_CHANGE_GROUP</td><td>1</td></tr>",
                            "<tr><td>[dm_audit_actions]</td><td>AL  </td><td>ALTER</td><td>SYMMETRIC KEY</td><td>NULL</td><td>DATABASE</td><td>DATABASE_OBJECT_CHANGE_GROUP</td><td>NULL</td><td>DATABASE_OBJECT_CHANGE_GROUP</td><td>1</td></tr>",
                            "<tr><td>[dm_audit_actions]</td><td>DR  </td><td>DROP</td><td>SYMMETRIC KEY</td><td>NULL</td><td>DATABASE</td><td>DATABASE_OBJECT_CHANGE_GROUP</td><td>NULL</td><td>DATABASE_OBJECT_CHANGE_GROUP</td><td>1</td></tr>",
                            "<tr><td>[dm_audit_actions]</td><td>BA  </td><td>BACKUP</td><td>SYMMETRIC KEY</td><td>NULL</td><td>DATABASE</td><td>DATABASE_OBJECT_CHANGE_GROUP</td><td>NULL</td><td>DATABASE_OBJECT_CHANGE_GROUP</td><td>1</td></tr>",
                            "<tr><td>[dm_audit_actions]</td><td>OP  </td><td>OPEN</td><td>SYMMETRIC KEY</td><td>NULL</td><td>DATABASE</td><td>DATABASE_OBJECT_CHANGE_GROUP</td><td>NULL</td><td>DATABASE_OBJECT_CHANGE_GROUP</td><td>1</td></tr>",
                            "<tr><td>[dm_audit_actions]</td><td>CR  </td><td>CREATE</td><td>CERTIFICATE</td><td>NULL</td><td>DATABASE</td><td>DATABASE_OBJECT_CHANGE_GROUP</td><td>NULL</td><td>DATABASE_OBJECT_CHANGE_GROUP</td><td>1</td></tr>",
                            "<tr><td>[dm_audit_actions]</td><td>AL  </td><td>ALTER</td><td>CERTIFICATE</td><td>NULL</td><td>DATABASE</td><td>DATABASE_OBJECT_CHANGE_GROUP</td><td>NULL</td><td>DATABASE_OBJECT_CHANGE_GROUP</td><td>1</td></tr>",
                            "<tr><td>[dm_audit_actions]</td><td>DR  </td><td>DROP</td><td>CERTIFICATE</td><td>NULL</td><td>DATABASE</td><td>DATABASE_OBJECT_CHANGE_GROUP</td><td>NULL</td><td>DATABASE_OBJECT_CHANGE_GROUP</td><td>1</td></tr>",
                            "<tr><td>[dm_audit_actions]</td><td>BA  </td><td>BACKUP</td><td>CERTIFICATE</td><td>NULL</td><td>DATABASE</td><td>DATABASE_OBJECT_CHANGE_GROUP</td><td>NULL</td><td>DATABASE_OBJECT_CHANGE_GROUP</td><td>1</td></tr>",
                            "<tr><td>[dm_audit_actions]</td><td>AS  </td><td>ACCESS</td><td>CERTIFICATE</td><td>NULL</td><td>DATABASE</td><td>DATABASE_OBJECT_CHANGE_GROUP</td><td>NULL</td><td>DATABASE_OBJECT_CHANGE_GROUP</td><td>1</td></tr>",
                            "<tr><td>[dm_audit_actions]</td><td>CR  </td><td>CREATE</td><td>ASYMMETRIC KEY</td><td>NULL</td><td>DATABASE</td><td>DATABASE_OBJECT_CHANGE_GROUP</td><td>NULL</td><td>DATABASE_OBJECT_CHANGE_GROUP</td><td>1</td></tr>",
                            "<tr><td>[dm_audit_actions]</td><td>AL  </td><td>ALTER</td><td>ASYMMETRIC KEY</td><td>NULL</td><td>DATABASE</td><td>DATABASE_OBJECT_CHANGE_GROUP</td><td>NULL</td><td>DATABASE_OBJECT_CHANGE_GROUP</td><td>1</td></tr>",
                            "<tr><td>[dm_audit_actions]</td><td>DR  </td><td>DROP</td><td>ASYMMETRIC KEY</td><td>NULL</td><td>DATABASE</td><td>DATABASE_OBJECT_CHANGE_GROUP</td><td>NULL</td><td>DATABASE_OBJECT_CHANGE_GROUP</td><td>1</td></tr>",
                            "<tr><td>[dm_audit_actions]</td><td>AS  </td><td>ACCESS</td><td>ASYMMETRIC KEY</td><td>NULL</td><td>DATABASE</td><td>DATABASE_OBJECT_CHANGE_GROUP</td><td>NULL</td><td>DATABASE_OBJECT_CHANGE_GROUP</td><td>1</td></tr>",
                            "<tr><td>[dm_audit_actions]</td><td>CR  </td><td>CREATE</td><td>MASTER KEY</td><td>NULL</td><td>DATABASE</td><td>DATABASE_OBJECT_CHANGE_GROUP</td><td>NULL</td><td>DATABASE_OBJECT_CHANGE_GROUP</td><td>1</td></tr>",
                            "<tr><td>[dm_audit_actions]</td><td>OP  </td><td>OPEN</td><td>MASTER KEY</td><td>NULL</td><td>DATABASE</td><td>DATABASE_OBJECT_CHANGE_GROUP</td><td>NULL</td><td>DATABASE_OBJECT_CHANGE_GROUP</td><td>1</td></tr>",
                            "<tr><td>[dm_audit_actions]</td><td>AL  </td><td>ALTER</td><td>MASTER KEY</td><td>NULL</td><td>DATABASE</td><td>DATABASE_OBJECT_CHANGE_GROUP</td><td>NULL</td><td>DATABASE_OBJECT_CHANGE_GROUP</td><td>1</td></tr>",
                            "<tr><td>[dm_audit_actions]</td><td>BA  </td><td>BACKUP</td><td>MASTER KEY</td><td>NULL</td><td>DATABASE</td><td>DATABASE_OBJECT_CHANGE_GROUP</td><td>NULL</td><td>DATABASE_OBJECT_CHANGE_GROUP</td><td>1</td></tr>",
                            "<tr><td>[dm_audit_actions]</td><td>RS  </td><td>RESTORE</td><td>MASTER KEY</td><td>NULL</td><td>DATABASE</td><td>DATABASE_OBJECT_CHANGE_GROUP</td><td>NULL</td><td>DATABASE_OBJECT_CHANGE_GROUP</td><td>1</td></tr>",
                            "<tr><td>[dm_audit_actions]</td><td>AL  </td><td>ALTER</td><td>MASTER KEY</td><td>NULL</td><td>SERVER</td><td>SERVER_OBJECT_CHANGE_GROUP</td><td>NULL</td><td>SERVER_OBJECT_CHANGE_GROUP</td><td>1</td></tr>",
                            "<tr><td>[dm_audit_actions]</td><td>BA  </td><td>BACKUP</td><td>MASTER KEY</td><td>NULL</td><td>SERVER</td><td>SERVER_OBJECT_CHANGE_GROUP</td><td>NULL</td><td>SERVER_OBJECT_CHANGE_GROUP</td><td>1</td></tr>",
                            "<tr><td>[dm_audit_actions]</td><td>RS  </td><td>RESTORE</td><td>MASTER KEY</td><td>NULL</td><td>SERVER</td><td>SERVER_OBJECT_CHANGE_GROUP</td><td>NULL</td><td>SERVER_OBJECT_CHANGE_GROUP</td><td>1</td></tr>",
                            "<tr><td>[dm_audit_actions]</td><td>DR  </td><td>DROP</td><td>MASTER KEY</td><td>NULL</td><td>DATABASE</td><td>DATABASE_OBJECT_CHANGE_GROUP</td><td>NULL</td><td>DATABASE_OBJECT_CHANGE_GROUP</td><td>1</td></tr>",
                            "<tr><td>[dm_audit_actions]</td><td>CR  </td><td>CREATE</td><td>DATABASE ENCRYPTION KEY</td><td>NULL</td><td>DATABASE</td><td>DATABASE_OBJECT_CHANGE_GROUP</td><td>NULL</td><td>DATABASE_OBJECT_CHANGE_GROUP</td><td>1</td></tr>",
                            "<tr><td>[dm_audit_actions]</td><td>AL  </td><td>ALTER</td><td>DATABASE ENCRYPTION KEY</td><td>NULL</td><td>DATABASE</td><td>DATABASE_OBJECT_CHANGE_GROUP</td><td>NULL</td><td>DATABASE_OBJECT_CHANGE_GROUP</td><td>1</td></tr>",
                            "<tr><td>[dm_audit_actions]</td><td>DR  </td><td>DROP</td><td>DATABASE ENCRYPTION KEY</td><td>NULL</td><td>DATABASE</td><td>DATABASE_OBJECT_CHANGE_GROUP</td><td>NULL</td><td>DATABASE_OBJECT_CHANGE_GROUP</td><td>1</td></tr>",
                            "<tr><td>[dm_audit_actions]</td><td>CR  </td><td>CREATE</td><td>CRYPTOGRAPHIC PROVIDER</td><td>NULL</td><td>SERVER</td><td>SERVER_OBJECT_CHANGE_GROUP</td><td>NULL</td><td>SERVER_OBJECT_CHANGE_GROUP</td><td>1</td></tr>",
                            "<tr><td>[dm_audit_actions]</td><td>AL  </td><td>ALTER</td><td>CRYPTOGRAPHIC PROVIDER</td><td>NULL</td><td>SERVER</td><td>SERVER_OBJECT_CHANGE_GROUP</td><td>NULL</td><td>SERVER_OBJECT_CHANGE_GROUP</td><td>1</td></tr>",
                            "<tr><td>[dm_audit_actions]</td><td>DR  </td><td>DROP</td><td>CRYPTOGRAPHIC PROVIDER</td><td>NULL</td><td>SERVER</td><td>SERVER_OBJECT_CHANGE_GROUP</td><td>NULL</td><td>SERVER_OBJECT_CHANGE_GROUP</td><td>1</td></tr>",
                            "<tr><td>[dm_audit_actions]</td><td>CR  </td><td>CREATE</td><td>CREDENTIAL</td><td>NULL</td><td>SERVER</td><td>SERVER_OBJECT_CHANGE_GROUP</td><td>NULL</td><td>SERVER_OBJECT_CHANGE_GROUP</td><td>1</td></tr>",
                            "<tr><td>[dm_audit_actions]</td><td>AL  </td><td>ALTER</td><td>CREDENTIAL</td><td>NULL</td><td>SERVER</td><td>SERVER_OBJECT_CHANGE_GROUP</td><td>NULL</td><td>SERVER_OBJECT_CHANGE_GROUP</td><td>1</td></tr>",
                            "<tr><td>[dm_audit_actions]</td><td>DR  </td><td>DROP</td><td>CREDENTIAL</td><td>NULL</td><td>SERVER</td><td>SERVER_OBJECT_CHANGE_GROUP</td><td>NULL</td><td>SERVER_OBJECT_CHANGE_GROUP</td><td>1</td></tr>",
                            "<tr><td>[dm_audit_actions]</td><td>CR  </td><td>CREATE</td><td>EVENT SESSION</td><td>NULL</td><td>SERVER</td><td>SERVER_OBJECT_CHANGE_GROUP</td><td>NULL</td><td>SERVER_OBJECT_CHANGE_GROUP</td><td>1</td></tr>",
                            "<tr><td>[dm_audit_actions]</td><td>AL  </td><td>ALTER</td><td>EVENT SESSION</td><td>NULL</td><td>SERVER</td><td>SERVER_OBJECT_CHANGE_GROUP</td><td>NULL</td><td>SERVER_OBJECT_CHANGE_GROUP</td><td>1</td></tr>",
                            "<tr><td>[dm_audit_actions]</td><td>DR  </td><td>DROP</td><td>EVENT SESSION</td><td>NULL</td><td>SERVER</td><td>SERVER_OBJECT_CHANGE_GROUP</td><td>NULL</td><td>SERVER_OBJECT_CHANGE_GROUP</td><td>1</td></tr>",
                            "<tr><td>[dm_audit_actions]</td><td>CR  </td><td>CREATE</td><td>ENDPOINT</td><td>NULL</td><td>SERVER</td><td>SERVER_OBJECT_CHANGE_GROUP</td><td>NULL</td><td>SERVER_OBJECT_CHANGE_GROUP</td><td>1</td></tr>",
                            "<tr><td>[dm_audit_actions]</td><td>AL  </td><td>ALTER</td><td>ENDPOINT</td><td>NULL</td><td>SERVER</td><td>SERVER_OBJECT_CHANGE_GROUP</td><td>NULL</td><td>SERVER_OBJECT_CHANGE_GROUP</td><td>1</td></tr>",
                            "<tr><td>[dm_audit_actions]</td><td>DR  </td><td>DROP</td><td>ENDPOINT</td><td>NULL</td><td>SERVER</td><td>SERVER_OBJECT_CHANGE_GROUP</td><td>NULL</td><td>SERVER_OBJECT_CHANGE_GROUP</td><td>1</td></tr>",
                            "<tr><td>[dm_audit_actions]</td><td>CR  </td><td>CREATE</td><td>AVAILABILITY GROUP</td><td>NULL</td><td>SERVER</td><td>SERVER_OBJECT_CHANGE_GROUP</td><td>NULL</td><td>SERVER_OBJECT_CHANGE_GROUP</td><td>1</td></tr>",
                            "<tr><td>[dm_audit_actions]</td><td>AL  </td><td>ALTER</td><td>AVAILABILITY GROUP</td><td>NULL</td><td>SERVER</td><td>SERVER_OBJECT_CHANGE_GROUP</td><td>NULL</td><td>SERVER_OBJECT_CHANGE_GROUP</td><td>1</td></tr>",
                            "<tr><td>[dm_audit_actions]</td><td>DR  </td><td>DROP</td><td>AVAILABILITY GROUP</td><td>NULL</td><td>SERVER</td><td>SERVER_OBJECT_CHANGE_GROUP</td><td>NULL</td><td>SERVER_OBJECT_CHANGE_GROUP</td><td>1</td></tr>",
                            "<tr><td>[dm_audit_actions]</td><td>CR  </td><td>CREATE</td><td>LOGIN</td><td>NULL</td><td>SERVER</td><td>SERVER_PRINCIPAL_CHANGE_GROUP</td><td>NULL</td><td>SERVER_PRINCIPAL_CHANGE_GROUP</td><td>1</td></tr>",
                            "<tr><td>[dm_audit_actions]</td><td>CMLG</td><td>CREDENTIAL MAP TO LOGIN</td><td>CREDENTIAL</td><td>NULL</td><td>SERVER</td><td>SERVER_OBJECT_CHANGE_GROUP</td><td>NULL</td><td>SERVER_OBJECT_CHANGE_GROUP</td><td>1</td></tr>",
                            "<tr><td>[dm_audit_actions]</td><td>NMLG</td><td>NO CREDENTIAL MAP TO LOGIN</td><td>CREDENTIAL</td><td>NULL</td><td>SERVER</td><td>SERVER_OBJECT_CHANGE_GROUP</td><td>NULL</td><td>SERVER_OBJECT_CHANGE_GROUP</td><td>1</td></tr>",
                            "<tr><td>[dm_audit_actions]</td><td>CCLG</td><td>CHANGE LOGIN CREDENTIAL</td><td>LOGIN</td><td>NULL</td><td>SERVER</td><td>SERVER_PRINCIPAL_CHANGE_GROUP</td><td>NULL</td><td>SERVER_PRINCIPAL_CHANGE_GROUP</td><td>1</td></tr>",
                            "<tr><td>[dm_audit_actions]</td><td>LGEA</td><td>ENABLE</td><td>LOGIN</td><td>NULL</td><td>SERVER</td><td>SERVER_PRINCIPAL_CHANGE_GROUP</td><td>NULL</td><td>SERVER_PRINCIPAL_CHANGE_GROUP</td><td>1</td></tr>",
                            "<tr><td>[dm_audit_actions]</td><td>LGDA</td><td>DISABLE</td><td>LOGIN</td><td>NULL</td><td>SERVER</td><td>SERVER_PRINCIPAL_CHANGE_GROUP</td><td>NULL</td><td>SERVER_PRINCIPAL_CHANGE_GROUP</td><td>1</td></tr>",
                            "<tr><td>[dm_audit_actions]</td><td>PWR </td><td>RESET PASSWORD</td><td>LOGIN</td><td>NULL</td><td>SERVER</td><td>LOGIN_CHANGE_PASSWORD_GROUP</td><td>NULL</td><td>LOGIN_CHANGE_PASSWORD_GROUP</td><td>1</td></tr>",
                            "<tr><td>[dm_audit_actions]</td><td>PWRS</td><td>RESET OWN PASSWORD</td><td>LOGIN</td><td>NULL</td><td>SERVER</td><td>LOGIN_CHANGE_PASSWORD_GROUP</td><td>NULL</td><td>LOGIN_CHANGE_PASSWORD_GROUP</td><td>1</td></tr>",
                            "<tr><td>[dm_audit_actions]</td><td>PWCS</td><td>CHANGE OWN PASSWORD</td><td>LOGIN</td><td>NULL</td><td>SERVER</td><td>LOGIN_CHANGE_PASSWORD_GROUP</td><td>NULL</td><td>LOGIN_CHANGE_PASSWORD_GROUP</td><td>1</td></tr>",
                            "<tr><td>[dm_audit_actions]</td><td>PWC </td><td>CHANGE PASSWORD</td><td>LOGIN</td><td>NULL</td><td>SERVER</td><td>LOGIN_CHANGE_PASSWORD_GROUP</td><td>NULL</td><td>LOGIN_CHANGE_PASSWORD_GROUP</td><td>1</td></tr>",
                            "<tr><td>[dm_audit_actions]</td><td>PWU </td><td>UNLOCK ACCOUNT</td><td>LOGIN</td><td>NULL</td><td>SERVER</td><td>LOGIN_CHANGE_PASSWORD_GROUP</td><td>NULL</td><td>LOGIN_CHANGE_PASSWORD_GROUP</td><td>1</td></tr>",
                            "<tr><td>[dm_audit_actions]</td><td>PWMC</td><td>MUST CHANGE PASSWORD</td><td>LOGIN</td><td>NULL</td><td>SERVER</td><td>LOGIN_CHANGE_PASSWORD_GROUP</td><td>NULL</td><td>LOGIN_CHANGE_PASSWORD_GROUP</td><td>1</td></tr>",
                            "<tr><td>[dm_audit_actions]</td><td>LGDB</td><td>CHANGE DEFAULT DATABASE</td><td>LOGIN</td><td>NULL</td><td>SERVER</td><td>SERVER_PRINCIPAL_CHANGE_GROUP</td><td>NULL</td><td>SERVER_PRINCIPAL_CHANGE_GROUP</td><td>1</td></tr>",
                            "<tr><td>[dm_audit_actions]</td><td>LGLG</td><td>CHANGE DEFAULT LANGUAGE</td><td>LOGIN</td><td>NULL</td><td>SERVER</td><td>SERVER_PRINCIPAL_CHANGE_GROUP</td><td>NULL</td><td>SERVER_PRINCIPAL_CHANGE_GROUP</td><td>1</td></tr>",
                            "<tr><td>[dm_audit_actions]</td><td>LGNM</td><td>NAME CHANGE</td><td>LOGIN</td><td>NULL</td><td>SERVER</td><td>SERVER_PRINCIPAL_CHANGE_GROUP</td><td>NULL</td><td>SERVER_PRINCIPAL_CHANGE_GROUP</td><td>1</td></tr>",
                            "<tr><td>[dm_audit_actions]</td><td>PWPL</td><td>PASSWORD POLICY</td><td>LOGIN</td><td>NULL</td><td>SERVER</td><td>SERVER_PRINCIPAL_CHANGE_GROUP</td><td>NULL</td><td>SERVER_PRINCIPAL_CHANGE_GROUP</td><td>1</td></tr>",
                            "<tr><td>[dm_audit_actions]</td><td>PWEX</td><td>PASSWORD EXPIRATION</td><td>LOGIN</td><td>NULL</td><td>SERVER</td><td>SERVER_PRINCIPAL_CHANGE_GROUP</td><td>NULL</td><td>SERVER_PRINCIPAL_CHANGE_GROUP</td><td>1</td></tr>",
                            "<tr><td>[dm_audit_actions]</td><td>DR  </td><td>DROP</td><td>LOGIN</td><td>NULL</td><td>SERVER</td><td>SERVER_PRINCIPAL_CHANGE_GROUP</td><td>NULL</td><td>SERVER_PRINCIPAL_CHANGE_GROUP</td><td>1</td></tr>",
                            "<tr><td>[dm_audit_actions]</td><td>USTC</td><td>COPY PASSWORD</td><td>USER</td><td>NULL</td><td>DATABASE</td><td>USER_CHANGE_PASSWORD_GROUP</td><td>NULL</td><td>USER_CHANGE_PASSWORD_GROUP</td><td>1</td></tr>",
                            "<tr><td>[dm_audit_actions]</td><td>CR  </td><td>CREATE</td><td>SERVER ROLE</td><td>NULL</td><td>SERVER</td><td>SERVER_PRINCIPAL_CHANGE_GROUP</td><td>NULL</td><td>SERVER_PRINCIPAL_CHANGE_GROUP</td><td>1</td></tr>",
                            "<tr><td>[dm_audit_actions]</td><td>AL  </td><td>ALTER</td><td>SERVER ROLE</td><td>NULL</td><td>SERVER</td><td>SERVER_PRINCIPAL_CHANGE_GROUP</td><td>NULL</td><td>SERVER_PRINCIPAL_CHANGE_GROUP</td><td>1</td></tr>",
                            "<tr><td>[dm_audit_actions]</td><td>DR  </td><td>DROP</td><td>SERVER ROLE</td><td>NULL</td><td>SERVER</td><td>SERVER_PRINCIPAL_CHANGE_GROUP</td><td>NULL</td><td>SERVER_PRINCIPAL_CHANGE_GROUP</td><td>1</td></tr>",
                            "<tr><td>[dm_audit_actions]</td><td>AL  </td><td>ALTER</td><td>EVENT NOTIFICATION SERVER</td><td>NULL</td><td>SERVER</td><td>SERVER_OBJECT_CHANGE_GROUP</td><td>NULL</td><td>SERVER_OBJECT_CHANGE_GROUP</td><td>1</td></tr>",
                            "<tr><td>[dm_audit_actions]</td><td>DR  </td><td>DROP</td><td>EVENT NOTIFICATION SERVER</td><td>NULL</td><td>SERVER</td><td>SERVER_OBJECT_CHANGE_GROUP</td><td>NULL</td><td>SERVER_OBJECT_CHANGE_GROUP</td><td>1</td></tr>",
                            "<tr><td>[dm_audit_actions]</td><td>CR  </td><td>CREATE</td><td>TRIGGER SERVER</td><td>NULL</td><td>SERVER</td><td>SERVER_OBJECT_CHANGE_GROUP</td><td>NULL</td><td>SERVER_OBJECT_CHANGE_GROUP</td><td>1</td></tr>",
                            "<tr><td>[dm_audit_actions]</td><td>AL  </td><td>ALTER</td><td>TRIGGER SERVER</td><td>NULL</td><td>SERVER</td><td>SERVER_OBJECT_CHANGE_GROUP</td><td>NULL</td><td>SERVER_OBJECT_CHANGE_GROUP</td><td>1</td></tr>",
                            "<tr><td>[dm_audit_actions]</td><td>DR  </td><td>DROP</td><td>TRIGGER SERVER</td><td>NULL</td><td>SERVER</td><td>SERVER_OBJECT_CHANGE_GROUP</td><td>NULL</td><td>SERVER_OBJECT_CHANGE_GROUP</td><td>1</td></tr>",
                            "<tr><td>[dm_audit_actions]</td><td>CR  </td><td>CREATE</td><td>SERVER AUDIT</td><td>NULL</td><td>SERVER</td><td>AUDIT_CHANGE_GROUP</td><td>NULL</td><td>AUDIT_CHANGE_GROUP</td><td>1</td></tr>",
                            "<tr><td>[dm_audit_actions]</td><td>AL  </td><td>ALTER</td><td>SERVER AUDIT</td><td>NULL</td><td>SERVER</td><td>AUDIT_CHANGE_GROUP</td><td>NULL</td><td>AUDIT_CHANGE_GROUP</td><td>1</td></tr>",
                            "<tr><td>[dm_audit_actions]</td><td>DR  </td><td>DROP</td><td>SERVER AUDIT</td><td>NULL</td><td>SERVER</td><td>AUDIT_CHANGE_GROUP</td><td>NULL</td><td>AUDIT_CHANGE_GROUP</td><td>1</td></tr>",
                            "<tr><td>[dm_audit_actions]</td><td>AUSF</td><td>AUDIT SHUTDOWN ON FAILURE</td><td>SERVER AUDIT</td><td>NULL</td><td>SERVER</td><td>AUDIT_CHANGE_GROUP</td><td>NULL</td><td>AUDIT_CHANGE_GROUP</td><td>1</td></tr>",
                            "<tr><td>[dm_audit_actions]</td><td>CR  </td><td>CREATE</td><td>SERVER AUDIT SPECIFICATION</td><td>NULL</td><td>SERVER</td><td>AUDIT_CHANGE_GROUP</td><td>NULL</td><td>AUDIT_CHANGE_GROUP</td><td>1</td></tr>",
                            "<tr><td>[dm_audit_actions]</td><td>AL  </td><td>ALTER</td><td>SERVER AUDIT SPECIFICATION</td><td>NULL</td><td>SERVER</td><td>AUDIT_CHANGE_GROUP</td><td>NULL</td><td>AUDIT_CHANGE_GROUP</td><td>1</td></tr>",
                            "<tr><td>[dm_audit_actions]</td><td>DR  </td><td>DROP</td><td>SERVER AUDIT SPECIFICATION</td><td>NULL</td><td>SERVER</td><td>AUDIT_CHANGE_GROUP</td><td>NULL</td><td>AUDIT_CHANGE_GROUP</td><td>1</td></tr>",
                            "<tr><td>[dm_audit_actions]</td><td>CR  </td><td>CREATE</td><td>DATABASE AUDIT SPECIFICATION</td><td>NULL</td><td>DATABASE</td><td>AUDIT_CHANGE_GROUP</td><td>NULL</td><td>AUDIT_CHANGE_GROUP</td><td>1</td></tr>",
                            "<tr><td>[dm_audit_actions]</td><td>AL  </td><td>ALTER</td><td>DATABASE AUDIT SPECIFICATION</td><td>NULL</td><td>DATABASE</td><td>AUDIT_CHANGE_GROUP</td><td>NULL</td><td>AUDIT_CHANGE_GROUP</td><td>1</td></tr>",
                            "<tr><td>[dm_audit_actions]</td><td>DR  </td><td>DROP</td><td>DATABASE AUDIT SPECIFICATION</td><td>NULL</td><td>DATABASE</td><td>AUDIT_CHANGE_GROUP</td><td>NULL</td><td>AUDIT_CHANGE_GROUP</td><td>1</td></tr>",
                            "<tr><td>[dm_audit_actions]</td><td>CR  </td><td>CREATE</td><td>AUDIT</td><td>NULL</td><td>DATABASE</td><td>AUDIT_CHANGE_GROUP</td><td>NULL</td><td>AUDIT_CHANGE_GROUP</td><td>1</td></tr>",
                            "<tr><td>[dm_audit_actions]</td><td>DR  </td><td>DROP</td><td>AUDIT</td><td>NULL</td><td>DATABASE</td><td>AUDIT_CHANGE_GROUP</td><td>NULL</td><td>AUDIT_CHANGE_GROUP</td><td>1</td></tr>",
                            "<tr><td>[dm_audit_actions]</td><td>AL  </td><td>ALTER</td><td>AUDIT</td><td>NULL</td><td>DATABASE</td><td>AUDIT_CHANGE_GROUP</td><td>NULL</td><td>AUDIT_CHANGE_GROUP</td><td>1</td></tr>",
                            "<tr><td>[dm_audit_actions]</td><td>CR  </td><td>CREATE</td><td>EVENT NOTIFICATION SERVER</td><td>NULL</td><td>SERVER</td><td>SERVER_OBJECT_CHANGE_GROUP</td><td>NULL</td><td>SERVER_OBJECT_CHANGE_GROUP</td><td>1</td></tr>",
                            "<tr><td>[dm_audit_actions]</td><td>ADBO</td><td>BULK ADMIN</td><td>SERVER</td><td>SERVER_OPERATION_GROUP</td><td>NULL</td><td>NULL</td><td>NULL</td><td>SERVER_OPERATION_GROUP</td><td>1</td></tr>",
                            "<tr><td>[dm_audit_actions]</td><td>DABO</td><td>DATABASE BULK ADMIN</td><td>DATABASE</td><td>DATABASE_OPERATION_GROUP</td><td>SERVER</td><td>DATABASE_OPERATION_GROUP</td><td>NULL</td><td>DATABASE_OPERATION_GROUP</td><td>1</td></tr>",
                            "<tr><td>[dm_audit_actions]</td><td>ALRS</td><td>ALTER RESOURCES</td><td>SERVER</td><td>SERVER_OPERATION_GROUP</td><td>NULL</td><td>NULL</td><td>NULL</td><td>SERVER_OPERATION_GROUP</td><td>1</td></tr>",
                            "<tr><td>[dm_audit_actions]</td><td>ALST</td><td>ALTER SETTINGS</td><td>SERVER</td><td>SERVER_OPERATION_GROUP</td><td>NULL</td><td>NULL</td><td>NULL</td><td>SERVER_OPERATION_GROUP</td><td>1</td></tr>",
                            "<tr><td>[dm_audit_actions]</td><td>XA  </td><td>EXTERNAL ACCESS ASSEMBLY</td><td>SERVER</td><td>SERVER_OPERATION_GROUP</td><td>NULL</td><td>NULL</td><td>NULL</td><td>SERVER_OPERATION_GROUP</td><td>1</td></tr>",
                            "<tr><td>[dm_audit_actions]</td><td>XU  </td><td>UNSAFE ASSEMBLY</td><td>SERVER</td><td>SERVER_OPERATION_GROUP</td><td>NULL</td><td>NULL</td><td>NULL</td><td>SERVER_OPERATION_GROUP</td><td>1</td></tr>",
                            "<tr><td>[dm_audit_actions]</td><td>ALTR</td><td>ALTER TRACE</td><td>SERVER</td><td>TRACE_CHANGE_GROUP</td><td>NULL</td><td>NULL</td><td>NULL</td><td>TRACE_CHANGE_GROUP</td><td>1</td></tr>",
                            "<tr><td>[dm_audit_actions]</td><td>ALCN</td><td>ALTER CONNECTION</td><td>SERVER</td><td>SERVER_OPERATION_GROUP</td><td>NULL</td><td>NULL</td><td>NULL</td><td>SERVER_OPERATION_GROUP</td><td>1</td></tr>",
                            "<tr><td>[dm_audit_actions]</td><td>ALSS</td><td>ALTER SERVER STATE</td><td>SERVER</td><td>SERVER_OPERATION_GROUP</td><td>NULL</td><td>NULL</td><td>NULL</td><td>SERVER_OPERATION_GROUP</td><td>1</td></tr>",
                            "<tr><td>[dm_audit_actions]</td><td>ALRS</td><td>ALTER RESOURCES</td><td>RESOURCE GOVERNOR</td><td>NULL</td><td>SERVER</td><td>SERVER_OPERATION_GROUP</td><td>NULL</td><td>SERVER_OPERATION_GROUP</td><td>1</td></tr>",
                            "<tr><td>[dm_audit_actions]</td><td>CR  </td><td>CREATE</td><td>COLUMN ENCRYPTION KEY</td><td>NULL</td><td>DATABASE</td><td>DATABASE_OBJECT_CHANGE_GROUP</td><td>NULL</td><td>DATABASE_OBJECT_CHANGE_GROUP</td><td>1</td></tr>",
                            "<tr><td>[dm_audit_actions]</td><td>AL  </td><td>ALTER</td><td>COLUMN ENCRYPTION KEY</td><td>NULL</td><td>DATABASE</td><td>DATABASE_OBJECT_CHANGE_GROUP</td><td>NULL</td><td>DATABASE_OBJECT_CHANGE_GROUP</td><td>1</td></tr>",
                            "<tr><td>[dm_audit_actions]</td><td>DR  </td><td>DROP</td><td>COLUMN ENCRYPTION KEY</td><td>NULL</td><td>DATABASE</td><td>DATABASE_OBJECT_CHANGE_GROUP</td><td>NULL</td><td>DATABASE_OBJECT_CHANGE_GROUP</td><td>1</td></tr>",
                            "<tr><td>[dm_audit_actions]</td><td>VW  </td><td>VIEW</td><td>COLUMN ENCRYPTION KEY</td><td>NULL</td><td>DATABASE</td><td>DATABASE_OBJECT_CHANGE_GROUP</td><td>NULL</td><td>DATABASE_OBJECT_CHANGE_GROUP</td><td>1</td></tr>",
                            "<tr><td>[dm_audit_actions]</td><td>CR  </td><td>CREATE</td><td>COLUMN MASTER KEY</td><td>NULL</td><td>DATABASE</td><td>DATABASE_OBJECT_CHANGE_GROUP</td><td>NULL</td><td>DATABASE_OBJECT_CHANGE_GROUP</td><td>1</td></tr>",
                            "<tr><td>[dm_audit_actions]</td><td>DR  </td><td>DROP</td><td>COLUMN MASTER KEY</td><td>NULL</td><td>DATABASE</td><td>DATABASE_OBJECT_CHANGE_GROUP</td><td>NULL</td><td>DATABASE_OBJECT_CHANGE_GROUP</td><td>1</td></tr>",
                            "<tr><td>[dm_audit_actions]</td><td>VW  </td><td>VIEW</td><td>COLUMN MASTER KEY</td><td>NULL</td><td>DATABASE</td><td>DATABASE_OBJECT_CHANGE_GROUP</td><td>NULL</td><td>DATABASE_OBJECT_CHANGE_GROUP</td><td>1</td></tr>",
                            "<tr><td>[dm_audit_actions]</td><td>AL  </td><td>ALTER</td><td>DATABASE SCOPED CONFIGURATION</td><td>NULL</td><td>DATABASE</td><td>DATABASE_OBJECT_CHANGE_GROUP</td><td>NULL</td><td>DATABASE_OBJECT_CHANGE_GROUP</td><td>1</td></tr>",
                            "<tr><td>[dm_audit_actions]</td><td>CR  </td><td>CREATE</td><td>DATABASE SCOPED RESOURCE GOVERNOR</td><td>NULL</td><td>DATABASE</td><td>DATABASE_OBJECT_CHANGE_GROUP</td><td>NULL</td><td>DATABASE_OBJECT_CHANGE_GROUP</td><td>1</td></tr>",
                            "<tr><td>[dm_audit_actions]</td><td>AL  </td><td>ALTER</td><td>DATABASE SCOPED RESOURCE GOVERNOR</td><td>NULL</td><td>DATABASE</td><td>DATABASE_OBJECT_CHANGE_GROUP</td><td>NULL</td><td>DATABASE_OBJECT_CHANGE_GROUP</td><td>1</td></tr>",
                            "<tr><td>[dm_audit_actions]</td><td>DR  </td><td>DROP</td><td>DATABASE SCOPED RESOURCE GOVERNOR</td><td>NULL</td><td>DATABASE</td><td>DATABASE_OBJECT_CHANGE_GROUP</td><td>NULL</td><td>DATABASE_OBJECT_CHANGE_GROUP</td><td>1</td></tr>",
                            "<tr><td>[dm_audit_actions]</td><td>CR  </td><td>CREATE</td><td>EXTERNAL RESOURCE POOL</td><td>NULL</td><td>SERVER</td><td>SERVER_OPERATION_GROUP</td><td>NULL</td><td>SERVER_OPERATION_GROUP</td><td>1</td></tr>",
                            "<tr><td>[dm_audit_actions]</td><td>AL  </td><td>ALTER</td><td>EXTERNAL RESOURCE POOL</td><td>NULL</td><td>SERVER</td><td>SERVER_OPERATION_GROUP</td><td>NULL</td><td>SERVER_OPERATION_GROUP</td><td>1</td></tr>",
                            "<tr><td>[dm_audit_actions]</td><td>DR  </td><td>DROP</td><td>EXTERNAL RESOURCE POOL</td><td>NULL</td><td>SERVER</td><td>SERVER_OPERATION_GROUP</td><td>NULL</td><td>SERVER_OPERATION_GROUP</td><td>1</td></tr>",
                            "<tr><td>[dm_audit_actions]</td><td>SVSR</td><td>SERVER STARTED</td><td>SERVER</td><td>SERVER_STATE_CHANGE_GROUP</td><td>NULL</td><td>NULL</td><td>NULL</td><td>SERVER_STATE_CHANGE_GROUP</td><td>1</td></tr>",
                            "<tr><td>[dm_audit_actions]</td><td>SVSD</td><td>SERVER SHUTDOWN</td><td>SERVER</td><td>SERVER_STATE_CHANGE_GROUP</td><td>NULL</td><td>NULL</td><td>NULL</td><td>SERVER_STATE_CHANGE_GROUP</td><td>1</td></tr>",
                            "<tr><td>[dm_audit_actions]</td><td>SVPD</td><td>SERVER PAUSED</td><td>SERVER</td><td>SERVER_STATE_CHANGE_GROUP</td><td>NULL</td><td>NULL</td><td>NULL</td><td>SERVER_STATE_CHANGE_GROUP</td><td>1</td></tr>",
                            "<tr><td>[dm_audit_actions]</td><td>SVCN</td><td>SERVER CONTINUE</td><td>SERVER</td><td>SERVER_STATE_CHANGE_GROUP</td><td>NULL</td><td>NULL</td><td>NULL</td><td>SERVER_STATE_CHANGE_GROUP</td><td>1</td></tr>",
                            "<tr><td>[dm_audit_actions]</td><td>APRL</td><td>ADD MEMBER</td><td>SERVER ROLE</td><td>NULL</td><td>SERVER</td><td>SERVER_ROLE_MEMBER_CHANGE_GROUP</td><td>NULL</td><td>SERVER_ROLE_MEMBER_CHANGE_GROUP</td><td>1</td></tr>",
                            "<tr><td>[dm_audit_actions]</td><td>DPRL</td><td>DROP MEMBER</td><td>SERVER ROLE</td><td>NULL</td><td>SERVER</td><td>SERVER_ROLE_MEMBER_CHANGE_GROUP</td><td>NULL</td><td>SERVER_ROLE_MEMBER_CHANGE_GROUP</td><td>1</td></tr>",
                            "<tr><td>[dm_audit_actions]</td><td>AS  </td><td>ACCESS</td><td>OBJECT</td><td>NULL</td><td>DATABASE</td><td>SCHEMA_OBJECT_ACCESS_GROUP</td><td>NULL</td><td>SCHEMA_OBJECT_ACCESS_GROUP</td><td>1</td></tr>",
                            "<tr><td>[dm_audit_actions]</td><td>CR  </td><td>CREATE</td><td>SERVER</td><td>SERVER_OBJECT_CHANGE_GROUP</td><td>NULL</td><td>NULL</td><td>NULL</td><td>SERVER_OBJECT_CHANGE_GROUP</td><td>1</td></tr>",
                            "<tr><td>[dm_audit_actions]</td><td>AL  </td><td>ALTER</td><td>SERVER</td><td>SERVER_OBJECT_CHANGE_GROUP</td><td>NULL</td><td>NULL</td><td>NULL</td><td>SERVER_OBJECT_CHANGE_GROUP</td><td>1</td></tr>",
                            "<tr><td>[dm_audit_actions]</td><td>DR  </td><td>DROP</td><td>SERVER</td><td>SERVER_OBJECT_CHANGE_GROUP</td><td>NULL</td><td>NULL</td><td>NULL</td><td>SERVER_OBJECT_CHANGE_GROUP</td><td>1</td></tr>",
                            "<tr><td>[dm_audit_actions]</td><td>CR  </td><td>CREATE</td><td>EXTERNAL DATA SOURCE</td><td>NULL</td><td>DATABASE</td><td>DATABASE_OBJECT_CHANGE_GROUP</td><td>NULL</td><td>DATABASE_OBJECT_CHANGE_GROUP</td><td>1</td></tr>",
                            "<tr><td>[dm_audit_actions]</td><td>AL  </td><td>ALTER</td><td>EXTERNAL DATA SOURCE</td><td>NULL</td><td>DATABASE</td><td>DATABASE_OBJECT_CHANGE_GROUP</td><td>NULL</td><td>DATABASE_OBJECT_CHANGE_GROUP</td><td>1</td></tr>",
                            "<tr><td>[dm_audit_actions]</td><td>DR  </td><td>DROP</td><td>EXTERNAL DATA SOURCE</td><td>NULL</td><td>DATABASE</td><td>DATABASE_OBJECT_CHANGE_GROUP</td><td>NULL</td><td>DATABASE_OBJECT_CHANGE_GROUP</td><td>1</td></tr>",
                            "<tr><td>[dm_audit_actions]</td><td>CR  </td><td>CREATE</td><td>EXTERNAL TABLE</td><td>NULL</td><td>DATABASE</td><td>SCHEMA_OBJECT_CHANGE_GROUP</td><td>NULL</td><td>SCHEMA_OBJECT_CHANGE_GROUP</td><td>1</td></tr>",
                            "<tr><td>[dm_audit_actions]</td><td>DR  </td><td>DROP</td><td>EXTERNAL TABLE</td><td>NULL</td><td>DATABASE</td><td>SCHEMA_OBJECT_CHANGE_GROUP</td><td>NULL</td><td>SCHEMA_OBJECT_CHANGE_GROUP</td><td>1</td></tr>",
                            "<tr><td>[dm_audit_actions]</td><td>CR  </td><td>CREATE</td><td>EXTERNAL FILE FORMAT</td><td>NULL</td><td>DATABASE</td><td>DATABASE_OBJECT_CHANGE_GROUP</td><td>NULL</td><td>DATABASE_OBJECT_CHANGE_GROUP</td><td>1</td></tr>",
                            "<tr><td>[dm_audit_actions]</td><td>DR  </td><td>DROP</td><td>EXTERNAL FILE FORMAT</td><td>NULL</td><td>DATABASE</td><td>DATABASE_OBJECT_CHANGE_GROUP</td><td>NULL</td><td>DATABASE_OBJECT_CHANGE_GROUP</td><td>1</td></tr>",
                            "<tr><td>[dm_audit_actions]</td><td>CR  </td><td>CREATE</td><td>EXTERNAL LANGUAGE</td><td>NULL</td><td>DATABASE</td><td>DATABASE_OBJECT_CHANGE_GROUP</td><td>NULL</td><td>DATABASE_OBJECT_CHANGE_GROUP</td><td>1</td></tr>",
                            "<tr><td>[dm_audit_actions]</td><td>AL  </td><td>ALTER</td><td>EXTERNAL LANGUAGE</td><td>NULL</td><td>DATABASE</td><td>DATABASE_OBJECT_CHANGE_GROUP</td><td>NULL</td><td>DATABASE_OBJECT_CHANGE_GROUP</td><td>1</td></tr>",
                            "<tr><td>[dm_audit_actions]</td><td>DR  </td><td>DROP</td><td>EXTERNAL LANGUAGE</td><td>NULL</td><td>DATABASE</td><td>DATABASE_OBJECT_CHANGE_GROUP</td><td>NULL</td><td>DATABASE_OBJECT_CHANGE_GROUP</td><td>1</td></tr>",
                            "<tr><td>[dm_audit_actions]</td><td>CR  </td><td>CREATE</td><td>EXTERNAL LIBRARY</td><td>NULL</td><td>DATABASE</td><td>DATABASE_OBJECT_CHANGE_GROUP</td><td>NULL</td><td>DATABASE_OBJECT_CHANGE_GROUP</td><td>1</td></tr>",
                            "<tr><td>[dm_audit_actions]</td><td>AL  </td><td>ALTER</td><td>EXTERNAL LIBRARY</td><td>NULL</td><td>DATABASE</td><td>DATABASE_OBJECT_CHANGE_GROUP</td><td>NULL</td><td>DATABASE_OBJECT_CHANGE_GROUP</td><td>1</td></tr>",
                            "<tr><td>[dm_audit_actions]</td><td>DR  </td><td>DROP</td><td>EXTERNAL LIBRARY</td><td>NULL</td><td>DATABASE</td><td>DATABASE_OBJECT_CHANGE_GROUP</td><td>NULL</td><td>DATABASE_OBJECT_CHANGE_GROUP</td><td>1</td></tr>",
                            "<tr><td>[dm_audit_actions]</td><td>CR  </td><td>CREATE</td><td>SQL LOGIN</td><td>NULL</td><td>SERVER</td><td>SERVER_PRINCIPAL_CHANGE_GROUP</td><td>NULL</td><td>SERVER_PRINCIPAL_CHANGE_GROUP</td><td>1</td></tr>",
                            "<tr><td>[dm_audit_actions]</td><td>DR  </td><td>DROP</td><td>SQL LOGIN</td><td>NULL</td><td>SERVER</td><td>SERVER_PRINCIPAL_CHANGE_GROUP</td><td>NULL</td><td>SERVER_PRINCIPAL_CHANGE_GROUP</td><td>1</td></tr>",
                            "<tr><td>[dm_audit_actions]</td><td>APRL</td><td>ADD MEMBER</td><td>ROLE</td><td>NULL</td><td>DATABASE</td><td>DATABASE_ROLE_MEMBER_CHANGE_GROUP</td><td>NULL</td><td>DATABASE_ROLE_MEMBER_CHANGE_GROUP</td><td>1</td></tr>",
                            "<tr><td>[dm_audit_actions]</td><td>DPRL</td><td>DROP MEMBER</td><td>ROLE</td><td>NULL</td><td>DATABASE</td><td>DATABASE_ROLE_MEMBER_CHANGE_GROUP</td><td>NULL</td><td>DATABASE_ROLE_MEMBER_CHANGE_GROUP</td><td>1</td></tr>",
                            "<tr><td>[dm_audit_actions]</td><td>USLG</td><td>CHANGE USERS LOGIN</td><td>USER</td><td>NULL</td><td>DATABASE</td><td>DATABASE_PRINCIPAL_CHANGE_GROUP</td><td>NULL</td><td>DATABASE_PRINCIPAL_CHANGE_GROUP</td><td>1</td></tr>",
                            "<tr><td>[dm_audit_actions]</td><td>USAF</td><td>CHANGE USERS LOGIN AUTO</td><td>USER</td><td>NULL</td><td>DATABASE</td><td>DATABASE_PRINCIPAL_CHANGE_GROUP</td><td>NULL</td><td>DATABASE_PRINCIPAL_CHANGE_GROUP</td><td>1</td></tr>",
                            "<tr><td>[dm_audit_actions]</td><td>DBCC</td><td>DBCC</td><td>DATABASE</td><td>DBCC_GROUP</td><td>SERVER</td><td>DBCC_GROUP</td><td>NULL</td><td>DBCC_GROUP</td><td>1</td></tr>",
                            "<tr><td>[dm_audit_actions]</td><td>RS  </td><td>RESTORE</td><td>DATABASE</td><td>BACKUP_RESTORE_GROUP</td><td>SERVER</td><td>BACKUP_RESTORE_GROUP</td><td>NULL</td><td>BACKUP_RESTORE_GROUP</td><td>1</td></tr>",
                            "<tr><td>[dm_audit_actions]</td><td>TASA</td><td>TRACE AUDIT START</td><td>SERVER</td><td>TRACE_CHANGE_GROUP</td><td>NULL</td><td>NULL</td><td>NULL</td><td>TRACE_CHANGE_GROUP</td><td>1</td></tr>",
                            "<tr><td>[dm_audit_actions]</td><td>TASP</td><td>TRACE AUDIT STOP</td><td>SERVER</td><td>TRACE_CHANGE_GROUP</td><td>NULL</td><td>NULL</td><td>NULL</td><td>TRACE_CHANGE_GROUP</td><td>1</td></tr>",
                            "<tr><td>[dm_audit_actions]</td><td>C2ON</td><td>TRACE AUDIT C2ON</td><td>SERVER</td><td>TRACE_CHANGE_GROUP</td><td>NULL</td><td>NULL</td><td>NULL</td><td>TRACE_CHANGE_GROUP</td><td>1</td></tr>",
                            "<tr><td>[dm_audit_actions]</td><td>C2OF</td><td>TRACE AUDIT C2OFF</td><td>SERVER</td><td>TRACE_CHANGE_GROUP</td><td>NULL</td><td>NULL</td><td>NULL</td><td>TRACE_CHANGE_GROUP</td><td>1</td></tr>",
                            "<tr><td>[dm_audit_actions]</td><td>VSST</td><td>VIEW SERVER STATE</td><td>SERVER</td><td>SERVER_OPERATION_GROUP</td><td>NULL</td><td>NULL</td><td>NULL</td><td>SERVER_OPERATION_GROUP</td><td>1</td></tr>",
                            "<tr><td>[dm_audit_actions]</td><td>VDST</td><td>VIEW DATABASE STATE</td><td>DATABASE</td><td>DATABASE_OPERATION_GROUP</td><td>SERVER</td><td>DATABASE_OPERATION_GROUP</td><td>NULL</td><td>DATABASE_OPERATION_GROUP</td><td>1</td></tr>",
                            "<tr><td>[dm_audit_actions]</td><td>UDAU</td><td>USER DEFINED AUDIT</td><td>DATABASE</td><td>USER_DEFINED_AUDIT_GROUP</td><td>SERVER</td><td>USER_DEFINED_AUDIT_GROUP</td><td>NULL</td><td>USER_DEFINED_AUDIT_GROUP</td><td>1</td></tr>",
                            "<tr><td>[dm_audit_actions]</td><td>CR  </td><td>CREATE</td><td>DATABASE EVENT SESSION</td><td>NULL</td><td>DATABASE</td><td>DATABASE_OBJECT_CHANGE_GROUP</td><td>NULL</td><td>DATABASE_OBJECT_CHANGE_GROUP</td><td>1</td></tr>",
                            "<tr><td>[dm_audit_actions]</td><td>AL  </td><td>ALTER</td><td>DATABASE EVENT SESSION</td><td>NULL</td><td>DATABASE</td><td>DATABASE_OBJECT_CHANGE_GROUP</td><td>NULL</td><td>DATABASE_OBJECT_CHANGE_GROUP</td><td>1</td></tr>",
                            "<tr><td>[dm_audit_actions]</td><td>DR  </td><td>DROP</td><td>DATABASE EVENT SESSION</td><td>NULL</td><td>DATABASE</td><td>DATABASE_OBJECT_CHANGE_GROUP</td><td>NULL</td><td>DATABASE_OBJECT_CHANGE_GROUP</td><td>1</td></tr>",
                            "<tr><td>[dm_audit_actions]</td><td>CR  </td><td>CREATE</td><td>DATABASE SCOPED CREDENTIAL</td><td>NULL</td><td>DATABASE</td><td>DATABASE_OBJECT_CHANGE_GROUP</td><td>NULL</td><td>DATABASE_OBJECT_CHANGE_GROUP</td><td>1</td></tr>",
                            "<tr><td>[dm_audit_actions]</td><td>AL  </td><td>ALTER</td><td>DATABASE SCOPED CREDENTIAL</td><td>NULL</td><td>DATABASE</td><td>DATABASE_OBJECT_CHANGE_GROUP</td><td>NULL</td><td>DATABASE_OBJECT_CHANGE_GROUP</td><td>1</td></tr>",
                            "<tr><td>[dm_audit_actions]</td><td>DR  </td><td>DROP</td><td>DATABASE SCOPED CREDENTIAL</td><td>NULL</td><td>DATABASE</td><td>DATABASE_OBJECT_CHANGE_GROUP</td><td>NULL</td><td>DATABASE_OBJECT_CHANGE_GROUP</td><td>1</td></tr>",
                            "<tr><td>[dm_audit_actions]</td><td>ADSC</td><td>ADD SENSITIVITY CLASSIFICATION</td><td>DATABASE</td><td>SENSITIVITY_CLASSIFICATION_CHANGE_GROUP</td><td>SERVER</td><td>SENSITIVITY_CLASSIFICATION_CHANGE_GROUP</td><td>NULL</td><td>SENSITIVITY_CLASSIFICATION_CHANGE_GROUP</td><td>1</td></tr>",
                            "<tr><td>[dm_audit_actions]</td><td>DRSC</td><td>DROP SENSITIVITY CLASSIFICATION</td><td>DATABASE</td><td>SENSITIVITY_CLASSIFICATION_CHANGE_GROUP</td><td>SERVER</td><td>SENSITIVITY_CLASSIFICATION_CHANGE_GROUP</td><td>NULL</td><td>SENSITIVITY_CLASSIFICATION_CHANGE_GROUP</td><td>1</td></tr>",
                            "<tr><td>[dm_audit_actions]</td><td>ADFR</td><td>ADD FEATURE RESTRICTION</td><td>DATABASE</td><td>FEATURE_RESTRICTION_CHANGE_GROUP</td><td>SERVER</td><td>FEATURE_RESTRICTION_CHANGE_GROUP</td><td>NULL</td><td>FEATURE_RESTRICTION_CHANGE_GROUP</td><td>1</td></tr>",
                            "<tr><td>[dm_audit_actions]</td><td>DRFR</td><td>DROP FEATURE RESTRICTION</td><td>DATABASE</td><td>FEATURE_RESTRICTION_CHANGE_GROUP</td><td>SERVER</td><td>FEATURE_RESTRICTION_CHANGE_GROUP</td><td>NULL</td><td>FEATURE_RESTRICTION_CHANGE_GROUP</td><td>1</td></tr>",
                            "<tr><td>[dm_audit_actions]</td><td>TO  </td><td>TAKE OWNERSHIP</td><td>EXTERNAL LANGUAGE</td><td>NULL</td><td>DATABASE</td><td>DATABASE_OBJECT_OWNERSHIP_CHANGE_GROUP</td><td>NULL</td><td>DATABASE_OBJECT_OWNERSHIP_CHANGE_GROUP</td><td>1</td></tr>",
                            "<tr><td>[dm_audit_actions]</td><td>SL  </td><td>SELECT</td><td>DATABASE</td><td>SCHEMA_OBJECT_ACCESS_GROUP</td><td>SERVER</td><td>NULL</td><td>Action</td><td>SCHEMA_OBJECT_ACCESS_GROUP</td><td>0</td></tr>",
                            "<tr><td>[dm_audit_actions]</td><td>IN  </td><td>INSERT</td><td>DATABASE</td><td>SCHEMA_OBJECT_ACCESS_GROUP</td><td>SERVER</td><td>NULL</td><td>Action</td><td>SCHEMA_OBJECT_ACCESS_GROUP</td><td>0</td></tr>",
                            "<tr><td>[dm_audit_actions]</td><td>UP  </td><td>UPDATE</td><td>DATABASE</td><td>SCHEMA_OBJECT_ACCESS_GROUP</td><td>SERVER</td><td>NULL</td><td>Action</td><td>SCHEMA_OBJECT_ACCESS_GROUP</td><td>0</td></tr>",
                            "<tr><td>[dm_audit_actions]</td><td>DL  </td><td>DELETE</td><td>DATABASE</td><td>SCHEMA_OBJECT_ACCESS_GROUP</td><td>SERVER</td><td>NULL</td><td>Action</td><td>SCHEMA_OBJECT_ACCESS_GROUP</td><td>0</td></tr>",
                            "<tr><td>[dm_audit_actions]</td><td>RF  </td><td>REFERENCES</td><td>DATABASE</td><td>SCHEMA_OBJECT_ACCESS_GROUP</td><td>SERVER</td><td>NULL</td><td>Action</td><td>SCHEMA_OBJECT_ACCESS_GROUP</td><td>0</td></tr>",
                            "<tr><td>[dm_audit_actions]</td><td>EX  </td><td>EXECUTE</td><td>DATABASE</td><td>SCHEMA_OBJECT_ACCESS_GROUP</td><td>SERVER</td><td>NULL</td><td>Action</td><td>SCHEMA_OBJECT_ACCESS_GROUP</td><td>0</td></tr>",
                            "<tr><td>[dm_audit_actions]</td><td>RC  </td><td>RECEIVE</td><td>DATABASE</td><td>SCHEMA_OBJECT_ACCESS_GROUP</td><td>SERVER</td><td>NULL</td><td>Action</td><td>SCHEMA_OBJECT_ACCESS_GROUP</td><td>0</td></tr>",
                            "<tr><td>[dm_audit_actions]</td><td>VWCT</td><td>VIEW CHANGETRACKING</td><td>DATABASE</td><td>SCHEMA_OBJECT_ACCESS_GROUP</td><td>SERVER</td><td>NULL</td><td>NULL</td><td>SCHEMA_OBJECT_ACCESS_GROUP</td><td>0</td></tr>",
                            "<tr><td>[dm_audit_actions]</td><td>CO  </td><td>CONNECT</td><td>DATABASE</td><td>DATABASE_OPERATION_GROUP</td><td>SERVER</td><td>NULL</td><td>NULL</td><td>DATABASE_OPERATION_GROUP</td><td>0</td></tr>",
                            "<tr><td>[dm_audit_actions]</td><td>OPDB</td><td>DATABASE_OPERATION_GROUP</td><td>DATABASE</td><td>NULL</td><td>SERVER</td><td>DATABASE_OPERATION_GROUP</td><td>Group</td><td>DATABASE_OPERATION_GROUP</td><td>0</td></tr>",
                            "<tr><td>[dm_audit_actions]</td><td>BRDB</td><td>BACKUP_RESTORE_GROUP</td><td>DATABASE</td><td>NULL</td><td>SERVER</td><td>BACKUP_RESTORE_GROUP</td><td>Group</td><td>BACKUP_RESTORE_GROUP</td><td>0</td></tr>",
                            "<tr><td>[dm_audit_actions]</td><td>MNDB</td><td>DATABASE_CHANGE_GROUP</td><td>DATABASE</td><td>NULL</td><td>SERVER</td><td>DATABASE_CHANGE_GROUP</td><td>Group</td><td>DATABASE_CHANGE_GROUP</td><td>0</td></tr>",
                            "<tr><td>[dm_audit_actions]</td><td>TODB</td><td>DATABASE_OWNERSHIP_CHANGE_GROUP</td><td>DATABASE</td><td>NULL</td><td>SERVER</td><td>DATABASE_OWNERSHIP_CHANGE_GROUP</td><td>Group</td><td>DATABASE_OWNERSHIP_CHANGE_GROUP</td><td>0</td></tr>",
                            "<tr><td>[dm_audit_actions]</td><td>GRDB</td><td>DATABASE_PERMISSION_CHANGE_GROUP</td><td>DATABASE</td><td>NULL</td><td>SERVER</td><td>DATABASE_PERMISSION_CHANGE_GROUP</td><td>Group</td><td>DATABASE_PERMISSION_CHANGE_GROUP</td><td>0</td></tr>",
                            "<tr><td>[dm_audit_actions]</td><td>DAGS</td><td>SUCCESSFUL_DATABASE_AUTHENTICATION_GROUP</td><td>DATABASE</td><td>NULL</td><td>SERVER</td><td>SUCCESSFUL_DATABASE_AUTHENTICATION_GROUP</td><td>Group</td><td>SUCCESSFUL_DATABASE_AUTHENTICATION_GROUP</td><td>0</td></tr>",
                            "<tr><td>[dm_audit_actions]</td><td>DAGF</td><td>FAILED_DATABASE_AUTHENTICATION_GROUP</td><td>DATABASE</td><td>NULL</td><td>SERVER</td><td>FAILED_DATABASE_AUTHENTICATION_GROUP</td><td>Group</td><td>FAILED_DATABASE_AUTHENTICATION_GROUP</td><td>0</td></tr>",
                            "<tr><td>[dm_audit_actions]</td><td>DAGL</td><td>DATABASE_LOGOUT_GROUP</td><td>DATABASE</td><td>NULL</td><td>SERVER</td><td>DATABASE_LOGOUT_GROUP</td><td>Group</td><td>DATABASE_LOGOUT_GROUP</td><td>0</td></tr>",
                            "<tr><td>[dm_audit_actions]</td><td>UCGP</td><td>USER_CHANGE_PASSWORD_GROUP</td><td>DATABASE</td><td>NULL</td><td>SERVER</td><td>USER_CHANGE_PASSWORD_GROUP</td><td>Group</td><td>USER_CHANGE_PASSWORD_GROUP</td><td>0</td></tr>",
                            "<tr><td>[dm_audit_actions]</td><td>BSTG</td><td>BATCH_STARTED_GROUP</td><td>DATABASE</td><td>NULL</td><td>SERVER</td><td>BATCH_STARTED_GROUP</td><td>Group</td><td>BATCH_STARTED_GROUP</td><td>0</td></tr>",
                            "<tr><td>[dm_audit_actions]</td><td>BCMG</td><td>BATCH_COMPLETED_GROUP</td><td>DATABASE</td><td>NULL</td><td>SERVER</td><td>BATCH_COMPLETED_GROUP</td><td>Group</td><td>BATCH_COMPLETED_GROUP</td><td>0</td></tr>",
                            "<tr><td>[dm_audit_actions]</td><td>TXGG</td><td>TRANSACTION_BEGIN_GROUP</td><td>DATABASE</td><td>TRANSACTION_GROUP</td><td>SERVER</td><td>TRANSACTION_BEGIN_GROUP</td><td>Group</td><td>TRANSACTION_GROUP</td><td>0</td></tr>",
                            "<tr><td>[dm_audit_actions]</td><td>TXCG</td><td>TRANSACTION_COMMIT_GROUP</td><td>DATABASE</td><td>TRANSACTION_GROUP</td><td>SERVER</td><td>TRANSACTION_COMMIT_GROUP</td><td>Group</td><td>TRANSACTION_GROUP</td><td>0</td></tr>",
                            "<tr><td>[dm_audit_actions]</td><td>TXRG</td><td>TRANSACTION_ROLLBACK_GROUP</td><td>DATABASE</td><td>TRANSACTION_GROUP</td><td>SERVER</td><td>TRANSACTION_ROLLBACK_GROUP</td><td>Group</td><td>TRANSACTION_GROUP</td><td>0</td></tr>",
                            "<tr><td>[dm_audit_actions]</td><td>UNDG</td><td>STATEMENT_ROLLBACK_GROUP</td><td>DATABASE</td><td>TRANSACTION_GROUP</td><td>SERVER</td><td>STATEMENT_ROLLBACK_GROUP</td><td>Group</td><td>TRANSACTION_GROUP</td><td>0</td></tr>",
                            "<tr><td>[dm_audit_actions]</td><td>MNDO</td><td>DATABASE_OBJECT_CHANGE_GROUP</td><td>DATABASE</td><td>NULL</td><td>SERVER</td><td>DATABASE_OBJECT_CHANGE_GROUP</td><td>Group</td><td>DATABASE_OBJECT_CHANGE_GROUP</td><td>0</td></tr>",
                            "<tr><td>[dm_audit_actions]</td><td>TODO</td><td>DATABASE_OBJECT_OWNERSHIP_CHANGE_GROUP</td><td>DATABASE</td><td>NULL</td><td>SERVER</td><td>DATABASE_OBJECT_OWNERSHIP_CHANGE_GROUP</td><td>Group</td><td>DATABASE_OBJECT_OWNERSHIP_CHANGE_GROUP</td><td>0</td></tr>",
                            "<tr><td>[dm_audit_actions]</td><td>MNDP</td><td>DATABASE_PRINCIPAL_CHANGE_GROUP</td><td>DATABASE</td><td>NULL</td><td>SERVER</td><td>DATABASE_PRINCIPAL_CHANGE_GROUP</td><td>Group</td><td>DATABASE_PRINCIPAL_CHANGE_GROUP</td><td>0</td></tr>",
                            "<tr><td>[dm_audit_actions]</td><td>IMDP</td><td>DATABASE_PRINCIPAL_IMPERSONATION_GROUP</td><td>DATABASE</td><td>NULL</td><td>SERVER</td><td>DATABASE_PRINCIPAL_IMPERSONATION_GROUP</td><td>Group</td><td>DATABASE_PRINCIPAL_IMPERSONATION_GROUP</td><td>0</td></tr>",
                            "<tr><td>[dm_audit_actions]</td><td>ADDP</td><td>DATABASE_ROLE_MEMBER_CHANGE_GROUP</td><td>DATABASE</td><td>NULL</td><td>SERVER</td><td>DATABASE_ROLE_MEMBER_CHANGE_GROUP</td><td>Group</td><td>DATABASE_ROLE_MEMBER_CHANGE_GROUP</td><td>0</td></tr>",
                            "<tr><td>[dm_audit_actions]</td><td>PWAR</td><td>APPLICATION_ROLE_CHANGE_PASSWORD_GROUP</td><td>DATABASE</td><td>NULL</td><td>SERVER</td><td>APPLICATION_ROLE_CHANGE_PASSWORD_GROUP</td><td>Group</td><td>APPLICATION_ROLE_CHANGE_PASSWORD_GROUP</td><td>0</td></tr>",
                            "<tr><td>[dm_audit_actions]</td><td>GRDO</td><td>DATABASE_OBJECT_PERMISSION_CHANGE_GROUP</td><td>DATABASE</td><td>NULL</td><td>SERVER</td><td>DATABASE_OBJECT_PERMISSION_CHANGE_GROUP</td><td>Group</td><td>DATABASE_OBJECT_PERMISSION_CHANGE_GROUP</td><td>0</td></tr>",
                            "<tr><td>[dm_audit_actions]</td><td>ACDO</td><td>DATABASE_OBJECT_ACCESS_GROUP</td><td>DATABASE</td><td>NULL</td><td>SERVER</td><td>DATABASE_OBJECT_ACCESS_GROUP</td><td>Group</td><td>DATABASE_OBJECT_ACCESS_GROUP</td><td>0</td></tr>",
                            "<tr><td>[dm_audit_actions]</td><td>MNO </td><td>SCHEMA_OBJECT_CHANGE_GROUP</td><td>DATABASE</td><td>NULL</td><td>SERVER</td><td>SCHEMA_OBJECT_CHANGE_GROUP</td><td>Group</td><td>SCHEMA_OBJECT_CHANGE_GROUP</td><td>0</td></tr>",
                            "<tr><td>[dm_audit_actions]</td><td>TOO </td><td>SCHEMA_OBJECT_OWNERSHIP_CHANGE_GROUP</td><td>DATABASE</td><td>NULL</td><td>SERVER</td><td>SCHEMA_OBJECT_OWNERSHIP_CHANGE_GROUP</td><td>Group</td><td>SCHEMA_OBJECT_OWNERSHIP_CHANGE_GROUP</td><td>0</td></tr>",
                            "<tr><td>[dm_audit_actions]</td><td>GRO </td><td>SCHEMA_OBJECT_PERMISSION_CHANGE_GROUP</td><td>DATABASE</td><td>NULL</td><td>SERVER</td><td>SCHEMA_OBJECT_PERMISSION_CHANGE_GROUP</td><td>Group</td><td>SCHEMA_OBJECT_PERMISSION_CHANGE_GROUP</td><td>0</td></tr>",
                            "<tr><td>[dm_audit_actions]</td><td>ACO </td><td>SCHEMA_OBJECT_ACCESS_GROUP</td><td>DATABASE</td><td>NULL</td><td>SERVER</td><td>SCHEMA_OBJECT_ACCESS_GROUP</td><td>Group</td><td>SCHEMA_OBJECT_ACCESS_GROUP</td><td>0</td></tr>",
                            "<tr><td>[dm_audit_actions]</td><td>DBCG</td><td>DBCC_GROUP</td><td>DATABASE</td><td>NULL</td><td>SERVER</td><td>DBCC_GROUP</td><td>Group</td><td>DBCC_GROUP</td><td>0</td></tr>",
                            "<tr><td>[dm_audit_actions]</td><td>CNAU</td><td>AUDIT_CHANGE_GROUP</td><td>DATABASE</td><td>NULL</td><td>SERVER</td><td>AUDIT_CHANGE_GROUP</td><td>Group</td><td>AUDIT_CHANGE_GROUP</td><td>0</td></tr>",
                            "<tr><td>[dm_audit_actions]</td><td>UDAG</td><td>USER_DEFINED_AUDIT_GROUP</td><td>DATABASE</td><td>NULL</td><td>SERVER</td><td>USER_DEFINED_AUDIT_GROUP</td><td>Group</td><td>USER_DEFINED_AUDIT_GROUP</td><td>0</td></tr>",
                            "<tr><td>[dm_audit_actions]</td><td>TX  </td><td>TRANSACTION_GROUP</td><td>DATABASE</td><td>NULL</td><td>SERVER</td><td>TRANSACTION_GROUP</td><td>Group</td><td>TRANSACTION_GROUP</td><td>0</td></tr>",
                            "<tr><td>[dm_audit_actions]</td><td>SCCG</td><td>SENSITIVITY_CLASSIFICATION_CHANGE_GROUP</td><td>DATABASE</td><td>NULL</td><td>SERVER</td><td>SENSITIVITY_CLASSIFICATION_CHANGE_GROUP</td><td>Group</td><td>SENSITIVITY_CLASSIFICATION_CHANGE_GROUP</td><td>0</td></tr>",
                            "<tr><td>[dm_audit_actions]</td><td>FRCG</td><td>FEATURE_RESTRICTION_CHANGE_GROUP</td><td>DATABASE</td><td>NULL</td><td>SERVER</td><td>FEATURE_RESTRICTION_CHANGE_GROUP</td><td>Group</td><td>FEATURE_RESTRICTION_CHANGE_GROUP</td><td>0</td></tr>",
                            "<tr><td>[dm_audit_actions]</td><td>SL  </td><td>SELECT</td><td>OBJECT</td><td>NULL</td><td>SCHEMA</td><td>SELECT</td><td>Action</td><td>SCHEMA_OBJECT_ACCESS_GROUP</td><td>1</td></tr>",
                            "<tr><td>[dm_audit_actions]</td><td>UP  </td><td>UPDATE</td><td>OBJECT</td><td>NULL</td><td>SCHEMA</td><td>UPDATE</td><td>Action</td><td>SCHEMA_OBJECT_ACCESS_GROUP</td><td>1</td></tr>",
                            "<tr><td>[dm_audit_actions]</td><td>RF  </td><td>REFERENCES</td><td>OBJECT</td><td>NULL</td><td>SCHEMA</td><td>REFERENCES</td><td>Action</td><td>SCHEMA_OBJECT_ACCESS_GROUP</td><td>1</td></tr>",
                            "<tr><td>[dm_audit_actions]</td><td>IN  </td><td>INSERT</td><td>OBJECT</td><td>NULL</td><td>SCHEMA</td><td>INSERT</td><td>Action</td><td>SCHEMA_OBJECT_ACCESS_GROUP</td><td>1</td></tr>",
                            "<tr><td>[dm_audit_actions]</td><td>DL  </td><td>DELETE</td><td>OBJECT</td><td>NULL</td><td>SCHEMA</td><td>DELETE</td><td>Action</td><td>SCHEMA_OBJECT_ACCESS_GROUP</td><td>1</td></tr>",
                            "<tr><td>[dm_audit_actions]</td><td>EX  </td><td>EXECUTE</td><td>OBJECT</td><td>NULL</td><td>SCHEMA</td><td>EXECUTE</td><td>Action</td><td>SCHEMA_OBJECT_ACCESS_GROUP</td><td>1</td></tr>",
                            "<tr><td>[dm_audit_actions]</td><td>RC  </td><td>RECEIVE</td><td>OBJECT</td><td>NULL</td><td>SCHEMA</td><td>RECEIVE</td><td>Action</td><td>SCHEMA_OBJECT_ACCESS_GROUP</td><td>1</td></tr>",
                            "<tr><td>[dm_audit_actions]</td><td>VWCT</td><td>VIEW CHANGETRACKING</td><td>OBJECT</td><td>NULL</td><td>SCHEMA</td><td>VIEW CHANGETRACKING</td><td>NULL</td><td>SCHEMA_OBJECT_ACCESS_GROUP</td><td>1</td></tr>",
                            "<tr><td>[dm_audit_actions]</td><td>RF  </td><td>REFERENCES</td><td>TYPE</td><td>NULL</td><td>SCHEMA</td><td>REFERENCES</td><td>NULL</td><td>SCHEMA_OBJECT_ACCESS_GROUP</td><td>1</td></tr>",
                            "<tr><td>[dm_audit_actions]</td><td>EX  </td><td>EXECUTE</td><td>TYPE</td><td>NULL</td><td>SCHEMA</td><td>EXECUTE</td><td>NULL</td><td>SCHEMA_OBJECT_ACCESS_GROUP</td><td>1</td></tr>",
                            "<tr><td>[dm_audit_actions]</td><td>SL  </td><td>SELECT</td><td>SCHEMA</td><td>NULL</td><td>DATABASE</td><td>SELECT</td><td>Action</td><td>SCHEMA_OBJECT_ACCESS_GROUP</td><td>0</td></tr>",
                            "<tr><td>[dm_audit_actions]</td><td>IN  </td><td>INSERT</td><td>SCHEMA</td><td>NULL</td><td>DATABASE</td><td>INSERT</td><td>Action</td><td>SCHEMA_OBJECT_ACCESS_GROUP</td><td>0</td></tr>",
                            "<tr><td>[dm_audit_actions]</td><td>UP  </td><td>UPDATE</td><td>SCHEMA</td><td>NULL</td><td>DATABASE</td><td>UPDATE</td><td>Action</td><td>SCHEMA_OBJECT_ACCESS_GROUP</td><td>0</td></tr>",
                            "<tr><td>[dm_audit_actions]</td><td>DL  </td><td>DELETE</td><td>SCHEMA</td><td>NULL</td><td>DATABASE</td><td>DELETE</td><td>Action</td><td>SCHEMA_OBJECT_ACCESS_GROUP</td><td>0</td></tr>",
                            "<tr><td>[dm_audit_actions]</td><td>RF  </td><td>REFERENCES</td><td>SCHEMA</td><td>NULL</td><td>DATABASE</td><td>REFERENCES</td><td>Action</td><td>SCHEMA_OBJECT_ACCESS_GROUP</td><td>0</td></tr>",
                            "<tr><td>[dm_audit_actions]</td><td>EX  </td><td>EXECUTE</td><td>SCHEMA</td><td>NULL</td><td>DATABASE</td><td>EXECUTE</td><td>Action</td><td>SCHEMA_OBJECT_ACCESS_GROUP</td><td>0</td></tr>",
                            "<tr><td>[dm_audit_actions]</td><td>RC  </td><td>RECEIVE</td><td>SCHEMA</td><td>NULL</td><td>DATABASE</td><td>RECEIVE</td><td>Action</td><td>SCHEMA_OBJECT_ACCESS_GROUP</td><td>0</td></tr>",
                            "<tr><td>[dm_audit_actions]</td><td>VWCT</td><td>VIEW CHANGETRACKING</td><td>SCHEMA</td><td>NULL</td><td>DATABASE</td><td>VIEW CHANGETRACKING</td><td>NULL</td><td>SCHEMA_OBJECT_ACCESS_GROUP</td><td>0</td></tr>",
                            "<tr><td>[dm_audit_actions]</td><td>RF  </td><td>REFERENCES</td><td>XML SCHEMA COLLECTION</td><td>NULL</td><td>SCHEMA</td><td>REFERENCES</td><td>NULL</td><td>SCHEMA_OBJECT_ACCESS_GROUP</td><td>1</td></tr>",
                            "<tr><td>[dm_audit_actions]</td><td>EX  </td><td>EXECUTE</td><td>XML SCHEMA COLLECTION</td><td>NULL</td><td>SCHEMA</td><td>EXECUTE</td><td>NULL</td><td>SCHEMA_OBJECT_ACCESS_GROUP</td><td>1</td></tr>",
                            "<tr><td>[dm_audit_actions]</td><td>RF  </td><td>REFERENCES</td><td>ASSEMBLY</td><td>NULL</td><td>DATABASE</td><td>DATABASE_OBJECT_ACCESS_GROUP</td><td>NULL</td><td>DATABASE_OBJECT_ACCESS_GROUP</td><td>1</td></tr>",
                            "<tr><td>[dm_audit_actions]</td><td>IMP </td><td>IMPERSONATE</td><td>USER</td><td>NULL</td><td>DATABASE</td><td>DATABASE_PRINCIPAL_IMPERSONATION_GROUP</td><td>NULL</td><td>DATABASE_PRINCIPAL_IMPERSONATION_GROUP</td><td>1</td></tr>",
                            "<tr><td>[dm_audit_actions]</td><td>RF  </td><td>REFERENCES</td><td>MESSAGE TYPE</td><td>NULL</td><td>DATABASE</td><td>DATABASE_OBJECT_ACCESS_GROUP</td><td>NULL</td><td>DATABASE_OBJECT_ACCESS_GROUP</td><td>1</td></tr>",
                            "<tr><td>[dm_audit_actions]</td><td>RF  </td><td>REFERENCES</td><td>CONTRACT</td><td>NULL</td><td>DATABASE</td><td>DATABASE_OBJECT_ACCESS_GROUP</td><td>NULL</td><td>DATABASE_OBJECT_ACCESS_GROUP</td><td>1</td></tr>",
                            "<tr><td>[dm_audit_actions]</td><td>SN  </td><td>SEND</td><td>SERVICE</td><td>NULL</td><td>DATABASE</td><td>DATABASE_OBJECT_ACCESS_GROUP</td><td>NULL</td><td>DATABASE_OBJECT_ACCESS_GROUP</td><td>1</td></tr>",
                            "<tr><td>[dm_audit_actions]</td><td>RF  </td><td>REFERENCES</td><td>FULLTEXT CATALOG</td><td>NULL</td><td>DATABASE</td><td>REFERENCES</td><td>NULL</td><td>SCHEMA_OBJECT_ACCESS_GROUP</td><td>1</td></tr>",
                            "<tr><td>[dm_audit_actions]</td><td>RF  </td><td>REFERENCES</td><td>FULLTEXT STOPLIST</td><td>NULL</td><td>DATABASE</td><td>REFERENCES</td><td>NULL</td><td>SCHEMA_OBJECT_ACCESS_GROUP</td><td>1</td></tr>",
                            "<tr><td>[dm_audit_actions]</td><td>RF  </td><td>REFERENCES</td><td>SEARCH PROPERTY LIST</td><td>NULL</td><td>DATABASE</td><td>REFERENCES</td><td>NULL</td><td>SCHEMA_OBJECT_ACCESS_GROUP</td><td>1</td></tr>",
                            "<tr><td>[dm_audit_actions]</td><td>RF  </td><td>REFERENCES</td><td>SYMMETRIC KEY</td><td>NULL</td><td>DATABASE</td><td>DATABASE_OBJECT_ACCESS_GROUP</td><td>NULL</td><td>DATABASE_OBJECT_ACCESS_GROUP</td><td>1</td></tr>",
                            "<tr><td>[dm_audit_actions]</td><td>RF  </td><td>REFERENCES</td><td>CERTIFICATE</td><td>NULL</td><td>DATABASE</td><td>DATABASE_OBJECT_ACCESS_GROUP</td><td>NULL</td><td>DATABASE_OBJECT_ACCESS_GROUP</td><td>1</td></tr>",
                            "<tr><td>[dm_audit_actions]</td><td>RF  </td><td>REFERENCES</td><td>ASYMMETRIC KEY</td><td>NULL</td><td>DATABASE</td><td>DATABASE_OBJECT_ACCESS_GROUP</td><td>NULL</td><td>DATABASE_OBJECT_ACCESS_GROUP</td><td>1</td></tr>",
                            "<tr><td>[dm_audit_actions]</td><td>RF  </td><td>REFERENCES</td><td>DATABASE SCOPED CREDENTIAL</td><td>NULL</td><td>DATABASE</td><td>DATABASE_OBJECT_ACCESS_GROUP</td><td>NULL</td><td>DATABASE_OBJECT_ACCESS_GROUP</td><td>1</td></tr>",
                            "<tr><td>[dm_audit_actions]</td><td>RF  </td><td>REFERENCES</td><td>EXTERNAL LIBRARY</td><td>NULL</td><td>DATABASE</td><td>DATABASE_OBJECT_ACCESS_GROUP</td><td>NULL</td><td>DATABASE_OBJECT_ACCESS_GROUP</td><td>1</td></tr>",
                            "<tr><td>[dm_audit_actions]</td><td>RF  </td><td>REFERENCES</td><td>EXTERNAL LANGUAGE</td><td>NULL</td><td>DATABASE</td><td>DATABASE_OBJECT_ACCESS_GROUP</td><td>NULL</td><td>DATABASE_OBJECT_ACCESS_GROUP</td><td>1</td></tr>",
                            "<tr><td>[dm_audit_actions]</td><td>LGSD</td><td>SUCCESSFUL_LOGIN_GROUP</td><td>SERVER</td><td>NULL</td><td>NULL</td><td>NULL</td><td>Group</td><td>SUCCESSFUL_LOGIN_GROUP</td><td>0</td></tr>",
                            "<tr><td>[dm_audit_actions]</td><td>LGFL</td><td>FAILED_LOGIN_GROUP</td><td>SERVER</td><td>NULL</td><td>NULL</td><td>NULL</td><td>Group</td><td>FAILED_LOGIN_GROUP</td><td>0</td></tr>",
                            "<tr><td>[dm_audit_actions]</td><td>LO  </td><td>LOGOUT_GROUP</td><td>SERVER</td><td>NULL</td><td>NULL</td><td>NULL</td><td>Group</td><td>LOGOUT_GROUP</td><td>0</td></tr>",
                            "<tr><td>[dm_audit_actions]</td><td>STSV</td><td>SERVER_STATE_CHANGE_GROUP</td><td>SERVER</td><td>NULL</td><td>NULL</td><td>NULL</td><td>Group</td><td>SERVER_STATE_CHANGE_GROUP</td><td>0</td></tr>",
                            "<tr><td>[dm_audit_actions]</td><td>DBCG</td><td>DBCC_GROUP</td><td>SERVER</td><td>NULL</td><td>NULL</td><td>NULL</td><td>Group</td><td>DBCC_GROUP</td><td>0</td></tr>",
                            "<tr><td>[dm_audit_actions]</td><td>CNAU</td><td>AUDIT_CHANGE_GROUP</td><td>SERVER</td><td>NULL</td><td>NULL</td><td>NULL</td><td>Group</td><td>AUDIT_CHANGE_GROUP</td><td>0</td></tr>",
                            "<tr><td>[dm_audit_actions]</td><td>GRSV</td><td>SERVER_PERMISSION_CHANGE_GROUP</td><td>SERVER</td><td>NULL</td><td>NULL</td><td>NULL</td><td>Group</td><td>SERVER_PERMISSION_CHANGE_GROUP</td><td>0</td></tr>",
                            "<tr><td>[dm_audit_actions]</td><td>OPSV</td><td>SERVER_OPERATION_GROUP</td><td>SERVER</td><td>NULL</td><td>NULL</td><td>NULL</td><td>Group</td><td>SERVER_OPERATION_GROUP</td><td>0</td></tr>",
                            "<tr><td>[dm_audit_actions]</td><td>TRCG</td><td>TRACE_CHANGE_GROUP</td><td>SERVER</td><td>NULL</td><td>NULL</td><td>NULL</td><td>Group</td><td>TRACE_CHANGE_GROUP</td><td>0</td></tr>",
                            "<tr><td>[dm_audit_actions]</td><td>PWCG</td><td>LOGIN_CHANGE_PASSWORD_GROUP</td><td>SERVER</td><td>NULL</td><td>NULL</td><td>NULL</td><td>Group</td><td>LOGIN_CHANGE_PASSWORD_GROUP</td><td>0</td></tr>",
                            "<tr><td>[dm_audit_actions]</td><td>ADSP</td><td>SERVER_ROLE_MEMBER_CHANGE_GROUP</td><td>SERVER</td><td>NULL</td><td>NULL</td><td>NULL</td><td>Group</td><td>SERVER_ROLE_MEMBER_CHANGE_GROUP</td><td>0</td></tr>",
                            "<tr><td>[dm_audit_actions]</td><td>TOSO</td><td>SERVER_OBJECT_OWNERSHIP_CHANGE_GROUP</td><td>SERVER</td><td>NULL</td><td>NULL</td><td>NULL</td><td>Group</td><td>SERVER_OBJECT_OWNERSHIP_CHANGE_GROUP</td><td>0</td></tr>",
                            "<tr><td>[dm_audit_actions]</td><td>LGBG</td><td>BROKER_LOGIN_GROUP</td><td>SERVER</td><td>NULL</td><td>NULL</td><td>NULL</td><td>Group</td><td>BROKER_LOGIN_GROUP</td><td>0</td></tr>",
                            "<tr><td>[dm_audit_actions]</td><td>LGMG</td><td>DATABASE_MIRRORING_LOGIN_GROUP</td><td>SERVER</td><td>NULL</td><td>NULL</td><td>NULL</td><td>Group</td><td>DATABASE_MIRRORING_LOGIN_GROUP</td><td>0</td></tr>",
                            "<tr><td>[dm_audit_actions]</td><td>LGGG</td><td>GLOBAL_TRANSACTIONS_LOGIN_GROUP</td><td>SERVER</td><td>NULL</td><td>NULL</td><td>NULL</td><td>Group</td><td>GLOBAL_TRANSACTIONS_LOGIN_GROUP</td><td>0</td></tr>",
                            "<tr><td>[dm_audit_actions]</td><td>LGSG</td><td>STORAGE_LOGIN_GROUP</td><td>SERVER</td><td>NULL</td><td>NULL</td><td>NULL</td><td>Group</td><td>STORAGE_LOGIN_GROUP</td><td>0</td></tr>",
                            "<tr><td>[dm_audit_actions]</td><td>FTG </td><td>FULLTEXT_GROUP</td><td>SERVER</td><td>NULL</td><td>NULL</td><td>NULL</td><td>Group</td><td>FULLTEXT_GROUP</td><td>0</td></tr>",
                            "<tr><td>[dm_audit_actions]</td><td>MNSO</td><td>SERVER_OBJECT_CHANGE_GROUP</td><td>SERVER</td><td>NULL</td><td>NULL</td><td>NULL</td><td>Group</td><td>SERVER_OBJECT_CHANGE_GROUP</td><td>0</td></tr>",
                            "<tr><td>[dm_audit_actions]</td><td>MNSP</td><td>SERVER_PRINCIPAL_CHANGE_GROUP</td><td>SERVER</td><td>NULL</td><td>NULL</td><td>NULL</td><td>Group</td><td>SERVER_PRINCIPAL_CHANGE_GROUP</td><td>0</td></tr>",
                            "<tr><td>[dm_audit_actions]</td><td>IMSP</td><td>SERVER_PRINCIPAL_IMPERSONATION_GROUP</td><td>SERVER</td><td>NULL</td><td>NULL</td><td>NULL</td><td>Group</td><td>SERVER_PRINCIPAL_IMPERSONATION_GROUP</td><td>0</td></tr>",
                            "<tr><td>[dm_audit_actions]</td><td>GRSO</td><td>SERVER_OBJECT_PERMISSION_CHANGE_GROUP</td><td>SERVER</td><td>NULL</td><td>NULL</td><td>NULL</td><td>Group</td><td>SERVER_OBJECT_PERMISSION_CHANGE_GROUP</td><td>0</td></tr>",
                            "<tr><td>[dm_audit_actions]</td><td>GRDB</td><td>DATABASE_PERMISSION_CHANGE_GROUP</td><td>SERVER</td><td>NULL</td><td>NULL</td><td>NULL</td><td>Group</td><td>DATABASE_PERMISSION_CHANGE_GROUP</td><td>0</td></tr>",
                            "<tr><td>[dm_audit_actions]</td><td>GRO </td><td>SCHEMA_OBJECT_PERMISSION_CHANGE_GROUP</td><td>SERVER</td><td>NULL</td><td>NULL</td><td>NULL</td><td>Group</td><td>SCHEMA_OBJECT_PERMISSION_CHANGE_GROUP</td><td>0</td></tr>",
                            "<tr><td>[dm_audit_actions]</td><td>ADDP</td><td>DATABASE_ROLE_MEMBER_CHANGE_GROUP</td><td>SERVER</td><td>NULL</td><td>NULL</td><td>NULL</td><td>Group</td><td>DATABASE_ROLE_MEMBER_CHANGE_GROUP</td><td>0</td></tr>",
                            "<tr><td>[dm_audit_actions]</td><td>PWAR</td><td>APPLICATION_ROLE_CHANGE_PASSWORD_GROUP</td><td>SERVER</td><td>NULL</td><td>NULL</td><td>NULL</td><td>Group</td><td>APPLICATION_ROLE_CHANGE_PASSWORD_GROUP</td><td>0</td></tr>",
                            "<tr><td>[dm_audit_actions]</td><td>ACO </td><td>SCHEMA_OBJECT_ACCESS_GROUP</td><td>SERVER</td><td>NULL</td><td>NULL</td><td>NULL</td><td>Group</td><td>SCHEMA_OBJECT_ACCESS_GROUP</td><td>0</td></tr>",
                            "<tr><td>[dm_audit_actions]</td><td>BRDB</td><td>BACKUP_RESTORE_GROUP</td><td>SERVER</td><td>NULL</td><td>NULL</td><td>NULL</td><td>Group</td><td>BACKUP_RESTORE_GROUP</td><td>0</td></tr>",
                            "<tr><td>[dm_audit_actions]</td><td>MNDB</td><td>DATABASE_CHANGE_GROUP</td><td>SERVER</td><td>NULL</td><td>NULL</td><td>NULL</td><td>Group</td><td>DATABASE_CHANGE_GROUP</td><td>0</td></tr>",
                            "<tr><td>[dm_audit_actions]</td><td>MNDO</td><td>DATABASE_OBJECT_CHANGE_GROUP</td><td>SERVER</td><td>NULL</td><td>NULL</td><td>NULL</td><td>Group</td><td>DATABASE_OBJECT_CHANGE_GROUP</td><td>0</td></tr>",
                            "<tr><td>[dm_audit_actions]</td><td>MNDP</td><td>DATABASE_PRINCIPAL_CHANGE_GROUP</td><td>SERVER</td><td>NULL</td><td>NULL</td><td>NULL</td><td>Group</td><td>DATABASE_PRINCIPAL_CHANGE_GROUP</td><td>0</td></tr>",
                            "<tr><td>[dm_audit_actions]</td><td>MNO </td><td>SCHEMA_OBJECT_CHANGE_GROUP</td><td>SERVER</td><td>NULL</td><td>NULL</td><td>NULL</td><td>Group</td><td>SCHEMA_OBJECT_CHANGE_GROUP</td><td>0</td></tr>",
                            "<tr><td>[dm_audit_actions]</td><td>IMDP</td><td>DATABASE_PRINCIPAL_IMPERSONATION_GROUP</td><td>SERVER</td><td>NULL</td><td>NULL</td><td>NULL</td><td>Group</td><td>DATABASE_PRINCIPAL_IMPERSONATION_GROUP</td><td>0</td></tr>",
                            "<tr><td>[dm_audit_actions]</td><td>TODO</td><td>DATABASE_OBJECT_OWNERSHIP_CHANGE_GROUP</td><td>SERVER</td><td>NULL</td><td>NULL</td><td>NULL</td><td>Group</td><td>DATABASE_OBJECT_OWNERSHIP_CHANGE_GROUP</td><td>0</td></tr>",
                            "<tr><td>[dm_audit_actions]</td><td>TODB</td><td>DATABASE_OWNERSHIP_CHANGE_GROUP</td><td>SERVER</td><td>NULL</td><td>NULL</td><td>NULL</td><td>Group</td><td>DATABASE_OWNERSHIP_CHANGE_GROUP</td><td>0</td></tr>",
                            "<tr><td>[dm_audit_actions]</td><td>TOO </td><td>SCHEMA_OBJECT_OWNERSHIP_CHANGE_GROUP</td><td>SERVER</td><td>NULL</td><td>NULL</td><td>NULL</td><td>Group</td><td>SCHEMA_OBJECT_OWNERSHIP_CHANGE_GROUP</td><td>0</td></tr>",
                            "<tr><td>[dm_audit_actions]</td><td>GRDO</td><td>DATABASE_OBJECT_PERMISSION_CHANGE_GROUP</td><td>SERVER</td><td>NULL</td><td>NULL</td><td>NULL</td><td>Group</td><td>DATABASE_OBJECT_PERMISSION_CHANGE_GROUP</td><td>0</td></tr>",
                            "<tr><td>[dm_audit_actions]</td><td>OPDB</td><td>DATABASE_OPERATION_GROUP</td><td>SERVER</td><td>NULL</td><td>NULL</td><td>NULL</td><td>Group</td><td>DATABASE_OPERATION_GROUP</td><td>0</td></tr>",
                            "<tr><td>[dm_audit_actions]</td><td>ACDO</td><td>DATABASE_OBJECT_ACCESS_GROUP</td><td>SERVER</td><td>NULL</td><td>NULL</td><td>NULL</td><td>Group</td><td>DATABASE_OBJECT_ACCESS_GROUP</td><td>0</td></tr>",
                            "<tr><td>[dm_audit_actions]</td><td>DAGS</td><td>SUCCESSFUL_DATABASE_AUTHENTICATION_GROUP</td><td>SERVER</td><td>NULL</td><td>NULL</td><td>NULL</td><td>Group</td><td>SUCCESSFUL_DATABASE_AUTHENTICATION_GROUP</td><td>0</td></tr>",
                            "<tr><td>[dm_audit_actions]</td><td>DAGF</td><td>FAILED_DATABASE_AUTHENTICATION_GROUP</td><td>SERVER</td><td>NULL</td><td>NULL</td><td>NULL</td><td>Group</td><td>FAILED_DATABASE_AUTHENTICATION_GROUP</td><td>0</td></tr>",
                            "<tr><td>[dm_audit_actions]</td><td>DAGL</td><td>DATABASE_LOGOUT_GROUP</td><td>SERVER</td><td>NULL</td><td>NULL</td><td>NULL</td><td>Group</td><td>DATABASE_LOGOUT_GROUP</td><td>0</td></tr>",
                            "<tr><td>[dm_audit_actions]</td><td>UCGP</td><td>USER_CHANGE_PASSWORD_GROUP</td><td>SERVER</td><td>NULL</td><td>NULL</td><td>NULL</td><td>Group</td><td>USER_CHANGE_PASSWORD_GROUP</td><td>0</td></tr>",
                            "<tr><td>[dm_audit_actions]</td><td>UDAG</td><td>USER_DEFINED_AUDIT_GROUP</td><td>SERVER</td><td>NULL</td><td>NULL</td><td>NULL</td><td>Group</td><td>USER_DEFINED_AUDIT_GROUP</td><td>0</td></tr>",
                            "<tr><td>[dm_audit_actions]</td><td>BSTG</td><td>BATCH_STARTED_GROUP</td><td>SERVER</td><td>NULL</td><td>NULL</td><td>NULL</td><td>Group</td><td>BATCH_STARTED_GROUP</td><td>0</td></tr>",
                            "<tr><td>[dm_audit_actions]</td><td>BCMG</td><td>BATCH_COMPLETED_GROUP</td><td>SERVER</td><td>NULL</td><td>NULL</td><td>NULL</td><td>Group</td><td>BATCH_COMPLETED_GROUP</td><td>0</td></tr>",
                            "<tr><td>[dm_audit_actions]</td><td>TXGG</td><td>TRANSACTION_BEGIN_GROUP</td><td>SERVER</td><td>TRANSACTION_GROUP</td><td>NULL</td><td>NULL</td><td>Group</td><td>TRANSACTION_BEGIN_GROUP</td><td>0</td></tr>",
                            "<tr><td>[dm_audit_actions]</td><td>TXCG</td><td>TRANSACTION_COMMIT_GROUP</td><td>SERVER</td><td>TRANSACTION_GROUP</td><td>NULL</td><td>NULL</td><td>Group</td><td>TRANSACTION_COMMIT_GROUP</td><td>0</td></tr>",
                            "<tr><td>[dm_audit_actions]</td><td>TXRG</td><td>TRANSACTION_ROLLBACK_GROUP</td><td>SERVER</td><td>TRANSACTION_GROUP</td><td>NULL</td><td>NULL</td><td>Group</td><td>TRANSACTION_ROLLBACK_GROUP</td><td>0</td></tr>",
                            "<tr><td>[dm_audit_actions]</td><td>UNDG</td><td>STATEMENT_ROLLBACK_GROUP</td><td>SERVER</td><td>TRANSACTION_GROUP</td><td>NULL</td><td>NULL</td><td>Group</td><td>STATEMENT_ROLLBACK_GROUP</td><td>0</td></tr>",
                            "<tr><td>[dm_audit_actions]</td><td>TX  </td><td>TRANSACTION_GROUP</td><td>SERVER</td><td>NULL</td><td>NULL</td><td>NULL</td><td>Group</td><td>TRANSACTION_GROUP</td><td>0</td></tr>",
                            "<tr><td>[dm_audit_actions]</td><td>SCCG</td><td>SENSITIVITY_CLASSIFICATION_CHANGE_GROUP</td><td>SERVER</td><td>NULL</td><td>NULL</td><td>NULL</td><td>Group</td><td>SENSITIVITY_CLASSIFICATION_CHANGE_GROUP</td><td>0</td></tr>",
                            "<tr><td>[dm_audit_actions]</td><td>FRCG</td><td>FEATURE_RESTRICTION_CHANGE_GROUP</td><td>SERVER</td><td>NULL</td><td>NULL</td><td>NULL</td><td>Group</td><td>FEATURE_RESTRICTION_CHANGE_GROUP</td><td>0</td></tr>",
                            "<tr><td>[dm_audit_actions]</td><td>IMP </td><td>IMPERSONATE</td><td>LOGIN</td><td>NULL</td><td>SERVER</td><td>SERVER_PRINCIPAL_IMPERSONATION_GROUP</td><td>NULL</td><td>SERVER_PRINCIPAL_IMPERSONATION_GROUP</td><td>1</td></tr>",
                            "<tr><td>[dm_audit_actions]</td><td>LGIS</td><td>LOGIN SUCCEEDED</td><td>LOGIN</td><td>NULL</td><td>SERVER</td><td>SUCCESSFUL_LOGIN_GROUP</td><td>NULL</td><td>SUCCESSFUL_LOGIN_GROUP</td><td>1</td></tr>",
                            "<tr><td>[dm_audit_actions]</td><td>LGIF</td><td>LOGIN FAILED</td><td>LOGIN</td><td>NULL</td><td>SERVER</td><td>FAILED_LOGIN_GROUP</td><td>NULL</td><td>FAILED_LOGIN_GROUP</td><td>1</td></tr>",
                            "<tr><td>[dm_audit_actions]</td><td>LGO </td><td>LOGOUT</td><td>LOGIN</td><td>NULL</td><td>SERVER</td><td>LOGOUT_GROUP</td><td>NULL</td><td>LOGOUT_GROUP</td><td>1</td></tr>",
                            "<tr><td>[dm_audit_actions]</td><td>LGB </td><td>BROKER LOGIN</td><td>SERVER</td><td>BROKER_LOGIN_GROUP</td><td>NULL</td><td>NULL</td><td>NULL</td><td>BROKER_LOGIN_GROUP</td><td>1</td></tr>",
                            "<tr><td>[dm_audit_actions]</td><td>LGM </td><td>DATABASE MIRRORING LOGIN</td><td>SERVER</td><td>DATABASE_MIRRORING_LOGIN_GROUP</td><td>NULL</td><td>NULL</td><td>NULL</td><td>DATABASE_MIRRORING_LOGIN_GROUP</td><td>1</td></tr>",
                            "<tr><td>[dm_audit_actions]</td><td>LGG </td><td>GLOBAL TRANSACTIONS LOGIN</td><td>SERVER</td><td>GLOBAL_TRANSACTIONS_LOGIN_GROUP</td><td>NULL</td><td>NULL</td><td>NULL</td><td>GLOBAL_TRANSACTIONS_LOGIN_GROUP</td><td>1</td></tr>",
                            "<tr><td>[dm_audit_actions]</td><td>LGS </td><td>STORAGE LOGIN</td><td>SERVER</td><td>STORAGE_LOGIN_GROUP</td><td>NULL</td><td>NULL</td><td>NULL</td><td>STORAGE_LOGIN_GROUP</td><td>1</td></tr>",
                            "<tr><td>[dm_audit_actions]</td><td>FT  </td><td>FULLTEXT</td><td>SERVER</td><td>FULLTEXT_GROUP</td><td>NULL</td><td>NULL</td><td>NULL</td><td>FULLTEXT_GROUP</td><td>1</td></tr>",
                            "<tr><td>[dm_audit_actions]</td><td>AUSC</td><td>AUDIT SESSION CHANGED</td><td>SERVER AUDIT</td><td>NULL</td><td>SERVER</td><td>NULL</td><td>NULL</td><td>NULL</td><td>1</td></tr>",
                            "</table>"
                        ]
                    }
                }
            ],
            "execution_count": 25
        },
        {
            "cell_type": "code",
            "source": [
                "/* Returns a table that maps the class_type field in the audit log to the class_desc field in sys.dm_audit_actions  */\r\n",
                "SELECT TOP 1000 \r\n",
                "\t'[dm_audit_class_type_map]' AS TableName\r\n",
                "\t,[class_type]\r\n",
                "\t,[class_type_desc]\r\n",
                "\t,[securable_class_desc]\r\n",
                "FROM [master].[sys].[dm_audit_class_type_map]\r\n",
                ""
            ],
            "metadata": {
                "azdata_cell_guid": "5b58d80a-e10d-4b9c-b4c5-52be20bacc01"
            },
            "outputs": [
                {
                    "output_type": "display_data",
                    "data": {
                        "text/html": "(105 rows affected)"
                    },
                    "metadata": {}
                },
                {
                    "output_type": "display_data",
                    "data": {
                        "text/html": "Total execution time: 00:00:00.018"
                    },
                    "metadata": {}
                },
                {
                    "output_type": "execute_result",
                    "metadata": {},
                    "execution_count": 24,
                    "data": {
                        "application/vnd.dataresource+json": {
                            "schema": {
                                "fields": [
                                    {
                                        "name": "TableName"
                                    },
                                    {
                                        "name": "class_type"
                                    },
                                    {
                                        "name": "class_type_desc"
                                    },
                                    {
                                        "name": "securable_class_desc"
                                    }
                                ]
                            },
                            "data": [
                                {
                                    "0": "[dm_audit_class_type_map]",
                                    "1": "DB",
                                    "2": "DATABASE",
                                    "3": "DATABASE"
                                },
                                {
                                    "0": "[dm_audit_class_type_map]",
                                    "1": "OB",
                                    "2": "OBJECT",
                                    "3": "OBJECT"
                                },
                                {
                                    "0": "[dm_audit_class_type_map]",
                                    "1": "TY",
                                    "2": "TYPE",
                                    "3": "TYPE"
                                },
                                {
                                    "0": "[dm_audit_class_type_map]",
                                    "1": "SC",
                                    "2": "SCHEMA",
                                    "3": "SCHEMA"
                                },
                                {
                                    "0": "[dm_audit_class_type_map]",
                                    "1": "SX",
                                    "2": "XML SCHEMA COLLECTION",
                                    "3": "XML SCHEMA COLLECTION"
                                },
                                {
                                    "0": "[dm_audit_class_type_map]",
                                    "1": "AS",
                                    "2": "ASSEMBLY",
                                    "3": "ASSEMBLY"
                                },
                                {
                                    "0": "[dm_audit_class_type_map]",
                                    "1": "US",
                                    "2": "USER",
                                    "3": "USER"
                                },
                                {
                                    "0": "[dm_audit_class_type_map]",
                                    "1": "RL",
                                    "2": "ROLE",
                                    "3": "ROLE"
                                },
                                {
                                    "0": "[dm_audit_class_type_map]",
                                    "1": "AR",
                                    "2": "APPLICATION ROLE",
                                    "3": "APPLICATION ROLE"
                                },
                                {
                                    "0": "[dm_audit_class_type_map]",
                                    "1": "MT",
                                    "2": "MESSAGE TYPE",
                                    "3": "MESSAGE TYPE"
                                },
                                {
                                    "0": "[dm_audit_class_type_map]",
                                    "1": "CT",
                                    "2": "CONTRACT",
                                    "3": "CONTRACT"
                                },
                                {
                                    "0": "[dm_audit_class_type_map]",
                                    "1": "SV",
                                    "2": "SERVICE",
                                    "3": "SERVICE"
                                },
                                {
                                    "0": "[dm_audit_class_type_map]",
                                    "1": "BN",
                                    "2": "REMOTE SERVICE BINDING",
                                    "3": "REMOTE SERVICE BINDING"
                                },
                                {
                                    "0": "[dm_audit_class_type_map]",
                                    "1": "RT",
                                    "2": "ROUTE",
                                    "3": "ROUTE"
                                },
                                {
                                    "0": "[dm_audit_class_type_map]",
                                    "1": "FC",
                                    "2": "FULLTEXT CATALOG",
                                    "3": "FULLTEXT CATALOG"
                                },
                                {
                                    "0": "[dm_audit_class_type_map]",
                                    "1": "FL",
                                    "2": "FULLTEXT STOPLIST",
                                    "3": "FULLTEXT STOPLIST"
                                },
                                {
                                    "0": "[dm_audit_class_type_map]",
                                    "1": "FP",
                                    "2": "SEARCH PROPERTY LIST",
                                    "3": "SEARCH PROPERTY LIST"
                                },
                                {
                                    "0": "[dm_audit_class_type_map]",
                                    "1": "SK",
                                    "2": "SYMMETRIC KEY",
                                    "3": "SYMMETRIC KEY"
                                },
                                {
                                    "0": "[dm_audit_class_type_map]",
                                    "1": "CR",
                                    "2": "CERTIFICATE",
                                    "3": "CERTIFICATE"
                                },
                                {
                                    "0": "[dm_audit_class_type_map]",
                                    "1": "AK",
                                    "2": "ASYMMETRIC KEY",
                                    "3": "ASYMMETRIC KEY"
                                },
                                {
                                    "0": "[dm_audit_class_type_map]",
                                    "1": "DC",
                                    "2": "DATABASE SCOPED CREDENTIAL",
                                    "3": "DATABASE SCOPED CREDENTIAL"
                                },
                                {
                                    "0": "[dm_audit_class_type_map]",
                                    "1": "EL",
                                    "2": "EXTERNAL LIBRARY",
                                    "3": "EXTERNAL LIBRARY"
                                },
                                {
                                    "0": "[dm_audit_class_type_map]",
                                    "1": "LA",
                                    "2": "EXTERNAL LANGUAGE",
                                    "3": "EXTERNAL LANGUAGE"
                                },
                                {
                                    "0": "[dm_audit_class_type_map]",
                                    "1": "SR",
                                    "2": "SERVER",
                                    "3": "SERVER"
                                },
                                {
                                    "0": "[dm_audit_class_type_map]",
                                    "1": "EP",
                                    "2": "ENDPOINT",
                                    "3": "ENDPOINT"
                                },
                                {
                                    "0": "[dm_audit_class_type_map]",
                                    "1": "SG",
                                    "2": "SERVER ROLE",
                                    "3": "SERVER ROLE"
                                },
                                {
                                    "0": "[dm_audit_class_type_map]",
                                    "1": "AG",
                                    "2": "AVAILABILITY GROUP",
                                    "3": "AVAILABILITY GROUP"
                                },
                                {
                                    "0": "[dm_audit_class_type_map]",
                                    "1": "LX",
                                    "2": "LOGIN",
                                    "3": "LOGIN"
                                },
                                {
                                    "0": "[dm_audit_class_type_map]",
                                    "1": "CK",
                                    "2": "COLUMN ENCRYPTION KEY",
                                    "3": "DATABASE"
                                },
                                {
                                    "0": "[dm_audit_class_type_map]",
                                    "1": "CM",
                                    "2": "COLUMN MASTER KEY",
                                    "3": "DATABASE"
                                },
                                {
                                    "0": "[dm_audit_class_type_map]",
                                    "1": "DA",
                                    "2": "DATABASE AUDIT SPECIFICATION",
                                    "3": "DATABASE"
                                },
                                {
                                    "0": "[dm_audit_class_type_map]",
                                    "1": "DU",
                                    "2": "AUDIT",
                                    "3": "DATABASE"
                                },
                                {
                                    "0": "[dm_audit_class_type_map]",
                                    "1": "DS",
                                    "2": "DATABASE SCOPED CONFIGURATION",
                                    "3": "DATABASE"
                                },
                                {
                                    "0": "[dm_audit_class_type_map]",
                                    "1": "DR",
                                    "2": "DATABASE SCOPED RESOURCE GOVERNOR",
                                    "3": "DATABASE"
                                },
                                {
                                    "0": "[dm_audit_class_type_map]",
                                    "1": "DN",
                                    "2": "EVENT NOTIFICATION DATABASE",
                                    "3": "DATABASE"
                                },
                                {
                                    "0": "[dm_audit_class_type_map]",
                                    "1": "DT",
                                    "2": "TRIGGER DATABASE",
                                    "3": "DATABASE"
                                },
                                {
                                    "0": "[dm_audit_class_type_map]",
                                    "1": "MK",
                                    "2": "MASTER KEY",
                                    "3": "DATABASE"
                                },
                                {
                                    "0": "[dm_audit_class_type_map]",
                                    "1": "DK",
                                    "2": "DATABASE ENCRYPTION KEY",
                                    "3": "DATABASE"
                                },
                                {
                                    "0": "[dm_audit_class_type_map]",
                                    "1": "ON",
                                    "2": "EVENT NOTIFICATION OBJECT",
                                    "3": "DATABASE"
                                },
                                {
                                    "0": "[dm_audit_class_type_map]",
                                    "1": "PF",
                                    "2": "PARTITION FUNCTION",
                                    "3": "DATABASE"
                                },
                                {
                                    "0": "[dm_audit_class_type_map]",
                                    "1": "PR",
                                    "2": "BROKER PRIORITY",
                                    "3": "DATABASE"
                                },
                                {
                                    "0": "[dm_audit_class_type_map]",
                                    "1": "PS",
                                    "2": "PARTITION SCHEME",
                                    "3": "DATABASE"
                                },
                                {
                                    "0": "[dm_audit_class_type_map]",
                                    "1": "DE",
                                    "2": "DATABASE EVENT SESSION",
                                    "3": "DATABASE"
                                },
                                {
                                    "0": "[dm_audit_class_type_map]",
                                    "1": "AQ",
                                    "2": "ADHOC QUERY",
                                    "3": "OBJECT"
                                },
                                {
                                    "0": "[dm_audit_class_type_map]",
                                    "1": "AF",
                                    "2": "AGGREGATE",
                                    "3": "OBJECT"
                                },
                                {
                                    "0": "[dm_audit_class_type_map]",
                                    "1": "AP",
                                    "2": "Undocumented",
                                    "3": "OBJECT"
                                },
                                {
                                    "0": "[dm_audit_class_type_map]",
                                    "1": "C ",
                                    "2": "CHECK CONSTRAINT",
                                    "3": "OBJECT"
                                },
                                {
                                    "0": "[dm_audit_class_type_map]",
                                    "1": "D ",
                                    "2": "DEFAULT",
                                    "3": "OBJECT"
                                },
                                {
                                    "0": "[dm_audit_class_type_map]",
                                    "1": "EC",
                                    "2": "EDGE CONSTRAINT",
                                    "3": "OBJECT"
                                },
                                {
                                    "0": "[dm_audit_class_type_map]",
                                    "1": "EN",
                                    "2": "EVENT NOTIFICATION",
                                    "3": "OBJECT"
                                },
                                {
                                    "0": "[dm_audit_class_type_map]",
                                    "1": "F ",
                                    "2": "FOREIGN KEY CONSTRAINT",
                                    "3": "OBJECT"
                                },
                                {
                                    "0": "[dm_audit_class_type_map]",
                                    "1": "FS",
                                    "2": "FUNCTION SCALAR ASSEMBLY ",
                                    "3": "OBJECT"
                                },
                                {
                                    "0": "[dm_audit_class_type_map]",
                                    "1": "FT",
                                    "2": "FUNCTION TABLE-VALUED ASSEMBLY ",
                                    "3": "OBJECT"
                                },
                                {
                                    "0": "[dm_audit_class_type_map]",
                                    "1": "FN",
                                    "2": "FUNCTION SCALAR SQL",
                                    "3": "OBJECT"
                                },
                                {
                                    "0": "[dm_audit_class_type_map]",
                                    "1": "IX",
                                    "2": "INDEX",
                                    "3": "OBJECT"
                                },
                                {
                                    "0": "[dm_audit_class_type_map]",
                                    "1": "IF",
                                    "2": "FUNCTION TABLE-VALUED INLINE SQL",
                                    "3": "OBJECT"
                                },
                                {
                                    "0": "[dm_audit_class_type_map]",
                                    "1": "IS",
                                    "2": "FUNCTION SCALAR INLINE SQL ",
                                    "3": "OBJECT"
                                },
                                {
                                    "0": "[dm_audit_class_type_map]",
                                    "1": "IT",
                                    "2": "INTERNAL TABLE",
                                    "3": "OBJECT"
                                },
                                {
                                    "0": "[dm_audit_class_type_map]",
                                    "1": "PQ",
                                    "2": "PREPARED ADHOC QUERY",
                                    "3": "OBJECT"
                                },
                                {
                                    "0": "[dm_audit_class_type_map]",
                                    "1": "PK",
                                    "2": "PRIMARY KEY",
                                    "3": "OBJECT"
                                },
                                {
                                    "0": "[dm_audit_class_type_map]",
                                    "1": "P ",
                                    "2": "STORED PROCEDURE",
                                    "3": "OBJECT"
                                },
                                {
                                    "0": "[dm_audit_class_type_map]",
                                    "1": "PC",
                                    "2": "STORED PROCEDURE ASSEMBLY",
                                    "3": "OBJECT"
                                },
                                {
                                    "0": "[dm_audit_class_type_map]",
                                    "1": "RF",
                                    "2": "STORED PROCEDURE REPLICATION FILTER",
                                    "3": "OBJECT"
                                },
                                {
                                    "0": "[dm_audit_class_type_map]",
                                    "1": "R ",
                                    "2": "RULE",
                                    "3": "OBJECT"
                                },
                                {
                                    "0": "[dm_audit_class_type_map]",
                                    "1": "SP",
                                    "2": "SECURITY POLICY",
                                    "3": "OBJECT"
                                },
                                {
                                    "0": "[dm_audit_class_type_map]",
                                    "1": "SO",
                                    "2": "SEQUENCE OBJECT",
                                    "3": "OBJECT"
                                },
                                {
                                    "0": "[dm_audit_class_type_map]",
                                    "1": "ST",
                                    "2": "STATISTICS",
                                    "3": "OBJECT"
                                },
                                {
                                    "0": "[dm_audit_class_type_map]",
                                    "1": "SQ",
                                    "2": "QUEUE",
                                    "3": "OBJECT"
                                },
                                {
                                    "0": "[dm_audit_class_type_map]",
                                    "1": "SN",
                                    "2": "SYNONYM",
                                    "3": "OBJECT"
                                },
                                {
                                    "0": "[dm_audit_class_type_map]",
                                    "1": "S ",
                                    "2": "TABLE SYSTEM",
                                    "3": "OBJECT"
                                },
                                {
                                    "0": "[dm_audit_class_type_map]",
                                    "1": "TF",
                                    "2": "FUNCTION TABLE-VALUED SQL",
                                    "3": "OBJECT"
                                },
                                {
                                    "0": "[dm_audit_class_type_map]",
                                    "1": "TA",
                                    "2": "TRIGGER ASSEMBLY",
                                    "3": "OBJECT"
                                },
                                {
                                    "0": "[dm_audit_class_type_map]",
                                    "1": "TR",
                                    "2": "TRIGGER",
                                    "3": "OBJECT"
                                },
                                {
                                    "0": "[dm_audit_class_type_map]",
                                    "1": "UQ",
                                    "2": "UNIQUE CONSTRAINT",
                                    "3": "OBJECT"
                                },
                                {
                                    "0": "[dm_audit_class_type_map]",
                                    "1": "U ",
                                    "2": "TABLE",
                                    "3": "OBJECT"
                                },
                                {
                                    "0": "[dm_audit_class_type_map]",
                                    "1": "V ",
                                    "2": "VIEW",
                                    "3": "OBJECT"
                                },
                                {
                                    "0": "[dm_audit_class_type_map]",
                                    "1": "X ",
                                    "2": "STORED PROCEDURE EXTENDED",
                                    "3": "OBJECT"
                                },
                                {
                                    "0": "[dm_audit_class_type_map]",
                                    "1": "XR",
                                    "2": "XREL TREE",
                                    "3": "OBJECT"
                                },
                                {
                                    "0": "[dm_audit_class_type_map]",
                                    "1": "AU",
                                    "2": "ASYMMETRIC KEY USER",
                                    "3": "USER"
                                },
                                {
                                    "0": "[dm_audit_class_type_map]",
                                    "1": "CU",
                                    "2": "CERTIFICATE USER",
                                    "3": "USER"
                                },
                                {
                                    "0": "[dm_audit_class_type_map]",
                                    "1": "GU",
                                    "2": "GROUP USER",
                                    "3": "USER"
                                },
                                {
                                    "0": "[dm_audit_class_type_map]",
                                    "1": "SU",
                                    "2": "SQL USER",
                                    "3": "USER"
                                },
                                {
                                    "0": "[dm_audit_class_type_map]",
                                    "1": "WU",
                                    "2": "WINDOWS USER",
                                    "3": "USER"
                                },
                                {
                                    "0": "[dm_audit_class_type_map]",
                                    "1": "XU",
                                    "2": "EXTERNAL USER",
                                    "3": "USER"
                                },
                                {
                                    "0": "[dm_audit_class_type_map]",
                                    "1": "PU",
                                    "2": "EXTERNAL GROUP USER",
                                    "3": "USER"
                                },
                                {
                                    "0": "[dm_audit_class_type_map]",
                                    "1": "A ",
                                    "2": "SERVER AUDIT",
                                    "3": "SERVER"
                                },
                                {
                                    "0": "[dm_audit_class_type_map]",
                                    "1": "CD",
                                    "2": "CREDENTIAL",
                                    "3": "SERVER"
                                },
                                {
                                    "0": "[dm_audit_class_type_map]",
                                    "1": "CP",
                                    "2": "CRYPTOGRAPHIC PROVIDER",
                                    "3": "SERVER"
                                },
                                {
                                    "0": "[dm_audit_class_type_map]",
                                    "1": "ED",
                                    "2": "EXTERNAL DATA SOURCE",
                                    "3": "DATABASE"
                                },
                                {
                                    "0": "[dm_audit_class_type_map]",
                                    "1": "EF",
                                    "2": "EXTERNAL FILE FORMAT",
                                    "3": "DATABASE"
                                },
                                {
                                    "0": "[dm_audit_class_type_map]",
                                    "1": "RG",
                                    "2": "RESOURCE GOVERNOR",
                                    "3": "SERVER"
                                },
                                {
                                    "0": "[dm_audit_class_type_map]",
                                    "1": "SA",
                                    "2": "SERVER AUDIT SPECIFICATION",
                                    "3": "SERVER"
                                },
                                {
                                    "0": "[dm_audit_class_type_map]",
                                    "1": "SD",
                                    "2": "EVENT NOTIFICATION SERVER",
                                    "3": "SERVER"
                                },
                                {
                                    "0": "[dm_audit_class_type_map]",
                                    "1": "T ",
                                    "2": "TRIGGER SERVER",
                                    "3": "SERVER"
                                },
                                {
                                    "0": "[dm_audit_class_type_map]",
                                    "1": "SE",
                                    "2": "EVENT SESSION",
                                    "3": "SERVER"
                                },
                                {
                                    "0": "[dm_audit_class_type_map]",
                                    "1": "CO",
                                    "2": "SERVER CONFIG",
                                    "3": "SERVER"
                                },
                                {
                                    "0": "[dm_audit_class_type_map]",
                                    "1": "AL",
                                    "2": "ASYMMETRIC KEY LOGIN",
                                    "3": "LOGIN"
                                },
                                {
                                    "0": "[dm_audit_class_type_map]",
                                    "1": "CL",
                                    "2": "CERTIFICATE LOGIN",
                                    "3": "LOGIN"
                                },
                                {
                                    "0": "[dm_audit_class_type_map]",
                                    "1": "SL",
                                    "2": "SQL LOGIN",
                                    "3": "LOGIN"
                                },
                                {
                                    "0": "[dm_audit_class_type_map]",
                                    "1": "WG",
                                    "2": "WINDOWS GROUP",
                                    "3": "LOGIN"
                                },
                                {
                                    "0": "[dm_audit_class_type_map]",
                                    "1": "WL",
                                    "2": "WINDOWS LOGIN",
                                    "3": "LOGIN"
                                },
                                {
                                    "0": "[dm_audit_class_type_map]",
                                    "1": "ER",
                                    "2": "EXTERNAL RESOURCE POOL",
                                    "3": "SERVER"
                                },
                                {
                                    "0": "[dm_audit_class_type_map]",
                                    "1": "EX",
                                    "2": "EXTERNAL SCRIPT QUERY",
                                    "3": "OBJECT"
                                },
                                {
                                    "0": "[dm_audit_class_type_map]",
                                    "1": "PL",
                                    "2": "EXTERNAL GROUP LOGIN",
                                    "3": "LOGIN"
                                },
                                {
                                    "0": "[dm_audit_class_type_map]",
                                    "1": "XL",
                                    "2": "EXTERNAL LOGIN",
                                    "3": "LOGIN"
                                }
                            ]
                        },
                        "text/html": [
                            "<table>",
                            "<tr><th>TableName</th><th>class_type</th><th>class_type_desc</th><th>securable_class_desc</th></tr>",
                            "<tr><td>[dm_audit_class_type_map]</td><td>DB</td><td>DATABASE</td><td>DATABASE</td></tr>",
                            "<tr><td>[dm_audit_class_type_map]</td><td>OB</td><td>OBJECT</td><td>OBJECT</td></tr>",
                            "<tr><td>[dm_audit_class_type_map]</td><td>TY</td><td>TYPE</td><td>TYPE</td></tr>",
                            "<tr><td>[dm_audit_class_type_map]</td><td>SC</td><td>SCHEMA</td><td>SCHEMA</td></tr>",
                            "<tr><td>[dm_audit_class_type_map]</td><td>SX</td><td>XML SCHEMA COLLECTION</td><td>XML SCHEMA COLLECTION</td></tr>",
                            "<tr><td>[dm_audit_class_type_map]</td><td>AS</td><td>ASSEMBLY</td><td>ASSEMBLY</td></tr>",
                            "<tr><td>[dm_audit_class_type_map]</td><td>US</td><td>USER</td><td>USER</td></tr>",
                            "<tr><td>[dm_audit_class_type_map]</td><td>RL</td><td>ROLE</td><td>ROLE</td></tr>",
                            "<tr><td>[dm_audit_class_type_map]</td><td>AR</td><td>APPLICATION ROLE</td><td>APPLICATION ROLE</td></tr>",
                            "<tr><td>[dm_audit_class_type_map]</td><td>MT</td><td>MESSAGE TYPE</td><td>MESSAGE TYPE</td></tr>",
                            "<tr><td>[dm_audit_class_type_map]</td><td>CT</td><td>CONTRACT</td><td>CONTRACT</td></tr>",
                            "<tr><td>[dm_audit_class_type_map]</td><td>SV</td><td>SERVICE</td><td>SERVICE</td></tr>",
                            "<tr><td>[dm_audit_class_type_map]</td><td>BN</td><td>REMOTE SERVICE BINDING</td><td>REMOTE SERVICE BINDING</td></tr>",
                            "<tr><td>[dm_audit_class_type_map]</td><td>RT</td><td>ROUTE</td><td>ROUTE</td></tr>",
                            "<tr><td>[dm_audit_class_type_map]</td><td>FC</td><td>FULLTEXT CATALOG</td><td>FULLTEXT CATALOG</td></tr>",
                            "<tr><td>[dm_audit_class_type_map]</td><td>FL</td><td>FULLTEXT STOPLIST</td><td>FULLTEXT STOPLIST</td></tr>",
                            "<tr><td>[dm_audit_class_type_map]</td><td>FP</td><td>SEARCH PROPERTY LIST</td><td>SEARCH PROPERTY LIST</td></tr>",
                            "<tr><td>[dm_audit_class_type_map]</td><td>SK</td><td>SYMMETRIC KEY</td><td>SYMMETRIC KEY</td></tr>",
                            "<tr><td>[dm_audit_class_type_map]</td><td>CR</td><td>CERTIFICATE</td><td>CERTIFICATE</td></tr>",
                            "<tr><td>[dm_audit_class_type_map]</td><td>AK</td><td>ASYMMETRIC KEY</td><td>ASYMMETRIC KEY</td></tr>",
                            "<tr><td>[dm_audit_class_type_map]</td><td>DC</td><td>DATABASE SCOPED CREDENTIAL</td><td>DATABASE SCOPED CREDENTIAL</td></tr>",
                            "<tr><td>[dm_audit_class_type_map]</td><td>EL</td><td>EXTERNAL LIBRARY</td><td>EXTERNAL LIBRARY</td></tr>",
                            "<tr><td>[dm_audit_class_type_map]</td><td>LA</td><td>EXTERNAL LANGUAGE</td><td>EXTERNAL LANGUAGE</td></tr>",
                            "<tr><td>[dm_audit_class_type_map]</td><td>SR</td><td>SERVER</td><td>SERVER</td></tr>",
                            "<tr><td>[dm_audit_class_type_map]</td><td>EP</td><td>ENDPOINT</td><td>ENDPOINT</td></tr>",
                            "<tr><td>[dm_audit_class_type_map]</td><td>SG</td><td>SERVER ROLE</td><td>SERVER ROLE</td></tr>",
                            "<tr><td>[dm_audit_class_type_map]</td><td>AG</td><td>AVAILABILITY GROUP</td><td>AVAILABILITY GROUP</td></tr>",
                            "<tr><td>[dm_audit_class_type_map]</td><td>LX</td><td>LOGIN</td><td>LOGIN</td></tr>",
                            "<tr><td>[dm_audit_class_type_map]</td><td>CK</td><td>COLUMN ENCRYPTION KEY</td><td>DATABASE</td></tr>",
                            "<tr><td>[dm_audit_class_type_map]</td><td>CM</td><td>COLUMN MASTER KEY</td><td>DATABASE</td></tr>",
                            "<tr><td>[dm_audit_class_type_map]</td><td>DA</td><td>DATABASE AUDIT SPECIFICATION</td><td>DATABASE</td></tr>",
                            "<tr><td>[dm_audit_class_type_map]</td><td>DU</td><td>AUDIT</td><td>DATABASE</td></tr>",
                            "<tr><td>[dm_audit_class_type_map]</td><td>DS</td><td>DATABASE SCOPED CONFIGURATION</td><td>DATABASE</td></tr>",
                            "<tr><td>[dm_audit_class_type_map]</td><td>DR</td><td>DATABASE SCOPED RESOURCE GOVERNOR</td><td>DATABASE</td></tr>",
                            "<tr><td>[dm_audit_class_type_map]</td><td>DN</td><td>EVENT NOTIFICATION DATABASE</td><td>DATABASE</td></tr>",
                            "<tr><td>[dm_audit_class_type_map]</td><td>DT</td><td>TRIGGER DATABASE</td><td>DATABASE</td></tr>",
                            "<tr><td>[dm_audit_class_type_map]</td><td>MK</td><td>MASTER KEY</td><td>DATABASE</td></tr>",
                            "<tr><td>[dm_audit_class_type_map]</td><td>DK</td><td>DATABASE ENCRYPTION KEY</td><td>DATABASE</td></tr>",
                            "<tr><td>[dm_audit_class_type_map]</td><td>ON</td><td>EVENT NOTIFICATION OBJECT</td><td>DATABASE</td></tr>",
                            "<tr><td>[dm_audit_class_type_map]</td><td>PF</td><td>PARTITION FUNCTION</td><td>DATABASE</td></tr>",
                            "<tr><td>[dm_audit_class_type_map]</td><td>PR</td><td>BROKER PRIORITY</td><td>DATABASE</td></tr>",
                            "<tr><td>[dm_audit_class_type_map]</td><td>PS</td><td>PARTITION SCHEME</td><td>DATABASE</td></tr>",
                            "<tr><td>[dm_audit_class_type_map]</td><td>DE</td><td>DATABASE EVENT SESSION</td><td>DATABASE</td></tr>",
                            "<tr><td>[dm_audit_class_type_map]</td><td>AQ</td><td>ADHOC QUERY</td><td>OBJECT</td></tr>",
                            "<tr><td>[dm_audit_class_type_map]</td><td>AF</td><td>AGGREGATE</td><td>OBJECT</td></tr>",
                            "<tr><td>[dm_audit_class_type_map]</td><td>AP</td><td>Undocumented</td><td>OBJECT</td></tr>",
                            "<tr><td>[dm_audit_class_type_map]</td><td>C </td><td>CHECK CONSTRAINT</td><td>OBJECT</td></tr>",
                            "<tr><td>[dm_audit_class_type_map]</td><td>D </td><td>DEFAULT</td><td>OBJECT</td></tr>",
                            "<tr><td>[dm_audit_class_type_map]</td><td>EC</td><td>EDGE CONSTRAINT</td><td>OBJECT</td></tr>",
                            "<tr><td>[dm_audit_class_type_map]</td><td>EN</td><td>EVENT NOTIFICATION</td><td>OBJECT</td></tr>",
                            "<tr><td>[dm_audit_class_type_map]</td><td>F </td><td>FOREIGN KEY CONSTRAINT</td><td>OBJECT</td></tr>",
                            "<tr><td>[dm_audit_class_type_map]</td><td>FS</td><td>FUNCTION SCALAR ASSEMBLY </td><td>OBJECT</td></tr>",
                            "<tr><td>[dm_audit_class_type_map]</td><td>FT</td><td>FUNCTION TABLE-VALUED ASSEMBLY </td><td>OBJECT</td></tr>",
                            "<tr><td>[dm_audit_class_type_map]</td><td>FN</td><td>FUNCTION SCALAR SQL</td><td>OBJECT</td></tr>",
                            "<tr><td>[dm_audit_class_type_map]</td><td>IX</td><td>INDEX</td><td>OBJECT</td></tr>",
                            "<tr><td>[dm_audit_class_type_map]</td><td>IF</td><td>FUNCTION TABLE-VALUED INLINE SQL</td><td>OBJECT</td></tr>",
                            "<tr><td>[dm_audit_class_type_map]</td><td>IS</td><td>FUNCTION SCALAR INLINE SQL </td><td>OBJECT</td></tr>",
                            "<tr><td>[dm_audit_class_type_map]</td><td>IT</td><td>INTERNAL TABLE</td><td>OBJECT</td></tr>",
                            "<tr><td>[dm_audit_class_type_map]</td><td>PQ</td><td>PREPARED ADHOC QUERY</td><td>OBJECT</td></tr>",
                            "<tr><td>[dm_audit_class_type_map]</td><td>PK</td><td>PRIMARY KEY</td><td>OBJECT</td></tr>",
                            "<tr><td>[dm_audit_class_type_map]</td><td>P </td><td>STORED PROCEDURE</td><td>OBJECT</td></tr>",
                            "<tr><td>[dm_audit_class_type_map]</td><td>PC</td><td>STORED PROCEDURE ASSEMBLY</td><td>OBJECT</td></tr>",
                            "<tr><td>[dm_audit_class_type_map]</td><td>RF</td><td>STORED PROCEDURE REPLICATION FILTER</td><td>OBJECT</td></tr>",
                            "<tr><td>[dm_audit_class_type_map]</td><td>R </td><td>RULE</td><td>OBJECT</td></tr>",
                            "<tr><td>[dm_audit_class_type_map]</td><td>SP</td><td>SECURITY POLICY</td><td>OBJECT</td></tr>",
                            "<tr><td>[dm_audit_class_type_map]</td><td>SO</td><td>SEQUENCE OBJECT</td><td>OBJECT</td></tr>",
                            "<tr><td>[dm_audit_class_type_map]</td><td>ST</td><td>STATISTICS</td><td>OBJECT</td></tr>",
                            "<tr><td>[dm_audit_class_type_map]</td><td>SQ</td><td>QUEUE</td><td>OBJECT</td></tr>",
                            "<tr><td>[dm_audit_class_type_map]</td><td>SN</td><td>SYNONYM</td><td>OBJECT</td></tr>",
                            "<tr><td>[dm_audit_class_type_map]</td><td>S </td><td>TABLE SYSTEM</td><td>OBJECT</td></tr>",
                            "<tr><td>[dm_audit_class_type_map]</td><td>TF</td><td>FUNCTION TABLE-VALUED SQL</td><td>OBJECT</td></tr>",
                            "<tr><td>[dm_audit_class_type_map]</td><td>TA</td><td>TRIGGER ASSEMBLY</td><td>OBJECT</td></tr>",
                            "<tr><td>[dm_audit_class_type_map]</td><td>TR</td><td>TRIGGER</td><td>OBJECT</td></tr>",
                            "<tr><td>[dm_audit_class_type_map]</td><td>UQ</td><td>UNIQUE CONSTRAINT</td><td>OBJECT</td></tr>",
                            "<tr><td>[dm_audit_class_type_map]</td><td>U </td><td>TABLE</td><td>OBJECT</td></tr>",
                            "<tr><td>[dm_audit_class_type_map]</td><td>V </td><td>VIEW</td><td>OBJECT</td></tr>",
                            "<tr><td>[dm_audit_class_type_map]</td><td>X </td><td>STORED PROCEDURE EXTENDED</td><td>OBJECT</td></tr>",
                            "<tr><td>[dm_audit_class_type_map]</td><td>XR</td><td>XREL TREE</td><td>OBJECT</td></tr>",
                            "<tr><td>[dm_audit_class_type_map]</td><td>AU</td><td>ASYMMETRIC KEY USER</td><td>USER</td></tr>",
                            "<tr><td>[dm_audit_class_type_map]</td><td>CU</td><td>CERTIFICATE USER</td><td>USER</td></tr>",
                            "<tr><td>[dm_audit_class_type_map]</td><td>GU</td><td>GROUP USER</td><td>USER</td></tr>",
                            "<tr><td>[dm_audit_class_type_map]</td><td>SU</td><td>SQL USER</td><td>USER</td></tr>",
                            "<tr><td>[dm_audit_class_type_map]</td><td>WU</td><td>WINDOWS USER</td><td>USER</td></tr>",
                            "<tr><td>[dm_audit_class_type_map]</td><td>XU</td><td>EXTERNAL USER</td><td>USER</td></tr>",
                            "<tr><td>[dm_audit_class_type_map]</td><td>PU</td><td>EXTERNAL GROUP USER</td><td>USER</td></tr>",
                            "<tr><td>[dm_audit_class_type_map]</td><td>A </td><td>SERVER AUDIT</td><td>SERVER</td></tr>",
                            "<tr><td>[dm_audit_class_type_map]</td><td>CD</td><td>CREDENTIAL</td><td>SERVER</td></tr>",
                            "<tr><td>[dm_audit_class_type_map]</td><td>CP</td><td>CRYPTOGRAPHIC PROVIDER</td><td>SERVER</td></tr>",
                            "<tr><td>[dm_audit_class_type_map]</td><td>ED</td><td>EXTERNAL DATA SOURCE</td><td>DATABASE</td></tr>",
                            "<tr><td>[dm_audit_class_type_map]</td><td>EF</td><td>EXTERNAL FILE FORMAT</td><td>DATABASE</td></tr>",
                            "<tr><td>[dm_audit_class_type_map]</td><td>RG</td><td>RESOURCE GOVERNOR</td><td>SERVER</td></tr>",
                            "<tr><td>[dm_audit_class_type_map]</td><td>SA</td><td>SERVER AUDIT SPECIFICATION</td><td>SERVER</td></tr>",
                            "<tr><td>[dm_audit_class_type_map]</td><td>SD</td><td>EVENT NOTIFICATION SERVER</td><td>SERVER</td></tr>",
                            "<tr><td>[dm_audit_class_type_map]</td><td>T </td><td>TRIGGER SERVER</td><td>SERVER</td></tr>",
                            "<tr><td>[dm_audit_class_type_map]</td><td>SE</td><td>EVENT SESSION</td><td>SERVER</td></tr>",
                            "<tr><td>[dm_audit_class_type_map]</td><td>CO</td><td>SERVER CONFIG</td><td>SERVER</td></tr>",
                            "<tr><td>[dm_audit_class_type_map]</td><td>AL</td><td>ASYMMETRIC KEY LOGIN</td><td>LOGIN</td></tr>",
                            "<tr><td>[dm_audit_class_type_map]</td><td>CL</td><td>CERTIFICATE LOGIN</td><td>LOGIN</td></tr>",
                            "<tr><td>[dm_audit_class_type_map]</td><td>SL</td><td>SQL LOGIN</td><td>LOGIN</td></tr>",
                            "<tr><td>[dm_audit_class_type_map]</td><td>WG</td><td>WINDOWS GROUP</td><td>LOGIN</td></tr>",
                            "<tr><td>[dm_audit_class_type_map]</td><td>WL</td><td>WINDOWS LOGIN</td><td>LOGIN</td></tr>",
                            "<tr><td>[dm_audit_class_type_map]</td><td>ER</td><td>EXTERNAL RESOURCE POOL</td><td>SERVER</td></tr>",
                            "<tr><td>[dm_audit_class_type_map]</td><td>EX</td><td>EXTERNAL SCRIPT QUERY</td><td>OBJECT</td></tr>",
                            "<tr><td>[dm_audit_class_type_map]</td><td>PL</td><td>EXTERNAL GROUP LOGIN</td><td>LOGIN</td></tr>",
                            "<tr><td>[dm_audit_class_type_map]</td><td>XL</td><td>EXTERNAL LOGIN</td><td>LOGIN</td></tr>",
                            "</table>"
                        ]
                    }
                }
            ],
            "execution_count": 24
        },
        {
            "cell_type": "code",
            "source": [
                "/* Returns a row for each server audit indicating the current state of the audit. */\r\n",
                "SELECT TOP 1000 \r\n",
                "\t'[dm_server_audit_status]' AS TableName\r\n",
                "\t,[audit_id]\r\n",
                "\t,[name]\r\n",
                "\t,[status]\r\n",
                "\t,[status_desc]\r\n",
                "\t,[status_time]\r\n",
                "\t,[event_session_address]\r\n",
                "\t,[audit_file_path]\r\n",
                "\t,[audit_file_size]\r\n",
                "FROM [master].[sys].[dm_server_audit_status]\r\n",
                ""
            ],
            "metadata": {
                "azdata_cell_guid": "90f3e0a1-0d69-41c4-8407-97caeb3ce169"
            },
            "outputs": [
                {
                    "output_type": "display_data",
                    "data": {
                        "text/html": "(1 row affected)"
                    },
                    "metadata": {}
                },
                {
                    "output_type": "display_data",
                    "data": {
                        "text/html": "Total execution time: 00:00:00.007"
                    },
                    "metadata": {}
                },
                {
                    "output_type": "execute_result",
                    "metadata": {},
                    "execution_count": 23,
                    "data": {
                        "application/vnd.dataresource+json": {
                            "schema": {
                                "fields": [
                                    {
                                        "name": "TableName"
                                    },
                                    {
                                        "name": "audit_id"
                                    },
                                    {
                                        "name": "name"
                                    },
                                    {
                                        "name": "status"
                                    },
                                    {
                                        "name": "status_desc"
                                    },
                                    {
                                        "name": "status_time"
                                    },
                                    {
                                        "name": "event_session_address"
                                    },
                                    {
                                        "name": "audit_file_path"
                                    },
                                    {
                                        "name": "audit_file_size"
                                    }
                                ]
                            },
                            "data": [
                                {
                                    "0": "[dm_server_audit_status]",
                                    "1": "65545",
                                    "2": "JobHistory_Audit",
                                    "3": "1",
                                    "4": "STARTED",
                                    "5": "2022-02-14 14:07:56.8520000",
                                    "6": "0x0000023D7A794FC1",
                                    "7": "C:\\Audit\\JobHistory_Audit_7FD5C90E-9F51-40F5-94A1-CB381A44E411_0_132893212768490000.sqlaudit",
                                    "8": "7680"
                                }
                            ]
                        },
                        "text/html": [
                            "<table>",
                            "<tr><th>TableName</th><th>audit_id</th><th>name</th><th>status</th><th>status_desc</th><th>status_time</th><th>event_session_address</th><th>audit_file_path</th><th>audit_file_size</th></tr>",
                            "<tr><td>[dm_server_audit_status]</td><td>65545</td><td>JobHistory_Audit</td><td>1</td><td>STARTED</td><td>2022-02-14 14:07:56.8520000</td><td>0x0000023D7A794FC1</td><td>C:\\Audit\\JobHistory_Audit_7FD5C90E-9F51-40F5-94A1-CB381A44E411_0_132893212768490000.sqlaudit</td><td>7680</td></tr>",
                            "</table>"
                        ]
                    }
                }
            ],
            "execution_count": 23
        },
        {
            "cell_type": "code",
            "source": [
                "/* Contains information about the server audit specification details (actions) in a SQL Server audit on a server instance.*/\r\n",
                "SELECT TOP 1000 \r\n",
                "\t'[server_audit_specification_details]' AS TableName\r\n",
                "\t,[server_specification_id]\r\n",
                "\t,[audit_action_id]\r\n",
                "\t,[audit_action_name]\r\n",
                "\t,[class]\r\n",
                "\t,[class_desc]\r\n",
                "\t,[major_id]\r\n",
                "\t,[minor_id]\r\n",
                "\t,[audited_principal_id]\r\n",
                "\t,[audited_result]\r\n",
                "\t,[is_group]\r\n",
                "FROM [master].[sys].[server_audit_specification_details]\r\n",
                ""
            ],
            "metadata": {
                "azdata_cell_guid": "52255bae-dc58-4270-aec5-00ef4c9013c8"
            },
            "outputs": [
                {
                    "output_type": "display_data",
                    "data": {
                        "text/html": "(0 rows affected)"
                    },
                    "metadata": {}
                },
                {
                    "output_type": "display_data",
                    "data": {
                        "text/html": "Total execution time: 00:00:00.005"
                    },
                    "metadata": {}
                },
                {
                    "output_type": "execute_result",
                    "metadata": {},
                    "execution_count": 22,
                    "data": {
                        "application/vnd.dataresource+json": {
                            "schema": {
                                "fields": [
                                    {
                                        "name": "TableName"
                                    },
                                    {
                                        "name": "server_specification_id"
                                    },
                                    {
                                        "name": "audit_action_id"
                                    },
                                    {
                                        "name": "audit_action_name"
                                    },
                                    {
                                        "name": "class"
                                    },
                                    {
                                        "name": "class_desc"
                                    },
                                    {
                                        "name": "major_id"
                                    },
                                    {
                                        "name": "minor_id"
                                    },
                                    {
                                        "name": "audited_principal_id"
                                    },
                                    {
                                        "name": "audited_result"
                                    },
                                    {
                                        "name": "is_group"
                                    }
                                ]
                            },
                            "data": []
                        },
                        "text/html": [
                            "<table>",
                            "<tr><th>TableName</th><th>server_specification_id</th><th>audit_action_id</th><th>audit_action_name</th><th>class</th><th>class_desc</th><th>major_id</th><th>minor_id</th><th>audited_principal_id</th><th>audited_result</th><th>is_group</th></tr>",
                            "</table>"
                        ]
                    }
                }
            ],
            "execution_count": 22
        },
        {
            "cell_type": "code",
            "source": [
                "/* Contains information about the server audit specifications in a SQL Server audit on a server instance */\r\n",
                "SELECT TOP 1000 \r\n",
                "\t'server_audit_specifications' AS TableName\r\n",
                "\t,[server_specification_id]\r\n",
                "\t,[name]\r\n",
                "\t,[create_date]\r\n",
                "\t,[modify_date]\r\n",
                "\t,[audit_guid]\r\n",
                "\t,[is_state_enabled]\r\n",
                "FROM [master].[sys].[server_audit_specifications]\r\n",
                ""
            ],
            "metadata": {
                "azdata_cell_guid": "408c6b28-ced0-4e3b-b88c-0cc81160d8e8"
            },
            "outputs": [
                {
                    "output_type": "display_data",
                    "data": {
                        "text/html": "(0 rows affected)"
                    },
                    "metadata": {}
                },
                {
                    "output_type": "display_data",
                    "data": {
                        "text/html": "Total execution time: 00:00:00.004"
                    },
                    "metadata": {}
                },
                {
                    "output_type": "execute_result",
                    "metadata": {},
                    "execution_count": 21,
                    "data": {
                        "application/vnd.dataresource+json": {
                            "schema": {
                                "fields": [
                                    {
                                        "name": "TableName"
                                    },
                                    {
                                        "name": "server_specification_id"
                                    },
                                    {
                                        "name": "name"
                                    },
                                    {
                                        "name": "create_date"
                                    },
                                    {
                                        "name": "modify_date"
                                    },
                                    {
                                        "name": "audit_guid"
                                    },
                                    {
                                        "name": "is_state_enabled"
                                    }
                                ]
                            },
                            "data": []
                        },
                        "text/html": [
                            "<table>",
                            "<tr><th>TableName</th><th>server_specification_id</th><th>name</th><th>create_date</th><th>modify_date</th><th>audit_guid</th><th>is_state_enabled</th></tr>",
                            "</table>"
                        ]
                    }
                }
            ],
            "execution_count": 21
        },
        {
            "cell_type": "markdown",
            "source": [
                ""
            ],
            "metadata": {
                "azdata_cell_guid": "6dbdde14-8ac2-4c6b-8c30-d5954b2d4f15"
            }
        },
        {
            "cell_type": "code",
            "source": [
                "\r\n",
                "/* Contains one row for each SQL Server audit in a server instance */\r\n",
                "SELECT TOP 1000 \r\n",
                "\t'[server_audits]' AS TableName\r\n",
                "\t,[audit_id]\r\n",
                "\t,[name]\r\n",
                "\t,[audit_guid]\r\n",
                "\t,[create_date]\r\n",
                "\t,[modify_date]\r\n",
                "\t,[principal_id]\r\n",
                "\t,[type]\r\n",
                "\t,[type_desc]\r\n",
                "\t,[on_failure]\r\n",
                "\t,[on_failure_desc]\r\n",
                "\t,[is_state_enabled]\r\n",
                "\t,[queue_delay]\r\n",
                "FROM [master].[sys].[server_audits]\r\n",
                ""
            ],
            "metadata": {
                "azdata_cell_guid": "1e7d8cae-86cf-418e-8ecc-b26ee4944d05"
            },
            "outputs": [
                {
                    "output_type": "display_data",
                    "data": {
                        "text/html": "(1 row affected)"
                    },
                    "metadata": {}
                },
                {
                    "output_type": "display_data",
                    "data": {
                        "text/html": "Total execution time: 00:00:00.013"
                    },
                    "metadata": {}
                },
                {
                    "output_type": "execute_result",
                    "metadata": {},
                    "execution_count": 20,
                    "data": {
                        "application/vnd.dataresource+json": {
                            "schema": {
                                "fields": [
                                    {
                                        "name": "TableName"
                                    },
                                    {
                                        "name": "audit_id"
                                    },
                                    {
                                        "name": "name"
                                    },
                                    {
                                        "name": "audit_guid"
                                    },
                                    {
                                        "name": "create_date"
                                    },
                                    {
                                        "name": "modify_date"
                                    },
                                    {
                                        "name": "principal_id"
                                    },
                                    {
                                        "name": "type"
                                    },
                                    {
                                        "name": "type_desc"
                                    },
                                    {
                                        "name": "on_failure"
                                    },
                                    {
                                        "name": "on_failure_desc"
                                    },
                                    {
                                        "name": "is_state_enabled"
                                    },
                                    {
                                        "name": "queue_delay"
                                    }
                                ]
                            },
                            "data": [
                                {
                                    "0": "[server_audits]",
                                    "1": "65545",
                                    "2": "JobHistory_Audit",
                                    "3": "7fd5c90e-9f51-40f5-94a1-cb381a44e411",
                                    "4": "2022-02-14 14:07:56.843",
                                    "5": "2022-02-14 14:07:56.843",
                                    "6": "1",
                                    "7": "FL",
                                    "8": "FILE",
                                    "9": "0",
                                    "10": "CONTINUE",
                                    "11": "1",
                                    "12": "1000"
                                }
                            ]
                        },
                        "text/html": [
                            "<table>",
                            "<tr><th>TableName</th><th>audit_id</th><th>name</th><th>audit_guid</th><th>create_date</th><th>modify_date</th><th>principal_id</th><th>type</th><th>type_desc</th><th>on_failure</th><th>on_failure_desc</th><th>is_state_enabled</th><th>queue_delay</th></tr>",
                            "<tr><td>[server_audits]</td><td>65545</td><td>JobHistory_Audit</td><td>7fd5c90e-9f51-40f5-94a1-cb381a44e411</td><td>2022-02-14 14:07:56.843</td><td>2022-02-14 14:07:56.843</td><td>1</td><td>FL</td><td>FILE</td><td>0</td><td>CONTINUE</td><td>1</td><td>1000</td></tr>",
                            "</table>"
                        ]
                    }
                }
            ],
            "execution_count": 20
        },
        {
            "cell_type": "code",
            "source": [
                "/* Contains extended information about the file audit type in a SQL Server audit on a server instance */\r\n",
                "SELECT TOP 1000 \r\n",
                "\t'[server_file_audits]' AS TableName\r\n",
                "\t,[audit_id]\r\n",
                "\t,[name]\r\n",
                "\t,[audit_guid]\r\n",
                "\t,[create_date]\r\n",
                "\t,[modify_date]\r\n",
                "\t,[principal_id]\r\n",
                "\t,[type]\r\n",
                "\t,[type_desc]\r\n",
                "\t,[on_failure]\r\n",
                "\t,[on_failure_desc]\r\n",
                "\t,[is_state_enabled]\r\n",
                "\t,[queue_delay]\r\n",
                "\t,[max_file_size]\r\n",
                "\t,[max_rollover_files]\r\n",
                "\t,[reserve_disk_space]\r\n",
                "\t,[log_file_path]\r\n",
                "\t,[log_file_name]\r\n",
                "FROM [master].[sys].[server_file_audits]\r\n",
                ""
            ],
            "metadata": {
                "azdata_cell_guid": "d400e15e-ca7e-4c32-b151-c5de70ffe289"
            },
            "outputs": [
                {
                    "output_type": "display_data",
                    "data": {
                        "text/html": "(1 row affected)"
                    },
                    "metadata": {}
                },
                {
                    "output_type": "display_data",
                    "data": {
                        "text/html": "Total execution time: 00:00:00.005"
                    },
                    "metadata": {}
                },
                {
                    "output_type": "execute_result",
                    "metadata": {},
                    "execution_count": 19,
                    "data": {
                        "application/vnd.dataresource+json": {
                            "schema": {
                                "fields": [
                                    {
                                        "name": "TableName"
                                    },
                                    {
                                        "name": "audit_id"
                                    },
                                    {
                                        "name": "name"
                                    },
                                    {
                                        "name": "audit_guid"
                                    },
                                    {
                                        "name": "create_date"
                                    },
                                    {
                                        "name": "modify_date"
                                    },
                                    {
                                        "name": "principal_id"
                                    },
                                    {
                                        "name": "type"
                                    },
                                    {
                                        "name": "type_desc"
                                    },
                                    {
                                        "name": "on_failure"
                                    },
                                    {
                                        "name": "on_failure_desc"
                                    },
                                    {
                                        "name": "is_state_enabled"
                                    },
                                    {
                                        "name": "queue_delay"
                                    },
                                    {
                                        "name": "max_file_size"
                                    },
                                    {
                                        "name": "max_rollover_files"
                                    },
                                    {
                                        "name": "reserve_disk_space"
                                    },
                                    {
                                        "name": "log_file_path"
                                    },
                                    {
                                        "name": "log_file_name"
                                    }
                                ]
                            },
                            "data": [
                                {
                                    "0": "[server_file_audits]",
                                    "1": "65545",
                                    "2": "JobHistory_Audit",
                                    "3": "7fd5c90e-9f51-40f5-94a1-cb381a44e411",
                                    "4": "2022-02-14 14:07:56.843",
                                    "5": "2022-02-14 14:07:56.843",
                                    "6": "1",
                                    "7": "FL",
                                    "8": "FILE",
                                    "9": "0",
                                    "10": "CONTINUE",
                                    "11": "1",
                                    "12": "1000",
                                    "13": "0",
                                    "14": "2147483647",
                                    "15": "0",
                                    "16": "C:\\Audit\\",
                                    "17": "JobHistory_Audit_7FD5C90E-9F51-40F5-94A1-CB381A44E411.sqlaudit"
                                }
                            ]
                        },
                        "text/html": [
                            "<table>",
                            "<tr><th>TableName</th><th>audit_id</th><th>name</th><th>audit_guid</th><th>create_date</th><th>modify_date</th><th>principal_id</th><th>type</th><th>type_desc</th><th>on_failure</th><th>on_failure_desc</th><th>is_state_enabled</th><th>queue_delay</th><th>max_file_size</th><th>max_rollover_files</th><th>reserve_disk_space</th><th>log_file_path</th><th>log_file_name</th></tr>",
                            "<tr><td>[server_file_audits]</td><td>65545</td><td>JobHistory_Audit</td><td>7fd5c90e-9f51-40f5-94a1-cb381a44e411</td><td>2022-02-14 14:07:56.843</td><td>2022-02-14 14:07:56.843</td><td>1</td><td>FL</td><td>FILE</td><td>0</td><td>CONTINUE</td><td>1</td><td>1000</td><td>0</td><td>2147483647</td><td>0</td><td>C:\\Audit\\</td><td>JobHistory_Audit_7FD5C90E-9F51-40F5-94A1-CB381A44E411.sqlaudit</td></tr>",
                            "</table>"
                        ]
                    }
                }
            ],
            "execution_count": 19
        },
        {
            "cell_type": "code",
            "source": [
                "/* Get Audit information for specific Audits */\r\n",
                "SELECT AuditFile.*\r\n",
                "FROM sys.dm_server_audit_status AS AuditStatus\r\n",
                "CROSS APPLY sys.fn_get_audit_file(AuditStatus.audit_file_path, DEFAULT, DEFAULT) AS AuditFile\r\n",
                "\r\n",
                ""
            ],
            "metadata": {
                "azdata_cell_guid": "5990e952-dfbd-4051-b82d-c660efdeb707"
            },
            "outputs": [],
            "execution_count": null
        },
        {
            "cell_type": "code",
            "source": [
                "/* Disable and Drop Audit */\r\n",
                "USE [master]\r\n",
                "GO\r\n",
                "\r\n",
                "DECLARE @Audit_Name sysname ='server_file_audits',\r\n",
                "\t    @sqlcmd VARCHAR(MAX)\r\n",
                "\r\n",
                "IF EXISTS(SELECT name FROM sys.server_audits WHERE is_state_enabled = 1 AND Name =@Audit_Name)\r\n",
                "BEGIN\r\n",
                "\tSET @sqlcmd ='ALTER SERVER AUDIT [' + @Audit_Name + '] WITH (STATE = OFF)'\r\n",
                "\tEXEC (@sqlcmd)\r\n",
                "\r\n",
                "    SET @sqlcmd=  'DROP SERVER AUDIT ['+ @Audit_Name + ']'\r\n",
                "    EXEC (@sqlcmd)\r\n",
                "END\r\n",
                ""
            ],
            "metadata": {
                "azdata_cell_guid": "beef2e70-05b5-4a6b-8c19-49ceca697185",
                "tags": []
            },
            "outputs": [
                {
                    "output_type": "display_data",
                    "data": {
                        "text/html": "Commands completed successfully."
                    },
                    "metadata": {}
                },
                {
                    "output_type": "display_data",
                    "data": {
                        "text/html": "Commands completed successfully."
                    },
                    "metadata": {}
                },
                {
                    "output_type": "display_data",
                    "data": {
                        "text/html": "Total execution time: 00:00:00.006"
                    },
                    "metadata": {}
                }
            ],
            "execution_count": 18
        },
        {
            "cell_type": "code",
            "source": [
                "/* Drop audit that exists and is disabled */\r\n",
                "USE [master]\r\n",
                "GO\r\n",
                "\r\n",
                "DECLARE @Audit_Name sysname ='JobHistory_Audit',\r\n",
                "\t    @sqlcmd VARCHAR(MAX)\r\n",
                "\r\n",
                "IF EXISTS(SELECT name FROM sys.server_audits WHERE is_state_enabled = 0 AND Name =@Audit_Name)\r\n",
                "BEGIN\r\n",
                "\tSET @sqlcmd=  'DROP SERVER AUDIT ['+ @Audit_Name + ']'\r\n",
                "    EXEC (@sqlcmd)\r\n",
                "END\r\n",
                ""
            ],
            "metadata": {
                "azdata_cell_guid": "d6ca20f3-25c3-4465-b08a-e84633e413d1"
            },
            "outputs": [
                {
                    "output_type": "display_data",
                    "data": {
                        "text/html": "Commands completed successfully."
                    },
                    "metadata": {}
                },
                {
                    "output_type": "display_data",
                    "data": {
                        "text/html": "Commands completed successfully."
                    },
                    "metadata": {}
                },
                {
                    "output_type": "display_data",
                    "data": {
                        "text/html": "Total execution time: 00:00:00.007"
                    },
                    "metadata": {}
                }
            ],
            "execution_count": 13
        },
        {
            "cell_type": "code",
            "source": [
                "\r\n",
                "SELECT name FROM sys.server_audits WHERE is_state_enabled = 1 AND Name =$Audit_Name"
            ],
            "metadata": {
                "azdata_cell_guid": "663b9e17-291b-4901-8bac-24e1779b10f9"
            },
            "outputs": [],
            "execution_count": null
        },
        {
            "cell_type": "code",
            "source": [
                "/* 02 Audit Job changes.sql  */\r\n",
                "--=====================================\r\n",
                "--Create Job history Audits\r\n",
                "--=====================================\r\n",
                "\r\n",
                "USE [master]\r\n",
                "GO\r\n",
                "\r\n",
                "\r\n",
                "CREATE SERVER AUDIT [JobHistory_Audit] TO FILE (\r\n",
                "\tFILEPATH = N'C:\\Audit'\r\n",
                "\t,MAXSIZE = 0 MB\r\n",
                "\t,MAX_ROLLOVER_FILES = 2147483647\r\n",
                "\t,RESERVE_DISK_SPACE = OFF\r\n",
                "\t)\r\n",
                "\tWITH (\r\n",
                "\t\t\tQUEUE_DELAY = 1000\r\n",
                "\t\t\t,ON_FAILURE = CONTINUE\r\n",
                "\t\t\t)\r\n",
                "GO\r\n",
                "\r\n",
                "USE [msdb]\r\n",
                "GO\r\n",
                "\r\n",
                "\r\n",
                "\r\n",
                "CREATE DATABASE AUDIT SPECIFICATION [DatabaseAuditSpecification-EnterDate]\r\n",
                "FOR SERVER AUDIT [JobHistory_Audit] ADD (\r\n",
                "\t\tUPDATE ON OBJECT::[dbo].[sysjobs] BY [public]\r\n",
                "\t\t)\r\n",
                "\t,ADD (\r\n",
                "\t\tINSERT ON OBJECT::[dbo].[sysjobs] BY [public]\r\n",
                "\t\t)\r\n",
                "\t,ADD (\r\n",
                "\t\tDELETE ON OBJECT::[dbo].[sysjobs] BY [public]\r\n",
                "\t\t)\r\n",
                "GO\r\n",
                "\r\n",
                "ALTER DATABASE AUDIT SPECIFICATION [DatabaseAuditSpecification-EnterDate]\r\n",
                "\tWITH (STATE = ON)\r\n",
                "\r\n",
                "USE master\r\n",
                "GO\r\n",
                "\r\n",
                "ALTER SERVER AUDIT [JobHistory_Audit]\r\n",
                "\tWITH (STATE = ON)\r\n",
                "GO\r\n",
                "\r\n",
                "SELECT statement\r\n",
                "\t,*\r\n",
                "FROM fn_get_audit_file('C:\\Audit\\jobHistory*', DEFAULT, DEFAULT)\r\n",
                "GO\r\n",
                "\r\n",
                "--Sysjobsteps\r\n",
                "USE MASTER\r\n",
                "GO\r\n",
                "\r\n",
                "CREATE SERVER AUDIT [JobStepsHistory_Audit] TO FILE (\r\n",
                "\tFILEPATH = N'C:\\Audit'\r\n",
                "\t,MAXSIZE = 0 MB\r\n",
                "\t,MAX_ROLLOVER_FILES = 2147483647\r\n",
                "\t,RESERVE_DISK_SPACE = OFF\r\n",
                "\t)\r\n",
                "\tWITH (\r\n",
                "\t\t\tQUEUE_DELAY = 1000\r\n",
                "\t\t\t,ON_FAILURE = CONTINUE\r\n",
                "\t\t\t)\r\n",
                "GO\r\n",
                "\r\n",
                "USE MSDB\r\n",
                "GO\r\n",
                "\r\n",
                "CREATE DATABASE AUDIT SPECIFICATION [DatabaseAuditSpecification-JobSteps]\r\n",
                "FOR SERVER AUDIT [JobStepsHistory_Audit] ADD (\r\n",
                "\t\tUPDATE ON OBJECT::[dbo].[sysjobsteps] BY [public]\r\n",
                "\t\t)\r\n",
                "\t,ADD (\r\n",
                "\t\tINSERT ON OBJECT::[dbo].[sysjobsteps] BY [public]\r\n",
                "\t\t)\r\n",
                "\t,ADD (\r\n",
                "\t\tDELETE ON OBJECT::[dbo].[sysjobsteps] BY [public]\r\n",
                "\t\t)\r\n",
                "\r\n",
                "ALTER DATABASE AUDIT SPECIFICATION [DatabaseAuditSpecification-JobSteps]\r\n",
                "\tWITH (STATE = ON)\r\n",
                "\r\n",
                "USE master\r\n",
                "GO\r\n",
                "\r\n",
                "ALTER SERVER AUDIT [JobStepsHistory_Audit]\r\n",
                "\tWITH (STATE = ON)\r\n",
                "GO\r\n",
                "\r\n",
                "SELECT statement\r\n",
                "\t,*\r\n",
                "FROM fn_get_audit_file('C:\\Audit\\jobStepsHistory*', DEFAULT, DEFAULT)\r\n",
                "\r\n",
                "SELECT statement\r\n",
                "\t,*\r\n",
                "FROM fn_get_audit_file('C:\\Audit\\jobHistory*', DEFAULT, DEFAULT)\r\n",
                ""
            ],
            "metadata": {
                "azdata_cell_guid": "1af4cb52-9e72-424b-9cab-1cc9ade99f00"
            },
            "outputs": [
                {
                    "output_type": "display_data",
                    "data": {
                        "text/html": "Commands completed successfully."
                    },
                    "metadata": {}
                },
                {
                    "output_type": "display_data",
                    "data": {
                        "text/html": "Commands completed successfully."
                    },
                    "metadata": {}
                },
                {
                    "output_type": "display_data",
                    "data": {
                        "text/html": "Commands completed successfully."
                    },
                    "metadata": {}
                },
                {
                    "output_type": "error",
                    "evalue": "Msg 15530, Level 16, State 1, Line 27\r\nThe audit specification with name \"DatabaseAuditSpecification-EnterDate\" already exists.",
                    "ename": "",
                    "traceback": []
                },
                {
                    "output_type": "display_data",
                    "data": {
                        "text/html": "Commands completed successfully."
                    },
                    "metadata": {}
                },
                {
                    "output_type": "display_data",
                    "data": {
                        "text/html": "Commands completed successfully."
                    },
                    "metadata": {}
                },
                {
                    "output_type": "display_data",
                    "data": {
                        "text/html": "(6 rows affected)"
                    },
                    "metadata": {}
                },
                {
                    "output_type": "display_data",
                    "data": {
                        "text/html": "Commands completed successfully."
                    },
                    "metadata": {}
                },
                {
                    "output_type": "display_data",
                    "data": {
                        "text/html": "Commands completed successfully."
                    },
                    "metadata": {}
                },
                {
                    "output_type": "display_data",
                    "data": {
                        "text/html": "Commands completed successfully."
                    },
                    "metadata": {}
                },
                {
                    "output_type": "display_data",
                    "data": {
                        "text/html": "Commands completed successfully."
                    },
                    "metadata": {}
                },
                {
                    "output_type": "display_data",
                    "data": {
                        "text/html": "(6 rows affected)"
                    },
                    "metadata": {}
                },
                {
                    "output_type": "display_data",
                    "data": {
                        "text/html": "(6 rows affected)"
                    },
                    "metadata": {}
                },
                {
                    "output_type": "display_data",
                    "data": {
                        "text/html": "Total execution time: 00:00:00.044"
                    },
                    "metadata": {}
                },
                {
                    "output_type": "execute_result",
                    "metadata": {},
                    "execution_count": 14,
                    "data": {
                        "application/vnd.dataresource+json": {
                            "schema": {
                                "fields": [
                                    {
                                        "name": "statement"
                                    },
                                    {
                                        "name": "event_time"
                                    },
                                    {
                                        "name": "sequence_number"
                                    },
                                    {
                                        "name": "action_id"
                                    },
                                    {
                                        "name": "succeeded"
                                    },
                                    {
                                        "name": "permission_bitmask"
                                    },
                                    {
                                        "name": "is_column_permission"
                                    },
                                    {
                                        "name": "session_id"
                                    },
                                    {
                                        "name": "server_principal_id"
                                    },
                                    {
                                        "name": "database_principal_id"
                                    },
                                    {
                                        "name": "target_server_principal_id"
                                    },
                                    {
                                        "name": "target_database_principal_id"
                                    },
                                    {
                                        "name": "object_id"
                                    },
                                    {
                                        "name": "class_type"
                                    },
                                    {
                                        "name": "session_server_principal_name"
                                    },
                                    {
                                        "name": "server_principal_name"
                                    },
                                    {
                                        "name": "server_principal_sid"
                                    },
                                    {
                                        "name": "database_principal_name"
                                    },
                                    {
                                        "name": "target_server_principal_name"
                                    },
                                    {
                                        "name": "target_server_principal_sid"
                                    },
                                    {
                                        "name": "target_database_principal_name"
                                    },
                                    {
                                        "name": "server_instance_name"
                                    },
                                    {
                                        "name": "database_name"
                                    },
                                    {
                                        "name": "schema_name"
                                    },
                                    {
                                        "name": "object_name"
                                    },
                                    {
                                        "name": "statement"
                                    },
                                    {
                                        "name": "additional_information"
                                    },
                                    {
                                        "name": "file_name"
                                    },
                                    {
                                        "name": "audit_file_offset"
                                    },
                                    {
                                        "name": "user_defined_event_id"
                                    },
                                    {
                                        "name": "user_defined_information"
                                    },
                                    {
                                        "name": "audit_schema_version"
                                    },
                                    {
                                        "name": "sequence_group_id"
                                    },
                                    {
                                        "name": "transaction_id"
                                    },
                                    {
                                        "name": "client_ip"
                                    },
                                    {
                                        "name": "application_name"
                                    },
                                    {
                                        "name": "duration_milliseconds"
                                    },
                                    {
                                        "name": "response_rows"
                                    },
                                    {
                                        "name": "affected_rows"
                                    },
                                    {
                                        "name": "connection_id"
                                    },
                                    {
                                        "name": "data_sensitivity_information"
                                    },
                                    {
                                        "name": "host_name"
                                    }
                                ]
                            },
                            "data": [
                                {
                                    "0": "",
                                    "1": "2022-02-14 13:48:12.9286940",
                                    "2": "1",
                                    "3": "AUSC",
                                    "4": "1",
                                    "5": "0x00000000000000000000000000000000",
                                    "6": "0",
                                    "7": "63",
                                    "8": "259",
                                    "9": "0",
                                    "10": "0",
                                    "11": "0",
                                    "12": "0",
                                    "13": "A ",
                                    "14": "MicrosoftAccount\\martincroft22@gmail.com",
                                    "15": "JURGEN\\marti",
                                    "16": "0x0105000000000005150000001403843556349AE9374930EAE9030000",
                                    "17": "",
                                    "18": "",
                                    "19": "NULL",
                                    "20": "",
                                    "21": "JURGEN",
                                    "22": "",
                                    "23": "",
                                    "24": "",
                                    "25": "",
                                    "26": "<action_info xmlns=\"http://schemas.microsoft.com/sqlserver/2008/sqlaudit_data\"><session><![CDATA[JobHistory_Audit$A]]></session><action>event enabled</action><startup_type>manual</startup_type><object><![CDATA[audit_event]]></object></action_info>",
                                    "27": "C:\\Audit\\JobHistory_Audit_121CCCE8-5095-4C6D-84D9-30A01745785F_0_132893200929250000.sqlaudit",
                                    "28": "6144",
                                    "29": "0",
                                    "30": "",
                                    "31": "1",
                                    "32": "0x00000000000000000000000000000000",
                                    "33": "0",
                                    "34": "local machine",
                                    "35": "azdata-Query",
                                    "36": "0",
                                    "37": "0",
                                    "38": "0",
                                    "39": "8dbad2f1-6d0b-4234-906f-dbc463f22686",
                                    "40": "",
                                    "41": "JURGEN"
                                },
                                {
                                    "0": "",
                                    "1": "2022-02-14 13:51:27.7801185",
                                    "2": "1",
                                    "3": "AUSC",
                                    "4": "1",
                                    "5": "0x00000000000000000000000000000000",
                                    "6": "0",
                                    "7": "56",
                                    "8": "259",
                                    "9": "0",
                                    "10": "0",
                                    "11": "0",
                                    "12": "0",
                                    "13": "A ",
                                    "14": "MicrosoftAccount\\martincroft22@gmail.com",
                                    "15": "JURGEN\\marti",
                                    "16": "0x0105000000000005150000001403843556349AE9374930EAE9030000",
                                    "17": "",
                                    "18": "",
                                    "19": "NULL",
                                    "20": "",
                                    "21": "JURGEN",
                                    "22": "",
                                    "23": "",
                                    "24": "",
                                    "25": "",
                                    "26": "<action_info xmlns=\"http://schemas.microsoft.com/sqlserver/2008/sqlaudit_data\"><session><![CDATA[JobHistory_Audit$A]]></session><action>destroyed</action></action_info>",
                                    "27": "C:\\Audit\\JobHistory_Audit_121CCCE8-5095-4C6D-84D9-30A01745785F_0_132893200929250000.sqlaudit",
                                    "28": "7680",
                                    "29": "0",
                                    "30": "",
                                    "31": "1",
                                    "32": "0x00000000000000000000000000000000",
                                    "33": "0",
                                    "34": "local machine",
                                    "35": "Microsoft SQL Server Management Studio",
                                    "36": "0",
                                    "37": "0",
                                    "38": "0",
                                    "39": "e84701da-9349-455f-927f-8e5930d4f02e",
                                    "40": "",
                                    "41": "JURGEN"
                                },
                                {
                                    "0": "",
                                    "1": "2022-02-14 13:51:27.7801185",
                                    "2": "1",
                                    "3": "AUSC",
                                    "4": "1",
                                    "5": "0x00000000000000000000000000000000",
                                    "6": "0",
                                    "7": "56",
                                    "8": "259",
                                    "9": "0",
                                    "10": "0",
                                    "11": "0",
                                    "12": "0",
                                    "13": "A ",
                                    "14": "MicrosoftAccount\\martincroft22@gmail.com",
                                    "15": "JURGEN\\marti",
                                    "16": "0x0105000000000005150000001403843556349AE9374930EAE9030000",
                                    "17": "",
                                    "18": "",
                                    "19": "NULL",
                                    "20": "",
                                    "21": "JURGEN",
                                    "22": "",
                                    "23": "",
                                    "24": "",
                                    "25": "",
                                    "26": "<action_info xmlns=\"http://schemas.microsoft.com/sqlserver/2008/sqlaudit_data\"><session><![CDATA[JobHistory_Audit$A]]></session><action>event disabled</action><object><![CDATA[audit_event]]></object></action_info>",
                                    "27": "C:\\Audit\\JobHistory_Audit_121CCCE8-5095-4C6D-84D9-30A01745785F_0_132893200929250000.sqlaudit",
                                    "28": "8704",
                                    "29": "0",
                                    "30": "",
                                    "31": "1",
                                    "32": "0x00000000000000000000000000000000",
                                    "33": "0",
                                    "34": "local machine",
                                    "35": "Microsoft SQL Server Management Studio",
                                    "36": "0",
                                    "37": "0",
                                    "38": "0",
                                    "39": "e84701da-9349-455f-927f-8e5930d4f02e",
                                    "40": "",
                                    "41": "JURGEN"
                                },
                                {
                                    "0": "",
                                    "1": "2022-02-14 13:51:34.8265935",
                                    "2": "1",
                                    "3": "AUSC",
                                    "4": "1",
                                    "5": "0x00000000000000000000000000000000",
                                    "6": "0",
                                    "7": "56",
                                    "8": "259",
                                    "9": "0",
                                    "10": "0",
                                    "11": "0",
                                    "12": "0",
                                    "13": "A ",
                                    "14": "MicrosoftAccount\\martincroft22@gmail.com",
                                    "15": "JURGEN\\marti",
                                    "16": "0x0105000000000005150000001403843556349AE9374930EAE9030000",
                                    "17": "",
                                    "18": "",
                                    "19": "NULL",
                                    "20": "",
                                    "21": "JURGEN",
                                    "22": "",
                                    "23": "",
                                    "24": "",
                                    "25": "",
                                    "26": "<action_info xmlns=\"http://schemas.microsoft.com/sqlserver/2008/sqlaudit_data\"><session><![CDATA[JobHistory_Audit$A]]></session><action>event enabled</action><startup_type>manual</startup_type><object><![CDATA[audit_event]]></object></action_info>",
                                    "27": "C:\\Audit\\JobHistory_Audit_121CCCE8-5095-4C6D-84D9-30A01745785F_0_132893202948250000.sqlaudit",
                                    "28": "6144",
                                    "29": "0",
                                    "30": "",
                                    "31": "1",
                                    "32": "0x00000000000000000000000000000000",
                                    "33": "0",
                                    "34": "local machine",
                                    "35": "Microsoft SQL Server Management Studio",
                                    "36": "0",
                                    "37": "0",
                                    "38": "0",
                                    "39": "011982d3-74cf-474a-adc3-3cc960a32141",
                                    "40": "",
                                    "41": "JURGEN"
                                },
                                {
                                    "0": "",
                                    "1": "2022-02-14 13:57:47.3637706",
                                    "2": "1",
                                    "3": "AUSC",
                                    "4": "1",
                                    "5": "0x00000000000000000000000000000000",
                                    "6": "0",
                                    "7": "59",
                                    "8": "259",
                                    "9": "0",
                                    "10": "0",
                                    "11": "0",
                                    "12": "0",
                                    "13": "A ",
                                    "14": "MicrosoftAccount\\martincroft22@gmail.com",
                                    "15": "JURGEN\\marti",
                                    "16": "0x0105000000000005150000001403843556349AE9374930EAE9030000",
                                    "17": "",
                                    "18": "",
                                    "19": "NULL",
                                    "20": "",
                                    "21": "JURGEN",
                                    "22": "",
                                    "23": "",
                                    "24": "",
                                    "25": "",
                                    "26": "<action_info xmlns=\"http://schemas.microsoft.com/sqlserver/2008/sqlaudit_data\"><session><![CDATA[JobHistory_Audit$A]]></session><action>destroyed</action></action_info>",
                                    "27": "C:\\Audit\\JobHistory_Audit_121CCCE8-5095-4C6D-84D9-30A01745785F_0_132893202948250000.sqlaudit",
                                    "28": "7680",
                                    "29": "0",
                                    "30": "",
                                    "31": "1",
                                    "32": "0x00000000000000000000000000000000",
                                    "33": "0",
                                    "34": "local machine",
                                    "35": "Microsoft SQL Server Management Studio - Query",
                                    "36": "0",
                                    "37": "0",
                                    "38": "0",
                                    "39": "aa3ac364-46a7-4a97-8d7f-9dc2514d4156",
                                    "40": "",
                                    "41": "JURGEN"
                                },
                                {
                                    "0": "",
                                    "1": "2022-02-14 13:57:47.3637706",
                                    "2": "1",
                                    "3": "AUSC",
                                    "4": "1",
                                    "5": "0x00000000000000000000000000000000",
                                    "6": "0",
                                    "7": "59",
                                    "8": "259",
                                    "9": "0",
                                    "10": "0",
                                    "11": "0",
                                    "12": "0",
                                    "13": "A ",
                                    "14": "MicrosoftAccount\\martincroft22@gmail.com",
                                    "15": "JURGEN\\marti",
                                    "16": "0x0105000000000005150000001403843556349AE9374930EAE9030000",
                                    "17": "",
                                    "18": "",
                                    "19": "NULL",
                                    "20": "",
                                    "21": "JURGEN",
                                    "22": "",
                                    "23": "",
                                    "24": "",
                                    "25": "",
                                    "26": "<action_info xmlns=\"http://schemas.microsoft.com/sqlserver/2008/sqlaudit_data\"><session><![CDATA[JobHistory_Audit$A]]></session><action>event disabled</action><object><![CDATA[audit_event]]></object></action_info>",
                                    "27": "C:\\Audit\\JobHistory_Audit_121CCCE8-5095-4C6D-84D9-30A01745785F_0_132893202948250000.sqlaudit",
                                    "28": "8704",
                                    "29": "0",
                                    "30": "",
                                    "31": "1",
                                    "32": "0x00000000000000000000000000000000",
                                    "33": "0",
                                    "34": "local machine",
                                    "35": "Microsoft SQL Server Management Studio - Query",
                                    "36": "0",
                                    "37": "0",
                                    "38": "0",
                                    "39": "aa3ac364-46a7-4a97-8d7f-9dc2514d4156",
                                    "40": "",
                                    "41": "JURGEN"
                                }
                            ]
                        },
                        "text/html": [
                            "<table>",
                            "<tr><th>statement</th><th>event_time</th><th>sequence_number</th><th>action_id</th><th>succeeded</th><th>permission_bitmask</th><th>is_column_permission</th><th>session_id</th><th>server_principal_id</th><th>database_principal_id</th><th>target_server_principal_id</th><th>target_database_principal_id</th><th>object_id</th><th>class_type</th><th>session_server_principal_name</th><th>server_principal_name</th><th>server_principal_sid</th><th>database_principal_name</th><th>target_server_principal_name</th><th>target_server_principal_sid</th><th>target_database_principal_name</th><th>server_instance_name</th><th>database_name</th><th>schema_name</th><th>object_name</th><th>statement</th><th>additional_information</th><th>file_name</th><th>audit_file_offset</th><th>user_defined_event_id</th><th>user_defined_information</th><th>audit_schema_version</th><th>sequence_group_id</th><th>transaction_id</th><th>client_ip</th><th>application_name</th><th>duration_milliseconds</th><th>response_rows</th><th>affected_rows</th><th>connection_id</th><th>data_sensitivity_information</th><th>host_name</th></tr>",
                            "<tr><td></td><td>2022-02-14 13:48:12.9286940</td><td>1</td><td>AUSC</td><td>1</td><td>0x00000000000000000000000000000000</td><td>0</td><td>63</td><td>259</td><td>0</td><td>0</td><td>0</td><td>0</td><td>A </td><td>MicrosoftAccount\\martincroft22@gmail.com</td><td>JURGEN\\marti</td><td>0x0105000000000005150000001403843556349AE9374930EAE9030000</td><td></td><td></td><td>NULL</td><td></td><td>JURGEN</td><td></td><td></td><td></td><td></td><td>&lt;action_info xmlns=&quot;http://schemas.microsoft.com/sqlserver/2008/sqlaudit_data&quot;&gt;&lt;session&gt;&lt;![CDATA[JobHistory_Audit$A]]&gt;&lt;/session&gt;&lt;action&gt;event enabled&lt;/action&gt;&lt;startup_type&gt;manual&lt;/startup_type&gt;&lt;object&gt;&lt;![CDATA[audit_event]]&gt;&lt;/object&gt;&lt;/action_info&gt;</td><td>C:\\Audit\\JobHistory_Audit_121CCCE8-5095-4C6D-84D9-30A01745785F_0_132893200929250000.sqlaudit</td><td>6144</td><td>0</td><td></td><td>1</td><td>0x00000000000000000000000000000000</td><td>0</td><td>local machine</td><td>azdata-Query</td><td>0</td><td>0</td><td>0</td><td>8dbad2f1-6d0b-4234-906f-dbc463f22686</td><td></td><td>JURGEN</td></tr>",
                            "<tr><td></td><td>2022-02-14 13:51:27.7801185</td><td>1</td><td>AUSC</td><td>1</td><td>0x00000000000000000000000000000000</td><td>0</td><td>56</td><td>259</td><td>0</td><td>0</td><td>0</td><td>0</td><td>A </td><td>MicrosoftAccount\\martincroft22@gmail.com</td><td>JURGEN\\marti</td><td>0x0105000000000005150000001403843556349AE9374930EAE9030000</td><td></td><td></td><td>NULL</td><td></td><td>JURGEN</td><td></td><td></td><td></td><td></td><td>&lt;action_info xmlns=&quot;http://schemas.microsoft.com/sqlserver/2008/sqlaudit_data&quot;&gt;&lt;session&gt;&lt;![CDATA[JobHistory_Audit$A]]&gt;&lt;/session&gt;&lt;action&gt;destroyed&lt;/action&gt;&lt;/action_info&gt;</td><td>C:\\Audit\\JobHistory_Audit_121CCCE8-5095-4C6D-84D9-30A01745785F_0_132893200929250000.sqlaudit</td><td>7680</td><td>0</td><td></td><td>1</td><td>0x00000000000000000000000000000000</td><td>0</td><td>local machine</td><td>Microsoft SQL Server Management Studio</td><td>0</td><td>0</td><td>0</td><td>e84701da-9349-455f-927f-8e5930d4f02e</td><td></td><td>JURGEN</td></tr>",
                            "<tr><td></td><td>2022-02-14 13:51:27.7801185</td><td>1</td><td>AUSC</td><td>1</td><td>0x00000000000000000000000000000000</td><td>0</td><td>56</td><td>259</td><td>0</td><td>0</td><td>0</td><td>0</td><td>A </td><td>MicrosoftAccount\\martincroft22@gmail.com</td><td>JURGEN\\marti</td><td>0x0105000000000005150000001403843556349AE9374930EAE9030000</td><td></td><td></td><td>NULL</td><td></td><td>JURGEN</td><td></td><td></td><td></td><td></td><td>&lt;action_info xmlns=&quot;http://schemas.microsoft.com/sqlserver/2008/sqlaudit_data&quot;&gt;&lt;session&gt;&lt;![CDATA[JobHistory_Audit$A]]&gt;&lt;/session&gt;&lt;action&gt;event disabled&lt;/action&gt;&lt;object&gt;&lt;![CDATA[audit_event]]&gt;&lt;/object&gt;&lt;/action_info&gt;</td><td>C:\\Audit\\JobHistory_Audit_121CCCE8-5095-4C6D-84D9-30A01745785F_0_132893200929250000.sqlaudit</td><td>8704</td><td>0</td><td></td><td>1</td><td>0x00000000000000000000000000000000</td><td>0</td><td>local machine</td><td>Microsoft SQL Server Management Studio</td><td>0</td><td>0</td><td>0</td><td>e84701da-9349-455f-927f-8e5930d4f02e</td><td></td><td>JURGEN</td></tr>",
                            "<tr><td></td><td>2022-02-14 13:51:34.8265935</td><td>1</td><td>AUSC</td><td>1</td><td>0x00000000000000000000000000000000</td><td>0</td><td>56</td><td>259</td><td>0</td><td>0</td><td>0</td><td>0</td><td>A </td><td>MicrosoftAccount\\martincroft22@gmail.com</td><td>JURGEN\\marti</td><td>0x0105000000000005150000001403843556349AE9374930EAE9030000</td><td></td><td></td><td>NULL</td><td></td><td>JURGEN</td><td></td><td></td><td></td><td></td><td>&lt;action_info xmlns=&quot;http://schemas.microsoft.com/sqlserver/2008/sqlaudit_data&quot;&gt;&lt;session&gt;&lt;![CDATA[JobHistory_Audit$A]]&gt;&lt;/session&gt;&lt;action&gt;event enabled&lt;/action&gt;&lt;startup_type&gt;manual&lt;/startup_type&gt;&lt;object&gt;&lt;![CDATA[audit_event]]&gt;&lt;/object&gt;&lt;/action_info&gt;</td><td>C:\\Audit\\JobHistory_Audit_121CCCE8-5095-4C6D-84D9-30A01745785F_0_132893202948250000.sqlaudit</td><td>6144</td><td>0</td><td></td><td>1</td><td>0x00000000000000000000000000000000</td><td>0</td><td>local machine</td><td>Microsoft SQL Server Management Studio</td><td>0</td><td>0</td><td>0</td><td>011982d3-74cf-474a-adc3-3cc960a32141</td><td></td><td>JURGEN</td></tr>",
                            "<tr><td></td><td>2022-02-14 13:57:47.3637706</td><td>1</td><td>AUSC</td><td>1</td><td>0x00000000000000000000000000000000</td><td>0</td><td>59</td><td>259</td><td>0</td><td>0</td><td>0</td><td>0</td><td>A </td><td>MicrosoftAccount\\martincroft22@gmail.com</td><td>JURGEN\\marti</td><td>0x0105000000000005150000001403843556349AE9374930EAE9030000</td><td></td><td></td><td>NULL</td><td></td><td>JURGEN</td><td></td><td></td><td></td><td></td><td>&lt;action_info xmlns=&quot;http://schemas.microsoft.com/sqlserver/2008/sqlaudit_data&quot;&gt;&lt;session&gt;&lt;![CDATA[JobHistory_Audit$A]]&gt;&lt;/session&gt;&lt;action&gt;destroyed&lt;/action&gt;&lt;/action_info&gt;</td><td>C:\\Audit\\JobHistory_Audit_121CCCE8-5095-4C6D-84D9-30A01745785F_0_132893202948250000.sqlaudit</td><td>7680</td><td>0</td><td></td><td>1</td><td>0x00000000000000000000000000000000</td><td>0</td><td>local machine</td><td>Microsoft SQL Server Management Studio - Query</td><td>0</td><td>0</td><td>0</td><td>aa3ac364-46a7-4a97-8d7f-9dc2514d4156</td><td></td><td>JURGEN</td></tr>",
                            "<tr><td></td><td>2022-02-14 13:57:47.3637706</td><td>1</td><td>AUSC</td><td>1</td><td>0x00000000000000000000000000000000</td><td>0</td><td>59</td><td>259</td><td>0</td><td>0</td><td>0</td><td>0</td><td>A </td><td>MicrosoftAccount\\martincroft22@gmail.com</td><td>JURGEN\\marti</td><td>0x0105000000000005150000001403843556349AE9374930EAE9030000</td><td></td><td></td><td>NULL</td><td></td><td>JURGEN</td><td></td><td></td><td></td><td></td><td>&lt;action_info xmlns=&quot;http://schemas.microsoft.com/sqlserver/2008/sqlaudit_data&quot;&gt;&lt;session&gt;&lt;![CDATA[JobHistory_Audit$A]]&gt;&lt;/session&gt;&lt;action&gt;event disabled&lt;/action&gt;&lt;object&gt;&lt;![CDATA[audit_event]]&gt;&lt;/object&gt;&lt;/action_info&gt;</td><td>C:\\Audit\\JobHistory_Audit_121CCCE8-5095-4C6D-84D9-30A01745785F_0_132893202948250000.sqlaudit</td><td>8704</td><td>0</td><td></td><td>1</td><td>0x00000000000000000000000000000000</td><td>0</td><td>local machine</td><td>Microsoft SQL Server Management Studio - Query</td><td>0</td><td>0</td><td>0</td><td>aa3ac364-46a7-4a97-8d7f-9dc2514d4156</td><td></td><td>JURGEN</td></tr>",
                            "</table>"
                        ]
                    }
                },
                {
                    "output_type": "error",
                    "evalue": "Msg 15530, Level 16, State 1, Line 73\r\nThe audit specification with name \"DatabaseAuditSpecification-JobSteps\" already exists.",
                    "ename": "",
                    "traceback": []
                },
                {
                    "output_type": "execute_result",
                    "metadata": {},
                    "execution_count": 14,
                    "data": {
                        "application/vnd.dataresource+json": {
                            "schema": {
                                "fields": [
                                    {
                                        "name": "statement"
                                    },
                                    {
                                        "name": "event_time"
                                    },
                                    {
                                        "name": "sequence_number"
                                    },
                                    {
                                        "name": "action_id"
                                    },
                                    {
                                        "name": "succeeded"
                                    },
                                    {
                                        "name": "permission_bitmask"
                                    },
                                    {
                                        "name": "is_column_permission"
                                    },
                                    {
                                        "name": "session_id"
                                    },
                                    {
                                        "name": "server_principal_id"
                                    },
                                    {
                                        "name": "database_principal_id"
                                    },
                                    {
                                        "name": "target_server_principal_id"
                                    },
                                    {
                                        "name": "target_database_principal_id"
                                    },
                                    {
                                        "name": "object_id"
                                    },
                                    {
                                        "name": "class_type"
                                    },
                                    {
                                        "name": "session_server_principal_name"
                                    },
                                    {
                                        "name": "server_principal_name"
                                    },
                                    {
                                        "name": "server_principal_sid"
                                    },
                                    {
                                        "name": "database_principal_name"
                                    },
                                    {
                                        "name": "target_server_principal_name"
                                    },
                                    {
                                        "name": "target_server_principal_sid"
                                    },
                                    {
                                        "name": "target_database_principal_name"
                                    },
                                    {
                                        "name": "server_instance_name"
                                    },
                                    {
                                        "name": "database_name"
                                    },
                                    {
                                        "name": "schema_name"
                                    },
                                    {
                                        "name": "object_name"
                                    },
                                    {
                                        "name": "statement"
                                    },
                                    {
                                        "name": "additional_information"
                                    },
                                    {
                                        "name": "file_name"
                                    },
                                    {
                                        "name": "audit_file_offset"
                                    },
                                    {
                                        "name": "user_defined_event_id"
                                    },
                                    {
                                        "name": "user_defined_information"
                                    },
                                    {
                                        "name": "audit_schema_version"
                                    },
                                    {
                                        "name": "sequence_group_id"
                                    },
                                    {
                                        "name": "transaction_id"
                                    },
                                    {
                                        "name": "client_ip"
                                    },
                                    {
                                        "name": "application_name"
                                    },
                                    {
                                        "name": "duration_milliseconds"
                                    },
                                    {
                                        "name": "response_rows"
                                    },
                                    {
                                        "name": "affected_rows"
                                    },
                                    {
                                        "name": "connection_id"
                                    },
                                    {
                                        "name": "data_sensitivity_information"
                                    },
                                    {
                                        "name": "host_name"
                                    }
                                ]
                            },
                            "data": [
                                {
                                    "0": "",
                                    "1": "2022-02-14 13:48:12.9546246",
                                    "2": "1",
                                    "3": "AUSC",
                                    "4": "1",
                                    "5": "0x00000000000000000000000000000000",
                                    "6": "0",
                                    "7": "63",
                                    "8": "259",
                                    "9": "0",
                                    "10": "0",
                                    "11": "0",
                                    "12": "0",
                                    "13": "A ",
                                    "14": "MicrosoftAccount\\martincroft22@gmail.com",
                                    "15": "JURGEN\\marti",
                                    "16": "0x0105000000000005150000001403843556349AE9374930EAE9030000",
                                    "17": "",
                                    "18": "",
                                    "19": "NULL",
                                    "20": "",
                                    "21": "JURGEN",
                                    "22": "",
                                    "23": "",
                                    "24": "",
                                    "25": "",
                                    "26": "<action_info xmlns=\"http://schemas.microsoft.com/sqlserver/2008/sqlaudit_data\"><session><![CDATA[JobStepsHistory_Audit$A]]></session><action>event enabled</action><startup_type>manual</startup_type><object><![CDATA[audit_event]]></object></action_info>",
                                    "27": "C:\\Audit\\JobStepsHistory_Audit_C77014A1-4780-46F9-A723-132B4557D6F8_0_132893200929530000.sqlaudit",
                                    "28": "6144",
                                    "29": "0",
                                    "30": "",
                                    "31": "1",
                                    "32": "0x00000000000000000000000000000000",
                                    "33": "0",
                                    "34": "local machine",
                                    "35": "azdata-Query",
                                    "36": "0",
                                    "37": "0",
                                    "38": "0",
                                    "39": "8dbad2f1-6d0b-4234-906f-dbc463f22686",
                                    "40": "",
                                    "41": "JURGEN"
                                },
                                {
                                    "0": "",
                                    "1": "2022-02-14 13:58:20.0693250",
                                    "2": "1",
                                    "3": "AUSC",
                                    "4": "1",
                                    "5": "0x00000000000000000000000000000000",
                                    "6": "0",
                                    "7": "59",
                                    "8": "259",
                                    "9": "0",
                                    "10": "0",
                                    "11": "0",
                                    "12": "0",
                                    "13": "A ",
                                    "14": "MicrosoftAccount\\martincroft22@gmail.com",
                                    "15": "JURGEN\\marti",
                                    "16": "0x0105000000000005150000001403843556349AE9374930EAE9030000",
                                    "17": "",
                                    "18": "",
                                    "19": "NULL",
                                    "20": "",
                                    "21": "JURGEN",
                                    "22": "",
                                    "23": "",
                                    "24": "",
                                    "25": "",
                                    "26": "<action_info xmlns=\"http://schemas.microsoft.com/sqlserver/2008/sqlaudit_data\"><session><![CDATA[JobStepsHistory_Audit$A]]></session><action>destroyed</action></action_info>",
                                    "27": "C:\\Audit\\JobStepsHistory_Audit_C77014A1-4780-46F9-A723-132B4557D6F8_0_132893200929530000.sqlaudit",
                                    "28": "7680",
                                    "29": "0",
                                    "30": "",
                                    "31": "1",
                                    "32": "0x00000000000000000000000000000000",
                                    "33": "0",
                                    "34": "local machine",
                                    "35": "Microsoft SQL Server Management Studio - Query",
                                    "36": "0",
                                    "37": "0",
                                    "38": "0",
                                    "39": "aa3ac364-46a7-4a97-8d7f-9dc2514d4156",
                                    "40": "",
                                    "41": "JURGEN"
                                },
                                {
                                    "0": "",
                                    "1": "2022-02-14 13:58:20.0703222",
                                    "2": "1",
                                    "3": "AUSC",
                                    "4": "1",
                                    "5": "0x00000000000000000000000000000000",
                                    "6": "0",
                                    "7": "59",
                                    "8": "259",
                                    "9": "0",
                                    "10": "0",
                                    "11": "0",
                                    "12": "0",
                                    "13": "A ",
                                    "14": "MicrosoftAccount\\martincroft22@gmail.com",
                                    "15": "JURGEN\\marti",
                                    "16": "0x0105000000000005150000001403843556349AE9374930EAE9030000",
                                    "17": "",
                                    "18": "",
                                    "19": "NULL",
                                    "20": "",
                                    "21": "JURGEN",
                                    "22": "",
                                    "23": "",
                                    "24": "",
                                    "25": "",
                                    "26": "<action_info xmlns=\"http://schemas.microsoft.com/sqlserver/2008/sqlaudit_data\"><session><![CDATA[JobStepsHistory_Audit$A]]></session><action>event disabled</action><object><![CDATA[audit_event]]></object></action_info>",
                                    "27": "C:\\Audit\\JobStepsHistory_Audit_C77014A1-4780-46F9-A723-132B4557D6F8_0_132893200929530000.sqlaudit",
                                    "28": "8704",
                                    "29": "0",
                                    "30": "",
                                    "31": "1",
                                    "32": "0x00000000000000000000000000000000",
                                    "33": "0",
                                    "34": "local machine",
                                    "35": "Microsoft SQL Server Management Studio - Query",
                                    "36": "0",
                                    "37": "0",
                                    "38": "0",
                                    "39": "aa3ac364-46a7-4a97-8d7f-9dc2514d4156",
                                    "40": "",
                                    "41": "JURGEN"
                                },
                                {
                                    "0": "",
                                    "1": "2022-02-14 14:04:54.4869523",
                                    "2": "1",
                                    "3": "AUSC",
                                    "4": "1",
                                    "5": "0x00000000000000000000000000000000",
                                    "6": "0",
                                    "7": "63",
                                    "8": "259",
                                    "9": "0",
                                    "10": "0",
                                    "11": "0",
                                    "12": "0",
                                    "13": "A ",
                                    "14": "MicrosoftAccount\\martincroft22@gmail.com",
                                    "15": "JURGEN\\marti",
                                    "16": "0x0105000000000005150000001403843556349AE9374930EAE9030000",
                                    "17": "",
                                    "18": "",
                                    "19": "NULL",
                                    "20": "",
                                    "21": "JURGEN",
                                    "22": "",
                                    "23": "",
                                    "24": "",
                                    "25": "",
                                    "26": "<action_info xmlns=\"http://schemas.microsoft.com/sqlserver/2008/sqlaudit_data\"><session><![CDATA[JobStepsHistory_Audit$A]]></session><action>event enabled</action><startup_type>manual</startup_type><object><![CDATA[audit_event]]></object></action_info>",
                                    "27": "C:\\Audit\\JobStepsHistory_Audit_C77014A1-4780-46F9-A723-132B4557D6F8_0_132893210944840000.sqlaudit",
                                    "28": "6144",
                                    "29": "0",
                                    "30": "",
                                    "31": "1",
                                    "32": "0x00000000000000000000000000000000",
                                    "33": "0",
                                    "34": "local machine",
                                    "35": "azdata-Query",
                                    "36": "0",
                                    "37": "0",
                                    "38": "0",
                                    "39": "8dbad2f1-6d0b-4234-906f-dbc463f22686",
                                    "40": "",
                                    "41": "JURGEN"
                                },
                                {
                                    "0": "",
                                    "1": "2022-02-14 14:05:20.2921365",
                                    "2": "1",
                                    "3": "AUSC",
                                    "4": "1",
                                    "5": "0x00000000000000000000000000000000",
                                    "6": "0",
                                    "7": "63",
                                    "8": "259",
                                    "9": "0",
                                    "10": "0",
                                    "11": "0",
                                    "12": "0",
                                    "13": "A ",
                                    "14": "MicrosoftAccount\\martincroft22@gmail.com",
                                    "15": "JURGEN\\marti",
                                    "16": "0x0105000000000005150000001403843556349AE9374930EAE9030000",
                                    "17": "",
                                    "18": "",
                                    "19": "NULL",
                                    "20": "",
                                    "21": "JURGEN",
                                    "22": "",
                                    "23": "",
                                    "24": "",
                                    "25": "",
                                    "26": "<action_info xmlns=\"http://schemas.microsoft.com/sqlserver/2008/sqlaudit_data\"><session><![CDATA[JobStepsHistory_Audit$A]]></session><action>destroyed</action></action_info>",
                                    "27": "C:\\Audit\\JobStepsHistory_Audit_C77014A1-4780-46F9-A723-132B4557D6F8_0_132893210944840000.sqlaudit",
                                    "28": "7680",
                                    "29": "0",
                                    "30": "",
                                    "31": "1",
                                    "32": "0x00000000000000000000000000000000",
                                    "33": "0",
                                    "34": "local machine",
                                    "35": "azdata-Query",
                                    "36": "0",
                                    "37": "0",
                                    "38": "0",
                                    "39": "8dbad2f1-6d0b-4234-906f-dbc463f22686",
                                    "40": "",
                                    "41": "JURGEN"
                                },
                                {
                                    "0": "",
                                    "1": "2022-02-14 14:05:20.2931347",
                                    "2": "1",
                                    "3": "AUSC",
                                    "4": "1",
                                    "5": "0x00000000000000000000000000000000",
                                    "6": "0",
                                    "7": "63",
                                    "8": "259",
                                    "9": "0",
                                    "10": "0",
                                    "11": "0",
                                    "12": "0",
                                    "13": "A ",
                                    "14": "MicrosoftAccount\\martincroft22@gmail.com",
                                    "15": "JURGEN\\marti",
                                    "16": "0x0105000000000005150000001403843556349AE9374930EAE9030000",
                                    "17": "",
                                    "18": "",
                                    "19": "NULL",
                                    "20": "",
                                    "21": "JURGEN",
                                    "22": "",
                                    "23": "",
                                    "24": "",
                                    "25": "",
                                    "26": "<action_info xmlns=\"http://schemas.microsoft.com/sqlserver/2008/sqlaudit_data\"><session><![CDATA[JobStepsHistory_Audit$A]]></session><action>event disabled</action><object><![CDATA[audit_event]]></object></action_info>",
                                    "27": "C:\\Audit\\JobStepsHistory_Audit_C77014A1-4780-46F9-A723-132B4557D6F8_0_132893210944840000.sqlaudit",
                                    "28": "8704",
                                    "29": "0",
                                    "30": "",
                                    "31": "1",
                                    "32": "0x00000000000000000000000000000000",
                                    "33": "0",
                                    "34": "local machine",
                                    "35": "azdata-Query",
                                    "36": "0",
                                    "37": "0",
                                    "38": "0",
                                    "39": "8dbad2f1-6d0b-4234-906f-dbc463f22686",
                                    "40": "",
                                    "41": "JURGEN"
                                }
                            ]
                        },
                        "text/html": [
                            "<table>",
                            "<tr><th>statement</th><th>event_time</th><th>sequence_number</th><th>action_id</th><th>succeeded</th><th>permission_bitmask</th><th>is_column_permission</th><th>session_id</th><th>server_principal_id</th><th>database_principal_id</th><th>target_server_principal_id</th><th>target_database_principal_id</th><th>object_id</th><th>class_type</th><th>session_server_principal_name</th><th>server_principal_name</th><th>server_principal_sid</th><th>database_principal_name</th><th>target_server_principal_name</th><th>target_server_principal_sid</th><th>target_database_principal_name</th><th>server_instance_name</th><th>database_name</th><th>schema_name</th><th>object_name</th><th>statement</th><th>additional_information</th><th>file_name</th><th>audit_file_offset</th><th>user_defined_event_id</th><th>user_defined_information</th><th>audit_schema_version</th><th>sequence_group_id</th><th>transaction_id</th><th>client_ip</th><th>application_name</th><th>duration_milliseconds</th><th>response_rows</th><th>affected_rows</th><th>connection_id</th><th>data_sensitivity_information</th><th>host_name</th></tr>",
                            "<tr><td></td><td>2022-02-14 13:48:12.9546246</td><td>1</td><td>AUSC</td><td>1</td><td>0x00000000000000000000000000000000</td><td>0</td><td>63</td><td>259</td><td>0</td><td>0</td><td>0</td><td>0</td><td>A </td><td>MicrosoftAccount\\martincroft22@gmail.com</td><td>JURGEN\\marti</td><td>0x0105000000000005150000001403843556349AE9374930EAE9030000</td><td></td><td></td><td>NULL</td><td></td><td>JURGEN</td><td></td><td></td><td></td><td></td><td>&lt;action_info xmlns=&quot;http://schemas.microsoft.com/sqlserver/2008/sqlaudit_data&quot;&gt;&lt;session&gt;&lt;![CDATA[JobStepsHistory_Audit$A]]&gt;&lt;/session&gt;&lt;action&gt;event enabled&lt;/action&gt;&lt;startup_type&gt;manual&lt;/startup_type&gt;&lt;object&gt;&lt;![CDATA[audit_event]]&gt;&lt;/object&gt;&lt;/action_info&gt;</td><td>C:\\Audit\\JobStepsHistory_Audit_C77014A1-4780-46F9-A723-132B4557D6F8_0_132893200929530000.sqlaudit</td><td>6144</td><td>0</td><td></td><td>1</td><td>0x00000000000000000000000000000000</td><td>0</td><td>local machine</td><td>azdata-Query</td><td>0</td><td>0</td><td>0</td><td>8dbad2f1-6d0b-4234-906f-dbc463f22686</td><td></td><td>JURGEN</td></tr>",
                            "<tr><td></td><td>2022-02-14 13:58:20.0693250</td><td>1</td><td>AUSC</td><td>1</td><td>0x00000000000000000000000000000000</td><td>0</td><td>59</td><td>259</td><td>0</td><td>0</td><td>0</td><td>0</td><td>A </td><td>MicrosoftAccount\\martincroft22@gmail.com</td><td>JURGEN\\marti</td><td>0x0105000000000005150000001403843556349AE9374930EAE9030000</td><td></td><td></td><td>NULL</td><td></td><td>JURGEN</td><td></td><td></td><td></td><td></td><td>&lt;action_info xmlns=&quot;http://schemas.microsoft.com/sqlserver/2008/sqlaudit_data&quot;&gt;&lt;session&gt;&lt;![CDATA[JobStepsHistory_Audit$A]]&gt;&lt;/session&gt;&lt;action&gt;destroyed&lt;/action&gt;&lt;/action_info&gt;</td><td>C:\\Audit\\JobStepsHistory_Audit_C77014A1-4780-46F9-A723-132B4557D6F8_0_132893200929530000.sqlaudit</td><td>7680</td><td>0</td><td></td><td>1</td><td>0x00000000000000000000000000000000</td><td>0</td><td>local machine</td><td>Microsoft SQL Server Management Studio - Query</td><td>0</td><td>0</td><td>0</td><td>aa3ac364-46a7-4a97-8d7f-9dc2514d4156</td><td></td><td>JURGEN</td></tr>",
                            "<tr><td></td><td>2022-02-14 13:58:20.0703222</td><td>1</td><td>AUSC</td><td>1</td><td>0x00000000000000000000000000000000</td><td>0</td><td>59</td><td>259</td><td>0</td><td>0</td><td>0</td><td>0</td><td>A </td><td>MicrosoftAccount\\martincroft22@gmail.com</td><td>JURGEN\\marti</td><td>0x0105000000000005150000001403843556349AE9374930EAE9030000</td><td></td><td></td><td>NULL</td><td></td><td>JURGEN</td><td></td><td></td><td></td><td></td><td>&lt;action_info xmlns=&quot;http://schemas.microsoft.com/sqlserver/2008/sqlaudit_data&quot;&gt;&lt;session&gt;&lt;![CDATA[JobStepsHistory_Audit$A]]&gt;&lt;/session&gt;&lt;action&gt;event disabled&lt;/action&gt;&lt;object&gt;&lt;![CDATA[audit_event]]&gt;&lt;/object&gt;&lt;/action_info&gt;</td><td>C:\\Audit\\JobStepsHistory_Audit_C77014A1-4780-46F9-A723-132B4557D6F8_0_132893200929530000.sqlaudit</td><td>8704</td><td>0</td><td></td><td>1</td><td>0x00000000000000000000000000000000</td><td>0</td><td>local machine</td><td>Microsoft SQL Server Management Studio - Query</td><td>0</td><td>0</td><td>0</td><td>aa3ac364-46a7-4a97-8d7f-9dc2514d4156</td><td></td><td>JURGEN</td></tr>",
                            "<tr><td></td><td>2022-02-14 14:04:54.4869523</td><td>1</td><td>AUSC</td><td>1</td><td>0x00000000000000000000000000000000</td><td>0</td><td>63</td><td>259</td><td>0</td><td>0</td><td>0</td><td>0</td><td>A </td><td>MicrosoftAccount\\martincroft22@gmail.com</td><td>JURGEN\\marti</td><td>0x0105000000000005150000001403843556349AE9374930EAE9030000</td><td></td><td></td><td>NULL</td><td></td><td>JURGEN</td><td></td><td></td><td></td><td></td><td>&lt;action_info xmlns=&quot;http://schemas.microsoft.com/sqlserver/2008/sqlaudit_data&quot;&gt;&lt;session&gt;&lt;![CDATA[JobStepsHistory_Audit$A]]&gt;&lt;/session&gt;&lt;action&gt;event enabled&lt;/action&gt;&lt;startup_type&gt;manual&lt;/startup_type&gt;&lt;object&gt;&lt;![CDATA[audit_event]]&gt;&lt;/object&gt;&lt;/action_info&gt;</td><td>C:\\Audit\\JobStepsHistory_Audit_C77014A1-4780-46F9-A723-132B4557D6F8_0_132893210944840000.sqlaudit</td><td>6144</td><td>0</td><td></td><td>1</td><td>0x00000000000000000000000000000000</td><td>0</td><td>local machine</td><td>azdata-Query</td><td>0</td><td>0</td><td>0</td><td>8dbad2f1-6d0b-4234-906f-dbc463f22686</td><td></td><td>JURGEN</td></tr>",
                            "<tr><td></td><td>2022-02-14 14:05:20.2921365</td><td>1</td><td>AUSC</td><td>1</td><td>0x00000000000000000000000000000000</td><td>0</td><td>63</td><td>259</td><td>0</td><td>0</td><td>0</td><td>0</td><td>A </td><td>MicrosoftAccount\\martincroft22@gmail.com</td><td>JURGEN\\marti</td><td>0x0105000000000005150000001403843556349AE9374930EAE9030000</td><td></td><td></td><td>NULL</td><td></td><td>JURGEN</td><td></td><td></td><td></td><td></td><td>&lt;action_info xmlns=&quot;http://schemas.microsoft.com/sqlserver/2008/sqlaudit_data&quot;&gt;&lt;session&gt;&lt;![CDATA[JobStepsHistory_Audit$A]]&gt;&lt;/session&gt;&lt;action&gt;destroyed&lt;/action&gt;&lt;/action_info&gt;</td><td>C:\\Audit\\JobStepsHistory_Audit_C77014A1-4780-46F9-A723-132B4557D6F8_0_132893210944840000.sqlaudit</td><td>7680</td><td>0</td><td></td><td>1</td><td>0x00000000000000000000000000000000</td><td>0</td><td>local machine</td><td>azdata-Query</td><td>0</td><td>0</td><td>0</td><td>8dbad2f1-6d0b-4234-906f-dbc463f22686</td><td></td><td>JURGEN</td></tr>",
                            "<tr><td></td><td>2022-02-14 14:05:20.2931347</td><td>1</td><td>AUSC</td><td>1</td><td>0x00000000000000000000000000000000</td><td>0</td><td>63</td><td>259</td><td>0</td><td>0</td><td>0</td><td>0</td><td>A </td><td>MicrosoftAccount\\martincroft22@gmail.com</td><td>JURGEN\\marti</td><td>0x0105000000000005150000001403843556349AE9374930EAE9030000</td><td></td><td></td><td>NULL</td><td></td><td>JURGEN</td><td></td><td></td><td></td><td></td><td>&lt;action_info xmlns=&quot;http://schemas.microsoft.com/sqlserver/2008/sqlaudit_data&quot;&gt;&lt;session&gt;&lt;![CDATA[JobStepsHistory_Audit$A]]&gt;&lt;/session&gt;&lt;action&gt;event disabled&lt;/action&gt;&lt;object&gt;&lt;![CDATA[audit_event]]&gt;&lt;/object&gt;&lt;/action_info&gt;</td><td>C:\\Audit\\JobStepsHistory_Audit_C77014A1-4780-46F9-A723-132B4557D6F8_0_132893210944840000.sqlaudit</td><td>8704</td><td>0</td><td></td><td>1</td><td>0x00000000000000000000000000000000</td><td>0</td><td>local machine</td><td>azdata-Query</td><td>0</td><td>0</td><td>0</td><td>8dbad2f1-6d0b-4234-906f-dbc463f22686</td><td></td><td>JURGEN</td></tr>",
                            "</table>"
                        ]
                    }
                },
                {
                    "output_type": "execute_result",
                    "metadata": {},
                    "execution_count": 14,
                    "data": {
                        "application/vnd.dataresource+json": {
                            "schema": {
                                "fields": [
                                    {
                                        "name": "statement"
                                    },
                                    {
                                        "name": "event_time"
                                    },
                                    {
                                        "name": "sequence_number"
                                    },
                                    {
                                        "name": "action_id"
                                    },
                                    {
                                        "name": "succeeded"
                                    },
                                    {
                                        "name": "permission_bitmask"
                                    },
                                    {
                                        "name": "is_column_permission"
                                    },
                                    {
                                        "name": "session_id"
                                    },
                                    {
                                        "name": "server_principal_id"
                                    },
                                    {
                                        "name": "database_principal_id"
                                    },
                                    {
                                        "name": "target_server_principal_id"
                                    },
                                    {
                                        "name": "target_database_principal_id"
                                    },
                                    {
                                        "name": "object_id"
                                    },
                                    {
                                        "name": "class_type"
                                    },
                                    {
                                        "name": "session_server_principal_name"
                                    },
                                    {
                                        "name": "server_principal_name"
                                    },
                                    {
                                        "name": "server_principal_sid"
                                    },
                                    {
                                        "name": "database_principal_name"
                                    },
                                    {
                                        "name": "target_server_principal_name"
                                    },
                                    {
                                        "name": "target_server_principal_sid"
                                    },
                                    {
                                        "name": "target_database_principal_name"
                                    },
                                    {
                                        "name": "server_instance_name"
                                    },
                                    {
                                        "name": "database_name"
                                    },
                                    {
                                        "name": "schema_name"
                                    },
                                    {
                                        "name": "object_name"
                                    },
                                    {
                                        "name": "statement"
                                    },
                                    {
                                        "name": "additional_information"
                                    },
                                    {
                                        "name": "file_name"
                                    },
                                    {
                                        "name": "audit_file_offset"
                                    },
                                    {
                                        "name": "user_defined_event_id"
                                    },
                                    {
                                        "name": "user_defined_information"
                                    },
                                    {
                                        "name": "audit_schema_version"
                                    },
                                    {
                                        "name": "sequence_group_id"
                                    },
                                    {
                                        "name": "transaction_id"
                                    },
                                    {
                                        "name": "client_ip"
                                    },
                                    {
                                        "name": "application_name"
                                    },
                                    {
                                        "name": "duration_milliseconds"
                                    },
                                    {
                                        "name": "response_rows"
                                    },
                                    {
                                        "name": "affected_rows"
                                    },
                                    {
                                        "name": "connection_id"
                                    },
                                    {
                                        "name": "data_sensitivity_information"
                                    },
                                    {
                                        "name": "host_name"
                                    }
                                ]
                            },
                            "data": [
                                {
                                    "0": "",
                                    "1": "2022-02-14 13:48:12.9286940",
                                    "2": "1",
                                    "3": "AUSC",
                                    "4": "1",
                                    "5": "0x00000000000000000000000000000000",
                                    "6": "0",
                                    "7": "63",
                                    "8": "259",
                                    "9": "0",
                                    "10": "0",
                                    "11": "0",
                                    "12": "0",
                                    "13": "A ",
                                    "14": "MicrosoftAccount\\martincroft22@gmail.com",
                                    "15": "JURGEN\\marti",
                                    "16": "0x0105000000000005150000001403843556349AE9374930EAE9030000",
                                    "17": "",
                                    "18": "",
                                    "19": "NULL",
                                    "20": "",
                                    "21": "JURGEN",
                                    "22": "",
                                    "23": "",
                                    "24": "",
                                    "25": "",
                                    "26": "<action_info xmlns=\"http://schemas.microsoft.com/sqlserver/2008/sqlaudit_data\"><session><![CDATA[JobHistory_Audit$A]]></session><action>event enabled</action><startup_type>manual</startup_type><object><![CDATA[audit_event]]></object></action_info>",
                                    "27": "C:\\Audit\\JobHistory_Audit_121CCCE8-5095-4C6D-84D9-30A01745785F_0_132893200929250000.sqlaudit",
                                    "28": "6144",
                                    "29": "0",
                                    "30": "",
                                    "31": "1",
                                    "32": "0x00000000000000000000000000000000",
                                    "33": "0",
                                    "34": "local machine",
                                    "35": "azdata-Query",
                                    "36": "0",
                                    "37": "0",
                                    "38": "0",
                                    "39": "8dbad2f1-6d0b-4234-906f-dbc463f22686",
                                    "40": "",
                                    "41": "JURGEN"
                                },
                                {
                                    "0": "",
                                    "1": "2022-02-14 13:51:27.7801185",
                                    "2": "1",
                                    "3": "AUSC",
                                    "4": "1",
                                    "5": "0x00000000000000000000000000000000",
                                    "6": "0",
                                    "7": "56",
                                    "8": "259",
                                    "9": "0",
                                    "10": "0",
                                    "11": "0",
                                    "12": "0",
                                    "13": "A ",
                                    "14": "MicrosoftAccount\\martincroft22@gmail.com",
                                    "15": "JURGEN\\marti",
                                    "16": "0x0105000000000005150000001403843556349AE9374930EAE9030000",
                                    "17": "",
                                    "18": "",
                                    "19": "NULL",
                                    "20": "",
                                    "21": "JURGEN",
                                    "22": "",
                                    "23": "",
                                    "24": "",
                                    "25": "",
                                    "26": "<action_info xmlns=\"http://schemas.microsoft.com/sqlserver/2008/sqlaudit_data\"><session><![CDATA[JobHistory_Audit$A]]></session><action>destroyed</action></action_info>",
                                    "27": "C:\\Audit\\JobHistory_Audit_121CCCE8-5095-4C6D-84D9-30A01745785F_0_132893200929250000.sqlaudit",
                                    "28": "7680",
                                    "29": "0",
                                    "30": "",
                                    "31": "1",
                                    "32": "0x00000000000000000000000000000000",
                                    "33": "0",
                                    "34": "local machine",
                                    "35": "Microsoft SQL Server Management Studio",
                                    "36": "0",
                                    "37": "0",
                                    "38": "0",
                                    "39": "e84701da-9349-455f-927f-8e5930d4f02e",
                                    "40": "",
                                    "41": "JURGEN"
                                },
                                {
                                    "0": "",
                                    "1": "2022-02-14 13:51:27.7801185",
                                    "2": "1",
                                    "3": "AUSC",
                                    "4": "1",
                                    "5": "0x00000000000000000000000000000000",
                                    "6": "0",
                                    "7": "56",
                                    "8": "259",
                                    "9": "0",
                                    "10": "0",
                                    "11": "0",
                                    "12": "0",
                                    "13": "A ",
                                    "14": "MicrosoftAccount\\martincroft22@gmail.com",
                                    "15": "JURGEN\\marti",
                                    "16": "0x0105000000000005150000001403843556349AE9374930EAE9030000",
                                    "17": "",
                                    "18": "",
                                    "19": "NULL",
                                    "20": "",
                                    "21": "JURGEN",
                                    "22": "",
                                    "23": "",
                                    "24": "",
                                    "25": "",
                                    "26": "<action_info xmlns=\"http://schemas.microsoft.com/sqlserver/2008/sqlaudit_data\"><session><![CDATA[JobHistory_Audit$A]]></session><action>event disabled</action><object><![CDATA[audit_event]]></object></action_info>",
                                    "27": "C:\\Audit\\JobHistory_Audit_121CCCE8-5095-4C6D-84D9-30A01745785F_0_132893200929250000.sqlaudit",
                                    "28": "8704",
                                    "29": "0",
                                    "30": "",
                                    "31": "1",
                                    "32": "0x00000000000000000000000000000000",
                                    "33": "0",
                                    "34": "local machine",
                                    "35": "Microsoft SQL Server Management Studio",
                                    "36": "0",
                                    "37": "0",
                                    "38": "0",
                                    "39": "e84701da-9349-455f-927f-8e5930d4f02e",
                                    "40": "",
                                    "41": "JURGEN"
                                },
                                {
                                    "0": "",
                                    "1": "2022-02-14 13:51:34.8265935",
                                    "2": "1",
                                    "3": "AUSC",
                                    "4": "1",
                                    "5": "0x00000000000000000000000000000000",
                                    "6": "0",
                                    "7": "56",
                                    "8": "259",
                                    "9": "0",
                                    "10": "0",
                                    "11": "0",
                                    "12": "0",
                                    "13": "A ",
                                    "14": "MicrosoftAccount\\martincroft22@gmail.com",
                                    "15": "JURGEN\\marti",
                                    "16": "0x0105000000000005150000001403843556349AE9374930EAE9030000",
                                    "17": "",
                                    "18": "",
                                    "19": "NULL",
                                    "20": "",
                                    "21": "JURGEN",
                                    "22": "",
                                    "23": "",
                                    "24": "",
                                    "25": "",
                                    "26": "<action_info xmlns=\"http://schemas.microsoft.com/sqlserver/2008/sqlaudit_data\"><session><![CDATA[JobHistory_Audit$A]]></session><action>event enabled</action><startup_type>manual</startup_type><object><![CDATA[audit_event]]></object></action_info>",
                                    "27": "C:\\Audit\\JobHistory_Audit_121CCCE8-5095-4C6D-84D9-30A01745785F_0_132893202948250000.sqlaudit",
                                    "28": "6144",
                                    "29": "0",
                                    "30": "",
                                    "31": "1",
                                    "32": "0x00000000000000000000000000000000",
                                    "33": "0",
                                    "34": "local machine",
                                    "35": "Microsoft SQL Server Management Studio",
                                    "36": "0",
                                    "37": "0",
                                    "38": "0",
                                    "39": "011982d3-74cf-474a-adc3-3cc960a32141",
                                    "40": "",
                                    "41": "JURGEN"
                                },
                                {
                                    "0": "",
                                    "1": "2022-02-14 13:57:47.3637706",
                                    "2": "1",
                                    "3": "AUSC",
                                    "4": "1",
                                    "5": "0x00000000000000000000000000000000",
                                    "6": "0",
                                    "7": "59",
                                    "8": "259",
                                    "9": "0",
                                    "10": "0",
                                    "11": "0",
                                    "12": "0",
                                    "13": "A ",
                                    "14": "MicrosoftAccount\\martincroft22@gmail.com",
                                    "15": "JURGEN\\marti",
                                    "16": "0x0105000000000005150000001403843556349AE9374930EAE9030000",
                                    "17": "",
                                    "18": "",
                                    "19": "NULL",
                                    "20": "",
                                    "21": "JURGEN",
                                    "22": "",
                                    "23": "",
                                    "24": "",
                                    "25": "",
                                    "26": "<action_info xmlns=\"http://schemas.microsoft.com/sqlserver/2008/sqlaudit_data\"><session><![CDATA[JobHistory_Audit$A]]></session><action>destroyed</action></action_info>",
                                    "27": "C:\\Audit\\JobHistory_Audit_121CCCE8-5095-4C6D-84D9-30A01745785F_0_132893202948250000.sqlaudit",
                                    "28": "7680",
                                    "29": "0",
                                    "30": "",
                                    "31": "1",
                                    "32": "0x00000000000000000000000000000000",
                                    "33": "0",
                                    "34": "local machine",
                                    "35": "Microsoft SQL Server Management Studio - Query",
                                    "36": "0",
                                    "37": "0",
                                    "38": "0",
                                    "39": "aa3ac364-46a7-4a97-8d7f-9dc2514d4156",
                                    "40": "",
                                    "41": "JURGEN"
                                },
                                {
                                    "0": "",
                                    "1": "2022-02-14 13:57:47.3637706",
                                    "2": "1",
                                    "3": "AUSC",
                                    "4": "1",
                                    "5": "0x00000000000000000000000000000000",
                                    "6": "0",
                                    "7": "59",
                                    "8": "259",
                                    "9": "0",
                                    "10": "0",
                                    "11": "0",
                                    "12": "0",
                                    "13": "A ",
                                    "14": "MicrosoftAccount\\martincroft22@gmail.com",
                                    "15": "JURGEN\\marti",
                                    "16": "0x0105000000000005150000001403843556349AE9374930EAE9030000",
                                    "17": "",
                                    "18": "",
                                    "19": "NULL",
                                    "20": "",
                                    "21": "JURGEN",
                                    "22": "",
                                    "23": "",
                                    "24": "",
                                    "25": "",
                                    "26": "<action_info xmlns=\"http://schemas.microsoft.com/sqlserver/2008/sqlaudit_data\"><session><![CDATA[JobHistory_Audit$A]]></session><action>event disabled</action><object><![CDATA[audit_event]]></object></action_info>",
                                    "27": "C:\\Audit\\JobHistory_Audit_121CCCE8-5095-4C6D-84D9-30A01745785F_0_132893202948250000.sqlaudit",
                                    "28": "8704",
                                    "29": "0",
                                    "30": "",
                                    "31": "1",
                                    "32": "0x00000000000000000000000000000000",
                                    "33": "0",
                                    "34": "local machine",
                                    "35": "Microsoft SQL Server Management Studio - Query",
                                    "36": "0",
                                    "37": "0",
                                    "38": "0",
                                    "39": "aa3ac364-46a7-4a97-8d7f-9dc2514d4156",
                                    "40": "",
                                    "41": "JURGEN"
                                }
                            ]
                        },
                        "text/html": [
                            "<table>",
                            "<tr><th>statement</th><th>event_time</th><th>sequence_number</th><th>action_id</th><th>succeeded</th><th>permission_bitmask</th><th>is_column_permission</th><th>session_id</th><th>server_principal_id</th><th>database_principal_id</th><th>target_server_principal_id</th><th>target_database_principal_id</th><th>object_id</th><th>class_type</th><th>session_server_principal_name</th><th>server_principal_name</th><th>server_principal_sid</th><th>database_principal_name</th><th>target_server_principal_name</th><th>target_server_principal_sid</th><th>target_database_principal_name</th><th>server_instance_name</th><th>database_name</th><th>schema_name</th><th>object_name</th><th>statement</th><th>additional_information</th><th>file_name</th><th>audit_file_offset</th><th>user_defined_event_id</th><th>user_defined_information</th><th>audit_schema_version</th><th>sequence_group_id</th><th>transaction_id</th><th>client_ip</th><th>application_name</th><th>duration_milliseconds</th><th>response_rows</th><th>affected_rows</th><th>connection_id</th><th>data_sensitivity_information</th><th>host_name</th></tr>",
                            "<tr><td></td><td>2022-02-14 13:48:12.9286940</td><td>1</td><td>AUSC</td><td>1</td><td>0x00000000000000000000000000000000</td><td>0</td><td>63</td><td>259</td><td>0</td><td>0</td><td>0</td><td>0</td><td>A </td><td>MicrosoftAccount\\martincroft22@gmail.com</td><td>JURGEN\\marti</td><td>0x0105000000000005150000001403843556349AE9374930EAE9030000</td><td></td><td></td><td>NULL</td><td></td><td>JURGEN</td><td></td><td></td><td></td><td></td><td>&lt;action_info xmlns=&quot;http://schemas.microsoft.com/sqlserver/2008/sqlaudit_data&quot;&gt;&lt;session&gt;&lt;![CDATA[JobHistory_Audit$A]]&gt;&lt;/session&gt;&lt;action&gt;event enabled&lt;/action&gt;&lt;startup_type&gt;manual&lt;/startup_type&gt;&lt;object&gt;&lt;![CDATA[audit_event]]&gt;&lt;/object&gt;&lt;/action_info&gt;</td><td>C:\\Audit\\JobHistory_Audit_121CCCE8-5095-4C6D-84D9-30A01745785F_0_132893200929250000.sqlaudit</td><td>6144</td><td>0</td><td></td><td>1</td><td>0x00000000000000000000000000000000</td><td>0</td><td>local machine</td><td>azdata-Query</td><td>0</td><td>0</td><td>0</td><td>8dbad2f1-6d0b-4234-906f-dbc463f22686</td><td></td><td>JURGEN</td></tr>",
                            "<tr><td></td><td>2022-02-14 13:51:27.7801185</td><td>1</td><td>AUSC</td><td>1</td><td>0x00000000000000000000000000000000</td><td>0</td><td>56</td><td>259</td><td>0</td><td>0</td><td>0</td><td>0</td><td>A </td><td>MicrosoftAccount\\martincroft22@gmail.com</td><td>JURGEN\\marti</td><td>0x0105000000000005150000001403843556349AE9374930EAE9030000</td><td></td><td></td><td>NULL</td><td></td><td>JURGEN</td><td></td><td></td><td></td><td></td><td>&lt;action_info xmlns=&quot;http://schemas.microsoft.com/sqlserver/2008/sqlaudit_data&quot;&gt;&lt;session&gt;&lt;![CDATA[JobHistory_Audit$A]]&gt;&lt;/session&gt;&lt;action&gt;destroyed&lt;/action&gt;&lt;/action_info&gt;</td><td>C:\\Audit\\JobHistory_Audit_121CCCE8-5095-4C6D-84D9-30A01745785F_0_132893200929250000.sqlaudit</td><td>7680</td><td>0</td><td></td><td>1</td><td>0x00000000000000000000000000000000</td><td>0</td><td>local machine</td><td>Microsoft SQL Server Management Studio</td><td>0</td><td>0</td><td>0</td><td>e84701da-9349-455f-927f-8e5930d4f02e</td><td></td><td>JURGEN</td></tr>",
                            "<tr><td></td><td>2022-02-14 13:51:27.7801185</td><td>1</td><td>AUSC</td><td>1</td><td>0x00000000000000000000000000000000</td><td>0</td><td>56</td><td>259</td><td>0</td><td>0</td><td>0</td><td>0</td><td>A </td><td>MicrosoftAccount\\martincroft22@gmail.com</td><td>JURGEN\\marti</td><td>0x0105000000000005150000001403843556349AE9374930EAE9030000</td><td></td><td></td><td>NULL</td><td></td><td>JURGEN</td><td></td><td></td><td></td><td></td><td>&lt;action_info xmlns=&quot;http://schemas.microsoft.com/sqlserver/2008/sqlaudit_data&quot;&gt;&lt;session&gt;&lt;![CDATA[JobHistory_Audit$A]]&gt;&lt;/session&gt;&lt;action&gt;event disabled&lt;/action&gt;&lt;object&gt;&lt;![CDATA[audit_event]]&gt;&lt;/object&gt;&lt;/action_info&gt;</td><td>C:\\Audit\\JobHistory_Audit_121CCCE8-5095-4C6D-84D9-30A01745785F_0_132893200929250000.sqlaudit</td><td>8704</td><td>0</td><td></td><td>1</td><td>0x00000000000000000000000000000000</td><td>0</td><td>local machine</td><td>Microsoft SQL Server Management Studio</td><td>0</td><td>0</td><td>0</td><td>e84701da-9349-455f-927f-8e5930d4f02e</td><td></td><td>JURGEN</td></tr>",
                            "<tr><td></td><td>2022-02-14 13:51:34.8265935</td><td>1</td><td>AUSC</td><td>1</td><td>0x00000000000000000000000000000000</td><td>0</td><td>56</td><td>259</td><td>0</td><td>0</td><td>0</td><td>0</td><td>A </td><td>MicrosoftAccount\\martincroft22@gmail.com</td><td>JURGEN\\marti</td><td>0x0105000000000005150000001403843556349AE9374930EAE9030000</td><td></td><td></td><td>NULL</td><td></td><td>JURGEN</td><td></td><td></td><td></td><td></td><td>&lt;action_info xmlns=&quot;http://schemas.microsoft.com/sqlserver/2008/sqlaudit_data&quot;&gt;&lt;session&gt;&lt;![CDATA[JobHistory_Audit$A]]&gt;&lt;/session&gt;&lt;action&gt;event enabled&lt;/action&gt;&lt;startup_type&gt;manual&lt;/startup_type&gt;&lt;object&gt;&lt;![CDATA[audit_event]]&gt;&lt;/object&gt;&lt;/action_info&gt;</td><td>C:\\Audit\\JobHistory_Audit_121CCCE8-5095-4C6D-84D9-30A01745785F_0_132893202948250000.sqlaudit</td><td>6144</td><td>0</td><td></td><td>1</td><td>0x00000000000000000000000000000000</td><td>0</td><td>local machine</td><td>Microsoft SQL Server Management Studio</td><td>0</td><td>0</td><td>0</td><td>011982d3-74cf-474a-adc3-3cc960a32141</td><td></td><td>JURGEN</td></tr>",
                            "<tr><td></td><td>2022-02-14 13:57:47.3637706</td><td>1</td><td>AUSC</td><td>1</td><td>0x00000000000000000000000000000000</td><td>0</td><td>59</td><td>259</td><td>0</td><td>0</td><td>0</td><td>0</td><td>A </td><td>MicrosoftAccount\\martincroft22@gmail.com</td><td>JURGEN\\marti</td><td>0x0105000000000005150000001403843556349AE9374930EAE9030000</td><td></td><td></td><td>NULL</td><td></td><td>JURGEN</td><td></td><td></td><td></td><td></td><td>&lt;action_info xmlns=&quot;http://schemas.microsoft.com/sqlserver/2008/sqlaudit_data&quot;&gt;&lt;session&gt;&lt;![CDATA[JobHistory_Audit$A]]&gt;&lt;/session&gt;&lt;action&gt;destroyed&lt;/action&gt;&lt;/action_info&gt;</td><td>C:\\Audit\\JobHistory_Audit_121CCCE8-5095-4C6D-84D9-30A01745785F_0_132893202948250000.sqlaudit</td><td>7680</td><td>0</td><td></td><td>1</td><td>0x00000000000000000000000000000000</td><td>0</td><td>local machine</td><td>Microsoft SQL Server Management Studio - Query</td><td>0</td><td>0</td><td>0</td><td>aa3ac364-46a7-4a97-8d7f-9dc2514d4156</td><td></td><td>JURGEN</td></tr>",
                            "<tr><td></td><td>2022-02-14 13:57:47.3637706</td><td>1</td><td>AUSC</td><td>1</td><td>0x00000000000000000000000000000000</td><td>0</td><td>59</td><td>259</td><td>0</td><td>0</td><td>0</td><td>0</td><td>A </td><td>MicrosoftAccount\\martincroft22@gmail.com</td><td>JURGEN\\marti</td><td>0x0105000000000005150000001403843556349AE9374930EAE9030000</td><td></td><td></td><td>NULL</td><td></td><td>JURGEN</td><td></td><td></td><td></td><td></td><td>&lt;action_info xmlns=&quot;http://schemas.microsoft.com/sqlserver/2008/sqlaudit_data&quot;&gt;&lt;session&gt;&lt;![CDATA[JobHistory_Audit$A]]&gt;&lt;/session&gt;&lt;action&gt;event disabled&lt;/action&gt;&lt;object&gt;&lt;![CDATA[audit_event]]&gt;&lt;/object&gt;&lt;/action_info&gt;</td><td>C:\\Audit\\JobHistory_Audit_121CCCE8-5095-4C6D-84D9-30A01745785F_0_132893202948250000.sqlaudit</td><td>8704</td><td>0</td><td></td><td>1</td><td>0x00000000000000000000000000000000</td><td>0</td><td>local machine</td><td>Microsoft SQL Server Management Studio - Query</td><td>0</td><td>0</td><td>0</td><td>aa3ac364-46a7-4a97-8d7f-9dc2514d4156</td><td></td><td>JURGEN</td></tr>",
                            "</table>"
                        ]
                    }
                }
            ],
            "execution_count": 14
        },
        {
            "cell_type": "markdown",
            "source": [
                "## [Home](file:///C:/SQLScriptsLibrary/Home.ipynb)"
            ],
            "metadata": {
                "azdata_cell_guid": "7fba0087-8d3b-495a-badb-af2da450522f"
            }
        }
    ]
}