{
    "metadata": {
        "kernelspec": {
            "name": "SQL",
            "display_name": "SQL",
            "language": "sql"
        },
        "language_info": {
            "name": "sql",
            "version": ""
        },
        "extensions": {
            "azuredatastudio": {
                "version": 1,
                "views": []
            }
        }
    },
    "nbformat_minor": 2,
    "nbformat": 4,
    "cells": [
        {
            "cell_type": "markdown",
            "source": [
                "## [Home](file:///C:/SQLScriptsLibrary/Home.ipynb)"
            ],
            "metadata": {
                "azdata_cell_guid": "333b441a-8874-40cd-947a-c35aad0d4639",
                "extensions": {
                    "azuredatastudio": {
                        "views": []
                    }
                }
            }
        },
        {
            "cell_type": "markdown",
            "source": [
                "## Auditing\n",
                "\n",
                "> - Some Stuff (Query 1)\n",
                ">     - More Stuff (Query 2)\n",
                ">     - Some Info\n",
                ">         - More Info- (Query 3.1)\n",
                ">         - Even More Info IP - (Query 3.2)"
            ],
            "metadata": {
                "azdata_cell_guid": "99b98758-2dda-47db-9afa-e2507357cbb3"
            },
            "attachments": {}
        },
        {
            "cell_type": "code",
            "source": [
                "/* Database audit specifications in a SQL Server audit on a server instance for all databases */\r\n",
                "SELECT TOP 1000 \r\n",
                "\t'[database_audit_specification_details]' AS TableName\r\n",
                "\t,[database_specification_id]\r\n",
                "\t,[audit_action_id]\r\n",
                "\t,[audit_action_name]\r\n",
                "\t,[class]\r\n",
                "\t,[class_desc]\r\n",
                "\t,[major_id]\r\n",
                "\t,[minor_id]\r\n",
                "\t,[audited_principal_id]\r\n",
                "\t,[audited_result]\r\n",
                "\t,[is_group]\r\n",
                "FROM [master].[sys].[database_audit_specification_details]\r\n",
                ""
            ],
            "metadata": {
                "azdata_cell_guid": "b68ab862-0cd9-4625-8303-5ac9ec3d1161"
            },
            "outputs": [],
            "execution_count": null
        },
        {
            "cell_type": "code",
            "source": [
                "/* Contains information about the database audit specifications in a SQL Server audit on a server instance. */\r\n",
                "SELECT TOP 1000 \r\n",
                "\t'[database_audit_specifications]' AS TableName\r\n",
                "\t,[database_specification_id]\r\n",
                "\t,[name]\r\n",
                "\t,[create_date]\r\n",
                "\t,[modify_date]\r\n",
                "\t,[audit_guid]\r\n",
                "\t,[is_state_enabled]\r\n",
                "FROM [master].[sys].[database_audit_specifications]\r\n",
                ""
            ],
            "metadata": {
                "azdata_cell_guid": "fc8571ad-3cf2-427e-93b6-a1960f214a60"
            },
            "outputs": [],
            "execution_count": null
        },
        {
            "cell_type": "code",
            "source": [
                "/* Returns a row for every audit action that can be reported in the audit log and every audit action group  */\r\n",
                "--that can be configured as part of SQL Server Audit.  \r\n",
                "SELECT TOP 1000 \r\n",
                "\t'[dm_audit_actions]' AS TableName\r\n",
                "\t,[action_id]\r\n",
                "\t,[name]\r\n",
                "\t,[class_desc]\r\n",
                "\t,[covering_action_name]\r\n",
                "\t,[parent_class_desc]\r\n",
                "\t,[covering_parent_action_name]\r\n",
                "\t,[configuration_level]\r\n",
                "\t,[containing_group_name]\r\n",
                "\t,[action_in_log]\r\n",
                "FROM [master].[sys].[dm_audit_actions]\r\n",
                ""
            ],
            "metadata": {
                "azdata_cell_guid": "9f4f2da3-4ac2-4540-8346-3280f7bd677f"
            },
            "outputs": [],
            "execution_count": null
        },
        {
            "cell_type": "code",
            "source": [
                "/* Returns a table that maps the class_type field in the audit log to the class_desc field in sys.dm_audit_actions  */\r\n",
                "SELECT TOP 1000 \r\n",
                "\t'[dm_audit_class_type_map]' AS TableName\r\n",
                "\t,[class_type]\r\n",
                "\t,[class_type_desc]\r\n",
                "\t,[securable_class_desc]\r\n",
                "FROM [master].[sys].[dm_audit_class_type_map]\r\n",
                ""
            ],
            "metadata": {
                "azdata_cell_guid": "5b58d80a-e10d-4b9c-b4c5-52be20bacc01"
            },
            "outputs": [],
            "execution_count": null
        },
        {
            "cell_type": "code",
            "source": [
                "/* Returns a row for each server audit indicating the current state of the audit. */\r\n",
                "SELECT TOP 1000 \r\n",
                "\t'[dm_server_audit_status]' AS TableName\r\n",
                "\t,[audit_id]\r\n",
                "\t,[name]\r\n",
                "\t,[status]\r\n",
                "\t,[status_desc]\r\n",
                "\t,[status_time]\r\n",
                "\t,[event_session_address]\r\n",
                "\t,[audit_file_path]\r\n",
                "\t,[audit_file_size]\r\n",
                "FROM [master].[sys].[dm_server_audit_status]\r\n",
                ""
            ],
            "metadata": {
                "azdata_cell_guid": "90f3e0a1-0d69-41c4-8407-97caeb3ce169"
            },
            "outputs": [],
            "execution_count": null
        },
        {
            "cell_type": "code",
            "source": [
                "/* Contains information about the server audit specification details (actions) in a SQL Server audit on a server instance.*/\r\n",
                "SELECT TOP 1000 \r\n",
                "\t'[server_audit_specification_details]' AS TableName\r\n",
                "\t,[server_specification_id]\r\n",
                "\t,[audit_action_id]\r\n",
                "\t,[audit_action_name]\r\n",
                "\t,[class]\r\n",
                "\t,[class_desc]\r\n",
                "\t,[major_id]\r\n",
                "\t,[minor_id]\r\n",
                "\t,[audited_principal_id]\r\n",
                "\t,[audited_result]\r\n",
                "\t,[is_group]\r\n",
                "FROM [master].[sys].[server_audit_specification_details]\r\n",
                ""
            ],
            "metadata": {
                "azdata_cell_guid": "52255bae-dc58-4270-aec5-00ef4c9013c8"
            },
            "outputs": [],
            "execution_count": null
        },
        {
            "cell_type": "code",
            "source": [
                "/* Contains information about the server audit specifications in a SQL Server audit on a server instance */\r\n",
                "SELECT TOP 1000 \r\n",
                "\t'server_audit_specifications' AS TableName\r\n",
                "\t,[server_specification_id]\r\n",
                "\t,[name]\r\n",
                "\t,[create_date]\r\n",
                "\t,[modify_date]\r\n",
                "\t,[audit_guid]\r\n",
                "\t,[is_state_enabled]\r\n",
                "FROM [master].[sys].[server_audit_specifications]\r\n",
                ""
            ],
            "metadata": {
                "azdata_cell_guid": "408c6b28-ced0-4e3b-b88c-0cc81160d8e8"
            },
            "outputs": [],
            "execution_count": null
        },
        {
            "cell_type": "markdown",
            "source": [
                ""
            ],
            "metadata": {
                "azdata_cell_guid": "6dbdde14-8ac2-4c6b-8c30-d5954b2d4f15"
            }
        },
        {
            "cell_type": "code",
            "source": [
                "\r\n",
                "/* Contains one row for each SQL Server audit in a server instance */\r\n",
                "SELECT TOP 1000 \r\n",
                "\t'[server_audits]' AS TableName\r\n",
                "\t,[audit_id]\r\n",
                "\t,[name]\r\n",
                "\t,[audit_guid]\r\n",
                "\t,[create_date]\r\n",
                "\t,[modify_date]\r\n",
                "\t,[principal_id]\r\n",
                "\t,[type]\r\n",
                "\t,[type_desc]\r\n",
                "\t,[on_failure]\r\n",
                "\t,[on_failure_desc]\r\n",
                "\t,[is_state_enabled]\r\n",
                "\t,[queue_delay]\r\n",
                "FROM [master].[sys].[server_audits]\r\n",
                ""
            ],
            "metadata": {
                "azdata_cell_guid": "1e7d8cae-86cf-418e-8ecc-b26ee4944d05"
            },
            "outputs": [],
            "execution_count": null
        },
        {
            "cell_type": "code",
            "source": [
                "/* Contains extended information about the file audit type in a SQL Server audit on a server instance */\r\n",
                "SELECT TOP 1000 \r\n",
                "\t'[server_file_audits]' AS TableName\r\n",
                "\t,[audit_id]\r\n",
                "\t,[name]\r\n",
                "\t,[audit_guid]\r\n",
                "\t,[create_date]\r\n",
                "\t,[modify_date]\r\n",
                "\t,[principal_id]\r\n",
                "\t,[type]\r\n",
                "\t,[type_desc]\r\n",
                "\t,[on_failure]\r\n",
                "\t,[on_failure_desc]\r\n",
                "\t,[is_state_enabled]\r\n",
                "\t,[queue_delay]\r\n",
                "\t,[max_file_size]\r\n",
                "\t,[max_rollover_files]\r\n",
                "\t,[reserve_disk_space]\r\n",
                "\t,[log_file_path]\r\n",
                "\t,[log_file_name]\r\n",
                "FROM [master].[sys].[server_file_audits]\r\n",
                ""
            ],
            "metadata": {
                "azdata_cell_guid": "d400e15e-ca7e-4c32-b151-c5de70ffe289"
            },
            "outputs": [],
            "execution_count": null
        },
        {
            "cell_type": "code",
            "source": [
                "/* Get Audit information for specific Audits */\r\n",
                "SELECT AuditFile.*\r\n",
                "FROM sys.dm_server_audit_status AS AuditStatus\r\n",
                "CROSS APPLY sys.fn_get_audit_file(AuditStatus.audit_file_path, DEFAULT, DEFAULT) AS AuditFile\r\n",
                "\r\n",
                ""
            ],
            "metadata": {
                "azdata_cell_guid": "5990e952-dfbd-4051-b82d-c660efdeb707"
            },
            "outputs": [],
            "execution_count": null
        },
        {
            "cell_type": "code",
            "source": [
                "/* Disable and Drop Audit */\r\n",
                "USE [master]\r\n",
                "GO\r\n",
                "\r\n",
                "DECLARE @Audit_Name sysname ='server_file_audits',\r\n",
                "\t    @sqlcmd VARCHAR(MAX)\r\n",
                "\r\n",
                "IF EXISTS(SELECT name FROM sys.server_audits WHERE is_state_enabled = 1 AND Name =@Audit_Name)\r\n",
                "BEGIN\r\n",
                "\tSET @sqlcmd ='ALTER SERVER AUDIT [' + @Audit_Name + '] WITH (STATE = OFF)'\r\n",
                "\tEXEC (@sqlcmd)\r\n",
                "\r\n",
                "    SET @sqlcmd=  'DROP SERVER AUDIT ['+ @Audit_Name + ']'\r\n",
                "    EXEC (@sqlcmd)\r\n",
                "END\r\n",
                ""
            ],
            "metadata": {
                "azdata_cell_guid": "beef2e70-05b5-4a6b-8c19-49ceca697185",
                "tags": []
            },
            "outputs": [],
            "execution_count": null
        },
        {
            "cell_type": "code",
            "source": [
                "/* Drop audit that exists and is disabled */\r\n",
                "USE [master]\r\n",
                "GO\r\n",
                "\r\n",
                "DECLARE @Audit_Name sysname ='JobHistory_Audit',\r\n",
                "\t    @sqlcmd VARCHAR(MAX)\r\n",
                "\r\n",
                "IF EXISTS(SELECT name FROM sys.server_audits WHERE is_state_enabled = 0 AND Name =@Audit_Name)\r\n",
                "BEGIN\r\n",
                "\tSET @sqlcmd=  'DROP SERVER AUDIT ['+ @Audit_Name + ']'\r\n",
                "    EXEC (@sqlcmd)\r\n",
                "END\r\n",
                ""
            ],
            "metadata": {
                "azdata_cell_guid": "d6ca20f3-25c3-4465-b08a-e84633e413d1"
            },
            "outputs": [],
            "execution_count": null
        },
        {
            "cell_type": "code",
            "source": [
                "\r\n",
                "SELECT name FROM sys.server_audits WHERE is_state_enabled = 1 AND Name =$Audit_Name"
            ],
            "metadata": {
                "azdata_cell_guid": "663b9e17-291b-4901-8bac-24e1779b10f9"
            },
            "outputs": [],
            "execution_count": null
        },
        {
            "cell_type": "code",
            "source": [
                "/* 02 Audit Job changes.sql  */\r\n",
                "--=====================================\r\n",
                "--Create Job history Audits\r\n",
                "--=====================================\r\n",
                "\r\n",
                "USE [master]\r\n",
                "GO\r\n",
                "\r\n",
                "\r\n",
                "CREATE SERVER AUDIT [JobHistory_Audit] TO FILE (\r\n",
                "\tFILEPATH = N'C:\\Audit'\r\n",
                "\t,MAXSIZE = 0 MB\r\n",
                "\t,MAX_ROLLOVER_FILES = 2147483647\r\n",
                "\t,RESERVE_DISK_SPACE = OFF\r\n",
                "\t)\r\n",
                "\tWITH (\r\n",
                "\t\t\tQUEUE_DELAY = 1000\r\n",
                "\t\t\t,ON_FAILURE = CONTINUE\r\n",
                "\t\t\t)\r\n",
                "GO\r\n",
                "\r\n",
                "USE [msdb]\r\n",
                "GO\r\n",
                "\r\n",
                "\r\n",
                "\r\n",
                "CREATE DATABASE AUDIT SPECIFICATION [DatabaseAuditSpecification-EnterDate]\r\n",
                "FOR SERVER AUDIT [JobHistory_Audit] ADD (\r\n",
                "\t\tUPDATE ON OBJECT::[dbo].[sysjobs] BY [public]\r\n",
                "\t\t)\r\n",
                "\t,ADD (\r\n",
                "\t\tINSERT ON OBJECT::[dbo].[sysjobs] BY [public]\r\n",
                "\t\t)\r\n",
                "\t,ADD (\r\n",
                "\t\tDELETE ON OBJECT::[dbo].[sysjobs] BY [public]\r\n",
                "\t\t)\r\n",
                "GO\r\n",
                "\r\n",
                "ALTER DATABASE AUDIT SPECIFICATION [DatabaseAuditSpecification-EnterDate]\r\n",
                "\tWITH (STATE = ON)\r\n",
                "\r\n",
                "USE master\r\n",
                "GO\r\n",
                "\r\n",
                "ALTER SERVER AUDIT [JobHistory_Audit]\r\n",
                "\tWITH (STATE = ON)\r\n",
                "GO\r\n",
                "\r\n",
                "SELECT statement\r\n",
                "\t,*\r\n",
                "FROM fn_get_audit_file('C:\\Audit\\jobHistory*', DEFAULT, DEFAULT)\r\n",
                "GO\r\n",
                "\r\n",
                "--Sysjobsteps\r\n",
                "USE MASTER\r\n",
                "GO\r\n",
                "\r\n",
                "CREATE SERVER AUDIT [JobStepsHistory_Audit] TO FILE (\r\n",
                "\tFILEPATH = N'C:\\Audit'\r\n",
                "\t,MAXSIZE = 0 MB\r\n",
                "\t,MAX_ROLLOVER_FILES = 2147483647\r\n",
                "\t,RESERVE_DISK_SPACE = OFF\r\n",
                "\t)\r\n",
                "\tWITH (\r\n",
                "\t\t\tQUEUE_DELAY = 1000\r\n",
                "\t\t\t,ON_FAILURE = CONTINUE\r\n",
                "\t\t\t)\r\n",
                "GO\r\n",
                "\r\n",
                "USE MSDB\r\n",
                "GO\r\n",
                "\r\n",
                "CREATE DATABASE AUDIT SPECIFICATION [DatabaseAuditSpecification-JobSteps]\r\n",
                "FOR SERVER AUDIT [JobStepsHistory_Audit] ADD (\r\n",
                "\t\tUPDATE ON OBJECT::[dbo].[sysjobsteps] BY [public]\r\n",
                "\t\t)\r\n",
                "\t,ADD (\r\n",
                "\t\tINSERT ON OBJECT::[dbo].[sysjobsteps] BY [public]\r\n",
                "\t\t)\r\n",
                "\t,ADD (\r\n",
                "\t\tDELETE ON OBJECT::[dbo].[sysjobsteps] BY [public]\r\n",
                "\t\t)\r\n",
                "\r\n",
                "ALTER DATABASE AUDIT SPECIFICATION [DatabaseAuditSpecification-JobSteps]\r\n",
                "\tWITH (STATE = ON)\r\n",
                "\r\n",
                "USE master\r\n",
                "GO\r\n",
                "\r\n",
                "ALTER SERVER AUDIT [JobStepsHistory_Audit]\r\n",
                "\tWITH (STATE = ON)\r\n",
                "GO\r\n",
                "\r\n",
                "SELECT statement\r\n",
                "\t,*\r\n",
                "FROM fn_get_audit_file('C:\\Audit\\jobStepsHistory*', DEFAULT, DEFAULT)\r\n",
                "\r\n",
                "SELECT statement\r\n",
                "\t,*\r\n",
                "FROM fn_get_audit_file('C:\\Audit\\jobHistory*', DEFAULT, DEFAULT)\r\n",
                ""
            ],
            "metadata": {
                "azdata_cell_guid": "1af4cb52-9e72-424b-9cab-1cc9ade99f00"
            },
            "outputs": [],
            "execution_count": null
        },
        {
            "cell_type": "markdown",
            "source": [
                "## [Home](file:///C:/SQLScriptsLibrary/Home.ipynb)"
            ],
            "metadata": {
                "azdata_cell_guid": "7fba0087-8d3b-495a-badb-af2da450522f"
            }
        }
    ]
}