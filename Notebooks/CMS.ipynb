{
    "metadata": {
        "kernelspec": {
            "name": "SQL",
            "display_name": "SQL",
            "language": "sql"
        },
        "language_info": {
            "name": "sql",
            "version": ""
        },
        "extensions": {
            "azuredatastudio": {
                "version": 1,
                "views": []
            }
        }
    },
    "nbformat_minor": 2,
    "nbformat": 4,
    "cells": [
        {
            "cell_type": "markdown",
            "source": [
                "## [Home](file:///C:/SQLScriptsLibrary/Home.ipynb)"
            ],
            "metadata": {
                "azdata_cell_guid": "333b441a-8874-40cd-947a-c35aad0d4639",
                "extensions": {
                    "azuredatastudio": {
                        "views": []
                    }
                }
            }
        },
        {
            "cell_type": "markdown",
            "source": [
                "## Central Management Server Queries\n",
                "\n",
                "> - List Registered servers - Folder name and server name(Query 1)"
            ],
            "metadata": {
                "azdata_cell_guid": "4ed5ee4c-98d2-4719-bc46-83bced559f5d"
            },
            "attachments": {}
        },
        {
            "cell_type": "markdown",
            "source": [
                "## [Home](file:///C:/SQLScriptsLibrary/Home.ipynb)"
            ],
            "metadata": {
                "azdata_cell_guid": "6413d5af-51ae-4b72-bb78-eb5e77669f42"
            },
            "attachments": {}
        },
        {
            "cell_type": "code",
            "source": [
                "/* Query(1)  List Registered Servers.sql  */ \r\n",
                "\r\n",
                "WITH\r\n",
                "       a ( [Server_Name] , Server_Group_ID, RowNum)\r\n",
                "       AS\r\n",
                "       (\r\n",
                "              SELECT \r\n",
                "                     [Server_Name] , \r\n",
                "                     Server_Group_ID , \r\n",
                "                     ROW_NUMBER() OVER (PARTITION BY Server_Name ORDER BY Server_Name) RowNum\r\n",
                "              FROM\r\n",
                "                     msdb.dbo.sysmanagement_shared_registered_servers_internal a\r\n",
                "       )\r\n",
                "\r\n",
                "\r\n",
                "SELECT\r\n",
                "       b.name [Parent Name],\r\n",
                "       [Server_Name] ,\r\n",
                "       a.Server_Group_ID\r\n",
                "FROM a\r\n",
                "       LEFT JOIN\r\n",
                "       msdb.dbo.sysmanagement_shared_server_groups_internal  b\r\n",
                "       ON \r\n",
                "       a.server_group_id = b.server_group_id\r\n",
                "       LEFT JOIN\r\n",
                "       msdb.dbo.sysmanagement_shared_server_groups_internal  c\r\n",
                "       ON \r\n",
                "       c.server_group_id = b.parent_id\r\n",
                ""
            ],
            "metadata": {
                "azdata_cell_guid": "1084579b-6046-4f68-af64-7eb8897adb3f"
            },
            "outputs": [],
            "execution_count": null
        }
    ]
}