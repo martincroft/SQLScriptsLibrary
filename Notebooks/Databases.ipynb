{
    "metadata": {
        "kernelspec": {
            "name": "SQL",
            "display_name": "SQL",
            "language": "sql"
        },
        "language_info": {
            "name": "sql",
            "version": ""
        },
        "extensions": {
            "azuredatastudio": {
                "version": 1,
                "views": []
            }
        }
    },
    "nbformat_minor": 2,
    "nbformat": 4,
    "cells": [
        {
            "cell_type": "markdown",
            "source": [
                "## [Home](file:///C:/SQLScriptsLibrary/Home.ipynb)"
            ],
            "metadata": {
                "azdata_cell_guid": "333b441a-8874-40cd-947a-c35aad0d4639",
                "extensions": {
                    "azuredatastudio": {
                        "views": []
                    }
                }
            }
        },
        {
            "cell_type": "markdown",
            "source": [
                "## Databases and Table info\n",
                "> - Simple find columns in tables - wild card search (Q1)\n",
                "> - (Q2)\n",
                "> - (Q3)\n",
                "> - (Q4)\n",
                "> - (Q5)"
            ],
            "metadata": {
                "azdata_cell_guid": "99b98758-2dda-47db-9afa-e2507357cbb3"
            },
            "attachments": {}
        },
        {
            "cell_type": "code",
            "source": [
                "/* Simple find columns in tables */\r\n",
                "DECLARE @ColumnToFind sysname ='Sale'\r\n",
                "\r\n",
                "SELECT \r\n",
                "\tTABLE_CATALOG AS DatabaseName,\r\n",
                "\tTABLE_SCHEMA AS SchemaName,\r\n",
                "\tTABLE_NAME AS TableName,\r\n",
                "\tCOLUMN_NAME AS ColumnName\r\n",
                "FROM \r\n",
                "\tINFORMATION_SCHEMA.COLUMNS\r\n",
                "WHERE\r\n",
                "\tCOLUMN_NAME like ('%'+@ColumnToFind+'%')"
            ],
            "metadata": {
                "azdata_cell_guid": "07547c12-033b-41eb-bb14-bcc6710fae74",
                "tags": []
            },
            "outputs": [],
            "execution_count": null
        },
        {
            "cell_type": "markdown",
            "source": [
                "## [Home](file:///C:/SQLScriptsLibrary/Home.ipynb)"
            ],
            "metadata": {
                "azdata_cell_guid": "7fba0087-8d3b-495a-badb-af2da450522f"
            }
        }
    ]
}