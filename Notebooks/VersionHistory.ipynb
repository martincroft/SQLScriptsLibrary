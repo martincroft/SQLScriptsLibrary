{
    "metadata": {
        "kernelspec": {
            "name": "SQL",
            "display_name": "SQL",
            "language": "sql"
        },
        "language_info": {
            "name": "sql",
            "version": ""
        }
    },
    "nbformat_minor": 2,
    "nbformat": 4,
    "cells": [
        {
            "cell_type": "markdown",
            "source": [
                "## Version History\n",
                "\n",
                "- > 0.1 Initial version\n",
                "    > \n",
                "    > - Known Issues\n",
                "    >     - Hard coded hyper links\n",
                "    >     - Several notebook need code importing and are just holding pages\n",
                "    >     - Removed Extended events - to be readdded\n",
                "    >     - Capitalisation of notebooks\n",
                "    >     - Stanardisation of format (Query1) /  (Q1)\n",
                "    >     - Add new server to specified group (Q3) in Registered Servers missing\n",
                "    >     - Removed table info"
            ],
            "metadata": {
                "azdata_cell_guid": "6fe17da2-1abb-43b9-a1ea-55821a14266e"
            },
            "attachments": {}
        }
    ]
}