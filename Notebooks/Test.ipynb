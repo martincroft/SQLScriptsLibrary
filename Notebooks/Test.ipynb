{
    "metadata": {
        "kernelspec": {
            "name": "SQL",
            "display_name": "SQL",
            "language": "sql"
        },
        "language_info": {
            "name": "sql",
            "version": ""
        },
        "extensions": {
            "azuredatastudio": {
                "version": 1,
                "views": []
            }
        }
    },
    "nbformat_minor": 2,
    "nbformat": 4,
    "cells": [
        {
            "cell_type": "markdown",
            "source": [
                "## [Home](file:///C:/SQLScriptsLibrary/Home.ipynb)"
            ],
            "metadata": {
                "azdata_cell_guid": "333b441a-8874-40cd-947a-c35aad0d4639",
                "extensions": {
                    "azuredatastudio": {
                        "views": []
                    }
                }
            }
        },
        {
            "cell_type": "markdown",
            "source": [
                "## What Queries\n",
                "> -   Some Stuff (Query 1)\n",
                ">   - More Stuff (Query 2)\n",
                ">   - Some Info\n",
                ">       - More Info- (Query 3.1)\n",
                ">       - Even More Info IP - (Query 3.2)\n",
                "\n",
                ""
            ],
            "metadata": {
                "azdata_cell_guid": "99b98758-2dda-47db-9afa-e2507357cbb3"
            },
            "attachments": {}
        },
        {
            "cell_type": "markdown",
            "source": [
                "## [Home](file:///C:/SQLScriptsLibrary/Home.ipynb)"
            ],
            "metadata": {
                "azdata_cell_guid": "7fba0087-8d3b-495a-badb-af2da450522f"
            }
        },
        {
            "cell_type": "code",
            "source": [
                "--Disable the jobs that are enabled \r\n",
                "SELECT 'exec msdb.dbo.sp_update_job @job_id='''+CAST(job_id AS sysname)+''' ,@enabled=0' FROM msdb.dbo.sysjobs \r\n",
                "WHERE description LIKE 'This job is owned by a report server process.%' AND enabled =1\r\n",
                "ORDER BY date_created DESC\r\n",
                "\r\n",
                ""
            ],
            "metadata": {
                "azdata_cell_guid": "5fd25dda-6d7f-466e-84bc-3ad3a024174c"
            },
            "outputs": [],
            "execution_count": null
        },
        {
            "cell_type": "code",
            "source": [
                "\r\n",
                "SELECT job_id ,name, enabled\r\n",
                "FROM msdb.dbo.sysjobs \r\n",
                "WHERE description LIKE 'This job is owned by a report server process.%'\r\n",
                "ORDER BY name\r\n",
                "\r\n",
                ""
            ],
            "metadata": {
                "azdata_cell_guid": "b47fd8a8-1280-4a18-a1c6-89fd01a24f4c"
            },
            "outputs": [],
            "execution_count": null
        },
        {
            "cell_type": "code",
            "source": [
                "--Add step one to all the SSRS Jobs for secondary \r\n",
                "DECLARE @JobName NVARCHAR(50)\r\n",
                "\r\n",
                "DECLARE db_cursor CURSOR FOR\r\n",
                "SELECT  sj.Name FROM MSDB.dbo.sysjobsteps  sjs\r\n",
                "JOIN MSDB.dbo.sysjobs  sj ON sj.job_id=sjs.job_id\r\n",
                "WHERE sjs.step_id=1 \r\n",
                "and sjs.step_name <> 'Check if Replica is Primary'\r\n",
                "AND description LIKE 'This job is owned by a report server process.%'\r\n",
                " ORDER BY Name\r\n",
                "\r\n",
                "OPEN db_cursor\r\n",
                "FETCH NEXT FROM db_cursor INTO @JobName\r\n",
                ""
            ],
            "metadata": {
                "azdata_cell_guid": "cd98060d-0d6d-4f7b-b04a-779e4c258f9a"
            },
            "outputs": [],
            "execution_count": null
        },
        {
            "cell_type": "code",
            "source": [
                "WHILE @@FETCH_STATUS = 0\r\n",
                "BEGIN\r\n",
                "    -- add instructions to be executed for every row\r\n",
                "    SELECT @JobName\r\n",
                "    EXEC master.dbo.usp_AddAGStepOne @Jobname =@jobname \r\n",
                "    FETCH NEXT FROM db_cursor INTO @JobName\r\n",
                "END\r\n",
                "\r\n",
                "CLOSE db_cursor\r\n",
                "DEALLOCATE db_cursor\r\n",
                "GO\r\n",
                "\r\n",
                "\r\n",
                "\r\n",
                "\r\n",
                "\r\n",
                "\r\n",
                "\r\n",
                "\r\n",
                ""
            ],
            "metadata": {
                "azdata_cell_guid": "cb41a40e-d30b-4348-a8d5-4114105c119d"
            },
            "outputs": [],
            "execution_count": null
        }
    ]
}