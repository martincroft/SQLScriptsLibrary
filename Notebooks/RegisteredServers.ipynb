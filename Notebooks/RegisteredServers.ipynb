{
    "metadata": {
        "kernelspec": {
            "name": "SQL",
            "display_name": "SQL",
            "language": "sql"
        },
        "language_info": {
            "name": "sql",
            "version": ""
        },
        "extensions": {
            "azuredatastudio": {
                "version": 1,
                "views": []
            }
        }
    },
    "nbformat_minor": 2,
    "nbformat": 4,
    "cells": [
        {
            "cell_type": "markdown",
            "source": [
                "## [Home](file:///C:/SQLScriptsLibrary/Home.ipynb)"
            ],
            "metadata": {
                "azdata_cell_guid": "333b441a-8874-40cd-947a-c35aad0d4639",
                "extensions": {
                    "azuredatastudio": {
                        "views": []
                    }
                }
            }
        },
        {
            "cell_type": "markdown",
            "source": [
                "## Registered Servers\n",
                "> - List Folder Names and servers (Q1)\n",
                "> - Find server location (Q2)\n",
                "> - Add new server to specified group (Q3)\n",
                ""
            ],
            "metadata": {
                "azdata_cell_guid": "99b98758-2dda-47db-9afa-e2507357cbb3"
            },
            "attachments": {}
        },
        {
            "cell_type": "markdown",
            "source": [
                "## [Home](file:///C:/SQLScriptsLibrary/Home.ipynb)"
            ],
            "metadata": {
                "azdata_cell_guid": "7fba0087-8d3b-495a-badb-af2da450522f"
            }
        },
        {
            "cell_type": "markdown",
            "source": [
                "### Q1 List Folder and Servers"
            ],
            "metadata": {
                "azdata_cell_guid": "de36c5b2-76db-409d-9e65-76a466e05430"
            },
            "attachments": {}
        },
        {
            "cell_type": "code",
            "source": [
                "/* Q1 List Folder and Server Name  #SQL */ \r\n",
                "\r\n",
                "WITH\r\n",
                "       a ( [Server_Name] , Server_Group_ID, RowNum)\r\n",
                "       AS\r\n",
                "       (\r\n",
                "              SELECT \r\n",
                "                     [Server_Name] , \r\n",
                "                     Server_Group_ID , \r\n",
                "                     ROW_NUMBER() OVER (PARTITION BY Server_Name ORDER BY Server_Name) RowNum\r\n",
                "              FROM\r\n",
                "                     msdb.dbo.sysmanagement_shared_registered_servers_internal a\r\n",
                "       )\r\n",
                "\r\n",
                "\r\n",
                "SELECT\r\n",
                "       b.name [Parent Name],\r\n",
                "       [Server_Name] ,\r\n",
                "       a.Server_Group_ID\r\n",
                "FROM \r\n",
                "    a\r\n",
                "LEFT JOIN \r\n",
                "    msdb.dbo.sysmanagement_shared_server_groups_internal  b     ON    a.server_group_id = b.server_group_id\r\n",
                "LEFT JOIN\r\n",
                "    msdb.dbo.sysmanagement_shared_server_groups_internal  c    ON    c.server_group_id = b.parent_id\r\n",
                ""
            ],
            "metadata": {
                "azdata_cell_guid": "c30921cb-9bad-40e0-b3b5-2edaf7fada78",
                "tags": []
            },
            "outputs": [],
            "execution_count": null
        },
        {
            "cell_type": "markdown",
            "source": [
                "### Q2 Find server location"
            ],
            "metadata": {
                "azdata_cell_guid": "a48ebc27-eb51-4ca6-82fc-fae1cc735ce5"
            },
            "attachments": {}
        },
        {
            "cell_type": "code",
            "source": [
                "/* Find where server exists */\r\n",
                "DECLARE @ServerName sysname  =''\r\n",
                "\r\n",
                ";WITH\r\n",
                "       a ( [Server_Name] , Server_Group_ID, RowNum)\r\n",
                "       AS\r\n",
                "       (\r\n",
                "              SELECT \r\n",
                "                     [Server_Name] , \r\n",
                "                     Server_Group_ID , \r\n",
                "                     ROW_NUMBER() OVER (PARTITION BY Server_Name ORDER BY Server_Name) RowNum\r\n",
                "              FROM\r\n",
                "                     msdb.dbo.sysmanagement_shared_registered_servers_internal a\r\n",
                "       )\r\n",
                "\r\n",
                "\r\n",
                "SELECT\r\n",
                "       b.name [Parent Name],\r\n",
                "       [Server_Name] ,\r\n",
                "       a.Server_Group_ID\r\n",
                "FROM a\r\n",
                "LEFT JOIN\r\n",
                "    msdb.dbo.sysmanagement_shared_server_groups_internal  b    ON     a.server_group_id = b.server_group_id\r\n",
                "LEFT JOIN\r\n",
                "       msdb.dbo.sysmanagement_shared_server_groups_internal  c  ON     c.server_group_id = b.parent_id\r\n",
                "WHERE  \r\n",
                "    [Server_Name]=@ServerName\r\n",
                ""
            ],
            "metadata": {
                "azdata_cell_guid": "dce75c4a-e5f4-44a0-ac6a-46b5d511d520"
            },
            "outputs": [],
            "execution_count": null
        },
        {
            "cell_type": "markdown",
            "source": [
                "### Q3 Add new registered server (single)\n",
                "\n",
                "> - Replace Paramaters with Folder for server to be created / Server name and description"
            ],
            "metadata": {
                "azdata_cell_guid": "6af6dd29-f86c-4018-83c6-ad1e0c1f7a2b"
            },
            "attachments": {}
        },
        {
            "cell_type": "code",
            "source": [
                "/* List Servers.sql  #SQL */\r\n",
                "\r\n",
                "DECLARE @ServerGroupID INT\r\n",
                "\r\n",
                "DECLARE @FolderName sysname ='2019 Servers'\r\n",
                "\t  , @description NVARCHAR(2048) ='2019 SQL Server on prem BI Server'\t\t\t--Server description\r\n",
                "\t  , @Name sysname ='SQL-1234 BI Server'\t\t--Display name of the server\r\n",
                "\t  , @Server_Name sysname ='SQL-1234'\t    --Actual Name of the server\r\n",
                "\r\n",
                "SELECT @ServerGroupID=Server_Group_ID FROM msdb.dbo.sysmanagement_shared_server_groups_internal WHERE Name=@FolderName\r\n",
                "\r\n",
                "DECLARE @server_id int\r\n",
                "EXEC msdb.dbo.sp_sysmanagement_add_shared_registered_server @server_group_id=@ServerGroupID, @name=@name, @server_name=@Server_Name, @description=@description, @server_type=0, @server_id=@server_id OUTPUT\r\n",
                "SELECT @server_id\r\n",
                ""
            ],
            "metadata": {
                "azdata_cell_guid": "e869488d-55fe-4b13-8b7f-b7996a54aba7",
                "tags": []
            },
            "outputs": [],
            "execution_count": null
        },
        {
            "cell_type": "code",
            "source": [
                "/* List all servers in specified group */\r\n",
                "\r\n",
                "SELECT \r\n",
                "\trs.Server_Name \r\n",
                "FROM   \r\n",
                "\tmsdb.dbo.sysmanagement_shared_registered_servers_internal rs\r\n",
                "JOIN \r\n",
                "\tmsdb.dbo.sysmanagement_shared_server_groups_internal sg on Rs.server_group_id=rs.server_group_id\r\n",
                "WHERE \r\n",
                "\tsg.name='MIH'"
            ],
            "metadata": {
                "azdata_cell_guid": "f1bf8f4d-73ee-48ba-9a9b-bb4887ea0fef"
            },
            "outputs": [],
            "execution_count": null
        },
        {
            "cell_type": "markdown",
            "source": [
                "### Q3 Add new registered server (multiple)"
            ],
            "metadata": {
                "azdata_cell_guid": "7a863e19-4a5d-4e0f-a12d-70072fdbaed7"
            }
        },
        {
            "cell_type": "code",
            "source": [
                "<span style=\"color: #800000;font-weight: bold;\">###&nbsp;Q4&nbsp;Remove registered servers from group</span>"
            ],
            "metadata": {
                "azdata_cell_guid": "6da76b2a-7e44-45f8-a751-ac025f65d534"
            },
            "outputs": [],
            "execution_count": null
        },
        {
            "cell_type": "markdown",
            "source": [
                "<span style=\"color: #800000;font-weight: bold;\">###&nbsp;Q3&nbsp;Add&nbsp;new&nbsp;registered&nbsp;server&nbsp;(multiple)</span>"
            ],
            "metadata": {
                "azdata_cell_guid": "a576c48f-03cb-4744-b498-66531f4d4b13"
            },
            "attachments": {}
        }
    ]
}