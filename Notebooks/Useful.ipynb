{
    "metadata": {
        "kernelspec": {
            "name": "SQL",
            "display_name": "SQL",
            "language": "sql"
        },
        "language_info": {
            "name": "sql",
            "version": ""
        },
        "extensions": {
            "azuredatastudio": {
                "version": 1,
                "views": []
            }
        }
    },
    "nbformat_minor": 2,
    "nbformat": 4,
    "cells": [
        {
            "cell_type": "markdown",
            "source": [
                "# Useful SQL Server Scripts"
            ],
            "metadata": {
                "azdata_cell_guid": "f1b1f772-a910-480d-989b-a2bc6f03af12",
                "extensions": {
                    "azuredatastudio": {
                        "views": []
                    }
                }
            }
        },
        {
            "cell_type": "markdown",
            "source": [
                "## [Home](file:///C:/SQLScriptsLibrary/Home.ipynb)"
            ],
            "metadata": {
                "azdata_cell_guid": "179e4e89-e3dd-48b2-999f-cccd9628b56f"
            }
        },
        {
            "cell_type": "markdown",
            "source": [
                "### **Server**\n",
                "> -  Last known CheckDB (Q1)\n",
                "> - SQL Server installation date - When was SQL installed (Q2)\n",
                "> - SQL Server installation date - When was SQL installed to run against diffrent version of SQL 1) #Useful for registered servers (Q3)\n",
                "### **Database info**\n",
                "### **Table Info**\n",
                "### **String manipulation**\n",
                "> - Split out string to individual elements"
            ],
            "metadata": {
                "azdata_cell_guid": "8ea8cc32-5015-4fac-b05e-8cfde34961ef",
                "extensions": {
                    "azuredatastudio": {
                        "views": []
                    }
                }
            },
            "attachments": {}
        },
        {
            "cell_type": "markdown",
            "source": [
                ">-  Last known **DBCC CHECKDB** (Q1)"
            ],
            "metadata": {
                "azdata_cell_guid": "217ec0d6-6849-4424-9b32-9e825ae0da5e",
                "extensions": {
                    "azuredatastudio": {
                        "views": []
                    }
                }
            },
            "attachments": {}
        },
        {
            "cell_type": "code",
            "source": [
                "DBCC DBINFO('[Enter Database Name') WITH TABLERESULTS\r\n",
                ""
            ],
            "metadata": {
                "azdata_cell_guid": "7538671d-d1f6-4afe-80b2-3ea22dfc1f57",
                "tags": [],
                "extensions": {
                    "azuredatastudio": {
                        "views": []
                    }
                }
            },
            "outputs": [],
            "execution_count": null
        },
        {
            "cell_type": "markdown",
            "source": [
                ">-  SQL Server Installation Date (Q2)"
            ],
            "metadata": {
                "azdata_cell_guid": "2ffc6757-ea18-4c0c-8b2f-25b1e77cf0cf",
                "extensions": {
                    "azuredatastudio": {
                        "views": []
                    }
                }
            }
        },
        {
            "cell_type": "code",
            "source": [
                "SELECT create_date\r\n",
                "FROM sys.server_principals\r\n",
                "WHERE sid = 0x010100000000000512000000\r\n",
                ""
            ],
            "metadata": {
                "azdata_cell_guid": "bb87a385-c852-4b98-a5c2-42ac199b7d93",
                "tags": [],
                "extensions": {
                    "azuredatastudio": {
                        "views": []
                    }
                }
            },
            "outputs": [],
            "execution_count": null
        },
        {
            "cell_type": "markdown",
            "source": [
                "> - Installation Dates (different versions of SQL )"
            ],
            "metadata": {
                "azdata_cell_guid": "944f994e-0e09-468a-881f-8a8e00cc0255",
                "extensions": {
                    "azuredatastudio": {
                        "views": []
                    }
                }
            }
        },
        {
            "cell_type": "code",
            "source": [
                "DECLARE @SQLServerInstanceVersion INT\r\n",
                "SELECT  @SQLServerInstanceVersion=FLOOR(SUBSTRING(CAST(SERVERPROPERTY('ProductVersion')AS VARCHAR(10)),1,4)) \r\n",
                "\r\n",
                "SELECT @SQLServerInstanceVersion AS SQLVersion\r\n",
                "\r\n",
                "IF @SQLServerInstanceVersion < 10 \r\n",
                "BEGIN \r\n",
                "\tSELECT  @@servername AS servername,CONVERT(DATETIME, createdate, 103) AS create_date FROM syslogins \r\n",
                "\tWHERE   name = 'sa'\r\n",
                "END\r\n",
                "ELSE\r\n",
                "BEGIN\r\n",
                "\tSELECT  @@ServerName as ServerName,CONVERT(DATETIME, create_date, 103) AS create_date FROM sys.server_principals WHERE sid = 0x010100000000000512000000\r\n",
                "END\r\n",
                ""
            ],
            "metadata": {
                "azdata_cell_guid": "53a789e0-7835-49c8-8f93-3ae779a21d15",
                "tags": [
                    "hide_input"
                ],
                "extensions": {
                    "azuredatastudio": {
                        "views": []
                    }
                }
            },
            "outputs": [],
            "execution_count": null
        },
        {
            "cell_type": "markdown",
            "source": [
                ">- Top 10 records from all table\r\n",
                ""
            ],
            "metadata": {
                "azdata_cell_guid": "817ac1ca-cf99-4269-a831-4a2a40f5fef2",
                "extensions": {
                    "azuredatastudio": {
                        "views": []
                    }
                }
            }
        },
        {
            "cell_type": "code",
            "source": [
                "EXEC sp_msforeachtable \" SELECT '?' AS TableName ;SELECT top 10 * FROM ?\""
            ],
            "metadata": {
                "azdata_cell_guid": "5d34f31f-cfc2-41f1-b0a3-b910d0b5e01c",
                "tags": [
                    "hide_input"
                ],
                "extensions": {
                    "azuredatastudio": {
                        "views": []
                    }
                }
            },
            "outputs": [],
            "execution_count": null
        },
        {
            "cell_type": "markdown",
            "source": [
                "Query Setting"
            ],
            "metadata": {
                "azdata_cell_guid": "e6d08ab4-eb57-4e93-8f1e-3894434b9d01",
                "extensions": {
                    "azuredatastudio": {
                        "views": []
                    }
                }
            }
        },
        {
            "cell_type": "markdown",
            "source": [
                ">- Split out string to individual elements"
            ],
            "metadata": {
                "azdata_cell_guid": "f42b6df5-4e4f-49e8-aa5d-2ce2591290f0"
            }
        },
        {
            "cell_type": "code",
            "source": [
                "/* Split out from comma separted list */\r\n",
                "DECLARE\r\n",
                "    @in_string VARCHAR(MAX) ='A B C,2,6,7,8,8,',\r\n",
                "    @delimeter VARCHAR(1) =','\r\n",
                "\r\n",
                "DECLARE @list TABLE(tuple VARCHAR(100))\r\n",
                "\r\n",
                "\r\n",
                "\r\n",
                "BEGIN\r\n",
                "        WHILE LEN(@in_string) > 0\r\n",
                "        BEGIN\r\n",
                "            INSERT INTO @list(tuple)\r\n",
                "            SELECT left(@in_string, charindex(@delimeter, @in_string+',') -1) as tuple\r\n",
                "    \r\n",
                "            SET @in_string = stuff(@in_string, 1, charindex(@delimeter, @in_string + @delimeter), '')\r\n",
                "        end\r\n",
                "     \r\n",
                "END\r\n",
                "\r\n",
                "SELECT * FROM @list"
            ],
            "metadata": {
                "azdata_cell_guid": "94229511-2071-4638-96b1-e95615eccb7d"
            },
            "outputs": [],
            "execution_count": null
        },
        {
            "cell_type": "markdown",
            "source": [
                "> - Add list of servers to be added to registered servers, basic adds in no seperate descriptions / future enhancement   "
            ],
            "metadata": {
                "azdata_cell_guid": "2df8e154-8956-457b-971a-574608eafc57"
            }
        },
        {
            "cell_type": "code",
            "source": [
                "/* Add list of Servers #SQL */\r\n",
                "\r\n",
                "DECLARE @ServerGroupID INT\r\n",
                "\r\n",
                "DECLARE @FolderName sysname ='MIH'\r\n",
                "\t  , @description NVARCHAR(2048) =''\t--Server description\r\n",
                "\t  , @Name sysname \t\t\t\t\t--Display name of the server\r\n",
                "\t  , @ServerName sysname \t\t\t--Actual Name of the server\r\n",
                "\r\n",
                "SELECT @ServerGroupID=Server_Group_ID FROM msdb.dbo.sysmanagement_shared_server_groups_internal WHERE Name=@FolderName\r\n",
                "\r\n",
                "\r\n",
                "\r\n",
                "/* Split out from comma separted list */\r\n",
                "DECLARE\r\n",
                "    @in_string VARCHAR(MAX) ,\r\n",
                "    @delimeter VARCHAR(1) =','\r\n",
                "\r\n",
                "SET @in_string=\r\n",
                "'Server-SQL-01\r\n",
                ",Server-SQL-02\r\n",
                ",Server -SQL-02\r\n",
                "'\r\n",
                "\r\n",
                "\r\n",
                "DECLARE @list TABLE(ServerName VARCHAR(100))\r\n",
                "BEGIN\r\n",
                "        WHILE LEN(@in_string) > 0\r\n",
                "        BEGIN\r\n",
                "            INSERT INTO @list(ServerName)\r\n",
                "            SELECT left(@in_string, charindex(@delimeter, @in_string+',') -1) as tuple\r\n",
                "    \r\n",
                "            SET @in_string = stuff(@in_string, 1, charindex(@delimeter, @in_string + @delimeter), '')\r\n",
                "        end\r\n",
                "     \r\n",
                "END\r\n",
                "\r\n",
                "--Any already added lets remove\r\n",
                "DELETE FROM @list\r\n",
                "WHERE ServerName  IN (SELECT server_name FROM msdb.dbo.[sysmanagement_shared_registered_servers_internal] WHERE server_group_id=@ServerGroupID)\r\n",
                "\r\n",
                "DECLARE @server_id int\r\n",
                "\r\n",
                "--Loop through and add in servers\r\n",
                "WHILE (SELECT count(*) FROM @list) >1 \r\n",
                "BEGIN\r\n",
                "\r\n",
                "\t\tSELECT TOP 1 @ServerName=ServerName FROM @list\r\n",
                "\r\n",
                "\t\tSET @Name =@ServerName \r\n",
                "\t\r\n",
                "\t\tEXEC msdb.dbo.sp_sysmanagement_add_shared_registered_server @server_group_id=@ServerGroupID, @name=@name, @server_name=@ServerName, @description=@description, @server_type=0, @server_id=@server_id OUTPUT\r\n",
                "\t\tSELECT @ServerName AS ServerName, @server_id AS server_id\r\n",
                "\r\n",
                "\t\t\r\n",
                "\t\tDELETE FROM @list\r\n",
                "\t\tWHERE ServerName=@ServerName \r\n",
                "\r\n",
                "\r\n",
                "END"
            ],
            "metadata": {
                "azdata_cell_guid": "9f5759eb-c120-43e8-a373-2f8023125427"
            },
            "outputs": [],
            "execution_count": null
        },
        {
            "cell_type": "markdown",
            "source": [
                ">- List of values sudo table on the fly "
            ],
            "metadata": {
                "azdata_cell_guid": "f93c36b9-cac9-4049-8600-97eb0bf46b94"
            }
        },
        {
            "cell_type": "code",
            "source": [
                "/* table of value on the fly */\r\n",
                "SELECT * FROM (values ('1'), ('2'), ('3'), ('4'), ('5')) SomeData(Title)"
            ],
            "metadata": {
                "azdata_cell_guid": "e7acf5b9-381a-445c-a386-70d4868fd68d"
            },
            "outputs": [],
            "execution_count": null
        },
        {
            "cell_type": "markdown",
            "source": [
                "## [Home](file:///C:/SQLScriptsLibrary/Home.ipynb)"
            ],
            "metadata": {
                "azdata_cell_guid": "3942a511-667b-4157-9bd0-e46d5416e22b"
            }
        }
    ]
}