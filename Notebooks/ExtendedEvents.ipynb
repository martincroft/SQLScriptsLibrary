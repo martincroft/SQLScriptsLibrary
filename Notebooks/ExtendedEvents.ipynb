{
    "metadata": {
        "kernelspec": {
            "name": "SQL",
            "display_name": "SQL",
            "language": "sql"
        },
        "language_info": {
            "name": "sql",
            "version": ""
        },
        "extensions": {
            "azuredatastudio": {
                "version": 1,
                "views": []
            }
        }
    },
    "nbformat_minor": 2,
    "nbformat": 4,
    "cells": [
        {
            "cell_type": "markdown",
            "source": [
                "## [Home](file:///C:/SQLScriptsLibrary/Home.ipynb)"
            ],
            "metadata": {
                "azdata_cell_guid": "333b441a-8874-40cd-947a-c35aad0d4639",
                "extensions": {
                    "azuredatastudio": {
                        "views": []
                    }
                }
            }
        },
        {
            "cell_type": "markdown",
            "source": [
                "# Extended Events\n",
                "\n",
                "> -  (Query 1)\n",
                "> -  (Query 2)\n",
                "> -  (Query 3)\n",
                "> -  (Query 4)"
            ],
            "metadata": {
                "azdata_cell_guid": "665be742-c206-406e-9482-48aa1ab69f6c"
            },
            "attachments": {}
        },
        {
            "cell_type": "markdown",
            "source": [
                "> - Active Sessions in Azure"
            ],
            "metadata": {
                "azdata_cell_guid": "ea73581c-6fec-47db-9e5e-c01e4ac0a29f"
            },
            "attachments": {}
        },
        {
            "cell_type": "code",
            "source": [
                "--View active Extended events in Azure \r\n",
                "SELECT * FROM sys.dm_xe_database_sessions"
            ],
            "metadata": {
                "azdata_cell_guid": "d7c126f2-2cac-46a5-98a2-30893c673cc6",
                "tags": [
                    "hide_input"
                ]
            },
            "outputs": [],
            "execution_count": null
        },
        {
            "cell_type": "markdown",
            "source": [
                "> - Blocked Processes - Brent Ozar https://www.brentozar.com/archive/2014/03/extended-events-doesnt-hard"
            ],
            "metadata": {
                "azdata_cell_guid": "eb819ac7-b20d-4a3c-a788-425d0cdeee4c"
            },
            "attachments": {}
        },
        {
            "cell_type": "code",
            "source": [
                "--Blocked processes extended event\r\n",
                "--DROP EVENT SESSION [blocked_process] ON SERVER \r\n",
                "GO\r\n",
                "\r\n",
                "CREATE EVENT SESSION [blocked_process] ON SERVER\r\n",
                "ADD EVENT sqlserver.blocked_process_report(\r\n",
                "    ACTION(sqlserver.client_app_name,\r\n",
                "           sqlserver.client_hostname,\r\n",
                "           sqlserver.database_name)) ,\r\n",
                "ADD EVENT sqlserver.xml_deadlock_report (\r\n",
                "    ACTION(sqlserver.client_app_name,\r\n",
                "           sqlserver.client_hostname,\r\n",
                "           sqlserver.database_name))\r\n",
                "ADD TARGET package0.asynchronous_file_target\r\n",
                "(SET filename = N'D:\\blocked_process.xel',\r\n",
                "     metadatafile = N'D:\\blocked_process.xem',\r\n",
                "     max_file_size=(65536),\r\n",
                "     max_rollover_files=5)\r\n",
                "WITH (MAX_DISPATCH_LATENCY = 5SECONDS)\r\n",
                "GO\r\n",
                " "
            ],
            "metadata": {
                "azdata_cell_guid": "319ab0fe-e2f6-45ef-8486-ecfcb3d25fa2",
                "tags": [
                    "hide_input"
                ]
            },
            "outputs": [],
            "execution_count": null
        },
        {
            "cell_type": "code",
            "source": [
                "--Set up blocking threshold\r\n",
                "/* Make sure this path exists before you start the trace! */\r\n",
                "\r\n",
                "EXEC sp_configure 'show advanced options', 1 ;\r\n",
                "GO\r\n",
                "RECONFIGURE ;\r\n",
                "GO\r\n",
                "/* Enabled the blocked process report */\r\n",
                "EXEC sp_configure 'blocked process threshold', '5';\r\n",
                "RECONFIGURE\r\n",
                "GO\r\n",
                "/* Start the Extended Events session */\r\n",
                "ALTER EVENT SESSION [blocked_process] ON SERVER\r\n",
                "STATE = START;\r\n",
                "\r\n",
                "EXEC sp_configure 'show advanced options', 1 ;\r\n",
                "GO\r\n",
                "RECONFIGURE ;\r\n",
                "GO\r\n",
                "/* Enabled the blocked process report */\r\n",
                "EXEC sp_configure 'blocked process threshold', '5';\r\n",
                "RECONFIGURE\r\n",
                "GO\r\n",
                ""
            ],
            "metadata": {
                "azdata_cell_guid": "f82df8c0-b10c-4d36-8fa4-e913d5b2c7ca",
                "tags": [
                    "hide_input"
                ]
            },
            "outputs": [],
            "execution_count": null
        },
        {
            "cell_type": "code",
            "source": [
                "/* Start the Extended Events session */\r\n",
                "ALTER EVENT SESSION [blocked_process] ON SERVER\r\n",
                "STATE = START;\r\n",
                ""
            ],
            "metadata": {
                "azdata_cell_guid": "5ee52f4a-74fe-4ed3-9cc7-9aeead06d0e0",
                "tags": [
                    "hide_input"
                ]
            },
            "outputs": [],
            "execution_count": null
        },
        {
            "cell_type": "code",
            "source": [
                "/*View blocked processes from Extended Event*/\r\n",
                "WITH events_cte AS (\r\n",
                "  SELECT\r\n",
                "    xevents.event_data,\r\n",
                "    DATEADD(mi,\r\n",
                "    DATEDIFF(mi, GETUTCDATE(), CURRENT_TIMESTAMP),\r\n",
                "    xevents.event_data.value(\r\n",
                "      '(event/@timestamp)[1]', 'datetime2')) AS [event time] ,\r\n",
                "    xevents.event_data.value(\r\n",
                "      '(event/action[@name=\"client_app_name\"]/value)[1]', 'nvarchar(128)')\r\n",
                "      AS [client app name],\r\n",
                "    xevents.event_data.value(\r\n",
                "      '(event/action[@name=\"client_hostname\"]/value)[1]', 'nvarchar(max)')\r\n",
                "      AS [client host name],\r\n",
                "    xevents.event_data.value(\r\n",
                "      '(event[@name=\"blocked_process_report\"]/data[@name=\"database_name\"]/value)[1]', 'nvarchar(max)')\r\n",
                "      AS [database name],\r\n",
                "    xevents.event_data.value(\r\n",
                "      '(event[@name=\"blocked_process_report\"]/data[@name=\"database_id\"]/value)[1]', 'int')\r\n",
                "      AS [database_id],\r\n",
                "    xevents.event_data.value(\r\n",
                "      '(event[@name=\"blocked_process_report\"]/data[@name=\"object_id\"]/value)[1]', 'int')\r\n",
                "      AS [object_id],\r\n",
                "    xevents.event_data.value(\r\n",
                "      '(event[@name=\"blocked_process_report\"]/data[@name=\"index_id\"]/value)[1]', 'int')\r\n",
                "      AS [index_id],\r\n",
                "    xevents.event_data.value(\r\n",
                "      '(event[@name=\"blocked_process_report\"]/data[@name=\"duration\"]/value)[1]', 'bigint') / 1000\r\n",
                "      AS [duration (ms)],\r\n",
                "    xevents.event_data.value(\r\n",
                "      '(event[@name=\"blocked_process_report\"]/data[@name=\"lock_mode\"]/text)[1]', 'varchar')\r\n",
                "      AS [lock_mode],\r\n",
                "    xevents.event_data.value(\r\n",
                "      '(event[@name=\"blocked_process_report\"]/data[@name=\"login_sid\"]/value)[1]', 'int')\r\n",
                "      AS [login_sid],\r\n",
                "    xevents.event_data.query(\r\n",
                "      '(event[@name=\"blocked_process_report\"]/data[@name=\"blocked_process\"]/value/blocked-process-report)[1]')\r\n",
                "      AS blocked_process_report,\r\n",
                "    xevents.event_data.query(\r\n",
                "      '(event/data[@name=\"xml_report\"]/value/deadlock)[1]')\r\n",
                "      AS deadlock_graph\r\n",
                "  FROM    sys.fn_xe_file_target_read_file\r\n",
                "    ('D:\\blocked_process*.xel',\r\n",
                "     'D:\\blocked_process*.xem',\r\n",
                "     null, null)\r\n",
                "    CROSS APPLY (SELECT CAST(event_data AS XML) AS event_data) as xevents\r\n",
                ")\r\n",
                "SELECT\r\n",
                "  CASE WHEN blocked_process_report.value('(blocked-process-report[@monitorLoop])[1]', 'nvarchar(max)') IS NULL\r\n",
                "       THEN 'Deadlock'\r\n",
                "       ELSE 'Blocked Process'\r\n",
                "       END AS ReportType,\r\n",
                "  [event time],\r\n",
                "  CASE [client app name] WHEN '' THEN ' -- N/A -- '\r\n",
                "                         ELSE [client app name]\r\n",
                "                         END AS [client app _name],\r\n",
                "  CASE [client host name] WHEN '' THEN ' -- N/A -- '\r\n",
                "                          ELSE [client host name]\r\n",
                "                          END AS [client host name],\r\n",
                "  [database name],\r\n",
                "  COALESCE(OBJECT_SCHEMA_NAME(object_id, database_id), ' -- N/A -- ') AS [schema],\r\n",
                "  COALESCE(OBJECT_NAME(object_id, database_id), ' -- N/A -- ') AS [table],\r\n",
                "  index_id,\r\n",
                "  [duration (ms)],\r\n",
                "  lock_mode,\r\n",
                "  COALESCE(SUSER_NAME(login_sid), ' -- N/A -- ') AS username,\r\n",
                "  CASE WHEN blocked_process_report.value('(blocked-process-report[@monitorLoop])[1]', 'nvarchar(max)') IS NULL\r\n",
                "       THEN deadlock_graph\r\n",
                "       ELSE blocked_process_report\r\n",
                "       END AS Report\r\n",
                "FROM events_cte\r\n",
                "ORDER BY [event time] DESC ;\r\n",
                "\r\n",
                "\r\n",
                "\r\n",
                "\r\n",
                ""
            ],
            "metadata": {
                "azdata_cell_guid": "aa64b6e5-4b5f-426a-bbba-ef1405d8a13f",
                "tags": [
                    "hide_input"
                ]
            },
            "outputs": [],
            "execution_count": null
        },
        {
            "cell_type": "markdown",
            "source": [
                "- #1 Capture procedures greater than N seconds. On-prem"
            ],
            "metadata": {
                "azdata_cell_guid": "10a83010-4753-4885-8e7f-b30930411b24"
            }
        },
        {
            "cell_type": "code",
            "source": [
                "--TRUNCATE TABLE  DBA.dbo.xEventData\r\n",
                "\r\n",
                "WITH x\r\n",
                "AS (SELECT n.value('(@name)[1]', 'varchar(50)') AS event_name,\r\n",
                "           n.value('(@package)[1]', 'varchar(50)') AS package_name,\r\n",
                "           n.value('(@timestamp)[1]', 'datetime2') AS [utc_timestamp],\r\n",
                "           n.value('(data[@name=\"object_name\"]/value)[1]', 'varchar(100)') AS sql_text,\r\n",
                "           n.value('(data[@name=\"duration\"]/value)[1]', 'bigint') AS duration,\r\n",
                "           --n.value('(data[@name=\"physical_reads\"]/value)[1]', 'int') as physical_reads,\r\n",
                "           --n.value('(data[@name=\"logical_reads\"]/value)[1]', 'int') as logical_reads,\r\n",
                "           --n.value('(data[@name=\"writes\"]/value)[1]', 'int') as writes,\r\n",
                "           --n.value('(data[@name=\"row_count\"]/value)[1]', 'int') as row_count,\r\n",
                "           --n.value('(data[@name=\"last_row_count\"]/value)[1]', 'int') as last_row_count,\r\n",
                "           --n.value('(data[@name=\"line_number\"]/value)[1]', 'int') as line_number,\r\n",
                "           --n.value('(data[@name=\"offset\"]/value)[1]', 'int') as offset,\r\n",
                "           --n.value('(data[@name=\"offset_end\"]/value)[1]', 'int') as offset_end,\r\n",
                "           n.value('(data[@name=\"statement\"]/value)[1]', 'nvarchar(max)') AS statement,\r\n",
                "           n.value('(action[@name=\"database_name\"]/value)[1]', 'nvarchar(128)') AS database_name\r\n",
                "    FROM\r\n",
                "    (\r\n",
                "        SELECT CAST(event_data AS XML) AS event_data\r\n",
                "        FROM sys.fn_xe_file_target_read_file(\r\n",
                "                                                \r\n",
                "\t\t\t\t\t\t\t\t\t\t\t\t--'C:\\TEMP\\xEvents\\CrossDockExport_Tracker_For_Beth*.xel',\r\n",
                "\t\t\t\t\t\t\t\t\t\t\t\t--'C:\\TEMP\\xEvents\\DBA_shortSPs*.xel',\r\n",
                "\t\t\t\t\t\t\t\t\t\t\t\t'D:\\Databases\\MSSQL12.MSSQLSERVER\\MSSQL\\Log\\DBA_LongRunningSPs*.xel',\r\n",
                "                                                NULL,\r\n",
                "                                                NULL,\r\n",
                "                                                NULL\r\n",
                "                                            )\r\n",
                "    ) ed --APLFS145\r\n",
                "\r\n",
                "        --from sys.fn_xe_file_target_read_file('C:\\Program Files\\Microsoft SQL Server\\MSSQL13.MSSQLSERVER\\MSSQL\\Log\\DBA_LongRunningSPs*.xel', null, null, null)) ed --APLFS184\r\n",
                "\r\n",
                "        CROSS APPLY ed.event_data.nodes('event') AS q(n) )\r\n",
                "--INSERT\tINTO DBA.dbo.xEventData\r\n",
                "\r\n",
                "SELECT  x.event_name,\r\n",
                "       x.package_name,\r\n",
                "       x.utc_timestamp,\r\n",
                "       x.sql_text,\r\n",
                "       CAST(x.duration AS DECIMAL(38, 10)) / 1000000 AS DurationInSeconds,\r\n",
                "       x.statement,\r\n",
                "       x.database_name\r\n",
                "INTO DBA.dbo.xEventData\r\n",
                "FROM x\r\n",
                "--WHERE sql_text='csp_open_orders_out_V2'\r\n",
                ";\r\n",
                "\r\n",
                "\r\n",
                "SELECT * FROM DBA.dbo.xEventData AS xed\r\n",
                "\r\n",
                "SELECT database_name,\r\n",
                "       sql_text,\r\n",
                "       COUNT(sql_text) AS Executions,\r\n",
                "       AVG(DurationInSeconds) AS avgDuration,\r\n",
                "\t   statement\r\n",
                "FROM DBA.dbo.xEventData\r\n",
                "--WHERE utc_timestamp between '2021-02-08 11:30:00' AND '2021-02-09 11:30:34'\r\n",
                "WHERE statement LIKE '%msp_report_pallets_live_by_carrier%'\r\n",
                "GROUP BY sql_text,\r\n",
                "         database_name,\r\n",
                "\t\t statement\r\n",
                "ORDER BY Executions DESC;\r\n",
                "\r\n",
                "\r\n",
                "SELECT  TOP 100 database_name,\r\n",
                "       *,\r\n",
                "\t   statement\r\n",
                "FROM DBA..xEventData\r\n",
                "--WHERE utc_timestamp between '2021-02-08 11:30:00' AND '2021-02-09 11:30:34'\r\n",
                "WHERE statement LIKE '%msp_compliance_details_raw_by_mda_export%'\r\n",
                "ORDER BY utc_timestamp  desc"
            ],
            "metadata": {
                "azdata_cell_guid": "37e74135-f032-46cb-855a-cb2336cbfefc",
                "tags": [
                    "hide_input"
                ]
            },
            "outputs": [],
            "execution_count": null
        },
        {
            "cell_type": "code",
            "source": [
                "--DROP EVENT SESSION [DBA_LongRunningSPs] ON SERVER \n",
                "GO\n",
                "\n",
                "CREATE EVENT SESSION [DBA_LongRunningSPs] ON SERVER \n",
                "ADD EVENT sqlserver.rpc_completed(\n",
                "    ACTION(sqlserver.database_name,sqlserver.plan_handle,sqlserver.sql_text)\n",
                "    WHERE ([package0].[greater_than_uint64]([duration],(25000000)) AND [sqlserver].[database_id]>(3)))\n",
                "ADD TARGET package0.event_file(SET filename=N'D:\\DBA_LongRunningSPs.Xel',max_file_size=(5),max_rollover_files=(4))\n",
                "WITH (MAX_MEMORY=4096 KB,EVENT_RETENTION_MODE=ALLOW_SINGLE_EVENT_LOSS,MAX_DISPATCH_LATENCY=30 SECONDS,MAX_EVENT_SIZE=0 KB,MEMORY_PARTITION_MODE=NONE,TRACK_CAUSALITY=ON,STARTUP_STATE=ON)\n",
                "GO\n",
                "ALTER EVENT SESSION [DBA_LongRunningSPs]    \n",
                "ON SERVER\n",
                "--ON DATABASE\n",
                "STATE = STOP;   -- STOP;"
            ],
            "metadata": {
                "azdata_cell_guid": "545d2843-3836-4b53-ba2c-ac5a676f9f1d",
                "tags": [
                    "hide_input"
                ]
            },
            "outputs": [],
            "execution_count": null
        },
        {
            "cell_type": "markdown",
            "source": [
                "> - Capture specific porcedure details. On-prem\n",
                ">   - rpc_completed\n",
                ">   - sp_statement_completed\n",
                ">   - sql_batch_completed\n",
                "\n",
                ""
            ],
            "metadata": {
                "azdata_cell_guid": "088c2c92-14d8-428b-a219-76083fd70247"
            },
            "attachments": {}
        },
        {
            "cell_type": "code",
            "source": [
                "--Capture procedure details rpc_completed, sp_completed, sql_batch_completed for specified procedure \r\n",
                "CREATE EVENT SESSION [Capture procedure details] ON SERVER \r\n",
                "ADD EVENT sqlserver.rpc_completed(SET collect_data_stream=(1)\r\n",
                "    ACTION(sqlserver.database_id,sqlserver.database_name,sqlserver.server_principal_name,sqlserver.session_id)\r\n",
                "    WHERE ([package0].[greater_than_uint64]([sqlserver].[database_id],(4)) AND [package0].[equal_boolean]([sqlserver].[is_system],(0)) \r\n",
                "    AND [sqlserver].[like_i_sql_unicode_string]([sqlserver].[sql_text],N'%ProcedureName%'))),\r\n",
                "ADD EVENT sqlserver.sp_statement_completed(\r\n",
                "    ACTION(sqlserver.database_id,sqlserver.database_name,sqlserver.server_principal_name,sqlserver.session_id)\r\n",
                "    WHERE ([package0].[greater_than_uint64]([sqlserver].[database_id],(4)) AND [package0].[equal_boolean]([sqlserver].[is_system],(0)) \r\n",
                "    AND [sqlserver].[like_i_sql_unicode_string]([sqlserver].[sql_text],N'%ProcedureName%'))),\r\n",
                "ADD EVENT sqlserver.sql_batch_completed(\r\n",
                "    ACTION(sqlserver.database_id,sqlserver.database_name,sqlserver.server_principal_name,sqlserver.session_id)\r\n",
                "    WHERE ([package0].[greater_than_uint64]([sqlserver].[database_id],(4)) AND [package0].[equal_boolean]([sqlserver].[is_system],(0)) \r\n",
                "    AND [sqlserver].[like_i_sql_unicode_string]([sqlserver].[sql_text],N'%ProcedureName%')))\r\n",
                "ADD TARGET package0.event_file(SET FILENAME=N'Capture procedure details',max_file_size=(5))\r\n",
                "WITH (MAX_MEMORY=4096 KB,EVENT_RETENTION_MODE=ALLOW_SINGLE_EVENT_LOSS,MAX_DISPATCH_LATENCY=30 SECONDS,MAX_EVENT_SIZE=0 KB,MEMORY_PARTITION_MODE=NONE,TRACK_CAUSALITY=ON,STARTUP_STATE=ON)"
            ],
            "metadata": {
                "azdata_cell_guid": "7165935a-4ea6-42e0-9fce-c85b1509ff44",
                "tags": [
                    "hide_input"
                ]
            },
            "outputs": [],
            "execution_count": null
        },
        {
            "cell_type": "markdown",
            "source": [
                "> - Extended Events duration differ based on the type. This query details the type \n",
                "> - Source  [https://itectec.com/database/sql-server-extended-event-duration-millisecond-or-microsecond](https://itectec.com/database/sql-server-extended-event-duration-millisecond-or-microsecond)\n",
                "\n",
                ""
            ],
            "metadata": {
                "azdata_cell_guid": "b80b1a2e-e616-4663-aa4a-2071b28eb290"
            },
            "attachments": {}
        },
        {
            "cell_type": "code",
            "source": [
                "-- View duration for each datatype as it can be milli or microseconds\r\n",
                "SELECT p.name package_name,\r\n",
                "       o.name event_name,\r\n",
                "       c.name event_field,\r\n",
                "       DurationUnit= CASE\r\n",
                "                         WHEN c.description LIKE '%milli%' \r\n",
                "                         THEN SUBSTRING(c.description, CHARINDEX('milli', c.description),12)\r\n",
                "                         WHEN c.description LIKE '%micro%' \r\n",
                "                         THEN SUBSTRING(c.description, CHARINDEX('micro', c.description),12)\r\n",
                "                         ELSE NULL\r\n",
                "                     END,\r\n",
                "       c.type_name field_type,\r\n",
                "       c.column_type column_type\r\n",
                "FROM sys.dm_xe_objects o\r\n",
                "JOIN sys.dm_xe_packages p ON o.package_guid = p.guid\r\n",
                "JOIN sys.dm_xe_object_columns c ON o.name = c.object_name\r\n",
                "WHERE o.object_type = 'event'\r\n",
                "AND c.name ='duration'"
            ],
            "metadata": {
                "azdata_cell_guid": "2b1a3033-864f-47bf-8f8e-972aff83bb66",
                "tags": [
                    "hide_input"
                ]
            },
            "outputs": [],
            "execution_count": null
        },
        {
            "cell_type": "markdown",
            "source": [
                "> - Monitor UDF Sessions\n",
                ">    - Areas of concern, with scalar functions\n",
                ""
            ],
            "metadata": {
                "azdata_cell_guid": "1fbaed23-812b-4710-8e09-706b18d5dc2c"
            },
            "attachments": {}
        },
        {
            "cell_type": "code",
            "source": [
                "--Extended event to trace scalar function useage\r\n",
                "CREATE EVENT SESSION [UDF_Trace] ON SERVER \r\n",
                "ADD EVENT sqlserver.module_end(\r\n",
                "ACTION(sqlserver.database_name,sqlserver.sql_text)\r\n",
                "WHERE ([sqlserver].[equal_i_sql_ansi_string]([object_type],'FN') \r\n",
                "AND [sqlserver].[database_name]=N'GoSTock')) \r\n",
                "ADD TARGET package0.histogram(SET filtering_event_name=N'sqlserver.module_end',\r\n",
                "source=N'object_name',source_type=(0))\r\n",
                "WITH (MAX_MEMORY=4096 KB,EVENT_RETENTION_MODE=ALLOW_SINGLE_EVENT_LOSS,\r\n",
                "MAX_DISPATCH_LATENCY=30 SECONDS,MAX_EVENT_SIZE=0 KB,\r\n",
                "MEMORY_PARTITION_MODE=NONE,TRACK_CAUSALITY=OFF,STARTUP_STATE=OFF)\r\n",
                "GO\r\n",
                "--to view summarised data go Extended Event \r\n",
                "\t--UDF_Trace\r\n",
                "\t\t\t--package0.histogram / View Target Data"
            ],
            "metadata": {
                "azdata_cell_guid": "c714252e-1c43-46e4-b8d8-844f1ccc1ef6",
                "tags": [
                    "hide_input"
                ]
            },
            "outputs": [],
            "execution_count": null
        },
        {
            "cell_type": "markdown",
            "source": [
                "## [Home](file:///C:/SQLScriptsLibrary/Home.ipynb)"
            ],
            "metadata": {
                "azdata_cell_guid": "9bfedbb8-e963-4756-bf9c-ef9794e8b31e"
            }
        }
    ]
}