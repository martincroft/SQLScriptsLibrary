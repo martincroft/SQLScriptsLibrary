{
    "metadata": {
        "kernelspec": {
            "name": "SQL",
            "display_name": "SQL",
            "language": "sql"
        },
        "language_info": {
            "name": "sql",
            "version": ""
        }
    },
    "nbformat_minor": 2,
    "nbformat": 4,
    "cells": [
        {
            "cell_type": "markdown",
            "source": [
                "## [Home](file:///C:/SQLScriptsLibrary/Home.ipynb)"
            ],
            "metadata": {
                "azdata_cell_guid": "333b441a-8874-40cd-947a-c35aad0d4639"
            }
        },
        {
            "cell_type": "markdown",
            "source": [
                "## AG Queries\n",
                "\n",
                "> - Check role (Query 1)\n",
                ">     - Database States(Query 2)\n",
                ">     - Determine when nodes have chaneged roles(Query 3)\n",
                ">     - Last 5 seconds health status (Query 4)\n",
                ">     - Query Always on Health extended event(Query 5)\n",
                ">     - Availability info, database, roles, state, recovery times, redo information (Query 6)\n",
                ">     - Overview of AG health - Glenn Berry Script- (Query 7)\n",
                ">     - History State change- (Query 8)\n",
                ">     - Listener Info\n",
                ">         - Listener Info- Port etc (Query 9.1)\n",
                ">         - Listener Info IP Address- (Query 9.2)\n",
                ">         - Listener Info IP TCP listener States- (Query 9.3)\n",
                ">     - Name of replica Nodes (Query 11)"
            ],
            "metadata": {
                "azdata_cell_guid": "9fd7ac6f-e6c6-4256-b125-2ff9fdeefe66"
            },
            "attachments": {}
        },
        {
            "cell_type": "code",
            "source": [
                "/* Check role*/\r\n",
                "IF EXISTS(SELECT Name from sysobjects where name ='availability_replicas')\r\n",
                "SELECT replica_server_name\r\n",
                "\t,role_desc\r\n",
                "FROM master.[sys].[availability_replicas] ar\r\n",
                "JOIN master.sys.dm_hadr_availability_replica_states rs ON ar.replica_id = rs.replica_id\r\n",
                "\r\n",
                "/* Current role */\r\n",
                "SELECT role_desc,* FROM sys.dm_hadr_availability_replica_states WHERE is_local=1 \r\n",
                ""
            ],
            "metadata": {
                "azdata_cell_guid": "7a0b41f3-860d-402c-a170-1d882f213220",
                "tags": []
            },
            "outputs": [],
            "execution_count": null
        },
        {
            "cell_type": "markdown",
            "source": [
                ">   Database States- (Query 2)"
            ],
            "metadata": {
                "azdata_cell_guid": "7168ab92-627a-446b-aec9-2124a01f6a2a"
            }
        },
        {
            "cell_type": "code",
            "source": [
                "/* Database states*/\r\n",
                "SELECT\r\n",
                "    dc.database_name,\r\n",
                "    d.synchronization_health_desc,\r\n",
                "    d.synchronization_state_desc,\r\n",
                "    d.database_state_desc\r\n",
                "From\r\n",
                "    sys.dm_hadr_database_replica_states d\r\n",
                "    JOIN sys.availability_databases_cluster dc ON d.group_database_id = dc.group_database_id\r\n",
                "    AND d.is_local = 1"
            ],
            "metadata": {
                "azdata_cell_guid": "8adf582b-f918-443b-8db0-cf7fd85f82df",
                "tags": []
            },
            "outputs": [],
            "execution_count": null
        },
        {
            "cell_type": "markdown",
            "source": [
                "> Determine when nodes have chaneged roles- (Query 3)"
            ],
            "metadata": {
                "azdata_cell_guid": "0a49deb6-1f33-4b9d-8185-8ebef682c07b"
            },
            "attachments": {}
        },
        {
            "cell_type": "code",
            "source": [
                "/* Script to determine failover times in Availability Group */\r\n",
                "\r\n",
                ";WITH cte_HADR AS (SELECT object_name, CONVERT(XML, event_data) AS data\r\n",
                "FROM sys.fn_xe_file_target_read_file('AlwaysOn*.xel', null, null, null)\r\n",
                "WHERE object_name = 'error_reported'\r\n",
                ")\r\n",
                "\r\n",
                "SELECT data.value('(/event/@timestamp)[1]','datetime') AS [timestamp],\r\n",
                "       data.value('(/event/data[@name=''error_number''])[1]','int') AS [error_number],\r\n",
                "       data.value('(/event/data[@name=''message''])[1]','varchar(max)') AS [message]\r\n",
                "FROM cte_HADR\r\n",
                "WHERE data.value('(/event/data[@name=''error_number''])[1]','int') = 1480\r\n",
                "ORDER BY data.value('(/event/@timestamp)[1]','datetime')  desc"
            ],
            "metadata": {
                "azdata_cell_guid": "893b341d-165c-48f0-bf80-a7f879365796",
                "tags": []
            },
            "outputs": [],
            "execution_count": null
        },
        {
            "cell_type": "markdown",
            "source": [
                "> Last 5 seconds diagnostics- (Query 4)"
            ],
            "metadata": {
                "azdata_cell_guid": "55eeb953-b696-4767-ba76-d754aac07bde"
            },
            "attachments": {}
        },
        {
            "cell_type": "code",
            "source": [
                "/* Last 5 seconds dignostics */\r\n",
                "sp_server_diagnostics 10"
            ],
            "metadata": {
                "azdata_cell_guid": "7076ac88-d1fb-428b-9918-57fc4a7858d2",
                "tags": [
                    "hide_input"
                ]
            },
            "outputs": [],
            "execution_count": null
        },
        {
            "cell_type": "markdown",
            "source": [
                "> Query Always on Health extended event- (Query 5)"
            ],
            "metadata": {
                "azdata_cell_guid": "96ba1996-bce4-47df-8337-1d433f8ef87f"
            },
            "attachments": {}
        },
        {
            "cell_type": "code",
            "source": [
                "/* ALways on Health extended event */\r\n",
                "DECLARE @FileName NVARCHAR(4000)\r\n",
                "SELECT @FileName = target_data.value('(EventFileTarget/File/@name)[1]','nvarchar(4000)')\r\n",
                "FROM (\r\n",
                "        SELECT\r\n",
                "            CAST(target_data AS XML) target_data\r\n",
                "            FROM sys.dm_xe_sessions s\r\n",
                "            JOIN sys.dm_xe_session_targets t\r\n",
                "                ON s.address = t.event_session_address\r\n",
                "            WHERE s.name = N'AlwaysOn_health'\r\n",
                "    ) ft\r\n",
                " \r\n",
                "SELECT\r\n",
                "    XEData.value('(event/@timestamp)[1]','datetime2(3)') AS event_timestamp,\r\n",
                "    XEData.value('(event/data[@name=\"error_number\"]/value)[1]', 'int') AS error_number,\r\n",
                "    XEData.value('(event/data[@name=\"message\"]/value)[1]', 'varchar(max)') AS Message,\r\n",
                "\tXEData.value('(event/@name)[1]', 'varchar(max)') AS Name\r\n",
                "\r\n",
                "FROM (\r\n",
                "        SELECT CAST(event_data AS XML) XEData, *\r\n",
                "        FROM sys.fn_xe_file_target_read_file(@FileName, NULL, NULL, NULL)\r\n",
                "        --WHERE object_name = 'error_reported'\r\n",
                "        ) event_data\r\n",
                "--WHERE XEData.value('(event/data[@name=\"error_number\"]/value)[1]', 'int')  IN ( 35264, 35265)\r\n",
                "    ORDER BY event_timestamp DESC;\r\n",
                ""
            ],
            "metadata": {
                "azdata_cell_guid": "fe427132-9e42-49b6-a08a-4e78738e1269",
                "tags": [
                    "hide_input"
                ]
            },
            "outputs": [],
            "execution_count": null
        },
        {
            "cell_type": "markdown",
            "source": [
                "> Availability info, database, roles, state, recovery times, redo information- (Query 6)"
            ],
            "metadata": {
                "azdata_cell_guid": "35d84262-67c5-43f6-a88e-44a034aa4bb9"
            }
        },
        {
            "cell_type": "code",
            "source": [
                "/* Availability info, database, roles, state, recovery times, redo information */\r\n",
                "--https://sqlundercover.com/2017/09/19/7-ways-to-query-always-on-availability-groups-using-sql/\r\n",
                "SET NOCOUNT ON;\r\n",
                "\r\n",
                "DECLARE @AGname NVARCHAR(128);\r\n",
                "\r\n",
                "DECLARE @SecondaryReplicasOnly BIT;\r\n",
                "\r\n",
                "SET @AGname = NULL --N'LiveAG1'; --SET AGname for a specific AG for SET to NULL for ALL AG's\r\n",
                "\r\n",
                "IF OBJECT_ID('TempDB..#tmpag_availability_groups') IS NOT NULL\r\n",
                "    DROP TABLE [#tmpag_availability_groups];\r\n",
                "\r\n",
                "SELECT *\r\n",
                "INTO [#tmpag_availability_groups]\r\n",
                "FROM [master].[sys].[availability_groups];\r\n",
                "\r\n",
                "IF (\r\n",
                "       @AGname IS NULL\r\n",
                "       OR EXISTS\r\n",
                "(\r\n",
                "    SELECT [name]\r\n",
                "    FROM [#tmpag_availability_groups]\r\n",
                "    WHERE [name] = @AGname\r\n",
                ")\r\n",
                "   )\r\n",
                "BEGIN\r\n",
                "\r\n",
                "    IF OBJECT_ID('TempDB..#tmpdbr_availability_replicas') IS NOT NULL\r\n",
                "        DROP TABLE [#tmpdbr_availability_replicas];\r\n",
                "\r\n",
                "    IF OBJECT_ID('TempDB..#tmpdbr_database_replica_cluster_states') IS NOT NULL\r\n",
                "        DROP TABLE [#tmpdbr_database_replica_cluster_states];\r\n",
                "\r\n",
                "    IF OBJECT_ID('TempDB..#tmpdbr_database_replica_states') IS NOT NULL\r\n",
                "        DROP TABLE [#tmpdbr_database_replica_states];\r\n",
                "\r\n",
                "    IF OBJECT_ID('TempDB..#tmpdbr_database_replica_states_primary_LCT') IS NOT NULL\r\n",
                "        DROP TABLE [#tmpdbr_database_replica_states_primary_LCT];\r\n",
                "\r\n",
                "    IF OBJECT_ID('TempDB..#tmpdbr_availability_replica_states') IS NOT NULL\r\n",
                "        DROP TABLE [#tmpdbr_availability_replica_states];\r\n",
                "\r\n",
                "    SELECT [group_id],\r\n",
                "           [replica_id],\r\n",
                "           [replica_server_name],\r\n",
                "           [availability_mode],\r\n",
                "           [availability_mode_desc]\r\n",
                "    INTO [#tmpdbr_availability_replicas]\r\n",
                "    FROM [master].[sys].[availability_replicas];\r\n",
                "\r\n",
                "    SELECT [replica_id],\r\n",
                "           [group_database_id],\r\n",
                "           [database_name],\r\n",
                "           [is_database_joined],\r\n",
                "           [is_failover_ready]\r\n",
                "    INTO [#tmpdbr_database_replica_cluster_states]\r\n",
                "    FROM [master].[sys].[dm_hadr_database_replica_cluster_states];\r\n",
                "\r\n",
                "    SELECT *\r\n",
                "    INTO [#tmpdbr_database_replica_states]\r\n",
                "    FROM [master].[sys].[dm_hadr_database_replica_states];\r\n",
                "\r\n",
                "    SELECT [replica_id],\r\n",
                "           [role],\r\n",
                "           [role_desc],\r\n",
                "           [is_local]\r\n",
                "    INTO [#tmpdbr_availability_replica_states]\r\n",
                "    FROM [master].[sys].[dm_hadr_availability_replica_states];\r\n",
                "\r\n",
                "    SELECT [ars].[role],\r\n",
                "           [drs].[database_id],\r\n",
                "           [drs].[replica_id],\r\n",
                "           [drs].[last_commit_time]\r\n",
                "    INTO [#tmpdbr_database_replica_states_primary_LCT]\r\n",
                "    FROM [#tmpdbr_database_replica_states] AS [drs]\r\n",
                "        LEFT JOIN [#tmpdbr_availability_replica_states] [ars]\r\n",
                "            ON [drs].[replica_id] = [ars].[replica_id]\r\n",
                "    WHERE [ars].[role] = 1;\r\n",
                "\r\n",
                "    SELECT [AG].[name] AS [AvailabilityGroupName],\r\n",
                "           [AR].[replica_server_name] AS [AvailabilityReplicaServerName],\r\n",
                "           [dbcs].[database_name] AS [AvailabilityDatabaseName],\r\n",
                "           ISNULL([dbcs].[is_failover_ready], 0) AS [IsFailoverReady],\r\n",
                "           ISNULL([arstates].[role_desc], 3) AS [ReplicaRole],\r\n",
                "           [AR].[availability_mode_desc] AS [AvailabilityMode],\r\n",
                "           CASE [dbcs].[is_failover_ready]\r\n",
                "               WHEN 1 THEN\r\n",
                "                   0\r\n",
                "               ELSE\r\n",
                "                   ISNULL(DATEDIFF([ss], [dbr].[last_commit_time], [dbrp].[last_commit_time]), 0)\r\n",
                "           END AS [EstimatedDataLoss_(Seconds)],\r\n",
                "           ISNULL(   CASE [dbr].[redo_rate]\r\n",
                "                         WHEN 0 THEN\r\n",
                "                             -1\r\n",
                "                         ELSE\r\n",
                "                             CAST([dbr].[redo_queue_size] AS FLOAT) / [dbr].[redo_rate]\r\n",
                "                     END,\r\n",
                "                     -1\r\n",
                "                 ) AS [EstimatedRecoveryTime_(Seconds)],\r\n",
                "           ISNULL([dbr].[is_suspended], 0) AS [IsSuspended],\r\n",
                "           ISNULL([dbr].[suspend_reason_desc], '-') AS [SuspendReason],\r\n",
                "           ISNULL([dbr].[synchronization_state_desc], 0) AS [SynchronizationState],\r\n",
                "           ISNULL([dbr].[last_received_time], 0) AS [LastReceivedTime],\r\n",
                "           ISNULL([dbr].[last_redone_time], 0) AS [LastRedoneTime],\r\n",
                "           ISNULL([dbr].[last_sent_time], 0) AS [LastSentTime],\r\n",
                "           ISNULL([dbr].[log_send_queue_size], -1) AS [LogSendQueueSize],\r\n",
                "           ISNULL([dbr].[log_send_rate], -1) AS [LogSendRate_KB/S],\r\n",
                "           ISNULL([dbr].[redo_queue_size], -1) AS [RedoQueueSize_KB],\r\n",
                "           ISNULL([dbr].[redo_rate], -1) AS [RedoRate_KB/S],\r\n",
                "           ISNULL(   CASE [dbr].[log_send_rate]\r\n",
                "                         WHEN 0 THEN\r\n",
                "                             -1\r\n",
                "                         ELSE\r\n",
                "                             CAST([dbr].[log_send_queue_size] AS FLOAT) / [dbr].[log_send_rate]\r\n",
                "                     END,\r\n",
                "                     -1\r\n",
                "                 ) AS [SynchronizationPerformance],\r\n",
                "           ISNULL([dbr].[filestream_send_rate], -1) AS [FileStreamSendRate],\r\n",
                "           ISNULL([dbcs].[is_database_joined], 0) AS [IsJoined],\r\n",
                "           [arstates].[is_local] AS [IsLocal],\r\n",
                "           ISNULL([dbr].[last_commit_lsn], 0) AS [LastCommitLSN],\r\n",
                "           ISNULL([dbr].[last_commit_time], 0) AS [LastCommitTime],\r\n",
                "           ISNULL([dbr].[last_hardened_lsn], 0) AS [LastHardenedLSN],\r\n",
                "           ISNULL([dbr].[last_hardened_time], 0) AS [LastHardenedTime],\r\n",
                "           ISNULL([dbr].[last_received_lsn], 0) AS [LastReceivedLSN],\r\n",
                "           ISNULL([dbr].[last_redone_lsn], 0) AS [LastRedoneLSN]\r\n",
                "    FROM [#tmpag_availability_groups] AS [AG]\r\n",
                "        INNER JOIN [#tmpdbr_availability_replicas] AS [AR]\r\n",
                "            ON [AR].[group_id] = [AG].[group_id]\r\n",
                "        INNER JOIN [#tmpdbr_database_replica_cluster_states] AS [dbcs]\r\n",
                "            ON [dbcs].[replica_id] = [AR].[replica_id]\r\n",
                "        LEFT OUTER JOIN [#tmpdbr_database_replica_states] AS [dbr]\r\n",
                "            ON [dbcs].[replica_id] = [dbr].[replica_id]\r\n",
                "               AND [dbcs].[group_database_id] = [dbr].[group_database_id]\r\n",
                "        LEFT OUTER JOIN [#tmpdbr_database_replica_states_primary_LCT] AS [dbrp]\r\n",
                "            ON [dbr].[database_id] = [dbrp].[database_id]\r\n",
                "        INNER JOIN [#tmpdbr_availability_replica_states] AS [arstates]\r\n",
                "            ON [arstates].[replica_id] = [AR].[replica_id]\r\n",
                "    WHERE [AG].[name] = ISNULL(@AGname, [AG].[name])\r\n",
                "    ORDER BY [AvailabilityReplicaServerName] ASC,\r\n",
                "             [AvailabilityDatabaseName] ASC;\r\n",
                "\r\n",
                "END;\r\n",
                "ELSE\r\n",
                "BEGIN\r\n",
                "    RAISERROR('Invalid AG name supplied, please correct and try again', 12, 0);\r\n",
                "END;\r\n",
                ""
            ],
            "metadata": {
                "azdata_cell_guid": "bae548d2-7a2a-48d4-8a50-f322b6f060ef",
                "tags": []
            },
            "outputs": [],
            "execution_count": null
        },
        {
            "cell_type": "markdown",
            "source": [
                "> Overview of AG health - Glenn Berry Script- (Query 7)"
            ],
            "metadata": {
                "azdata_cell_guid": "3cd05e02-5ed7-4b33-b82a-dab21149d603"
            },
            "attachments": {}
        },
        {
            "cell_type": "code",
            "source": [
                "/* overview of AG health and status -Glenn Berry script */\r\n",
                "--From Glenn Berry script\tSQL 2019\r\n",
                "-- Good overview of AG health and status (Query 17) (AlwaysOn AG Status)\r\n",
                "SELECT ag.name AS [AG Name], ar.replica_server_name, ar.availability_mode_desc, adc.[database_name], \r\n",
                "       drs.is_local, drs.is_primary_replica, drs.synchronization_state_desc, drs.is_commit_participant, \r\n",
                "\t   drs.synchronization_health_desc, drs.recovery_lsn, drs.truncation_lsn, drs.last_sent_lsn, \r\n",
                "\t   drs.last_sent_time, drs.last_received_lsn, drs.last_received_time, drs.last_hardened_lsn, \r\n",
                "\t   drs.last_hardened_time, drs.last_redone_lsn, drs.last_redone_time, drs.log_send_queue_size, \r\n",
                "\t   drs.log_send_rate, drs.redo_queue_size, drs.redo_rate, drs.filestream_send_rate, \r\n",
                "\t   drs.end_of_log_lsn, drs.last_commit_lsn, drs.last_commit_time, drs.database_state_desc \r\n",
                "FROM sys.dm_hadr_database_replica_states AS drs WITH (NOLOCK)\r\n",
                "INNER JOIN sys.availability_databases_cluster AS adc WITH (NOLOCK)\r\n",
                "ON drs.group_id = adc.group_id \r\n",
                "AND drs.group_database_id = adc.group_database_id\r\n",
                "INNER JOIN sys.availability_groups AS ag WITH (NOLOCK)\r\n",
                "ON ag.group_id = drs.group_id\r\n",
                "INNER JOIN sys.availability_replicas AS ar WITH (NOLOCK)\r\n",
                "ON drs.group_id = ar.group_id \r\n",
                "AND drs.replica_id = ar.replica_id\r\n",
                "ORDER BY ag.name, ar.replica_server_name, adc.[database_name] OPTION (RECOMPILE);"
            ],
            "metadata": {
                "azdata_cell_guid": "a8fdaf8c-5d6f-4bda-ac62-7cb4bd82bb6a",
                "tags": [
                    "hide_input"
                ]
            },
            "outputs": [],
            "execution_count": null
        },
        {
            "cell_type": "markdown",
            "source": [
                "> History state change- (Query 8)"
            ],
            "metadata": {
                "azdata_cell_guid": "b8dbf889-8da2-4b84-8bb6-57ff06746d4e"
            },
            "attachments": {}
        },
        {
            "cell_type": "code",
            "source": [
                "/* availability_replica_state_change */\r\n",
                "--https://dba.stackexchange.com/questions/76016/how-to-check-history-of-primary-node-in-an-availability-group\r\n",
                "DECLARE @xel_path VARCHAR(1024);\r\n",
                "DECLARE @utc_adjustment INT = datediff(hour, getutcdate(), getdate());\r\n",
                "\t-------------------------------------------------------------------------------\r\n",
                "\t------------------- target event_file path retrieval --------------------------\r\n",
                "\t-------------------------------------------------------------------------------\r\n",
                "\t;\r\n",
                "\r\n",
                "WITH target_data_cte\r\n",
                "AS (\r\n",
                "\tSELECT target_data = convert(XML, target_data)\r\n",
                "\tFROM sys.dm_xe_sessions s\r\n",
                "\tINNER JOIN sys.dm_xe_session_targets st ON s.address = st.event_session_address\r\n",
                "\tWHERE s.NAME = 'alwayson_health'\r\n",
                "\t\tAND st.target_name = 'event_file'\r\n",
                "\t)\r\n",
                "\t,full_path_cte\r\n",
                "AS (\r\n",
                "\tSELECT full_path = target_data.value('(EventFileTarget/File/@name)[1]', 'varchar(1024)')\r\n",
                "\tFROM target_data_cte\r\n",
                "\t)\r\n",
                "SELECT @xel_path = left(full_path, len(full_path) - charindex('\\', reverse(full_path))) + '\\AlwaysOn_health*.xel'\r\n",
                "FROM full_path_cte;\r\n",
                "\t-------------------------------------------------------------------------------\r\n",
                "\t------------------- replica state change events -------------------------------\r\n",
                "\t-------------------------------------------------------------------------------\r\n",
                "\t;\r\n",
                "\r\n",
                "WITH state_change_data\r\n",
                "AS (\r\n",
                "\tSELECT object_name\r\n",
                "\t\t,event_data = convert(XML, event_data)\r\n",
                "\tFROM sys.fn_xe_file_target_read_file(@xel_path, NULL, NULL, NULL)\r\n",
                "\t)\r\n",
                "SELECT object_name\r\n",
                "\t,event_timestamp = dateadd(hour, @utc_adjustment, event_data.value('(event/@timestamp)[1]', 'datetime'))\r\n",
                "\t,ag_name = event_data.value('(event/data[@name = \"availability_group_name\"]/value)[1]', 'varchar(64)')\r\n",
                "\t,previous_state = event_data.value('(event/data[@name = \"previous_state\"]/text)[1]', 'varchar(64)')\r\n",
                "\t,current_state = event_data.value('(event/data[@name = \"current_state\"]/text)[1]', 'varchar(64)')\r\n",
                "FROM state_change_data\r\n",
                "WHERE object_name = 'availability_replica_state_change'\r\n",
                "ORDER BY event_timestamp DESC;\r\n",
                ""
            ],
            "metadata": {
                "azdata_cell_guid": "d68c1c26-a12d-47f0-b87e-ef892a2a4aa0",
                "tags": [
                    "hide_input"
                ]
            },
            "outputs": [],
            "execution_count": null
        },
        {
            "cell_type": "markdown",
            "source": [
                ">   - Listener Info- (Query 9.1)"
            ],
            "metadata": {
                "azdata_cell_guid": "11bcabd0-1b0f-4bf4-9114-1fbae6f40f3c"
            }
        },
        {
            "cell_type": "code",
            "source": [
                "/* Listener info */\r\n",
                "SELECT * FROM sys.availability_group_listeners\r\n",
                ""
            ],
            "metadata": {
                "azdata_cell_guid": "45fc2a14-cfed-45d7-8aeb-8d4d9392fc51",
                "tags": []
            },
            "outputs": [],
            "execution_count": null
        },
        {
            "cell_type": "markdown",
            "source": [
                "> - Listener Info IP Address- (Query 9.2)"
            ],
            "metadata": {
                "azdata_cell_guid": "87faf19d-ddca-4b3f-ad22-f690179da13a"
            },
            "attachments": {}
        },
        {
            "cell_type": "code",
            "source": [
                "/*Returns a row for every conformant virtual IP address that is currently online for an availability group listener.*/\r\n",
                "select * from sys.availability_group_listener_ip_addresses\r\n",
                ""
            ],
            "metadata": {
                "azdata_cell_guid": "8e0dfcd3-82ca-49db-8142-979d1df07317",
                "tags": [
                    "hide_input"
                ]
            },
            "outputs": [],
            "execution_count": null
        },
        {
            "cell_type": "markdown",
            "source": [
                "> - Listener Info IP TCP listener States- (Query 9.3)"
            ],
            "metadata": {
                "azdata_cell_guid": "8ebb13ca-895f-4a31-b639-0392a36f9da0"
            },
            "attachments": {}
        },
        {
            "cell_type": "code",
            "source": [
                "/*-Returns a row containing dynamic-state information for each TCP listener.*/\r\n",
                "SELECT * FROM sys.dm_tcp_listener_states\r\n",
                ""
            ],
            "metadata": {
                "azdata_cell_guid": "3f5803e2-0f38-46fe-b382-5b5386f76e0b",
                "tags": []
            },
            "outputs": [],
            "execution_count": null
        },
        {
            "cell_type": "markdown",
            "source": [
                ">    -  Check if databse is read/write or readonly- (Query 10.1)"
            ],
            "metadata": {
                "azdata_cell_guid": "87766d29-652e-4214-8c84-bbab42855789"
            },
            "attachments": {}
        },
        {
            "cell_type": "code",
            "source": [
                "/*Check if read/write readonly*/\r\n",
                "SELECT DATABASEPROPERTYEX(DB_NAME(), 'Updateability')\r\n",
                ""
            ],
            "metadata": {
                "azdata_cell_guid": "8d49b13a-345b-47a5-b182-01e89f5080fa",
                "tags": []
            },
            "outputs": [],
            "execution_count": null
        },
        {
            "cell_type": "markdown",
            "source": [
                " >  -  Check if databse is read/write or readonly- (Query 10.1)"
            ],
            "metadata": {
                "azdata_cell_guid": "4e25418b-7f63-4276-8f36-e60a81f0b0bf"
            }
        },
        {
            "cell_type": "code",
            "source": [
                "/* */\r\n",
                "SELECT\tAV.name AS AVGName\r\n",
                "\t, AVGLis.dns_name AS ListenerName\r\n",
                "\t, AVGLis.ip_configuration_string_from_cluster AS ListenerIP\r\n",
                "FROM\tsys.availability_group_listeners AVGLis\r\n",
                "INNER JOIN sys.availability_groups AV on AV.group_id = AVGLis.group_id\r\n",
                ""
            ],
            "metadata": {
                "azdata_cell_guid": "f360fbc8-c251-4d70-a8b4-4e0cf0b4dbfb"
            },
            "outputs": [],
            "execution_count": null
        },
        {
            "cell_type": "markdown",
            "source": [
                " >  -  Read only urls (Query 10.2)"
            ],
            "metadata": {
                "azdata_cell_guid": "7dc44006-13f7-4112-9c3d-e17894017efd"
            },
            "attachments": {}
        },
        {
            "cell_type": "code",
            "source": [
                " >  -  Read only routing infomation (Query 10.3)",
                "SELECT replica_server_name\r\n",
                "\t, read_only_routing_url\r\n",
                "\t, secondary_role_allow_connections_desc\r\n",
                "FROM sys.availability_replicas\r\n",
                ""
            ],
            "metadata": {
                "azdata_cell_guid": "300ddded-df98-4336-8acc-ec60f3556f55",
                "tags": [
                    "hide_input"
                ]
            },
            "outputs": [],
            "execution_count": null
        },
        {
            "cell_type": "markdown",
            "source": [
                " <span style=\"color: #777777;\">&gt;</span>  <span style=\"color: #777777;\">-</span> <span style=\"color: #4b69c6;\">&nbsp;&nbsp;Read&nbsp;only&nbsp;urls&nbsp;(Query&nbsp;10.2)</span>"
            ],
            "metadata": {
                "azdata_cell_guid": "e4a62f5b-a527-444e-a207-9fc6dc6778be"
            },
            "attachments": {}
        },
        {
            "cell_type": "code",
            "source": [
                "/* Read only routing information */\r\n",
                "SELECT\t  AVGSrc.replica_server_name AS SourceReplica\t\t\r\n",
                "\t\t, AVGRepl.replica_server_name AS ReadOnlyReplica\r\n",
                "\t\t, AVGRepl.read_only_routing_url AS RoutingURL\r\n",
                "\t\t, AVGRL.routing_priority AS RoutingPriority\r\n",
                "FROM sys.availability_read_only_routing_lists AVGRL\r\n",
                "INNER JOIN sys.availability_replicas AVGSrc ON AVGRL.replica_id = AVGSrc.replica_id\r\n",
                "INNER JOIN sys.availability_replicas AVGRepl ON AVGRL.read_only_replica_id = AVGRepl.replica_id\r\n",
                "INNER JOIN sys.availability_groups AV ON AV.group_id = AVGSrc.group_id\r\n",
                "ORDER BY SourceReplica"
            ],
            "metadata": {
                "azdata_cell_guid": "a111194f-73b9-4e37-a54c-790dc06d78b8",
                "tags": [
                    "hide_input"
                ]
            },
            "outputs": [],
            "execution_count": null
        },
        {
            "cell_type": "markdown",
            "source": [
                " >  -  Name of replica Nodes (Query 11)"
            ],
            "metadata": {
                "azdata_cell_guid": "6403dc56-4caa-4f40-a8f1-add2e41f61c7"
            }
        },
        {
            "cell_type": "code",
            "source": [
                "    /* Node Names */\r\n",
                "    SELECT \r\n",
                "           [replica_server_name]\r\n",
                "    FROM [master].[sys].[availability_replicas];"
            ],
            "metadata": {
                "azdata_cell_guid": "87e3ebe2-0140-44d7-a43e-914ef88aa6f5"
            },
            "outputs": [],
            "execution_count": null
        },
        {
            "cell_type": "markdown",
            "source": [
                "## [Home](file:///C:/SQLScriptsLibrary/Home.ipynb)"
            ],
            "metadata": {
                "azdata_cell_guid": "701aa6c3-ecb3-43b1-8fea-3d97b0f3e507"
            }
        }
    ]
}