{
    "metadata": {
        "kernelspec": {
            "name": "SQL",
            "display_name": "SQL",
            "language": "sql"
        },
        "language_info": {
            "name": "sql",
            "version": ""
        },
        "extensions": {
            "azuredatastudio": {
                "version": 1,
                "views": []
            }
        }
    },
    "nbformat_minor": 2,
    "nbformat": 4,
    "cells": [
        {
            "cell_type": "markdown",
            "source": [
                "## [Home](file:///C:/SQLScriptsLibrary/Home.ipynb)"
            ],
            "metadata": {
                "azdata_cell_guid": "333b441a-8874-40cd-947a-c35aad0d4639",
                "extensions": {
                    "azuredatastudio": {
                        "views": []
                    }
                }
            }
        },
        {
            "cell_type": "markdown",
            "source": [
                "## Port Queries\n",
                "\n",
                "> - Port SQL is listening on (Q1)"
            ],
            "metadata": {
                "azdata_cell_guid": "99b98758-2dda-47db-9afa-e2507357cbb3"
            },
            "attachments": {}
        },
        {
            "cell_type": "markdown",
            "source": [
                "> - Port SQL is listening on (Q1)"
            ],
            "metadata": {
                "azdata_cell_guid": "50c50afd-fb51-47bf-b8a9-99c0c9ca9426"
            },
            "attachments": {}
        },
        {
            "cell_type": "code",
            "source": [
                "/* Port SQlL listening on.sql  */ \r\n",
                "GO\r\n",
                "--increment first number if error lg is recycled\r\n",
                "xp_readerrorlog 0, 1, N'Server is listening on'\r\n",
                "GO\r\n",
                ""
            ],
            "metadata": {
                "azdata_cell_guid": "22f1120f-e6d0-41b1-812c-bb7bf6953579"
            },
            "outputs": [],
            "execution_count": null
        },
        {
            "cell_type": "markdown",
            "source": [
                "## [Home](file:///C:/SQLScriptsLibrary/Home.ipynb)"
            ],
            "metadata": {
                "azdata_cell_guid": "7fba0087-8d3b-495a-badb-af2da450522f"
            }
        }
    ]
}