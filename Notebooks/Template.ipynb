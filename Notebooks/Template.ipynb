{
    "metadata": {
        "kernelspec": {
            "name": "SQL",
            "display_name": "SQL",
            "language": "sql"
        },
        "language_info": {
            "name": "sql",
            "version": ""
        },
        "extensions": {
            "azuredatastudio": {
                "version": 1,
                "views": []
            }
        }
    },
    "nbformat_minor": 2,
    "nbformat": 4,
    "cells": [
        {
            "cell_type": "markdown",
            "source": [
                "## [Home](file:///C:/SQLScriptsLibrary/Home.ipynb)"
            ],
            "metadata": {
                "azdata_cell_guid": "333b441a-8874-40cd-947a-c35aad0d4639",
                "extensions": {
                    "azuredatastudio": {
                        "views": []
                    }
                }
            }
        },
        {
            "cell_type": "markdown",
            "source": [
                "## What Queries\n",
                "\n",
                "> - (Q1)\n",
                "> - (Q2)\n",
                "> - (Q3)\n",
                "> - (Q4)\n",
                "> - (Q5)\n",
                ""
            ],
            "metadata": {
                "azdata_cell_guid": "99b98758-2dda-47db-9afa-e2507357cbb3"
            },
            "attachments": {}
        },
        {
            "cell_type": "markdown",
            "source": [
                "## [Home](file:///C:/SQLScriptsLibrary/Home.ipynb)"
            ],
            "metadata": {
                "azdata_cell_guid": "7fba0087-8d3b-495a-badb-af2da450522f"
            }
        },
        {
            "cell_type": "code",
            "source": [
                "-- Useful.sql  #SQL\n",
                "\n",
                "--#1 SQL Server Installation Date\n",
                "--#1b SQL Server Installation Date (works on SQL 2000)\n",
                "--#2 top 10 tables with tablename entire db\n",
                "--#3 Page life expectancy\n",
                "--#4 SQL Memory\n",
                "--#5 Versions from Product version\n",
                "--#6 Split out servername from INstance name\n",
                "--#7 Simple Data Dictionary extednded properties for all columns on  table\n",
                "--#8 Check if Enterprise features being used\n",
                "--#9 MAX CPU\n",
                "--#10 List top 10 rows from each table in database and show table name\n",
                "\n",
                "\n",
                "-- SQL and OS Version information for current instance (Query 1) (Version Info)\n",
                "SELECT @@SERVERNAME AS [Server Name], @@VERSION AS [SQL Server and OS Version Info];\n",
                "------\n",
                ""
            ],
            "metadata": {
                "azdata_cell_guid": "dd5e34f6-5fc6-418f-9623-8701b17460f4"
            },
            "outputs": [],
            "execution_count": null
        },
        {
            "cell_type": "code",
            "source": [
                "\n",
                "\n"
            ],
            "metadata": {
                "azdata_cell_guid": "60f37226-d8d7-4284-8e3d-9b6a087cd572"
            },
            "outputs": [],
            "execution_count": null
        },
        {
            "cell_type": "code",
            "source": [
                "-- Date SQL was installed ![Installation](file:///C://SQLServerSolutions/Installation.jpg) (Query 2) (SQL Server Installation Date)\n",
                "SELECT create_date\n",
                "FROM sys.server_principals\n",
                "WHERE sid = 0x010100000000000512000000;\n",
                "------\n",
                ""
            ],
            "metadata": {
                "azdata_cell_guid": "174eb1c7-fc88-4a5f-b74b-5f8d13d6cf36"
            },
            "outputs": [],
            "execution_count": null
        },
        {
            "cell_type": "code",
            "source": [
                "\n",
                "-- Date SQL was installed for different SQL versions (Query 3) (SQL Server Versions Installation Date)\n",
                "DECLARE @SQLServerInstanceVersion INT\n",
                "SELECT  @SQLServerInstanceVersion=FLOOR(SUBSTRING(CAST(SERVERPROPERTY('ProductVersion')AS VARCHAR(10)),1,4)) \n",
                "\n",
                "SELECT @SQLServerInstanceVersion\n",
                "\n",
                "IF @SQLServerInstanceVersion < 10 \n",
                "BEGIN \n",
                "\tSELECT  @@servername AS servername,CONVERT(DATETIME, createdate, 103) AS create_date FROM syslogins \n",
                "\tWHERE   name = 'sa'\n",
                "END\n",
                "ELSE\n",
                "BEGIN\n",
                "\tSELECT  @@ServerName as ServerName,CONVERT(DATETIME, create_date, 103) AS create_date FROM sys.server_principals WHERE sid = 0x010100000000000512000000\n",
                "END;\n",
                "------\n",
                "\n",
                ""
            ],
            "metadata": {
                "azdata_cell_guid": "078b479d-1a26-452c-916c-deb897075286"
            },
            "outputs": [],
            "execution_count": null
        },
        {
            "cell_type": "code",
            "source": [
                "-- List top 10 rows from all tables with tablename (Query 4) (Top Ten tables with tablename entireDB)\n",
                "EXEC sp_msforeachtable \"SELECT top 10 * FROM ?; SELECT '?'\";\n",
                "------\n",
                "\n",
                "\n",
                "-- Page Life Expectanct ![Installation](file:///C://SQLServerSolutions/memory.jpg) (Query 5) (PLE)\n",
                "SELECT [object_name],\n",
                "[counter_name],\n",
                "[cntr_value] FROM sys.dm_os_performance_counters\n",
                "WHERE [object_name] LIKE '%Manager%'\n",
                "AND [counter_name] = 'Page life expectancy';\n",
                "------\n",
                "\n",
                "\n",
                "-- Page Life Expectanct (Query 6) (Find Production version code)\n",
                "GO\n",
                "DECLARE @SQLServerInstanceVersion INT\n",
                "SELECT  @SQLServerInstanceVersion=FLOOR(SUBSTRING(CAST(SERVERPROPERTY('ProductVersion')AS VARCHAR(10)),1,4)) \n",
                "\n",
                "SELECT CASE\n",
                "\t\t\tWHEN @SQLServerInstanceVersion ='14' THEN 'SQL Server 2017' \n",
                "\t\t\tWHEN @SQLServerInstanceVersion ='13' THEN 'SQL Server 2016'  \n",
                "\t\t\tWHEN @SQLServerInstanceVersion ='12' THEN 'SQL Server 2014'  \n",
                "\t\t\tWHEN @SQLServerInstanceVersion ='11' THEN 'SQL Server 2012'  \n",
                "\t\t\tWHEN @SQLServerInstanceVersion ='10' THEN 'SQL Server 2008 R2'  \n",
                "\t\t\tWHEN @SQLServerInstanceVersion ='10' THEN 'SQL Server 2008'   \n",
                "\t\t\tWHEN @SQLServerInstanceVersion ='9' THEN 'SQL Server 2005'   \n",
                "\t\t\tWHEN @SQLServerInstanceVersion ='8' THEN 'SQL Server 2000'   \n",
                "\t\tEND AS Version;\n",
                "------\n",
                "\n",
                "-- Check if Enterprise features in use (Query 7) (Enterprise Features)\n",
                "\n",
                "SELECT feature_name FROM sys.dm_db_persisted_sku_features;  \n",
                "\n",
                "EXEC sp_MSForeachDB 'USE [?] SELECT db_name() AS dbname, feature_name FROM sys.dm_db_persisted_sku_features;  '\n",
                "------\n",
                "\n",
                "-- Date SQL was installed (Query 8) (Split out Server / Instance Name)\n",
                "SELECT \n",
                "\tCASE \n",
                "\t\tWHEN CHARINDEX('\\', SQLServerInstance) = 0 THEN SQLServerInstance\n",
                "\t\tELSE SUBSTRING(SQLServerInstance, 0, CHARINDEX('\\', SQLServerInstance))\n",
                "\tEND AS ServerName;\n",
                "\n",
                "------\n",
                "\n",
                "-- Date SQL was started ![calendar] (Query 9) (SQL Server Start Date)\n",
                "select login_time from master.dbo.sysprocesses\n",
                "where spid =1\n",
                "------\n",
                "\n",
                "--===============================================================\n",
                "--10 List top 10 rows from each table in database and show table name\n",
                "--===============================================================\n",
                "EXEC sp_MSForeachTable \"SELECT TOP 10 '?' AS TableName,* FROM ?;\"\n",
                ""
            ],
            "metadata": {
                "azdata_cell_guid": "f8aa5135-4ff6-4db9-84f0-88410970ca85"
            },
            "outputs": [],
            "execution_count": null
        }
    ]
}