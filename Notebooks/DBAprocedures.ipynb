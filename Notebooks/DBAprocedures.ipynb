{
    "metadata": {
        "kernelspec": {
            "name": "SQL",
            "display_name": "SQL",
            "language": "sql"
        },
        "language_info": {
            "name": "sql",
            "version": ""
        }
    },
    "nbformat_minor": 2,
    "nbformat": 4,
    "cells": [
        {
            "cell_type": "markdown",
            "source": [
                "## [Home](file:///C:/SQLScriptsLibrary/Home.ipynb)"
            ],
            "metadata": {
                "azdata_cell_guid": "333b441a-8874-40cd-947a-c35aad0d4639"
            }
        },
        {
            "cell_type": "markdown",
            "source": [
                "> **DBA Procedures**\r\n",
                "> - Details of index statistics, seeks, scans etc (DBA1.0)\r\n",
                "> - Details of missing index statistics, seeks, scans etc(Query 2)\r\n",
                "> - Find blocking information (Query 3)\r\n",
                "> - Find details of procedure stats (Query 4)"
            ],
            "metadata": {
                "azdata_cell_guid": "777c1f32-c216-4e10-a368-c3d317dd580e"
            }
        },
        {
            "cell_type": "markdown",
            "source": [
                "> **DBA index statistics**\r\n",
                "> - Details of index statistics, seeks, scans etc(Query 1)\r\n",
                " "
            ],
            "metadata": {
                "azdata_cell_guid": "222b0906-c763-4289-bf83-9032ec49c860"
            }
        },
        {
            "cell_type": "code",
            "source": [
                "-- DBA_IndexStats.sql  #SQL\r\n",
                "      \r\n",
                "SELECT      \r\n",
                "\tdb_name() AS DatabaseName, \r\n",
                "\to.name,      \r\n",
                "\tindexname=i.name,    \r\n",
                "\ti.type_desc, \r\n",
                "\ti.index_id,      \r\n",
                "\tuser_seeks,   \r\n",
                "\tuser_scans,\r\n",
                "\tuser_lookups,\r\n",
                "\treads=user_seeks + user_scans + user_lookups,         \r\n",
                "\twrites =  user_updates,         \r\n",
                "\trows = (SELECT SUM(p.rows) FROM sys.partitions p WHERE p.index_id = s.index_id AND s.object_id = p.object_id),      \r\n",
                "\t8 * (a.used_pages) AS 'Indexsize(KB)',  \r\n",
                "\tCASE      \r\n",
                "\t\tWHEN s.user_updates < 1 THEN 100      \r\n",
                "\t\tELSE 1.00 * (s.user_seeks + s.user_scans + s.user_lookups) / s.user_updates      \r\n",
                "\tEND AS reads_per_write,      \r\n",
                "\t'DROP INDEX ' + QUOTENAME(i.name)+' ON ' + QUOTENAME(c.name) + '.' + QUOTENAME(OBJECT_NAME(s.object_id)) as 'drop statement'      \r\n",
                "FROM \r\n",
                "\tsys.dm_db_index_usage_stats s        \r\n",
                "INNER JOIN       \r\n",
                "\tsys.indexes i ON i.index_id = s.index_id AND s.object_id = i.object_id         \r\n",
                "INNER JOIN       \r\n",
                "\tsys.objects o on s.object_id = o.object_id      \r\n",
                "INNER JOIN       \r\n",
                "\tsys.schemas c on o.schema_id = c.schema_id  \r\n",
                "INNER JOIN    \r\n",
                "\t sys.partitions AS p ON p.OBJECT_ID = i.OBJECT_ID AND p.index_id = i.index_id  \r\n",
                "INNER JOIN   \r\n",
                "\t sys.allocation_units AS a ON a.container_id = p.partition_id  \r\n",
                "WHERE       \r\n",
                "\t\t(OBJECTPROPERTY(s.object_id,'IsUserTable') = 1  or OBJECTPROPERTY(s.object_id,'IsView') = 1)\r\n",
                "\t AND       \r\n",
                "\t\ts.database_id = DB_ID() \r\n",
                "\t AND       \r\n",
                "\t\ti.name IS NOT NULL\r\n",
                "\tAND      \r\n",
                "\t\ti.is_unique_constraint = 0 \r\n",
                "  ORDER BY O.name desc      \r\n",
                ""
            ],
            "metadata": {
                "azdata_cell_guid": "2b69b7d7-8a57-4f65-8f53-62f6cdb35e6a",
                "tags": []
            },
            "outputs": [],
            "execution_count": null
        },
        {
            "cell_type": "markdown",
            "source": [
                "> **DBA Missing indexes**\r\n",
                "> - Details of missing index statistics, seeks, scans etc(Query 2)\r\n",
                "> - Will run in context of current database need to update use statement"
            ],
            "metadata": {
                "azdata_cell_guid": "e75773fa-26cc-4a8f-a716-fc612b22665e"
            }
        },
        {
            "cell_type": "code",
            "source": [
                "-- DBA_MissingIndexes.sql  #SQL\r\n",
                "USE Master\r\n",
                "GO\r\n",
                "SET ANSI_NULLS ON\r\n",
                "GO\r\n",
                "SET QUOTED_IDENTIFIER ON\r\n",
                "GO\r\n",
                "SET NOCOUNT ON\r\n",
                "\r\n",
                "\r\n",
                "DECLARE\r\n",
                " @TableName sysname = NULL,\r\n",
                " @SchemeName sysname =null,\r\n",
                " @Sort Tinyint =1,\r\n",
                " @IncludeExcluded BIT = NULL,\r\n",
                " @CountOnly BIT = NULL\r\n",
                "  \r\n",
                "-----------------------------------------------------------------  \r\n",
                "-- Object:   sp_DBA_MissingIndexes  \r\n",
                "-- Written By:  \r\n",
                "-- Date Written:   \r\n",
                "-- Purpose:   Return missing index information\r\n",
                "-- Usage:     \r\n",
                "--    sp_DBA_MissingIndexes  @TableName='dbCodelookup'\r\n",
                "-- Calls:   N/A  \r\n",
                "-----------------------------------------------------------------  \r\n",
                "\r\n",
                "SELECT\r\n",
                "  migs.avg_total_user_cost * (migs.avg_user_impact / 100.0) * (migs.user_seeks + migs.user_scans) AS improvement_measure,\r\n",
                "  mid.statement AS TableName, \r\n",
                "  so.name,\r\n",
                "  mid.object_id,\r\n",
                "  \t replace(replace('CREATE NONCLUSTERED INDEX Ixn_' + object_name(mid.object_id) +'_' \r\n",
                "\t\t\t  +  case \r\n",
                "\t\t\t\t\twhen mid.equality_columns is not null \r\n",
                "\t\t\t\t\tand mid.inequality_columns is not null \r\n",
                "\t\t\t\t\tthen replace(mid.equality_columns,', ','_') + '_' + replace(mid.inequality_columns,', ','_')\r\n",
                "\t\t\t\t\twhen mid.equality_columns is not null \r\n",
                "\t\t\t\t\tand mid.inequality_columns is null \r\n",
                "\t\t\t\t\tthen replace(mid.equality_columns,', ','_')\r\n",
                "\t\t\t\t\twhen mid.inequality_columns is not null \r\n",
                "\t\t\t\t\tthen replace(mid.inequality_columns,', ','_')\r\n",
                "\t\t\t\t  end\r\n",
                "\t\t\t +         case \r\n",
                "\t\t\twhen mid.included_columns is not null \r\n",
                "\t\t\tthen '_I'\r\n",
                "\t\t\telse ''\r\n",
                "\t\t\tend\r\n",
                "\t\t   + ' on ' \r\n",
                "\t\t   + ss.name COLLATE DATABASE_DEFAULT + '.'\r\n",
                "\t\t\t+ object_name(mid.object_id) + ' (' + \r\n",
                "\t\t\tcase \r\n",
                "\t\t\t\t\twhen mid.equality_columns is not null \r\n",
                "\t\t\t\t\tand mid.inequality_columns is not null \r\n",
                "\t\t\t\t\tthen mid.equality_columns + ',' + mid.inequality_columns\r\n",
                "\t\t\t\t\twhen mid.equality_columns is not null \r\n",
                "\t\t\t\t\tand mid.inequality_columns is null \r\n",
                "\t\t\t\t\tthen mid.equality_columns\r\n",
                "\t\t\t\t\twhen mid.inequality_columns is not null \r\n",
                "\t\t\t\t\tthen mid.inequality_columns\r\n",
                "\t\t\tend\r\n",
                "\t\t\t+ ')' + char(10)\r\n",
                "\t\t\t+ \r\n",
                "\t\t\tcase \r\n",
                "\t\t\twhen mid.included_columns is not null \r\n",
                "\t\t\tthen 'Include (' + mid.included_columns + ')'\r\n",
                "\t\t\telse ''\r\n",
                "\t\t\tend,'[',''),']','') as CreateIndexStmt,\r\n",
                "\t\t\t equality_columns AS equality_columns,\r\n",
                "\t\t\t inequality_columns AS inequality_columns,\r\n",
                "\t\t\t included_columns AS included_columns,\r\n",
                "\t\t\tmigs.unique_compiles,\r\n",
                "\t\t\tmigs.user_seeks, \r\n",
                "\t\t\tmigs.user_scans,\r\n",
                "\t\t\tmigs.avg_total_user_cost, \r\n",
                "\t\t\tmigs.avg_user_impact,\r\n",
                "\t\t\tmigs.last_user_seek, \r\n",
                "\t\t\tmigs.last_user_scan,\r\n",
                "\t\t\tmigs.system_seeks, \r\n",
                "\t\t\tmigs.system_scans,\r\n",
                "\t\t\tmigs.avg_total_system_cost, \r\n",
                "\t\t\tmigs.avg_system_impact,\r\n",
                "\t\t\tmigs.last_system_seek, \r\n",
                "\t\t\tmigs.last_system_scan,\r\n",
                "\t\t\t(CONVERT(Numeric(19,6), migs.user_seeks)+CONVERT(Numeric(19,6), migs.unique_compiles))*CONVERT(Numeric(19,6), migs.avg_total_user_cost)*CONVERT(Numeric(19,6), migs.avg_user_impact/100.0) AS Score\r\n",
                "FROM sys.dm_db_missing_index_groups mig\r\n",
                "INNER JOIN sys.dm_db_missing_index_group_stats migs ON migs.group_handle = mig.index_group_handle\r\n",
                "INNER JOIN SYS.DM_DB_MISSING_INDEX_DETAILS mid ON mig.index_handle = mid.index_handle\r\n",
                "LEFT JOIN sys.objects so on so.object_id=mid.object_id\r\n",
                "LEFT JOIN sys.schemas ss ON ss.schema_id=so.schema_id\r\n",
                "WHERE migs.avg_total_user_cost * (migs.avg_user_impact / 100.0) * (migs.user_seeks + migs.user_scans) > 10\r\n",
                "AND so.name = COALESCE(@TableName,so.name) AND mid.database_id = db_id()\r\n",
                "ORDER BY migs.avg_total_user_cost * migs.avg_user_impact * (migs.user_seeks + migs.user_scans) DESC\r\n",
                "\r\n",
                ""
            ],
            "metadata": {
                "azdata_cell_guid": "e8bd5f7e-f1d6-4e94-af74-26978ae29699",
                "tags": []
            },
            "outputs": [],
            "execution_count": 1
        },
        {
            "cell_type": "markdown",
            "source": [
                "##  Missing indexes all databases"
            ],
            "metadata": {
                "azdata_cell_guid": "7feced70-aeb7-4d21-bd7f-4073ec596f17"
            }
        },
        {
            "cell_type": "code",
            "source": [
                ""
            ],
            "metadata": {
                "azdata_cell_guid": "28524012-9d9c-46ec-99dd-4ee0f0b69a32"
            },
            "outputs": [],
            "execution_count": null
        },
        {
            "cell_type": "markdown",
            "source": [
                "> **DBA Blocking chain**\r\n",
                "> - Find blocking information (Query 3)\r\n",
                "> - Shows lead blocker and chain of blocking"
            ],
            "metadata": {
                "azdata_cell_guid": "22386676-0be2-4834-b0bb-fea4ebba5f69"
            }
        },
        {
            "cell_type": "code",
            "source": [
                "-- DBA_BlockingChain.sql  #SQL\r\n",
                "USE [master]\r\n",
                "GO\r\n",
                "\r\n",
                "SET ANSI_NULLS ON\r\n",
                "GO\r\n",
                "\r\n",
                "-----------------------------------------------------------------  \r\n",
                "-- Object:   DBA_BlockingChain.sql  \r\n",
                "-- Written By:  Martin Croft\r\n",
                "-- Date Written:   \r\n",
                "-- Purpose:   Shows lead blocking\r\n",
                "-- Usage:     DBA_BlockingChain\r\n",
                "-----------------------------------------------------------------  \r\n",
                "-- Modified By  Modified Date  Description\t\t\t\t\tVersion \r\n",
                "-----------------------------------------------------------------  \r\n",
                "-- {developer}  {date}    {description} {Version}  \r\n",
                "-----------------------------------------------------------------  \r\n",
                "\r\n",
                "\r\n",
                "IF (SELECT OBJECT_ID('TempDB.dbo.#T')) IS NOT NULL DROP TABLE #T\r\n",
                "CREATE TABLE #T (spid INT, Blocked INT, BATCH VARCHAR(MAX))\r\n",
                "\r\n",
                "INSERT INTO #T (Spid,blocked,Batch)\r\n",
                "SELECT  spid ,\r\n",
                "        blocked ,\r\n",
                "        REPLACE(REPLACE(T.text, CHAR(10), ' '), CHAR(13), ' ') AS BATCH\r\n",
                "\r\n",
                "FROM    sys.sysprocesses R\r\n",
                "        CROSS APPLY sys.dm_exec_sql_text(R.sql_handle) T;\r\n",
                "\r\n",
                "WITH    BLOCKERS ( SPID, BLOCKED, LEVEL, BATCH )\r\n",
                "          AS ( SELECT   spid ,\r\n",
                "                        blocked ,\r\n",
                "                        CAST (REPLICATE('0', 4 - LEN(CAST (spid AS VARCHAR)))\r\n",
                "                        + CAST (spid AS VARCHAR) AS VARCHAR(1000)) AS LEVEL ,\r\n",
                "                        BATCH\r\n",
                "               FROM     #T R\r\n",
                "               WHERE    ( blocked = 0\r\n",
                "                          OR blocked = spid\r\n",
                "                        )\r\n",
                "                        AND EXISTS ( SELECT *\r\n",
                "                                     FROM   #T R2\r\n",
                "                                     WHERE  R2.blocked = R.spid\r\n",
                "                                            AND R2.blocked <> R2.spid )\r\n",
                "               UNION ALL\r\n",
                "               SELECT   R.spid ,\r\n",
                "                        R.blocked ,\r\n",
                "                        CAST (BLOCKERS.LEVEL\r\n",
                "                        + RIGHT(CAST (( 1000 + R.spid ) AS VARCHAR(100)), 4) AS VARCHAR(1000)) AS LEVEL ,\r\n",
                "                        R.BATCH\r\n",
                "               FROM     #T AS R\r\n",
                "                        INNER JOIN BLOCKERS ON R.blocked = BLOCKERS.SPID\r\n",
                "               WHERE    R.blocked > 0\r\n",
                "                        AND R.blocked <> R.spid\r\n",
                "             )\r\n",
                "    SELECT  N'    ' + REPLICATE(N'|         ', LEN(LEVEL) / 4 - 1)\r\n",
                "            + CASE WHEN ( LEN(LEVEL) / 4 - 1 ) = 0 THEN 'HEAD -  '\r\n",
                "                   ELSE '|------  '\r\n",
                "              END + CAST (SPID AS NVARCHAR(10)) + N' ' + BATCH AS BLOCKING_TREE\r\n",
                "    FROM    BLOCKERS\r\n",
                "    ORDER BY LEVEL ASC;\r\n",
                "\r\n",
                "GO\r\n",
                "\r\n",
                "\r\n",
                ""
            ],
            "metadata": {
                "azdata_cell_guid": "e8d4f3b6-2024-47e5-b9f4-340e74859fbf",
                "tags": [
                    "hide_input"
                ]
            },
            "outputs": [],
            "execution_count": null
        },
        {
            "cell_type": "markdown",
            "source": [
                "> **DBA Procedure statistics**\r\n",
                "> - Find details of procedure stats (Query 4)\r\n",
                "> - average, min and max times, cached time"
            ],
            "metadata": {
                "azdata_cell_guid": "835dbee3-821f-49bb-bc30-1af1b1d88b1e"
            }
        },
        {
            "cell_type": "code",
            "source": [
                "-- DBA_ProcedureStats.sql  #SQL\r\n",
                "  \r\n",
                "SELECT \r\n",
                "\t p.name AS [SP Name] ,  \r\n",
                "\t qs.total_logical_reads AS [TotalLogicalReads] ,   \r\n",
                "\t CASE WHEN qs.total_logical_reads  > 0 THEN\t qs.total_logical_reads / qs.execution_count ELSE 0\r\n",
                "\t\t  END\t AS [AvgLogicalReads] ,  \r\n",
                "\t qs.execution_count ,   \r\n",
                "\t CASE WHEN qs.total_elapsed_time > 0  THEN total_elapsed_time /1000 ELSE 0 END AS total_elapsed_timeMS ,  \r\n",
                "\t CASE WHEN qs.execution_count > 0  THEN (total_elapsed_time /1000)/qs.execution_count ELSE 0 END AS [avg_elapsed_timeMS] ,  \r\n",
                "\t qs.cached_time,  \r\n",
                "\t db_name() AS DbName, \r\n",
                "\t @@ServerName AS ServerName   \r\n",
                "FROM   \r\n",
                "\tsys.procedures AS p   \r\n",
                "INNER JOIN   \r\n",
                "\tsys.dm_exec_procedure_stats AS qs ON p.[object_id] = qs.[object_id]  AND db_id() = database_id\r\n",
                "ORDER BY   \r\n",
                "\t qs.total_logical_reads DESC ;"
            ],
            "metadata": {
                "azdata_cell_guid": "57868cb8-52cb-4485-9eb7-3895764fcfbe",
                "tags": []
            },
            "outputs": [],
            "execution_count": null
        }
    ]
}