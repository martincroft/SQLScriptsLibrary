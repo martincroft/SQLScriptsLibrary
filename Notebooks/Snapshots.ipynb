{
    "metadata": {
        "kernelspec": {
            "name": "SQL",
            "display_name": "SQL",
            "language": "sql"
        },
        "language_info": {
            "name": "sql",
            "version": ""
        },
        "extensions": {
            "azuredatastudio": {
                "version": 1,
                "views": []
            }
        }
    },
    "nbformat_minor": 2,
    "nbformat": 4,
    "cells": [
        {
            "cell_type": "markdown",
            "source": [
                "## [Home](file:///C:/SQLScriptsLibrary/Home.ipynb)"
            ],
            "metadata": {
                "azdata_cell_guid": "00531845-cf3f-4e5c-96bb-f01e2d9cd72b"
            }
        },
        {
            "cell_type": "markdown",
            "source": [
                "> **Snapshot Information**\n",
                "> \n",
                "> - List Snapshots and parent database (Query 1)\n",
                "> - Snapshot sizes (Query 2)"
            ],
            "metadata": {
                "azdata_cell_guid": "24811abb-6935-44aa-97f1-536d097066c1"
            },
            "attachments": {}
        },
        {
            "cell_type": "markdown",
            "source": [
                "> - List Snapshots and parent database (Query 1)"
            ],
            "metadata": {
                "azdata_cell_guid": "c072f3c8-6a38-45b8-8671-be4d40d7daba"
            },
            "attachments": {}
        },
        {
            "cell_type": "code",
            "source": [
                "--List database snapshots and parent database\r\n",
                "SELECT source_database_id,DB_NAME(source_database_id) AS ParentDB,* FROM sys.databases\r\n",
                "WHERE source_database_id IS NOT NULL"
            ],
            "metadata": {
                "azdata_cell_guid": "f60a816b-9175-407d-9b6f-34c0adcff3f9"
            },
            "outputs": [],
            "execution_count": null
        },
        {
            "cell_type": "markdown",
            "source": [
                "> - Snapshot sizes (Query 2)"
            ],
            "metadata": {
                "azdata_cell_guid": "c1510467-e524-44fd-acfa-516f3c03f5f5"
            }
        },
        {
            "cell_type": "code",
            "source": [
                "--List database snapshots sizes\r\n",
                "SELECT  DB_NAME(sd.source_database_id) AS [SourceDatabase], \r\n",
                "\t\tsd.name AS [Snapshot],\r\n",
                "\t\tmf.name AS [Filename], \r\n",
                "\t\tsize_on_disk_bytes/1024 AS [size_on_disk (KB)],\r\n",
                "\t\tmf2.size/128 AS [MaximumSize (MB)]\r\n",
                "FROM sys.master_files mf\r\n",
                "JOIN sys.databases sd\r\n",
                "\tON mf.database_id = sd.database_id\r\n",
                "JOIN sys.master_files mf2\r\n",
                "\tON sd.source_database_id = mf2.database_id\r\n",
                "\tAND mf.file_id = mf2.file_id\r\n",
                "CROSS APPLY sys.dm_io_virtual_file_stats(sd.database_id, mf.file_id)\r\n",
                "WHERE mf.is_sparse = 1\r\n",
                "AND mf2.is_sparse = 0\r\n",
                "ORDER BY 1;\r\n",
                "\r\n",
                ""
            ],
            "metadata": {
                "azdata_cell_guid": "0abcf659-4b08-44e7-91b0-6f868ae6e48b"
            },
            "outputs": [],
            "execution_count": null
        },
        {
            "cell_type": "markdown",
            "source": [
                "## [Home](file:///C:/SQLScriptsLibrary/Home.ipynb)"
            ],
            "metadata": {
                "azdata_cell_guid": "333b441a-8874-40cd-947a-c35aad0d4639",
                "extensions": {
                    "azuredatastudio": {
                        "views": []
                    }
                }
            }
        }
    ]
}