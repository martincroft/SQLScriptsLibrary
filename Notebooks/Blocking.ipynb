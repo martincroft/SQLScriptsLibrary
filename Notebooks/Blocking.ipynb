{
    "metadata": {
        "kernelspec": {
            "name": "SQL",
            "display_name": "SQL",
            "language": "sql"
        },
        "language_info": {
            "name": "sql",
            "version": ""
        },
        "extensions": {
            "azuredatastudio": {
                "version": 1,
                "views": []
            }
        }
    },
    "nbformat_minor": 2,
    "nbformat": 4,
    "cells": [
        {
            "cell_type": "markdown",
            "source": [
                "## [Home](file:///C:/SQLScriptsLibrary/Home.ipynb)"
            ],
            "metadata": {
                "azdata_cell_guid": "333b441a-8874-40cd-947a-c35aad0d4639",
                "extensions": {
                    "azuredatastudio": {
                        "views": []
                    }
                }
            }
        },
        {
            "cell_type": "markdown",
            "source": [
                "## Blocking Queries\r\n",
                "> -   Find Lead blocker (Query 1) - If blocking will show what spids are blocking other spids\r\n",
                "> -   (Query 2)"
            ],
            "metadata": {
                "azdata_cell_guid": "f6eafc3a-69ca-4630-883b-33206f0569eb"
            }
        },
        {
            "cell_type": "markdown",
            "source": [
                "## [Home](file:///C:/SQLScriptsLibrary/Home.ipynb)"
            ],
            "metadata": {
                "azdata_cell_guid": "9bfedbb8-e963-4756-bf9c-ef9794e8b31e"
            }
        },
        {
            "cell_type": "code",
            "source": [
                "/* Blocking_Chain.sql  #SQL */\r\n",
                "SET NOCOUNT ON;\r\n",
                "GO\r\n",
                "\r\n",
                "IF (SELECT OBJECT_ID('TempDB.dbo.#T')) IS NOT NULL DROP TABLE #T\r\n",
                "GO\r\n",
                "\r\n",
                "CREATE TABLE #T (spid INT, Blocked INT, BATCH VARCHAR(MAX))\r\n",
                "GO\r\n",
                "INSERT INTO #T (Spid,blocked,Batch)\r\n",
                "SELECT  spid ,\r\n",
                "        blocked ,\r\n",
                "        REPLACE(REPLACE(T.text, CHAR(10), ' '), CHAR(13), ' ') AS BATCH\r\n",
                "\r\n",
                "FROM    sys.sysprocesses R\r\n",
                "        CROSS APPLY sys.dm_exec_sql_text(R.sql_handle) T;\r\n",
                "\r\n",
                "WITH    BLOCKERS ( SPID, BLOCKED, LEVEL, BATCH )\r\n",
                "          AS ( SELECT   spid ,\r\n",
                "                        blocked ,\r\n",
                "                        CAST (REPLICATE('0', 4 - LEN(CAST (spid AS VARCHAR)))\r\n",
                "                        + CAST (spid AS VARCHAR) AS VARCHAR(1000)) AS LEVEL ,\r\n",
                "                        BATCH\r\n",
                "               FROM     #T R\r\n",
                "               WHERE    ( blocked = 0\r\n",
                "                          OR blocked = spid\r\n",
                "                        )\r\n",
                "                        AND EXISTS ( SELECT *\r\n",
                "                                     FROM   #T R2\r\n",
                "                                     WHERE  R2.blocked = R.spid\r\n",
                "                                            AND R2.blocked <> R2.spid )\r\n",
                "               UNION ALL\r\n",
                "               SELECT   R.spid ,\r\n",
                "                        R.blocked ,\r\n",
                "                        CAST (BLOCKERS.LEVEL\r\n",
                "                        + RIGHT(CAST (( 1000 + R.spid ) AS VARCHAR(100)), 4) AS VARCHAR(1000)) AS LEVEL ,\r\n",
                "                        R.BATCH\r\n",
                "               FROM     #T AS R\r\n",
                "                        INNER JOIN BLOCKERS ON R.blocked = BLOCKERS.SPID\r\n",
                "               WHERE    R.blocked > 0\r\n",
                "                        AND R.blocked <> R.spid\r\n",
                "             )\r\n",
                "    SELECT  N'    ' + REPLICATE(N'|         ', LEN(LEVEL) / 4 - 1)\r\n",
                "            + CASE WHEN ( LEN(LEVEL) / 4 - 1 ) = 0 THEN 'HEAD -  '\r\n",
                "                   ELSE '|------  '\r\n",
                "              END + CAST (SPID AS NVARCHAR(10)) + N' ' + BATCH AS BLOCKING_TREE\r\n",
                "    FROM    BLOCKERS\r\n",
                "    ORDER BY LEVEL ASC;\r\n",
                ""
            ],
            "metadata": {
                "azdata_cell_guid": "7bbd0598-7447-4d4c-bd3a-ae1b167ecdda"
            },
            "outputs": [],
            "execution_count": null
        }
    ]
}