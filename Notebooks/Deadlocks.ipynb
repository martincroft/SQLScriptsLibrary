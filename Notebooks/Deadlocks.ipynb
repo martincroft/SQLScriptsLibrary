{
    "metadata": {
        "kernelspec": {
            "name": "SQL",
            "display_name": "SQL",
            "language": "sql"
        },
        "language_info": {
            "name": "sql",
            "version": ""
        },
        "extensions": {
            "azuredatastudio": {
                "version": 1,
                "views": []
            }
        }
    },
    "nbformat_minor": 2,
    "nbformat": 4,
    "cells": [
        {
            "cell_type": "markdown",
            "source": [
                "## [Home](file:///C:/SQLScriptsLibrary/Home.ipynb)"
            ],
            "metadata": {
                "azdata_cell_guid": "333b441a-8874-40cd-947a-c35aad0d4639",
                "extensions": {
                    "azuredatastudio": {
                        "views": []
                    }
                }
            }
        },
        {
            "cell_type": "markdown",
            "source": [
                "# Deadlocks\r\n",
                "> - Create Deadlock Extented Event (Q1)\r\n",
                "> - (Q2)"
            ],
            "metadata": {
                "azdata_cell_guid": "abbd9690-41c7-430a-a403-c5ab23a17966"
            },
            "attachments": {}
        },
        {
            "cell_type": "markdown",
            "source": [
                "> - Create Deadlock Extented Event (Q1)"
            ],
            "metadata": {
                "azdata_cell_guid": "2794541e-1a8d-48d2-8acc-ab5d01f19732"
            },
            "attachments": {}
        },
        {
            "cell_type": "code",
            "source": [
                "/* Create Deadlock Extended Event */\r\n",
                "USE master\r\n",
                "GO\r\n",
                "\r\n",
                "--Event Session\r\n",
                "CREATE EVENT SESSION [deadlock_capture] ON SERVER \r\n",
                "\r\n",
                "--Events to track Lock_deadlock and Lock_deadlock_chain\r\n",
                "ADD EVENT sqlserver.lock_deadlock(\r\n",
                "    ACTION(sqlserver.sql_text)),\r\n",
                "ADD EVENT sqlserver.lock_deadlock_chain(\r\n",
                "    ACTION(sqlserver.sql_text)),\r\n",
                "ADD EVENT database_xml_deadlock_report (\r\n",
                "    ACTION(sqlserver.sql_text))\r\n",
                "-- TARGET to use, for this case, a file\r\n",
                "ADD TARGET package0.event_file(SET filename=N'deadlock_capture')\r\n",
                "\r\n",
                "--The event session advanced parameters, you can see that the event starts automatically\r\n",
                "WITH (MAX_MEMORY=4096 KB,EVENT_RETENTION_MODE=ALLOW_SINGLE_EVENT_LOSS,MAX_DISPATCH_LATENCY=30 \r\n",
                "SECONDS,MAX_EVENT_SIZE=0 KB,MEMORY_PARTITION_MODE=NONE,TRACK_CAUSALITY=OFF,STARTUP_STATE=ON)\r\n",
                "\r\n",
                "GO\r\n",
                "\r\n",
                "DROP EVENT SESSION [deadlock_capture] ON SERVER \r\n",
                "GO\r\n",
                "\r\n",
                ""
            ],
            "metadata": {
                "azdata_cell_guid": "9bffe1c8-ffa3-49c9-b1ac-96a54962ecec"
            },
            "outputs": [],
            "execution_count": null
        },
        {
            "cell_type": "markdown",
            "source": [
                "> - Create table for deadlock example (Q2.1)"
            ],
            "metadata": {
                "azdata_cell_guid": "a7057a24-f642-483f-a15d-99c78a6153dd"
            },
            "attachments": {}
        },
        {
            "cell_type": "code",
            "source": [
                "/* Create demo table */ \r\n",
                "CREATE TABLE tableA (ID INT,Value CHAR(10))\r\n",
                "INSERT INTO tableA VALUES(1,'C1')\r\n",
                "\r\n",
                "CREATE TABLE tableB (ID INT,Value CHAR(10))\r\n",
                "INSERT INTO tableB VALUES(1,'C2')\r\n",
                ""
            ],
            "metadata": {
                "azdata_cell_guid": "0330848e-3406-43a1-bc5e-7ee6962c9073"
            },
            "outputs": [
                {
                    "output_type": "display_data",
                    "data": {
                        "text/html": "(1 row affected)"
                    },
                    "metadata": {}
                },
                {
                    "output_type": "display_data",
                    "data": {
                        "text/html": "(1 row affected)"
                    },
                    "metadata": {}
                },
                {
                    "output_type": "display_data",
                    "data": {
                        "text/html": "Total execution time: 00:00:00.018"
                    },
                    "metadata": {}
                }
            ],
            "execution_count": 1
        },
        {
            "cell_type": "markdown",
            "source": [
                "> -Script A - Run in seperate session if in SSMS (Q2.1)"
            ],
            "metadata": {
                "azdata_cell_guid": "64dcdb45-7d3b-47a1-8faa-ff01279bfc75"
            },
            "attachments": {}
        },
        {
            "cell_type": "code",
            "source": [
                "USE MAster\r\n",
                "GO\r\n",
                "\r\n",
                "BEGIN TRAN\r\n",
                "\r\n",
                "UPDATE tableA\r\n",
                "set [value] = 'C1'\r\n",
                "WHERE id = 1\r\n",
                "\r\n",
                "WAITFOR DELAY '00:00:05'\r\n",
                "\r\n",
                "UPDATE tableB\r\n",
                "set [value] = 'C2'\r\n",
                "WHERE id = 1\r\n",
                "\r\n",
                "\r\n",
                "-- COMMIT"
            ],
            "metadata": {
                "azdata_cell_guid": "be5db393-4cd4-4d2b-8ff1-9ab5f1143318",
                "tags": []
            },
            "outputs": [
                {
                    "output_type": "display_data",
                    "data": {
                        "text/html": "Commands completed successfully."
                    },
                    "metadata": {}
                }
            ],
            "execution_count": 2
        },
        {
            "cell_type": "markdown",
            "source": [
                "> -Script A - Run in seperate session if in SSMS (Q2.2)"
            ],
            "metadata": {
                "azdata_cell_guid": "5a7c86c4-70c0-4471-88d2-d0c0e0979e4c"
            },
            "attachments": {}
        },
        {
            "cell_type": "code",
            "source": [
                "USE master\r\n",
                "GO\r\n",
                "BEGIN TRAN\r\n",
                "\r\n",
                "UPDATE tableB\r\n",
                "set [value] = 'C2'\r\n",
                "WHERE id = 1\r\n",
                "\r\n",
                "WAITFOR DELAY '00:00:05'\r\n",
                "\r\n",
                "UPDATE tableA\r\n",
                "set [value] = 'C1'\r\n",
                "WHERE id = 1\r\n",
                "\r\n",
                "--ROLLBACK"
            ],
            "metadata": {
                "azdata_cell_guid": "75d6764b-632d-49fb-8fb4-c5f7f6247692"
            },
            "outputs": [
                {
                    "output_type": "display_data",
                    "data": {
                        "text/html": "Commands completed successfully."
                    },
                    "metadata": {}
                },
                {
                    "output_type": "display_data",
                    "data": {
                        "text/html": "(1 row affected)"
                    },
                    "metadata": {}
                },
                {
                    "output_type": "display_data",
                    "data": {
                        "text/html": "(1 row affected)"
                    },
                    "metadata": {}
                },
                {
                    "output_type": "display_data",
                    "data": {
                        "text/html": "Total execution time: 00:00:05.012"
                    },
                    "metadata": {}
                }
            ],
            "execution_count": 4
        },
        {
            "cell_type": "markdown",
            "source": [
                "## [Home](file:///C:/SQLScriptsLibrary/Home.ipynb)"
            ],
            "metadata": {
                "azdata_cell_guid": "9bfedbb8-e963-4756-bf9c-ef9794e8b31e"
            }
        }
    ]
}