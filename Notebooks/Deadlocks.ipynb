{
    "metadata": {
        "kernelspec": {
            "name": "SQL",
            "display_name": "SQL",
            "language": "sql"
        },
        "language_info": {
            "name": "sql",
            "version": ""
        },
        "extensions": {
            "azuredatastudio": {
                "version": 1,
                "views": []
            }
        }
    },
    "nbformat_minor": 2,
    "nbformat": 4,
    "cells": [
        {
            "cell_type": "markdown",
            "source": [
                "## [Home](file:///C:/SQLScriptsLibrary/Home.ipynb)"
            ],
            "metadata": {
                "azdata_cell_guid": "333b441a-8874-40cd-947a-c35aad0d4639",
                "extensions": {
                    "azuredatastudio": {
                        "views": []
                    }
                }
            }
        },
        {
            "cell_type": "markdown",
            "source": [
                "# Deadlocks\n",
                "\n",
                "- Deadlocks"
            ],
            "metadata": {
                "azdata_cell_guid": "665be742-c206-406e-9482-48aa1ab69f6c"
            },
            "attachments": {}
        },
        {
            "cell_type": "markdown",
            "source": [
                "## [Home](file:///C:/SQLScriptsLibrary/Home.ipynb)"
            ],
            "metadata": {
                "azdata_cell_guid": "9bfedbb8-e963-4756-bf9c-ef9794e8b31e"
            }
        }
    ]
}