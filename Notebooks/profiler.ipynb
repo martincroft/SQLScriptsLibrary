{
    "metadata": {
        "kernelspec": {
            "name": "SQL",
            "display_name": "SQL",
            "language": "sql"
        },
        "language_info": {
            "name": "sql",
            "version": ""
        }
    },
    "nbformat_minor": 2,
    "nbformat": 4,
    "cells": [
        {
            "cell_type": "markdown",
            "source": [
                "## [Home](file:///C:/SQLScriptsLibrary/Home.ipynb)"
            ],
            "metadata": {
                "azdata_cell_guid": "1c62b4a4-3d5a-4b8b-a5fa-a8d43dcd006f"
            },
            "attachments": {}
        },
        {
            "cell_type": "markdown",
            "source": [
                "## Profiler Queries\r\n",
                "> - Start / Stop Traces (Q1)\r\n",
                "> - Get info from black box trace  (Q2)\r\n",
                "> - Get info from black box trace  -Connections and last request date (Q3)\r\n",
                "> - Get connect info from black box trace save to table (Q4)\n",
                "> - Create monitoring job, captures logins (initial occurance) and failed logins (each failed login) (Q5)"
            ],
            "metadata": {
                "azdata_cell_guid": "f3103b66-ad13-45b4-b8eb-f354ac253934"
            },
            "attachments": {}
        },
        {
            "cell_type": "markdown",
            "source": [
                "> - Start / Stop Traces  - Check what traces are running / stop / remove (Q1)"
            ],
            "metadata": {
                "azdata_cell_guid": "a933722c-693a-4012-8743-4ef21d2611c9"
            },
            "attachments": {}
        },
        {
            "cell_type": "code",
            "source": [
                "SELECT * FROM sys.traces\r\n",
                "\r\n",
                "--Stop\r\n",
                "EXEC sp_trace_setstatus @traceid=3, @status =0\r\n",
                "\r\n",
                "\r\n",
                "--remove \r\n",
                "EXEC sp_trace_setstatus @traceid=3, @status =2"
            ],
            "metadata": {
                "azdata_cell_guid": "13901c83-8cb0-46dd-a661-dcc8cb274d46"
            },
            "outputs": [],
            "execution_count": null
        },
        {
            "cell_type": "markdown",
            "source": [
                "> - Get info from black box trace  (Q2)"
            ],
            "metadata": {
                "azdata_cell_guid": "ffe13a17-e1dd-4b6a-9d38-b0b818a9131f"
            },
            "attachments": {}
        },
        {
            "cell_type": "code",
            "source": [
                "/*  01 Black box trace.sql */  \r\n",
                "--==========================================================================\r\n",
                "--Check blackbox / other SQL trace\r\n",
                "--==========================================================================\r\n",
                "declare @TraceIDToReview int\r\n",
                "declare @path varchar(255)\r\n",
                "\r\n",
                "SET @TraceIDToReview = 1 --this is the trace you want to review!\r\n",
                "SELECT @path = path from sys.traces WHERE id = @TraceIDToReview\r\n",
                "SELECT \r\n",
                "  TE.name As EventClassDescrip,\r\n",
                "  v.subclass_name As EventSubClassDescrip,\r\n",
                "T.*\r\n",
                "FROM ::fn_trace_gettable(@path, default) T\r\n",
                "LEFT OUTER JOIN sys.trace_events TE ON T.EventClass = TE.trace_event_id\r\n",
                "           LEFT OUTER JOIN sys.trace_subclass_values V\r\n",
                "             ON T.EventClass = V.trace_event_id AND  T.EventSubClass = V.subclass_value\r\n",
                ""
            ],
            "metadata": {
                "azdata_cell_guid": "63f48da0-6e73-461d-9ecb-4e14640dd5f7"
            },
            "outputs": [],
            "execution_count": null
        },
        {
            "cell_type": "markdown",
            "source": [
                "> - Get info from black box trace  -Connections and last request date (Q3)"
            ],
            "metadata": {
                "azdata_cell_guid": "ee518d79-3640-4987-825c-52946440575a"
            },
            "attachments": {}
        },
        {
            "cell_type": "code",
            "source": [
                "/*  01 Black box trace.sql - Last start time*/  \r\n",
                "DECLARE @path NVARCHAR(260)\r\n",
                "\r\n",
                "SELECT @path=path FROM sys.traces WHERE is_default = 1\r\n",
                "\r\n",
                "\r\n",
                "SELECT @@SERVERNAME [SQLServer], DT.DatabaseName, DT.ApplicationName, DT.LoginName,dt.[HostName], MAX([DT].[StartTime])Last_request_date_time\r\n",
                "FROM   master.dbo.fn_trace_gettable (@path,  DEFAULT) DT \r\n",
                "INNER JOIN master.sys.trace_events TE \r\n",
                "ON DT.EventClass = TE.trace_event_id \r\n",
                "WHERE [DT].[DatabaseID]>=5\r\n",
                "GROUP BY DT.DatabaseName , DT.ApplicationName, DT.LoginName ,dt.[HostName]\r\n",
                "ORDER BY DT.DatabaseName , DT.ApplicationName, DT.LoginName,dt.[HostName] \r\n",
                ""
            ],
            "metadata": {
                "azdata_cell_guid": "dd43effa-249f-4402-a443-61391ce625e0",
                "tags": []
            },
            "outputs": [],
            "execution_count": null
        },
        {
            "cell_type": "markdown",
            "source": [
                "> - Get connect info from black box trace save to table (Q4)"
            ],
            "metadata": {
                "azdata_cell_guid": "856114af-4cf7-4a3a-aa75-369a0cc7f25c"
            },
            "attachments": {}
        },
        {
            "cell_type": "code",
            "source": [
                "/* Logging trace to table.sql  */\r\n",
                "--==========================================================================\r\n",
                "--Check blackbox / other SQL trace\r\n",
                "--==========================================================================\r\n",
                "\r\n",
                "IF NOT EXISTS (SELECT name from Master.dbo.sysobjects where name ='DBALoginMonitoring')\r\n",
                "BEGIN\r\n",
                "\tCREATE TABLE Master.dbo.DBALoginMonitoring\r\n",
                "\t(\r\n",
                "\t\tID INT IDENTITY(1,1),\r\n",
                "\t\tLoginName SYSNAME,\r\n",
                "\t\tHostName SYSNAME,\r\n",
                "\t\tReportDate DATETIME\r\n",
                "\t)\r\n",
                "END \r\n",
                "\r\n",
                "\r\n",
                "DECLARE @TraceIDToReview int\r\n",
                "DECLARE @path varchar(255)\r\n",
                "\r\n",
                "SET @TraceIDToReview = 1\r\n",
                "--this is the trace you want to review!\r\n",
                "SELECT @path = path\r\n",
                "from sys.traces\r\n",
                "WHERE id = @TraceIDToReview\r\n",
                "\r\n",
                ";WITH\r\n",
                "    CTE_Blackbox\r\n",
                "    AS\r\n",
                "    (\r\n",
                "        SELECT DISTINCT\r\n",
                "            T.LoginName, T.HostName\r\n",
                "        FROM ::fn_trace_gettable(@path, default) T\r\n",
                "            LEFT OUTER JOIN sys.trace_events TE ON T.EventClass = TE.trace_event_id\r\n",
                "            LEFT OUTER JOIN sys.trace_subclass_values V\r\n",
                "            ON T.EventClass = V.trace_event_id AND T.EventSubClass = V.subclass_value\r\n",
                "        WHERE T.loginName iS NOT NULL\r\n",
                "    )\r\n",
                "\r\n",
                " INSERT INTO Master.dbo.DBALoginMonitoring\r\n",
                "    (\r\n",
                "        LoginName,\r\n",
                "        HostName,\r\n",
                "        ReportDate\r\n",
                "    )\r\n",
                "\r\n",
                "SELECT\r\n",
                "    b.LoginName,\r\n",
                "    COALESCE(b.HostName,@@ServerName) AS HostName,\r\n",
                "    GETDATE() AS ReportDate\r\n",
                "FROM CTE_blackbox b\r\n",
                "    LEFT JOIN dbo.DBALoginMonitoring l ON b.loginname =l.loginname and CASE WHEN b.LoginName='sa' THEN @@SERVERNAME ELSE b.hostname END =l.hostname\r\n",
                "WHERE \r\n",
                "     l.loginname IS NULL AND l.hostname IS NULL \r\n",
                "\r\n",
                "\r\n",
                "GO\r\n",
                "\r\n",
                "\r\n",
                "SELECT * FROM  Master.dbo.DBALoginMonitoring\r\n",
                ""
            ],
            "metadata": {
                "azdata_cell_guid": "63874ff3-cdb5-4869-8d7f-e6ca3e35c9fd"
            },
            "outputs": [],
            "execution_count": null
        },
        {
            "cell_type": "markdown",
            "source": [
                "> - Create monitoring job, captures logins (initial occurance) and failed logins (each failed login) (Q5)"
            ],
            "metadata": {
                "azdata_cell_guid": "0d51a325-1948-4d1d-86f3-a6f58713d736"
            },
            "attachments": {}
        },
        {
            "cell_type": "code",
            "source": [
                "-- Create User logging job and table (SECURITY).sql  #SQL\n",
                "Use master\n",
                "GO\n",
                "\n",
                "\n",
                "IF NOT EXISTS (SELECT name from master.dbo.sysobjects where name ='DBALoginMonitoring')\n",
                "BEGIN\n",
                "\tCREATE TABLE master.dbo.DBALoginMonitoring\n",
                "\t(\n",
                "\t\tID INT IDENTITY(1,1),\n",
                "\t\tLoginName SYSNAME,\n",
                "\t\tHostName SYSNAME,\n",
                "\t\tReportDate DATETIME,\n",
                "\t\tFailedLogin BIT DEFAULT(0)\n",
                "\t)\n",
                "END \n",
                "ELSE\n",
                "--Enhance to capture failed logins\n",
                "IF (SELECT 1 FROM syscolumns WHERE ID =OBJECT_ID('DBALoginMonitoring') AND Name ='FailedLogin') IS NULL\n",
                "BEGIN\n",
                "\tALTER TABLE master.dbo.DBALoginMonitoring ADD FailedLogin BIT DEFAULT(0) WITH VALUES\n",
                "END\n",
                "\n",
                "\n",
                "USE [msdb]\n",
                "GO\n",
                "\n",
                "IF EXISTS (SELECT 1 FROM msdb.dbo.sysjobs WHERE name =N'DBA Logging Monitoring Job')\n",
                "BEGIN\n",
                "\tEXEC msdb.dbo.sp_delete_job @job_name=N'DBA Logging Monitoring Job'\n",
                "END \n",
                "GO\n",
                "\n",
                "/****** Object:  Job [DBA Logging Monitoring Job]    Script Date: 18/03/2019 10:19:29 ******/\n",
                "BEGIN TRANSACTION\n",
                "DECLARE @ReturnCode INT\n",
                "SELECT @ReturnCode = 0\n",
                "/****** Object:  JobCategory [[Uncategorized (Local)]]    Script Date: 18/03/2019 10:19:29 ******/\n",
                "IF NOT EXISTS (SELECT name FROM msdb.dbo.syscategories WHERE name=N'[Uncategorized (Local)]' AND category_class=1)\n",
                "BEGIN\n",
                "EXEC @ReturnCode = msdb.dbo.sp_add_category @class=N'JOB', @type=N'LOCAL', @name=N'[Uncategorized (Local)]'\n",
                "IF (@@ERROR <> 0 OR @ReturnCode <> 0) GOTO QuitWithRollback\n",
                "\n",
                "END\n",
                "\n",
                "DECLARE @jobId BINARY(16)\n",
                "EXEC @ReturnCode =  msdb.dbo.sp_add_job @job_name=N'DBA Logging Monitoring Job', \n",
                "\t\t@enabled=1, \n",
                "\t\t@notify_level_eventlog=0, \n",
                "\t\t@notify_level_email=0, \n",
                "\t\t@notify_level_netsend=0, \n",
                "\t\t@notify_level_page=0, \n",
                "\t\t@delete_level=0, \n",
                "\t\t@description=N'Job to capture logins from blackbox trace for users loggining for analysis', \n",
                "\t\t@category_name=N'[Uncategorized (Local)]', \n",
                "\t\t@owner_login_name=N'sa', @job_id = @jobId OUTPUT\n",
                "IF (@@ERROR <> 0 OR @ReturnCode <> 0) GOTO QuitWithRollback\n",
                "/****** Object:  Step [Capture logins]    Script Date: 18/03/2019 10:19:30 ******/\n",
                "EXEC @ReturnCode = msdb.dbo.sp_add_jobstep @job_id=@jobId, @step_name=N'Capture logins', \n",
                "\t\t@step_id=1, \n",
                "\t\t@cmdexec_success_code=0, \n",
                "\t\t@on_success_action=1, \n",
                "\t\t@on_success_step_id=0, \n",
                "\t\t@on_fail_action=2, \n",
                "\t\t@on_fail_step_id=0, \n",
                "\t\t@retry_attempts=0, \n",
                "\t\t@retry_interval=0, \n",
                "\t\t@os_run_priority=0, @subsystem=N'TSQL', \n",
                "\t\t@command=N'--==========================================================================\n",
                "--Check blackbox / other SQL trace\n",
                "--==========================================================================\n",
                "\n",
                "\n",
                "\n",
                "DECLARE @TraceIDToReview int\n",
                "DECLARE @path varchar(255)\n",
                "\n",
                "SET @TraceIDToReview = 1\n",
                "--this is the trace you want to review!\n",
                "SELECT @path = path\n",
                "from sys.traces\n",
                "WHERE id = @TraceIDToReview\n",
                "\n",
                "\n",
                ";WITH\n",
                "    CTE_Blackbox\n",
                "    AS\n",
                "    (\n",
                "        SELECT DISTINCT\n",
                "        T.LoginName, COALESCE(T.HostName,''UNKNOWN'') AS HostName\n",
                "\t\t,EventClass\n",
                "\t\t,Starttime AS ReportDate\n",
                "        FROM ::fn_trace_gettable(@path, default) T\n",
                "            LEFT OUTER JOIN sys.trace_events TE ON T.EventClass = TE.trace_event_id\n",
                "            LEFT OUTER JOIN sys.trace_subclass_values V\n",
                "            ON T.EventClass = V.trace_event_id AND T.EventSubClass = V.subclass_value\n",
                "        WHERE T.loginName iS NOT NULL\n",
                "    )\n",
                "\n",
                "INSERT INTO master.dbo.DBALoginMonitoring\n",
                "   (\n",
                "       LoginName,\n",
                "       HostName,\n",
                "       ReportDate,\n",
                "\t   FailedLogin\n",
                "   )\n",
                "\n",
                "SELECT distinct\n",
                "    b.LoginName,\n",
                "    COALESCE(b.HostName,@@ServerName) AS HostName,\n",
                "    GETDATE() AS ReportDate,\n",
                "\t0 AS FailedLogin\n",
                "\n",
                "FROM CTE_blackbox b\n",
                "    LEFT JOIN dbo.DBALoginMonitoring l ON b.loginname =l.loginname and  b.hostname =l.hostname\n",
                "WHERE \n",
                "     l.loginname IS NULL AND l.hostname IS NULL AND EventClass!=20 \n",
                "\n",
                "UNION \n",
                "\n",
                "\n",
                "SELECT distinct\n",
                "    b.LoginName,\n",
                "    COALESCE(b.HostName,@@ServerName) AS HostName,\n",
                "    b.ReportDate,\n",
                "\t1  AS FailedLogin\n",
                "\t\n",
                "FROM CTE_blackbox b\n",
                "    LEFT JOIN dbo.DBALoginMonitoring l ON b.loginname =l.loginname and  b.hostname =l.hostname and b.ReportDate = l.ReportDate\n",
                "WHERE 1=1\n",
                "AND Eventclass =20\n",
                "\n",
                "  AND  (l.reportdate IS NULL or b.loginname IS NULL) ', \n",
                "\t\t@database_name=N'master', \n",
                "\t\t@flags=0\n",
                "IF (@@ERROR <> 0 OR @ReturnCode <> 0) GOTO QuitWithRollback\n",
                "EXEC @ReturnCode = msdb.dbo.sp_update_job @job_id = @jobId, @start_step_id = 1\n",
                "IF (@@ERROR <> 0 OR @ReturnCode <> 0) GOTO QuitWithRollback\n",
                "EXEC @ReturnCode = msdb.dbo.sp_add_jobschedule @job_id=@jobId, @name=N'Daily Hourly Scheduled', \n",
                "\t\t@enabled=1, \n",
                "\t\t@freq_type=4, \n",
                "\t\t@freq_interval=1, \n",
                "\t\t@freq_subday_type=8, \n",
                "\t\t@freq_subday_interval=1, \n",
                "\t\t@freq_relative_interval=0, \n",
                "\t\t@freq_recurrence_factor=0, \n",
                "\t\t@active_start_date=20190318, \n",
                "\t\t@active_end_date=99991231, \n",
                "\t\t@active_start_time=0, \n",
                "\t\t@active_end_time=235959, \n",
                "\t\t@schedule_uid=N'89d9b3e4-b417-4ea6-bc4c-7152a99b96ec'\n",
                "IF (@@ERROR <> 0 OR @ReturnCode <> 0) GOTO QuitWithRollback\n",
                "EXEC @ReturnCode = msdb.dbo.sp_add_jobserver @job_id = @jobId, @server_name = N'(local)'\n",
                "IF (@@ERROR <> 0 OR @ReturnCode <> 0) GOTO QuitWithRollback\n",
                "COMMIT TRANSACTION\n",
                "GOTO EndSave\n",
                "QuitWithRollback:\n",
                "    IF (@@TRANCOUNT > 0) ROLLBACK TRANSACTION\n",
                "EndSave:\n",
                "GO\n",
                "\n",
                "\n",
                "EXEC msdb.dbo.sp_start_job 'DBA Logging Monitoring Job'\n",
                "\n",
                "GO\n",
                "\n",
                "WAITFOR DELAY '00:00:05'\n",
                "\n",
                "\n",
                "SELECT LoginName,HostName,MAX(ReportDate) AS LastReportDate, COUNT(*) AS Total \n",
                "FROM master.dbo.DBALoginMonitoring\n",
                "WHERE FailedLogin=1\n",
                "GROUP BY LoginName,HostName\n",
                "ORDER BY 4 desc\n",
                "\n",
                "\n",
                "SELECT * \n",
                "FROM master.dbo.DBALoginMonitoring\n",
                "WHERE FailedLogin=1\n",
                "ORDER BY 1 desc\n",
                ""
            ],
            "metadata": {
                "azdata_cell_guid": "0bff6f52-1504-466c-a0e2-61104f0ca377"
            },
            "outputs": [
{
    "output_type": "display_data",
    "data": {
        "text/html": "Commands completed successfully."
    },
    "metadata": {}
}, {
    "output_type": "display_data",
    "data": {
        "text/html": "Commands completed successfully."
    },
    "metadata": {}
}, {
    "output_type": "display_data",
    "data": {
        "text/html": "Commands completed successfully."
    },
    "metadata": {}
}, {
    "output_type": "display_data",
    "data": {
        "text/html": "Commands completed successfully."
    },
    "metadata": {}
}, {
    "output_type": "display_data",
    "data": {
        "text/html": "Job 'DBA Logging Monitoring Job' started successfully."
    },
    "metadata": {}
}, {
    "output_type": "display_data",
    "data": {
        "text/html": "(1 row affected)"
    },
    "metadata": {}
}, {
    "output_type": "display_data",
    "data": {
        "text/html": "(4 rows affected)"
    },
    "metadata": {}
}, {
    "output_type": "display_data",
    "data": {
        "text/html": "Total execution time: 00:00:06.269"
    },
    "metadata": {}
}, {
    "output_type": "execute_result",
    "metadata": {},
    "execution_count": 6,
    "data": {
        "application/vnd.dataresource+json": {
            "schema": {
                "fields": [
                    {
                        "name": "LoginName"
                    },
                    {
                        "name": "HostName"
                    },
                    {
                        "name": "LastReportDate"
                    },
                    {
                        "name": "Total"
                    }
                ]
            },
            "data": [
                {
                    "0": "Jurgen\\marti",
                    "1": "JURGEN",
                    "2": "2022-02-28 15:26:30.203",
                    "3": "4"
                }
            ]
        },
        "text/html": [
            "<table>",
            "<tr><th>LoginName</th><th>HostName</th><th>LastReportDate</th><th>Total</th></tr>",
            "<tr><td>Jurgen\\marti</td><td>JURGEN</td><td>2022-02-28 15:26:30.203</td><td>4</td></tr>",
            "</table>"
        ]
    }
}, {
    "output_type": "execute_result",
    "metadata": {},
    "execution_count": 6,
    "data": {
        "application/vnd.dataresource+json": {
            "schema": {
                "fields": [
                    {
                        "name": "ID"
                    },
                    {
                        "name": "LoginName"
                    },
                    {
                        "name": "HostName"
                    },
                    {
                        "name": "ReportDate"
                    },
                    {
                        "name": "FailedLogin"
                    }
                ]
            },
            "data": [
                {
                    "0": "9",
                    "1": "Jurgen\\marti",
                    "2": "JURGEN",
                    "3": "2022-02-28 15:26:30.203",
                    "4": "1"
                },
                {
                    "0": "8",
                    "1": "Jurgen\\marti",
                    "2": "JURGEN",
                    "3": "2022-02-28 15:26:20.183",
                    "4": "1"
                },
                {
                    "0": "7",
                    "1": "Jurgen\\marti",
                    "2": "JURGEN",
                    "3": "2022-02-28 15:26:09.660",
                    "4": "1"
                },
                {
                    "0": "6",
                    "1": "Jurgen\\marti",
                    "2": "JURGEN",
                    "3": "2022-02-28 15:25:59.647",
                    "4": "1"
                }
            ]
        },
        "text/html": [
            "<table>",
            "<tr><th>ID</th><th>LoginName</th><th>HostName</th><th>ReportDate</th><th>FailedLogin</th></tr>",
            "<tr><td>9</td><td>Jurgen\\marti</td><td>JURGEN</td><td>2022-02-28 15:26:30.203</td><td>1</td></tr>",
            "<tr><td>8</td><td>Jurgen\\marti</td><td>JURGEN</td><td>2022-02-28 15:26:20.183</td><td>1</td></tr>",
            "<tr><td>7</td><td>Jurgen\\marti</td><td>JURGEN</td><td>2022-02-28 15:26:09.660</td><td>1</td></tr>",
            "<tr><td>6</td><td>Jurgen\\marti</td><td>JURGEN</td><td>2022-02-28 15:25:59.647</td><td>1</td></tr>",
            "</table>"
        ]
    }
}
],
            "execution_count": 6
        },
        {
            "cell_type": "markdown",
            "source": [
                "## [Home](file:///C:/SQLScriptsLibrary/Home.ipynb)"
            ],
            "metadata": {
                "azdata_cell_guid": "333b441a-8874-40cd-947a-c35aad0d4639"
            }
        }
    ]
}