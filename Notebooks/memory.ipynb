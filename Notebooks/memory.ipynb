{
    "metadata": {
        "kernelspec": {
            "name": "SQL",
            "display_name": "SQL",
            "language": "sql"
        },
        "language_info": {
            "name": "sql",
            "version": ""
        },
        "extensions": {
            "azuredatastudio": {
                "version": 1,
                "views": []
            }
        }
    },
    "nbformat_minor": 2,
    "nbformat": 4,
    "cells": [
        {
            "cell_type": "markdown",
            "source": [
                "## [Home](file:///C:/SQLScriptsLibrary/Home.ipynb)"
            ],
            "metadata": {
                "azdata_cell_guid": "333b441a-8874-40cd-947a-c35aad0d4639",
                "extensions": {
                    "azuredatastudio": {
                        "views": []
                    }
                }
            }
        },
        {
            "cell_type": "markdown",
            "source": [
                "# Memory\n",
                "\n",
                "> - Lock pages in memory (Q1)\n",
                "> - SQL Server memory (Q2)\n",
                "> - SQL Server memory grants (Q3)\n",
                "> - Page life expectancy (Q4)\n",
                "> - Set SQL Memory (Q5)"
            ],
            "metadata": {
                "azdata_cell_guid": "665be742-c206-406e-9482-48aa1ab69f6c"
            },
            "attachments": {}
        },
        {
            "cell_type": "markdown",
            "source": [
                "## Memory Queries\n",
                "> -   Lock pages in memory (Query 1)\n",
                ">   - Shows if locked pages in memory is set Locked_pages_used_Sqlserver_MB should be none zero"
            ],
            "metadata": {
                "azdata_cell_guid": "ae4e11d9-bd26-42cb-91a6-0fe942a8d9ca"
            },
            "attachments": {}
        },
        {
            "cell_type": "code",
            "source": [
                "/* Lock pages in memory */\r\n",
                "SELECT (physical_memory_in_use_kb / 1024) Memory_usedby_Sqlserver_MB,\r\n",
                "       (locked_page_allocations_kb / 1024) Locked_pages_used_Sqlserver_MB,\r\n",
                "       (total_virtual_address_space_kb / 1024) Total_VAS_in_MB,\r\n",
                "       process_physical_memory_low,\r\n",
                "       process_virtual_memory_low\r\n",
                "FROM sys.dm_os_process_memory;"
            ],
            "metadata": {
                "azdata_cell_guid": "e9d0b59d-b8e2-4f23-946b-ae3712f769da"
            },
            "outputs": [],
            "execution_count": null
        },
        {
            "cell_type": "markdown",
            "source": [
                "> -   SQL Server memory (Query 2)\r\n",
                ">   - Server memory sizes"
            ],
            "metadata": {
                "azdata_cell_guid": "d29ba4bc-0862-410c-96af-d27ee0cfcbfc"
            }
        },
        {
            "cell_type": "code",
            "source": [
                "/* Server memory sizes */\r\n",
                "SELECT @@servername AS srvName\r\n",
                "\t,SERVERPROPERTY('Edition') AS [Edition]\r\n",
                "\t,SERVERPROPERTY('ProductVersion') AS [ProductVersion]\r\n",
                "\t,SUBSTRING(CAST(@@VERSION AS SYSNAME), 1, CHARINDEX(')', CAST(@@VERSION AS SYSNAME))) AS 'Service pack'\r\n",
                "\t,SERVERPROPERTY('ProductLevel') AS [ProductLevel]\r\n",
                "\t,@@version AS Version\r\n",
                "\t,(\r\n",
                "\t\tSELECT CAST(value_in_use AS INT) / 1024\r\n",
                "\t\tFROM sys.configurations\r\n",
                "\t\tWHERE NAME = 'max server memory (MB)'\r\n",
                "\t\t) AS [SQL Memory GB]\r\n",
                "\t,CAST(ROUND((total_physical_memory_kb * 1.0 / 1024 / 1024), 0) AS INT) AS [Physical Memory (GB)]\r\n",
                "FROM sys.dm_os_sys_memory WITH (NOLOCK)\r\n",
                "OPTION (RECOMPILE);"
            ],
            "metadata": {
                "azdata_cell_guid": "8083df3b-7d02-4e53-8400-5508e33e5910",
                "tags": []
            },
            "outputs": [],
            "execution_count": null
        },
        {
            "cell_type": "markdown",
            "source": [
                "> -   SQL Server memory grants (Query 3)"
            ],
            "metadata": {
                "azdata_cell_guid": "58e1bb0b-a138-4930-b8dd-ca376ff430db"
            }
        },
        {
            "cell_type": "code",
            "source": [
                "/* Memory grants */\n",
                "SELECT DATEDIFF(ms, request_time, grant_time) AS TimeMS,*\n",
                "FROM sys.dm_exec_query_memory_grants;"
            ],
            "metadata": {
                "azdata_cell_guid": "320ec48e-48e7-4160-8478-eef9642277fd",
                "tags": []
            },
            "outputs": [],
            "execution_count": null
        },
        {
            "cell_type": "markdown",
            "source": [
                "> -   Page life expectancy (Query 4)"
            ],
            "metadata": {
                "azdata_cell_guid": "5a5e6251-0932-4b04-bd32-b9562591db5d"
            },
            "attachments": {}
        },
        {
            "cell_type": "code",
            "source": [
                "/* Page life expectancy */\n",
                "SELECT [object_name],\n",
                "[counter_name],\n",
                "[cntr_value] FROM sys.dm_os_performance_counters\n",
                "WHERE [object_name] LIKE '%Manager%'\n",
                "AND [counter_name] = 'Page life expectancy'"
            ],
            "metadata": {
                "azdata_cell_guid": "fb25198a-7954-49be-a133-177a7624b110",
                "tags": [
                    "hide_input"
                ]
            },
            "outputs": [],
            "execution_count": null
        },
        {
            "cell_type": "markdown",
            "source": [
                "> -   Set SQL Memory (Query 5)"
            ],
            "metadata": {
                "azdata_cell_guid": "8bdc4884-fd6f-4a3f-9fcf-042ee58872ad"
            }
        },
        {
            "cell_type": "code",
            "source": [
                "/* Set SQL Memory */\n",
                "EXEC sys.sp_configure 'max server memory (MB)', '117964'; RECONFIGURE  \n",
                ""
            ],
            "metadata": {
                "azdata_cell_guid": "f7ba79ce-547c-4d3c-b535-df357f365a95"
            },
            "outputs": [],
            "execution_count": null
        },
        {
            "cell_type": "markdown",
            "source": [
                "## [Home](file:///C:/SQLScriptsLibrary/Home.ipynb)"
            ],
            "metadata": {
                "azdata_cell_guid": "9bfedbb8-e963-4756-bf9c-ef9794e8b31e"
            }
        }
    ]
}