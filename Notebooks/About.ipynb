{
    "metadata": {
        "kernelspec": {
            "name": "SQL",
            "display_name": "SQL",
            "language": "sql"
        },
        "language_info": {
            "name": "sql",
            "version": ""
        },
        "extensions": {
            "azuredatastudio": {
                "version": 1,
                "views": []
            }
        }
    },
    "nbformat_minor": 2,
    "nbformat": 4,
    "cells": [
        {
            "cell_type": "markdown",
            "source": [
                "## [Home](file:///C:/SQLScriptsLibrary/Home.ipynb)"
            ],
            "metadata": {
                "azdata_cell_guid": "333b441a-8874-40cd-947a-c35aad0d4639",
                "extensions": {
                    "azuredatastudio": {
                        "views": []
                    }
                }
            }
        },
        {
            "cell_type": "markdown",
            "source": [
                "## DBA / Developer / Data Engineer / \\[Add own option\\] Script Library\n",
                "\n",
                "> - Some Stuff \n",
                "> - More Info \n",
                "> - Even More Info IP \n",
                ""
            ],
            "metadata": {
                "azdata_cell_guid": "99b98758-2dda-47db-9afa-e2507357cbb3"
            },
            "attachments": {}
        },
        {
            "cell_type": "markdown",
            "source": [
                "Disclaimer:\n",
                "\n",
                "All the scripts have been sourced over the years, written or borrowed from the internet, whereever I have known the source I have credited and also where possible linked back to the original URL, some I have tweated to suit my needs so they are not always like for like.  \n",
                "\n",
                "There are a lot cleverer people out there that me and they have saved me many an hour with a set of scripts that are easily accessible. These started as a couple of .sql files and grew. I have used the sp\\_DBA procedures in many customer sights and a few that have had no DBA's or accidental DBAs i have installed (as its so easier) obviously with the clients permission as they are I have found a useful resource.  A talk for SQL bits forced me into transferring all the .sql files into notebook, I don't exlusively use ADS as moving away from SSMS and the tools available within it. \n",
                "\n",
                "I don't offer any guarantees that the code is 100% correct as all things we are always evolving. If any one spots any issues or I haven't credit anyone correctly or at all please free free to contact me and I will correct. Twitter @MartinCroft Email@Martin.Croft@SQLServerSolutions.co.uk"
            ],
            "metadata": {
                "azdata_cell_guid": "545c6247-05db-4158-9f07-b3ca99fb1b0d"
            },
            "attachments": {}
        },
        {
            "cell_type": "markdown",
            "source": [
                "## [Home](file:///C:/SQLScriptsLibrary/Home.ipynb)"
            ],
            "metadata": {
                "azdata_cell_guid": "7fba0087-8d3b-495a-badb-af2da450522f"
            }
        }
    ]
}