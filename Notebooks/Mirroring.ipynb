{
    "metadata": {
        "kernelspec": {
            "name": "SQL",
            "display_name": "SQL",
            "language": "sql"
        },
        "language_info": {
            "name": "sql",
            "version": ""
        },
        "extensions": {
            "azuredatastudio": {
                "version": 1,
                "views": []
            }
        }
    },
    "nbformat_minor": 2,
    "nbformat": 4,
    "cells": [
        {
            "cell_type": "markdown",
            "source": [
                "## [Home](file:///C:/SQLScriptsLibrary/Home.ipynb)"
            ],
            "metadata": {
                "azdata_cell_guid": "333b441a-8874-40cd-947a-c35aad0d4639",
                "extensions": {
                    "azuredatastudio": {
                        "views": []
                    }
                }
            }
        },
        {
            "cell_type": "markdown",
            "source": [
                "## Mirroring\n",
                "\n",
                "-  Checks if Primary/Secondary or Principal/Mirror (works on all versions) (Query 1)\n",
                "-  Checks if Mirroring configured (Query 2)\n",
                "-  Mirroring information, Database, state, partner info (Query 3)"
            ],
            "metadata": {
                "azdata_cell_guid": "99b98758-2dda-47db-9afa-e2507357cbb3"
            },
            "attachments": {}
        },
        {
            "cell_type": "code",
            "source": [
                "/* Primary/Secondary or Mirroring Principle or Mirror.sql  #SQL */\r\n",
                "\r\n",
                "GO\r\n",
                "DECLARE @SQLServerInstanceVersion INT\r\n",
                "SELECT  @SQLServerInstanceVersion=FLOOR(SUBSTRING(CAST(SERVERPROPERTY('ProductVersion')AS VARCHAR(10)),1,4)) \r\n",
                "\r\n",
                "\r\n",
                "IF (@SQLServerInstanceVersion < 11)\r\n",
                "EXEC('\r\n",
                "SELECT @@ServerName AS ServerName\r\n",
                "\t,a.NAME\r\n",
                "\t,COALESCE(b.mirroring_role_desc, '''') AS mirroring_role_desc\r\n",
                "FROM sys.databases a\r\n",
                "LEFT JOIN sys.database_mirroring b ON a.database_id = b.database_id\r\n",
                "WHERE Name NOT IN(''master'',''1_Admin'',''1_Admin_Mirror_Data'',''model'',''msdb'',''tempdb'',''DBATools'')\r\n",
                "')\r\n",
                "\r\n",
                "ELSE\r\n",
                "EXEC('\r\n",
                "SELECT \r\n",
                "\t@@SERVERNAME AS serverName\r\n",
                "\t,d.name \r\n",
                ",(CASE \r\n",
                "\t\t\r\n",
                "\t\tWHEN is_primary_replica IS NULL\r\n",
                "\t\tTHEN ''''\r\n",
                "\t\tWHEN is_primary_replica = 1\r\n",
                "\t\t\tTHEN ''PRIMARY''\r\n",
                "\t\tWHEN is_primary_replica = 0\r\n",
                "\t\tTHEN''SECONDARY''\r\n",
                "\t\tEND) AS mirroring_role_desc\r\n",
                "FROM Master.sys.databases d\r\n",
                "LEFT JOIN master.sys.dm_hadr_database_replica_states r ON d.database_id = r.database_id AND database_state_desc = ''ONLINE''\r\n",
                "WHERE a.Name NOT IN(''master'',''1_Admin'',''1_Admin_Mirror_Data'',''model'',''msdb'',''tempdb'',''DBATools'')\r\n",
                "')\r\n",
                "\r\n",
                ""
            ],
            "metadata": {
                "azdata_cell_guid": "55be2e49-cc92-42dd-b492-22c212d0042f"
            },
            "outputs": [],
            "execution_count": null
        },
        {
            "cell_type": "markdown",
            "source": [
                "- #2 Checks if Mirroring configured  (Query 2)"
            ],
            "metadata": {
                "azdata_cell_guid": "9276d6b2-e3f7-45f4-b54c-e03a55cb1daf"
            }
        },
        {
            "cell_type": "code",
            "source": [
                "/*Checks if Mirroring configured  #SQL */\r\n",
                "SELECT A.NAME\r\n",
                "\t,CASE \r\n",
                "\t\tWHEN B.mirroring_state IS NULL\r\n",
                "\t\t\tTHEN 'Mirroring not configured'\r\n",
                "\t\tELSE 'Mirroring configured'\r\n",
                "\t\tEND AS MirroringState\r\n",
                "FROM sys.databases A\r\n",
                "INNER JOIN sys.database_mirroring B ON A.database_id = B.database_id\r\n",
                "WHERE a.database_id > 4\r\n",
                "ORDER BY A.NAME"
            ],
            "metadata": {
                "azdata_cell_guid": "0265b81e-32d6-48d7-a95a-2d9c9572a440"
            },
            "outputs": [],
            "execution_count": null
        },
        {
            "cell_type": "markdown",
            "source": [
                "## [Home](file:///C:/SQLScriptsLibrary/Home.ipynb)"
            ],
            "metadata": {
                "azdata_cell_guid": "7fba0087-8d3b-495a-badb-af2da450522f"
            }
        },
        {
            "cell_type": "markdown",
            "source": [
                "- #2 Mirroring information, Database, state, partner info  (Query 3)"
            ],
            "metadata": {
                "azdata_cell_guid": "e475979e-4c87-4c7f-960f-a72d712b92c7"
            },
            "attachments": {}
        },
        {
            "cell_type": "code",
            "source": [
                "/* Mirroring information, Database, state, partner*/\r\n",
                "SELECT @@SERVERNAME AS ServerName\r\n",
                "\t,database_id\r\n",
                "\t,d.NAME\r\n",
                "\t,mirroring_partner_name\r\n",
                "\t,mirroring_witness_name\r\n",
                "\t,mirroring_guid\r\n",
                "\t,mirroring_state\r\n",
                "\t,mirroring_state_desc\r\n",
                "\t,mirroring_role\r\n",
                "\t,mirroring_role_desc\r\n",
                "\t,mirroring_role_sequence\r\n",
                "\t,mirroring_safety_level\r\n",
                "\t,mirroring_safety_level_desc\r\n",
                "\t,mirroring_safety_sequence\r\n",
                "\t,mirroring_partner_instance\r\n",
                "\t,mirroring_witness_state\r\n",
                "\t,mirroring_witness_state_desc\r\n",
                "\t,mirroring_failover_lsn\r\n",
                "\t,mirroring_connection_timeout\r\n",
                "\t,mirroring_redo_queue\r\n",
                "\t,mirroring_redo_queue_type\r\n",
                "\t,mirroring_end_of_log_lsn\r\n",
                "\t,mirroring_replication_lsn\r\n",
                "FROM sys.database_mirroring m\r\n",
                "JOIN master.dbo.sysdatabases d ON m.database_id = d.dbid"
            ],
            "metadata": {
                "azdata_cell_guid": "d0f8a3f4-1125-45e7-b604-8747578ee42b"
            },
            "outputs": [],
            "execution_count": null
        }
    ]
}