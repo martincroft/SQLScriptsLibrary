{
    "metadata": {
        "kernelspec": {
            "name": "SQL",
            "display_name": "SQL",
            "language": "sql"
        },
        "language_info": {
            "name": "sql",
            "version": ""
        },
        "extensions": {
            "azuredatastudio": {
                "version": 1,
                "views": []
            }
        }
    },
    "nbformat_minor": 2,
    "nbformat": 4,
    "cells": [
        {
            "cell_type": "markdown",
            "source": [
                "![sql-1](https://user-images.githubusercontent.com/30621653/90228819-cd178300-de0e-11ea-888b-9c7a220a4e77.png)\r\n",
                "![ps](https://user-images.githubusercontent.com/30621653/90229106-43b48080-de0f-11ea-84ac-fcd9ff027afe.png)"
            ],
            "metadata": {
                "azdata_cell_guid": "9b58d843-b779-465d-b72a-40cca3f4f5e3",
                "extensions": {
                    "azuredatastudio": {
                        "views": []
                    }
                }
            }
        },
        {
            "cell_type": "markdown",
            "source": [
                "# Contents\n",
                "\n",
                "**Notebooks**\n",
                "\n",
                "> - [Availability Groups](file:///C:/sqlscriptslibrary/Notebooks/AG.ipynb)\n",
                "> - [Azure](file:///C:/SQLScriptsLibrary/Notebooks/Azure.ipynb)\n",
                "> - Brent Ozar \n",
                "> - [blocking Scripts](file:///C:/SQLScriptsLibrary/Notebooks/Blocking.ipynb)\n",
                "> - Backups\n",
                "> - Capacity\n",
                "> - DBA Procedure\n",
                "> - DBA Stand alone code\n",
                "> - Extended Properties\n",
                "> - [Mirroring Scripts](file:///C:/SQLScriptsLibrary/Notebooks/Mirroring.ipynb)"
            ],
            "metadata": {
                "azdata_cell_guid": "514a7955-1dfa-4260-9130-b713e4bb5a8f"
            },
            "attachments": {}
        },
        {
            "cell_type": "markdown",
            "source": [
                "# [Template (for new pages)](file:///C:/SQLScriptsLibrary/Notebooks/Template.ipynb) \r\n",
                ""
            ],
            "metadata": {
                "azdata_cell_guid": "38f0d1a0-d941-4210-ad2f-838ddd595ffd",
                "extensions": {
                    "azuredatastudio": {
                        "views": []
                    }
                }
            }
        },
        {
            "cell_type": "markdown",
            "source": [
                "# [Auditing Scripts](file:///C:/SQLScriptsLibrary/Notebooks/Auditing.ipynb)\r\n",
                "> -   Auditing Tables (Query 1) - \r\n",
                "> -   Audit Job Changes (Query 2) -"
            ],
            "metadata": {
                "azdata_cell_guid": "01da0bbb-1abc-4b78-b1e5-93d763e42cde"
            }
        },
        {
            "cell_type": "markdown",
            "source": [
                "# [Azure Scripts](file:///C:/SQLScriptsLibrary/Notebooks/Azure.ipynb)\r\n",
                "> -    (Query 1) - \r\n",
                "> -    (Query 2) -"
            ],
            "metadata": {
                "azdata_cell_guid": "485088d7-063b-48a0-9aed-f4ef35cf1f81"
            }
        },
        {
            "cell_type": "markdown",
            "source": [
                "# [Availability Groups](file:///C:/SQLScriptsLibrary/Notebooks/AG.ipynb \"file:///C:/SQLScriptsLibrary/Notebooks/AG.ipynb\")\n",
                "> -   Check role (Query 1)\n",
                ">   - Database States(Query 2)\n",
                ">   - Determine when nodes have chaneged roles(Query 3)\n",
                ">   - Last 5 seconds health status (Query 4)\n",
                ">   - Query ALways on Health extended event(Query 5)\n",
                ">   - Availability info, database, roles, state, recovery times, redo information (Query 6)\n",
                ">   - Overview of AG health - Glenn Berry Script- (Query 7)\n",
                ">   - History State change- (Query 8)\n",
                ">   - Listener Info\n",
                ">       - Listener Info- (Query 9.1)\n",
                ">       - Listener Info IP Address- (Query 9.2)\n",
                ">       - Listener Info IP TCP listener States- (Query 9.3)"
            ],
            "metadata": {
                "azdata_cell_guid": "a3c9ecb6-e459-4cfb-ac63-b3677329a8d1",
                "extensions": {
                    "azuredatastudio": {
                        "views": []
                    }
                }
            }
        },
        {
            "cell_type": "markdown",
            "source": [
                "# [Azure Scripts](file:///C:/SQLScriptsLibrary/Notebooks/Azure.ipynb)"
            ],
            "metadata": {
                "azdata_cell_guid": "a253a55f-57dd-465d-b572-97626c3b88a5"
            }
        },
        {
            "cell_type": "markdown",
            "source": [
                "# [Brent Scripts](file:///C:/SQLScriptsLibrary/Notebooks/Brent.ipynb)"
            ],
            "metadata": {
                "azdata_cell_guid": "643ae5df-a39e-47cc-bd81-10552ce2f5c7"
            }
        },
        {
            "cell_type": "markdown",
            "source": [
                "# [Blocking Scripts](file:///C:/SQLScriptsLibrary/Notebooks/Blocking.ipynb)\r\n",
                "> -   Find Lead blocker (Query 1) - If blocking will show what spids are blocking other spids\r\n",
                "> -   (Query 2)"
            ],
            "metadata": {
                "azdata_cell_guid": "2550d2ba-7d80-4dd4-aaf0-9e12fae76323"
            }
        },
        {
            "cell_type": "markdown",
            "source": [
                "# [Backups Scripts](file:///C:/SQLScriptsLibrary/Notebooks/Backups.ipynb)"
            ],
            "metadata": {
                "azdata_cell_guid": "e5ba7b15-ee64-4122-b81d-1e9d839a2a77",
                "extensions": {
                    "azuredatastudio": {
                        "views": []
                    }
                }
            }
        },
        {
            "cell_type": "markdown",
            "source": [
                "# [Capacity](file:///C:/SQLScriptsLibrary/Notebooks/Capacity.ipynb)"
            ],
            "metadata": {
                "azdata_cell_guid": "951c9515-7ca7-4050-9aaa-6b41bec6b28f",
                "extensions": {
                    "azuredatastudio": {
                        "views": []
                    }
                }
            }
        },
        {
            "cell_type": "markdown",
            "source": [
                "# [Central Management Server](file:///C:/SQLScriptsLibrary/Notebooks/CMS.ipynb)"
            ],
            "metadata": {
                "azdata_cell_guid": "f4545da2-0742-4f9e-a2f7-e94eef21493c"
            }
        },
        {
            "cell_type": "markdown",
            "source": [
                "# [CPU Scripts](file:///C:/SQLScriptsLibrary/Notebooks/CPU.ipynb)\r\n",
                "> -    (Query 1) - \r\n",
                "> -    (Query 2) -"
            ],
            "metadata": {
                "azdata_cell_guid": "28066acc-19d0-48b1-b0af-32091462ab45"
            }
        },
        {
            "cell_type": "markdown",
            "source": [
                "# [DBA Procedures](file:///C:/SQLScriptsLibrary/Notebooks/DBAProcedures.ipynb)\n",
                "> **DBA Procedures**\n",
                "> - Details of index statistics, seeks, scans etc (Query 1)\n",
                "> - Details of missing index statistics, seeks, scans etc(Query 2)\n",
                "> - Find blocking information (Query 3)\n",
                "> - Find details of procedure stats (Query 4)"
            ],
            "metadata": {
                "azdata_cell_guid": "9cb53e58-993f-40ae-9f72-aa2916ab68be",
                "extensions": {
                    "azuredatastudio": {
                        "views": []
                    }
                }
            }
        },
        {
            "cell_type": "markdown",
            "source": [
                "# [Email Scripts](file:///C:/SQLScriptsLibrary/Notebooks/Email.ipynb)\r\n",
                "> -    (Query 1) - \r\n",
                "> -    (Query 2) -"
            ],
            "metadata": {
                "azdata_cell_guid": "e43742fb-6d7f-4dd7-ae5b-bf43a05cd6ae"
            }
        },
        {
            "cell_type": "markdown",
            "source": [
                "# [Deadlock Scripts](file:///C:/SQLScriptsLibrary/Notebooks/Deadlocks.ipynb)"
            ],
            "metadata": {
                "azdata_cell_guid": "9e8fb3b7-2f0e-4c7d-b7b7-1b49024fccc2"
            }
        },
        {
            "cell_type": "markdown",
            "source": [
                "# [Demo Scripts](file:///C:/SQLScriptsLibrary/Notebooks/Demo.ipynb)\r\n",
                "> -    (Query 1) - \r\n",
                "> -    (Query 2) -"
            ],
            "metadata": {
                "azdata_cell_guid": "cedcc79e-e3c6-4a9f-8e61-c034972a87c1"
            }
        },
        {
            "cell_type": "markdown",
            "source": [
                "# [Emails Scripts](file:///C:/SQLScriptsLibrary/Notebooks/Emails.ipynb)\r\n",
                "> -    (Query 1) - \r\n",
                "> -    (Query 2) -"
            ],
            "metadata": {
                "azdata_cell_guid": "17279f1d-1ed5-4c8b-916c-63a6ca4b288c"
            }
        },
        {
            "cell_type": "markdown",
            "source": [
                "# [ExtendedEvents](file:///C:/SQLScriptsLibrary/Notebooks/ExtendedEvents.ipynb)\r\n",
                "> **Queries**\r\n",
                "> - (Query 1)\r\n",
                ""
            ],
            "metadata": {
                "azdata_cell_guid": "d7f05eec-47a2-4724-9c62-fef3185ce0c8"
            }
        },
        {
            "cell_type": "markdown",
            "source": [
                "# [ExtendedProperties](file:///C:/SQLScriptsLibrary/Notebooks/ExtendedPropertys.ipynb)\r\n",
                "> **Queries**\r\n",
                "> - List Extended properties for all databases (Query 1)\r\n",
                "> - Generate Extended properties for all databases on server (Query 2)\r\n",
                "\r\n",
                ""
            ],
            "metadata": {
                "azdata_cell_guid": "d6b5acc1-7931-4167-9b95-2520dcc8bb96"
            }
        },
        {
            "cell_type": "markdown",
            "source": [
                "# [Memory](file:///C:/SQLScriptsLibrary/Notebooks/Memory.ipynb)\r\n",
                "\r\n",
                "> -   Lock pages in memory (Query 1)\r\n",
                "> -   SQL Server memory    (Query 2)\r\n",
                "> -   SQL Server memory grants (Query 3)\r\n",
                "> -   Page life expectancy (Query 4)\r\n",
                "> -   Set SQL Memory (Query 5)"
            ],
            "metadata": {
                "azdata_cell_guid": "498b72e8-d56c-4a54-9d6c-ce69177d5031"
            }
        },
        {
            "cell_type": "markdown",
            "source": [
                "# [FullText Scripts](file:///C:/SQLScriptsLibrary/Notebooks/FullText.ipynb)\r\n",
                "> -    (Query 1) - \r\n",
                "> -    (Query 2) -"
            ],
            "metadata": {
                "azdata_cell_guid": "625dbb91-f456-47f5-8770-039e3ce62b9b"
            }
        },
        {
            "cell_type": "markdown",
            "source": [
                "# [LinkedServers Scripts](file:///C:/SQLScriptsLibrary/Notebooks/LinkedServers.ipynb)\r\n",
                "> -    (Query 1) - \r\n",
                "> -    (Query 2) -"
            ],
            "metadata": {
                "azdata_cell_guid": "3451205c-65bf-471e-8645-69dc6053f71f"
            }
        },
        {
            "cell_type": "markdown",
            "source": [
                "# [Log Shipping Scripts](file:///C:/SQLScriptsLibrary/Notebooks/LogShipping.ipynb)\r\n",
                "> -    (Query 1) - \r\n",
                "> -    (Query 2) -"
            ],
            "metadata": {
                "azdata_cell_guid": "a5b47f6c-3c69-43f1-8392-a7b33d059530"
            }
        },
        {
            "cell_type": "markdown",
            "source": [
                "# [Memory Scripts](file:///C:/SQLScriptsLibrary/Notebooks/Memory.ipynb)\r\n",
                "> -    (Query 1) - \r\n",
                "> -    (Query 2) -"
            ],
            "metadata": {
                "azdata_cell_guid": "42fc6d06-77bf-4e7f-92f7-022b7f812c2d"
            }
        },
        {
            "cell_type": "markdown",
            "source": [
                "# [Mirroring Scripts](file:///C:/SQLScriptsLibrary/Notebooks/Mirroring.ipynb)\r\n",
                "> -    (Query 1) - \r\n",
                "> -    (Query 2) -"
            ],
            "metadata": {
                "azdata_cell_guid": "7c6271cb-d123-4336-b0a4-dde792aab641"
            }
        },
        {
            "cell_type": "markdown",
            "source": [
                "# [Profiler](file:///C:/SQLScriptsLibrary/Notebooks/profiler.ipynb)"
            ],
            "metadata": {
                "azdata_cell_guid": "b5b3abff-a336-4797-bee1-d310c19e1b0c",
                "extensions": {
                    "azuredatastudio": {
                        "views": []
                    }
                }
            }
        },
        {
            "cell_type": "markdown",
            "source": [
                "# [ReportingServices](file:///C:/SQLScriptsLibrary/Notebooks/ReportingServices.ipynb \"file:///C:/SQLScriptsLibrary/Notebooks/ReportingServices.ipynb\")\n",
                "\n",
                "> -   List subscription information (Query 1)\n",
                "> -   Report Execution Stats (Query 2)\n",
                "> -   Datasource Reports - Datasource details, report path, report name (Query 3) \n",
                "> -   Report run details(Query 4)\n",
                "> -   Report definitions (Query 5)\n",
                "> -   Report data source locations (Query 6)  "
            ],
            "metadata": {
                "azdata_cell_guid": "a856b399-d709-42af-a955-1a3569a62dbb",
                "extensions": {
                    "azuredatastudio": {
                        "views": []
                    }
                }
            }
        },
        {
            "cell_type": "markdown",
            "source": [
                "# [Snapshots](file:///C:/SQLScriptsLibrary/Notebooks/Snapshots.ipynb)\n",
                "\n",
                "> **snapshot information**\n",
                "> - List Snapshots and parent database (Query 1)\n",
                "> - Snapshot sizes (Query 2)\n",
                ""
            ],
            "metadata": {
                "azdata_cell_guid": "9e934e32-db9c-4271-bcc2-1f9044530909"
            },
            "attachments": {}
        },
        {
            "cell_type": "markdown",
            "source": [
                "# [Ola Scripts](file:///C:/SQLScriptsLibrary/Notebooks/Ola.ipynb)\r\n",
                "> -    (Query 1) - \r\n",
                "> -    (Query 2) -"
            ],
            "metadata": {
                "azdata_cell_guid": "7e1d91a3-9d43-4103-8ff5-72d1c90ec8b7"
            }
        },
        {
            "cell_type": "markdown",
            "source": [
                "# [SQL jobs Scripts](file:///C:/SQLScriptsLibrary/Notebooks/SQLJobs.ipynb)\n",
                "\n",
                "> **Job information**\n",
                "> - List Jobs enabled, disabled by Name (Query 1)\n",
                " - Job history (Query 2)\n",
                "- Fix Orphaned users  (Query 3)"
            ],
            "metadata": {
                "azdata_cell_guid": "647f2faa-2a7a-4704-8533-b3fa6641acea",
                "extensions": {
                    "azuredatastudio": {
                        "views": []
                    }
                }
            }
        },
        {
            "cell_type": "markdown",
            "source": [
                "# [QueryStore Scripts](file:///C:/SQLScriptsLibrary/Notebooks/QureyStore.ipynb)\n",
                "> -    (Query 1) - \n",
                "> -    (Query 2) -"
            ],
            "metadata": {
                "azdata_cell_guid": "08b21ed2-ede9-4468-994f-f4eb4e40ded0"
            }
        },
        {
            "cell_type": "markdown",
            "source": [
                "# [Ports Scripts](file:///C:/SQLScriptsLibrary/Notebooks/Ports.ipynb)\r\n",
                "> -    (Query 1) - \r\n",
                "> -    (Query 2) -"
            ],
            "metadata": {
                "azdata_cell_guid": "5e1e0458-dce3-4a05-bd5e-3b102b1162c5"
            }
        },
        {
            "cell_type": "markdown",
            "source": [
                "# [Useful Queries](file:///C:/SQLScriptsLibrary/Notebooks/useful.ipynb)\r\n",
                "> **Useful Queries**\n",
                "> - Query Settings (Query 1)\n",
                "> - SQL Server installation date (Query 2)\n",
                "> - SQL Server installation date -version (Query 2.1)\n",
                "> - Find blocking information (Query 3)\n",
                "> - Find details of procedure stats (Query 4)\r\n",
                ""
            ],
            "metadata": {
                "azdata_cell_guid": "8b28d92b-9b27-4ee7-8c9a-e6ea34008d20",
                "extensions": {
                    "azuredatastudio": {
                        "views": []
                    }
                }
            }
        }
    ]
}